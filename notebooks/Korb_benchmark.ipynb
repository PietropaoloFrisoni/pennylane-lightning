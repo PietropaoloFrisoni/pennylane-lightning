{
 "cells": [
  {
   "cell_type": "code",
   "execution_count": 1,
   "metadata": {},
   "outputs": [
    {
     "name": "stderr",
     "output_type": "stream",
     "text": [
      "/home/pietropaolo.frisoni/anaconda3/envs/PennyLane/lib/python3.9/site-packages/cotengra/hyperoptimizers/hyper.py:34: UserWarning: Couldn't import `kahypar` - skipping from default hyper optimizer and using basic `labels` method instead.\n",
      "  warnings.warn(\n"
     ]
    }
   ],
   "source": [
    "import pennylane as qml\n",
    "import pennylane.numpy as np\n",
    "\n",
    "from time import time\n",
    "\n",
    "import matplotlib.pyplot as plt\n",
    "\n",
    "from pennylane_lightning.lightning_tensor import LightningTensor\n",
    "\n",
    "from datetime import datetime\n"
   ]
  },
  {
   "cell_type": "code",
   "execution_count": 2,
   "metadata": {},
   "outputs": [],
   "source": [
    "def create_fun(n, depth, mode=\"state\"):\n",
    "    if mode == \"mps\":\n",
    "        dev = LightningTensor(wires=qml.wires.Wires(range(n)))\n",
    "    if mode == \"default\":\n",
    "        dev = qml.device(\"default.qubit\", wires=qml.wires.Wires(range(n)))\n",
    "\n",
    "    def circuit(params):\n",
    "        for i in range(n):\n",
    "            qml.X(i)\n",
    "        for ell in range(depth):\n",
    "            for i in range(n-1):\n",
    "                qml.CNOT(wires=[i, i+1])\n",
    "            for i in range(n):\n",
    "                qml.RX(params[ell, i], i)\n",
    "        for i in range(n-1):\n",
    "            qml.CNOT(wires=[i, i+1])\n",
    "        return qml.expval(qml.Z(0))\n",
    "\n",
    "    qnode = qml.QNode(circuit, dev)\n",
    "\n",
    "    return qnode"
   ]
  },
  {
   "cell_type": "code",
   "execution_count": 3,
   "metadata": {},
   "outputs": [],
   "source": [
    "def _timeit(callable, *args, reps=3):\n",
    "    # callable.clear_cache()\n",
    "\n",
    "    jittime0 = time()\n",
    "    res0 = callable(*args)\n",
    "    dt_jit = time() - jittime0 \n",
    "\n",
    "    dts = []\n",
    "    for k in range(reps):\n",
    "        t0 = time()\n",
    "        resi = callable(*args)\n",
    "        dt = time() - t0\n",
    "\n",
    "        dts.append(dt)\n",
    "    \n",
    "    return dt_jit, np.mean(dts), np.std(dts)"
   ]
  },
  {
   "cell_type": "code",
   "execution_count": 4,
   "metadata": {},
   "outputs": [],
   "source": [
    "modes = [\"mps\", \"default\"]"
   ]
  },
  {
   "cell_type": "code",
   "execution_count": 5,
   "metadata": {},
   "outputs": [
    {
     "name": "stdout",
     "output_type": "stream",
     "text": [
      "mode: mps - 1 / 18, n_wires = 2\n",
      "mode: mps - 2 / 18, n_wires = 3\n",
      "mode: mps - 3 / 18, n_wires = 4\n",
      "mode: mps - 4 / 18, n_wires = 5\n",
      "mode: mps - 5 / 18, n_wires = 6\n",
      "mode: mps - 6 / 18, n_wires = 7\n",
      "mode: mps - 7 / 18, n_wires = 8\n",
      "mode: mps - 8 / 18, n_wires = 9\n",
      "mode: mps - 9 / 18, n_wires = 10\n",
      "mode: mps - 10 / 18, n_wires = 11\n",
      "mode: mps - 11 / 18, n_wires = 12\n",
      "mode: mps - 12 / 18, n_wires = 13\n",
      "mode: mps - 13 / 18, n_wires = 14\n",
      "mode: mps - 14 / 18, n_wires = 15\n",
      "mode: mps - 15 / 18, n_wires = 16\n",
      "mode: mps - 16 / 18, n_wires = 17\n",
      "mode: mps - 17 / 18, n_wires = 18\n",
      "mode: mps - 18 / 18, n_wires = 19\n",
      "mode: default - 1 / 18, n_wires = 2\n",
      "mode: default - 2 / 18, n_wires = 3\n",
      "mode: default - 3 / 18, n_wires = 4\n",
      "mode: default - 4 / 18, n_wires = 5\n",
      "mode: default - 5 / 18, n_wires = 6\n",
      "mode: default - 6 / 18, n_wires = 7\n",
      "mode: default - 7 / 18, n_wires = 8\n",
      "mode: default - 8 / 18, n_wires = 9\n",
      "mode: default - 9 / 18, n_wires = 10\n",
      "mode: default - 10 / 18, n_wires = 11\n",
      "mode: default - 11 / 18, n_wires = 12\n",
      "mode: default - 12 / 18, n_wires = 13\n",
      "mode: default - 13 / 18, n_wires = 14\n",
      "mode: default - 14 / 18, n_wires = 15\n",
      "mode: default - 15 / 18, n_wires = 16\n",
      "mode: default - 16 / 18, n_wires = 17\n",
      "mode: default - 17 / 18, n_wires = 18\n",
      "mode: default - 18 / 18, n_wires = 19\n"
     ]
    }
   ],
   "source": [
    "n_wiress = np.arange(2, 20) # sizes to iterate over\n",
    "\n",
    "datan = {}\n",
    "\n",
    "for mode in modes:\n",
    "    dt_jit = []\n",
    "    dtss = []\n",
    "    ddtss = []\n",
    "    for i, n_wires in enumerate(n_wiress):\n",
    "        depth = 20\n",
    "\n",
    "        callable_ = create_fun(n_wires, depth, mode=mode)\n",
    "\n",
    "        theta = np.random.rand(depth, n_wires)\n",
    "\n",
    "        a, b, c = _timeit(callable_, theta)\n",
    "        dt_jit.append(a)\n",
    "        dtss.append(b)\n",
    "        ddtss.append(c)\n",
    "\n",
    "        print(f\"mode: {mode} - {i+1} / {len(n_wiress)}, n_wires = {n_wires}\")\n",
    "\n",
    "    datan[mode] = dict(dtss=dtss, ddtss=ddtss, dt_jit=dt_jit, n_wiress=n_wiress)"
   ]
  },
  {
   "cell_type": "code",
   "execution_count": 6,
   "metadata": {},
   "outputs": [],
   "source": [
    "# datan"
   ]
  },
  {
   "cell_type": "code",
   "execution_count": 7,
   "metadata": {},
   "outputs": [],
   "source": [
    "def expfit(x, y):\n",
    "    y = np.log(y)\n",
    "    coeff = np.polyfit(x, y, 1) # y=c1 e^(c0 x) => logy = c0 x + log(c1)\n",
    "    return coeff"
   ]
  },
  {
   "cell_type": "code",
   "execution_count": 8,
   "metadata": {},
   "outputs": [
    {
     "name": "stdout",
     "output_type": "stream",
     "text": [
      "data/2024-05-06 20:50:38.682740\n"
     ]
    }
   ],
   "source": [
    "name = f\"data/{datetime.now()}\"\n",
    "print(name)"
   ]
  },
  {
   "cell_type": "code",
   "execution_count": 9,
   "metadata": {},
   "outputs": [],
   "source": [
    "np.savez(name, **datan)"
   ]
  },
  {
   "cell_type": "code",
   "execution_count": null,
   "metadata": {},
   "outputs": [],
   "source": []
  },
  {
   "cell_type": "code",
   "execution_count": 10,
   "metadata": {},
   "outputs": [],
   "source": [
    "# here you can re-load an older benchmark result\n",
    "# name = data/2024-05-06 17:40:01.596466\n",
    "data = np.load(name + \".npz\", allow_pickle=True)"
   ]
  },
  {
   "cell_type": "code",
   "execution_count": 11,
   "metadata": {},
   "outputs": [],
   "source": [
    "plot_modes = data.files"
   ]
  },
  {
   "cell_type": "code",
   "execution_count": 12,
   "metadata": {},
   "outputs": [],
   "source": [
    "fig, axs = plt.subplots(ncols=2, figsize=(7,4), sharey=True)\n",
    "color = [\"tab:blue\", \"tab:orange\", \"tab:green\", \"black\", \"blue\"] * 5\n",
    "ax = axs[0]\n",
    "for i, mode in enumerate(plot_modes):\n",
    "    dat = data[mode].item()\n",
    "    x, y = dat[\"n_wiress\"][:], dat[\"dtss\"][:]\n",
    "    coeff = expfit(x, y)\n",
    "    fit_string = f\" {np.exp(coeff[1]):.2e} e^({coeff[0]:.2e} N)\"\n",
    "    ax.errorbar(dat[\"n_wiress\"], dat[\"dtss\"], dat[\"ddtss\"], fmt=\"x:\", label=mode, color=color[i])\n",
    "    ax.plot(x, np.exp(coeff[1])*np.exp(coeff[0]*x), color=color[i], label=fit_string, alpha=0.5)\n",
    "ax.set_yscale(\"log\")\n",
    "ax.set_ylabel(\"wallclock time\")\n",
    "ax.set_xlabel(\"N\")\n",
    "ax.legend(bbox_to_anchor=(0.5, 1), loc=\"lower center\")\n",
    "\n",
    "ax = axs[1]\n",
    "for i, mode in enumerate(plot_modes):\n",
    "    dat = data[mode].item()\n",
    "    x, y = dat[\"n_wiress\"][:], dat[\"dt_jit\"][:]\n",
    "    coeff = expfit(x, y)\n",
    "    fit_string = f\" {np.exp(coeff[1]):.2e} e^({coeff[0]:.2e} N)\"\n",
    "    ax.plot(dat[\"n_wiress\"], dat[\"dt_jit\"], \"x:\", color=color[i])\n",
    "    ax.plot(x, np.exp(coeff[1])*np.exp(coeff[0]*x), color=color[i], label=fit_string, alpha=0.5)\n",
    "ax.legend(bbox_to_anchor=(0.5, 1), loc=\"lower center\")\n",
    "ax.set_yscale(\"log\")\n",
    "ax.set_ylabel(\"first execution time\")\n",
    "ax.set_xlabel(\"N\")\n",
    "\n",
    "plt.savefig(\"plot_name.png\")  # Change \"plot_name.png\" to the desired file name and format\n",
    "plt.close()  # Close the plot to free up resources"
   ]
  },
  {
   "attachments": {},
   "cell_type": "markdown",
   "metadata": {},
   "source": [
    "Are the results the same?"
   ]
  },
  {
   "cell_type": "code",
   "execution_count": 13,
   "metadata": {},
   "outputs": [],
   "source": [
    "n_wires=n_wiress[-1]\n",
    "\n",
    "theta = np.random.rand(depth, n_wires)\n",
    "\n",
    "mps_res = create_fun(n_wires, depth, mode=\"mps\")(theta)\n",
    "default_res = create_fun(n_wires, depth, mode=\"default\")(theta)\n"
   ]
  },
  {
   "cell_type": "code",
   "execution_count": 14,
   "metadata": {},
   "outputs": [
    {
     "data": {
      "text/plain": [
       "(-0.014337792400989202, tensor(-0.01433779, requires_grad=True))"
      ]
     },
     "execution_count": 14,
     "metadata": {},
     "output_type": "execute_result"
    }
   ],
   "source": [
    "mps_res, default_res"
   ]
  },
  {
   "cell_type": "code",
   "execution_count": 15,
   "metadata": {},
   "outputs": [
    {
     "data": {
      "text/plain": [
       "tensor([ 2,  3,  4,  5,  6,  7,  8,  9, 10, 11, 12, 13, 14, 15, 16, 17,\n",
       "        18, 19], requires_grad=True)"
      ]
     },
     "execution_count": 15,
     "metadata": {},
     "output_type": "execute_result"
    }
   ],
   "source": [
    "n_wiress"
   ]
  },
  {
   "cell_type": "code",
   "execution_count": null,
   "metadata": {},
   "outputs": [],
   "source": []
  }
 ],
 "metadata": {
  "kernelspec": {
   "display_name": "pennylane",
   "language": "python",
   "name": "python3"
  },
  "language_info": {
   "codemirror_mode": {
    "name": "ipython",
    "version": 3
   },
   "file_extension": ".py",
   "mimetype": "text/x-python",
   "name": "python",
   "nbconvert_exporter": "python",
   "pygments_lexer": "ipython3",
   "version": "3.9.7"
  },
  "orig_nbformat": 4,
  "vscode": {
   "interpreter": {
    "hash": "9686d7135c507acf535d05158d41b23f151b7f97a7a59cb8e05a88553ea2b8de"
   }
  }
 },
 "nbformat": 4,
 "nbformat_minor": 2
}
