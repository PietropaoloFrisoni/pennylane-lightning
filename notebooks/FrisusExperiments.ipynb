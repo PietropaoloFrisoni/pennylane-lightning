{
 "cells": [
  {
   "cell_type": "markdown",
   "metadata": {},
   "source": [
    "# Understanding the execution flow from `LightningQubit`"
   ]
  },
  {
   "cell_type": "code",
   "execution_count": 1,
   "metadata": {},
   "outputs": [
    {
     "name": "stderr",
     "output_type": "stream",
     "text": [
      "/home/pietropaolo.frisoni/anaconda3/envs/PennyLane/lib/python3.9/site-packages/cotengra/hyperoptimizers/hyper.py:34: UserWarning: Couldn't import `kahypar` - skipping from default hyper optimizer and using basic `labels` method instead.\n",
      "  warnings.warn(\n"
     ]
    }
   ],
   "source": [
    "from typing import Iterable, Union\n",
    "import quimb.tensor as qtn\n",
    "import pennylane as qml\n",
    "from pennylane.wires import Wires\n",
    "import numpy as np"
   ]
  },
  {
   "cell_type": "markdown",
   "metadata": {},
   "source": [
    "## Approach 1: choosing a tape"
   ]
  },
  {
   "cell_type": "code",
   "execution_count": 2,
   "metadata": {},
   "outputs": [],
   "source": [
    "theta = 0.1\n",
    "phi = 0.2\n",
    "\n",
    "O1 = qml.Identity(wires=[0])\n",
    "O2 = qml.PauliZ(wires=[1])\n",
    "\n",
    "ops = [\n",
    "    qml.DoubleExcitation(phi, wires=[7, 0, 3, 2]),\n",
    "    qml.PauliX(wires=[0]),\n",
    "    qml.RX(theta, wires=[0]),\n",
    "    qml.RX(phi, wires=[1]),\n",
    "    qml.CNOT(wires=[3, 4]),\n",
    "    qml.DoubleExcitation(phi, wires=[1, 2, 3, 4]),\n",
    "    qml.qml.CSWAP(wires=[0, 1, 2]),\n",
    "    qml.Hadamard(wires=[4]),\n",
    "    qml.qml.CSWAP(wires=[2, 3, 4]),\n",
    "    qml.CNOT(wires=[2, 4]),\n",
    "    qml.DoubleExcitation(phi, wires=[0, 1, 3, 4]),\n",
    "]\n",
    "\n",
    "meas = [\n",
    "    qml.expval(O2),\n",
    "    qml.expval(O2),\n",
    "    qml.var(qml.PauliY(wires=[2])),\n",
    "    qml.expval(O1),\n",
    "    qml.var(qml.PauliY(wires=[4])),\n",
    "]\n",
    "\n",
    "\n",
    "tape = qml.tape.QuantumScript(ops=ops, measurements=meas)"
   ]
  },
  {
   "cell_type": "code",
   "execution_count": 3,
   "metadata": {},
   "outputs": [
    {
     "data": {
      "text/plain": [
       "<Wires = [7, 0, 3, 2, 1, 4]>"
      ]
     },
     "execution_count": 3,
     "metadata": {},
     "output_type": "execute_result"
    }
   ],
   "source": [
    "tape.wires"
   ]
  },
  {
   "cell_type": "code",
   "execution_count": 4,
   "metadata": {},
   "outputs": [
    {
     "data": {
      "text/plain": [
       "[DoubleExcitation(0.2, wires=[7, 0, 3, 2]),\n",
       " X(0),\n",
       " RX(0.1, wires=[0]),\n",
       " RX(0.2, wires=[1]),\n",
       " CNOT(wires=[3, 4]),\n",
       " DoubleExcitation(0.2, wires=[1, 2, 3, 4]),\n",
       " CSWAP(wires=[0, 1, 2]),\n",
       " Hadamard(wires=[4]),\n",
       " CSWAP(wires=[2, 3, 4]),\n",
       " CNOT(wires=[2, 4]),\n",
       " DoubleExcitation(0.2, wires=[0, 1, 3, 4])]"
      ]
     },
     "execution_count": 4,
     "metadata": {},
     "output_type": "execute_result"
    }
   ],
   "source": [
    "tape.operations"
   ]
  },
  {
   "cell_type": "code",
   "execution_count": 5,
   "metadata": {},
   "outputs": [
    {
     "data": {
      "text/plain": [
       "[Z(1), Z(1), Y(2), I(0), Y(4)]"
      ]
     },
     "execution_count": 5,
     "metadata": {},
     "output_type": "execute_result"
    }
   ],
   "source": [
    "tape.observables"
   ]
  },
  {
   "cell_type": "code",
   "execution_count": 6,
   "metadata": {},
   "outputs": [
    {
     "data": {
      "text/plain": [
       "[expval(Z(1)), expval(Z(1)), var(Y(2)), expval(I(0)), var(Y(4))]"
      ]
     },
     "execution_count": 6,
     "metadata": {},
     "output_type": "execute_result"
    }
   ],
   "source": [
    "tape.measurements"
   ]
  },
  {
   "cell_type": "code",
   "execution_count": 7,
   "metadata": {},
   "outputs": [
    {
     "data": {
      "text/plain": [
       "<Wires = [7, 0, 3, 2, 1, 4]>"
      ]
     },
     "execution_count": 7,
     "metadata": {},
     "output_type": "execute_result"
    }
   ],
   "source": [
    "tape.wires"
   ]
  },
  {
   "cell_type": "code",
   "execution_count": 8,
   "metadata": {},
   "outputs": [
    {
     "name": "stdout",
     "output_type": "stream",
     "text": [
      "Frisus log: execute called with:\n",
      "execution_config=ExecutionConfig(grad_on_execution=None, use_device_gradient=None, use_device_jacobian_product=None, gradient_method=None, gradient_keyword_arguments={}, device_options={}, interface=None, derivative_order=1)\n",
      "circuits=(<QuantumScript: wires=[7, 0, 3, 2, 1, 4], params=5>,)\n",
      "\n"
     ]
    },
    {
     "data": {
      "text/plain": [
       "(0.9999502079587257, 0.9999502079587257, 0.9901818584603551, 1.0, 1.0)"
      ]
     },
     "execution_count": 8,
     "metadata": {},
     "output_type": "execute_result"
    }
   ],
   "source": [
    "dev = qml.device(\"lightning.qubit\", wires=tape.wires)\n",
    "\n",
    "dev.execute(circuits=tape)"
   ]
  },
  {
   "cell_type": "code",
   "execution_count": null,
   "metadata": {},
   "outputs": [],
   "source": []
  },
  {
   "cell_type": "code",
   "execution_count": null,
   "metadata": {},
   "outputs": [],
   "source": []
  },
  {
   "cell_type": "markdown",
   "metadata": {},
   "source": [
    "## Learning from `LightningQubit` using Python API"
   ]
  },
  {
   "cell_type": "code",
   "execution_count": 9,
   "metadata": {},
   "outputs": [],
   "source": [
    "from pennylane_lightning.lightning_qubit import LightningQubit"
   ]
  },
  {
   "cell_type": "code",
   "execution_count": 10,
   "metadata": {},
   "outputs": [],
   "source": [
    "obj = LightningQubit(wires=tape.wires)"
   ]
  },
  {
   "cell_type": "code",
   "execution_count": 11,
   "metadata": {},
   "outputs": [
    {
     "data": {
      "text/plain": [
       "<pennylane.tracker.Tracker at 0x771606cc7850>"
      ]
     },
     "execution_count": 11,
     "metadata": {},
     "output_type": "execute_result"
    }
   ],
   "source": [
    "obj.tracker"
   ]
  },
  {
   "cell_type": "code",
   "execution_count": 12,
   "metadata": {},
   "outputs": [
    {
     "name": "stdout",
     "output_type": "stream",
     "text": [
      "Frisus log: execute called with:\n",
      "execution_config=ExecutionConfig(grad_on_execution=None, use_device_gradient=None, use_device_jacobian_product=None, gradient_method=None, gradient_keyword_arguments={}, device_options={}, interface=None, derivative_order=1)\n",
      "circuits=(<QuantumScript: wires=[7, 0, 3, 2, 1, 4], params=5>,)\n",
      "\n"
     ]
    },
    {
     "data": {
      "text/plain": [
       "(0.9999502079587257, 0.9999502079587257, 0.9901818584603551, 1.0, 1.0)"
      ]
     },
     "execution_count": 12,
     "metadata": {},
     "output_type": "execute_result"
    }
   ],
   "source": [
    "obj.execute(tape)"
   ]
  },
  {
   "cell_type": "code",
   "execution_count": null,
   "metadata": {},
   "outputs": [],
   "source": []
  },
  {
   "cell_type": "code",
   "execution_count": null,
   "metadata": {},
   "outputs": [],
   "source": []
  },
  {
   "cell_type": "markdown",
   "metadata": {},
   "source": [
    "## Testing `LightningTensor` "
   ]
  },
  {
   "cell_type": "code",
   "execution_count": 13,
   "metadata": {},
   "outputs": [],
   "source": [
    "wires = tape.wires\n",
    "backend = \"quimb\"\n",
    "method = \"mps\"\n",
    "c_dtype = np.complex128\n",
    "max_bond_dim = None\n",
    "cutoff = 0.0"
   ]
  },
  {
   "cell_type": "code",
   "execution_count": 14,
   "metadata": {},
   "outputs": [],
   "source": [
    "from pennylane_lightning.lightning_tensor import LightningTensor"
   ]
  },
  {
   "cell_type": "code",
   "execution_count": 15,
   "metadata": {},
   "outputs": [],
   "source": [
    "obj = LightningTensor(\n",
    "    wires=wires,\n",
    "    backend=backend,\n",
    "    method=method,\n",
    "    c_dtype=c_dtype,\n",
    "    max_bond_dim=max_bond_dim,\n",
    "    cutoff=cutoff,\n",
    ")"
   ]
  },
  {
   "cell_type": "code",
   "execution_count": 16,
   "metadata": {},
   "outputs": [
    {
     "data": {
      "text/html": [
       "<samp style='font-size: 12px;'><details><summary><b style=\"color: #d75692;\">MatrixProductState</b>(tensors=6, indices=11, L=6, max_bond=2)</summary><samp style='font-size: 12px;'><details><summary><b style=\"color: #e55471;\">Tensor</b>(shape=(<b style=\"color: #45ce3d;\">1</b>, <b style=\"color: #828fdd;\">2</b>), inds=[<b style=\"color: #47ddd9;\">_9127b7AAAAA</b>, <b style=\"color: #b1dc61;\">k0</b>], tags={<b style=\"color: #74d649;\">0</b>, <b style=\"color: #45ce3d;\">1</b>, <b style=\"color: #828fdd;\">2</b>, <b style=\"color: #8a5bcf;\">3</b>, <b style=\"color: #80d749;\">4</b>, <b style=\"color: #7355d7;\">5</b>, <b style=\"color: #d2b137;\">I0</b>, <b style=\"color: #d3b991;\">PSI0</b>}),</summary>backend=<b style=\"color: #7fdd73;\">numpy</b>, dtype=<b style=\"color: #443ce1;\">complex128</b>, data=array([[1.+0.j, 0.+0.j]])</details></samp><samp style='font-size: 12px;'><details><summary><b style=\"color: #e55471;\">Tensor</b>(shape=(<b style=\"color: #45ce3d;\">1</b>, <b style=\"color: #45ce3d;\">1</b>, <b style=\"color: #828fdd;\">2</b>), inds=[<b style=\"color: #47ddd9;\">_9127b7AAAAA</b>, <b style=\"color: #68e088;\">_9127b7AAAAB</b>, <b style=\"color: #8aa5db;\">k1</b>], tags={<b style=\"color: #74d649;\">0</b>, <b style=\"color: #45ce3d;\">1</b>, <b style=\"color: #828fdd;\">2</b>, <b style=\"color: #8a5bcf;\">3</b>, <b style=\"color: #80d749;\">4</b>, <b style=\"color: #7355d7;\">5</b>, <b style=\"color: #d19b78;\">I1</b>, <b style=\"color: #d3b991;\">PSI0</b>}),</summary>backend=<b style=\"color: #7fdd73;\">numpy</b>, dtype=<b style=\"color: #443ce1;\">complex128</b>, data=array([[[1.+0.j, 0.+0.j]]])</details></samp><samp style='font-size: 12px;'><details><summary><b style=\"color: #e55471;\">Tensor</b>(shape=(<b style=\"color: #45ce3d;\">1</b>, <b style=\"color: #45ce3d;\">1</b>, <b style=\"color: #828fdd;\">2</b>), inds=[<b style=\"color: #68e088;\">_9127b7AAAAB</b>, <b style=\"color: #df7898;\">_9127b7AAAAC</b>, <b style=\"color: #df546d;\">k2</b>], tags={<b style=\"color: #74d649;\">0</b>, <b style=\"color: #45ce3d;\">1</b>, <b style=\"color: #828fdd;\">2</b>, <b style=\"color: #8a5bcf;\">3</b>, <b style=\"color: #80d749;\">4</b>, <b style=\"color: #7355d7;\">5</b>, <b style=\"color: #dd5dd7;\">I2</b>, <b style=\"color: #d3b991;\">PSI0</b>}),</summary>backend=<b style=\"color: #7fdd73;\">numpy</b>, dtype=<b style=\"color: #443ce1;\">complex128</b>, data=array([[[1.+0.j, 0.+0.j]]])</details></samp><samp style='font-size: 12px;'><details><summary><b style=\"color: #e55471;\">Tensor</b>(shape=(<b style=\"color: #45ce3d;\">1</b>, <b style=\"color: #45ce3d;\">1</b>, <b style=\"color: #828fdd;\">2</b>), inds=[<b style=\"color: #df7898;\">_9127b7AAAAC</b>, <b style=\"color: #68d4aa;\">_9127b7AAAAD</b>, <b style=\"color: #4c7be1;\">k3</b>], tags={<b style=\"color: #74d649;\">0</b>, <b style=\"color: #45ce3d;\">1</b>, <b style=\"color: #828fdd;\">2</b>, <b style=\"color: #8a5bcf;\">3</b>, <b style=\"color: #80d749;\">4</b>, <b style=\"color: #7355d7;\">5</b>, <b style=\"color: #dd65d9;\">I3</b>, <b style=\"color: #d3b991;\">PSI0</b>}),</summary>backend=<b style=\"color: #7fdd73;\">numpy</b>, dtype=<b style=\"color: #443ce1;\">complex128</b>, data=array([[[1.+0.j, 0.+0.j]]])</details></samp><samp style='font-size: 12px;'><details><summary><b style=\"color: #e55471;\">Tensor</b>(shape=(<b style=\"color: #45ce3d;\">1</b>, <b style=\"color: #45ce3d;\">1</b>, <b style=\"color: #828fdd;\">2</b>), inds=[<b style=\"color: #68d4aa;\">_9127b7AAAAD</b>, <b style=\"color: #ce8f58;\">_9127b7AAAAE</b>, <b style=\"color: #462edc;\">k4</b>], tags={<b style=\"color: #74d649;\">0</b>, <b style=\"color: #45ce3d;\">1</b>, <b style=\"color: #828fdd;\">2</b>, <b style=\"color: #8a5bcf;\">3</b>, <b style=\"color: #80d749;\">4</b>, <b style=\"color: #7355d7;\">5</b>, <b style=\"color: #998ad1;\">I4</b>, <b style=\"color: #d3b991;\">PSI0</b>}),</summary>backend=<b style=\"color: #7fdd73;\">numpy</b>, dtype=<b style=\"color: #443ce1;\">complex128</b>, data=array([[[1.+0.j, 0.+0.j]]])</details></samp><samp style='font-size: 12px;'><details><summary><b style=\"color: #e55471;\">Tensor</b>(shape=(<b style=\"color: #45ce3d;\">1</b>, <b style=\"color: #828fdd;\">2</b>), inds=[<b style=\"color: #ce8f58;\">_9127b7AAAAE</b>, <b style=\"color: #85dfdf;\">k5</b>], tags={<b style=\"color: #74d649;\">0</b>, <b style=\"color: #45ce3d;\">1</b>, <b style=\"color: #828fdd;\">2</b>, <b style=\"color: #8a5bcf;\">3</b>, <b style=\"color: #80d749;\">4</b>, <b style=\"color: #7355d7;\">5</b>, <b style=\"color: #97dddc;\">I5</b>, <b style=\"color: #d3b991;\">PSI0</b>}),</summary>backend=<b style=\"color: #7fdd73;\">numpy</b>, dtype=<b style=\"color: #443ce1;\">complex128</b>, data=array([[1.+0.j, 0.+0.j]])</details></samp></details></samp>"
      ],
      "text/plain": [
       "MatrixProductState(tensors=6, indices=11, L=6, max_bond=2)"
      ]
     },
     "execution_count": 16,
     "metadata": {},
     "output_type": "execute_result"
    }
   ],
   "source": [
    "obj._interface.state"
   ]
  },
  {
   "cell_type": "code",
   "execution_count": 17,
   "metadata": {},
   "outputs": [],
   "source": [
    "#obj._interface._circuitMPS.get_psi_reverse_lightcone(3)"
   ]
  },
  {
   "cell_type": "code",
   "execution_count": 18,
   "metadata": {},
   "outputs": [],
   "source": [
    "#type(obj._setup_execution_config())"
   ]
  },
  {
   "cell_type": "code",
   "execution_count": 19,
   "metadata": {},
   "outputs": [],
   "source": [
    "#program, config = obj.preprocess()"
   ]
  },
  {
   "cell_type": "code",
   "execution_count": 20,
   "metadata": {},
   "outputs": [],
   "source": [
    "#config.device_options"
   ]
  },
  {
   "cell_type": "code",
   "execution_count": 21,
   "metadata": {},
   "outputs": [
    {
     "ename": "ValueError",
     "evalue": "shape-mismatch for sum",
     "output_type": "error",
     "traceback": [
      "\u001b[0;31m---------------------------------------------------------------------------\u001b[0m",
      "\u001b[0;31mValueError\u001b[0m                                Traceback (most recent call last)",
      "Cell \u001b[0;32mIn[21], line 1\u001b[0m\n\u001b[0;32m----> 1\u001b[0m \u001b[43mobj\u001b[49m\u001b[38;5;241;43m.\u001b[39;49m\u001b[43mexecute\u001b[49m\u001b[43m(\u001b[49m\u001b[43mcircuits\u001b[49m\u001b[38;5;241;43m=\u001b[39;49m\u001b[43mtape\u001b[49m\u001b[43m)\u001b[49m\n",
      "File \u001b[0;32m~/anaconda3/envs/PennyLane/lib/python3.9/site-packages/PennyLane-0.36.0.dev0-py3.9.egg/pennylane/devices/modifiers/simulator_tracking.py:30\u001b[0m, in \u001b[0;36m_track_execute.<locals>.execute\u001b[0;34m(self, circuits, execution_config)\u001b[0m\n\u001b[1;32m     28\u001b[0m \u001b[38;5;129m@wraps\u001b[39m(untracked_execute)\n\u001b[1;32m     29\u001b[0m \u001b[38;5;28;01mdef\u001b[39;00m \u001b[38;5;21mexecute\u001b[39m(\u001b[38;5;28mself\u001b[39m, circuits, execution_config\u001b[38;5;241m=\u001b[39mDefaultExecutionConfig):\n\u001b[0;32m---> 30\u001b[0m     results \u001b[38;5;241m=\u001b[39m \u001b[43muntracked_execute\u001b[49m\u001b[43m(\u001b[49m\u001b[38;5;28;43mself\u001b[39;49m\u001b[43m,\u001b[49m\u001b[43m \u001b[49m\u001b[43mcircuits\u001b[49m\u001b[43m,\u001b[49m\u001b[43m \u001b[49m\u001b[43mexecution_config\u001b[49m\u001b[43m)\u001b[49m\n\u001b[1;32m     31\u001b[0m     \u001b[38;5;28;01mif\u001b[39;00m \u001b[38;5;28misinstance\u001b[39m(circuits, QuantumScript):\n\u001b[1;32m     32\u001b[0m         batch \u001b[38;5;241m=\u001b[39m (circuits,)\n",
      "File \u001b[0;32m~/anaconda3/envs/PennyLane/lib/python3.9/site-packages/PennyLane-0.36.0.dev0-py3.9.egg/pennylane/devices/modifiers/single_tape_support.py:32\u001b[0m, in \u001b[0;36m_make_execute.<locals>.execute\u001b[0;34m(self, circuits, execution_config)\u001b[0m\n\u001b[1;32m     30\u001b[0m     is_single_circuit \u001b[38;5;241m=\u001b[39m \u001b[38;5;28;01mTrue\u001b[39;00m\n\u001b[1;32m     31\u001b[0m     circuits \u001b[38;5;241m=\u001b[39m (circuits,)\n\u001b[0;32m---> 32\u001b[0m results \u001b[38;5;241m=\u001b[39m \u001b[43mbatch_execute\u001b[49m\u001b[43m(\u001b[49m\u001b[38;5;28;43mself\u001b[39;49m\u001b[43m,\u001b[49m\u001b[43m \u001b[49m\u001b[43mcircuits\u001b[49m\u001b[43m,\u001b[49m\u001b[43m \u001b[49m\u001b[43mexecution_config\u001b[49m\u001b[43m)\u001b[49m\n\u001b[1;32m     33\u001b[0m \u001b[38;5;28;01mreturn\u001b[39;00m results[\u001b[38;5;241m0\u001b[39m] \u001b[38;5;28;01mif\u001b[39;00m is_single_circuit \u001b[38;5;28;01melse\u001b[39;00m results\n",
      "File \u001b[0;32m~/Desktop/repos/forked/pennylane-lightning_forked/pennylane_lightning/lightning_tensor/lightning_tensor.py:252\u001b[0m, in \u001b[0;36mLightningTensor.execute\u001b[0;34m(self, circuits, execution_config)\u001b[0m\n\u001b[1;32m    237\u001b[0m \u001b[38;5;28;01mdef\u001b[39;00m \u001b[38;5;21mexecute\u001b[39m(\n\u001b[1;32m    238\u001b[0m     \u001b[38;5;28mself\u001b[39m,\n\u001b[1;32m    239\u001b[0m     circuits: QuantumTape_or_Batch,\n\u001b[1;32m    240\u001b[0m     execution_config: ExecutionConfig \u001b[38;5;241m=\u001b[39m DefaultExecutionConfig,\n\u001b[1;32m    241\u001b[0m ) \u001b[38;5;241m-\u001b[39m\u001b[38;5;241m>\u001b[39m Result_or_ResultBatch:\n\u001b[1;32m    242\u001b[0m \u001b[38;5;250m    \u001b[39m\u001b[38;5;124;03m\"\"\"Execute a circuit or a batch of circuits and turn it into results.\u001b[39;00m\n\u001b[1;32m    243\u001b[0m \n\u001b[1;32m    244\u001b[0m \u001b[38;5;124;03m    Args:\u001b[39;00m\n\u001b[0;32m   (...)\u001b[0m\n\u001b[1;32m    249\u001b[0m \u001b[38;5;124;03m        TensorLike, tuple[TensorLike], tuple[tuple[TensorLike]]: A numeric result of the computation.\u001b[39;00m\n\u001b[1;32m    250\u001b[0m \u001b[38;5;124;03m    \"\"\"\u001b[39;00m\n\u001b[0;32m--> 252\u001b[0m     \u001b[38;5;28;01mreturn\u001b[39;00m \u001b[38;5;28;43mself\u001b[39;49m\u001b[38;5;241;43m.\u001b[39;49m\u001b[43m_interface\u001b[49m\u001b[38;5;241;43m.\u001b[39;49m\u001b[43mexecute\u001b[49m\u001b[43m(\u001b[49m\u001b[43mcircuits\u001b[49m\u001b[43m,\u001b[49m\u001b[43m \u001b[49m\u001b[43mexecution_config\u001b[49m\u001b[43m)\u001b[49m\n",
      "File \u001b[0;32m~/Desktop/repos/forked/pennylane-lightning_forked/pennylane_lightning/lightning_tensor/quimb/_mps.py:250\u001b[0m, in \u001b[0;36mQuimbMPS.execute\u001b[0;34m(self, circuits, execution_config)\u001b[0m\n\u001b[1;32m    248\u001b[0m \u001b[38;5;28;01mfor\u001b[39;00m circuit \u001b[38;5;129;01min\u001b[39;00m circuits:\n\u001b[1;32m    249\u001b[0m     circuit \u001b[38;5;241m=\u001b[39m circuit\u001b[38;5;241m.\u001b[39mmap_to_standard_wires()\n\u001b[0;32m--> 250\u001b[0m     results\u001b[38;5;241m.\u001b[39mappend(\u001b[38;5;28;43mself\u001b[39;49m\u001b[38;5;241;43m.\u001b[39;49m\u001b[43msimulate\u001b[49m\u001b[43m(\u001b[49m\u001b[43mcircuit\u001b[49m\u001b[43m)\u001b[49m)\n\u001b[1;32m    252\u001b[0m \u001b[38;5;66;03m# TODO: add option for self._return_tn\u001b[39;00m\n\u001b[1;32m    254\u001b[0m \u001b[38;5;28;01mreturn\u001b[39;00m \u001b[38;5;28mtuple\u001b[39m(results)\n",
      "File \u001b[0;32m~/Desktop/repos/forked/pennylane-lightning_forked/pennylane_lightning/lightning_tensor/quimb/_mps.py:273\u001b[0m, in \u001b[0;36mQuimbMPS.simulate\u001b[0;34m(self, circuit)\u001b[0m\n\u001b[1;32m    268\u001b[0m \u001b[38;5;66;03m##############################################################\u001b[39;00m\n\u001b[1;32m    269\u001b[0m \u001b[38;5;66;03m### PART 1: Applying operations\u001b[39;00m\n\u001b[1;32m    270\u001b[0m \u001b[38;5;66;03m##############################################################\u001b[39;00m\n\u001b[1;32m    272\u001b[0m \u001b[38;5;28;01mfor\u001b[39;00m op \u001b[38;5;129;01min\u001b[39;00m circuit\u001b[38;5;241m.\u001b[39moperations:\n\u001b[0;32m--> 273\u001b[0m     \u001b[38;5;28;43mself\u001b[39;49m\u001b[38;5;241;43m.\u001b[39;49m\u001b[43m_apply_operation\u001b[49m\u001b[43m(\u001b[49m\u001b[43mop\u001b[49m\u001b[43m)\u001b[49m\n\u001b[1;32m    275\u001b[0m \u001b[38;5;66;03m##############################################################\u001b[39;00m\n\u001b[1;32m    276\u001b[0m \u001b[38;5;66;03m### PART 2: Measurements\u001b[39;00m\n\u001b[1;32m    277\u001b[0m \u001b[38;5;66;03m##############################################################\u001b[39;00m\n\u001b[1;32m    279\u001b[0m \u001b[38;5;28;01mif\u001b[39;00m \u001b[38;5;129;01mnot\u001b[39;00m circuit\u001b[38;5;241m.\u001b[39mshots:\n",
      "File \u001b[0;32m~/Desktop/repos/forked/pennylane-lightning_forked/pennylane_lightning/lightning_tensor/quimb/_mps.py:306\u001b[0m, in \u001b[0;36mQuimbMPS._apply_operation\u001b[0;34m(self, op)\u001b[0m\n\u001b[1;32m    300\u001b[0m \u001b[38;5;28;01melse\u001b[39;00m:\n\u001b[1;32m    301\u001b[0m \n\u001b[1;32m    302\u001b[0m     \u001b[38;5;66;03m# If the operation is not a one or two-qubit gate, we need to explicitly convert it to a MPO\u001b[39;00m\n\u001b[1;32m    303\u001b[0m     \u001b[38;5;66;03m# and apply it to the MPS of the circuit.\u001b[39;00m\n\u001b[1;32m    305\u001b[0m     mat_prod_op \u001b[38;5;241m=\u001b[39m from_op_to_mpo(op, \u001b[38;5;28mself\u001b[39m\u001b[38;5;241m.\u001b[39m_circuitMPS\u001b[38;5;241m.\u001b[39mpsi, \u001b[38;5;28mself\u001b[39m\u001b[38;5;241m.\u001b[39m_gate_opts)\n\u001b[0;32m--> 306\u001b[0m     new_state \u001b[38;5;241m=\u001b[39m \u001b[43mmat_prod_op\u001b[49m\u001b[38;5;241;43m.\u001b[39;49m\u001b[43mapply\u001b[49m\u001b[43m(\u001b[49m\n\u001b[1;32m    307\u001b[0m \u001b[43m        \u001b[49m\u001b[38;5;28;43mself\u001b[39;49m\u001b[38;5;241;43m.\u001b[39;49m\u001b[43m_circuitMPS\u001b[49m\u001b[38;5;241;43m.\u001b[39;49m\u001b[43mpsi\u001b[49m\u001b[43m,\u001b[49m\n\u001b[1;32m    308\u001b[0m \u001b[43m        \u001b[49m\u001b[43mcompress\u001b[49m\u001b[38;5;241;43m=\u001b[39;49m\u001b[38;5;28;43;01mTrue\u001b[39;49;00m\u001b[43m,\u001b[49m\n\u001b[1;32m    309\u001b[0m \u001b[43m        \u001b[49m\u001b[43mmax_bond\u001b[49m\u001b[38;5;241;43m=\u001b[39;49m\u001b[38;5;28;43mself\u001b[39;49m\u001b[38;5;241;43m.\u001b[39;49m\u001b[43m_gate_opts\u001b[49m\u001b[43m[\u001b[49m\u001b[38;5;124;43m\"\u001b[39;49m\u001b[38;5;124;43mmax_bond\u001b[39;49m\u001b[38;5;124;43m\"\u001b[39;49m\u001b[43m]\u001b[49m\u001b[43m,\u001b[49m\n\u001b[1;32m    310\u001b[0m \u001b[43m        \u001b[49m\u001b[43mcutoff\u001b[49m\u001b[38;5;241;43m=\u001b[39;49m\u001b[38;5;28;43mself\u001b[39;49m\u001b[38;5;241;43m.\u001b[39;49m\u001b[43m_gate_opts\u001b[49m\u001b[43m[\u001b[49m\u001b[38;5;124;43m\"\u001b[39;49m\u001b[38;5;124;43mcutoff\u001b[39;49m\u001b[38;5;124;43m\"\u001b[39;49m\u001b[43m]\u001b[49m\u001b[43m,\u001b[49m\n\u001b[1;32m    311\u001b[0m \u001b[43m    \u001b[49m\u001b[43m)\u001b[49m\n\u001b[1;32m    312\u001b[0m     \u001b[38;5;28mself\u001b[39m\u001b[38;5;241m.\u001b[39m_circuitMPS\u001b[38;5;241m.\u001b[39m_psi\u001b[38;5;241m.\u001b[39m\u001b[38;5;18m__dict__\u001b[39m\u001b[38;5;241m.\u001b[39mupdate(new_state\u001b[38;5;241m.\u001b[39m\u001b[38;5;18m__dict__\u001b[39m)\n\u001b[1;32m    314\u001b[0m     \u001b[38;5;66;03m# We also add the gate to the list of gates in the circuit.\u001b[39;00m\n",
      "File \u001b[0;32m~/anaconda3/envs/PennyLane/lib/python3.9/site-packages/quimb/tensor/tensor_1d.py:3007\u001b[0m, in \u001b[0;36mMatrixProductOperator.apply\u001b[0;34m(self, other, compress, **compress_opts)\u001b[0m\n\u001b[1;32m   2960\u001b[0m \u001b[38;5;250m\u001b[39m\u001b[38;5;124mr\u001b[39m\u001b[38;5;124;03m\"\"\"Act with this MPO on another MPO or MPS, such that the resulting\u001b[39;00m\n\u001b[1;32m   2961\u001b[0m \u001b[38;5;124;03mobject has the same tensor network structure/indices as ``other``.\u001b[39;00m\n\u001b[1;32m   2962\u001b[0m \n\u001b[0;32m   (...)\u001b[0m\n\u001b[1;32m   3004\u001b[0m \u001b[38;5;124;03mMatrixProductOperator or MatrixProductState\u001b[39;00m\n\u001b[1;32m   3005\u001b[0m \u001b[38;5;124;03m\"\"\"\u001b[39;00m\n\u001b[1;32m   3006\u001b[0m \u001b[38;5;28;01mif\u001b[39;00m \u001b[38;5;28misinstance\u001b[39m(other, MatrixProductState):\n\u001b[0;32m-> 3007\u001b[0m     \u001b[38;5;28;01mreturn\u001b[39;00m \u001b[38;5;28;43mself\u001b[39;49m\u001b[38;5;241;43m.\u001b[39;49m\u001b[43m_apply_mps\u001b[49m\u001b[43m(\u001b[49m\u001b[43mother\u001b[49m\u001b[43m,\u001b[49m\u001b[43m \u001b[49m\u001b[43mcompress\u001b[49m\u001b[38;5;241;43m=\u001b[39;49m\u001b[43mcompress\u001b[49m\u001b[43m,\u001b[49m\u001b[43m \u001b[49m\u001b[38;5;241;43m*\u001b[39;49m\u001b[38;5;241;43m*\u001b[39;49m\u001b[43mcompress_opts\u001b[49m\u001b[43m)\u001b[49m\n\u001b[1;32m   3008\u001b[0m \u001b[38;5;28;01melif\u001b[39;00m \u001b[38;5;28misinstance\u001b[39m(other, MatrixProductOperator):\n\u001b[1;32m   3009\u001b[0m     \u001b[38;5;28;01mreturn\u001b[39;00m \u001b[38;5;28mself\u001b[39m\u001b[38;5;241m.\u001b[39m_apply_mpo(other, compress\u001b[38;5;241m=\u001b[39mcompress, \u001b[38;5;241m*\u001b[39m\u001b[38;5;241m*\u001b[39mcompress_opts)\n",
      "File \u001b[0;32m~/anaconda3/envs/PennyLane/lib/python3.9/site-packages/quimb/tensor/tensor_arbgeom.py:159\u001b[0m, in \u001b[0;36mtensor_network_apply_op_vec\u001b[0;34m(tn_op, tn_vec, contract, compress, **compress_opts)\u001b[0m\n\u001b[1;32m    157\u001b[0m     \u001b[38;5;66;03m# optionally compress\u001b[39;00m\n\u001b[1;32m    158\u001b[0m     \u001b[38;5;28;01mif\u001b[39;00m compress:\n\u001b[0;32m--> 159\u001b[0m         \u001b[43mx\u001b[49m\u001b[38;5;241;43m.\u001b[39;49m\u001b[43mcompress\u001b[49m\u001b[43m(\u001b[49m\u001b[38;5;241;43m*\u001b[39;49m\u001b[38;5;241;43m*\u001b[39;49m\u001b[43mcompress_opts\u001b[49m\u001b[43m)\u001b[49m\n\u001b[1;32m    161\u001b[0m \u001b[38;5;28;01mreturn\u001b[39;00m x\n",
      "File \u001b[0;32m~/anaconda3/envs/PennyLane/lib/python3.9/site-packages/quimb/tensor/tensor_1d.py:1080\u001b[0m, in \u001b[0;36mTensorNetwork1DFlat.compress\u001b[0;34m(self, form, **compress_opts)\u001b[0m\n\u001b[1;32m   1078\u001b[0m     \u001b[38;5;28mself\u001b[39m\u001b[38;5;241m.\u001b[39mleft_compress(\u001b[38;5;241m*\u001b[39m\u001b[38;5;241m*\u001b[39mcompress_opts)\n\u001b[1;32m   1079\u001b[0m \u001b[38;5;28;01melif\u001b[39;00m form \u001b[38;5;241m==\u001b[39m \u001b[38;5;124m\"\u001b[39m\u001b[38;5;124mright\u001b[39m\u001b[38;5;124m\"\u001b[39m:\n\u001b[0;32m-> 1080\u001b[0m     \u001b[38;5;28;43mself\u001b[39;49m\u001b[38;5;241;43m.\u001b[39;49m\u001b[43mleft_canonize\u001b[49m\u001b[43m(\u001b[49m\u001b[43mbra\u001b[49m\u001b[38;5;241;43m=\u001b[39;49m\u001b[43mcompress_opts\u001b[49m\u001b[38;5;241;43m.\u001b[39;49m\u001b[43mget\u001b[49m\u001b[43m(\u001b[49m\u001b[38;5;124;43m\"\u001b[39;49m\u001b[38;5;124;43mbra\u001b[39;49m\u001b[38;5;124;43m\"\u001b[39;49m\u001b[43m,\u001b[49m\u001b[43m \u001b[49m\u001b[38;5;28;43;01mNone\u001b[39;49;00m\u001b[43m)\u001b[49m\u001b[43m)\u001b[49m\n\u001b[1;32m   1081\u001b[0m     \u001b[38;5;28mself\u001b[39m\u001b[38;5;241m.\u001b[39mright_compress(\u001b[38;5;241m*\u001b[39m\u001b[38;5;241m*\u001b[39mcompress_opts)\n\u001b[1;32m   1083\u001b[0m \u001b[38;5;28;01melif\u001b[39;00m form \u001b[38;5;241m==\u001b[39m \u001b[38;5;124m\"\u001b[39m\u001b[38;5;124mflat\u001b[39m\u001b[38;5;124m\"\u001b[39m:\n",
      "File \u001b[0;32m~/anaconda3/envs/PennyLane/lib/python3.9/site-packages/quimb/tensor/tensor_1d.py:784\u001b[0m, in \u001b[0;36mTensorNetwork1DFlat.left_canonize\u001b[0;34m(self, stop, start, normalize, bra)\u001b[0m\n\u001b[1;32m    781\u001b[0m     stop \u001b[38;5;241m=\u001b[39m \u001b[38;5;28mself\u001b[39m\u001b[38;5;241m.\u001b[39mL \u001b[38;5;241m-\u001b[39m \u001b[38;5;241m1\u001b[39m\n\u001b[1;32m    783\u001b[0m \u001b[38;5;28;01mfor\u001b[39;00m i \u001b[38;5;129;01min\u001b[39;00m \u001b[38;5;28mrange\u001b[39m(start, stop):\n\u001b[0;32m--> 784\u001b[0m     \u001b[38;5;28;43mself\u001b[39;49m\u001b[38;5;241;43m.\u001b[39;49m\u001b[43mleft_canonize_site\u001b[49m\u001b[43m(\u001b[49m\u001b[43mi\u001b[49m\u001b[43m,\u001b[49m\u001b[43m \u001b[49m\u001b[43mbra\u001b[49m\u001b[38;5;241;43m=\u001b[39;49m\u001b[43mbra\u001b[49m\u001b[43m)\u001b[49m\n\u001b[1;32m    786\u001b[0m \u001b[38;5;28;01mif\u001b[39;00m normalize:\n\u001b[1;32m    787\u001b[0m     factor \u001b[38;5;241m=\u001b[39m \u001b[38;5;28mself\u001b[39m[\u001b[38;5;241m-\u001b[39m\u001b[38;5;241m1\u001b[39m]\u001b[38;5;241m.\u001b[39mnorm()\n",
      "File \u001b[0;32m~/anaconda3/envs/PennyLane/lib/python3.9/site-packages/quimb/tensor/tensor_1d.py:738\u001b[0m, in \u001b[0;36mTensorNetwork1DFlat.left_canonize_site\u001b[0;34m(self, i, bra)\u001b[0m\n\u001b[1;32m    723\u001b[0m \u001b[38;5;28;01mdef\u001b[39;00m \u001b[38;5;21mleft_canonize_site\u001b[39m(\u001b[38;5;28mself\u001b[39m, i, bra\u001b[38;5;241m=\u001b[39m\u001b[38;5;28;01mNone\u001b[39;00m):\n\u001b[1;32m    724\u001b[0m \u001b[38;5;250m    \u001b[39m\u001b[38;5;124mr\u001b[39m\u001b[38;5;124;03m\"\"\"Left canonize this TN's ith site, inplace::\u001b[39;00m\n\u001b[1;32m    725\u001b[0m \n\u001b[1;32m    726\u001b[0m \u001b[38;5;124;03m            i                i\u001b[39;00m\n\u001b[0;32m   (...)\u001b[0m\n\u001b[1;32m    736\u001b[0m \u001b[38;5;124;03m        If set, also update this TN's data with the conjugate canonization.\u001b[39;00m\n\u001b[1;32m    737\u001b[0m \u001b[38;5;124;03m    \"\"\"\u001b[39;00m\n\u001b[0;32m--> 738\u001b[0m     \u001b[38;5;28;43mself\u001b[39;49m\u001b[38;5;241;43m.\u001b[39;49m\u001b[43m_left_decomp_site\u001b[49m\u001b[43m(\u001b[49m\u001b[43mi\u001b[49m\u001b[43m,\u001b[49m\u001b[43m \u001b[49m\u001b[43mbra\u001b[49m\u001b[38;5;241;43m=\u001b[39;49m\u001b[43mbra\u001b[49m\u001b[43m,\u001b[49m\u001b[43m \u001b[49m\u001b[43mmethod\u001b[49m\u001b[38;5;241;43m=\u001b[39;49m\u001b[38;5;124;43m\"\u001b[39;49m\u001b[38;5;124;43mqr\u001b[39;49m\u001b[38;5;124;43m\"\u001b[39;49m\u001b[43m)\u001b[49m\n",
      "File \u001b[0;32m~/anaconda3/envs/PennyLane/lib/python3.9/site-packages/quimb/tensor/tensor_1d.py:693\u001b[0m, in \u001b[0;36mTensorNetwork1DFlat._left_decomp_site\u001b[0;34m(self, i, bra, **split_opts)\u001b[0m\n\u001b[1;32m    691\u001b[0m set_default_compress_mode(split_opts, \u001b[38;5;28mself\u001b[39m\u001b[38;5;241m.\u001b[39mcyclic)\n\u001b[1;32m    692\u001b[0m Q, R \u001b[38;5;241m=\u001b[39m T1\u001b[38;5;241m.\u001b[39msplit(lix, get\u001b[38;5;241m=\u001b[39m\u001b[38;5;124m\"\u001b[39m\u001b[38;5;124mtensors\u001b[39m\u001b[38;5;124m\"\u001b[39m, right_inds\u001b[38;5;241m=\u001b[39mrix, \u001b[38;5;241m*\u001b[39m\u001b[38;5;241m*\u001b[39msplit_opts)\n\u001b[0;32m--> 693\u001b[0m R \u001b[38;5;241m=\u001b[39m \u001b[43mR\u001b[49m\u001b[43m \u001b[49m\u001b[38;5;241;43m@\u001b[39;49m\u001b[43m \u001b[49m\u001b[43mT2\u001b[49m\n\u001b[1;32m    695\u001b[0m Q\u001b[38;5;241m.\u001b[39mtranspose_like_(T1)\n\u001b[1;32m    696\u001b[0m R\u001b[38;5;241m.\u001b[39mtranspose_like_(T2)\n",
      "File \u001b[0;32m~/anaconda3/envs/PennyLane/lib/python3.9/site-packages/quimb/tensor/tensor_core.py:3156\u001b[0m, in \u001b[0;36mTensor.__matmul__\u001b[0;34m(self, other)\u001b[0m\n\u001b[1;32m   3154\u001b[0m ax1 \u001b[38;5;241m=\u001b[39m \u001b[38;5;28mtuple\u001b[39m(\u001b[38;5;28mself\u001b[39m\u001b[38;5;241m.\u001b[39minds\u001b[38;5;241m.\u001b[39mindex(b) \u001b[38;5;28;01mfor\u001b[39;00m b \u001b[38;5;129;01min\u001b[39;00m bix)\n\u001b[1;32m   3155\u001b[0m ax2 \u001b[38;5;241m=\u001b[39m \u001b[38;5;28mtuple\u001b[39m(other\u001b[38;5;241m.\u001b[39minds\u001b[38;5;241m.\u001b[39mindex(b) \u001b[38;5;28;01mfor\u001b[39;00m b \u001b[38;5;129;01min\u001b[39;00m bix)\n\u001b[0;32m-> 3156\u001b[0m data_out \u001b[38;5;241m=\u001b[39m \u001b[43mdo\u001b[49m\u001b[43m(\u001b[49m\n\u001b[1;32m   3157\u001b[0m \u001b[43m    \u001b[49m\u001b[38;5;124;43m\"\u001b[39;49m\u001b[38;5;124;43mtensordot\u001b[39;49m\u001b[38;5;124;43m\"\u001b[39;49m\u001b[43m,\u001b[49m\n\u001b[1;32m   3158\u001b[0m \u001b[43m    \u001b[49m\u001b[38;5;28;43mself\u001b[39;49m\u001b[38;5;241;43m.\u001b[39;49m\u001b[43mdata\u001b[49m\u001b[43m,\u001b[49m\n\u001b[1;32m   3159\u001b[0m \u001b[43m    \u001b[49m\u001b[43mother\u001b[49m\u001b[38;5;241;43m.\u001b[39;49m\u001b[43mdata\u001b[49m\u001b[43m,\u001b[49m\n\u001b[1;32m   3160\u001b[0m \u001b[43m    \u001b[49m\u001b[43maxes\u001b[49m\u001b[38;5;241;43m=\u001b[39;49m\u001b[43m(\u001b[49m\u001b[43max1\u001b[49m\u001b[43m,\u001b[49m\u001b[43m \u001b[49m\u001b[43max2\u001b[49m\u001b[43m)\u001b[49m\u001b[43m,\u001b[49m\n\u001b[1;32m   3161\u001b[0m \u001b[43m    \u001b[49m\u001b[43mlike\u001b[49m\u001b[38;5;241;43m=\u001b[39;49m\u001b[43mget_contract_backend\u001b[49m\u001b[43m(\u001b[49m\u001b[43m)\u001b[49m\u001b[43m,\u001b[49m\n\u001b[1;32m   3162\u001b[0m \u001b[43m\u001b[49m\u001b[43m)\u001b[49m\n\u001b[1;32m   3163\u001b[0m new_inds \u001b[38;5;241m=\u001b[39m lix \u001b[38;5;241m+\u001b[39m rix\n\u001b[1;32m   3164\u001b[0m \u001b[38;5;28;01mif\u001b[39;00m \u001b[38;5;129;01mnot\u001b[39;00m new_inds:\n\u001b[1;32m   3165\u001b[0m     \u001b[38;5;66;03m# scalar\u001b[39;00m\n",
      "File \u001b[0;32m~/anaconda3/envs/PennyLane/lib/python3.9/site-packages/autoray-0.6.8-py3.9.egg/autoray/autoray.py:80\u001b[0m, in \u001b[0;36mdo\u001b[0;34m(fn, like, *args, **kwargs)\u001b[0m\n\u001b[1;32m     31\u001b[0m \u001b[38;5;250m\u001b[39m\u001b[38;5;124;03m\"\"\"Do function named ``fn`` on ``(*args, **kwargs)``, peforming single\u001b[39;00m\n\u001b[1;32m     32\u001b[0m \u001b[38;5;124;03mdispatch to retrieve ``fn`` based on whichever library defines the class of\u001b[39;00m\n\u001b[1;32m     33\u001b[0m \u001b[38;5;124;03mthe ``args[0]``, or the ``like`` keyword argument if specified.\u001b[39;00m\n\u001b[0;32m   (...)\u001b[0m\n\u001b[1;32m     77\u001b[0m \u001b[38;5;124;03m    <tf.Tensor: id=91, shape=(3, 3), dtype=float32>\u001b[39;00m\n\u001b[1;32m     78\u001b[0m \u001b[38;5;124;03m\"\"\"\u001b[39;00m\n\u001b[1;32m     79\u001b[0m backend \u001b[38;5;241m=\u001b[39m choose_backend(fn, \u001b[38;5;241m*\u001b[39margs, like\u001b[38;5;241m=\u001b[39mlike, \u001b[38;5;241m*\u001b[39m\u001b[38;5;241m*\u001b[39mkwargs)\n\u001b[0;32m---> 80\u001b[0m \u001b[38;5;28;01mreturn\u001b[39;00m \u001b[43mget_lib_fn\u001b[49m\u001b[43m(\u001b[49m\u001b[43mbackend\u001b[49m\u001b[43m,\u001b[49m\u001b[43m \u001b[49m\u001b[43mfn\u001b[49m\u001b[43m)\u001b[49m\u001b[43m(\u001b[49m\u001b[38;5;241;43m*\u001b[39;49m\u001b[43margs\u001b[49m\u001b[43m,\u001b[49m\u001b[43m \u001b[49m\u001b[38;5;241;43m*\u001b[39;49m\u001b[38;5;241;43m*\u001b[39;49m\u001b[43mkwargs\u001b[49m\u001b[43m)\u001b[49m\n",
      "File \u001b[0;32m~/anaconda3/envs/PennyLane/lib/python3.9/site-packages/numpy/core/numeric.py:1099\u001b[0m, in \u001b[0;36mtensordot\u001b[0;34m(a, b, axes)\u001b[0m\n\u001b[1;32m   1097\u001b[0m             axes_b[k] \u001b[38;5;241m+\u001b[39m\u001b[38;5;241m=\u001b[39m ndb\n\u001b[1;32m   1098\u001b[0m \u001b[38;5;28;01mif\u001b[39;00m \u001b[38;5;129;01mnot\u001b[39;00m equal:\n\u001b[0;32m-> 1099\u001b[0m     \u001b[38;5;28;01mraise\u001b[39;00m \u001b[38;5;167;01mValueError\u001b[39;00m(\u001b[38;5;124m\"\u001b[39m\u001b[38;5;124mshape-mismatch for sum\u001b[39m\u001b[38;5;124m\"\u001b[39m)\n\u001b[1;32m   1101\u001b[0m \u001b[38;5;66;03m# Move the axes to sum over to the end of \"a\"\u001b[39;00m\n\u001b[1;32m   1102\u001b[0m \u001b[38;5;66;03m# and to the front of \"b\"\u001b[39;00m\n\u001b[1;32m   1103\u001b[0m notin \u001b[38;5;241m=\u001b[39m [k \u001b[38;5;28;01mfor\u001b[39;00m k \u001b[38;5;129;01min\u001b[39;00m \u001b[38;5;28mrange\u001b[39m(nda) \u001b[38;5;28;01mif\u001b[39;00m k \u001b[38;5;129;01mnot\u001b[39;00m \u001b[38;5;129;01min\u001b[39;00m axes_a]\n",
      "\u001b[0;31mValueError\u001b[0m: shape-mismatch for sum"
     ]
    }
   ],
   "source": [
    "obj.execute(circuits=tape)"
   ]
  },
  {
   "cell_type": "code",
   "execution_count": null,
   "metadata": {},
   "outputs": [
    {
     "data": {
      "text/plain": [
       "[<Gate(label=RAW125298162422288, params=raw, qubits=(2, 3))>,\n",
       " <Gate(label=RAW125298162422288, params=raw, qubits=(0, 2))>,\n",
       " <Gate(label=RAW125298874448560, params=raw, qubits=(3,))>,\n",
       " <Gate(label=RAW125298874448560, params=raw, qubits=(0,))>,\n",
       " <Gate(label=RAW125298162422288, params=raw, qubits=(2, 3))>,\n",
       " <Gate(label=RAW125298162422288, params=raw, qubits=(0, 1))>,\n",
       " <Gate(label=RAW125298162422096, params=raw, qubits=(1,))>,\n",
       " <Gate(label=RAW125298162423344, params=raw, qubits=(0,))>,\n",
       " <Gate(label=RAW125298162422288, params=raw, qubits=(0, 3))>,\n",
       " <Gate(label=RAW125298874448560, params=raw, qubits=(3,))>,\n",
       " <Gate(label=RAW125298162422288, params=raw, qubits=(3, 1))>,\n",
       " <Gate(label=RAW125298162157776, params=raw, qubits=(1,))>,\n",
       " <Gate(label=RAW125298162422192, params=raw, qubits=(0,))>,\n",
       " <Gate(label=RAW125298162422288, params=raw, qubits=(2, 1))>,\n",
       " <Gate(label=RAW125298162422288, params=raw, qubits=(2, 0))>,\n",
       " <Gate(label=RAW125298162423632, params=raw, qubits=(1,))>,\n",
       " <Gate(label=RAW125298162482992, params=raw, qubits=(0,))>,\n",
       " <Gate(label=RAW125298162422288, params=raw, qubits=(3, 1))>,\n",
       " <Gate(label=RAW125298874448560, params=raw, qubits=(3,))>,\n",
       " <Gate(label=RAW125298162422288, params=raw, qubits=(0, 3))>,\n",
       " <Gate(label=RAW125298162423152, params=raw, qubits=(1,))>,\n",
       " <Gate(label=RAW125298162246448, params=raw, qubits=(0,))>,\n",
       " <Gate(label=RAW125298162422288, params=raw, qubits=(0, 1))>,\n",
       " <Gate(label=RAW125298162422288, params=raw, qubits=(2, 0))>,\n",
       " <Gate(label=RAW125298874448560, params=raw, qubits=(0,))>,\n",
       " <Gate(label=RAW125298874448560, params=raw, qubits=(3,))>,\n",
       " <Gate(label=RAW125298162422288, params=raw, qubits=(0, 2))>,\n",
       " <Gate(label=RAW125298162422288, params=raw, qubits=(2, 3))>,\n",
       " <Gate(label=RAW125298162158256, params=raw, qubits=(1,))>,\n",
       " <Gate(label=RAW125298162423536, params=raw, qubits=(1,))>,\n",
       " <Gate(label=RAW125298162252080, params=raw, qubits=(4,))>,\n",
       " <Gate(label=RAW125298162422288, params=raw, qubits=(2, 5))>,\n",
       " <Gate(label=RAW125298162422288, params=raw, qubits=(2, 5))>,\n",
       " <Gate(label=RAW125298162422288, params=raw, qubits=(4, 2))>,\n",
       " <Gate(label=RAW125298874448560, params=raw, qubits=(5,))>,\n",
       " <Gate(label=RAW125298874448560, params=raw, qubits=(4,))>,\n",
       " <Gate(label=RAW125298162422288, params=raw, qubits=(2, 5))>,\n",
       " <Gate(label=RAW125298162422288, params=raw, qubits=(4, 3))>,\n",
       " <Gate(label=RAW125298162231792, params=raw, qubits=(3,))>,\n",
       " <Gate(label=RAW125298162231312, params=raw, qubits=(4,))>,\n",
       " <Gate(label=RAW125298162422288, params=raw, qubits=(4, 5))>,\n",
       " <Gate(label=RAW125298874448560, params=raw, qubits=(5,))>,\n",
       " <Gate(label=RAW125298162422288, params=raw, qubits=(5, 3))>,\n",
       " <Gate(label=RAW125298162158928, params=raw, qubits=(3,))>,\n",
       " <Gate(label=RAW125298162247216, params=raw, qubits=(4,))>,\n",
       " <Gate(label=RAW125298162422288, params=raw, qubits=(2, 3))>,\n",
       " <Gate(label=RAW125298162422288, params=raw, qubits=(2, 4))>,\n",
       " <Gate(label=RAW125298162231888, params=raw, qubits=(3,))>,\n",
       " <Gate(label=RAW125298162252656, params=raw, qubits=(4,))>,\n",
       " <Gate(label=RAW125298162422288, params=raw, qubits=(5, 3))>,\n",
       " <Gate(label=RAW125298874448560, params=raw, qubits=(5,))>,\n",
       " <Gate(label=RAW125298162422288, params=raw, qubits=(4, 5))>,\n",
       " <Gate(label=RAW125298161910768, params=raw, qubits=(3,))>,\n",
       " <Gate(label=RAW125298162230736, params=raw, qubits=(4,))>,\n",
       " <Gate(label=RAW125298162422288, params=raw, qubits=(4, 3))>,\n",
       " <Gate(label=RAW125298162422288, params=raw, qubits=(2, 4))>,\n",
       " <Gate(label=RAW125298874448560, params=raw, qubits=(4,))>,\n",
       " <Gate(label=RAW125298874448560, params=raw, qubits=(5,))>,\n",
       " <Gate(label=RAW125298162422288, params=raw, qubits=(4, 2))>,\n",
       " <Gate(label=RAW125298162422288, params=raw, qubits=(2, 5))>,\n",
       " <Gate(label=RAW125298874448560, params=raw, qubits=(4,))>,\n",
       " <Gate(label=RAW125298162422288, params=raw, qubits=(3, 4))>,\n",
       " <Gate(label=RAW125298161910672, params=raw, qubits=(4,))>,\n",
       " <Gate(label=RAW125298162422288, params=raw, qubits=(1, 4))>,\n",
       " <Gate(label=RAW125298162253136, params=raw, qubits=(4,))>,\n",
       " <Gate(label=RAW125298162422288, params=raw, qubits=(3, 4))>,\n",
       " <Gate(label=RAW125298162246640, params=raw, qubits=(4,))>,\n",
       " <Gate(label=RAW125298162422288, params=raw, qubits=(1, 4))>,\n",
       " <Gate(label=RAW125298162253136, params=raw, qubits=(4,))>,\n",
       " <Gate(label=RAW125298162253136, params=raw, qubits=(3,))>,\n",
       " <Gate(label=RAW125298162422288, params=raw, qubits=(1, 3))>,\n",
       " <Gate(label=RAW125298874448560, params=raw, qubits=(4,))>,\n",
       " <Gate(label=RAW125298162253136, params=raw, qubits=(1,))>,\n",
       " <Gate(label=RAW125298162253520, params=raw, qubits=(3,))>,\n",
       " <Gate(label=RAW125298162422288, params=raw, qubits=(1, 3))>,\n",
       " <Gate(label=RAW125298874448560, params=raw, qubits=(3,))>,\n",
       " <Gate(label=RAW125298162422288, params=raw, qubits=(4, 3))>,\n",
       " <Gate(label=RAW125298161911632, params=raw, qubits=(3,))>,\n",
       " <Gate(label=RAW125298162422288, params=raw, qubits=(1, 3))>,\n",
       " <Gate(label=RAW125298162253136, params=raw, qubits=(3,))>,\n",
       " <Gate(label=RAW125298162422288, params=raw, qubits=(4, 3))>,\n",
       " <Gate(label=RAW125298161912784, params=raw, qubits=(3,))>,\n",
       " <Gate(label=RAW125298162422288, params=raw, qubits=(1, 3))>,\n",
       " <Gate(label=RAW125298162253136, params=raw, qubits=(3,))>,\n",
       " <Gate(label=RAW125298162253136, params=raw, qubits=(4,))>,\n",
       " <Gate(label=RAW125298162422288, params=raw, qubits=(1, 4))>,\n",
       " <Gate(label=RAW125298874448560, params=raw, qubits=(3,))>,\n",
       " <Gate(label=RAW125298162253136, params=raw, qubits=(1,))>,\n",
       " <Gate(label=RAW125298161912688, params=raw, qubits=(4,))>,\n",
       " <Gate(label=RAW125298162422288, params=raw, qubits=(1, 4))>,\n",
       " <Gate(label=RAW125298874448560, params=raw, qubits=(4,))>,\n",
       " <Gate(label=RAW125298162422288, params=raw, qubits=(3, 4))>,\n",
       " <Gate(label=RAW125298161911536, params=raw, qubits=(4,))>,\n",
       " <Gate(label=RAW125298162422288, params=raw, qubits=(1, 4))>,\n",
       " <Gate(label=RAW125298162253136, params=raw, qubits=(4,))>,\n",
       " <Gate(label=RAW125298162422288, params=raw, qubits=(3, 4))>,\n",
       " <Gate(label=RAW125298161911248, params=raw, qubits=(4,))>,\n",
       " <Gate(label=RAW125298162422288, params=raw, qubits=(1, 4))>,\n",
       " <Gate(label=RAW125298162253136, params=raw, qubits=(4,))>,\n",
       " <Gate(label=RAW125298162253136, params=raw, qubits=(3,))>,\n",
       " <Gate(label=RAW125298162422288, params=raw, qubits=(1, 3))>,\n",
       " <Gate(label=RAW125298874448560, params=raw, qubits=(4,))>,\n",
       " <Gate(label=RAW125298162253136, params=raw, qubits=(1,))>,\n",
       " <Gate(label=RAW125298161913072, params=raw, qubits=(3,))>,\n",
       " <Gate(label=RAW125298162422288, params=raw, qubits=(1, 3))>,\n",
       " <Gate(label=RAW125298874448560, params=raw, qubits=(5,))>,\n",
       " <Gate(label=RAW125298874448560, params=raw, qubits=(2,))>,\n",
       " <Gate(label=RAW125298162422288, params=raw, qubits=(5, 2))>,\n",
       " <Gate(label=RAW125298161913648, params=raw, qubits=(2,))>,\n",
       " <Gate(label=RAW125298162422288, params=raw, qubits=(3, 2))>,\n",
       " <Gate(label=RAW125298162253136, params=raw, qubits=(2,))>,\n",
       " <Gate(label=RAW125298162422288, params=raw, qubits=(5, 2))>,\n",
       " <Gate(label=RAW125298161912496, params=raw, qubits=(2,))>,\n",
       " <Gate(label=RAW125298162422288, params=raw, qubits=(3, 2))>,\n",
       " <Gate(label=RAW125298162253136, params=raw, qubits=(2,))>,\n",
       " <Gate(label=RAW125298162253136, params=raw, qubits=(5,))>,\n",
       " <Gate(label=RAW125298162422288, params=raw, qubits=(3, 5))>,\n",
       " <Gate(label=RAW125298874448560, params=raw, qubits=(2,))>,\n",
       " <Gate(label=RAW125298162253136, params=raw, qubits=(3,))>,\n",
       " <Gate(label=RAW125298161912112, params=raw, qubits=(5,))>,\n",
       " <Gate(label=RAW125298162422288, params=raw, qubits=(3, 5))>,\n",
       " <Gate(label=RAW125298874448560, params=raw, qubits=(5,))>,\n",
       " <Gate(label=RAW125298162422288, params=raw, qubits=(2, 5))>,\n",
       " <Gate(label=RAW125298161558128, params=raw, qubits=(5,))>,\n",
       " <Gate(label=RAW125298162422288, params=raw, qubits=(3, 5))>,\n",
       " <Gate(label=RAW125298162253136, params=raw, qubits=(5,))>,\n",
       " <Gate(label=RAW125298162422288, params=raw, qubits=(2, 5))>,\n",
       " <Gate(label=RAW125298161558032, params=raw, qubits=(5,))>,\n",
       " <Gate(label=RAW125298162422288, params=raw, qubits=(3, 5))>,\n",
       " <Gate(label=RAW125298162253136, params=raw, qubits=(5,))>,\n",
       " <Gate(label=RAW125298162253136, params=raw, qubits=(2,))>,\n",
       " <Gate(label=RAW125298162422288, params=raw, qubits=(3, 2))>,\n",
       " <Gate(label=RAW125298874448560, params=raw, qubits=(5,))>,\n",
       " <Gate(label=RAW125298162253136, params=raw, qubits=(3,))>,\n",
       " <Gate(label=RAW125298161559088, params=raw, qubits=(2,))>,\n",
       " <Gate(label=RAW125298162422288, params=raw, qubits=(3, 2))>,\n",
       " <Gate(label=RAW125298874448560, params=raw, qubits=(2,))>,\n",
       " <Gate(label=RAW125298162422288, params=raw, qubits=(5, 2))>,\n",
       " <Gate(label=RAW125298161559472, params=raw, qubits=(2,))>,\n",
       " <Gate(label=RAW125298162422288, params=raw, qubits=(3, 2))>,\n",
       " <Gate(label=RAW125298162253136, params=raw, qubits=(2,))>,\n",
       " <Gate(label=RAW125298162422288, params=raw, qubits=(5, 2))>,\n",
       " <Gate(label=RAW125298161559760, params=raw, qubits=(2,))>,\n",
       " <Gate(label=RAW125298162422288, params=raw, qubits=(3, 2))>,\n",
       " <Gate(label=RAW125298162253136, params=raw, qubits=(2,))>,\n",
       " <Gate(label=RAW125298162253136, params=raw, qubits=(5,))>,\n",
       " <Gate(label=RAW125298162422288, params=raw, qubits=(3, 5))>,\n",
       " <Gate(label=RAW125298874448560, params=raw, qubits=(2,))>,\n",
       " <Gate(label=RAW125298162253136, params=raw, qubits=(3,))>,\n",
       " <Gate(label=RAW125298161557648, params=raw, qubits=(5,))>,\n",
       " <Gate(label=RAW125298162422288, params=raw, qubits=(3, 5))>,\n",
       " <Gate(label=RAW125298162422288, params=raw, qubits=(3, 5))>,\n",
       " <Gate(label=RAW125298162422288, params=raw, qubits=(2, 5))>,\n",
       " <Gate(label=RAW125298162422288, params=raw, qubits=(1, 2))>,\n",
       " <Gate(label=RAW125298874448560, params=raw, qubits=(5,))>,\n",
       " <Gate(label=RAW125298874448560, params=raw, qubits=(1,))>,\n",
       " <Gate(label=RAW125298162422288, params=raw, qubits=(2, 5))>,\n",
       " <Gate(label=RAW125298162422288, params=raw, qubits=(1, 4))>,\n",
       " <Gate(label=RAW125298161559280, params=raw, qubits=(4,))>,\n",
       " <Gate(label=RAW125298161560240, params=raw, qubits=(1,))>,\n",
       " <Gate(label=RAW125298162422288, params=raw, qubits=(1, 5))>,\n",
       " <Gate(label=RAW125298874448560, params=raw, qubits=(5,))>,\n",
       " <Gate(label=RAW125298162422288, params=raw, qubits=(5, 4))>,\n",
       " <Gate(label=RAW125298161557552, params=raw, qubits=(4,))>,\n",
       " <Gate(label=RAW125298161560624, params=raw, qubits=(1,))>,\n",
       " <Gate(label=RAW125298162422288, params=raw, qubits=(2, 4))>,\n",
       " <Gate(label=RAW125298162422288, params=raw, qubits=(2, 1))>,\n",
       " <Gate(label=RAW125298161560528, params=raw, qubits=(4,))>,\n",
       " <Gate(label=RAW125298161560144, params=raw, qubits=(1,))>,\n",
       " <Gate(label=RAW125298162422288, params=raw, qubits=(5, 4))>,\n",
       " <Gate(label=RAW125298874448560, params=raw, qubits=(5,))>,\n",
       " <Gate(label=RAW125298162422288, params=raw, qubits=(1, 5))>,\n",
       " <Gate(label=RAW125298161560336, params=raw, qubits=(4,))>,\n",
       " <Gate(label=RAW125298161561104, params=raw, qubits=(1,))>,\n",
       " <Gate(label=RAW125298162422288, params=raw, qubits=(1, 4))>,\n",
       " <Gate(label=RAW125298162422288, params=raw, qubits=(2, 1))>,\n",
       " <Gate(label=RAW125298874448560, params=raw, qubits=(1,))>,\n",
       " <Gate(label=RAW125298874448560, params=raw, qubits=(5,))>,\n",
       " <Gate(label=RAW125298162422288, params=raw, qubits=(1, 2))>,\n",
       " <Gate(label=RAW125298162422288, params=raw, qubits=(2, 5))>]"
      ]
     },
     "execution_count": 22,
     "metadata": {},
     "output_type": "execute_result"
    }
   ],
   "source": [
    "obj._interface._circuitMPS.gates"
   ]
  },
  {
   "cell_type": "code",
   "execution_count": null,
   "metadata": {},
   "outputs": [
    {
     "data": {
      "text/plain": [
       "oset(['0', '1', '2', '3', '4', '5', 'I0', 'I1', 'I2', 'I3', 'I4', 'I5', 'PSI0', 'GATE_2', 'GATE_3', 'GATE_6', 'GATE_7', 'GATE_9', 'GATE_11', 'GATE_12', 'GATE_15', 'GATE_16', 'GATE_18', 'GATE_20', 'GATE_21', 'GATE_24', 'GATE_25', 'GATE_28', 'GATE_29', 'GATE_30', 'GATE_34', 'GATE_35', 'GATE_38', 'GATE_39', 'GATE_41', 'GATE_43', 'GATE_44', 'GATE_47', 'GATE_48', 'GATE_50', 'GATE_52', 'GATE_53', 'GATE_56', 'GATE_57', 'GATE_60', 'GATE_62', 'GATE_64', 'GATE_66', 'GATE_68', 'GATE_69', 'GATE_71', 'GATE_72', 'GATE_73', 'GATE_75', 'GATE_77', 'GATE_79', 'GATE_81', 'GATE_83', 'GATE_84', 'GATE_86', 'GATE_87', 'GATE_88', 'GATE_90', 'GATE_92', 'GATE_94', 'GATE_96', 'GATE_98', 'GATE_99', 'GATE_101', 'GATE_102', 'GATE_103', 'GATE_105', 'GATE_106', 'GATE_108', 'GATE_110', 'GATE_112', 'GATE_114', 'GATE_115', 'GATE_117', 'GATE_118', 'GATE_119', 'GATE_121', 'GATE_123', 'GATE_125', 'GATE_127', 'GATE_129', 'GATE_130', 'GATE_132', 'GATE_133', 'GATE_134', 'GATE_136', 'GATE_138', 'GATE_140', 'GATE_142', 'GATE_144', 'GATE_145', 'GATE_147', 'GATE_148', 'GATE_149', 'GATE_154', 'GATE_155', 'GATE_158', 'GATE_159', 'GATE_161', 'GATE_163', 'GATE_164', 'GATE_167', 'GATE_168', 'GATE_170', 'GATE_172', 'GATE_173', 'GATE_176', 'GATE_177'])"
      ]
     },
     "execution_count": 23,
     "metadata": {},
     "output_type": "execute_result"
    }
   ],
   "source": [
    "obj._interface._circuitMPS.psi.tags"
   ]
  },
  {
   "cell_type": "code",
   "execution_count": null,
   "metadata": {},
   "outputs": [
    {
     "data": {
      "text/plain": [
       "{'_psi': MatrixProductState(tensors=6, indices=11, L=6, max_bond=8),\n",
       " 'N': 6,\n",
       " 'gate_opts': {'contract': 'swap+split', 'propagate_tags': 'register'},\n",
       " 'gates': [<Gate(label=RAW125298162422288, params=raw, qubits=(2, 3))>,\n",
       "  <Gate(label=RAW125298162422288, params=raw, qubits=(0, 2))>,\n",
       "  <Gate(label=RAW125298874448560, params=raw, qubits=(3,))>,\n",
       "  <Gate(label=RAW125298874448560, params=raw, qubits=(0,))>,\n",
       "  <Gate(label=RAW125298162422288, params=raw, qubits=(2, 3))>,\n",
       "  <Gate(label=RAW125298162422288, params=raw, qubits=(0, 1))>,\n",
       "  <Gate(label=RAW125298162422096, params=raw, qubits=(1,))>,\n",
       "  <Gate(label=RAW125298162423344, params=raw, qubits=(0,))>,\n",
       "  <Gate(label=RAW125298162422288, params=raw, qubits=(0, 3))>,\n",
       "  <Gate(label=RAW125298874448560, params=raw, qubits=(3,))>,\n",
       "  <Gate(label=RAW125298162422288, params=raw, qubits=(3, 1))>,\n",
       "  <Gate(label=RAW125298162157776, params=raw, qubits=(1,))>,\n",
       "  <Gate(label=RAW125298162422192, params=raw, qubits=(0,))>,\n",
       "  <Gate(label=RAW125298162422288, params=raw, qubits=(2, 1))>,\n",
       "  <Gate(label=RAW125298162422288, params=raw, qubits=(2, 0))>,\n",
       "  <Gate(label=RAW125298162423632, params=raw, qubits=(1,))>,\n",
       "  <Gate(label=RAW125298162482992, params=raw, qubits=(0,))>,\n",
       "  <Gate(label=RAW125298162422288, params=raw, qubits=(3, 1))>,\n",
       "  <Gate(label=RAW125298874448560, params=raw, qubits=(3,))>,\n",
       "  <Gate(label=RAW125298162422288, params=raw, qubits=(0, 3))>,\n",
       "  <Gate(label=RAW125298162423152, params=raw, qubits=(1,))>,\n",
       "  <Gate(label=RAW125298162246448, params=raw, qubits=(0,))>,\n",
       "  <Gate(label=RAW125298162422288, params=raw, qubits=(0, 1))>,\n",
       "  <Gate(label=RAW125298162422288, params=raw, qubits=(2, 0))>,\n",
       "  <Gate(label=RAW125298874448560, params=raw, qubits=(0,))>,\n",
       "  <Gate(label=RAW125298874448560, params=raw, qubits=(3,))>,\n",
       "  <Gate(label=RAW125298162422288, params=raw, qubits=(0, 2))>,\n",
       "  <Gate(label=RAW125298162422288, params=raw, qubits=(2, 3))>,\n",
       "  <Gate(label=RAW125298162158256, params=raw, qubits=(1,))>,\n",
       "  <Gate(label=RAW125298162423536, params=raw, qubits=(1,))>,\n",
       "  <Gate(label=RAW125298162252080, params=raw, qubits=(4,))>,\n",
       "  <Gate(label=RAW125298162422288, params=raw, qubits=(2, 5))>,\n",
       "  <Gate(label=RAW125298162422288, params=raw, qubits=(2, 5))>,\n",
       "  <Gate(label=RAW125298162422288, params=raw, qubits=(4, 2))>,\n",
       "  <Gate(label=RAW125298874448560, params=raw, qubits=(5,))>,\n",
       "  <Gate(label=RAW125298874448560, params=raw, qubits=(4,))>,\n",
       "  <Gate(label=RAW125298162422288, params=raw, qubits=(2, 5))>,\n",
       "  <Gate(label=RAW125298162422288, params=raw, qubits=(4, 3))>,\n",
       "  <Gate(label=RAW125298162231792, params=raw, qubits=(3,))>,\n",
       "  <Gate(label=RAW125298162231312, params=raw, qubits=(4,))>,\n",
       "  <Gate(label=RAW125298162422288, params=raw, qubits=(4, 5))>,\n",
       "  <Gate(label=RAW125298874448560, params=raw, qubits=(5,))>,\n",
       "  <Gate(label=RAW125298162422288, params=raw, qubits=(5, 3))>,\n",
       "  <Gate(label=RAW125298162158928, params=raw, qubits=(3,))>,\n",
       "  <Gate(label=RAW125298162247216, params=raw, qubits=(4,))>,\n",
       "  <Gate(label=RAW125298162422288, params=raw, qubits=(2, 3))>,\n",
       "  <Gate(label=RAW125298162422288, params=raw, qubits=(2, 4))>,\n",
       "  <Gate(label=RAW125298162231888, params=raw, qubits=(3,))>,\n",
       "  <Gate(label=RAW125298162252656, params=raw, qubits=(4,))>,\n",
       "  <Gate(label=RAW125298162422288, params=raw, qubits=(5, 3))>,\n",
       "  <Gate(label=RAW125298874448560, params=raw, qubits=(5,))>,\n",
       "  <Gate(label=RAW125298162422288, params=raw, qubits=(4, 5))>,\n",
       "  <Gate(label=RAW125298161910768, params=raw, qubits=(3,))>,\n",
       "  <Gate(label=RAW125298162230736, params=raw, qubits=(4,))>,\n",
       "  <Gate(label=RAW125298162422288, params=raw, qubits=(4, 3))>,\n",
       "  <Gate(label=RAW125298162422288, params=raw, qubits=(2, 4))>,\n",
       "  <Gate(label=RAW125298874448560, params=raw, qubits=(4,))>,\n",
       "  <Gate(label=RAW125298874448560, params=raw, qubits=(5,))>,\n",
       "  <Gate(label=RAW125298162422288, params=raw, qubits=(4, 2))>,\n",
       "  <Gate(label=RAW125298162422288, params=raw, qubits=(2, 5))>,\n",
       "  <Gate(label=RAW125298874448560, params=raw, qubits=(4,))>,\n",
       "  <Gate(label=RAW125298162422288, params=raw, qubits=(3, 4))>,\n",
       "  <Gate(label=RAW125298161910672, params=raw, qubits=(4,))>,\n",
       "  <Gate(label=RAW125298162422288, params=raw, qubits=(1, 4))>,\n",
       "  <Gate(label=RAW125298162253136, params=raw, qubits=(4,))>,\n",
       "  <Gate(label=RAW125298162422288, params=raw, qubits=(3, 4))>,\n",
       "  <Gate(label=RAW125298162246640, params=raw, qubits=(4,))>,\n",
       "  <Gate(label=RAW125298162422288, params=raw, qubits=(1, 4))>,\n",
       "  <Gate(label=RAW125298162253136, params=raw, qubits=(4,))>,\n",
       "  <Gate(label=RAW125298162253136, params=raw, qubits=(3,))>,\n",
       "  <Gate(label=RAW125298162422288, params=raw, qubits=(1, 3))>,\n",
       "  <Gate(label=RAW125298874448560, params=raw, qubits=(4,))>,\n",
       "  <Gate(label=RAW125298162253136, params=raw, qubits=(1,))>,\n",
       "  <Gate(label=RAW125298162253520, params=raw, qubits=(3,))>,\n",
       "  <Gate(label=RAW125298162422288, params=raw, qubits=(1, 3))>,\n",
       "  <Gate(label=RAW125298874448560, params=raw, qubits=(3,))>,\n",
       "  <Gate(label=RAW125298162422288, params=raw, qubits=(4, 3))>,\n",
       "  <Gate(label=RAW125298161911632, params=raw, qubits=(3,))>,\n",
       "  <Gate(label=RAW125298162422288, params=raw, qubits=(1, 3))>,\n",
       "  <Gate(label=RAW125298162253136, params=raw, qubits=(3,))>,\n",
       "  <Gate(label=RAW125298162422288, params=raw, qubits=(4, 3))>,\n",
       "  <Gate(label=RAW125298161912784, params=raw, qubits=(3,))>,\n",
       "  <Gate(label=RAW125298162422288, params=raw, qubits=(1, 3))>,\n",
       "  <Gate(label=RAW125298162253136, params=raw, qubits=(3,))>,\n",
       "  <Gate(label=RAW125298162253136, params=raw, qubits=(4,))>,\n",
       "  <Gate(label=RAW125298162422288, params=raw, qubits=(1, 4))>,\n",
       "  <Gate(label=RAW125298874448560, params=raw, qubits=(3,))>,\n",
       "  <Gate(label=RAW125298162253136, params=raw, qubits=(1,))>,\n",
       "  <Gate(label=RAW125298161912688, params=raw, qubits=(4,))>,\n",
       "  <Gate(label=RAW125298162422288, params=raw, qubits=(1, 4))>,\n",
       "  <Gate(label=RAW125298874448560, params=raw, qubits=(4,))>,\n",
       "  <Gate(label=RAW125298162422288, params=raw, qubits=(3, 4))>,\n",
       "  <Gate(label=RAW125298161911536, params=raw, qubits=(4,))>,\n",
       "  <Gate(label=RAW125298162422288, params=raw, qubits=(1, 4))>,\n",
       "  <Gate(label=RAW125298162253136, params=raw, qubits=(4,))>,\n",
       "  <Gate(label=RAW125298162422288, params=raw, qubits=(3, 4))>,\n",
       "  <Gate(label=RAW125298161911248, params=raw, qubits=(4,))>,\n",
       "  <Gate(label=RAW125298162422288, params=raw, qubits=(1, 4))>,\n",
       "  <Gate(label=RAW125298162253136, params=raw, qubits=(4,))>,\n",
       "  <Gate(label=RAW125298162253136, params=raw, qubits=(3,))>,\n",
       "  <Gate(label=RAW125298162422288, params=raw, qubits=(1, 3))>,\n",
       "  <Gate(label=RAW125298874448560, params=raw, qubits=(4,))>,\n",
       "  <Gate(label=RAW125298162253136, params=raw, qubits=(1,))>,\n",
       "  <Gate(label=RAW125298161913072, params=raw, qubits=(3,))>,\n",
       "  <Gate(label=RAW125298162422288, params=raw, qubits=(1, 3))>,\n",
       "  <Gate(label=RAW125298874448560, params=raw, qubits=(5,))>,\n",
       "  <Gate(label=RAW125298874448560, params=raw, qubits=(2,))>,\n",
       "  <Gate(label=RAW125298162422288, params=raw, qubits=(5, 2))>,\n",
       "  <Gate(label=RAW125298161913648, params=raw, qubits=(2,))>,\n",
       "  <Gate(label=RAW125298162422288, params=raw, qubits=(3, 2))>,\n",
       "  <Gate(label=RAW125298162253136, params=raw, qubits=(2,))>,\n",
       "  <Gate(label=RAW125298162422288, params=raw, qubits=(5, 2))>,\n",
       "  <Gate(label=RAW125298161912496, params=raw, qubits=(2,))>,\n",
       "  <Gate(label=RAW125298162422288, params=raw, qubits=(3, 2))>,\n",
       "  <Gate(label=RAW125298162253136, params=raw, qubits=(2,))>,\n",
       "  <Gate(label=RAW125298162253136, params=raw, qubits=(5,))>,\n",
       "  <Gate(label=RAW125298162422288, params=raw, qubits=(3, 5))>,\n",
       "  <Gate(label=RAW125298874448560, params=raw, qubits=(2,))>,\n",
       "  <Gate(label=RAW125298162253136, params=raw, qubits=(3,))>,\n",
       "  <Gate(label=RAW125298161912112, params=raw, qubits=(5,))>,\n",
       "  <Gate(label=RAW125298162422288, params=raw, qubits=(3, 5))>,\n",
       "  <Gate(label=RAW125298874448560, params=raw, qubits=(5,))>,\n",
       "  <Gate(label=RAW125298162422288, params=raw, qubits=(2, 5))>,\n",
       "  <Gate(label=RAW125298161558128, params=raw, qubits=(5,))>,\n",
       "  <Gate(label=RAW125298162422288, params=raw, qubits=(3, 5))>,\n",
       "  <Gate(label=RAW125298162253136, params=raw, qubits=(5,))>,\n",
       "  <Gate(label=RAW125298162422288, params=raw, qubits=(2, 5))>,\n",
       "  <Gate(label=RAW125298161558032, params=raw, qubits=(5,))>,\n",
       "  <Gate(label=RAW125298162422288, params=raw, qubits=(3, 5))>,\n",
       "  <Gate(label=RAW125298162253136, params=raw, qubits=(5,))>,\n",
       "  <Gate(label=RAW125298162253136, params=raw, qubits=(2,))>,\n",
       "  <Gate(label=RAW125298162422288, params=raw, qubits=(3, 2))>,\n",
       "  <Gate(label=RAW125298874448560, params=raw, qubits=(5,))>,\n",
       "  <Gate(label=RAW125298162253136, params=raw, qubits=(3,))>,\n",
       "  <Gate(label=RAW125298161559088, params=raw, qubits=(2,))>,\n",
       "  <Gate(label=RAW125298162422288, params=raw, qubits=(3, 2))>,\n",
       "  <Gate(label=RAW125298874448560, params=raw, qubits=(2,))>,\n",
       "  <Gate(label=RAW125298162422288, params=raw, qubits=(5, 2))>,\n",
       "  <Gate(label=RAW125298161559472, params=raw, qubits=(2,))>,\n",
       "  <Gate(label=RAW125298162422288, params=raw, qubits=(3, 2))>,\n",
       "  <Gate(label=RAW125298162253136, params=raw, qubits=(2,))>,\n",
       "  <Gate(label=RAW125298162422288, params=raw, qubits=(5, 2))>,\n",
       "  <Gate(label=RAW125298161559760, params=raw, qubits=(2,))>,\n",
       "  <Gate(label=RAW125298162422288, params=raw, qubits=(3, 2))>,\n",
       "  <Gate(label=RAW125298162253136, params=raw, qubits=(2,))>,\n",
       "  <Gate(label=RAW125298162253136, params=raw, qubits=(5,))>,\n",
       "  <Gate(label=RAW125298162422288, params=raw, qubits=(3, 5))>,\n",
       "  <Gate(label=RAW125298874448560, params=raw, qubits=(2,))>,\n",
       "  <Gate(label=RAW125298162253136, params=raw, qubits=(3,))>,\n",
       "  <Gate(label=RAW125298161557648, params=raw, qubits=(5,))>,\n",
       "  <Gate(label=RAW125298162422288, params=raw, qubits=(3, 5))>,\n",
       "  <Gate(label=RAW125298162422288, params=raw, qubits=(3, 5))>,\n",
       "  <Gate(label=RAW125298162422288, params=raw, qubits=(2, 5))>,\n",
       "  <Gate(label=RAW125298162422288, params=raw, qubits=(1, 2))>,\n",
       "  <Gate(label=RAW125298874448560, params=raw, qubits=(5,))>,\n",
       "  <Gate(label=RAW125298874448560, params=raw, qubits=(1,))>,\n",
       "  <Gate(label=RAW125298162422288, params=raw, qubits=(2, 5))>,\n",
       "  <Gate(label=RAW125298162422288, params=raw, qubits=(1, 4))>,\n",
       "  <Gate(label=RAW125298161559280, params=raw, qubits=(4,))>,\n",
       "  <Gate(label=RAW125298161560240, params=raw, qubits=(1,))>,\n",
       "  <Gate(label=RAW125298162422288, params=raw, qubits=(1, 5))>,\n",
       "  <Gate(label=RAW125298874448560, params=raw, qubits=(5,))>,\n",
       "  <Gate(label=RAW125298162422288, params=raw, qubits=(5, 4))>,\n",
       "  <Gate(label=RAW125298161557552, params=raw, qubits=(4,))>,\n",
       "  <Gate(label=RAW125298161560624, params=raw, qubits=(1,))>,\n",
       "  <Gate(label=RAW125298162422288, params=raw, qubits=(2, 4))>,\n",
       "  <Gate(label=RAW125298162422288, params=raw, qubits=(2, 1))>,\n",
       "  <Gate(label=RAW125298161560528, params=raw, qubits=(4,))>,\n",
       "  <Gate(label=RAW125298161560144, params=raw, qubits=(1,))>,\n",
       "  <Gate(label=RAW125298162422288, params=raw, qubits=(5, 4))>,\n",
       "  <Gate(label=RAW125298874448560, params=raw, qubits=(5,))>,\n",
       "  <Gate(label=RAW125298162422288, params=raw, qubits=(1, 5))>,\n",
       "  <Gate(label=RAW125298161560336, params=raw, qubits=(4,))>,\n",
       "  <Gate(label=RAW125298161561104, params=raw, qubits=(1,))>,\n",
       "  <Gate(label=RAW125298162422288, params=raw, qubits=(1, 4))>,\n",
       "  <Gate(label=RAW125298162422288, params=raw, qubits=(2, 1))>,\n",
       "  <Gate(label=RAW125298874448560, params=raw, qubits=(1,))>,\n",
       "  <Gate(label=RAW125298874448560, params=raw, qubits=(5,))>,\n",
       "  <Gate(label=RAW125298162422288, params=raw, qubits=(1, 2))>,\n",
       "  <Gate(label=RAW125298162422288, params=raw, qubits=(2, 5))>],\n",
       " '_ket_site_ind_id': 'k{}',\n",
       " '_bra_site_ind_id': 'b{}',\n",
       " 'ket_site_ind': <function str.format>,\n",
       " 'bra_site_ind': <function str.format>,\n",
       " '_sample_n_gates': -1,\n",
       " '_storage': {},\n",
       " '_sampled_conditionals': {}}"
      ]
     },
     "execution_count": 24,
     "metadata": {},
     "output_type": "execute_result"
    }
   ],
   "source": [
    "obj._interface._circuitMPS.__dict__"
   ]
  },
  {
   "cell_type": "code",
   "execution_count": null,
   "metadata": {},
   "outputs": [
    {
     "data": {
      "text/plain": [
       "<Circuit(n=6, num_gates=180, gate_opts={'contract': 'swap+split', 'propagate_tags': 'register'})>"
      ]
     },
     "execution_count": 25,
     "metadata": {},
     "output_type": "execute_result"
    }
   ],
   "source": [
    "obj._interface._circuitMPS"
   ]
  },
  {
   "cell_type": "code",
   "execution_count": null,
   "metadata": {},
   "outputs": [
    {
     "data": {
      "text/plain": [
       "8"
      ]
     },
     "execution_count": 26,
     "metadata": {},
     "output_type": "execute_result"
    }
   ],
   "source": [
    "obj._interface._circuitMPS.psi.max_bond()"
   ]
  },
  {
   "cell_type": "code",
   "execution_count": null,
   "metadata": {},
   "outputs": [
    {
     "data": {
      "text/html": [
       "<samp style='font-size: 12px;'><details><summary><b style=\"color: #d75692;\">MatrixProductState</b>(tensors=6, indices=11, L=6, max_bond=8)</summary><samp style='font-size: 12px;'><details><summary><b style=\"color: #e55471;\">Tensor</b>(shape=(<b style=\"color: #828fdd;\">2</b>, <b style=\"color: #828fdd;\">2</b>), inds=[<b style=\"color: #6fcdc9;\">_703bf6AAAAF</b>, <b style=\"color: #b1dc61;\">k0</b>], tags={<b style=\"color: #74d649;\">0</b>, <b style=\"color: #45ce3d;\">1</b>, <b style=\"color: #828fdd;\">2</b>, <b style=\"color: #8a5bcf;\">3</b>, <b style=\"color: #80d749;\">4</b>, <b style=\"color: #7355d7;\">5</b>, <b style=\"color: #d2b137;\">I0</b>, <b style=\"color: #d3b991;\">PSI0</b>, <b style=\"color: #394bd1;\">GATE_3</b>, <b style=\"color: #da9170;\">GATE_7</b>, <b style=\"color: #e3a694;\">GATE_12</b>, <b style=\"color: #d8e230;\">GATE_16</b>, <b style=\"color: #4fe13d;\">GATE_21</b>, <b style=\"color: #9fe3c6;\">GATE_24</b>}),</summary>backend=<b style=\"color: #7fdd73;\">numpy</b>, dtype=<b style=\"color: #443ce1;\">complex128</b>, data=array([[1.+0.j, 0.+0.j],\n",
       "       [0.+0.j, 1.+0.j]])</details></samp><samp style='font-size: 12px;'><details><summary><b style=\"color: #e55471;\">Tensor</b>(shape=(<b style=\"color: #828fdd;\">2</b>, <b style=\"color: #80d749;\">4</b>, <b style=\"color: #828fdd;\">2</b>), inds=[<b style=\"color: #6fcdc9;\">_703bf6AAAAF</b>, <b style=\"color: #7884da;\">_703bf6AAAAG</b>, <b style=\"color: #8aa5db;\">k1</b>], tags={<b style=\"color: #74d649;\">0</b>, <b style=\"color: #45ce3d;\">1</b>, <b style=\"color: #828fdd;\">2</b>, <b style=\"color: #8a5bcf;\">3</b>, <b style=\"color: #80d749;\">4</b>, <b style=\"color: #7355d7;\">5</b>, <b style=\"color: #d19b78;\">I1</b>, <b style=\"color: #d3b991;\">PSI0</b>, <b style=\"color: #bade88;\">GATE_6</b>, <b style=\"color: #3bd699;\">GATE_11</b>, <b style=\"color: #71d75c;\">GATE_15</b>, <b style=\"color: #dfa87e;\">GATE_20</b>, <b style=\"color: #8ed0e1;\">GATE_28</b>, <b style=\"color: #b776d2;\">GATE_29</b>, <b style=\"color: #b9db52;\">GATE_72</b>, <b style=\"color: #e14f72;\">GATE_87</b>, <b style=\"color: #cd39a5;\">GATE_102</b>, <b style=\"color: #bfd68e;\">GATE_155</b>, <b style=\"color: #4e92d6;\">GATE_159</b>, <b style=\"color: #76e5d7;\">GATE_164</b>, <b style=\"color: #c292d3;\">GATE_168</b>, <b style=\"color: #d4852c;\">GATE_173</b>, <b style=\"color: #7ccad2;\">GATE_176</b>}),</summary>backend=<b style=\"color: #7fdd73;\">numpy</b>, dtype=<b style=\"color: #443ce1;\">complex128</b>, data=array([[[-4.94847129e-02+1.97848292e-19j,\n",
       "         -2.80355834e-15-9.98774881e-01j],\n",
       "        [ 9.98774881e-01+1.41910875e-16j,\n",
       "         -1.31674572e-16-4.94847129e-02j],\n",
       "        [ 8.50492721e-15+2.00002472e-30j,\n",
       "         -8.08937058e-19-4.27333511e-16j],\n",
       "        [ 9.63651091e-15-3.47257869e-30j,\n",
       "         -1.39667362e-17-4.60896622e-16j]],\n",
       "\n",
       "       [[ 4.71675440e-18+6.95820713e-18j,\n",
       "         -1.97182789e-17-6.65589515e-18j],\n",
       "        [ 4.21542895e-15+5.96138608e-15j,\n",
       "          5.59206558e-15+9.00064987e-15j],\n",
       "        [-5.31956911e-01-8.37411526e-01j,\n",
       "         -9.25714502e-02-8.48192692e-02j],\n",
       "        [ 3.26076176e-02+1.21245722e-01j,\n",
       "         -4.97989053e-01-8.58046107e-01j]]])</details></samp><samp style='font-size: 12px;'><details><summary><b style=\"color: #e55471;\">Tensor</b>(shape=(<b style=\"color: #80d749;\">4</b>, <b style=\"color: #39acd6;\">8</b>, <b style=\"color: #828fdd;\">2</b>), inds=[<b style=\"color: #7884da;\">_703bf6AAAAG</b>, <b style=\"color: #31d4b9;\">_703bf6AAAAH</b>, <b style=\"color: #df546d;\">k2</b>], tags={<b style=\"color: #74d649;\">0</b>, <b style=\"color: #45ce3d;\">1</b>, <b style=\"color: #828fdd;\">2</b>, <b style=\"color: #8a5bcf;\">3</b>, <b style=\"color: #80d749;\">4</b>, <b style=\"color: #7355d7;\">5</b>, <b style=\"color: #dd5dd7;\">I2</b>, <b style=\"color: #d3b991;\">PSI0</b>, <b style=\"color: #66dbca;\">GATE_106</b>, <b style=\"color: #e46e6c;\">GATE_108</b>, <b style=\"color: #b96edd;\">GATE_110</b>, <b style=\"color: #db5d88;\">GATE_112</b>, <b style=\"color: #d8e156;\">GATE_114</b>, <b style=\"color: #d992b1;\">GATE_117</b>, <b style=\"color: #c061ce;\">GATE_130</b>, <b style=\"color: #92dc86;\">GATE_134</b>, <b style=\"color: #df977f;\">GATE_136</b>, <b style=\"color: #cd8979;\">GATE_138</b>, <b style=\"color: #dc64d3;\">GATE_140</b>, <b style=\"color: #5f64d5;\">GATE_142</b>, <b style=\"color: #51b5d3;\">GATE_144</b>, <b style=\"color: #39d176;\">GATE_147</b>}),</summary>backend=<b style=\"color: #7fdd73;\">numpy</b>, dtype=<b style=\"color: #443ce1;\">complex128</b>, data=array([[[-1.77635684e-15+9.99987397e-01j,\n",
       "         -2.59774841e-16+5.00846705e-03j],\n",
       "        [ 6.72538524e-16+4.99596988e-03j,\n",
       "         -7.59365698e-14-9.97504606e-01j],\n",
       "        [-6.91691790e-14+4.96952962e-04j,\n",
       "          6.98000837e-12-5.01072820e-02j],\n",
       "        [ 1.26053254e-15-4.17190511e-16j,\n",
       "          4.55785853e-02+1.91281211e-02j],\n",
       "        [ 2.02313036e-18+1.94154203e-17j,\n",
       "          9.80790004e-05+2.46833474e-04j],\n",
       "        [-8.76453272e-18-3.19621695e-17j,\n",
       "         -2.91800877e-04-8.19251731e-04j],\n",
       "        [ 4.48624126e-17+1.36041265e-17j,\n",
       "          8.30592311e-04+1.57027844e-03j],\n",
       "        [-2.87133383e-17-2.32802328e-17j,\n",
       "          1.11742672e-04-1.20388753e-03j]],\n",
       "\n",
       "       [[ 2.30935063e-17-2.45679384e-04j,\n",
       "         -8.86308171e-16+2.48146563e-04j],\n",
       "        [-3.82225004e-15-5.01706044e-02j,\n",
       "         -1.59829823e-17-4.94217766e-02j],\n",
       "        [-1.39086431e-10+9.98740632e-01j,\n",
       "          3.06186322e-13-2.48258593e-03j],\n",
       "        [ 3.32122616e-14-2.91034665e-14j,\n",
       "         -9.19935540e-01-3.86072502e-01j],\n",
       "        [-3.88887150e-15-2.78376575e-15j,\n",
       "         -1.97957786e-03-4.98196431e-03j],\n",
       "        [ 2.91072869e-15-1.05563587e-14j,\n",
       "          5.88956406e-03+1.65353703e-02j],\n",
       "        [-5.85812044e-17+2.47104967e-15j,\n",
       "         -1.67642629e-02-3.16937206e-02j],\n",
       "        [-1.05720422e-14+1.86847609e-15j,\n",
       "         -2.25535862e-03+2.42986683e-02j]],\n",
       "\n",
       "       [[-1.62152957e-18-3.32371254e-18j,\n",
       "         -2.32682224e-17+1.37167739e-18j],\n",
       "        [-3.94792894e-16-2.60775178e-16j,\n",
       "         -3.50887396e-16-6.68803494e-16j],\n",
       "        [-7.23652940e-15-9.29096637e-15j,\n",
       "         -3.01846644e-15+8.80162633e-16j],\n",
       "        [ 1.05631599e-03-2.54596733e-03j,\n",
       "         -7.25203286e-03+1.21069619e-03j],\n",
       "        [-5.24477800e-01-2.70666837e-01j,\n",
       "          7.92397659e-01+9.30326708e-02j],\n",
       "        [-3.32559320e-01-6.88314250e-01j,\n",
       "         -4.09589612e-01-3.94464742e-01j],\n",
       "        [-1.45218291e-01-1.49681051e-01j,\n",
       "         -1.79804927e-01-8.10493949e-02j],\n",
       "        [-1.32459528e-02+1.53670006e-01j,\n",
       "          1.45290403e-03-3.36125524e-02j]],\n",
       "\n",
       "       [[-2.64559248e-18-6.28345200e-19j,\n",
       "          4.44526116e-18-4.47190684e-19j],\n",
       "        [-4.14532827e-16-2.33050131e-16j,\n",
       "         -5.29654282e-16-1.27431420e-16j],\n",
       "        [-9.48672102e-15-3.61324193e-15j,\n",
       "         -7.32306725e-16-2.39235609e-15j],\n",
       "        [-7.63951724e-04+5.04225368e-04j,\n",
       "         -4.42915367e-02+1.41102529e-02j],\n",
       "        [ 1.03774102e-01+5.20790701e-02j,\n",
       "         -3.37165841e-02+2.15977139e-02j],\n",
       "        [ 2.01544817e-03-7.18409145e-02j,\n",
       "         -2.36156997e-01-1.76117974e-01j],\n",
       "        [ 2.73869685e-01+4.60811181e-01j,\n",
       "          7.45269669e-01+2.71184989e-01j],\n",
       "        [-7.07290273e-02+8.30059362e-01j,\n",
       "         -3.03308870e-01-4.34147181e-01j]]])</details></samp><samp style='font-size: 12px;'><details><summary><b style=\"color: #e55471;\">Tensor</b>(shape=(<b style=\"color: #39acd6;\">8</b>, <b style=\"color: #80d749;\">4</b>, <b style=\"color: #828fdd;\">2</b>), inds=[<b style=\"color: #31d4b9;\">_703bf6AAAAH</b>, <b style=\"color: #4261e1;\">_703bf6AAAAI</b>, <b style=\"color: #4c7be1;\">k3</b>], tags={<b style=\"color: #74d649;\">0</b>, <b style=\"color: #45ce3d;\">1</b>, <b style=\"color: #828fdd;\">2</b>, <b style=\"color: #8a5bcf;\">3</b>, <b style=\"color: #80d749;\">4</b>, <b style=\"color: #7355d7;\">5</b>, <b style=\"color: #dd65d9;\">I3</b>, <b style=\"color: #d3b991;\">PSI0</b>, <b style=\"color: #64dc8a;\">GATE_2</b>, <b style=\"color: #de70db;\">GATE_9</b>, <b style=\"color: #a4cd58;\">GATE_18</b>, <b style=\"color: #56cf38;\">GATE_25</b>, <b style=\"color: #41d56c;\">GATE_38</b>, <b style=\"color: #ce2b3b;\">GATE_43</b>, <b style=\"color: #4d78d7;\">GATE_47</b>, <b style=\"color: #8ed8b7;\">GATE_52</b>, <b style=\"color: #acd280;\">GATE_69</b>, <b style=\"color: #de448f;\">GATE_73</b>, <b style=\"color: #de94a1;\">GATE_75</b>, <b style=\"color: #d88c7f;\">GATE_77</b>, <b style=\"color: #cfb283;\">GATE_79</b>, <b style=\"color: #8c6edd;\">GATE_81</b>, <b style=\"color: #53d4b1;\">GATE_83</b>, <b style=\"color: #8c64d6;\">GATE_86</b>, <b style=\"color: #7ada9b;\">GATE_99</b>, <b style=\"color: #a261e3;\">GATE_103</b>, <b style=\"color: #65d5a0;\">GATE_118</b>, <b style=\"color: #d18cc3;\">GATE_133</b>, <b style=\"color: #de804b;\">GATE_148</b>}),</summary>backend=<b style=\"color: #7fdd73;\">numpy</b>, dtype=<b style=\"color: #443ce1;\">complex128</b>, data=array([[[-9.97461284e-01+5.94755681e-18j,\n",
       "          4.07581052e-17+5.04180958e-02j],\n",
       "        [ 7.10336280e-02-2.07460716e-16j,\n",
       "          6.43261291e-15+7.07975881e-01j],\n",
       "        [ 2.51900231e-04-2.63250170e-15j,\n",
       "          2.70516430e-14+1.26370867e-05j],\n",
       "        [-2.84002143e-04-1.10866771e-05j,\n",
       "          5.15646873e-02-4.81424758e-02j]],\n",
       "\n",
       "       [[-5.00818640e-03-4.24106548e-16j,\n",
       "          3.92336684e-15-5.00391807e-02j],\n",
       "        [ 3.57550599e-04-6.01991713e-15j,\n",
       "          5.62649989e-14-7.02655119e-01j],\n",
       "        [-5.01681122e-02+5.63408330e-13j,\n",
       "          3.13815604e-14-1.25421131e-05j],\n",
       "        [ 5.65629049e-02+2.20806314e-03j,\n",
       "          5.19558633e-02-4.85077434e-02j]],\n",
       "\n",
       "       [[-1.25684710e-06+1.78563445e-16j,\n",
       "         -1.67928527e-15-1.25576041e-05j],\n",
       "        [-1.77376178e-05+5.28554743e-15j,\n",
       "         -2.55639754e-14-1.76335118e-04j],\n",
       "        [ 9.98740756e-01-1.50414130e-10j,\n",
       "          3.02566212e-15-3.14748655e-09j],\n",
       "        [ 2.84130360e-03+1.10916823e-04j,\n",
       "         -2.82591882e-03+2.84967788e-03j]],\n",
       "\n",
       "       [[-2.48570701e-18+3.44014610e-21j,\n",
       "          1.54111448e-17-8.62527334e-17j],\n",
       "        [-7.02211747e-15+9.71840605e-18j,\n",
       "         -2.20788523e-16+1.23573896e-15j],\n",
       "        [-2.49633349e-17+3.45485250e-20j,\n",
       "         -7.09719172e-14+7.39506017e-15j],\n",
       "        [-6.19099580e-01-7.72553142e-01j,\n",
       "         -4.88769211e-02+4.08039330e-02j]],\n",
       "\n",
       "       [[ 2.81885122e-20-3.30442171e-20j,\n",
       "         -6.49395849e-17+2.78536092e-16j],\n",
       "        [ 7.96324922e-17-9.33498490e-17j,\n",
       "          9.30387972e-16-3.99057719e-15j],\n",
       "        [ 2.83090191e-19-3.31854823e-19j,\n",
       "         -1.13169841e-14+1.36086756e-14j],\n",
       "        [ 1.68411842e-03-1.01630799e-03j,\n",
       "         -1.15689349e-02+2.83261585e-02j]],\n",
       "\n",
       "       [[ 8.70287006e-20+2.41079677e-20j,\n",
       "          4.73450270e-17+1.03559125e-17j],\n",
       "        [ 2.45855910e-16+6.81049619e-17j,\n",
       "         -6.78310652e-16-1.48366900e-16j],\n",
       "        [ 8.74007509e-19+2.42110300e-19j,\n",
       "          2.84508080e-15-2.07972864e-14j],\n",
       "        [-2.26998371e-03+3.04029163e-03j,\n",
       "         -3.78297285e-02-1.46578784e-03j]],\n",
       "\n",
       "       [[-1.37171754e-19+8.11144339e-21j,\n",
       "          1.59066739e-17-6.61603776e-18j],\n",
       "        [-3.87509937e-16+2.29148118e-17j,\n",
       "         -2.27893108e-16+9.47863541e-17j],\n",
       "        [-1.37758167e-18+8.14611999e-20j,\n",
       "         -1.34223238e-14+1.52480159e-14j],\n",
       "        [ 1.51625434e-03+1.48882109e-03j,\n",
       "         -9.61593100e-03-8.99342099e-03j]],\n",
       "\n",
       "       [[-9.37384341e-20-2.22756865e-22j,\n",
       "         -4.40921390e-19+3.38635806e-19j],\n",
       "        [-2.64810894e-16-6.29287709e-19j,\n",
       "          6.31701855e-18-4.85156160e-18j],\n",
       "        [-9.41391687e-19-2.23709169e-21j,\n",
       "          5.06582885e-16-6.77004316e-16j],\n",
       "        [ 2.30027161e-04+3.36005527e-04j,\n",
       "          3.35846206e-05+3.96752213e-04j]]])</details></samp><samp style='font-size: 12px;'><details><summary><b style=\"color: #e55471;\">Tensor</b>(shape=(<b style=\"color: #80d749;\">4</b>, <b style=\"color: #828fdd;\">2</b>, <b style=\"color: #828fdd;\">2</b>), inds=[<b style=\"color: #4261e1;\">_703bf6AAAAI</b>, <b style=\"color: #6cccd9;\">_703bf6AAAAJ</b>, <b style=\"color: #462edc;\">k4</b>], tags={<b style=\"color: #74d649;\">0</b>, <b style=\"color: #45ce3d;\">1</b>, <b style=\"color: #828fdd;\">2</b>, <b style=\"color: #8a5bcf;\">3</b>, <b style=\"color: #80d749;\">4</b>, <b style=\"color: #7355d7;\">5</b>, <b style=\"color: #998ad1;\">I4</b>, <b style=\"color: #d3b991;\">PSI0</b>, <b style=\"color: #9f5bd1;\">GATE_30</b>, <b style=\"color: #b885d5;\">GATE_35</b>, <b style=\"color: #81e4a5;\">GATE_39</b>, <b style=\"color: #74d5bd;\">GATE_44</b>, <b style=\"color: #b96edd;\">GATE_48</b>, <b style=\"color: #da53d5;\">GATE_53</b>, <b style=\"color: #8cd1ce;\">GATE_56</b>, <b style=\"color: #2fd2cf;\">GATE_60</b>, <b style=\"color: #8cd492;\">GATE_62</b>, <b style=\"color: #54cedf;\">GATE_64</b>, <b style=\"color: #da8cd0;\">GATE_66</b>, <b style=\"color: #d666a7;\">GATE_68</b>, <b style=\"color: #d12f74;\">GATE_71</b>, <b style=\"color: #cebd78;\">GATE_84</b>, <b style=\"color: #b6e595;\">GATE_88</b>, <b style=\"color: #7ec4d5;\">GATE_90</b>, <b style=\"color: #c4e57a;\">GATE_92</b>, <b style=\"color: #ac52e1;\">GATE_94</b>, <b style=\"color: #4145cc;\">GATE_96</b>, <b style=\"color: #e37ed3;\">GATE_98</b>, <b style=\"color: #a236d5;\">GATE_101</b>, <b style=\"color: #6494ce;\">GATE_158</b>, <b style=\"color: #70e45f;\">GATE_163</b>, <b style=\"color: #d767e4;\">GATE_167</b>, <b style=\"color: #cdbb82;\">GATE_172</b>}),</summary>backend=<b style=\"color: #7fdd73;\">numpy</b>, dtype=<b style=\"color: #443ce1;\">complex128</b>, data=array([[[-9.98748718e-01+1.47938803e-18j,\n",
       "          9.66493489e-17+2.49057268e-04j],\n",
       "        [ 4.73681038e-07-9.54134490e-18j,\n",
       "          1.63119790e-14+4.70936632e-06j]],\n",
       "\n",
       "       [[ 4.42209480e-09+1.25783786e-19j,\n",
       "          2.04128599e-16-1.78255304e-05j],\n",
       "        [ 2.65193213e-01-4.06808905e-19j,\n",
       "         -1.04157887e-15-3.37058834e-07j]],\n",
       "\n",
       "       [[ 1.24425291e-06+1.47253594e-17j,\n",
       "         -5.65985550e-14+4.98947300e-03j],\n",
       "        [ 4.75712019e-06-3.04364564e-19j,\n",
       "          1.51121557e-17+9.43447918e-05j]],\n",
       "\n",
       "       [[-5.91993337e-30+1.97760530e-29j,\n",
       "          1.01867529e-27-2.29955476e-17j],\n",
       "        [-3.71661503e-29+6.77487506e-29j,\n",
       "         -5.65693981e-25+1.72495978e-14j]]])</details></samp><samp style='font-size: 12px;'><details><summary><b style=\"color: #e55471;\">Tensor</b>(shape=(<b style=\"color: #828fdd;\">2</b>, <b style=\"color: #828fdd;\">2</b>), inds=[<b style=\"color: #6cccd9;\">_703bf6AAAAJ</b>, <b style=\"color: #85dfdf;\">k5</b>], tags={<b style=\"color: #74d649;\">0</b>, <b style=\"color: #45ce3d;\">1</b>, <b style=\"color: #828fdd;\">2</b>, <b style=\"color: #8a5bcf;\">3</b>, <b style=\"color: #80d749;\">4</b>, <b style=\"color: #7355d7;\">5</b>, <b style=\"color: #97dddc;\">I5</b>, <b style=\"color: #d3b991;\">PSI0</b>, <b style=\"color: #ac6be4;\">GATE_34</b>, <b style=\"color: #5373d2;\">GATE_41</b>, <b style=\"color: #4be341;\">GATE_50</b>, <b style=\"color: #e2ba6c;\">GATE_57</b>, <b style=\"color: #a2d946;\">GATE_105</b>, <b style=\"color: #7fbdd3;\">GATE_115</b>, <b style=\"color: #7fd5da;\">GATE_119</b>, <b style=\"color: #7bd26d;\">GATE_121</b>, <b style=\"color: #c395e3;\">GATE_123</b>, <b style=\"color: #57cd77;\">GATE_125</b>, <b style=\"color: #8d74da;\">GATE_127</b>, <b style=\"color: #c8dd4f;\">GATE_129</b>, <b style=\"color: #9dcee4;\">GATE_132</b>, <b style=\"color: #d3e265;\">GATE_145</b>, <b style=\"color: #66d8d4;\">GATE_149</b>, <b style=\"color: #8ad771;\">GATE_154</b>, <b style=\"color: #af7fdf;\">GATE_161</b>, <b style=\"color: #5d88ce;\">GATE_170</b>, <b style=\"color: #dc5073;\">GATE_177</b>}),</summary>backend=<b style=\"color: #7fdd73;\">numpy</b>, dtype=<b style=\"color: #443ce1;\">complex128</b>, data=array([[ 0.7026762 +0.00000000e+00j,  0.70976765-2.12581265e-16j],\n",
       "       [ 0.18845904+0.00000000e+00j, -0.1865761 +5.58810804e-17j]])</details></samp></details></samp>"
      ],
      "text/plain": [
       "MatrixProductState(tensors=6, indices=11, L=6, max_bond=8)"
      ]
     },
     "execution_count": 27,
     "metadata": {},
     "output_type": "execute_result"
    }
   ],
   "source": [
    "obj._interface._circuitMPS.psi"
   ]
  },
  {
   "cell_type": "code",
   "execution_count": null,
   "metadata": {},
   "outputs": [
    {
     "data": {
      "image/png": "[encoded data removed]",
      "text/plain": [
       "<Figure size 600x600 with 1 Axes>"
      ]
     },
     "metadata": {
      "needs_background": "light"
     },
     "output_type": "display_data"
    }
   ],
   "source": [
    "obj._interface._circuitMPS.psi.draw(\n",
    "    color=[f\"I{q}\" for q in range(len(wires))], show_tags=False, show_inds=True\n",
    ")"
   ]
  },
  {
   "cell_type": "code",
   "execution_count": null,
   "metadata": {},
   "outputs": [],
   "source": [
    "# obj.compute_derivatives(tape)"
   ]
  },
  {
   "cell_type": "code",
   "execution_count": null,
   "metadata": {},
   "outputs": [],
   "source": [
    "# obj._interface.state_to_array()"
   ]
  },
  {
   "cell_type": "code",
   "execution_count": null,
   "metadata": {},
   "outputs": [
    {
     "data": {
      "text/html": [
       "<samp style='font-size: 12px;'><details><summary><b style=\"color: #d75692;\">MatrixProductState</b>(tensors=6, indices=11, L=6, max_bond=8)</summary><samp style='font-size: 12px;'><details><summary><b style=\"color: #e55471;\">Tensor</b>(shape=(<b style=\"color: #828fdd;\">2</b>, <b style=\"color: #828fdd;\">2</b>), inds=[<b style=\"color: #6fcdc9;\">_703bf6AAAAF</b>, <b style=\"color: #b1dc61;\">k0</b>], tags={<b style=\"color: #74d649;\">0</b>, <b style=\"color: #45ce3d;\">1</b>, <b style=\"color: #828fdd;\">2</b>, <b style=\"color: #8a5bcf;\">3</b>, <b style=\"color: #80d749;\">4</b>, <b style=\"color: #7355d7;\">5</b>, <b style=\"color: #d2b137;\">I0</b>, <b style=\"color: #d3b991;\">PSI0</b>, <b style=\"color: #394bd1;\">GATE_3</b>, <b style=\"color: #da9170;\">GATE_7</b>, <b style=\"color: #e3a694;\">GATE_12</b>, <b style=\"color: #d8e230;\">GATE_16</b>, <b style=\"color: #4fe13d;\">GATE_21</b>, <b style=\"color: #9fe3c6;\">GATE_24</b>}),</summary>backend=<b style=\"color: #7fdd73;\">numpy</b>, dtype=<b style=\"color: #443ce1;\">complex128</b>, data=array([[1.+0.j, 0.+0.j],\n",
       "       [0.+0.j, 1.+0.j]])</details></samp><samp style='font-size: 12px;'><details><summary><b style=\"color: #e55471;\">Tensor</b>(shape=(<b style=\"color: #828fdd;\">2</b>, <b style=\"color: #80d749;\">4</b>, <b style=\"color: #828fdd;\">2</b>), inds=[<b style=\"color: #6fcdc9;\">_703bf6AAAAF</b>, <b style=\"color: #7884da;\">_703bf6AAAAG</b>, <b style=\"color: #8aa5db;\">k1</b>], tags={<b style=\"color: #74d649;\">0</b>, <b style=\"color: #45ce3d;\">1</b>, <b style=\"color: #828fdd;\">2</b>, <b style=\"color: #8a5bcf;\">3</b>, <b style=\"color: #80d749;\">4</b>, <b style=\"color: #7355d7;\">5</b>, <b style=\"color: #d19b78;\">I1</b>, <b style=\"color: #d3b991;\">PSI0</b>, <b style=\"color: #bade88;\">GATE_6</b>, <b style=\"color: #3bd699;\">GATE_11</b>, <b style=\"color: #71d75c;\">GATE_15</b>, <b style=\"color: #dfa87e;\">GATE_20</b>, <b style=\"color: #8ed0e1;\">GATE_28</b>, <b style=\"color: #b776d2;\">GATE_29</b>, <b style=\"color: #b9db52;\">GATE_72</b>, <b style=\"color: #e14f72;\">GATE_87</b>, <b style=\"color: #cd39a5;\">GATE_102</b>, <b style=\"color: #bfd68e;\">GATE_155</b>, <b style=\"color: #4e92d6;\">GATE_159</b>, <b style=\"color: #76e5d7;\">GATE_164</b>, <b style=\"color: #c292d3;\">GATE_168</b>, <b style=\"color: #d4852c;\">GATE_173</b>, <b style=\"color: #7ccad2;\">GATE_176</b>}),</summary>backend=<b style=\"color: #7fdd73;\">numpy</b>, dtype=<b style=\"color: #443ce1;\">complex128</b>, data=array([[[-4.94847129e-02+1.97848292e-19j,\n",
       "         -2.80355834e-15-9.98774881e-01j],\n",
       "        [ 9.98774881e-01+1.41910875e-16j,\n",
       "         -1.31674572e-16-4.94847129e-02j],\n",
       "        [ 8.50492721e-15+2.00002472e-30j,\n",
       "         -8.08937058e-19-4.27333511e-16j],\n",
       "        [ 9.63651091e-15-3.47257869e-30j,\n",
       "         -1.39667362e-17-4.60896622e-16j]],\n",
       "\n",
       "       [[ 4.71675440e-18+6.95820713e-18j,\n",
       "         -1.97182789e-17-6.65589515e-18j],\n",
       "        [ 4.21542895e-15+5.96138608e-15j,\n",
       "          5.59206558e-15+9.00064987e-15j],\n",
       "        [-5.31956911e-01-8.37411526e-01j,\n",
       "         -9.25714502e-02-8.48192692e-02j],\n",
       "        [ 3.26076176e-02+1.21245722e-01j,\n",
       "         -4.97989053e-01-8.58046107e-01j]]])</details></samp><samp style='font-size: 12px;'><details><summary><b style=\"color: #e55471;\">Tensor</b>(shape=(<b style=\"color: #80d749;\">4</b>, <b style=\"color: #39acd6;\">8</b>, <b style=\"color: #828fdd;\">2</b>), inds=[<b style=\"color: #7884da;\">_703bf6AAAAG</b>, <b style=\"color: #31d4b9;\">_703bf6AAAAH</b>, <b style=\"color: #df546d;\">k2</b>], tags={<b style=\"color: #74d649;\">0</b>, <b style=\"color: #45ce3d;\">1</b>, <b style=\"color: #828fdd;\">2</b>, <b style=\"color: #8a5bcf;\">3</b>, <b style=\"color: #80d749;\">4</b>, <b style=\"color: #7355d7;\">5</b>, <b style=\"color: #dd5dd7;\">I2</b>, <b style=\"color: #d3b991;\">PSI0</b>, <b style=\"color: #66dbca;\">GATE_106</b>, <b style=\"color: #e46e6c;\">GATE_108</b>, <b style=\"color: #b96edd;\">GATE_110</b>, <b style=\"color: #db5d88;\">GATE_112</b>, <b style=\"color: #d8e156;\">GATE_114</b>, <b style=\"color: #d992b1;\">GATE_117</b>, <b style=\"color: #c061ce;\">GATE_130</b>, <b style=\"color: #92dc86;\">GATE_134</b>, <b style=\"color: #df977f;\">GATE_136</b>, <b style=\"color: #cd8979;\">GATE_138</b>, <b style=\"color: #dc64d3;\">GATE_140</b>, <b style=\"color: #5f64d5;\">GATE_142</b>, <b style=\"color: #51b5d3;\">GATE_144</b>, <b style=\"color: #39d176;\">GATE_147</b>}),</summary>backend=<b style=\"color: #7fdd73;\">numpy</b>, dtype=<b style=\"color: #443ce1;\">complex128</b>, data=array([[[-1.77635684e-15+9.99987397e-01j,\n",
       "         -2.59774841e-16+5.00846705e-03j],\n",
       "        [ 6.72538524e-16+4.99596988e-03j,\n",
       "         -7.59365698e-14-9.97504606e-01j],\n",
       "        [-6.91691790e-14+4.96952962e-04j,\n",
       "          6.98000837e-12-5.01072820e-02j],\n",
       "        [ 1.26053254e-15-4.17190511e-16j,\n",
       "          4.55785853e-02+1.91281211e-02j],\n",
       "        [ 2.02313036e-18+1.94154203e-17j,\n",
       "          9.80790004e-05+2.46833474e-04j],\n",
       "        [-8.76453272e-18-3.19621695e-17j,\n",
       "         -2.91800877e-04-8.19251731e-04j],\n",
       "        [ 4.48624126e-17+1.36041265e-17j,\n",
       "          8.30592311e-04+1.57027844e-03j],\n",
       "        [-2.87133383e-17-2.32802328e-17j,\n",
       "          1.11742672e-04-1.20388753e-03j]],\n",
       "\n",
       "       [[ 2.30935063e-17-2.45679384e-04j,\n",
       "         -8.86308171e-16+2.48146563e-04j],\n",
       "        [-3.82225004e-15-5.01706044e-02j,\n",
       "         -1.59829823e-17-4.94217766e-02j],\n",
       "        [-1.39086431e-10+9.98740632e-01j,\n",
       "          3.06186322e-13-2.48258593e-03j],\n",
       "        [ 3.32122616e-14-2.91034665e-14j,\n",
       "         -9.19935540e-01-3.86072502e-01j],\n",
       "        [-3.88887150e-15-2.78376575e-15j,\n",
       "         -1.97957786e-03-4.98196431e-03j],\n",
       "        [ 2.91072869e-15-1.05563587e-14j,\n",
       "          5.88956406e-03+1.65353703e-02j],\n",
       "        [-5.85812044e-17+2.47104967e-15j,\n",
       "         -1.67642629e-02-3.16937206e-02j],\n",
       "        [-1.05720422e-14+1.86847609e-15j,\n",
       "         -2.25535862e-03+2.42986683e-02j]],\n",
       "\n",
       "       [[-1.62152957e-18-3.32371254e-18j,\n",
       "         -2.32682224e-17+1.37167739e-18j],\n",
       "        [-3.94792894e-16-2.60775178e-16j,\n",
       "         -3.50887396e-16-6.68803494e-16j],\n",
       "        [-7.23652940e-15-9.29096637e-15j,\n",
       "         -3.01846644e-15+8.80162633e-16j],\n",
       "        [ 1.05631599e-03-2.54596733e-03j,\n",
       "         -7.25203286e-03+1.21069619e-03j],\n",
       "        [-5.24477800e-01-2.70666837e-01j,\n",
       "          7.92397659e-01+9.30326708e-02j],\n",
       "        [-3.32559320e-01-6.88314250e-01j,\n",
       "         -4.09589612e-01-3.94464742e-01j],\n",
       "        [-1.45218291e-01-1.49681051e-01j,\n",
       "         -1.79804927e-01-8.10493949e-02j],\n",
       "        [-1.32459528e-02+1.53670006e-01j,\n",
       "          1.45290403e-03-3.36125524e-02j]],\n",
       "\n",
       "       [[-2.64559248e-18-6.28345200e-19j,\n",
       "          4.44526116e-18-4.47190684e-19j],\n",
       "        [-4.14532827e-16-2.33050131e-16j,\n",
       "         -5.29654282e-16-1.27431420e-16j],\n",
       "        [-9.48672102e-15-3.61324193e-15j,\n",
       "         -7.32306725e-16-2.39235609e-15j],\n",
       "        [-7.63951724e-04+5.04225368e-04j,\n",
       "         -4.42915367e-02+1.41102529e-02j],\n",
       "        [ 1.03774102e-01+5.20790701e-02j,\n",
       "         -3.37165841e-02+2.15977139e-02j],\n",
       "        [ 2.01544817e-03-7.18409145e-02j,\n",
       "         -2.36156997e-01-1.76117974e-01j],\n",
       "        [ 2.73869685e-01+4.60811181e-01j,\n",
       "          7.45269669e-01+2.71184989e-01j],\n",
       "        [-7.07290273e-02+8.30059362e-01j,\n",
       "         -3.03308870e-01-4.34147181e-01j]]])</details></samp><samp style='font-size: 12px;'><details><summary><b style=\"color: #e55471;\">Tensor</b>(shape=(<b style=\"color: #39acd6;\">8</b>, <b style=\"color: #80d749;\">4</b>, <b style=\"color: #828fdd;\">2</b>), inds=[<b style=\"color: #31d4b9;\">_703bf6AAAAH</b>, <b style=\"color: #4261e1;\">_703bf6AAAAI</b>, <b style=\"color: #4c7be1;\">k3</b>], tags={<b style=\"color: #74d649;\">0</b>, <b style=\"color: #45ce3d;\">1</b>, <b style=\"color: #828fdd;\">2</b>, <b style=\"color: #8a5bcf;\">3</b>, <b style=\"color: #80d749;\">4</b>, <b style=\"color: #7355d7;\">5</b>, <b style=\"color: #dd65d9;\">I3</b>, <b style=\"color: #d3b991;\">PSI0</b>, <b style=\"color: #64dc8a;\">GATE_2</b>, <b style=\"color: #de70db;\">GATE_9</b>, <b style=\"color: #a4cd58;\">GATE_18</b>, <b style=\"color: #56cf38;\">GATE_25</b>, <b style=\"color: #41d56c;\">GATE_38</b>, <b style=\"color: #ce2b3b;\">GATE_43</b>, <b style=\"color: #4d78d7;\">GATE_47</b>, <b style=\"color: #8ed8b7;\">GATE_52</b>, <b style=\"color: #acd280;\">GATE_69</b>, <b style=\"color: #de448f;\">GATE_73</b>, <b style=\"color: #de94a1;\">GATE_75</b>, <b style=\"color: #d88c7f;\">GATE_77</b>, <b style=\"color: #cfb283;\">GATE_79</b>, <b style=\"color: #8c6edd;\">GATE_81</b>, <b style=\"color: #53d4b1;\">GATE_83</b>, <b style=\"color: #8c64d6;\">GATE_86</b>, <b style=\"color: #7ada9b;\">GATE_99</b>, <b style=\"color: #a261e3;\">GATE_103</b>, <b style=\"color: #65d5a0;\">GATE_118</b>, <b style=\"color: #d18cc3;\">GATE_133</b>, <b style=\"color: #de804b;\">GATE_148</b>}),</summary>backend=<b style=\"color: #7fdd73;\">numpy</b>, dtype=<b style=\"color: #443ce1;\">complex128</b>, data=array([[[-9.97461284e-01+5.94755681e-18j,\n",
       "          4.07581052e-17+5.04180958e-02j],\n",
       "        [ 7.10336280e-02-2.07460716e-16j,\n",
       "          6.43261291e-15+7.07975881e-01j],\n",
       "        [ 2.51900231e-04-2.63250170e-15j,\n",
       "          2.70516430e-14+1.26370867e-05j],\n",
       "        [-2.84002143e-04-1.10866771e-05j,\n",
       "          5.15646873e-02-4.81424758e-02j]],\n",
       "\n",
       "       [[-5.00818640e-03-4.24106548e-16j,\n",
       "          3.92336684e-15-5.00391807e-02j],\n",
       "        [ 3.57550599e-04-6.01991713e-15j,\n",
       "          5.62649989e-14-7.02655119e-01j],\n",
       "        [-5.01681122e-02+5.63408330e-13j,\n",
       "          3.13815604e-14-1.25421131e-05j],\n",
       "        [ 5.65629049e-02+2.20806314e-03j,\n",
       "          5.19558633e-02-4.85077434e-02j]],\n",
       "\n",
       "       [[-1.25684710e-06+1.78563445e-16j,\n",
       "         -1.67928527e-15-1.25576041e-05j],\n",
       "        [-1.77376178e-05+5.28554743e-15j,\n",
       "         -2.55639754e-14-1.76335118e-04j],\n",
       "        [ 9.98740756e-01-1.50414130e-10j,\n",
       "          3.02566212e-15-3.14748655e-09j],\n",
       "        [ 2.84130360e-03+1.10916823e-04j,\n",
       "         -2.82591882e-03+2.84967788e-03j]],\n",
       "\n",
       "       [[-2.48570701e-18+3.44014610e-21j,\n",
       "          1.54111448e-17-8.62527334e-17j],\n",
       "        [-7.02211747e-15+9.71840605e-18j,\n",
       "         -2.20788523e-16+1.23573896e-15j],\n",
       "        [-2.49633349e-17+3.45485250e-20j,\n",
       "         -7.09719172e-14+7.39506017e-15j],\n",
       "        [-6.19099580e-01-7.72553142e-01j,\n",
       "         -4.88769211e-02+4.08039330e-02j]],\n",
       "\n",
       "       [[ 2.81885122e-20-3.30442171e-20j,\n",
       "         -6.49395849e-17+2.78536092e-16j],\n",
       "        [ 7.96324922e-17-9.33498490e-17j,\n",
       "          9.30387972e-16-3.99057719e-15j],\n",
       "        [ 2.83090191e-19-3.31854823e-19j,\n",
       "         -1.13169841e-14+1.36086756e-14j],\n",
       "        [ 1.68411842e-03-1.01630799e-03j,\n",
       "         -1.15689349e-02+2.83261585e-02j]],\n",
       "\n",
       "       [[ 8.70287006e-20+2.41079677e-20j,\n",
       "          4.73450270e-17+1.03559125e-17j],\n",
       "        [ 2.45855910e-16+6.81049619e-17j,\n",
       "         -6.78310652e-16-1.48366900e-16j],\n",
       "        [ 8.74007509e-19+2.42110300e-19j,\n",
       "          2.84508080e-15-2.07972864e-14j],\n",
       "        [-2.26998371e-03+3.04029163e-03j,\n",
       "         -3.78297285e-02-1.46578784e-03j]],\n",
       "\n",
       "       [[-1.37171754e-19+8.11144339e-21j,\n",
       "          1.59066739e-17-6.61603776e-18j],\n",
       "        [-3.87509937e-16+2.29148118e-17j,\n",
       "         -2.27893108e-16+9.47863541e-17j],\n",
       "        [-1.37758167e-18+8.14611999e-20j,\n",
       "         -1.34223238e-14+1.52480159e-14j],\n",
       "        [ 1.51625434e-03+1.48882109e-03j,\n",
       "         -9.61593100e-03-8.99342099e-03j]],\n",
       "\n",
       "       [[-9.37384341e-20-2.22756865e-22j,\n",
       "         -4.40921390e-19+3.38635806e-19j],\n",
       "        [-2.64810894e-16-6.29287709e-19j,\n",
       "          6.31701855e-18-4.85156160e-18j],\n",
       "        [-9.41391687e-19-2.23709169e-21j,\n",
       "          5.06582885e-16-6.77004316e-16j],\n",
       "        [ 2.30027161e-04+3.36005527e-04j,\n",
       "          3.35846206e-05+3.96752213e-04j]]])</details></samp><samp style='font-size: 12px;'><details><summary><b style=\"color: #e55471;\">Tensor</b>(shape=(<b style=\"color: #80d749;\">4</b>, <b style=\"color: #828fdd;\">2</b>, <b style=\"color: #828fdd;\">2</b>), inds=[<b style=\"color: #4261e1;\">_703bf6AAAAI</b>, <b style=\"color: #6cccd9;\">_703bf6AAAAJ</b>, <b style=\"color: #462edc;\">k4</b>], tags={<b style=\"color: #74d649;\">0</b>, <b style=\"color: #45ce3d;\">1</b>, <b style=\"color: #828fdd;\">2</b>, <b style=\"color: #8a5bcf;\">3</b>, <b style=\"color: #80d749;\">4</b>, <b style=\"color: #7355d7;\">5</b>, <b style=\"color: #998ad1;\">I4</b>, <b style=\"color: #d3b991;\">PSI0</b>, <b style=\"color: #9f5bd1;\">GATE_30</b>, <b style=\"color: #b885d5;\">GATE_35</b>, <b style=\"color: #81e4a5;\">GATE_39</b>, <b style=\"color: #74d5bd;\">GATE_44</b>, <b style=\"color: #b96edd;\">GATE_48</b>, <b style=\"color: #da53d5;\">GATE_53</b>, <b style=\"color: #8cd1ce;\">GATE_56</b>, <b style=\"color: #2fd2cf;\">GATE_60</b>, <b style=\"color: #8cd492;\">GATE_62</b>, <b style=\"color: #54cedf;\">GATE_64</b>, <b style=\"color: #da8cd0;\">GATE_66</b>, <b style=\"color: #d666a7;\">GATE_68</b>, <b style=\"color: #d12f74;\">GATE_71</b>, <b style=\"color: #cebd78;\">GATE_84</b>, <b style=\"color: #b6e595;\">GATE_88</b>, <b style=\"color: #7ec4d5;\">GATE_90</b>, <b style=\"color: #c4e57a;\">GATE_92</b>, <b style=\"color: #ac52e1;\">GATE_94</b>, <b style=\"color: #4145cc;\">GATE_96</b>, <b style=\"color: #e37ed3;\">GATE_98</b>, <b style=\"color: #a236d5;\">GATE_101</b>, <b style=\"color: #6494ce;\">GATE_158</b>, <b style=\"color: #70e45f;\">GATE_163</b>, <b style=\"color: #d767e4;\">GATE_167</b>, <b style=\"color: #cdbb82;\">GATE_172</b>}),</summary>backend=<b style=\"color: #7fdd73;\">numpy</b>, dtype=<b style=\"color: #443ce1;\">complex128</b>, data=array([[[-9.98748718e-01+1.47938803e-18j,\n",
       "          9.66493489e-17+2.49057268e-04j],\n",
       "        [ 4.73681038e-07-9.54134490e-18j,\n",
       "          1.63119790e-14+4.70936632e-06j]],\n",
       "\n",
       "       [[ 4.42209480e-09+1.25783786e-19j,\n",
       "          2.04128599e-16-1.78255304e-05j],\n",
       "        [ 2.65193213e-01-4.06808905e-19j,\n",
       "         -1.04157887e-15-3.37058834e-07j]],\n",
       "\n",
       "       [[ 1.24425291e-06+1.47253594e-17j,\n",
       "         -5.65985550e-14+4.98947300e-03j],\n",
       "        [ 4.75712019e-06-3.04364564e-19j,\n",
       "          1.51121557e-17+9.43447918e-05j]],\n",
       "\n",
       "       [[-5.91993337e-30+1.97760530e-29j,\n",
       "          1.01867529e-27-2.29955476e-17j],\n",
       "        [-3.71661503e-29+6.77487506e-29j,\n",
       "         -5.65693981e-25+1.72495978e-14j]]])</details></samp><samp style='font-size: 12px;'><details><summary><b style=\"color: #e55471;\">Tensor</b>(shape=(<b style=\"color: #828fdd;\">2</b>, <b style=\"color: #828fdd;\">2</b>), inds=[<b style=\"color: #6cccd9;\">_703bf6AAAAJ</b>, <b style=\"color: #85dfdf;\">k5</b>], tags={<b style=\"color: #74d649;\">0</b>, <b style=\"color: #45ce3d;\">1</b>, <b style=\"color: #828fdd;\">2</b>, <b style=\"color: #8a5bcf;\">3</b>, <b style=\"color: #80d749;\">4</b>, <b style=\"color: #7355d7;\">5</b>, <b style=\"color: #97dddc;\">I5</b>, <b style=\"color: #d3b991;\">PSI0</b>, <b style=\"color: #ac6be4;\">GATE_34</b>, <b style=\"color: #5373d2;\">GATE_41</b>, <b style=\"color: #4be341;\">GATE_50</b>, <b style=\"color: #e2ba6c;\">GATE_57</b>, <b style=\"color: #a2d946;\">GATE_105</b>, <b style=\"color: #7fbdd3;\">GATE_115</b>, <b style=\"color: #7fd5da;\">GATE_119</b>, <b style=\"color: #7bd26d;\">GATE_121</b>, <b style=\"color: #c395e3;\">GATE_123</b>, <b style=\"color: #57cd77;\">GATE_125</b>, <b style=\"color: #8d74da;\">GATE_127</b>, <b style=\"color: #c8dd4f;\">GATE_129</b>, <b style=\"color: #9dcee4;\">GATE_132</b>, <b style=\"color: #d3e265;\">GATE_145</b>, <b style=\"color: #66d8d4;\">GATE_149</b>, <b style=\"color: #8ad771;\">GATE_154</b>, <b style=\"color: #af7fdf;\">GATE_161</b>, <b style=\"color: #5d88ce;\">GATE_170</b>, <b style=\"color: #dc5073;\">GATE_177</b>}),</summary>backend=<b style=\"color: #7fdd73;\">numpy</b>, dtype=<b style=\"color: #443ce1;\">complex128</b>, data=array([[ 0.7026762 +0.00000000e+00j,  0.70976765-2.12581265e-16j],\n",
       "       [ 0.18845904+0.00000000e+00j, -0.1865761 +5.58810804e-17j]])</details></samp></details></samp>"
      ],
      "text/plain": [
       "MatrixProductState(tensors=6, indices=11, L=6, max_bond=8)"
      ]
     },
     "execution_count": 31,
     "metadata": {},
     "output_type": "execute_result"
    }
   ],
   "source": [
    "obj._interface._circuitMPS._psi"
   ]
  },
  {
   "cell_type": "markdown",
   "metadata": {},
   "source": [
    "# Playing with `quimb`"
   ]
  },
  {
   "cell_type": "code",
   "execution_count": null,
   "metadata": {},
   "outputs": [],
   "source": [
    "wires = Wires(range(7))\n",
    "\n",
    "init_state = qtn.MPS_computational_state(\n",
    "    \"0\" * len(wires), tags=[str(l) for l in wires.labels]\n",
    ")\n",
    "\n",
    "qc = qtn.CircuitMPS(psi0=init_state)\n",
    "\n",
    "op = qml.CNOT(wires=[0, 1])"
   ]
  },
  {
   "cell_type": "code",
   "execution_count": null,
   "metadata": {},
   "outputs": [
    {
     "data": {
      "image/png": "[encoded data removed]",
      "text/plain": [
       "<Figure size 600x600 with 1 Axes>"
      ]
     },
     "metadata": {
      "needs_background": "light"
     },
     "output_type": "display_data"
    }
   ],
   "source": [
    "qc.psi.draw(color=[f\"I{q}\" for q in range(len(wires))], show_tags=False, show_inds=True)"
   ]
  },
  {
   "cell_type": "code",
   "execution_count": null,
   "metadata": {},
   "outputs": [
    {
     "data": {
      "text/plain": [
       "functools.partial(<bound method gate_TN_1D of MatrixProductState(tensors=7, indices=13, L=7, max_bond=2)>, inplace=True)"
      ]
     },
     "execution_count": 34,
     "metadata": {},
     "output_type": "execute_result"
    }
   ],
   "source": [
    "init_state.gate_"
   ]
  },
  {
   "cell_type": "code",
   "execution_count": null,
   "metadata": {},
   "outputs": [
    {
     "data": {
      "text/plain": [
       "0j"
      ]
     },
     "execution_count": 35,
     "metadata": {},
     "output_type": "execute_result"
    }
   ],
   "source": [
    "qc.amplitude(\"0111111\")"
   ]
  },
  {
   "cell_type": "code",
   "execution_count": null,
   "metadata": {},
   "outputs": [
    {
     "data": {
      "text/html": [
       "<samp style='font-size: 12px;'><details><summary><b style=\"color: #d75692;\">MatrixProductState</b>(tensors=7, indices=13, L=7, max_bond=2)</summary><samp style='font-size: 12px;'><details><summary><b style=\"color: #e55471;\">Tensor</b>(shape=(<b style=\"color: #45ce3d;\">1</b>, <b style=\"color: #828fdd;\">2</b>), inds=[<b style=\"color: #e5c196;\">_703bf6AAAQM</b>, <b style=\"color: #b1dc61;\">k0</b>], tags={<b style=\"color: #74d649;\">0</b>, <b style=\"color: #45ce3d;\">1</b>, <b style=\"color: #828fdd;\">2</b>, <b style=\"color: #8a5bcf;\">3</b>, <b style=\"color: #80d749;\">4</b>, <b style=\"color: #7355d7;\">5</b>, <b style=\"color: #a4de79;\">6</b>, <b style=\"color: #d2b137;\">I0</b>}),</summary>backend=<b style=\"color: #7fdd73;\">numpy</b>, dtype=<b style=\"color: #75d2c6;\">float64</b>, data=array([[1., 0.]])</details></samp><samp style='font-size: 12px;'><details><summary><b style=\"color: #e55471;\">Tensor</b>(shape=(<b style=\"color: #45ce3d;\">1</b>, <b style=\"color: #45ce3d;\">1</b>, <b style=\"color: #828fdd;\">2</b>), inds=[<b style=\"color: #e5c196;\">_703bf6AAAQM</b>, <b style=\"color: #58df91;\">_703bf6AAAQN</b>, <b style=\"color: #8aa5db;\">k1</b>], tags={<b style=\"color: #74d649;\">0</b>, <b style=\"color: #45ce3d;\">1</b>, <b style=\"color: #828fdd;\">2</b>, <b style=\"color: #8a5bcf;\">3</b>, <b style=\"color: #80d749;\">4</b>, <b style=\"color: #7355d7;\">5</b>, <b style=\"color: #a4de79;\">6</b>, <b style=\"color: #d19b78;\">I1</b>}),</summary>backend=<b style=\"color: #7fdd73;\">numpy</b>, dtype=<b style=\"color: #75d2c6;\">float64</b>, data=array([[[1., 0.]]])</details></samp><samp style='font-size: 12px;'><details><summary><b style=\"color: #e55471;\">Tensor</b>(shape=(<b style=\"color: #45ce3d;\">1</b>, <b style=\"color: #45ce3d;\">1</b>, <b style=\"color: #828fdd;\">2</b>), inds=[<b style=\"color: #58df91;\">_703bf6AAAQN</b>, <b style=\"color: #2ddf96;\">_703bf6AAAQO</b>, <b style=\"color: #df546d;\">k2</b>], tags={<b style=\"color: #74d649;\">0</b>, <b style=\"color: #45ce3d;\">1</b>, <b style=\"color: #828fdd;\">2</b>, <b style=\"color: #8a5bcf;\">3</b>, <b style=\"color: #80d749;\">4</b>, <b style=\"color: #7355d7;\">5</b>, <b style=\"color: #a4de79;\">6</b>, <b style=\"color: #dd5dd7;\">I2</b>}),</summary>backend=<b style=\"color: #7fdd73;\">numpy</b>, dtype=<b style=\"color: #75d2c6;\">float64</b>, data=array([[[1., 0.]]])</details></samp><samp style='font-size: 12px;'><details><summary><b style=\"color: #e55471;\">Tensor</b>(shape=(<b style=\"color: #45ce3d;\">1</b>, <b style=\"color: #45ce3d;\">1</b>, <b style=\"color: #828fdd;\">2</b>), inds=[<b style=\"color: #2ddf96;\">_703bf6AAAQO</b>, <b style=\"color: #d997bc;\">_703bf6AAAQP</b>, <b style=\"color: #4c7be1;\">k3</b>], tags={<b style=\"color: #74d649;\">0</b>, <b style=\"color: #45ce3d;\">1</b>, <b style=\"color: #828fdd;\">2</b>, <b style=\"color: #8a5bcf;\">3</b>, <b style=\"color: #80d749;\">4</b>, <b style=\"color: #7355d7;\">5</b>, <b style=\"color: #a4de79;\">6</b>, <b style=\"color: #dd65d9;\">I3</b>}),</summary>backend=<b style=\"color: #7fdd73;\">numpy</b>, dtype=<b style=\"color: #75d2c6;\">float64</b>, data=array([[[1., 0.]]])</details></samp><samp style='font-size: 12px;'><details><summary><b style=\"color: #e55471;\">Tensor</b>(shape=(<b style=\"color: #45ce3d;\">1</b>, <b style=\"color: #45ce3d;\">1</b>, <b style=\"color: #828fdd;\">2</b>), inds=[<b style=\"color: #d997bc;\">_703bf6AAAQP</b>, <b style=\"color: #d3863f;\">_703bf6AAAQQ</b>, <b style=\"color: #462edc;\">k4</b>], tags={<b style=\"color: #74d649;\">0</b>, <b style=\"color: #45ce3d;\">1</b>, <b style=\"color: #828fdd;\">2</b>, <b style=\"color: #8a5bcf;\">3</b>, <b style=\"color: #80d749;\">4</b>, <b style=\"color: #7355d7;\">5</b>, <b style=\"color: #a4de79;\">6</b>, <b style=\"color: #998ad1;\">I4</b>}),</summary>backend=<b style=\"color: #7fdd73;\">numpy</b>, dtype=<b style=\"color: #75d2c6;\">float64</b>, data=array([[[1., 0.]]])</details></samp><samp style='font-size: 12px;'><details><summary><b style=\"color: #e55471;\">Tensor</b>(shape=(<b style=\"color: #45ce3d;\">1</b>, <b style=\"color: #45ce3d;\">1</b>, <b style=\"color: #828fdd;\">2</b>), inds=[<b style=\"color: #d3863f;\">_703bf6AAAQQ</b>, <b style=\"color: #2bd39f;\">_703bf6AAAQR</b>, <b style=\"color: #85dfdf;\">k5</b>], tags={<b style=\"color: #74d649;\">0</b>, <b style=\"color: #45ce3d;\">1</b>, <b style=\"color: #828fdd;\">2</b>, <b style=\"color: #8a5bcf;\">3</b>, <b style=\"color: #80d749;\">4</b>, <b style=\"color: #7355d7;\">5</b>, <b style=\"color: #a4de79;\">6</b>, <b style=\"color: #97dddc;\">I5</b>}),</summary>backend=<b style=\"color: #7fdd73;\">numpy</b>, dtype=<b style=\"color: #75d2c6;\">float64</b>, data=array([[[1., 0.]]])</details></samp><samp style='font-size: 12px;'><details><summary><b style=\"color: #e55471;\">Tensor</b>(shape=(<b style=\"color: #45ce3d;\">1</b>, <b style=\"color: #828fdd;\">2</b>), inds=[<b style=\"color: #2bd39f;\">_703bf6AAAQR</b>, <b style=\"color: #2cb7d3;\">k6</b>], tags={<b style=\"color: #74d649;\">0</b>, <b style=\"color: #45ce3d;\">1</b>, <b style=\"color: #828fdd;\">2</b>, <b style=\"color: #8a5bcf;\">3</b>, <b style=\"color: #80d749;\">4</b>, <b style=\"color: #7355d7;\">5</b>, <b style=\"color: #a4de79;\">6</b>, <b style=\"color: #b2de5f;\">I6</b>}),</summary>backend=<b style=\"color: #7fdd73;\">numpy</b>, dtype=<b style=\"color: #75d2c6;\">float64</b>, data=array([[1., 0.]])</details></samp></details></samp>"
      ],
      "text/plain": [
       "MatrixProductState(tensors=7, indices=13, L=7, max_bond=2)"
      ]
     },
     "execution_count": 36,
     "metadata": {},
     "output_type": "execute_result"
    }
   ],
   "source": [
    "init_state"
   ]
  },
  {
   "cell_type": "code",
   "execution_count": null,
   "metadata": {},
   "outputs": [
    {
     "data": {
      "text/plain": [
       "<function str.format>"
      ]
     },
     "execution_count": 37,
     "metadata": {},
     "output_type": "execute_result"
    }
   ],
   "source": [
    "qc.ket_site_ind"
   ]
  },
  {
   "cell_type": "code",
   "execution_count": null,
   "metadata": {},
   "outputs": [
    {
     "data": {
      "text/plain": [
       "{'_psi': MatrixProductState(tensors=7, indices=7, L=7, max_bond=2),\n",
       " 'N': 7,\n",
       " 'gate_opts': {'contract': 'swap+split', 'propagate_tags': 'register'},\n",
       " 'gates': [],\n",
       " '_ket_site_ind_id': 'k{}',\n",
       " '_bra_site_ind_id': 'b{}',\n",
       " 'ket_site_ind': <function str.format>,\n",
       " 'bra_site_ind': <function str.format>,\n",
       " '_sample_n_gates': 0,\n",
       " '_storage': {('psi_simplified',\n",
       "   'ADCRS',\n",
       "   1e-12): MatrixProductState(tensors=7, indices=7, L=7, max_bond=2)},\n",
       " '_sampled_conditionals': {},\n",
       " '_marginal_storage_size': 0}"
      ]
     },
     "execution_count": 38,
     "metadata": {},
     "output_type": "execute_result"
    }
   ],
   "source": [
    "qc.__dict__"
   ]
  },
  {
   "cell_type": "code",
   "execution_count": null,
   "metadata": {},
   "outputs": [
    {
     "data": {
      "text/plain": [
       "[]"
      ]
     },
     "execution_count": 39,
     "metadata": {},
     "output_type": "execute_result"
    }
   ],
   "source": [
    "qc.gates"
   ]
  },
  {
   "cell_type": "code",
   "execution_count": null,
   "metadata": {},
   "outputs": [],
   "source": [
    "gate = qtn.circuit.parse_to_gate(op.matrix(), tuple(op.wires))"
   ]
  },
  {
   "cell_type": "code",
   "execution_count": null,
   "metadata": {},
   "outputs": [
    {
     "data": {
      "text/plain": [
       "<Gate(label=RAW125298162422288, params=raw, qubits=((0, 1),))>"
      ]
     },
     "execution_count": 41,
     "metadata": {},
     "output_type": "execute_result"
    }
   ],
   "source": [
    "gate"
   ]
  },
  {
   "cell_type": "code",
   "execution_count": null,
   "metadata": {},
   "outputs": [
    {
     "data": {
      "text/html": [
       "<samp style='font-size: 12px;'><details><summary><b style=\"color: #d75692;\">MatrixProductState</b>(tensors=7, indices=13, L=7, max_bond=2)</summary><samp style='font-size: 12px;'><details><summary><b style=\"color: #e55471;\">Tensor</b>(shape=(<b style=\"color: #45ce3d;\">1</b>, <b style=\"color: #828fdd;\">2</b>), inds=[<b style=\"color: #b32cd8;\">_703bf6AAAQS</b>, <b style=\"color: #b1dc61;\">k0</b>], tags={<b style=\"color: #74d649;\">0</b>, <b style=\"color: #45ce3d;\">1</b>, <b style=\"color: #828fdd;\">2</b>, <b style=\"color: #8a5bcf;\">3</b>, <b style=\"color: #80d749;\">4</b>, <b style=\"color: #7355d7;\">5</b>, <b style=\"color: #a4de79;\">6</b>, <b style=\"color: #d2b137;\">I0</b>}),</summary>backend=<b style=\"color: #7fdd73;\">numpy</b>, dtype=<b style=\"color: #75d2c6;\">float64</b>, data=array([[1., 0.]])</details></samp><samp style='font-size: 12px;'><details><summary><b style=\"color: #e55471;\">Tensor</b>(shape=(<b style=\"color: #45ce3d;\">1</b>, <b style=\"color: #45ce3d;\">1</b>, <b style=\"color: #828fdd;\">2</b>), inds=[<b style=\"color: #b32cd8;\">_703bf6AAAQS</b>, <b style=\"color: #434fe4;\">_703bf6AAAQT</b>, <b style=\"color: #8aa5db;\">k1</b>], tags={<b style=\"color: #74d649;\">0</b>, <b style=\"color: #45ce3d;\">1</b>, <b style=\"color: #828fdd;\">2</b>, <b style=\"color: #8a5bcf;\">3</b>, <b style=\"color: #80d749;\">4</b>, <b style=\"color: #7355d7;\">5</b>, <b style=\"color: #a4de79;\">6</b>, <b style=\"color: #d19b78;\">I1</b>}),</summary>backend=<b style=\"color: #7fdd73;\">numpy</b>, dtype=<b style=\"color: #75d2c6;\">float64</b>, data=array([[[1., 0.]]])</details></samp><samp style='font-size: 12px;'><details><summary><b style=\"color: #e55471;\">Tensor</b>(shape=(<b style=\"color: #45ce3d;\">1</b>, <b style=\"color: #45ce3d;\">1</b>, <b style=\"color: #828fdd;\">2</b>), inds=[<b style=\"color: #434fe4;\">_703bf6AAAQT</b>, <b style=\"color: #dc6f63;\">_703bf6AAAQU</b>, <b style=\"color: #df546d;\">k2</b>], tags={<b style=\"color: #74d649;\">0</b>, <b style=\"color: #45ce3d;\">1</b>, <b style=\"color: #828fdd;\">2</b>, <b style=\"color: #8a5bcf;\">3</b>, <b style=\"color: #80d749;\">4</b>, <b style=\"color: #7355d7;\">5</b>, <b style=\"color: #a4de79;\">6</b>, <b style=\"color: #dd5dd7;\">I2</b>}),</summary>backend=<b style=\"color: #7fdd73;\">numpy</b>, dtype=<b style=\"color: #75d2c6;\">float64</b>, data=array([[[1., 0.]]])</details></samp><samp style='font-size: 12px;'><details><summary><b style=\"color: #e55471;\">Tensor</b>(shape=(<b style=\"color: #45ce3d;\">1</b>, <b style=\"color: #45ce3d;\">1</b>, <b style=\"color: #828fdd;\">2</b>), inds=[<b style=\"color: #dc6f63;\">_703bf6AAAQU</b>, <b style=\"color: #d87fc6;\">_703bf6AAAQV</b>, <b style=\"color: #4c7be1;\">k3</b>], tags={<b style=\"color: #74d649;\">0</b>, <b style=\"color: #45ce3d;\">1</b>, <b style=\"color: #828fdd;\">2</b>, <b style=\"color: #8a5bcf;\">3</b>, <b style=\"color: #80d749;\">4</b>, <b style=\"color: #7355d7;\">5</b>, <b style=\"color: #a4de79;\">6</b>, <b style=\"color: #dd65d9;\">I3</b>}),</summary>backend=<b style=\"color: #7fdd73;\">numpy</b>, dtype=<b style=\"color: #75d2c6;\">float64</b>, data=array([[[1., 0.]]])</details></samp><samp style='font-size: 12px;'><details><summary><b style=\"color: #e55471;\">Tensor</b>(shape=(<b style=\"color: #45ce3d;\">1</b>, <b style=\"color: #45ce3d;\">1</b>, <b style=\"color: #828fdd;\">2</b>), inds=[<b style=\"color: #d87fc6;\">_703bf6AAAQV</b>, <b style=\"color: #382dd5;\">_703bf6AAAQW</b>, <b style=\"color: #462edc;\">k4</b>], tags={<b style=\"color: #74d649;\">0</b>, <b style=\"color: #45ce3d;\">1</b>, <b style=\"color: #828fdd;\">2</b>, <b style=\"color: #8a5bcf;\">3</b>, <b style=\"color: #80d749;\">4</b>, <b style=\"color: #7355d7;\">5</b>, <b style=\"color: #a4de79;\">6</b>, <b style=\"color: #998ad1;\">I4</b>}),</summary>backend=<b style=\"color: #7fdd73;\">numpy</b>, dtype=<b style=\"color: #75d2c6;\">float64</b>, data=array([[[1., 0.]]])</details></samp><samp style='font-size: 12px;'><details><summary><b style=\"color: #e55471;\">Tensor</b>(shape=(<b style=\"color: #45ce3d;\">1</b>, <b style=\"color: #45ce3d;\">1</b>, <b style=\"color: #828fdd;\">2</b>), inds=[<b style=\"color: #382dd5;\">_703bf6AAAQW</b>, <b style=\"color: #74d072;\">_703bf6AAAQX</b>, <b style=\"color: #85dfdf;\">k5</b>], tags={<b style=\"color: #74d649;\">0</b>, <b style=\"color: #45ce3d;\">1</b>, <b style=\"color: #828fdd;\">2</b>, <b style=\"color: #8a5bcf;\">3</b>, <b style=\"color: #80d749;\">4</b>, <b style=\"color: #7355d7;\">5</b>, <b style=\"color: #a4de79;\">6</b>, <b style=\"color: #97dddc;\">I5</b>}),</summary>backend=<b style=\"color: #7fdd73;\">numpy</b>, dtype=<b style=\"color: #75d2c6;\">float64</b>, data=array([[[1., 0.]]])</details></samp><samp style='font-size: 12px;'><details><summary><b style=\"color: #e55471;\">Tensor</b>(shape=(<b style=\"color: #45ce3d;\">1</b>, <b style=\"color: #828fdd;\">2</b>), inds=[<b style=\"color: #74d072;\">_703bf6AAAQX</b>, <b style=\"color: #2cb7d3;\">k6</b>], tags={<b style=\"color: #74d649;\">0</b>, <b style=\"color: #45ce3d;\">1</b>, <b style=\"color: #828fdd;\">2</b>, <b style=\"color: #8a5bcf;\">3</b>, <b style=\"color: #80d749;\">4</b>, <b style=\"color: #7355d7;\">5</b>, <b style=\"color: #a4de79;\">6</b>, <b style=\"color: #b2de5f;\">I6</b>}),</summary>backend=<b style=\"color: #7fdd73;\">numpy</b>, dtype=<b style=\"color: #75d2c6;\">float64</b>, data=array([[1., 0.]])</details></samp></details></samp>"
      ],
      "text/plain": [
       "MatrixProductState(tensors=7, indices=13, L=7, max_bond=2)"
      ]
     },
     "execution_count": 42,
     "metadata": {},
     "output_type": "execute_result"
    }
   ],
   "source": [
    "qtn.MPS_computational_state(\"0\" * len(wires), tags=[str(l) for l in wires.labels])"
   ]
  },
  {
   "cell_type": "code",
   "execution_count": null,
   "metadata": {},
   "outputs": [
    {
     "data": {
      "text/html": [
       "<samp style='font-size: 12px;'><details><summary><b style=\"color: #d75692;\">MatrixProductState</b>(tensors=9, indices=17, L=9, max_bond=6)</summary><samp style='font-size: 12px;'><details><summary><b style=\"color: #e55471;\">Tensor</b>(shape=(<b style=\"color: #a4de79;\">6</b>, <b style=\"color: #828fdd;\">2</b>), inds=[<b style=\"color: #557fcf;\">_703bf6AAAQY</b>, <b style=\"color: #b1dc61;\">k0</b>], tags={<b style=\"color: #d2b137;\">I0</b>}),</summary>backend=<b style=\"color: #7fdd73;\">numpy</b>, dtype=<b style=\"color: #75d2c6;\">float64</b>, data=array([[0., 0.],\n",
       "       [0., 0.],\n",
       "       [0., 0.],\n",
       "       [0., 0.],\n",
       "       [0., 0.],\n",
       "       [0., 0.]])</details></samp><samp style='font-size: 12px;'><details><summary><b style=\"color: #e55471;\">Tensor</b>(shape=(<b style=\"color: #a4de79;\">6</b>, <b style=\"color: #a4de79;\">6</b>, <b style=\"color: #828fdd;\">2</b>), inds=[<b style=\"color: #557fcf;\">_703bf6AAAQY</b>, <b style=\"color: #6074d0;\">_703bf6AAAQZ</b>, <b style=\"color: #8aa5db;\">k1</b>], tags={<b style=\"color: #d19b78;\">I1</b>}),</summary>backend=<b style=\"color: #7fdd73;\">numpy</b>, dtype=<b style=\"color: #75d2c6;\">float64</b>, data=array([[[0., 0.],\n",
       "        [0., 0.],\n",
       "        [0., 0.],\n",
       "        [0., 0.],\n",
       "        [0., 0.],\n",
       "        [0., 0.]],\n",
       "\n",
       "       [[0., 0.],\n",
       "        [0., 0.],\n",
       "        [0., 0.],\n",
       "        [0., 0.],\n",
       "        [0., 0.],\n",
       "        [0., 0.]],\n",
       "\n",
       "       [[0., 0.],\n",
       "        [0., 0.],\n",
       "        [0., 0.],\n",
       "        [0., 0.],\n",
       "        [0., 0.],\n",
       "        [0., 0.]],\n",
       "\n",
       "       [[0., 0.],\n",
       "        [0., 0.],\n",
       "        [0., 0.],\n",
       "        [0., 0.],\n",
       "        [0., 0.],\n",
       "        [0., 0.]],\n",
       "\n",
       "       [[0., 0.],\n",
       "        [0., 0.],\n",
       "        [0., 0.],\n",
       "        [0., 0.],\n",
       "        [0., 0.],\n",
       "        [0., 0.]],\n",
       "\n",
       "       [[0., 0.],\n",
       "        [0., 0.],\n",
       "        [0., 0.],\n",
       "        [0., 0.],\n",
       "        [0., 0.],\n",
       "        [0., 0.]]])</details></samp><samp style='font-size: 12px;'><details><summary><b style=\"color: #e55471;\">Tensor</b>(shape=(<b style=\"color: #a4de79;\">6</b>, <b style=\"color: #a4de79;\">6</b>, <b style=\"color: #828fdd;\">2</b>), inds=[<b style=\"color: #6074d0;\">_703bf6AAAQZ</b>, <b style=\"color: #516ccd;\">_703bf6AAAQa</b>, <b style=\"color: #df546d;\">k2</b>], tags={<b style=\"color: #dd5dd7;\">I2</b>}),</summary>backend=<b style=\"color: #7fdd73;\">numpy</b>, dtype=<b style=\"color: #75d2c6;\">float64</b>, data=array([[[0., 0.],\n",
       "        [0., 0.],\n",
       "        [0., 0.],\n",
       "        [0., 0.],\n",
       "        [0., 0.],\n",
       "        [0., 0.]],\n",
       "\n",
       "       [[0., 0.],\n",
       "        [0., 0.],\n",
       "        [0., 0.],\n",
       "        [0., 0.],\n",
       "        [0., 0.],\n",
       "        [0., 0.]],\n",
       "\n",
       "       [[0., 0.],\n",
       "        [0., 0.],\n",
       "        [0., 0.],\n",
       "        [0., 0.],\n",
       "        [0., 0.],\n",
       "        [0., 0.]],\n",
       "\n",
       "       [[0., 0.],\n",
       "        [0., 0.],\n",
       "        [0., 0.],\n",
       "        [0., 0.],\n",
       "        [0., 0.],\n",
       "        [0., 0.]],\n",
       "\n",
       "       [[0., 0.],\n",
       "        [0., 0.],\n",
       "        [0., 0.],\n",
       "        [0., 0.],\n",
       "        [0., 0.],\n",
       "        [0., 0.]],\n",
       "\n",
       "       [[0., 0.],\n",
       "        [0., 0.],\n",
       "        [0., 0.],\n",
       "        [0., 0.],\n",
       "        [0., 0.],\n",
       "        [0., 0.]]])</details></samp><samp style='font-size: 12px;'><details><summary><b style=\"color: #e55471;\">Tensor</b>(shape=(<b style=\"color: #a4de79;\">6</b>, <b style=\"color: #a4de79;\">6</b>, <b style=\"color: #828fdd;\">2</b>), inds=[<b style=\"color: #516ccd;\">_703bf6AAAQa</b>, <b style=\"color: #b4cd40;\">_703bf6AAAQb</b>, <b style=\"color: #4c7be1;\">k3</b>], tags={<b style=\"color: #dd65d9;\">I3</b>}),</summary>backend=<b style=\"color: #7fdd73;\">numpy</b>, dtype=<b style=\"color: #75d2c6;\">float64</b>, data=array([[[0., 0.],\n",
       "        [0., 0.],\n",
       "        [0., 0.],\n",
       "        [0., 0.],\n",
       "        [0., 0.],\n",
       "        [0., 0.]],\n",
       "\n",
       "       [[0., 0.],\n",
       "        [0., 0.],\n",
       "        [0., 0.],\n",
       "        [0., 0.],\n",
       "        [0., 0.],\n",
       "        [0., 0.]],\n",
       "\n",
       "       [[0., 0.],\n",
       "        [0., 0.],\n",
       "        [0., 0.],\n",
       "        [0., 0.],\n",
       "        [0., 0.],\n",
       "        [0., 0.]],\n",
       "\n",
       "       [[0., 0.],\n",
       "        [0., 0.],\n",
       "        [0., 0.],\n",
       "        [0., 0.],\n",
       "        [0., 0.],\n",
       "        [0., 0.]],\n",
       "\n",
       "       [[0., 0.],\n",
       "        [0., 0.],\n",
       "        [0., 0.],\n",
       "        [0., 0.],\n",
       "        [0., 0.],\n",
       "        [0., 0.]],\n",
       "\n",
       "       [[0., 0.],\n",
       "        [0., 0.],\n",
       "        [0., 0.],\n",
       "        [0., 0.],\n",
       "        [0., 0.],\n",
       "        [0., 0.]]])</details></samp><samp style='font-size: 12px;'><details><summary><b style=\"color: #e55471;\">Tensor</b>(shape=(<b style=\"color: #a4de79;\">6</b>, <b style=\"color: #a4de79;\">6</b>, <b style=\"color: #828fdd;\">2</b>), inds=[<b style=\"color: #b4cd40;\">_703bf6AAAQb</b>, <b style=\"color: #d248e5;\">_703bf6AAAQc</b>, <b style=\"color: #462edc;\">k4</b>], tags={<b style=\"color: #998ad1;\">I4</b>}),</summary>backend=<b style=\"color: #7fdd73;\">numpy</b>, dtype=<b style=\"color: #75d2c6;\">float64</b>, data=array([[[0., 0.],\n",
       "        [0., 0.],\n",
       "        [0., 0.],\n",
       "        [0., 0.],\n",
       "        [0., 0.],\n",
       "        [0., 0.]],\n",
       "\n",
       "       [[0., 0.],\n",
       "        [0., 0.],\n",
       "        [0., 0.],\n",
       "        [0., 0.],\n",
       "        [0., 0.],\n",
       "        [0., 0.]],\n",
       "\n",
       "       [[0., 0.],\n",
       "        [0., 0.],\n",
       "        [0., 0.],\n",
       "        [0., 0.],\n",
       "        [0., 0.],\n",
       "        [0., 0.]],\n",
       "\n",
       "       [[0., 0.],\n",
       "        [0., 0.],\n",
       "        [0., 0.],\n",
       "        [0., 0.],\n",
       "        [0., 0.],\n",
       "        [0., 0.]],\n",
       "\n",
       "       [[0., 0.],\n",
       "        [0., 0.],\n",
       "        [0., 0.],\n",
       "        [0., 0.],\n",
       "        [0., 0.],\n",
       "        [0., 0.]],\n",
       "\n",
       "       [[0., 0.],\n",
       "        [0., 0.],\n",
       "        [0., 0.],\n",
       "        [0., 0.],\n",
       "        [0., 0.],\n",
       "        [0., 0.]]])</details></samp><samp style='font-size: 12px;'><details><summary><b style=\"color: #e55471;\">Tensor</b>(shape=(<b style=\"color: #a4de79;\">6</b>, <b style=\"color: #a4de79;\">6</b>, <b style=\"color: #828fdd;\">2</b>), inds=[<b style=\"color: #d248e5;\">_703bf6AAAQc</b>, <b style=\"color: #97db3e;\">_703bf6AAAQd</b>, <b style=\"color: #85dfdf;\">k5</b>], tags={<b style=\"color: #97dddc;\">I5</b>}),</summary>backend=<b style=\"color: #7fdd73;\">numpy</b>, dtype=<b style=\"color: #75d2c6;\">float64</b>, data=array([[[0., 0.],\n",
       "        [0., 0.],\n",
       "        [0., 0.],\n",
       "        [0., 0.],\n",
       "        [0., 0.],\n",
       "        [0., 0.]],\n",
       "\n",
       "       [[0., 0.],\n",
       "        [0., 0.],\n",
       "        [0., 0.],\n",
       "        [0., 0.],\n",
       "        [0., 0.],\n",
       "        [0., 0.]],\n",
       "\n",
       "       [[0., 0.],\n",
       "        [0., 0.],\n",
       "        [0., 0.],\n",
       "        [0., 0.],\n",
       "        [0., 0.],\n",
       "        [0., 0.]],\n",
       "\n",
       "       [[0., 0.],\n",
       "        [0., 0.],\n",
       "        [0., 0.],\n",
       "        [0., 0.],\n",
       "        [0., 0.],\n",
       "        [0., 0.]],\n",
       "\n",
       "       [[0., 0.],\n",
       "        [0., 0.],\n",
       "        [0., 0.],\n",
       "        [0., 0.],\n",
       "        [0., 0.],\n",
       "        [0., 0.]],\n",
       "\n",
       "       [[0., 0.],\n",
       "        [0., 0.],\n",
       "        [0., 0.],\n",
       "        [0., 0.],\n",
       "        [0., 0.],\n",
       "        [0., 0.]]])</details></samp><samp style='font-size: 12px;'><details><summary><b style=\"color: #e55471;\">Tensor</b>(shape=(<b style=\"color: #a4de79;\">6</b>, <b style=\"color: #a4de79;\">6</b>, <b style=\"color: #828fdd;\">2</b>), inds=[<b style=\"color: #97db3e;\">_703bf6AAAQd</b>, <b style=\"color: #9a8cd8;\">_703bf6AAAQe</b>, <b style=\"color: #2cb7d3;\">k6</b>], tags={<b style=\"color: #b2de5f;\">I6</b>}),</summary>backend=<b style=\"color: #7fdd73;\">numpy</b>, dtype=<b style=\"color: #75d2c6;\">float64</b>, data=array([[[0., 0.],\n",
       "        [0., 0.],\n",
       "        [0., 0.],\n",
       "        [0., 0.],\n",
       "        [0., 0.],\n",
       "        [0., 0.]],\n",
       "\n",
       "       [[0., 0.],\n",
       "        [0., 0.],\n",
       "        [0., 0.],\n",
       "        [0., 0.],\n",
       "        [0., 0.],\n",
       "        [0., 0.]],\n",
       "\n",
       "       [[0., 0.],\n",
       "        [0., 0.],\n",
       "        [0., 0.],\n",
       "        [0., 0.],\n",
       "        [0., 0.],\n",
       "        [0., 0.]],\n",
       "\n",
       "       [[0., 0.],\n",
       "        [0., 0.],\n",
       "        [0., 0.],\n",
       "        [0., 0.],\n",
       "        [0., 0.],\n",
       "        [0., 0.]],\n",
       "\n",
       "       [[0., 0.],\n",
       "        [0., 0.],\n",
       "        [0., 0.],\n",
       "        [0., 0.],\n",
       "        [0., 0.],\n",
       "        [0., 0.]],\n",
       "\n",
       "       [[0., 0.],\n",
       "        [0., 0.],\n",
       "        [0., 0.],\n",
       "        [0., 0.],\n",
       "        [0., 0.],\n",
       "        [0., 0.]]])</details></samp><samp style='font-size: 12px;'><details><summary><b style=\"color: #e55471;\">Tensor</b>(shape=(<b style=\"color: #a4de79;\">6</b>, <b style=\"color: #a4de79;\">6</b>, <b style=\"color: #828fdd;\">2</b>), inds=[<b style=\"color: #9a8cd8;\">_703bf6AAAQe</b>, <b style=\"color: #d17cc4;\">_703bf6AAAQf</b>, <b style=\"color: #53e08f;\">k7</b>], tags={<b style=\"color: #5582d6;\">I7</b>}),</summary>backend=<b style=\"color: #7fdd73;\">numpy</b>, dtype=<b style=\"color: #75d2c6;\">float64</b>, data=array([[[0., 0.],\n",
       "        [0., 0.],\n",
       "        [0., 0.],\n",
       "        [0., 0.],\n",
       "        [0., 0.],\n",
       "        [0., 0.]],\n",
       "\n",
       "       [[0., 0.],\n",
       "        [0., 0.],\n",
       "        [0., 0.],\n",
       "        [0., 0.],\n",
       "        [0., 0.],\n",
       "        [0., 0.]],\n",
       "\n",
       "       [[0., 0.],\n",
       "        [0., 0.],\n",
       "        [0., 0.],\n",
       "        [0., 0.],\n",
       "        [0., 0.],\n",
       "        [0., 0.]],\n",
       "\n",
       "       [[0., 0.],\n",
       "        [0., 0.],\n",
       "        [0., 0.],\n",
       "        [0., 0.],\n",
       "        [0., 0.],\n",
       "        [0., 0.]],\n",
       "\n",
       "       [[0., 0.],\n",
       "        [0., 0.],\n",
       "        [0., 0.],\n",
       "        [0., 0.],\n",
       "        [0., 0.],\n",
       "        [0., 0.]],\n",
       "\n",
       "       [[0., 0.],\n",
       "        [0., 0.],\n",
       "        [0., 0.],\n",
       "        [0., 0.],\n",
       "        [0., 0.],\n",
       "        [0., 0.]]])</details></samp><samp style='font-size: 12px;'><details><summary><b style=\"color: #e55471;\">Tensor</b>(shape=(<b style=\"color: #a4de79;\">6</b>, <b style=\"color: #828fdd;\">2</b>), inds=[<b style=\"color: #d17cc4;\">_703bf6AAAQf</b>, <b style=\"color: #7bcd9f;\">k8</b>], tags={<b style=\"color: #8a3dd8;\">I8</b>}),</summary>backend=<b style=\"color: #7fdd73;\">numpy</b>, dtype=<b style=\"color: #75d2c6;\">float64</b>, data=array([[0., 0.],\n",
       "       [0., 0.],\n",
       "       [0., 0.],\n",
       "       [0., 0.],\n",
       "       [0., 0.],\n",
       "       [0., 0.]])</details></samp></details></samp>"
      ],
      "text/plain": [
       "MatrixProductState(tensors=9, indices=17, L=9, max_bond=6)"
      ]
     },
     "execution_count": 43,
     "metadata": {},
     "output_type": "execute_result"
    }
   ],
   "source": [
    "qtn.MPS_zero_state(bond_dim=6, L=9)"
   ]
  },
  {
   "cell_type": "code",
   "execution_count": null,
   "metadata": {},
   "outputs": [
    {
     "data": {
      "text/html": [
       "<samp style='font-size: 12px;'><details><summary><b style=\"color: #d75692;\">MatrixProductState</b>(tensors=9, indices=17, L=9, max_bond=6)</summary><samp style='font-size: 12px;'><details><summary><b style=\"color: #e55471;\">Tensor</b>(shape=(<b style=\"color: #a4de79;\">6</b>, <b style=\"color: #828fdd;\">2</b>), inds=[<b style=\"color: #d96355;\">_703bf6AAAQg</b>, <b style=\"color: #b1dc61;\">k0</b>], tags={<b style=\"color: #d2b137;\">I0</b>}),</summary>backend=<b style=\"color: #7fdd73;\">numpy</b>, dtype=<b style=\"color: #75d2c6;\">float64</b>, data=array([[-0.12111136, -0.03613729],\n",
       "       [ 0.08021046,  0.14028617],\n",
       "       [-0.37837   ,  0.4368235 ],\n",
       "       [-0.5899508 ,  0.95092944],\n",
       "       [-0.17919782, -0.35384478],\n",
       "       [-0.12967123, -0.43695052]])</details></samp><samp style='font-size: 12px;'><details><summary><b style=\"color: #e55471;\">Tensor</b>(shape=(<b style=\"color: #a4de79;\">6</b>, <b style=\"color: #a4de79;\">6</b>, <b style=\"color: #828fdd;\">2</b>), inds=[<b style=\"color: #d96355;\">_703bf6AAAQg</b>, <b style=\"color: #e2da86;\">_703bf6AAAQh</b>, <b style=\"color: #8aa5db;\">k1</b>], tags={<b style=\"color: #d19b78;\">I1</b>}),</summary>backend=<b style=\"color: #7fdd73;\">numpy</b>, dtype=<b style=\"color: #75d2c6;\">float64</b>, data=array([[[ 0.18126465, -0.56235092],\n",
       "        [-0.4632956 , -0.16287719],\n",
       "        [ 0.60585931,  0.62012016],\n",
       "        [-0.22328489, -0.20142897],\n",
       "        [-0.59503184, -0.0516936 ],\n",
       "        [-0.06034588,  0.02244201]],\n",
       "\n",
       "       [[ 0.22313327,  0.79516687],\n",
       "        [-0.00971188, -0.14098367],\n",
       "        [ 0.44561493, -0.30212858],\n",
       "        [-0.12429971,  0.52364155],\n",
       "        [ 0.15462612, -0.07638885],\n",
       "        [-0.90382409,  0.08121775]],\n",
       "\n",
       "       [[ 0.14671725, -0.06498491],\n",
       "        [ 0.46364646, -0.36925147],\n",
       "        [-0.02591769, -0.13853039],\n",
       "        [ 0.00278232, -0.06597314],\n",
       "        [-0.0083872 , -0.08624123],\n",
       "        [-0.54194354,  0.04902188]],\n",
       "\n",
       "       [[-0.07968906,  0.25364396],\n",
       "        [ 0.08107732, -0.10203105],\n",
       "        [-0.04207062, -0.17606745],\n",
       "        [-0.17147685, -0.16077149],\n",
       "        [ 0.00985524,  0.10384221],\n",
       "        [ 0.08316552, -0.10448464]],\n",
       "\n",
       "       [[ 0.37359798, -0.20062284],\n",
       "        [ 0.24468393,  0.12327762],\n",
       "        [-0.56546967, -0.00883388],\n",
       "        [ 0.1189248 ,  0.161273  ],\n",
       "        [ 0.2576277 ,  0.40117535],\n",
       "        [-0.45841982,  0.61159672]],\n",
       "\n",
       "       [[ 0.3504664 , -0.13582958],\n",
       "        [-0.21469232,  0.55869074],\n",
       "        [ 0.55370526, -0.37386947],\n",
       "        [-0.34693321,  0.02247179],\n",
       "        [-0.22763837, -0.17798233],\n",
       "        [ 0.82336039, -0.20004057]]])</details></samp><samp style='font-size: 12px;'><details><summary><b style=\"color: #e55471;\">Tensor</b>(shape=(<b style=\"color: #a4de79;\">6</b>, <b style=\"color: #a4de79;\">6</b>, <b style=\"color: #828fdd;\">2</b>), inds=[<b style=\"color: #e2da86;\">_703bf6AAAQh</b>, <b style=\"color: #7ad76c;\">_703bf6AAAQi</b>, <b style=\"color: #df546d;\">k2</b>], tags={<b style=\"color: #dd5dd7;\">I2</b>}),</summary>backend=<b style=\"color: #7fdd73;\">numpy</b>, dtype=<b style=\"color: #75d2c6;\">float64</b>, data=array([[[ 0.16113781, -0.09233367],\n",
       "        [ 0.10080225, -0.0859706 ],\n",
       "        [-0.05585783, -0.22539942],\n",
       "        [-0.31548999, -0.31223376],\n",
       "        [-0.39579648, -0.15819868],\n",
       "        [ 0.32080775,  0.3267751 ]],\n",
       "\n",
       "       [[-0.24692782,  0.01596027],\n",
       "        [-0.14728549,  0.03855221],\n",
       "        [ 0.07303008,  0.6298432 ],\n",
       "        [-0.37675988,  0.70866475],\n",
       "        [ 0.57407918, -0.20608316],\n",
       "        [-0.24454342, -0.26820368]],\n",
       "\n",
       "       [[ 0.03451555,  0.11507358],\n",
       "        [ 0.12228159,  0.44103829],\n",
       "        [ 0.4187846 ,  0.05804509],\n",
       "        [ 0.04966802,  0.31710867],\n",
       "        [ 0.0731663 ,  0.47476859],\n",
       "        [ 0.84264983, -0.19173934]],\n",
       "\n",
       "       [[-0.11748668,  0.40013067],\n",
       "        [ 0.27237915,  0.19287688],\n",
       "        [-0.15742157, -0.1552172 ],\n",
       "        [ 0.01609187, -0.53217294],\n",
       "        [ 0.33741573,  0.29300326],\n",
       "        [-0.39275358,  0.52792386]],\n",
       "\n",
       "       [[-0.28834269, -0.21324626],\n",
       "        [-0.25696175, -0.13954097],\n",
       "        [ 0.33447308, -0.27551568],\n",
       "        [ 0.79165811,  0.2340991 ],\n",
       "        [ 0.24478524,  0.06621988],\n",
       "        [ 0.07486572, -0.07602396]],\n",
       "\n",
       "       [[-0.15528348, -0.28461676],\n",
       "        [ 0.08308451,  0.84476265],\n",
       "        [ 0.54842074, -0.78724017],\n",
       "        [-0.50990786,  0.15134387],\n",
       "        [ 0.02783303, -0.16090474],\n",
       "        [-0.17743491, -0.18286967]]])</details></samp><samp style='font-size: 12px;'><details><summary><b style=\"color: #e55471;\">Tensor</b>(shape=(<b style=\"color: #a4de79;\">6</b>, <b style=\"color: #a4de79;\">6</b>, <b style=\"color: #828fdd;\">2</b>), inds=[<b style=\"color: #7ad76c;\">_703bf6AAAQi</b>, <b style=\"color: #ce855d;\">_703bf6AAAQj</b>, <b style=\"color: #4c7be1;\">k3</b>], tags={<b style=\"color: #dd65d9;\">I3</b>}),</summary>backend=<b style=\"color: #7fdd73;\">numpy</b>, dtype=<b style=\"color: #75d2c6;\">float64</b>, data=array([[[ 5.38739001e-01, -7.19459096e-02],\n",
       "        [ 5.69914587e-01, -1.05963165e-01],\n",
       "        [ 7.30966816e-02,  6.42285747e-02],\n",
       "        [ 6.41748427e-01, -3.84593032e-02],\n",
       "        [-3.00459072e-01, -1.07855250e-01],\n",
       "        [-1.93262374e-01, -2.21005037e-01]],\n",
       "\n",
       "       [[ 1.66766009e-01, -3.72164001e-02],\n",
       "        [ 2.50146876e-01, -2.31883237e-01],\n",
       "        [ 3.51195103e-01, -2.94008728e-02],\n",
       "        [ 2.02341041e-01,  4.49069073e-01],\n",
       "        [ 1.61534465e-01,  5.91571010e-01],\n",
       "        [ 4.00387034e-01, -9.06045589e-02]],\n",
       "\n",
       "       [[ 2.51931024e-01,  3.07048350e-02],\n",
       "        [ 4.89438063e-01,  2.53842473e-01],\n",
       "        [ 3.58525021e-03, -4.23732930e-01],\n",
       "        [-4.62085366e-01,  3.29807641e-01],\n",
       "        [ 7.78909700e-01,  1.68639481e-01],\n",
       "        [-1.72491878e-03, -5.10901664e-02]],\n",
       "\n",
       "       [[-4.37174543e-01,  2.19718688e-01],\n",
       "        [ 4.14690002e-01, -4.56908502e-01],\n",
       "        [ 5.22367418e-01,  1.34381229e-01],\n",
       "        [-5.13573411e-01, -1.12561253e-01],\n",
       "        [-5.58375623e-01,  1.94446558e-01],\n",
       "        [ 2.22954004e-01, -3.14650814e-01]],\n",
       "\n",
       "       [[ 1.94703406e-04, -1.09423325e-01],\n",
       "        [ 1.88635428e-01,  1.72249506e-01],\n",
       "        [-1.29294797e-01,  2.03795993e-01],\n",
       "        [-4.09375584e-01, -5.72935933e-02],\n",
       "        [-6.87612393e-01, -3.51282840e-01],\n",
       "        [-2.78606953e-01,  5.13799726e-02]],\n",
       "\n",
       "       [[ 4.10231003e-02,  3.95674888e-01],\n",
       "        [ 1.81217939e-02, -8.29324409e-02],\n",
       "        [ 7.60525432e-02,  2.87971784e-01],\n",
       "        [-1.27893704e-01,  8.57913467e-01],\n",
       "        [ 9.33273499e-04,  2.51623753e-01],\n",
       "        [ 2.88069439e-01,  5.96403414e-01]]])</details></samp><samp style='font-size: 12px;'><details><summary><b style=\"color: #e55471;\">Tensor</b>(shape=(<b style=\"color: #a4de79;\">6</b>, <b style=\"color: #a4de79;\">6</b>, <b style=\"color: #828fdd;\">2</b>), inds=[<b style=\"color: #ce855d;\">_703bf6AAAQj</b>, <b style=\"color: #db7e66;\">_703bf6AAAQk</b>, <b style=\"color: #462edc;\">k4</b>], tags={<b style=\"color: #998ad1;\">I4</b>}),</summary>backend=<b style=\"color: #7fdd73;\">numpy</b>, dtype=<b style=\"color: #75d2c6;\">float64</b>, data=array([[[-4.27725821e-01,  3.10904398e-01],\n",
       "        [-2.84265751e-01, -4.77753755e-01],\n",
       "        [-1.79793077e-01, -2.80262508e-01],\n",
       "        [-4.15458921e-01, -5.18022772e-02],\n",
       "        [-3.16960174e-01, -4.24702094e-01],\n",
       "        [ 2.81207017e-01, -5.47224817e-01]],\n",
       "\n",
       "       [[-3.64648323e-02, -3.80248081e-01],\n",
       "        [-5.42164693e-01,  4.26825499e-01],\n",
       "        [-2.07193590e-01,  3.74086056e-01],\n",
       "        [-1.99339631e-01, -7.24349522e-02],\n",
       "        [-2.81563561e-01,  1.79939593e-01],\n",
       "        [-3.33096175e-02, -1.69477421e-01]],\n",
       "\n",
       "       [[-4.23418834e-01,  3.86232358e-01],\n",
       "        [ 4.00548820e-01,  1.16303593e-02],\n",
       "        [ 3.46077370e-01, -3.96282029e-01],\n",
       "        [ 4.78556155e-02, -2.95608045e-01],\n",
       "        [ 8.51816144e-02,  3.99751442e-01],\n",
       "        [ 5.61234287e-01,  1.53695831e-01]],\n",
       "\n",
       "       [[ 9.16814838e-02, -4.38750141e-01],\n",
       "        [ 5.83230749e-01, -2.96972605e-01],\n",
       "        [ 4.40048271e-01,  5.82599698e-01],\n",
       "        [-3.97243292e-01, -8.81204730e-02],\n",
       "        [ 5.55824054e-01, -7.85607051e-01],\n",
       "        [-3.30834521e-02, -6.04206870e-02]],\n",
       "\n",
       "       [[-5.69084863e-02,  1.32281089e-01],\n",
       "        [-1.88415530e-01, -1.34697353e-01],\n",
       "        [ 2.63866430e-01, -1.96041430e-01],\n",
       "        [ 3.98682980e-01,  1.96216920e-01],\n",
       "        [-4.45471927e-04,  1.95013825e-01],\n",
       "        [ 3.09704875e-01, -9.02354479e-02]],\n",
       "\n",
       "       [[ 4.81416846e-01, -2.23566256e-01],\n",
       "        [ 3.22441664e-01,  3.78035541e-01],\n",
       "        [-2.92421779e-01, -1.25453148e-01],\n",
       "        [ 3.37154068e-01,  2.36909842e-01],\n",
       "        [ 9.04354399e-01,  3.18317264e-01],\n",
       "        [-1.13268535e-01,  2.05038004e-01]]])</details></samp><samp style='font-size: 12px;'><details><summary><b style=\"color: #e55471;\">Tensor</b>(shape=(<b style=\"color: #a4de79;\">6</b>, <b style=\"color: #a4de79;\">6</b>, <b style=\"color: #828fdd;\">2</b>), inds=[<b style=\"color: #db7e66;\">_703bf6AAAQk</b>, <b style=\"color: #37d393;\">_703bf6AAAQl</b>, <b style=\"color: #85dfdf;\">k5</b>], tags={<b style=\"color: #97dddc;\">I5</b>}),</summary>backend=<b style=\"color: #7fdd73;\">numpy</b>, dtype=<b style=\"color: #75d2c6;\">float64</b>, data=array([[[-0.20572686,  0.83079626],\n",
       "        [-0.3933553 , -0.40214576],\n",
       "        [-0.22983111, -0.35416818],\n",
       "        [ 0.34024384,  0.31675961],\n",
       "        [-0.28233886,  0.25326777],\n",
       "        [-0.10288501,  0.5519683 ]],\n",
       "\n",
       "       [[-0.10034253,  0.70191266],\n",
       "        [-0.25453718,  0.10782387],\n",
       "        [-0.06907074, -0.07157793],\n",
       "        [-0.0429468 , -0.48943898],\n",
       "        [-0.38254979,  0.21041198],\n",
       "        [-0.70668626, -0.12111496]],\n",
       "\n",
       "       [[ 0.26798311, -0.08846517],\n",
       "        [-0.45860737, -0.75164574],\n",
       "        [ 0.39077689,  0.16020514],\n",
       "        [-0.32141153, -0.03743595],\n",
       "        [ 0.24109622, -0.06704429],\n",
       "        [-0.5610556 , -0.25981644]],\n",
       "\n",
       "       [[-0.12904582,  0.2080422 ],\n",
       "        [-0.43707291,  0.61449587],\n",
       "        [-0.14336364, -0.05995676],\n",
       "        [ 0.05952625,  0.17910882],\n",
       "        [ 0.04186013, -0.10408752],\n",
       "        [ 0.41935898, -0.02738703]],\n",
       "\n",
       "       [[-0.56933929,  0.25180645],\n",
       "        [-0.21377582,  0.10461468],\n",
       "        [ 0.29130329,  0.15536252],\n",
       "        [-0.34362484, -0.12812342],\n",
       "        [-0.16377381,  0.44587908],\n",
       "        [-0.10407495,  0.46711125]],\n",
       "\n",
       "       [[-0.63741384, -0.24031273],\n",
       "        [-0.41763098, -0.2322779 ],\n",
       "        [ 0.39090858,  0.32910125],\n",
       "        [ 0.17092245,  0.03946107],\n",
       "        [ 0.88405395, -0.55905397],\n",
       "        [-0.3752894 , -0.43650178]]])</details></samp><samp style='font-size: 12px;'><details><summary><b style=\"color: #e55471;\">Tensor</b>(shape=(<b style=\"color: #a4de79;\">6</b>, <b style=\"color: #a4de79;\">6</b>, <b style=\"color: #828fdd;\">2</b>), inds=[<b style=\"color: #37d393;\">_703bf6AAAQl</b>, <b style=\"color: #c694e5;\">_703bf6AAAQm</b>, <b style=\"color: #2cb7d3;\">k6</b>], tags={<b style=\"color: #b2de5f;\">I6</b>}),</summary>backend=<b style=\"color: #7fdd73;\">numpy</b>, dtype=<b style=\"color: #75d2c6;\">float64</b>, data=array([[[-0.32997536,  0.25689189],\n",
       "        [-0.15847182, -0.83128319],\n",
       "        [-0.29928905,  0.38345171],\n",
       "        [-0.19917522,  0.5461309 ],\n",
       "        [ 0.09209012, -0.18495173],\n",
       "        [-0.28121789,  0.23402517]],\n",
       "\n",
       "       [[ 0.45474205, -0.01918574],\n",
       "        [-0.25582459,  0.15034657],\n",
       "        [-0.17549912, -0.60402573],\n",
       "        [ 0.41569668, -0.08297348],\n",
       "        [-0.38970083,  0.22346882],\n",
       "        [ 0.35608909,  0.08561203]],\n",
       "\n",
       "       [[-0.33910114, -0.10644482],\n",
       "        [-0.14879855,  0.24440622],\n",
       "        [-0.24520113,  0.56965804],\n",
       "        [-0.17095883, -0.0839392 ],\n",
       "        [ 0.01360721, -0.04102468],\n",
       "        [-0.10862631,  0.14761721]],\n",
       "\n",
       "       [[ 1.14202495, -0.1793413 ],\n",
       "        [-0.10183223,  0.49510197],\n",
       "        [ 0.60558681,  0.04588172],\n",
       "        [-0.35126381, -0.30679764],\n",
       "        [ 0.40636401, -0.27397738],\n",
       "        [-0.29228774, -0.54341476]],\n",
       "\n",
       "       [[ 0.01346566, -0.2032887 ],\n",
       "        [-0.06681253, -0.09861503],\n",
       "        [ 0.07538427,  0.24393305],\n",
       "        [ 0.15816439, -0.01737819],\n",
       "        [ 0.02720239,  0.12599965],\n",
       "        [ 0.26430206,  0.04867874]],\n",
       "\n",
       "       [[-0.16050653, -0.07733886],\n",
       "        [-0.19428496, -0.15134374],\n",
       "        [ 0.70504546, -0.55412922],\n",
       "        [ 0.19389637,  0.5606519 ],\n",
       "        [ 0.11673567, -0.12799301],\n",
       "        [-0.473806  ,  0.05430244]]])</details></samp><samp style='font-size: 12px;'><details><summary><b style=\"color: #e55471;\">Tensor</b>(shape=(<b style=\"color: #a4de79;\">6</b>, <b style=\"color: #a4de79;\">6</b>, <b style=\"color: #828fdd;\">2</b>), inds=[<b style=\"color: #c694e5;\">_703bf6AAAQm</b>, <b style=\"color: #dfa776;\">_703bf6AAAQn</b>, <b style=\"color: #53e08f;\">k7</b>], tags={<b style=\"color: #5582d6;\">I7</b>}),</summary>backend=<b style=\"color: #7fdd73;\">numpy</b>, dtype=<b style=\"color: #75d2c6;\">float64</b>, data=array([[[-0.38695592, -0.21614887],\n",
       "        [ 0.16160488, -0.40053385],\n",
       "        [ 0.03292991, -0.00694475],\n",
       "        [-0.03774895,  0.19403345],\n",
       "        [-0.18460014, -0.46895347],\n",
       "        [-0.22562264, -0.05582383]],\n",
       "\n",
       "       [[-0.0619665 ,  0.38869222],\n",
       "        [ 0.26471362, -0.23707214],\n",
       "        [ 0.16836949,  0.27686245],\n",
       "        [ 0.41642026,  0.35046843],\n",
       "        [ 0.34955645, -0.32381628],\n",
       "        [-0.60511006, -0.28244636]],\n",
       "\n",
       "       [[ 0.36491473,  0.18402805],\n",
       "        [-0.13001379, -0.38293413],\n",
       "        [ 0.55283368, -0.41250444],\n",
       "        [-0.71019085, -0.84994038],\n",
       "        [-0.32105415, -0.36351151],\n",
       "        [-0.20678323,  0.50014814]],\n",
       "\n",
       "       [[ 0.1126816 , -0.70896256],\n",
       "        [ 0.15999077, -0.25355583],\n",
       "        [ 0.39202101,  0.06422075],\n",
       "        [ 0.51729909, -0.44113656],\n",
       "        [-0.11824701, -0.08734395],\n",
       "        [ 0.41489967,  0.35103152]],\n",
       "\n",
       "       [[ 0.04732338,  0.16854112],\n",
       "        [ 0.03931857, -0.74023272],\n",
       "        [ 0.23824262,  0.2973196 ],\n",
       "        [ 0.4137849 ,  0.13999689],\n",
       "        [ 0.2608343 ,  0.09359017],\n",
       "        [ 0.34292842, -0.28417319]],\n",
       "\n",
       "       [[-0.21667269, -0.62270145],\n",
       "        [ 0.00886961, -0.13208072],\n",
       "        [ 0.39989576, -0.66911625],\n",
       "        [-0.16934976,  0.06607291],\n",
       "        [ 0.30073804, -0.16384632],\n",
       "        [-0.03030781,  0.33241558]]])</details></samp><samp style='font-size: 12px;'><details><summary><b style=\"color: #e55471;\">Tensor</b>(shape=(<b style=\"color: #a4de79;\">6</b>, <b style=\"color: #828fdd;\">2</b>), inds=[<b style=\"color: #dfa776;\">_703bf6AAAQn</b>, <b style=\"color: #7bcd9f;\">k8</b>], tags={<b style=\"color: #8a3dd8;\">I8</b>}),</summary>backend=<b style=\"color: #7fdd73;\">numpy</b>, dtype=<b style=\"color: #75d2c6;\">float64</b>, data=array([[-0.16007418, -0.11613862],\n",
       "       [ 0.21157065, -0.1761539 ],\n",
       "       [ 0.32644445, -0.27215414],\n",
       "       [ 0.03499667, -0.10207523],\n",
       "       [-0.22120541,  0.24707578],\n",
       "       [ 0.04772004,  0.07551114]])</details></samp></details></samp>"
      ],
      "text/plain": [
       "MatrixProductState(tensors=9, indices=17, L=9, max_bond=6)"
      ]
     },
     "execution_count": 44,
     "metadata": {},
     "output_type": "execute_result"
    }
   ],
   "source": [
    "qtn.MPS_rand_state(L=9, bond_dim=6)"
   ]
  },
  {
   "cell_type": "code",
   "execution_count": null,
   "metadata": {},
   "outputs": [],
   "source": [
    "ops = {\n",
    "    \"Identity\": qml.Identity(wires=[0]),\n",
    "    \"BlockEncode\": qml.BlockEncode([[0.1, 0.2], [0.3, 0.4]], wires=[0, 1]),\n",
    "    \"CNOT\": qml.CNOT(wires=[0, 1]),\n",
    "    \"CRX\": qml.CRX(0, wires=[0, 1]),\n",
    "    \"CRY\": qml.CRY(0, wires=[0, 1]),\n",
    "    \"CRZ\": qml.CRZ(0, wires=[0, 1]),\n",
    "    \"CRot\": qml.CRot(0, 0, 0, wires=[0, 1]),\n",
    "    \"CSWAP\": qml.CSWAP(wires=[0, 1, 2]),\n",
    "    \"CZ\": qml.CZ(wires=[0, 1]),\n",
    "    \"CCZ\": qml.CCZ(wires=[0, 1, 2]),\n",
    "    \"CY\": qml.CY(wires=[0, 1]),\n",
    "    \"CH\": qml.CH(wires=[0, 1]),\n",
    "    \"DiagonalQubitUnitary\": qml.DiagonalQubitUnitary(np.array([1, 1]), wires=[0]),\n",
    "    \"Hadamard\": qml.Hadamard(wires=[0]),\n",
    "    \"MultiRZ\": qml.MultiRZ(0, wires=[0]),\n",
    "    \"PauliX\": qml.X(0),\n",
    "    \"PauliY\": qml.Y(0),\n",
    "    \"PauliZ\": qml.Z(0),\n",
    "    \"X\": qml.X([0]),\n",
    "    \"Y\": qml.Y([0]),\n",
    "    \"Z\": qml.Z([0]),\n",
    "    \"PhaseShift\": qml.PhaseShift(0, wires=[0]),\n",
    "    \"PCPhase\": qml.PCPhase(0, 1, wires=[0, 1]),\n",
    "    \"ControlledPhaseShift\": qml.ControlledPhaseShift(0, wires=[0, 1]),\n",
    "    \"CPhaseShift00\": qml.CPhaseShift00(0, wires=[0, 1]),\n",
    "    \"CPhaseShift01\": qml.CPhaseShift01(0, wires=[0, 1]),\n",
    "    \"CPhaseShift10\": qml.CPhaseShift10(0, wires=[0, 1]),\n",
    "    \"QubitUnitary\": qml.QubitUnitary(np.eye(2), wires=[0]),\n",
    "    \"SpecialUnitary\": qml.SpecialUnitary(np.array([0.2, -0.1, 2.3]), wires=1),\n",
    "    \"ControlledQubitUnitary\": qml.ControlledQubitUnitary(\n",
    "        np.eye(2), control_wires=[1], wires=[0]\n",
    "    ),\n",
    "    \"MultiControlledX\": qml.MultiControlledX(wires=[1, 2, 0]),\n",
    "    \"IntegerComparator\": qml.IntegerComparator(1, geq=True, wires=[0, 1, 2]),\n",
    "    \"RX\": qml.RX(0, wires=[0]),\n",
    "    \"RY\": qml.RY(0, wires=[0]),\n",
    "    \"RZ\": qml.RZ(0, wires=[0]),\n",
    "    \"Rot\": qml.Rot(0, 0, 0, wires=[0]),\n",
    "    \"S\": qml.S(wires=[0]),\n",
    "    \"Adjoint(S)\": qml.adjoint(qml.S(wires=[0])),\n",
    "    \"SWAP\": qml.SWAP(wires=[0, 1]),\n",
    "    \"ISWAP\": qml.ISWAP(wires=[0, 1]),\n",
    "    \"PSWAP\": qml.PSWAP(0, wires=[0, 1]),\n",
    "    \"ECR\": qml.ECR(wires=[0, 1]),\n",
    "    \"Adjoint(ISWAP)\": qml.adjoint(qml.ISWAP(wires=[0, 1])),\n",
    "    \"T\": qml.T(wires=[0]),\n",
    "    \"Adjoint(T)\": qml.adjoint(qml.T(wires=[0])),\n",
    "    \"SX\": qml.SX(wires=[0]),\n",
    "    \"Adjoint(SX)\": qml.adjoint(qml.SX(wires=[0])),\n",
    "    \"Toffoli\": qml.Toffoli(wires=[0, 1, 2]),\n",
    "    \"QFT\": qml.templates.QFT(wires=[0, 1, 2]),\n",
    "    \"IsingXX\": qml.IsingXX(0, wires=[0, 1]),\n",
    "    \"IsingYY\": qml.IsingYY(0, wires=[0, 1]),\n",
    "    \"IsingZZ\": qml.IsingZZ(0, wires=[0, 1]),\n",
    "    \"IsingXY\": qml.IsingXY(0, wires=[0, 1]),\n",
    "    \"SingleExcitation\": qml.SingleExcitation(0, wires=[0, 1]),\n",
    "    \"SingleExcitationPlus\": qml.SingleExcitationPlus(0, wires=[0, 1]),\n",
    "    \"SingleExcitationMinus\": qml.SingleExcitationMinus(0, wires=[0, 1]),\n",
    "    \"DoubleExcitation\": qml.DoubleExcitation(0, wires=[0, 1, 2, 3]),\n",
    "    \"DoubleExcitationPlus\": qml.DoubleExcitationPlus(0, wires=[0, 1, 2, 3]),\n",
    "    \"DoubleExcitationMinus\": qml.DoubleExcitationMinus(0, wires=[0, 1, 2, 3]),\n",
    "    \"QubitCarry\": qml.QubitCarry(wires=[0, 1, 2, 3]),\n",
    "    \"QubitSum\": qml.QubitSum(wires=[0, 1, 2]),\n",
    "    \"PauliRot\": qml.PauliRot(0, \"XXYY\", wires=[0, 1, 2, 3]),\n",
    "    \"U1\": qml.U1(0, wires=0),\n",
    "    \"U2\": qml.U2(0, 0, wires=0),\n",
    "    \"U3\": qml.U3(0, 0, 0, wires=0),\n",
    "    \"SISWAP\": qml.SISWAP(wires=[0, 1]),\n",
    "    \"Adjoint(SISWAP)\": qml.adjoint(qml.SISWAP(wires=[0, 1])),\n",
    "    \"OrbitalRotation\": qml.OrbitalRotation(0, wires=[0, 1, 2, 3]),\n",
    "    \"FermionicSWAP\": qml.FermionicSWAP(0, wires=[0, 1]),\n",
    "    \"GlobalPhase\": qml.GlobalPhase(0.123, wires=[0, 1]),\n",
    "}\n",
    "\n",
    "all_ops = ops.keys()"
   ]
  },
  {
   "cell_type": "code",
   "execution_count": null,
   "metadata": {},
   "outputs": [],
   "source": [
    "_operations = {\n",
    "    \"Identity\",\n",
    "    \"QubitUnitary\",\n",
    "    \"ControlledQubitUnitary\",\n",
    "    \"MultiControlledX\",\n",
    "    \"DiagonalQubitUnitary\",\n",
    "    \"PauliX\",\n",
    "    \"PauliY\",\n",
    "    \"PauliZ\",\n",
    "    \"MultiRZ\",\n",
    "    \"GlobalPhase\",\n",
    "    \"Hadamard\",\n",
    "    \"S\",\n",
    "    \"Adjoint(S)\",\n",
    "    \"T\",\n",
    "    \"Adjoint(T)\",\n",
    "    \"SX\",\n",
    "    \"Adjoint(SX)\",\n",
    "    \"CNOT\",\n",
    "    \"SWAP\",\n",
    "    \"ISWAP\",\n",
    "    \"PSWAP\",\n",
    "    \"Adjoint(ISWAP)\",\n",
    "    \"SISWAP\",\n",
    "    \"Adjoint(SISWAP)\",\n",
    "    \"SQISW\",\n",
    "    \"CSWAP\",\n",
    "    \"Toffoli\",\n",
    "    \"CY\",\n",
    "    \"CZ\",\n",
    "    \"PhaseShift\",\n",
    "    \"ControlledPhaseShift\",\n",
    "    \"CPhase\",\n",
    "    \"RX\",\n",
    "    \"RY\",\n",
    "    \"RZ\",\n",
    "    \"Rot\",\n",
    "    \"CRX\",\n",
    "    \"CRY\",\n",
    "    \"CRZ\",\n",
    "    \"C(PauliX)\",\n",
    "    \"C(PauliY)\",\n",
    "    \"C(PauliZ)\",\n",
    "    \"C(Hadamard)\",\n",
    "    \"C(S)\",\n",
    "    \"C(T)\",\n",
    "    \"C(PhaseShift)\",\n",
    "    \"C(RX)\",\n",
    "    \"C(RY)\",\n",
    "    \"C(RZ)\",\n",
    "    \"C(Rot)\",\n",
    "    \"C(SWAP)\",\n",
    "    \"C(IsingXX)\",\n",
    "    \"C(IsingXY)\",\n",
    "    \"C(IsingYY)\",\n",
    "    \"C(IsingZZ)\",\n",
    "    \"C(SingleExcitation)\",\n",
    "    \"C(SingleExcitationMinus)\",\n",
    "    \"C(SingleExcitationPlus)\",\n",
    "    \"C(DoubleExcitation)\",\n",
    "    \"C(DoubleExcitationMinus)\",\n",
    "    \"C(DoubleExcitationPlus)\",\n",
    "    \"C(MultiRZ)\",\n",
    "    \"C(GlobalPhase)\",\n",
    "    \"CRot\",\n",
    "    \"IsingXX\",\n",
    "    \"IsingYY\",\n",
    "    \"IsingZZ\",\n",
    "    \"IsingXY\",\n",
    "    \"SingleExcitation\",\n",
    "    \"SingleExcitationPlus\",\n",
    "    \"SingleExcitationMinus\",\n",
    "    \"DoubleExcitation\",\n",
    "    \"DoubleExcitationPlus\",\n",
    "    \"DoubleExcitationMinus\",\n",
    "    \"QubitCarry\",\n",
    "    \"QubitSum\",\n",
    "    \"OrbitalRotation\",\n",
    "    \"QFT\",\n",
    "    \"ECR\",\n",
    "    \"BlockEncode\",\n",
    "}"
   ]
  },
  {
   "cell_type": "code",
   "execution_count": null,
   "metadata": {},
   "outputs": [
    {
     "name": "stdout",
     "output_type": "stream",
     "text": [
      "CCZ(wires=[0, 1, 2])\n",
      "CH(wires=[0, 1])\n",
      "PCPhase(0, wires=[0, 1])\n",
      "CPhaseShift00(0, wires=[0, 1])\n",
      "CPhaseShift01(0, wires=[0, 1])\n",
      "CPhaseShift10(0, wires=[0, 1])\n",
      "SpecialUnitary(array([ 0.2, -0.1,  2.3]), wires=[1])\n",
      "IntegerComparator(wires=[0, 1, 2])\n",
      "PauliRot(0, XXYY, wires=[0, 1, 2, 3])\n",
      "U1(0, wires=[0])\n",
      "U2(0, 0, wires=[0])\n",
      "U3(0, 0, 0, wires=[0])\n",
      "FermionicSWAP(0, wires=[0, 1])\n"
     ]
    }
   ],
   "source": [
    "for op in all_ops:\n",
    "    if not ops[op].has_matrix:\n",
    "        print(ops[op])\n",
    "        continue\n",
    "    if ops[op].name not in _operations:\n",
    "        print(ops[op])"
   ]
  },
  {
   "cell_type": "code",
   "execution_count": null,
   "metadata": {},
   "outputs": [
    {
     "name": "stdout",
     "output_type": "stream",
     "text": [
      "C(RY)\n",
      "C(PauliY)\n",
      "C(SingleExcitation)\n",
      "C(MultiRZ)\n",
      "C(SingleExcitationMinus)\n",
      "C(PhaseShift)\n",
      "C(T)\n",
      "C(IsingYY)\n",
      "C(SingleExcitationPlus)\n",
      "C(IsingXX)\n",
      "C(PauliX)\n",
      "C(S)\n",
      "C(IsingXY)\n",
      "C(RX)\n",
      "SQISW\n",
      "C(GlobalPhase)\n",
      "C(IsingZZ)\n",
      "C(SWAP)\n",
      "C(PauliZ)\n",
      "C(DoubleExcitationMinus)\n",
      "C(Rot)\n",
      "C(DoubleExcitation)\n",
      "C(Hadamard)\n",
      "C(DoubleExcitationPlus)\n",
      "CPhase\n",
      "C(RZ)\n"
     ]
    }
   ],
   "source": [
    "for op in _operations:\n",
    "    if op not in all_ops:\n",
    "        print(op)"
   ]
  },
  {
   "cell_type": "code",
   "execution_count": null,
   "metadata": {},
   "outputs": [
    {
     "name": "stdout",
     "output_type": "stream",
     "text": [
      "[[1 0 0 0]\n",
      " [0 1 0 0]\n",
      " [0 0 0 1]\n",
      " [0 0 1 0]]\n",
      "CNOT\n",
      "[[1 0 0 0 0 0 0 0]\n",
      " [0 1 0 0 0 0 0 0]\n",
      " [0 0 1 0 0 0 0 0]\n",
      " [0 0 0 1 0 0 0 0]\n",
      " [0 0 0 0 1 0 0 0]\n",
      " [0 0 0 0 0 0 1 0]\n",
      " [0 0 0 0 0 1 0 0]\n",
      " [0 0 0 0 0 0 0 1]]\n",
      "CSWAP\n",
      "[[ 1  0  0  0]\n",
      " [ 0  1  0  0]\n",
      " [ 0  0  1  0]\n",
      " [ 0  0  0 -1]]\n",
      "CZ\n",
      "[[ 1  0  0  0  0  0  0  0]\n",
      " [ 0  1  0  0  0  0  0  0]\n",
      " [ 0  0  1  0  0  0  0  0]\n",
      " [ 0  0  0  1  0  0  0  0]\n",
      " [ 0  0  0  0  1  0  0  0]\n",
      " [ 0  0  0  0  0  1  0  0]\n",
      " [ 0  0  0  0  0  0  1  0]\n",
      " [ 0  0  0  0  0  0  0 -1]]\n",
      "CCZ\n",
      "[[1 0]\n",
      " [0 1]]\n",
      "DiagonalQubitUnitary\n",
      "[[0 1]\n",
      " [1 0]]\n",
      "PauliX\n",
      "[[ 1  0]\n",
      " [ 0 -1]]\n",
      "PauliZ\n",
      "[[0 1]\n",
      " [1 0]]\n",
      "PauliX\n",
      "[[ 1  0]\n",
      " [ 0 -1]]\n",
      "PauliZ\n",
      "[[1 0 0 0]\n",
      " [0 0 1 0]\n",
      " [0 1 0 0]\n",
      " [0 0 0 1]]\n",
      "SWAP\n",
      "[[1 0 0 0 0 0 0 0]\n",
      " [0 1 0 0 0 0 0 0]\n",
      " [0 0 1 0 0 0 0 0]\n",
      " [0 0 0 1 0 0 0 0]\n",
      " [0 0 0 0 1 0 0 0]\n",
      " [0 0 0 0 0 1 0 0]\n",
      " [0 0 0 0 0 0 0 1]\n",
      " [0 0 0 0 0 0 1 0]]\n",
      "Toffoli\n",
      "[[1 0 0 0 0 0 0 0 0 0 0 0 0 0 0 0]\n",
      " [0 1 0 0 0 0 0 0 0 0 0 0 0 0 0 0]\n",
      " [0 0 1 0 0 0 0 0 0 0 0 0 0 0 0 0]\n",
      " [0 0 0 1 0 0 0 0 0 0 0 0 0 0 0 0]\n",
      " [0 0 0 0 0 0 0 1 0 0 0 0 0 0 0 0]\n",
      " [0 0 0 0 0 0 1 0 0 0 0 0 0 0 0 0]\n",
      " [0 0 0 0 1 0 0 0 0 0 0 0 0 0 0 0]\n",
      " [0 0 0 0 0 1 0 0 0 0 0 0 0 0 0 0]\n",
      " [0 0 0 0 0 0 0 0 1 0 0 0 0 0 0 0]\n",
      " [0 0 0 0 0 0 0 0 0 1 0 0 0 0 0 0]\n",
      " [0 0 0 0 0 0 0 0 0 0 0 1 0 0 0 0]\n",
      " [0 0 0 0 0 0 0 0 0 0 1 0 0 0 0 0]\n",
      " [0 0 0 0 0 0 0 0 0 0 0 0 0 0 0 1]\n",
      " [0 0 0 0 0 0 0 0 0 0 0 0 0 0 1 0]\n",
      " [0 0 0 0 0 0 0 0 0 0 0 0 0 1 0 0]\n",
      " [0 0 0 0 0 0 0 0 0 0 0 0 1 0 0 0]]\n",
      "QubitCarry\n",
      "[[1 0 0 0 0 0 0 0]\n",
      " [0 1 0 0 0 0 0 0]\n",
      " [0 0 0 1 0 0 0 0]\n",
      " [0 0 1 0 0 0 0 0]\n",
      " [0 0 0 0 0 1 0 0]\n",
      " [0 0 0 0 1 0 0 0]\n",
      " [0 0 0 0 0 0 1 0]\n",
      " [0 0 0 0 0 0 0 1]]\n",
      "QubitSum\n"
     ]
    }
   ],
   "source": [
    "for op in all_ops:\n",
    "    if not ops[op].has_matrix:\n",
    "        print(ops[op])\n",
    "        assert False\n",
    "    mat = ops[op].matrix()\n",
    "    name = ops[op].name\n",
    "    if mat.dtype == int:\n",
    "        print(mat)\n",
    "        print(name)"
   ]
  },
  {
   "cell_type": "code",
   "execution_count": null,
   "metadata": {},
   "outputs": [],
   "source": [
    "assert isinstance(1.0, (float, np.ndarray))"
   ]
  },
  {
   "cell_type": "code",
   "execution_count": null,
   "metadata": {},
   "outputs": [],
   "source": [
    "result = 1.0"
   ]
  },
  {
   "cell_type": "code",
   "execution_count": null,
   "metadata": {},
   "outputs": [],
   "source": [
    "assert isinstance(result, (float, np.ndarray))"
   ]
  },
  {
   "cell_type": "code",
   "execution_count": null,
   "metadata": {},
   "outputs": [
    {
     "data": {
      "text/plain": [
       "[CNOT(wires=[5, 6]),\n",
       " CNOT(wires=[7, 5]),\n",
       " Hadamard(wires=[6]),\n",
       " Hadamard(wires=[7]),\n",
       " CNOT(wires=[5, 6]),\n",
       " CNOT(wires=[7, 4]),\n",
       " RY(0.025, wires=[4]),\n",
       " RY(-0.025, wires=[7]),\n",
       " CNOT(wires=[7, 6]),\n",
       " Hadamard(wires=[6]),\n",
       " CNOT(wires=[6, 4]),\n",
       " RY(0.025, wires=[4]),\n",
       " RY(-0.025, wires=[7]),\n",
       " CNOT(wires=[5, 4]),\n",
       " CNOT(wires=[5, 7]),\n",
       " RY(-0.025, wires=[4]),\n",
       " RY(0.025, wires=[7]),\n",
       " CNOT(wires=[6, 4]),\n",
       " Hadamard(wires=[6]),\n",
       " CNOT(wires=[7, 6]),\n",
       " RY(-0.025, wires=[4]),\n",
       " RY(0.025, wires=[7]),\n",
       " CNOT(wires=[7, 4]),\n",
       " CNOT(wires=[5, 7]),\n",
       " Hadamard(wires=[7]),\n",
       " Hadamard(wires=[6]),\n",
       " CNOT(wires=[7, 5]),\n",
       " CNOT(wires=[5, 6])]"
      ]
     },
     "execution_count": 53,
     "metadata": {},
     "output_type": "execute_result"
    }
   ],
   "source": [
    "qml.DoubleExcitation(phi, wires=[7, 4, 5, 6]).decomposition()"
   ]
  },
  {
   "cell_type": "code",
   "execution_count": null,
   "metadata": {},
   "outputs": [],
   "source": [
    "ops = qml.Toffoli(wires=[2, 7, 5]).decomposition()"
   ]
  },
  {
   "cell_type": "code",
   "execution_count": null,
   "metadata": {},
   "outputs": [
    {
     "name": "stdout",
     "output_type": "stream",
     "text": [
      "[[ 0.70710678  0.70710678]\n",
      " [ 0.70710678 -0.70710678]]\n",
      "[[1 0 0 0]\n",
      " [0 1 0 0]\n",
      " [0 0 0 1]\n",
      " [0 0 1 0]]\n",
      "[[1.        -0.j         0.        -0.j        ]\n",
      " [0.        -0.j         0.70710678-0.70710678j]]\n",
      "[[1 0 0 0]\n",
      " [0 1 0 0]\n",
      " [0 0 0 1]\n",
      " [0 0 1 0]]\n",
      "[[1.        +0.j         0.        +0.j        ]\n",
      " [0.        +0.j         0.70710678+0.70710678j]]\n",
      "[[1 0 0 0]\n",
      " [0 1 0 0]\n",
      " [0 0 0 1]\n",
      " [0 0 1 0]]\n",
      "[[1.        -0.j         0.        -0.j        ]\n",
      " [0.        -0.j         0.70710678-0.70710678j]]\n",
      "[[1 0 0 0]\n",
      " [0 1 0 0]\n",
      " [0 0 0 1]\n",
      " [0 0 1 0]]\n",
      "[[1.        +0.j         0.        +0.j        ]\n",
      " [0.        +0.j         0.70710678+0.70710678j]]\n",
      "[[1.        +0.j         0.        +0.j        ]\n",
      " [0.        +0.j         0.70710678+0.70710678j]]\n",
      "[[1 0 0 0]\n",
      " [0 1 0 0]\n",
      " [0 0 0 1]\n",
      " [0 0 1 0]]\n",
      "[[ 0.70710678  0.70710678]\n",
      " [ 0.70710678 -0.70710678]]\n",
      "[[1.        +0.j         0.        +0.j        ]\n",
      " [0.        +0.j         0.70710678+0.70710678j]]\n",
      "[[1.        -0.j         0.        -0.j        ]\n",
      " [0.        -0.j         0.70710678-0.70710678j]]\n",
      "[[1 0 0 0]\n",
      " [0 1 0 0]\n",
      " [0 0 0 1]\n",
      " [0 0 1 0]]\n"
     ]
    }
   ],
   "source": [
    "for op in ops:\n",
    "    print(op.matrix())"
   ]
  },
  {
   "cell_type": "code",
   "execution_count": null,
   "metadata": {},
   "outputs": [],
   "source": []
  }
 ],
 "metadata": {
  "kernelspec": {
   "display_name": "PennyLane",
   "language": "python",
   "name": "python3"
  },
  "language_info": {
   "codemirror_mode": {
    "name": "ipython",
    "version": 3
   },
   "file_extension": ".py",
   "mimetype": "text/x-python",
   "name": "python",
   "nbconvert_exporter": "python",
   "pygments_lexer": "ipython3",
   "version": "3.9.7"
  }
 },
 "nbformat": 4,
 "nbformat_minor": 2
}
