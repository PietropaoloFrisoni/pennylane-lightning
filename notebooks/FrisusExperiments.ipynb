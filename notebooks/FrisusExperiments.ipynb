{
 "cells": [
  {
   "cell_type": "markdown",
   "metadata": {},
   "source": [
    "# Understanding the execution flow from `LightningQubit`"
   ]
  },
  {
   "cell_type": "code",
   "execution_count": 1,
   "metadata": {},
   "outputs": [
    {
     "name": "stderr",
     "output_type": "stream",
     "text": [
      "/home/pietropaolo.frisoni/anaconda3/envs/PennyLane/lib/python3.9/site-packages/cotengra/hyperoptimizers/hyper.py:34: UserWarning: Couldn't import `kahypar` - skipping from default hyper optimizer and using basic `labels` method instead.\n",
      "  warnings.warn(\n"
     ]
    }
   ],
   "source": [
    "from typing import Iterable, Union\n",
    "import quimb.tensor as qtn\n",
    "import pennylane as qml\n",
    "from pennylane.wires import Wires\n",
    "import numpy as np"
   ]
  },
  {
   "cell_type": "markdown",
   "metadata": {},
   "source": [
    "## Approach 1: choosing a tape"
   ]
  },
  {
   "cell_type": "code",
   "execution_count": 2,
   "metadata": {},
   "outputs": [],
   "source": [
    "theta = 0.1\n",
    "phi = 0.2\n",
    "\n",
    "O1 = qml.Identity(wires=[0])\n",
    "O2 = qml.PauliZ(wires=[1])\n",
    "\n",
    "ops = [\n",
    "    qml.qml.CSWAP(wires=[0, 1, 2]),\n",
    "    qml.PauliX(wires=[0]),\n",
    "    qml.RX(theta, wires=[0]),\n",
    "    qml.RX(phi, wires=[1]),\n",
    "    qml.CNOT(wires=[0, 1]),\n",
    "    qml.DoubleExcitation(phi, wires=[1, 2, 3, 4]),\n",
    "    qml.qml.CSWAP(wires=[0, 1, 2]),\n",
    "    qml.Hadamard(wires=[1]),\n",
    "    qml.CNOT(wires=[2, 4]),\n",
    "    qml.DoubleExcitation(phi, wires=[0, 1, 3, 4]),\n",
    "]\n",
    "\n",
    "meas = [qml.expval(O1), qml.expval(O2)]\n",
    "\n",
    "tape = qml.tape.QuantumScript(ops=ops, measurements=meas)"
   ]
  },
  {
   "cell_type": "code",
   "execution_count": 3,
   "metadata": {},
   "outputs": [
    {
     "data": {
      "text/plain": [
       "[CSWAP(wires=[0, 1, 2]),\n",
       " X(0),\n",
       " RX(0.1, wires=[0]),\n",
       " RX(0.2, wires=[1]),\n",
       " CNOT(wires=[0, 1]),\n",
       " DoubleExcitation(0.2, wires=[1, 2, 3, 4]),\n",
       " CSWAP(wires=[0, 1, 2]),\n",
       " Hadamard(wires=[1]),\n",
       " CNOT(wires=[2, 4]),\n",
       " DoubleExcitation(0.2, wires=[0, 1, 3, 4])]"
      ]
     },
     "execution_count": 3,
     "metadata": {},
     "output_type": "execute_result"
    }
   ],
   "source": [
    "tape.operations"
   ]
  },
  {
   "cell_type": "code",
   "execution_count": 4,
   "metadata": {},
   "outputs": [
    {
     "data": {
      "text/plain": [
       "[I(0), Z(1)]"
      ]
     },
     "execution_count": 4,
     "metadata": {},
     "output_type": "execute_result"
    }
   ],
   "source": [
    "tape.observables"
   ]
  },
  {
   "cell_type": "code",
   "execution_count": 5,
   "metadata": {},
   "outputs": [
    {
     "data": {
      "text/plain": [
       "[expval(I(0)), expval(Z(1))]"
      ]
     },
     "execution_count": 5,
     "metadata": {},
     "output_type": "execute_result"
    }
   ],
   "source": [
    "tape.measurements"
   ]
  },
  {
   "cell_type": "code",
   "execution_count": 6,
   "metadata": {},
   "outputs": [
    {
     "data": {
      "text/plain": [
       "<Wires = [0, 1, 2, 3, 4]>"
      ]
     },
     "execution_count": 6,
     "metadata": {},
     "output_type": "execute_result"
    }
   ],
   "source": [
    "tape.wires"
   ]
  },
  {
   "cell_type": "markdown",
   "metadata": {},
   "source": [
    "## Approach 2: choosing a circuit"
   ]
  },
  {
   "cell_type": "code",
   "execution_count": 7,
   "metadata": {},
   "outputs": [
    {
     "name": "stdout",
     "output_type": "stream",
     "text": [
      "Frisus log: supports_derivatives called with:\n",
      "execution_config=ExecutionConfig(grad_on_execution=None, use_device_gradient=None, use_device_jacobian_product=False, gradient_method='best', gradient_keyword_arguments={}, device_options={}, interface=None, derivative_order=1)\n",
      "circuit=None\n",
      "\n"
     ]
    }
   ],
   "source": [
    "from functools import partial\n",
    "import pennylane as qml\n",
    "import matplotlib.pyplot as plt\n",
    "from pennylane.tape import QuantumScript, QuantumTape\n",
    "\n",
    "dev = qml.device(\"lightning.qubit\", wires=4)\n",
    "\n",
    "\n",
    "@qml.qnode(dev)\n",
    "def circuit(angles):\n",
    "    qml.Hadamard(wires=1)\n",
    "    qml.Hadamard(wires=2)\n",
    "    qml.RX(angles[0], 0)\n",
    "    qml.CNOT(wires=[1, 0])\n",
    "    qml.CNOT(wires=[2, 1])\n",
    "    qml.RX(angles[2], wires=0)\n",
    "    qml.RZ(angles[1], wires=2)\n",
    "    qml.CNOT(wires=[2, 1])\n",
    "    qml.RZ(-angles[1], wires=2)\n",
    "    qml.CNOT(wires=[1, 0])\n",
    "    qml.Hadamard(wires=1)\n",
    "    qml.CY(wires=[1, 2])\n",
    "    qml.CNOT(wires=[1, 0])\n",
    "    return qml.expval(qml.PauliZ(wires=0))\n",
    "\n",
    "\n",
    "angles = [0.1, 0.3, 0.5]\n",
    "# qnode = qml.QNode(circuit, dev)\n",
    "# qml.draw_mpl(qnode, decimals=1, style=\"sketch\")(angles)\n",
    "# plt.show()"
   ]
  },
  {
   "cell_type": "code",
   "execution_count": 8,
   "metadata": {},
   "outputs": [
    {
     "name": "stdout",
     "output_type": "stream",
     "text": [
      "Frisus log: supports_derivatives called with:\n",
      "execution_config=ExecutionConfig(grad_on_execution=None, use_device_gradient=None, use_device_jacobian_product=False, gradient_method='best', gradient_keyword_arguments={}, device_options={}, interface=None, derivative_order=1)\n",
      "circuit=<QuantumScript: wires=[1, 2, 0], params=0>\n",
      "\n",
      "Frisus log: execute_and_compute_derivatives called with:\n",
      "execution_config=ExecutionConfig(grad_on_execution=True, use_device_gradient=True, use_device_jacobian_product=False, gradient_method='adjoint', gradient_keyword_arguments={}, device_options={'rng': Generator(PCG64) at 0x78847A54E9E0, 'c_dtype': <class 'numpy.complex128'>, 'batch_obs': False, 'mcmc': False, 'kernel_name': None, 'num_burnin': 0}, interface='autograd', derivative_order=1)\n",
      "circuits=(<QuantumScript: wires=[1, 2, 0], params=0>,)\n",
      "\n"
     ]
    },
    {
     "data": {
      "text/plain": [
       "0.8253356149096776"
      ]
     },
     "execution_count": 8,
     "metadata": {},
     "output_type": "execute_result"
    }
   ],
   "source": [
    "circuit(angles=angles)"
   ]
  },
  {
   "cell_type": "code",
   "execution_count": 9,
   "metadata": {},
   "outputs": [
    {
     "data": {
      "text/plain": [
       "(TransformProgram(validate_measurements, validate_observables, validate_device_wires, mid_circuit_measurements, decompose, broadcast_expand),\n",
       " ExecutionConfig(grad_on_execution=True, use_device_gradient=False, use_device_jacobian_product=None, gradient_method=None, gradient_keyword_arguments={}, device_options={'rng': Generator(PCG64) at 0x78847A54E9E0, 'c_dtype': <class 'numpy.complex128'>, 'batch_obs': False, 'mcmc': False, 'kernel_name': None, 'num_burnin': 0}, interface=None, derivative_order=1))"
      ]
     },
     "execution_count": 9,
     "metadata": {},
     "output_type": "execute_result"
    }
   ],
   "source": [
    "dev.preprocess()"
   ]
  },
  {
   "cell_type": "code",
   "execution_count": 10,
   "metadata": {},
   "outputs": [
    {
     "name": "stdout",
     "output_type": "stream",
     "text": [
      "Frisus log: execute called with:\n",
      "execution_config=ExecutionConfig(grad_on_execution=None, use_device_gradient=None, use_device_jacobian_product=None, gradient_method=None, gradient_keyword_arguments={}, device_options={}, interface=None, derivative_order=1)\n",
      "circuits=(<QuantumScript: wires=[0, 1, 2, 3, 4], params=4>,)\n",
      "\n"
     ]
    },
    {
     "data": {
      "text/plain": [
       "(1.0, 9.908719829510026e-05)"
      ]
     },
     "execution_count": 10,
     "metadata": {},
     "output_type": "execute_result"
    }
   ],
   "source": [
    "dev.execute(circuits=tape)"
   ]
  },
  {
   "cell_type": "code",
   "execution_count": null,
   "metadata": {},
   "outputs": [],
   "source": []
  },
  {
   "cell_type": "code",
   "execution_count": null,
   "metadata": {},
   "outputs": [],
   "source": []
  },
  {
   "cell_type": "markdown",
   "metadata": {},
   "source": [
    "## Learning from `LightningQubit` using Python API"
   ]
  },
  {
   "cell_type": "code",
   "execution_count": 11,
   "metadata": {},
   "outputs": [],
   "source": [
    "from pennylane_lightning.lightning_qubit import LightningQubit"
   ]
  },
  {
   "cell_type": "code",
   "execution_count": 12,
   "metadata": {},
   "outputs": [],
   "source": [
    "obj = LightningQubit(wires=tape.wires)"
   ]
  },
  {
   "cell_type": "code",
   "execution_count": 13,
   "metadata": {},
   "outputs": [
    {
     "data": {
      "text/plain": [
       "<pennylane.tracker.Tracker at 0x78847a55c4c0>"
      ]
     },
     "execution_count": 13,
     "metadata": {},
     "output_type": "execute_result"
    }
   ],
   "source": [
    "obj.tracker"
   ]
  },
  {
   "cell_type": "code",
   "execution_count": 14,
   "metadata": {},
   "outputs": [
    {
     "name": "stdout",
     "output_type": "stream",
     "text": [
      "Frisus log: execute called with:\n",
      "execution_config=ExecutionConfig(grad_on_execution=None, use_device_gradient=None, use_device_jacobian_product=None, gradient_method=None, gradient_keyword_arguments={}, device_options={}, interface=None, derivative_order=1)\n",
      "circuits=(<QuantumScript: wires=[0, 1, 2, 3, 4], params=4>,)\n",
      "\n"
     ]
    },
    {
     "data": {
      "text/plain": [
       "(1.0, 9.908719829510026e-05)"
      ]
     },
     "execution_count": 14,
     "metadata": {},
     "output_type": "execute_result"
    }
   ],
   "source": [
    "obj.execute(tape)"
   ]
  },
  {
   "cell_type": "code",
   "execution_count": null,
   "metadata": {},
   "outputs": [],
   "source": []
  },
  {
   "cell_type": "code",
   "execution_count": null,
   "metadata": {},
   "outputs": [],
   "source": []
  },
  {
   "cell_type": "code",
   "execution_count": null,
   "metadata": {},
   "outputs": [],
   "source": []
  },
  {
   "cell_type": "markdown",
   "metadata": {},
   "source": [
    "## Testing `LightningTensor` "
   ]
  },
  {
   "cell_type": "code",
   "execution_count": 15,
   "metadata": {},
   "outputs": [],
   "source": [
    "wires = tape.wires\n",
    "backend = \"quimb\"\n",
    "method = \"mps\"\n",
    "c_dtype = np.complex128\n",
    "max_bond_dim = None\n",
    "cutoff = 0.0"
   ]
  },
  {
   "cell_type": "code",
   "execution_count": 16,
   "metadata": {},
   "outputs": [],
   "source": [
    "from pennylane_lightning.lightning_tensor import LightningTensor"
   ]
  },
  {
   "cell_type": "code",
   "execution_count": 17,
   "metadata": {},
   "outputs": [],
   "source": [
    "obj = LightningTensor(\n",
    "    wires=wires,\n",
    "    backend=backend,\n",
    "    method=method,\n",
    "    c_dtype=c_dtype,\n",
    "    max_bond_dim=max_bond_dim,\n",
    "    cutoff=cutoff,\n",
    ")"
   ]
  },
  {
   "cell_type": "code",
   "execution_count": 18,
   "metadata": {},
   "outputs": [
    {
     "data": {
      "text/plain": [
       "<bound method tensor_split of Tensor(shape=(), inds=(), tags=oset([]))>"
      ]
     },
     "execution_count": 18,
     "metadata": {},
     "output_type": "execute_result"
    }
   ],
   "source": [
    "qtn.Tensor(4).split"
   ]
  },
  {
   "cell_type": "code",
   "execution_count": 19,
   "metadata": {},
   "outputs": [
    {
     "data": {
      "text/html": [
       "<samp style='font-size: 12px;'><details><summary><b style=\"color: #d75692;\">MatrixProductState</b>(tensors=5, indices=9, L=5, max_bond=2)</summary><samp style='font-size: 12px;'><details><summary><b style=\"color: #e55471;\">Tensor</b>(shape=(<b style=\"color: #45ce3d;\">1</b>, <b style=\"color: #828fdd;\">2</b>), inds=[<b style=\"color: #e4a496;\">_22a7feAAAAA</b>, <b style=\"color: #b1dc61;\">k0</b>], tags={<b style=\"color: #74d649;\">0</b>, <b style=\"color: #45ce3d;\">1</b>, <b style=\"color: #828fdd;\">2</b>, <b style=\"color: #8a5bcf;\">3</b>, <b style=\"color: #80d749;\">4</b>, <b style=\"color: #d2b137;\">I0</b>, <b style=\"color: #d3b991;\">PSI0</b>}),</summary>backend=<b style=\"color: #7fdd73;\">numpy</b>, dtype=<b style=\"color: #443ce1;\">complex128</b>, data=array([[1.+0.j, 0.+0.j]])</details></samp><samp style='font-size: 12px;'><details><summary><b style=\"color: #e55471;\">Tensor</b>(shape=(<b style=\"color: #45ce3d;\">1</b>, <b style=\"color: #45ce3d;\">1</b>, <b style=\"color: #828fdd;\">2</b>), inds=[<b style=\"color: #e4a496;\">_22a7feAAAAA</b>, <b style=\"color: #dc4969;\">_22a7feAAAAB</b>, <b style=\"color: #8aa5db;\">k1</b>], tags={<b style=\"color: #74d649;\">0</b>, <b style=\"color: #45ce3d;\">1</b>, <b style=\"color: #828fdd;\">2</b>, <b style=\"color: #8a5bcf;\">3</b>, <b style=\"color: #80d749;\">4</b>, <b style=\"color: #d19b78;\">I1</b>, <b style=\"color: #d3b991;\">PSI0</b>}),</summary>backend=<b style=\"color: #7fdd73;\">numpy</b>, dtype=<b style=\"color: #443ce1;\">complex128</b>, data=array([[[1.+0.j, 0.+0.j]]])</details></samp><samp style='font-size: 12px;'><details><summary><b style=\"color: #e55471;\">Tensor</b>(shape=(<b style=\"color: #45ce3d;\">1</b>, <b style=\"color: #45ce3d;\">1</b>, <b style=\"color: #828fdd;\">2</b>), inds=[<b style=\"color: #dc4969;\">_22a7feAAAAB</b>, <b style=\"color: #de8ec0;\">_22a7feAAAAC</b>, <b style=\"color: #df546d;\">k2</b>], tags={<b style=\"color: #74d649;\">0</b>, <b style=\"color: #45ce3d;\">1</b>, <b style=\"color: #828fdd;\">2</b>, <b style=\"color: #8a5bcf;\">3</b>, <b style=\"color: #80d749;\">4</b>, <b style=\"color: #dd5dd7;\">I2</b>, <b style=\"color: #d3b991;\">PSI0</b>}),</summary>backend=<b style=\"color: #7fdd73;\">numpy</b>, dtype=<b style=\"color: #443ce1;\">complex128</b>, data=array([[[1.+0.j, 0.+0.j]]])</details></samp><samp style='font-size: 12px;'><details><summary><b style=\"color: #e55471;\">Tensor</b>(shape=(<b style=\"color: #45ce3d;\">1</b>, <b style=\"color: #45ce3d;\">1</b>, <b style=\"color: #828fdd;\">2</b>), inds=[<b style=\"color: #de8ec0;\">_22a7feAAAAC</b>, <b style=\"color: #3e39d3;\">_22a7feAAAAD</b>, <b style=\"color: #4c7be1;\">k3</b>], tags={<b style=\"color: #74d649;\">0</b>, <b style=\"color: #45ce3d;\">1</b>, <b style=\"color: #828fdd;\">2</b>, <b style=\"color: #8a5bcf;\">3</b>, <b style=\"color: #80d749;\">4</b>, <b style=\"color: #dd65d9;\">I3</b>, <b style=\"color: #d3b991;\">PSI0</b>}),</summary>backend=<b style=\"color: #7fdd73;\">numpy</b>, dtype=<b style=\"color: #443ce1;\">complex128</b>, data=array([[[1.+0.j, 0.+0.j]]])</details></samp><samp style='font-size: 12px;'><details><summary><b style=\"color: #e55471;\">Tensor</b>(shape=(<b style=\"color: #45ce3d;\">1</b>, <b style=\"color: #828fdd;\">2</b>), inds=[<b style=\"color: #3e39d3;\">_22a7feAAAAD</b>, <b style=\"color: #462edc;\">k4</b>], tags={<b style=\"color: #74d649;\">0</b>, <b style=\"color: #45ce3d;\">1</b>, <b style=\"color: #828fdd;\">2</b>, <b style=\"color: #8a5bcf;\">3</b>, <b style=\"color: #80d749;\">4</b>, <b style=\"color: #998ad1;\">I4</b>, <b style=\"color: #d3b991;\">PSI0</b>}),</summary>backend=<b style=\"color: #7fdd73;\">numpy</b>, dtype=<b style=\"color: #443ce1;\">complex128</b>, data=array([[1.+0.j, 0.+0.j]])</details></samp></details></samp>"
      ],
      "text/plain": [
       "MatrixProductState(tensors=5, indices=9, L=5, max_bond=2)"
      ]
     },
     "execution_count": 19,
     "metadata": {},
     "output_type": "execute_result"
    }
   ],
   "source": [
    "obj._interface.state"
   ]
  },
  {
   "cell_type": "code",
   "execution_count": 20,
   "metadata": {},
   "outputs": [
    {
     "data": {
      "text/html": [
       "<samp style='font-size: 12px;'><details><summary><b style=\"color: #d75692;\">MatrixProductState</b>(tensors=5, indices=9, L=5, max_bond=2)</summary><samp style='font-size: 12px;'><details><summary><b style=\"color: #e55471;\">Tensor</b>(shape=(<b style=\"color: #45ce3d;\">1</b>, <b style=\"color: #828fdd;\">2</b>), inds=[<b style=\"color: #e4a496;\">_22a7feAAAAA</b>, <b style=\"color: #b1dc61;\">k0</b>], tags={<b style=\"color: #74d649;\">0</b>, <b style=\"color: #45ce3d;\">1</b>, <b style=\"color: #828fdd;\">2</b>, <b style=\"color: #8a5bcf;\">3</b>, <b style=\"color: #80d749;\">4</b>, <b style=\"color: #d2b137;\">I0</b>, <b style=\"color: #d3b991;\">PSI0</b>}),</summary>backend=<b style=\"color: #7fdd73;\">numpy</b>, dtype=<b style=\"color: #443ce1;\">complex128</b>, data=array([[1.+0.j, 0.+0.j]])</details></samp><samp style='font-size: 12px;'><details><summary><b style=\"color: #e55471;\">Tensor</b>(shape=(<b style=\"color: #45ce3d;\">1</b>, <b style=\"color: #45ce3d;\">1</b>, <b style=\"color: #828fdd;\">2</b>), inds=[<b style=\"color: #e4a496;\">_22a7feAAAAA</b>, <b style=\"color: #dc4969;\">_22a7feAAAAB</b>, <b style=\"color: #8aa5db;\">k1</b>], tags={<b style=\"color: #74d649;\">0</b>, <b style=\"color: #45ce3d;\">1</b>, <b style=\"color: #828fdd;\">2</b>, <b style=\"color: #8a5bcf;\">3</b>, <b style=\"color: #80d749;\">4</b>, <b style=\"color: #d19b78;\">I1</b>, <b style=\"color: #d3b991;\">PSI0</b>}),</summary>backend=<b style=\"color: #7fdd73;\">numpy</b>, dtype=<b style=\"color: #443ce1;\">complex128</b>, data=array([[[1.+0.j, 0.+0.j]]])</details></samp><samp style='font-size: 12px;'><details><summary><b style=\"color: #e55471;\">Tensor</b>(shape=(<b style=\"color: #45ce3d;\">1</b>, <b style=\"color: #45ce3d;\">1</b>, <b style=\"color: #828fdd;\">2</b>), inds=[<b style=\"color: #dc4969;\">_22a7feAAAAB</b>, <b style=\"color: #de8ec0;\">_22a7feAAAAC</b>, <b style=\"color: #df546d;\">k2</b>], tags={<b style=\"color: #74d649;\">0</b>, <b style=\"color: #45ce3d;\">1</b>, <b style=\"color: #828fdd;\">2</b>, <b style=\"color: #8a5bcf;\">3</b>, <b style=\"color: #80d749;\">4</b>, <b style=\"color: #dd5dd7;\">I2</b>, <b style=\"color: #d3b991;\">PSI0</b>}),</summary>backend=<b style=\"color: #7fdd73;\">numpy</b>, dtype=<b style=\"color: #443ce1;\">complex128</b>, data=array([[[1.+0.j, 0.+0.j]]])</details></samp><samp style='font-size: 12px;'><details><summary><b style=\"color: #e55471;\">Tensor</b>(shape=(<b style=\"color: #45ce3d;\">1</b>, <b style=\"color: #45ce3d;\">1</b>, <b style=\"color: #828fdd;\">2</b>), inds=[<b style=\"color: #de8ec0;\">_22a7feAAAAC</b>, <b style=\"color: #3e39d3;\">_22a7feAAAAD</b>, <b style=\"color: #4c7be1;\">k3</b>], tags={<b style=\"color: #74d649;\">0</b>, <b style=\"color: #45ce3d;\">1</b>, <b style=\"color: #828fdd;\">2</b>, <b style=\"color: #8a5bcf;\">3</b>, <b style=\"color: #80d749;\">4</b>, <b style=\"color: #dd65d9;\">I3</b>, <b style=\"color: #d3b991;\">PSI0</b>}),</summary>backend=<b style=\"color: #7fdd73;\">numpy</b>, dtype=<b style=\"color: #443ce1;\">complex128</b>, data=array([[[1.+0.j, 0.+0.j]]])</details></samp><samp style='font-size: 12px;'><details><summary><b style=\"color: #e55471;\">Tensor</b>(shape=(<b style=\"color: #45ce3d;\">1</b>, <b style=\"color: #828fdd;\">2</b>), inds=[<b style=\"color: #3e39d3;\">_22a7feAAAAD</b>, <b style=\"color: #462edc;\">k4</b>], tags={<b style=\"color: #74d649;\">0</b>, <b style=\"color: #45ce3d;\">1</b>, <b style=\"color: #828fdd;\">2</b>, <b style=\"color: #8a5bcf;\">3</b>, <b style=\"color: #80d749;\">4</b>, <b style=\"color: #998ad1;\">I4</b>, <b style=\"color: #d3b991;\">PSI0</b>}),</summary>backend=<b style=\"color: #7fdd73;\">numpy</b>, dtype=<b style=\"color: #443ce1;\">complex128</b>, data=array([[1.+0.j, 0.+0.j]])</details></samp></details></samp>"
      ],
      "text/plain": [
       "MatrixProductState(tensors=5, indices=9, L=5, max_bond=2)"
      ]
     },
     "execution_count": 20,
     "metadata": {},
     "output_type": "execute_result"
    }
   ],
   "source": [
    "obj._interface._circuitMPS.get_psi_reverse_lightcone(3)"
   ]
  },
  {
   "cell_type": "code",
   "execution_count": 21,
   "metadata": {},
   "outputs": [
    {
     "data": {
      "text/plain": [
       "pennylane.devices.execution_config.ExecutionConfig"
      ]
     },
     "execution_count": 21,
     "metadata": {},
     "output_type": "execute_result"
    }
   ],
   "source": [
    "type(obj._setup_execution_config())"
   ]
  },
  {
   "cell_type": "code",
   "execution_count": 22,
   "metadata": {},
   "outputs": [],
   "source": [
    "program, config = obj.preprocess()"
   ]
  },
  {
   "cell_type": "code",
   "execution_count": 23,
   "metadata": {},
   "outputs": [
    {
     "data": {
      "text/plain": [
       "{'apply_reverse_lightcone': None,\n",
       " 'backend': 'quimb',\n",
       " 'c_dtype': numpy.complex128,\n",
       " 'cutoff': 0.0,\n",
       " 'method': 'mps',\n",
       " 'max_bond_dim': None,\n",
       " 'measure_algorithm': None,\n",
       " 'return_tn': False,\n",
       " 'rehearse': False}"
      ]
     },
     "execution_count": 23,
     "metadata": {},
     "output_type": "execute_result"
    }
   ],
   "source": [
    "config.device_options"
   ]
  },
  {
   "cell_type": "code",
   "execution_count": 24,
   "metadata": {},
   "outputs": [
    {
     "data": {
      "text/plain": [
       "(0.9999999999999973, 9.908719829482271e-05)"
      ]
     },
     "execution_count": 24,
     "metadata": {},
     "output_type": "execute_result"
    }
   ],
   "source": [
    "obj._interface._verbosity = True\n",
    "\n",
    "obj.execute(circuits=tape)"
   ]
  },
  {
   "cell_type": "code",
   "execution_count": 25,
   "metadata": {},
   "outputs": [
    {
     "data": {
      "text/plain": [
       "[<Gate(label=RAW132510383199888, params=raw, qubits=((0, 1, 2),))>,\n",
       " <Gate(label=RAW132510383201328, params=raw, qubits=(0,))>,\n",
       " <Gate(label=RAW132510383200560, params=raw, qubits=(0,))>,\n",
       " <Gate(label=RAW132510383201232, params=raw, qubits=(1,))>,\n",
       " <Gate(label=RAW132510382951664, params=raw, qubits=(0, 1))>,\n",
       " <Gate(label=RAW132510383201424, params=raw, qubits=((1, 2, 3, 4),))>,\n",
       " <Gate(label=RAW132510383199888, params=raw, qubits=((0, 1, 2),))>,\n",
       " <Gate(label=RAW132511756688048, params=raw, qubits=(1,))>,\n",
       " <Gate(label=RAW132510382951664, params=raw, qubits=(2, 4))>,\n",
       " <Gate(label=RAW132510383004432, params=raw, qubits=((0, 1, 3, 4),))>]"
      ]
     },
     "execution_count": 25,
     "metadata": {},
     "output_type": "execute_result"
    }
   ],
   "source": [
    "obj._interface._circuitMPS.gates"
   ]
  },
  {
   "cell_type": "code",
   "execution_count": 26,
   "metadata": {},
   "outputs": [
    {
     "data": {
      "text/plain": [
       "oset(['0', '1', '2', '3', '4', 'PSI0', 'I0', 'GATE_1', 'GATE_2', 'I1', 'GATE_3', 'GATE_7', 'I2', 'I3', 'I4'])"
      ]
     },
     "execution_count": 26,
     "metadata": {},
     "output_type": "execute_result"
    }
   ],
   "source": [
    "obj._interface._circuitMPS.psi.tags"
   ]
  },
  {
   "cell_type": "code",
   "execution_count": 27,
   "metadata": {},
   "outputs": [
    {
     "data": {
      "text/plain": [
       "{'_psi': MatrixProductState(tensors=5, indices=10, L=5, max_bond=3),\n",
       " 'N': 5,\n",
       " 'gate_opts': {'contract': 'swap+split', 'propagate_tags': 'register'},\n",
       " 'gates': [<Gate(label=RAW132510383199888, params=raw, qubits=((0, 1, 2),))>,\n",
       "  <Gate(label=RAW132510383201328, params=raw, qubits=(0,))>,\n",
       "  <Gate(label=RAW132510383200560, params=raw, qubits=(0,))>,\n",
       "  <Gate(label=RAW132510383201232, params=raw, qubits=(1,))>,\n",
       "  <Gate(label=RAW132510382951664, params=raw, qubits=(0, 1))>,\n",
       "  <Gate(label=RAW132510383201424, params=raw, qubits=((1, 2, 3, 4),))>,\n",
       "  <Gate(label=RAW132510383199888, params=raw, qubits=((0, 1, 2),))>,\n",
       "  <Gate(label=RAW132511756688048, params=raw, qubits=(1,))>,\n",
       "  <Gate(label=RAW132510382951664, params=raw, qubits=(2, 4))>,\n",
       "  <Gate(label=RAW132510383004432, params=raw, qubits=((0, 1, 3, 4),))>],\n",
       " '_ket_site_ind_id': 'k{}',\n",
       " '_bra_site_ind_id': 'b{}',\n",
       " 'ket_site_ind': <function str.format>,\n",
       " 'bra_site_ind': <function str.format>,\n",
       " '_sample_n_gates': -1,\n",
       " '_storage': {('rdm_lightcone_simplified',\n",
       "   (0,),\n",
       "   'ADCRS',\n",
       "   0.0): TensorNetwork1D(tensors=1, indices=2, L=5, max_bond=2),\n",
       "  ('rdm_lightcone_simplified',\n",
       "   (1,),\n",
       "   'ADCRS',\n",
       "   0.0): TensorNetwork1D(tensors=1, indices=2, L=5, max_bond=2)},\n",
       " '_sampled_conditionals': {}}"
      ]
     },
     "execution_count": 27,
     "metadata": {},
     "output_type": "execute_result"
    }
   ],
   "source": [
    "obj._interface._circuitMPS.__dict__"
   ]
  },
  {
   "cell_type": "code",
   "execution_count": 28,
   "metadata": {},
   "outputs": [
    {
     "data": {
      "text/plain": [
       "<Circuit(n=5, num_gates=10, gate_opts={'contract': 'swap+split', 'propagate_tags': 'register'})>"
      ]
     },
     "execution_count": 28,
     "metadata": {},
     "output_type": "execute_result"
    }
   ],
   "source": [
    "obj._interface._circuitMPS"
   ]
  },
  {
   "cell_type": "code",
   "execution_count": 29,
   "metadata": {},
   "outputs": [
    {
     "data": {
      "text/plain": [
       "3"
      ]
     },
     "execution_count": 29,
     "metadata": {},
     "output_type": "execute_result"
    }
   ],
   "source": [
    "obj._interface._circuitMPS.psi.max_bond()"
   ]
  },
  {
   "cell_type": "code",
   "execution_count": 30,
   "metadata": {},
   "outputs": [],
   "source": [
    "# obj._interface._circuitMPS.psi.draw(color=[f\"I{q}\" for q in range(len(wires))], show_tags=False, show_inds=True)"
   ]
  },
  {
   "cell_type": "code",
   "execution_count": 31,
   "metadata": {},
   "outputs": [],
   "source": [
    "# obj.compute_derivatives(tape)"
   ]
  },
  {
   "cell_type": "code",
   "execution_count": 32,
   "metadata": {},
   "outputs": [],
   "source": [
    "# obj._interface.state_to_array()"
   ]
  },
  {
   "cell_type": "markdown",
   "metadata": {},
   "source": [
    "# Playing with `quimb`"
   ]
  },
  {
   "cell_type": "code",
   "execution_count": 33,
   "metadata": {},
   "outputs": [],
   "source": [
    "wires = Wires(range(7))\n",
    "\n",
    "init_state = qtn.MPS_computational_state(\n",
    "    \"0\" * len(wires), tags=[str(l) for l in wires.labels]\n",
    ")\n",
    "\n",
    "qc = qtn.CircuitMPS(psi0=init_state)\n",
    "\n",
    "op = qml.CNOT(wires=[0, 1])"
   ]
  },
  {
   "cell_type": "code",
   "execution_count": 34,
   "metadata": {},
   "outputs": [
    {
     "data": {
      "image/png": "[encoded data removed]",
      "text/plain": [
       "<Figure size 600x600 with 1 Axes>"
      ]
     },
     "metadata": {
      "needs_background": "light"
     },
     "output_type": "display_data"
    }
   ],
   "source": [
    "qc.psi.draw(color=[f\"I{q}\" for q in range(len(wires))], show_tags=False, show_inds=True)"
   ]
  },
  {
   "cell_type": "code",
   "execution_count": 35,
   "metadata": {},
   "outputs": [
    {
     "data": {
      "text/plain": [
       "0j"
      ]
     },
     "execution_count": 35,
     "metadata": {},
     "output_type": "execute_result"
    }
   ],
   "source": [
    "qc.amplitude(\"0111111\")"
   ]
  },
  {
   "cell_type": "code",
   "execution_count": 36,
   "metadata": {},
   "outputs": [
    {
     "data": {
      "text/html": [
       "<samp style='font-size: 12px;'><details><summary><b style=\"color: #d75692;\">MatrixProductState</b>(tensors=7, indices=13, L=7, max_bond=2)</summary><samp style='font-size: 12px;'><details><summary><b style=\"color: #e55471;\">Tensor</b>(shape=(<b style=\"color: #45ce3d;\">1</b>, <b style=\"color: #828fdd;\">2</b>), inds=[<b style=\"color: #4e73e4;\">_22a7feAAABo</b>, <b style=\"color: #b1dc61;\">k0</b>], tags={<b style=\"color: #74d649;\">0</b>, <b style=\"color: #45ce3d;\">1</b>, <b style=\"color: #828fdd;\">2</b>, <b style=\"color: #8a5bcf;\">3</b>, <b style=\"color: #80d749;\">4</b>, <b style=\"color: #7355d7;\">5</b>, <b style=\"color: #a4de79;\">6</b>, <b style=\"color: #d2b137;\">I0</b>}),</summary>backend=<b style=\"color: #7fdd73;\">numpy</b>, dtype=<b style=\"color: #75d2c6;\">float64</b>, data=array([[1., 0.]])</details></samp><samp style='font-size: 12px;'><details><summary><b style=\"color: #e55471;\">Tensor</b>(shape=(<b style=\"color: #45ce3d;\">1</b>, <b style=\"color: #45ce3d;\">1</b>, <b style=\"color: #828fdd;\">2</b>), inds=[<b style=\"color: #4e73e4;\">_22a7feAAABo</b>, <b style=\"color: #c0e03d;\">_22a7feAAABp</b>, <b style=\"color: #8aa5db;\">k1</b>], tags={<b style=\"color: #74d649;\">0</b>, <b style=\"color: #45ce3d;\">1</b>, <b style=\"color: #828fdd;\">2</b>, <b style=\"color: #8a5bcf;\">3</b>, <b style=\"color: #80d749;\">4</b>, <b style=\"color: #7355d7;\">5</b>, <b style=\"color: #a4de79;\">6</b>, <b style=\"color: #d19b78;\">I1</b>}),</summary>backend=<b style=\"color: #7fdd73;\">numpy</b>, dtype=<b style=\"color: #75d2c6;\">float64</b>, data=array([[[1., 0.]]])</details></samp><samp style='font-size: 12px;'><details><summary><b style=\"color: #e55471;\">Tensor</b>(shape=(<b style=\"color: #45ce3d;\">1</b>, <b style=\"color: #45ce3d;\">1</b>, <b style=\"color: #828fdd;\">2</b>), inds=[<b style=\"color: #c0e03d;\">_22a7feAAABp</b>, <b style=\"color: #cadf82;\">_22a7feAAABq</b>, <b style=\"color: #df546d;\">k2</b>], tags={<b style=\"color: #74d649;\">0</b>, <b style=\"color: #45ce3d;\">1</b>, <b style=\"color: #828fdd;\">2</b>, <b style=\"color: #8a5bcf;\">3</b>, <b style=\"color: #80d749;\">4</b>, <b style=\"color: #7355d7;\">5</b>, <b style=\"color: #a4de79;\">6</b>, <b style=\"color: #dd5dd7;\">I2</b>}),</summary>backend=<b style=\"color: #7fdd73;\">numpy</b>, dtype=<b style=\"color: #75d2c6;\">float64</b>, data=array([[[1., 0.]]])</details></samp><samp style='font-size: 12px;'><details><summary><b style=\"color: #e55471;\">Tensor</b>(shape=(<b style=\"color: #45ce3d;\">1</b>, <b style=\"color: #45ce3d;\">1</b>, <b style=\"color: #828fdd;\">2</b>), inds=[<b style=\"color: #cadf82;\">_22a7feAAABq</b>, <b style=\"color: #d25ea6;\">_22a7feAAABr</b>, <b style=\"color: #4c7be1;\">k3</b>], tags={<b style=\"color: #74d649;\">0</b>, <b style=\"color: #45ce3d;\">1</b>, <b style=\"color: #828fdd;\">2</b>, <b style=\"color: #8a5bcf;\">3</b>, <b style=\"color: #80d749;\">4</b>, <b style=\"color: #7355d7;\">5</b>, <b style=\"color: #a4de79;\">6</b>, <b style=\"color: #dd65d9;\">I3</b>}),</summary>backend=<b style=\"color: #7fdd73;\">numpy</b>, dtype=<b style=\"color: #75d2c6;\">float64</b>, data=array([[[1., 0.]]])</details></samp><samp style='font-size: 12px;'><details><summary><b style=\"color: #e55471;\">Tensor</b>(shape=(<b style=\"color: #45ce3d;\">1</b>, <b style=\"color: #45ce3d;\">1</b>, <b style=\"color: #828fdd;\">2</b>), inds=[<b style=\"color: #d25ea6;\">_22a7feAAABr</b>, <b style=\"color: #62a6d8;\">_22a7feAAABs</b>, <b style=\"color: #462edc;\">k4</b>], tags={<b style=\"color: #74d649;\">0</b>, <b style=\"color: #45ce3d;\">1</b>, <b style=\"color: #828fdd;\">2</b>, <b style=\"color: #8a5bcf;\">3</b>, <b style=\"color: #80d749;\">4</b>, <b style=\"color: #7355d7;\">5</b>, <b style=\"color: #a4de79;\">6</b>, <b style=\"color: #998ad1;\">I4</b>}),</summary>backend=<b style=\"color: #7fdd73;\">numpy</b>, dtype=<b style=\"color: #75d2c6;\">float64</b>, data=array([[[1., 0.]]])</details></samp><samp style='font-size: 12px;'><details><summary><b style=\"color: #e55471;\">Tensor</b>(shape=(<b style=\"color: #45ce3d;\">1</b>, <b style=\"color: #45ce3d;\">1</b>, <b style=\"color: #828fdd;\">2</b>), inds=[<b style=\"color: #62a6d8;\">_22a7feAAABs</b>, <b style=\"color: #50db73;\">_22a7feAAABt</b>, <b style=\"color: #85dfdf;\">k5</b>], tags={<b style=\"color: #74d649;\">0</b>, <b style=\"color: #45ce3d;\">1</b>, <b style=\"color: #828fdd;\">2</b>, <b style=\"color: #8a5bcf;\">3</b>, <b style=\"color: #80d749;\">4</b>, <b style=\"color: #7355d7;\">5</b>, <b style=\"color: #a4de79;\">6</b>, <b style=\"color: #97dddc;\">I5</b>}),</summary>backend=<b style=\"color: #7fdd73;\">numpy</b>, dtype=<b style=\"color: #75d2c6;\">float64</b>, data=array([[[1., 0.]]])</details></samp><samp style='font-size: 12px;'><details><summary><b style=\"color: #e55471;\">Tensor</b>(shape=(<b style=\"color: #45ce3d;\">1</b>, <b style=\"color: #828fdd;\">2</b>), inds=[<b style=\"color: #50db73;\">_22a7feAAABt</b>, <b style=\"color: #2cb7d3;\">k6</b>], tags={<b style=\"color: #74d649;\">0</b>, <b style=\"color: #45ce3d;\">1</b>, <b style=\"color: #828fdd;\">2</b>, <b style=\"color: #8a5bcf;\">3</b>, <b style=\"color: #80d749;\">4</b>, <b style=\"color: #7355d7;\">5</b>, <b style=\"color: #a4de79;\">6</b>, <b style=\"color: #b2de5f;\">I6</b>}),</summary>backend=<b style=\"color: #7fdd73;\">numpy</b>, dtype=<b style=\"color: #75d2c6;\">float64</b>, data=array([[1., 0.]])</details></samp></details></samp>"
      ],
      "text/plain": [
       "MatrixProductState(tensors=7, indices=13, L=7, max_bond=2)"
      ]
     },
     "execution_count": 36,
     "metadata": {},
     "output_type": "execute_result"
    }
   ],
   "source": [
    "init_state"
   ]
  },
  {
   "cell_type": "code",
   "execution_count": 37,
   "metadata": {},
   "outputs": [
    {
     "data": {
      "text/plain": [
       "<function str.format>"
      ]
     },
     "execution_count": 37,
     "metadata": {},
     "output_type": "execute_result"
    }
   ],
   "source": [
    "qc.ket_site_ind"
   ]
  },
  {
   "cell_type": "code",
   "execution_count": 38,
   "metadata": {},
   "outputs": [
    {
     "data": {
      "text/plain": [
       "{'_psi': MatrixProductState(tensors=7, indices=7, L=7, max_bond=2),\n",
       " 'N': 7,\n",
       " 'gate_opts': {'contract': 'swap+split', 'propagate_tags': 'register'},\n",
       " 'gates': [],\n",
       " '_ket_site_ind_id': 'k{}',\n",
       " '_bra_site_ind_id': 'b{}',\n",
       " 'ket_site_ind': <function str.format>,\n",
       " 'bra_site_ind': <function str.format>,\n",
       " '_sample_n_gates': 0,\n",
       " '_storage': {('psi_simplified',\n",
       "   'ADCRS',\n",
       "   1e-12): MatrixProductState(tensors=7, indices=7, L=7, max_bond=2)},\n",
       " '_sampled_conditionals': {},\n",
       " '_marginal_storage_size': 0}"
      ]
     },
     "execution_count": 38,
     "metadata": {},
     "output_type": "execute_result"
    }
   ],
   "source": [
    "qc.__dict__"
   ]
  },
  {
   "cell_type": "code",
   "execution_count": 39,
   "metadata": {},
   "outputs": [
    {
     "data": {
      "text/plain": [
       "[]"
      ]
     },
     "execution_count": 39,
     "metadata": {},
     "output_type": "execute_result"
    }
   ],
   "source": [
    "qc.gates"
   ]
  },
  {
   "cell_type": "code",
   "execution_count": 40,
   "metadata": {},
   "outputs": [],
   "source": [
    "gate = qtn.circuit.parse_to_gate(op.matrix(), tuple(op.wires))"
   ]
  },
  {
   "cell_type": "code",
   "execution_count": 41,
   "metadata": {},
   "outputs": [
    {
     "data": {
      "text/plain": [
       "<Gate(label=RAW132510382951664, params=raw, qubits=((0, 1),))>"
      ]
     },
     "execution_count": 41,
     "metadata": {},
     "output_type": "execute_result"
    }
   ],
   "source": [
    "gate"
   ]
  },
  {
   "cell_type": "code",
   "execution_count": 42,
   "metadata": {},
   "outputs": [
    {
     "data": {
      "text/html": [
       "<samp style='font-size: 12px;'><details><summary><b style=\"color: #d75692;\">MatrixProductState</b>(tensors=7, indices=13, L=7, max_bond=2)</summary><samp style='font-size: 12px;'><details><summary><b style=\"color: #e55471;\">Tensor</b>(shape=(<b style=\"color: #45ce3d;\">1</b>, <b style=\"color: #828fdd;\">2</b>), inds=[<b style=\"color: #5ecd77;\">_22a7feAAABu</b>, <b style=\"color: #b1dc61;\">k0</b>], tags={<b style=\"color: #74d649;\">0</b>, <b style=\"color: #45ce3d;\">1</b>, <b style=\"color: #828fdd;\">2</b>, <b style=\"color: #8a5bcf;\">3</b>, <b style=\"color: #80d749;\">4</b>, <b style=\"color: #7355d7;\">5</b>, <b style=\"color: #a4de79;\">6</b>, <b style=\"color: #d2b137;\">I0</b>}),</summary>backend=<b style=\"color: #7fdd73;\">numpy</b>, dtype=<b style=\"color: #75d2c6;\">float64</b>, data=array([[1., 0.]])</details></samp><samp style='font-size: 12px;'><details><summary><b style=\"color: #e55471;\">Tensor</b>(shape=(<b style=\"color: #45ce3d;\">1</b>, <b style=\"color: #45ce3d;\">1</b>, <b style=\"color: #828fdd;\">2</b>), inds=[<b style=\"color: #5ecd77;\">_22a7feAAABu</b>, <b style=\"color: #d86e97;\">_22a7feAAABv</b>, <b style=\"color: #8aa5db;\">k1</b>], tags={<b style=\"color: #74d649;\">0</b>, <b style=\"color: #45ce3d;\">1</b>, <b style=\"color: #828fdd;\">2</b>, <b style=\"color: #8a5bcf;\">3</b>, <b style=\"color: #80d749;\">4</b>, <b style=\"color: #7355d7;\">5</b>, <b style=\"color: #a4de79;\">6</b>, <b style=\"color: #d19b78;\">I1</b>}),</summary>backend=<b style=\"color: #7fdd73;\">numpy</b>, dtype=<b style=\"color: #75d2c6;\">float64</b>, data=array([[[1., 0.]]])</details></samp><samp style='font-size: 12px;'><details><summary><b style=\"color: #e55471;\">Tensor</b>(shape=(<b style=\"color: #45ce3d;\">1</b>, <b style=\"color: #45ce3d;\">1</b>, <b style=\"color: #828fdd;\">2</b>), inds=[<b style=\"color: #d86e97;\">_22a7feAAABv</b>, <b style=\"color: #ce5fa6;\">_22a7feAAABw</b>, <b style=\"color: #df546d;\">k2</b>], tags={<b style=\"color: #74d649;\">0</b>, <b style=\"color: #45ce3d;\">1</b>, <b style=\"color: #828fdd;\">2</b>, <b style=\"color: #8a5bcf;\">3</b>, <b style=\"color: #80d749;\">4</b>, <b style=\"color: #7355d7;\">5</b>, <b style=\"color: #a4de79;\">6</b>, <b style=\"color: #dd5dd7;\">I2</b>}),</summary>backend=<b style=\"color: #7fdd73;\">numpy</b>, dtype=<b style=\"color: #75d2c6;\">float64</b>, data=array([[[1., 0.]]])</details></samp><samp style='font-size: 12px;'><details><summary><b style=\"color: #e55471;\">Tensor</b>(shape=(<b style=\"color: #45ce3d;\">1</b>, <b style=\"color: #45ce3d;\">1</b>, <b style=\"color: #828fdd;\">2</b>), inds=[<b style=\"color: #ce5fa6;\">_22a7feAAABw</b>, <b style=\"color: #5fd97a;\">_22a7feAAABx</b>, <b style=\"color: #4c7be1;\">k3</b>], tags={<b style=\"color: #74d649;\">0</b>, <b style=\"color: #45ce3d;\">1</b>, <b style=\"color: #828fdd;\">2</b>, <b style=\"color: #8a5bcf;\">3</b>, <b style=\"color: #80d749;\">4</b>, <b style=\"color: #7355d7;\">5</b>, <b style=\"color: #a4de79;\">6</b>, <b style=\"color: #dd65d9;\">I3</b>}),</summary>backend=<b style=\"color: #7fdd73;\">numpy</b>, dtype=<b style=\"color: #75d2c6;\">float64</b>, data=array([[[1., 0.]]])</details></samp><samp style='font-size: 12px;'><details><summary><b style=\"color: #e55471;\">Tensor</b>(shape=(<b style=\"color: #45ce3d;\">1</b>, <b style=\"color: #45ce3d;\">1</b>, <b style=\"color: #828fdd;\">2</b>), inds=[<b style=\"color: #5fd97a;\">_22a7feAAABx</b>, <b style=\"color: #7262e5;\">_22a7feAAABy</b>, <b style=\"color: #462edc;\">k4</b>], tags={<b style=\"color: #74d649;\">0</b>, <b style=\"color: #45ce3d;\">1</b>, <b style=\"color: #828fdd;\">2</b>, <b style=\"color: #8a5bcf;\">3</b>, <b style=\"color: #80d749;\">4</b>, <b style=\"color: #7355d7;\">5</b>, <b style=\"color: #a4de79;\">6</b>, <b style=\"color: #998ad1;\">I4</b>}),</summary>backend=<b style=\"color: #7fdd73;\">numpy</b>, dtype=<b style=\"color: #75d2c6;\">float64</b>, data=array([[[1., 0.]]])</details></samp><samp style='font-size: 12px;'><details><summary><b style=\"color: #e55471;\">Tensor</b>(shape=(<b style=\"color: #45ce3d;\">1</b>, <b style=\"color: #45ce3d;\">1</b>, <b style=\"color: #828fdd;\">2</b>), inds=[<b style=\"color: #7262e5;\">_22a7feAAABy</b>, <b style=\"color: #b43ed8;\">_22a7feAAABz</b>, <b style=\"color: #85dfdf;\">k5</b>], tags={<b style=\"color: #74d649;\">0</b>, <b style=\"color: #45ce3d;\">1</b>, <b style=\"color: #828fdd;\">2</b>, <b style=\"color: #8a5bcf;\">3</b>, <b style=\"color: #80d749;\">4</b>, <b style=\"color: #7355d7;\">5</b>, <b style=\"color: #a4de79;\">6</b>, <b style=\"color: #97dddc;\">I5</b>}),</summary>backend=<b style=\"color: #7fdd73;\">numpy</b>, dtype=<b style=\"color: #75d2c6;\">float64</b>, data=array([[[1., 0.]]])</details></samp><samp style='font-size: 12px;'><details><summary><b style=\"color: #e55471;\">Tensor</b>(shape=(<b style=\"color: #45ce3d;\">1</b>, <b style=\"color: #828fdd;\">2</b>), inds=[<b style=\"color: #b43ed8;\">_22a7feAAABz</b>, <b style=\"color: #2cb7d3;\">k6</b>], tags={<b style=\"color: #74d649;\">0</b>, <b style=\"color: #45ce3d;\">1</b>, <b style=\"color: #828fdd;\">2</b>, <b style=\"color: #8a5bcf;\">3</b>, <b style=\"color: #80d749;\">4</b>, <b style=\"color: #7355d7;\">5</b>, <b style=\"color: #a4de79;\">6</b>, <b style=\"color: #b2de5f;\">I6</b>}),</summary>backend=<b style=\"color: #7fdd73;\">numpy</b>, dtype=<b style=\"color: #75d2c6;\">float64</b>, data=array([[1., 0.]])</details></samp></details></samp>"
      ],
      "text/plain": [
       "MatrixProductState(tensors=7, indices=13, L=7, max_bond=2)"
      ]
     },
     "execution_count": 42,
     "metadata": {},
     "output_type": "execute_result"
    }
   ],
   "source": [
    "qtn.MPS_computational_state(\"0\" * len(wires), tags=[str(l) for l in wires.labels])"
   ]
  },
  {
   "cell_type": "code",
   "execution_count": 43,
   "metadata": {},
   "outputs": [
    {
     "data": {
      "text/html": [
       "<samp style='font-size: 12px;'><details><summary><b style=\"color: #d75692;\">MatrixProductState</b>(tensors=9, indices=17, L=9, max_bond=6)</summary><samp style='font-size: 12px;'><details><summary><b style=\"color: #e55471;\">Tensor</b>(shape=(<b style=\"color: #a4de79;\">6</b>, <b style=\"color: #828fdd;\">2</b>), inds=[<b style=\"color: #76dfbb;\">_22a7feAAACA</b>, <b style=\"color: #b1dc61;\">k0</b>], tags={<b style=\"color: #d2b137;\">I0</b>}),</summary>backend=<b style=\"color: #7fdd73;\">numpy</b>, dtype=<b style=\"color: #75d2c6;\">float64</b>, data=array([[0., 0.],\n",
       "       [0., 0.],\n",
       "       [0., 0.],\n",
       "       [0., 0.],\n",
       "       [0., 0.],\n",
       "       [0., 0.]])</details></samp><samp style='font-size: 12px;'><details><summary><b style=\"color: #e55471;\">Tensor</b>(shape=(<b style=\"color: #a4de79;\">6</b>, <b style=\"color: #a4de79;\">6</b>, <b style=\"color: #828fdd;\">2</b>), inds=[<b style=\"color: #76dfbb;\">_22a7feAAACA</b>, <b style=\"color: #d43aa1;\">_22a7feAAACB</b>, <b style=\"color: #8aa5db;\">k1</b>], tags={<b style=\"color: #d19b78;\">I1</b>}),</summary>backend=<b style=\"color: #7fdd73;\">numpy</b>, dtype=<b style=\"color: #75d2c6;\">float64</b>, data=array([[[0., 0.],\n",
       "        [0., 0.],\n",
       "        [0., 0.],\n",
       "        [0., 0.],\n",
       "        [0., 0.],\n",
       "        [0., 0.]],\n",
       "\n",
       "       [[0., 0.],\n",
       "        [0., 0.],\n",
       "        [0., 0.],\n",
       "        [0., 0.],\n",
       "        [0., 0.],\n",
       "        [0., 0.]],\n",
       "\n",
       "       [[0., 0.],\n",
       "        [0., 0.],\n",
       "        [0., 0.],\n",
       "        [0., 0.],\n",
       "        [0., 0.],\n",
       "        [0., 0.]],\n",
       "\n",
       "       [[0., 0.],\n",
       "        [0., 0.],\n",
       "        [0., 0.],\n",
       "        [0., 0.],\n",
       "        [0., 0.],\n",
       "        [0., 0.]],\n",
       "\n",
       "       [[0., 0.],\n",
       "        [0., 0.],\n",
       "        [0., 0.],\n",
       "        [0., 0.],\n",
       "        [0., 0.],\n",
       "        [0., 0.]],\n",
       "\n",
       "       [[0., 0.],\n",
       "        [0., 0.],\n",
       "        [0., 0.],\n",
       "        [0., 0.],\n",
       "        [0., 0.],\n",
       "        [0., 0.]]])</details></samp><samp style='font-size: 12px;'><details><summary><b style=\"color: #e55471;\">Tensor</b>(shape=(<b style=\"color: #a4de79;\">6</b>, <b style=\"color: #a4de79;\">6</b>, <b style=\"color: #828fdd;\">2</b>), inds=[<b style=\"color: #d43aa1;\">_22a7feAAACB</b>, <b style=\"color: #d36fb5;\">_22a7feAAACC</b>, <b style=\"color: #df546d;\">k2</b>], tags={<b style=\"color: #dd5dd7;\">I2</b>}),</summary>backend=<b style=\"color: #7fdd73;\">numpy</b>, dtype=<b style=\"color: #75d2c6;\">float64</b>, data=array([[[0., 0.],\n",
       "        [0., 0.],\n",
       "        [0., 0.],\n",
       "        [0., 0.],\n",
       "        [0., 0.],\n",
       "        [0., 0.]],\n",
       "\n",
       "       [[0., 0.],\n",
       "        [0., 0.],\n",
       "        [0., 0.],\n",
       "        [0., 0.],\n",
       "        [0., 0.],\n",
       "        [0., 0.]],\n",
       "\n",
       "       [[0., 0.],\n",
       "        [0., 0.],\n",
       "        [0., 0.],\n",
       "        [0., 0.],\n",
       "        [0., 0.],\n",
       "        [0., 0.]],\n",
       "\n",
       "       [[0., 0.],\n",
       "        [0., 0.],\n",
       "        [0., 0.],\n",
       "        [0., 0.],\n",
       "        [0., 0.],\n",
       "        [0., 0.]],\n",
       "\n",
       "       [[0., 0.],\n",
       "        [0., 0.],\n",
       "        [0., 0.],\n",
       "        [0., 0.],\n",
       "        [0., 0.],\n",
       "        [0., 0.]],\n",
       "\n",
       "       [[0., 0.],\n",
       "        [0., 0.],\n",
       "        [0., 0.],\n",
       "        [0., 0.],\n",
       "        [0., 0.],\n",
       "        [0., 0.]]])</details></samp><samp style='font-size: 12px;'><details><summary><b style=\"color: #e55471;\">Tensor</b>(shape=(<b style=\"color: #a4de79;\">6</b>, <b style=\"color: #a4de79;\">6</b>, <b style=\"color: #828fdd;\">2</b>), inds=[<b style=\"color: #d36fb5;\">_22a7feAAACC</b>, <b style=\"color: #4ed39b;\">_22a7feAAACD</b>, <b style=\"color: #4c7be1;\">k3</b>], tags={<b style=\"color: #dd65d9;\">I3</b>}),</summary>backend=<b style=\"color: #7fdd73;\">numpy</b>, dtype=<b style=\"color: #75d2c6;\">float64</b>, data=array([[[0., 0.],\n",
       "        [0., 0.],\n",
       "        [0., 0.],\n",
       "        [0., 0.],\n",
       "        [0., 0.],\n",
       "        [0., 0.]],\n",
       "\n",
       "       [[0., 0.],\n",
       "        [0., 0.],\n",
       "        [0., 0.],\n",
       "        [0., 0.],\n",
       "        [0., 0.],\n",
       "        [0., 0.]],\n",
       "\n",
       "       [[0., 0.],\n",
       "        [0., 0.],\n",
       "        [0., 0.],\n",
       "        [0., 0.],\n",
       "        [0., 0.],\n",
       "        [0., 0.]],\n",
       "\n",
       "       [[0., 0.],\n",
       "        [0., 0.],\n",
       "        [0., 0.],\n",
       "        [0., 0.],\n",
       "        [0., 0.],\n",
       "        [0., 0.]],\n",
       "\n",
       "       [[0., 0.],\n",
       "        [0., 0.],\n",
       "        [0., 0.],\n",
       "        [0., 0.],\n",
       "        [0., 0.],\n",
       "        [0., 0.]],\n",
       "\n",
       "       [[0., 0.],\n",
       "        [0., 0.],\n",
       "        [0., 0.],\n",
       "        [0., 0.],\n",
       "        [0., 0.],\n",
       "        [0., 0.]]])</details></samp><samp style='font-size: 12px;'><details><summary><b style=\"color: #e55471;\">Tensor</b>(shape=(<b style=\"color: #a4de79;\">6</b>, <b style=\"color: #a4de79;\">6</b>, <b style=\"color: #828fdd;\">2</b>), inds=[<b style=\"color: #4ed39b;\">_22a7feAAACD</b>, <b style=\"color: #82e491;\">_22a7feAAACE</b>, <b style=\"color: #462edc;\">k4</b>], tags={<b style=\"color: #998ad1;\">I4</b>}),</summary>backend=<b style=\"color: #7fdd73;\">numpy</b>, dtype=<b style=\"color: #75d2c6;\">float64</b>, data=array([[[0., 0.],\n",
       "        [0., 0.],\n",
       "        [0., 0.],\n",
       "        [0., 0.],\n",
       "        [0., 0.],\n",
       "        [0., 0.]],\n",
       "\n",
       "       [[0., 0.],\n",
       "        [0., 0.],\n",
       "        [0., 0.],\n",
       "        [0., 0.],\n",
       "        [0., 0.],\n",
       "        [0., 0.]],\n",
       "\n",
       "       [[0., 0.],\n",
       "        [0., 0.],\n",
       "        [0., 0.],\n",
       "        [0., 0.],\n",
       "        [0., 0.],\n",
       "        [0., 0.]],\n",
       "\n",
       "       [[0., 0.],\n",
       "        [0., 0.],\n",
       "        [0., 0.],\n",
       "        [0., 0.],\n",
       "        [0., 0.],\n",
       "        [0., 0.]],\n",
       "\n",
       "       [[0., 0.],\n",
       "        [0., 0.],\n",
       "        [0., 0.],\n",
       "        [0., 0.],\n",
       "        [0., 0.],\n",
       "        [0., 0.]],\n",
       "\n",
       "       [[0., 0.],\n",
       "        [0., 0.],\n",
       "        [0., 0.],\n",
       "        [0., 0.],\n",
       "        [0., 0.],\n",
       "        [0., 0.]]])</details></samp><samp style='font-size: 12px;'><details><summary><b style=\"color: #e55471;\">Tensor</b>(shape=(<b style=\"color: #a4de79;\">6</b>, <b style=\"color: #a4de79;\">6</b>, <b style=\"color: #828fdd;\">2</b>), inds=[<b style=\"color: #82e491;\">_22a7feAAACE</b>, <b style=\"color: #4b43cd;\">_22a7feAAACF</b>, <b style=\"color: #85dfdf;\">k5</b>], tags={<b style=\"color: #97dddc;\">I5</b>}),</summary>backend=<b style=\"color: #7fdd73;\">numpy</b>, dtype=<b style=\"color: #75d2c6;\">float64</b>, data=array([[[0., 0.],\n",
       "        [0., 0.],\n",
       "        [0., 0.],\n",
       "        [0., 0.],\n",
       "        [0., 0.],\n",
       "        [0., 0.]],\n",
       "\n",
       "       [[0., 0.],\n",
       "        [0., 0.],\n",
       "        [0., 0.],\n",
       "        [0., 0.],\n",
       "        [0., 0.],\n",
       "        [0., 0.]],\n",
       "\n",
       "       [[0., 0.],\n",
       "        [0., 0.],\n",
       "        [0., 0.],\n",
       "        [0., 0.],\n",
       "        [0., 0.],\n",
       "        [0., 0.]],\n",
       "\n",
       "       [[0., 0.],\n",
       "        [0., 0.],\n",
       "        [0., 0.],\n",
       "        [0., 0.],\n",
       "        [0., 0.],\n",
       "        [0., 0.]],\n",
       "\n",
       "       [[0., 0.],\n",
       "        [0., 0.],\n",
       "        [0., 0.],\n",
       "        [0., 0.],\n",
       "        [0., 0.],\n",
       "        [0., 0.]],\n",
       "\n",
       "       [[0., 0.],\n",
       "        [0., 0.],\n",
       "        [0., 0.],\n",
       "        [0., 0.],\n",
       "        [0., 0.],\n",
       "        [0., 0.]]])</details></samp><samp style='font-size: 12px;'><details><summary><b style=\"color: #e55471;\">Tensor</b>(shape=(<b style=\"color: #a4de79;\">6</b>, <b style=\"color: #a4de79;\">6</b>, <b style=\"color: #828fdd;\">2</b>), inds=[<b style=\"color: #4b43cd;\">_22a7feAAACF</b>, <b style=\"color: #9f76d0;\">_22a7feAAACG</b>, <b style=\"color: #2cb7d3;\">k6</b>], tags={<b style=\"color: #b2de5f;\">I6</b>}),</summary>backend=<b style=\"color: #7fdd73;\">numpy</b>, dtype=<b style=\"color: #75d2c6;\">float64</b>, data=array([[[0., 0.],\n",
       "        [0., 0.],\n",
       "        [0., 0.],\n",
       "        [0., 0.],\n",
       "        [0., 0.],\n",
       "        [0., 0.]],\n",
       "\n",
       "       [[0., 0.],\n",
       "        [0., 0.],\n",
       "        [0., 0.],\n",
       "        [0., 0.],\n",
       "        [0., 0.],\n",
       "        [0., 0.]],\n",
       "\n",
       "       [[0., 0.],\n",
       "        [0., 0.],\n",
       "        [0., 0.],\n",
       "        [0., 0.],\n",
       "        [0., 0.],\n",
       "        [0., 0.]],\n",
       "\n",
       "       [[0., 0.],\n",
       "        [0., 0.],\n",
       "        [0., 0.],\n",
       "        [0., 0.],\n",
       "        [0., 0.],\n",
       "        [0., 0.]],\n",
       "\n",
       "       [[0., 0.],\n",
       "        [0., 0.],\n",
       "        [0., 0.],\n",
       "        [0., 0.],\n",
       "        [0., 0.],\n",
       "        [0., 0.]],\n",
       "\n",
       "       [[0., 0.],\n",
       "        [0., 0.],\n",
       "        [0., 0.],\n",
       "        [0., 0.],\n",
       "        [0., 0.],\n",
       "        [0., 0.]]])</details></samp><samp style='font-size: 12px;'><details><summary><b style=\"color: #e55471;\">Tensor</b>(shape=(<b style=\"color: #a4de79;\">6</b>, <b style=\"color: #a4de79;\">6</b>, <b style=\"color: #828fdd;\">2</b>), inds=[<b style=\"color: #9f76d0;\">_22a7feAAACG</b>, <b style=\"color: #d9af4a;\">_22a7feAAACH</b>, <b style=\"color: #53e08f;\">k7</b>], tags={<b style=\"color: #5582d6;\">I7</b>}),</summary>backend=<b style=\"color: #7fdd73;\">numpy</b>, dtype=<b style=\"color: #75d2c6;\">float64</b>, data=array([[[0., 0.],\n",
       "        [0., 0.],\n",
       "        [0., 0.],\n",
       "        [0., 0.],\n",
       "        [0., 0.],\n",
       "        [0., 0.]],\n",
       "\n",
       "       [[0., 0.],\n",
       "        [0., 0.],\n",
       "        [0., 0.],\n",
       "        [0., 0.],\n",
       "        [0., 0.],\n",
       "        [0., 0.]],\n",
       "\n",
       "       [[0., 0.],\n",
       "        [0., 0.],\n",
       "        [0., 0.],\n",
       "        [0., 0.],\n",
       "        [0., 0.],\n",
       "        [0., 0.]],\n",
       "\n",
       "       [[0., 0.],\n",
       "        [0., 0.],\n",
       "        [0., 0.],\n",
       "        [0., 0.],\n",
       "        [0., 0.],\n",
       "        [0., 0.]],\n",
       "\n",
       "       [[0., 0.],\n",
       "        [0., 0.],\n",
       "        [0., 0.],\n",
       "        [0., 0.],\n",
       "        [0., 0.],\n",
       "        [0., 0.]],\n",
       "\n",
       "       [[0., 0.],\n",
       "        [0., 0.],\n",
       "        [0., 0.],\n",
       "        [0., 0.],\n",
       "        [0., 0.],\n",
       "        [0., 0.]]])</details></samp><samp style='font-size: 12px;'><details><summary><b style=\"color: #e55471;\">Tensor</b>(shape=(<b style=\"color: #a4de79;\">6</b>, <b style=\"color: #828fdd;\">2</b>), inds=[<b style=\"color: #d9af4a;\">_22a7feAAACH</b>, <b style=\"color: #7bcd9f;\">k8</b>], tags={<b style=\"color: #8a3dd8;\">I8</b>}),</summary>backend=<b style=\"color: #7fdd73;\">numpy</b>, dtype=<b style=\"color: #75d2c6;\">float64</b>, data=array([[0., 0.],\n",
       "       [0., 0.],\n",
       "       [0., 0.],\n",
       "       [0., 0.],\n",
       "       [0., 0.],\n",
       "       [0., 0.]])</details></samp></details></samp>"
      ],
      "text/plain": [
       "MatrixProductState(tensors=9, indices=17, L=9, max_bond=6)"
      ]
     },
     "execution_count": 43,
     "metadata": {},
     "output_type": "execute_result"
    }
   ],
   "source": [
    "qtn.MPS_zero_state(bond_dim=6, L=9)"
   ]
  },
  {
   "cell_type": "code",
   "execution_count": 44,
   "metadata": {},
   "outputs": [
    {
     "data": {
      "text/html": [
       "<samp style='font-size: 12px;'><details><summary><b style=\"color: #d75692;\">MatrixProductState</b>(tensors=9, indices=17, L=9, max_bond=6)</summary><samp style='font-size: 12px;'><details><summary><b style=\"color: #e55471;\">Tensor</b>(shape=(<b style=\"color: #a4de79;\">6</b>, <b style=\"color: #828fdd;\">2</b>), inds=[<b style=\"color: #9d61cd;\">_22a7feAAACI</b>, <b style=\"color: #b1dc61;\">k0</b>], tags={<b style=\"color: #d2b137;\">I0</b>}),</summary>backend=<b style=\"color: #7fdd73;\">numpy</b>, dtype=<b style=\"color: #75d2c6;\">float64</b>, data=array([[-0.33887211, -0.04247771],\n",
       "       [-0.14366116,  0.72371772],\n",
       "       [-0.67708447, -0.32596464],\n",
       "       [ 0.00080816, -0.48735447],\n",
       "       [ 0.10682559, -0.0840764 ],\n",
       "       [-0.47395774, -0.05818491]])</details></samp><samp style='font-size: 12px;'><details><summary><b style=\"color: #e55471;\">Tensor</b>(shape=(<b style=\"color: #a4de79;\">6</b>, <b style=\"color: #a4de79;\">6</b>, <b style=\"color: #828fdd;\">2</b>), inds=[<b style=\"color: #9d61cd;\">_22a7feAAACI</b>, <b style=\"color: #77e3a1;\">_22a7feAAACJ</b>, <b style=\"color: #8aa5db;\">k1</b>], tags={<b style=\"color: #d19b78;\">I1</b>}),</summary>backend=<b style=\"color: #7fdd73;\">numpy</b>, dtype=<b style=\"color: #75d2c6;\">float64</b>, data=array([[[-0.24680241,  0.33816577],\n",
       "        [ 0.14522563, -0.50623412],\n",
       "        [ 0.18331986, -0.28715379],\n",
       "        [-0.20047515,  0.06038689],\n",
       "        [ 0.5653658 ,  0.17220979],\n",
       "        [ 0.36940586,  0.14903738]],\n",
       "\n",
       "       [[ 0.15052198, -0.33412987],\n",
       "        [ 0.31661954, -0.06057467],\n",
       "        [-0.27891107, -0.47100038],\n",
       "        [-0.14047437, -0.11702143],\n",
       "        [-0.03687704, -0.14371515],\n",
       "        [-0.55626965, -0.35171562]],\n",
       "\n",
       "       [[-0.35771273,  0.1975224 ],\n",
       "        [ 0.86243485, -0.40806818],\n",
       "        [ 0.24123025, -0.11292852],\n",
       "        [-0.5118278 , -0.14665488],\n",
       "        [-0.35432674, -0.14663412],\n",
       "        [-0.08984165, -0.68884803]],\n",
       "\n",
       "       [[-0.56851287,  0.26050849],\n",
       "        [ 0.28955057,  0.16733144],\n",
       "        [-0.07619483, -0.36975524],\n",
       "        [ 0.03777357,  0.04912325],\n",
       "        [-0.55447403,  0.16777967],\n",
       "        [ 0.06430517,  0.02700281]],\n",
       "\n",
       "       [[ 0.44368575,  0.58985318],\n",
       "        [ 0.30491293, -0.27527194],\n",
       "        [-0.34403973,  0.00130734],\n",
       "        [-0.33119   ,  0.34290596],\n",
       "        [ 0.36168954, -0.33232449],\n",
       "        [ 0.3884427 , -0.16605561]],\n",
       "\n",
       "       [[ 0.17127361, -0.17525943],\n",
       "        [-0.41952112, -0.65636994],\n",
       "        [ 0.25166133, -0.00315291],\n",
       "        [ 0.22053943, -0.51250621],\n",
       "        [ 0.12722324,  0.23553948],\n",
       "        [ 0.20064239,  0.53940151]]])</details></samp><samp style='font-size: 12px;'><details><summary><b style=\"color: #e55471;\">Tensor</b>(shape=(<b style=\"color: #a4de79;\">6</b>, <b style=\"color: #a4de79;\">6</b>, <b style=\"color: #828fdd;\">2</b>), inds=[<b style=\"color: #77e3a1;\">_22a7feAAACJ</b>, <b style=\"color: #83d7dd;\">_22a7feAAACK</b>, <b style=\"color: #df546d;\">k2</b>], tags={<b style=\"color: #dd5dd7;\">I2</b>}),</summary>backend=<b style=\"color: #7fdd73;\">numpy</b>, dtype=<b style=\"color: #75d2c6;\">float64</b>, data=array([[[ 0.42982467, -0.56940472],\n",
       "        [-0.0942815 , -0.32038634],\n",
       "        [ 0.01367283, -0.31939838],\n",
       "        [ 0.18766694, -0.40417181],\n",
       "        [-0.03368647, -0.32294715],\n",
       "        [-0.35771087, -0.03237162]],\n",
       "\n",
       "       [[ 0.12817635,  0.16193841],\n",
       "        [ 0.08968247,  0.08703284],\n",
       "        [-0.58696321,  0.11541293],\n",
       "        [-0.01342985, -0.25469171],\n",
       "        [-0.32246202, -0.28852493],\n",
       "        [ 0.29871737, -0.63023314]],\n",
       "\n",
       "       [[-0.05102464, -0.01471674],\n",
       "        [-0.0606625 , -0.62308424],\n",
       "        [ 0.15432773,  0.07243989],\n",
       "        [-0.3572403 , -0.10746865],\n",
       "        [ 0.29053307,  0.56440586],\n",
       "        [-0.2992292 ,  0.13145222]],\n",
       "\n",
       "       [[ 0.20448209, -0.1002402 ],\n",
       "        [-0.22723491,  0.15968042],\n",
       "        [ 0.22040557, -0.33409606],\n",
       "        [ 0.18143794, -0.41778337],\n",
       "        [-0.08971877, -0.68797164],\n",
       "        [ 0.2013393 ,  0.39401557]],\n",
       "\n",
       "       [[ 0.08548046, -0.45606003],\n",
       "        [-0.04597028,  0.0936054 ],\n",
       "        [-0.53643011,  0.2292912 ],\n",
       "        [ 0.11868067, -0.1675955 ],\n",
       "        [ 0.02426134, -0.83297127],\n",
       "        [ 0.1117958 ,  0.26735467]],\n",
       "\n",
       "       [[-0.40473848,  0.01620718],\n",
       "        [-0.29748128, -0.37504125],\n",
       "        [-0.4645645 ,  0.46661312],\n",
       "        [-0.38204391,  0.08540129],\n",
       "        [ 0.08493281, -0.13461092],\n",
       "        [-0.57155458, -0.11866661]]])</details></samp><samp style='font-size: 12px;'><details><summary><b style=\"color: #e55471;\">Tensor</b>(shape=(<b style=\"color: #a4de79;\">6</b>, <b style=\"color: #a4de79;\">6</b>, <b style=\"color: #828fdd;\">2</b>), inds=[<b style=\"color: #83d7dd;\">_22a7feAAACK</b>, <b style=\"color: #ce8d31;\">_22a7feAAACL</b>, <b style=\"color: #4c7be1;\">k3</b>], tags={<b style=\"color: #dd65d9;\">I3</b>}),</summary>backend=<b style=\"color: #7fdd73;\">numpy</b>, dtype=<b style=\"color: #75d2c6;\">float64</b>, data=array([[[ 0.04858599, -0.28746323],\n",
       "        [ 0.2120872 , -0.12830013],\n",
       "        [ 0.29851897,  0.31004218],\n",
       "        [ 0.64846076, -0.40088182],\n",
       "        [-0.1688532 , -0.03651687],\n",
       "        [-0.29101944, -0.03938771]],\n",
       "\n",
       "       [[ 0.21955688,  0.47703515],\n",
       "        [-0.43446242, -0.28626963],\n",
       "        [ 0.0191909 , -0.03563867],\n",
       "        [ 0.32087987, -0.3376567 ],\n",
       "        [-0.0936129 ,  0.07103638],\n",
       "        [ 0.04295218, -0.45534351]],\n",
       "\n",
       "       [[-0.47851206, -0.07870276],\n",
       "        [ 0.11495212, -0.01807712],\n",
       "        [ 0.32724821, -0.1149669 ],\n",
       "        [-0.38958904, -0.08528934],\n",
       "        [ 0.1949782 , -0.09886993],\n",
       "        [ 0.11626396,  0.29717235]],\n",
       "\n",
       "       [[-0.12395877, -0.50355467],\n",
       "        [-0.67414739, -0.40807308],\n",
       "        [ 0.26561231,  0.10314919],\n",
       "        [ 0.76278047, -0.2272206 ],\n",
       "        [ 0.14888139,  0.48803906],\n",
       "        [-0.73128502,  0.09342156]],\n",
       "\n",
       "       [[ 0.1024679 , -0.34676664],\n",
       "        [-0.52674476, -0.44588312],\n",
       "        [ 0.06508457, -0.00937028],\n",
       "        [-0.31018856,  0.15173398],\n",
       "        [ 0.01685684, -0.00128869],\n",
       "        [ 0.40412559,  0.7171369 ]],\n",
       "\n",
       "       [[-0.18812357, -0.13780385],\n",
       "        [ 0.6713523 , -0.13577782],\n",
       "        [-0.08211758,  0.31395871],\n",
       "        [ 0.1139155 ,  0.24886278],\n",
       "        [ 0.85029005, -0.37105827],\n",
       "        [ 0.5200807 ,  0.33484096]]])</details></samp><samp style='font-size: 12px;'><details><summary><b style=\"color: #e55471;\">Tensor</b>(shape=(<b style=\"color: #a4de79;\">6</b>, <b style=\"color: #a4de79;\">6</b>, <b style=\"color: #828fdd;\">2</b>), inds=[<b style=\"color: #ce8d31;\">_22a7feAAACL</b>, <b style=\"color: #47acd1;\">_22a7feAAACM</b>, <b style=\"color: #462edc;\">k4</b>], tags={<b style=\"color: #998ad1;\">I4</b>}),</summary>backend=<b style=\"color: #7fdd73;\">numpy</b>, dtype=<b style=\"color: #75d2c6;\">float64</b>, data=array([[[-0.1550249 ,  0.27815506],\n",
       "        [ 0.29013631,  0.15199835],\n",
       "        [-0.06240448,  0.14738325],\n",
       "        [ 0.42012766,  0.11928151],\n",
       "        [ 0.59474591, -0.66071489],\n",
       "        [ 0.03435599, -0.35345804]],\n",
       "\n",
       "       [[-0.3786157 ,  0.23541104],\n",
       "        [ 0.0032792 , -0.10516571],\n",
       "        [-0.12323905,  0.54665698],\n",
       "        [ 0.29299292,  0.12291062],\n",
       "        [-0.30772955,  0.12453693],\n",
       "        [-0.15192608,  0.75622175]],\n",
       "\n",
       "       [[ 0.71712725, -0.07749077],\n",
       "        [ 0.27351774, -0.14133391],\n",
       "        [ 0.38623894,  0.01355492],\n",
       "        [ 0.77899493, -0.40161362],\n",
       "        [-0.34944046, -0.19536255],\n",
       "        [-0.36021195,  0.70280302]],\n",
       "\n",
       "       [[-0.37493397, -0.4041001 ],\n",
       "        [-0.1945639 , -0.11088906],\n",
       "        [-0.61375477, -0.04827662],\n",
       "        [-0.36811854, -0.11217112],\n",
       "        [ 0.20673007,  0.51592325],\n",
       "        [ 0.38955767,  0.0615162 ]],\n",
       "\n",
       "       [[-0.25646162, -0.23033173],\n",
       "        [-0.1900328 ,  0.47402208],\n",
       "        [-0.12197129, -0.51358015],\n",
       "        [-0.30385368, -0.48092251],\n",
       "        [-0.42697238, -0.28039177],\n",
       "        [-0.15190188, -0.1513604 ]],\n",
       "\n",
       "       [[ 0.21114563,  0.13164069],\n",
       "        [ 0.49936434,  0.22117654],\n",
       "        [ 0.26298977,  0.27567425],\n",
       "        [ 0.7439414 ,  0.19020617],\n",
       "        [-0.18035902, -0.00438798],\n",
       "        [-0.30290331,  0.01530792]]])</details></samp><samp style='font-size: 12px;'><details><summary><b style=\"color: #e55471;\">Tensor</b>(shape=(<b style=\"color: #a4de79;\">6</b>, <b style=\"color: #a4de79;\">6</b>, <b style=\"color: #828fdd;\">2</b>), inds=[<b style=\"color: #47acd1;\">_22a7feAAACM</b>, <b style=\"color: #db9867;\">_22a7feAAACN</b>, <b style=\"color: #85dfdf;\">k5</b>], tags={<b style=\"color: #97dddc;\">I5</b>}),</summary>backend=<b style=\"color: #7fdd73;\">numpy</b>, dtype=<b style=\"color: #75d2c6;\">float64</b>, data=array([[[-8.39828927e-02, -2.61452828e-01],\n",
       "        [ 4.73144145e-01,  2.21019809e-01],\n",
       "        [-2.07981347e-01,  7.63831612e-02],\n",
       "        [-4.30797459e-02, -3.91411809e-01],\n",
       "        [ 3.34523634e-01,  3.93343237e-01],\n",
       "        [-1.27143615e-01,  2.91107514e-01]],\n",
       "\n",
       "       [[ 2.72299370e-01,  3.78455646e-01],\n",
       "        [-1.33879693e-01,  5.14006502e-02],\n",
       "        [ 5.29723980e-01,  3.15381693e-01],\n",
       "        [-3.45819242e-01,  2.17302968e-01],\n",
       "        [ 3.84128379e-01,  2.09839681e-01],\n",
       "        [ 3.60729019e-01, -3.18481068e-01]],\n",
       "\n",
       "       [[ 1.03047514e-01, -8.02167735e-01],\n",
       "        [ 4.67098870e-01, -1.27703947e-01],\n",
       "        [-1.93459086e-01,  2.78258155e-01],\n",
       "        [ 7.36594654e-02,  2.41952894e-01],\n",
       "        [ 1.18669376e-01,  7.23753181e-02],\n",
       "        [ 4.50112503e-03, -3.01055442e-01]],\n",
       "\n",
       "       [[-1.03283845e-01,  5.52659930e-02],\n",
       "        [-2.73858672e-02,  3.13339438e-01],\n",
       "        [ 4.65693051e-02,  2.14477083e-01],\n",
       "        [ 3.68983682e-01, -5.87749735e-01],\n",
       "        [ 1.25304683e-01,  2.07114031e-01],\n",
       "        [-1.77353903e-01,  3.56268623e-01]],\n",
       "\n",
       "       [[-4.89202510e-01,  5.95862204e-01],\n",
       "        [-1.40989802e-01,  1.35527052e-02],\n",
       "        [-5.14691561e-01,  4.43979165e-01],\n",
       "        [-1.27616052e-02, -3.04278965e-01],\n",
       "        [-5.05751684e-01,  9.16266935e-01],\n",
       "        [ 6.42019469e-01, -7.33442361e-01]],\n",
       "\n",
       "       [[-2.18990648e-01, -1.07261520e-01],\n",
       "        [ 1.81451697e-01,  5.44771466e-02],\n",
       "        [ 1.64675088e-01, -1.96769090e-01],\n",
       "        [-8.12608050e-04,  7.54869179e-01],\n",
       "        [-6.19070348e-02, -1.98557410e-01],\n",
       "        [ 1.79321181e-01,  1.16452792e-02]]])</details></samp><samp style='font-size: 12px;'><details><summary><b style=\"color: #e55471;\">Tensor</b>(shape=(<b style=\"color: #a4de79;\">6</b>, <b style=\"color: #a4de79;\">6</b>, <b style=\"color: #828fdd;\">2</b>), inds=[<b style=\"color: #db9867;\">_22a7feAAACN</b>, <b style=\"color: #6d88db;\">_22a7feAAACO</b>, <b style=\"color: #2cb7d3;\">k6</b>], tags={<b style=\"color: #b2de5f;\">I6</b>}),</summary>backend=<b style=\"color: #7fdd73;\">numpy</b>, dtype=<b style=\"color: #75d2c6;\">float64</b>, data=array([[[-0.33897277,  0.44192541],\n",
       "        [ 0.23262393,  0.34363579],\n",
       "        [-0.99599629,  0.43841998],\n",
       "        [-0.00118108, -0.1876807 ],\n",
       "        [-0.00318029, -0.38698683],\n",
       "        [-0.39924053, -0.14533835]],\n",
       "\n",
       "       [[-0.15678614,  0.60707486],\n",
       "        [-0.22901228, -0.15275428],\n",
       "        [ 0.21161497, -0.03189362],\n",
       "        [-0.5836486 ,  0.40378162],\n",
       "        [-0.4558959 ,  0.11620792],\n",
       "        [ 0.22157833,  0.33867462]],\n",
       "\n",
       "       [[ 0.11599733, -0.48921011],\n",
       "        [-0.51810949,  0.22860294],\n",
       "        [ 0.03374239,  0.32236603],\n",
       "        [-0.1784028 ,  0.01077411],\n",
       "        [-0.0289644 , -0.07891009],\n",
       "        [-0.26094174, -0.08464226]],\n",
       "\n",
       "       [[ 0.44271303,  0.29186181],\n",
       "        [ 0.49839304,  0.61375671],\n",
       "        [ 0.09517875,  0.16957968],\n",
       "        [ 0.05830214,  0.28404462],\n",
       "        [ 0.39896927, -0.08231708],\n",
       "        [ 0.12592966,  0.26616492]],\n",
       "\n",
       "       [[ 0.27901037, -0.17938352],\n",
       "        [-0.49687812, -0.17253707],\n",
       "        [ 0.17886623,  0.2810877 ],\n",
       "        [ 0.20692751, -0.05498426],\n",
       "        [-0.09193505,  0.10236076],\n",
       "        [ 0.01401263,  0.03863529]],\n",
       "\n",
       "       [[ 0.02378543, -0.85008616],\n",
       "        [ 0.27389994, -0.21056389],\n",
       "        [-0.18725529, -0.69309888],\n",
       "        [ 0.16788463, -0.01153344],\n",
       "        [ 0.58127119,  0.34487638],\n",
       "        [ 0.10730746, -0.10794822]]])</details></samp><samp style='font-size: 12px;'><details><summary><b style=\"color: #e55471;\">Tensor</b>(shape=(<b style=\"color: #a4de79;\">6</b>, <b style=\"color: #a4de79;\">6</b>, <b style=\"color: #828fdd;\">2</b>), inds=[<b style=\"color: #6d88db;\">_22a7feAAACO</b>, <b style=\"color: #b8df86;\">_22a7feAAACP</b>, <b style=\"color: #53e08f;\">k7</b>], tags={<b style=\"color: #5582d6;\">I7</b>}),</summary>backend=<b style=\"color: #7fdd73;\">numpy</b>, dtype=<b style=\"color: #75d2c6;\">float64</b>, data=array([[[-0.49589614, -0.48622471],\n",
       "        [-0.03810996, -0.2925842 ],\n",
       "        [-0.13759918, -0.05806215],\n",
       "        [ 0.53907491,  0.0256929 ],\n",
       "        [-0.49773354, -0.22761029],\n",
       "        [-0.07633025,  0.11794248]],\n",
       "\n",
       "       [[-0.65196468,  0.18174467],\n",
       "        [ 0.05437527, -0.0792669 ],\n",
       "        [-0.01138374,  0.11863469],\n",
       "        [ 0.03043272, -0.20314412],\n",
       "        [ 0.23790609,  0.38185788],\n",
       "        [-0.35773549, -0.15137925]],\n",
       "\n",
       "       [[-0.14123925,  0.10701901],\n",
       "        [-0.44690029, -0.7798675 ],\n",
       "        [ 0.39152775,  0.20555844],\n",
       "        [ 0.78566773, -0.08432531],\n",
       "        [-0.43619454,  0.1531672 ],\n",
       "        [ 0.29714269,  0.06885165]],\n",
       "\n",
       "       [[-0.06764467, -0.1874188 ],\n",
       "        [ 0.44691819, -0.56322516],\n",
       "        [-0.67312419, -0.27304556],\n",
       "        [-0.13676597,  0.09702148],\n",
       "        [-0.33319932,  0.20685344],\n",
       "        [-0.05837053,  0.68944591]],\n",
       "\n",
       "       [[-0.59503904, -0.06219197],\n",
       "        [ 0.3449553 ,  0.66580115],\n",
       "        [-0.55148388,  0.13403707],\n",
       "        [ 0.25997291,  0.25278782],\n",
       "        [ 0.1495584 , -0.614551  ],\n",
       "        [-0.12428337,  0.50829613]],\n",
       "\n",
       "       [[-0.14146162, -0.53617355],\n",
       "        [ 0.13697895, -0.16124191],\n",
       "        [-0.24558289,  0.06416181],\n",
       "        [ 0.03292176,  0.03680397],\n",
       "        [-0.36199913,  0.16779912],\n",
       "        [ 0.15377182, -0.52866845]]])</details></samp><samp style='font-size: 12px;'><details><summary><b style=\"color: #e55471;\">Tensor</b>(shape=(<b style=\"color: #a4de79;\">6</b>, <b style=\"color: #828fdd;\">2</b>), inds=[<b style=\"color: #b8df86;\">_22a7feAAACP</b>, <b style=\"color: #7bcd9f;\">k8</b>], tags={<b style=\"color: #8a3dd8;\">I8</b>}),</summary>backend=<b style=\"color: #7fdd73;\">numpy</b>, dtype=<b style=\"color: #75d2c6;\">float64</b>, data=array([[-0.02125565, -0.12336068],\n",
       "       [-0.1653121 ,  0.09241011],\n",
       "       [-0.11329212,  0.13013708],\n",
       "       [-0.09615972, -0.05318558],\n",
       "       [ 0.21662095,  0.13554362],\n",
       "       [-0.04865149, -0.35208736]])</details></samp></details></samp>"
      ],
      "text/plain": [
       "MatrixProductState(tensors=9, indices=17, L=9, max_bond=6)"
      ]
     },
     "execution_count": 44,
     "metadata": {},
     "output_type": "execute_result"
    }
   ],
   "source": [
    "qtn.MPS_rand_state(L=9, bond_dim=6)"
   ]
  },
  {
   "cell_type": "code",
   "execution_count": null,
   "metadata": {},
   "outputs": [],
   "source": []
  }
 ],
 "metadata": {
  "kernelspec": {
   "display_name": "PennyLane",
   "language": "python",
   "name": "python3"
  },
  "language_info": {
   "codemirror_mode": {
    "name": "ipython",
    "version": 3
   },
   "file_extension": ".py",
   "mimetype": "text/x-python",
   "name": "python",
   "nbconvert_exporter": "python",
   "pygments_lexer": "ipython3",
   "version": "3.9.7"
  }
 },
 "nbformat": 4,
 "nbformat_minor": 2
}
