{
 "cells": [
  {
   "cell_type": "markdown",
   "metadata": {},
   "source": [
    "# Understanding the execution flow from `LightningQubit`"
   ]
  },
  {
   "cell_type": "code",
   "execution_count": null,
   "metadata": {},
   "outputs": [],
   "source": [
    "from typing import Iterable, Union\n",
    "import quimb.tensor as qtn\n",
    "import pennylane as qml\n",
    "from pennylane.wires import Wires\n",
    "import numpy as np"
   ]
  },
  {
   "cell_type": "markdown",
   "metadata": {},
   "source": [
    "## Approach 1: choosing a tape"
   ]
  },
  {
   "cell_type": "code",
   "execution_count": null,
   "metadata": {},
   "outputs": [],
   "source": [
    "theta = 0.1\n",
    "phi = 0.2\n",
    "\n",
    "O1 = qml.Identity(wires=[0])\n",
    "O2 = qml.PauliZ(wires=[1])\n",
    "\n",
    "ops = [\n",
    "    qml.DoubleExcitation(phi, wires=[12, 11, 0, 9]),\n",
    "    qml.PauliX(wires=[0]),\n",
    "    qml.RX(theta, wires=[0]),\n",
    "    qml.qml.CSWAP(wires=[7, 0, 5]),\n",
    "    qml.RX(phi, wires=[1]),\n",
    "    qml.CNOT(wires=[3, 4]),\n",
    "    qml.DoubleExcitation(phi, wires=[1, 2, 3, 4]),\n",
    "    qml.qml.CSWAP(wires=[0, 1, 2]),\n",
    "    qml.Hadamard(wires=[4]),\n",
    "    qml.qml.CSWAP(wires=[2, 3, 4]),\n",
    "    qml.CNOT(wires=[2, 4]),\n",
    "    qml.DoubleExcitation(phi, wires=[0, 1, 3, 4]),\n",
    "]\n",
    "\n",
    "meas = [\n",
    "    qml.expval(O2),\n",
    "    qml.expval(O2),\n",
    "    qml.var(qml.PauliY(wires=[2])),\n",
    "    qml.expval(O1),\n",
    "    qml.var(qml.PauliY(wires=[4])),\n",
    "]\n",
    "\n",
    "\n",
    "tape = qml.tape.QuantumScript(ops=ops, measurements=meas)"
   ]
  },
  {
   "cell_type": "code",
   "execution_count": null,
   "metadata": {},
   "outputs": [],
   "source": [
    "tape.wires"
   ]
  },
  {
   "cell_type": "code",
   "execution_count": null,
   "metadata": {},
   "outputs": [],
   "source": [
    "tape.operations"
   ]
  },
  {
   "cell_type": "code",
   "execution_count": null,
   "metadata": {},
   "outputs": [],
   "source": [
    "tape.observables"
   ]
  },
  {
   "cell_type": "code",
   "execution_count": null,
   "metadata": {},
   "outputs": [],
   "source": [
    "tape.measurements"
   ]
  },
  {
   "cell_type": "code",
   "execution_count": null,
   "metadata": {},
   "outputs": [],
   "source": [
    "tape.wires"
   ]
  },
  {
   "cell_type": "code",
   "execution_count": null,
   "metadata": {},
   "outputs": [],
   "source": [
    "dev = qml.device(\"lightning.qubit\", wires=tape.wires)\n",
    "\n",
    "dev.execute(circuits=tape)"
   ]
  },
  {
   "cell_type": "code",
   "execution_count": null,
   "metadata": {},
   "outputs": [],
   "source": []
  },
  {
   "cell_type": "code",
   "execution_count": null,
   "metadata": {},
   "outputs": [],
   "source": []
  },
  {
   "cell_type": "markdown",
   "metadata": {},
   "source": [
    "## Learning from `LightningQubit` using Python API"
   ]
  },
  {
   "cell_type": "code",
   "execution_count": null,
   "metadata": {},
   "outputs": [],
   "source": [
    "from pennylane_lightning.lightning_qubit import LightningQubit"
   ]
  },
  {
   "cell_type": "code",
   "execution_count": null,
   "metadata": {},
   "outputs": [],
   "source": [
    "obj = LightningQubit(wires=tape.wires)"
   ]
  },
  {
   "cell_type": "code",
   "execution_count": null,
   "metadata": {},
   "outputs": [],
   "source": [
    "obj.tracker"
   ]
  },
  {
   "cell_type": "code",
   "execution_count": null,
   "metadata": {},
   "outputs": [],
   "source": [
    "program, config = obj.preprocess()"
   ]
  },
  {
   "cell_type": "code",
   "execution_count": null,
   "metadata": {},
   "outputs": [],
   "source": [
    "program[0]"
   ]
  },
  {
   "cell_type": "code",
   "execution_count": null,
   "metadata": {},
   "outputs": [],
   "source": [
    "obj.execute(tape)"
   ]
  },
  {
   "cell_type": "code",
   "execution_count": null,
   "metadata": {},
   "outputs": [],
   "source": []
  },
  {
   "cell_type": "code",
   "execution_count": null,
   "metadata": {},
   "outputs": [],
   "source": []
  },
  {
   "cell_type": "markdown",
   "metadata": {},
   "source": [
    "## Testing `LightningTensor` "
   ]
  },
  {
   "cell_type": "code",
   "execution_count": null,
   "metadata": {},
   "outputs": [],
   "source": [
    "wires = tape.wires\n",
    "backend = \"quimb\"\n",
    "method = \"mps\"\n",
    "c_dtype = np.complex128\n",
    "max_bond_dim = None\n",
    "cutoff = 0.0"
   ]
  },
  {
   "cell_type": "code",
   "execution_count": null,
   "metadata": {},
   "outputs": [],
   "source": [
    "from pennylane_lightning.lightning_tensor import LightningTensor"
   ]
  },
  {
   "cell_type": "code",
   "execution_count": null,
   "metadata": {},
   "outputs": [],
   "source": [
    "from pennylane_lightning.lightning_tensor import LightningTensor\n",
    "\n",
    "@qml.qnode(LightningTensor(contract=\"auto-mps\"))\n",
    "def circuit():\n",
    "    qml.X(0)\n",
    "    return qml.expval(qml.Z(0))\n",
    "\n",
    "circuit()"
   ]
  },
  {
   "cell_type": "code",
   "execution_count": null,
   "metadata": {},
   "outputs": [],
   "source": [
    "from pennylane_lightning.lightning_tensor import LightningTensor\n",
    "\n",
    "\n",
    "\n",
    "@qml.qnode(LightningTensor(max_bond_dim=100,  wires=qml.wires.Wires(range(2))))\n",
    "def circuit():\n",
    "    qml.Z(0)\n",
    "    return qml.expval(qml.Z(0))\n",
    "\n",
    "circuit()"
   ]
  },
  {
   "cell_type": "code",
   "execution_count": null,
   "metadata": {},
   "outputs": [],
   "source": [
    "qml.wires.Wires(range(2))"
   ]
  },
  {
   "cell_type": "code",
   "execution_count": null,
   "metadata": {},
   "outputs": [],
   "source": [
    "obj = LightningTensor(\n",
    "    wires=wires,\n",
    "    backend=backend,\n",
    "    method=method,\n",
    "    c_dtype=c_dtype,\n",
    "    max_bond_dim=max_bond_dim,\n",
    "    cutoff=cutoff,\n",
    ")"
   ]
  },
  {
   "cell_type": "code",
   "execution_count": null,
   "metadata": {},
   "outputs": [],
   "source": [
    "obj._interface.state"
   ]
  },
  {
   "cell_type": "code",
   "execution_count": null,
   "metadata": {},
   "outputs": [],
   "source": [
    "# obj._interface._circuitMPS.get_psi_reverse_lightcone(3)"
   ]
  },
  {
   "cell_type": "code",
   "execution_count": null,
   "metadata": {},
   "outputs": [],
   "source": [
    "type(obj._setup_execution_config())"
   ]
  },
  {
   "cell_type": "code",
   "execution_count": null,
   "metadata": {},
   "outputs": [],
   "source": [
    "program, config = obj.preprocess()"
   ]
  },
  {
   "cell_type": "code",
   "execution_count": null,
   "metadata": {},
   "outputs": [],
   "source": [
    "program[0]"
   ]
  },
  {
   "cell_type": "code",
   "execution_count": null,
   "metadata": {},
   "outputs": [],
   "source": [
    "config"
   ]
  },
  {
   "cell_type": "code",
   "execution_count": null,
   "metadata": {},
   "outputs": [],
   "source": [
    "# program[0]"
   ]
  },
  {
   "cell_type": "code",
   "execution_count": null,
   "metadata": {},
   "outputs": [],
   "source": [
    "# config"
   ]
  },
  {
   "cell_type": "code",
   "execution_count": null,
   "metadata": {},
   "outputs": [],
   "source": [
    "# config.device_options"
   ]
  },
  {
   "cell_type": "code",
   "execution_count": null,
   "metadata": {},
   "outputs": [],
   "source": [
    "obj.execute(circuits=tape)"
   ]
  },
  {
   "cell_type": "code",
   "execution_count": null,
   "metadata": {},
   "outputs": [],
   "source": [
    "obj._interface._circuitMPS.gates"
   ]
  },
  {
   "cell_type": "code",
   "execution_count": null,
   "metadata": {},
   "outputs": [],
   "source": [
    "obj._interface._circuitMPS.psi.tags"
   ]
  },
  {
   "cell_type": "code",
   "execution_count": null,
   "metadata": {},
   "outputs": [],
   "source": [
    "obj._interface.state"
   ]
  },
  {
   "cell_type": "code",
   "execution_count": null,
   "metadata": {},
   "outputs": [],
   "source": [
    "obj._interface._circuitMPS.__dict__"
   ]
  },
  {
   "cell_type": "code",
   "execution_count": null,
   "metadata": {},
   "outputs": [],
   "source": [
    "obj._interface._circuitMPS"
   ]
  },
  {
   "cell_type": "code",
   "execution_count": null,
   "metadata": {},
   "outputs": [],
   "source": [
    "obj._interface._circuitMPS.psi.max_bond()"
   ]
  },
  {
   "cell_type": "code",
   "execution_count": null,
   "metadata": {},
   "outputs": [],
   "source": [
    "obj._interface._circuitMPS.psi"
   ]
  },
  {
   "cell_type": "code",
   "execution_count": null,
   "metadata": {},
   "outputs": [],
   "source": [
    "# obj._interface.draw_state()"
   ]
  },
  {
   "cell_type": "code",
   "execution_count": null,
   "metadata": {},
   "outputs": [],
   "source": [
    "obj._interface._circuitMPS.psi.to_dense()"
   ]
  },
  {
   "cell_type": "code",
   "execution_count": null,
   "metadata": {},
   "outputs": [],
   "source": [
    "# obj.compute_derivatives(tape)"
   ]
  },
  {
   "cell_type": "code",
   "execution_count": null,
   "metadata": {},
   "outputs": [],
   "source": [
    "# obj._interface.state_to_array()"
   ]
  },
  {
   "cell_type": "code",
   "execution_count": null,
   "metadata": {},
   "outputs": [],
   "source": [
    "obj._interface._circuitMPS._psi"
   ]
  },
  {
   "cell_type": "code",
   "execution_count": null,
   "metadata": {},
   "outputs": [],
   "source": [
    "progbar=True,"
   ]
  },
  {
   "cell_type": "markdown",
   "metadata": {},
   "source": [
    "# Playing with `quimb`"
   ]
  },
  {
   "cell_type": "code",
   "execution_count": null,
   "metadata": {},
   "outputs": [],
   "source": [
    "wires = Wires(range(7))\n",
    "\n",
    "init_state = qtn.MPS_computational_state(\n",
    "    \"0\" * len(wires), tags=[str(l) for l in wires.labels]\n",
    ")\n",
    "\n",
    "qc = qtn.CircuitMPS(psi0=init_state)\n",
    "\n",
    "op = qml.CNOT(wires=[0, 1])"
   ]
  },
  {
   "cell_type": "code",
   "execution_count": null,
   "metadata": {},
   "outputs": [],
   "source": [
    "qc.psi.draw(color=[f\"I{q}\" for q in range(len(wires))], show_tags=False, show_inds=True)"
   ]
  },
  {
   "cell_type": "code",
   "execution_count": null,
   "metadata": {},
   "outputs": [],
   "source": [
    "init_state.gate_"
   ]
  },
  {
   "cell_type": "code",
   "execution_count": null,
   "metadata": {},
   "outputs": [],
   "source": [
    "qc.amplitude(\"0111111\")"
   ]
  },
  {
   "cell_type": "code",
   "execution_count": null,
   "metadata": {},
   "outputs": [],
   "source": [
    "init_state"
   ]
  },
  {
   "cell_type": "code",
   "execution_count": null,
   "metadata": {},
   "outputs": [],
   "source": [
    "qc.ket_site_ind"
   ]
  },
  {
   "cell_type": "code",
   "execution_count": null,
   "metadata": {},
   "outputs": [],
   "source": [
    "qc.__dict__"
   ]
  },
  {
   "cell_type": "code",
   "execution_count": null,
   "metadata": {},
   "outputs": [],
   "source": [
    "qc.gates"
   ]
  },
  {
   "cell_type": "code",
   "execution_count": null,
   "metadata": {},
   "outputs": [],
   "source": [
    "gate = qtn.circuit.parse_to_gate(op.matrix(), tuple(op.wires))"
   ]
  },
  {
   "cell_type": "code",
   "execution_count": null,
   "metadata": {},
   "outputs": [],
   "source": [
    "gate"
   ]
  },
  {
   "cell_type": "code",
   "execution_count": null,
   "metadata": {},
   "outputs": [],
   "source": [
    "qtn.MPS_computational_state(\"0\" * len(wires), tags=[str(l) for l in wires.labels])"
   ]
  },
  {
   "cell_type": "code",
   "execution_count": null,
   "metadata": {},
   "outputs": [],
   "source": [
    "qtn.MPS_zero_state(bond_dim=6, L=9)"
   ]
  },
  {
   "cell_type": "code",
   "execution_count": null,
   "metadata": {},
   "outputs": [],
   "source": [
    "qtn.MPS_rand_state(L=9, bond_dim=6)"
   ]
  },
  {
   "cell_type": "markdown",
   "metadata": {},
   "source": [
    "# Question for the guy"
   ]
  },
  {
   "cell_type": "code",
   "execution_count": null,
   "metadata": {},
   "outputs": [],
   "source": [
    "import pennylane as qml\n",
    "import quimb.tensor as qtn\n",
    "import numpy as np\n",
    "\n",
    "# case 1: single qubit gate (works fine)\n",
    "op1 = qml.PauliX(wires=[0])\n",
    "qtn.Circuit(N=1).apply_gate(\n",
    "    op1.matrix().astype(np.complex128), *op1.wires, parametrize=None\n",
    ")\n",
    "\n",
    "# case 2: two qubit gate (works fine)\n",
    "op2 = qml.CNOT(wires=[0, 1])\n",
    "qtn.Circuit(N=2).apply_gate(\n",
    "    op2.matrix().astype(np.complex128), *op2.wires, parametrize=None\n",
    ")\n",
    "\n",
    "# case 3: three qubit gate (fails)\n",
    "op3 = qml.Toffoli(wires=[0, 1, 2])\n",
    "# qtn.CircuitMPS(N=3).apply_gate(op3.matrix(), *op3.wires, parametrize=None)\n",
    "\n",
    "# case 4: four qubit gate (fails)\n",
    "op4 = qml.DoubleExcitation(0.1, wires=[0, 1, 2, 3])\n",
    "# qtn.Circuit(N=4).apply_gate(op4.matrix().astype(np.complex128), *op4.wires, parametrize=None)"
   ]
  },
  {
   "cell_type": "code",
   "execution_count": null,
   "metadata": {},
   "outputs": [],
   "source": [
    "ops = [\n",
    "    qml.PauliX(wires=[0]),\n",
    "    qml.RX(theta, wires=[0]),\n",
    "    qml.CSWAP(wires=[7, 0, 5]),\n",
    "    qml.RX(phi, wires=[1]),\n",
    "    qml.CNOT(wires=[3, 4]),\n",
    "    qml.DoubleExcitation(phi, wires=[1, 2, 3, 4]),\n",
    "    qml.CZ(wires=[4, 5]),\n",
    "    qml.Hadamard(wires=[4]),\n",
    "    qml.CCZ(wires=[0, 1, 2]),\n",
    "    qml.CSWAP(wires=[2, 3, 4]),\n",
    "    qml.QFT(wires=[0, 1, 2]),\n",
    "    qml.CNOT(wires=[2, 4]),\n",
    "    qml.Toffoli(wires=[0, 1, 2]),\n",
    "    qml.DoubleExcitation(phi, wires=[0, 1, 3, 4]),\n",
    "]\n",
    "\n",
    "meas = [\n",
    "    qml.expval(O2),\n",
    "    qml.expval(O2),\n",
    "    qml.expval(O1),\n",
    "    qml.var(qml.PauliY(wires=[2])),\n",
    "    qml.expval(O1),\n",
    "    qml.var(qml.PauliY(wires=[4])),\n",
    "]\n",
    "\n",
    "\n",
    "tape = qml.tape.QuantumScript(ops=ops, measurements=meas)"
   ]
  },
  {
   "cell_type": "code",
   "execution_count": null,
   "metadata": {},
   "outputs": [],
   "source": [
    "obj = LightningQubit(wires=tape.wires)\n",
    "\n",
    "obj.execute(tape)"
   ]
  },
  {
   "cell_type": "code",
   "execution_count": null,
   "metadata": {},
   "outputs": [],
   "source": [
    "qml.Rot(0.2, -0.4, 0.3, wires=[2]).matrix()"
   ]
  },
  {
   "cell_type": "code",
   "execution_count": null,
   "metadata": {},
   "outputs": [],
   "source": [
    "obj = LightningTensor(\n",
    "    wires=wires,\n",
    "    backend=backend,\n",
    "    method=method,\n",
    "    c_dtype=c_dtype,\n",
    "    max_bond_dim=max_bond_dim,\n",
    "    cutoff=cutoff,\n",
    ")\n",
    "\n",
    "\n",
    "obj.execute(tape)"
   ]
  },
  {
   "cell_type": "code",
   "execution_count": null,
   "metadata": {},
   "outputs": [],
   "source": []
  },
  {
   "cell_type": "code",
   "execution_count": null,
   "metadata": {},
   "outputs": [],
   "source": [
    "import pennylane as qml\n",
    "\n",
    "# Define the operations\n",
    "ops = [\n",
    "    qml.Hadamard(wires=[0]),\n",
    "    qml.CRX(0.5, wires=[1, 2]),\n",
    "    qml.CNOT(wires=[0, 1]),\n",
    "    qml.CRX(0.3, wires=[2, 3]),\n",
    "    qml.PauliX(wires=[0]),\n",
    "    qml.RX(theta, wires=[0]),\n",
    "    qml.CSWAP(wires=[7, 0, 5]),\n",
    "    qml.RX(phi, wires=[1]),\n",
    "    qml.CNOT(wires=[3, 4]),\n",
    "    qml.DoubleExcitation(phi, wires=[1, 2, 3, 4]),\n",
    "    qml.CZ(wires=[4, 5]),\n",
    "    qml.Hadamard(wires=[4]),\n",
    "    qml.CCZ(wires=[0, 1, 2]),\n",
    "    qml.CSWAP(wires=[2, 3, 4]),\n",
    "    qml.QFT(wires=[0, 1, 2]),\n",
    "    qml.CNOT(wires=[2, 4]),\n",
    "    qml.Toffoli(wires=[0, 1, 2]),\n",
    "    qml.DoubleExcitation(phi, wires=[0, 1, 3, 4]),\n",
    "    qml.CSWAP(wires=[1, 2, 3]),\n",
    "    qml.RX(-0.8, wires=[0]),\n",
    "    qml.CZ(wires=[0, 2]),\n",
    "    qml.RY(0.4, wires=[1]),\n",
    "    qml.CNOT(wires=[1, 3]),\n",
    "    qml.CCZ(wires=[0, 1, 2]),\n",
    "    qml.Hadamard(wires=[3])\n",
    "]\n",
    "\n",
    "# Define the measurement\n",
    "meas = [\n",
    "    qml.expval(qml.PauliX(wires=[0])),\n",
    "    qml.var(qml.PauliY(wires=[1])),\n",
    "    qml.expval(qml.PauliZ(wires=[2])),\n",
    "    qml.expval(qml.PauliX(wires=[3]))\n",
    "]\n",
    "\n",
    "# Create the QuantumScript tape\n",
    "tape = qml.tape.QuantumScript(ops=ops, measurements=meas)"
   ]
  },
  {
   "cell_type": "code",
   "execution_count": null,
   "metadata": {},
   "outputs": [],
   "source": [
    "obj = LightningQubit(\n",
    "    wires=tape.wires,\n",
    "    c_dtype=c_dtype,\n",
    ")\n",
    "\n",
    "\n",
    "obj.execute(tape)"
   ]
  },
  {
   "cell_type": "code",
   "execution_count": null,
   "metadata": {},
   "outputs": [],
   "source": [
    "obj = LightningTensor(\n",
    "    wires=tape.wires,\n",
    "    backend=backend,\n",
    "    method=method,\n",
    "    c_dtype=c_dtype,\n",
    "    max_bond_dim=max_bond_dim,\n",
    "    cutoff=cutoff,\n",
    ")\n",
    "\n",
    "\n",
    "obj.execute(tape)"
   ]
  },
  {
   "cell_type": "code",
   "execution_count": null,
   "metadata": {},
   "outputs": [],
   "source": [
    "import pennylane as qml\n",
    "\n",
    "# Define the operations\n",
    "ops = [\n",
    "    qml.Rot(-0.3, 0.7, -0.4, wires=[0]),\n",
    "    qml.RY(0.8, wires=[1]),\n",
    "    qml.CNOT(wires=[1, 2]),\n",
    "    qml.CRX(0.2, wires=[0, 2]),\n",
    "    qml.PauliY(wires=[1]),\n",
    "    qml.CZ(wires=[0, 3]),\n",
    "    qml.Hadamard(wires=[2]),\n",
    "    qml.CSWAP(wires=[1, 2, 3]),\n",
    "    qml.Rot(0.1, 0.5, 0.3, wires=[0]),\n",
    "    qml.CRX(-0.6, wires=[2, 3]),\n",
    "    qml.RX(0.4, wires=[1]),\n",
    "    qml.CNOT(wires=[0, 1]),\n",
    "    qml.Toffoli(wires=[0, 1, 3])\n",
    "]\n",
    "\n",
    "# Define the measurement\n",
    "meas = [\n",
    "    qml.var(qml.PauliX(wires=[0])),\n",
    "    qml.expval(qml.PauliY(wires=[1])),\n",
    "    qml.expval(qml.PauliZ(wires=[2])),\n",
    "    qml.var(qml.PauliX(wires=[3]))\n",
    "]\n",
    "\n",
    "# Create the QuantumScript tape\n",
    "tape = qml.tape.QuantumScript(ops=ops, measurements=meas)\n"
   ]
  },
  {
   "cell_type": "code",
   "execution_count": null,
   "metadata": {},
   "outputs": [],
   "source": [
    "obj = LightningTensor(\n",
    "    wires=wires,\n",
    "    backend=backend,\n",
    "    method=method,\n",
    "    c_dtype=c_dtype,\n",
    "    max_bond_dim=max_bond_dim,\n",
    "    cutoff=cutoff,\n",
    ")\n",
    "\n",
    "\n",
    "obj.execute(tape)"
   ]
  },
  {
   "cell_type": "code",
   "execution_count": null,
   "metadata": {},
   "outputs": [],
   "source": [
    "import pennylane as qml\n",
    "\n",
    "# Define the operations\n",
    "ops = [\n",
    "    qml.Rot(0.1, -0.5, 0.6, wires=[0]),\n",
    "    qml.RX(-0.2, wires=[1]),\n",
    "    qml.CSWAP(wires=[0, 1, 2]),\n",
    "    qml.RY(0.3, wires=[2]),\n",
    "    qml.CNOT(wires=[1, 3]),\n",
    "    qml.PauliX(wires=[2]),\n",
    "    qml.CRX(0.4, wires=[0, 3]),\n",
    "    qml.Hadamard(wires=[1]),\n",
    "    qml.CCZ(wires=[0, 1, 3]),\n",
    "    qml.CRX(0.7, wires=[2, 3]),\n",
    "    qml.CZ(wires=[0, 1]),\n",
    "    qml.Toffoli(wires=[0, 2, 3])\n",
    "]\n",
    "\n",
    "# Define the measurement\n",
    "meas = [\n",
    "    qml.expval(qml.PauliZ(wires=[0])),\n",
    "    qml.var(qml.PauliY(wires=[1])),\n",
    "    qml.expval(qml.PauliZ(wires=[2])),\n",
    "    qml.var(qml.PauliX(wires=[3]))\n",
    "]\n",
    "\n",
    "# Create the QuantumScript tape\n",
    "tape = qml.tape.QuantumScript(ops=ops, measurements=meas)\n"
   ]
  },
  {
   "cell_type": "code",
   "execution_count": null,
   "metadata": {},
   "outputs": [],
   "source": [
    "obj = LightningTensor(\n",
    "    wires=wires,\n",
    "    backend=backend,\n",
    "    method=method,\n",
    "    c_dtype=c_dtype,\n",
    "    max_bond_dim=max_bond_dim,\n",
    "    cutoff=cutoff,\n",
    ")\n",
    "\n",
    "\n",
    "obj.execute(tape)"
   ]
  },
  {
   "cell_type": "code",
   "execution_count": null,
   "metadata": {},
   "outputs": [],
   "source": []
  },
  {
   "cell_type": "code",
   "execution_count": null,
   "metadata": {},
   "outputs": [],
   "source": []
  },
  {
   "cell_type": "code",
   "execution_count": null,
   "metadata": {},
   "outputs": [],
   "source": []
  },
  {
   "cell_type": "code",
   "execution_count": null,
   "metadata": {},
   "outputs": [],
   "source": [
    "def from_op_to_tensor(op) -> qtn.Tensor:\n",
    "    \"\"\"Returns the Quimb tensor corresponding to a PennyLane operator.\"\"\"\n",
    "    wires = tuple(op.wires)\n",
    "    bra_inds = []\n",
    "    for _, i in enumerate(wires):\n",
    "        bra_inds.append(f\"b{i}\")\n",
    "    bra_inds = tuple(bra_inds)\n",
    "    ket_inds = []\n",
    "    for _, i in enumerate(wires):\n",
    "        ket_inds.append(f\"k{i}\")\n",
    "    ket_inds = tuple(ket_inds)\n",
    "    array = op.matrix().astype(np.complex128)\n",
    "    return qtn.Tensor(array.reshape([2] * int(np.log2(array.size))), inds=bra_inds + ket_inds)\n"
   ]
  },
  {
   "cell_type": "code",
   "execution_count": null,
   "metadata": {},
   "outputs": [],
   "source": []
  },
  {
   "cell_type": "code",
   "execution_count": null,
   "metadata": {},
   "outputs": [],
   "source": [
    "op = qml.DoubleExcitation(0.1, wires=[0, 1, 2, 3])\n",
    "\n",
    "from_op_to_tensor(op)"
   ]
  },
  {
   "cell_type": "code",
   "execution_count": null,
   "metadata": {},
   "outputs": [],
   "source": [
    "import numpy as np\n",
    "import pennylane as qml\n",
    "\n",
    "\n",
    "def pure_ising(n):\n",
    "\n",
    "    \"\"\"\n",
    "    Creates an Ising Hamiltonian \\sum_{i<j} Z_iZ_j on n qubits\n",
    "    \"\"\"\n",
    "\n",
    "    coeffs = []\n",
    "    ops = []\n",
    "\n",
    "    for i in range(n):\n",
    "        for j in range(i):\n",
    "            coeffs.append(1)\n",
    "            ops.append(qml.PauliZ(i) @ qml.PauliZ(j))\n",
    "\n",
    "    return qml.dot(coeffs, ops)\n",
    "\n",
    "\n",
    "def transverse_field(n):\n",
    "    \"\"\"\n",
    "    Creates a transverse field operator \\sum_i X_i on n qubits\n",
    "    \"\"\"\n",
    "\n",
    "    coeffs = []\n",
    "    ops = []\n",
    "\n",
    "    for i in range(n):\n",
    "            coeffs.append(1)\n",
    "            ops.append(qml.PauliX(i))\n",
    "\n",
    "    return qml.dot(coeffs, ops)\n",
    "\n",
    "\n",
    "def magnetization(n):\n",
    "    \"\"\"\n",
    "    Creates a total magnetization operator \\sum_i Z_i on n qubits\n",
    "    \"\"\"\n",
    "\n",
    "    coeffs = []\n",
    "    ops = []\n",
    "\n",
    "    for i in range(n):\n",
    "            coeffs.append(1)\n",
    "            ops.append(qml.PauliZ(i))\n",
    "\n",
    "    return qml.dot(coeffs, ops)\n",
    "\n",
    "\n",
    "def transverse_ising(J, h, n):\n",
    "    \"\"\"\n",
    "       Creates a transverse field Ising Hamiltonian H = J \\sum_{i<j} Z_iZ_j + h \\sum_i X_i\n",
    "       :param J: coupling strength\n",
    "       :param h: transverse field strength\n",
    "       :param n: number of qubits\n",
    "       :return: Hamiltonian\n",
    "       \"\"\"\n",
    "\n",
    "    return J * pure_ising(n) + h * transverse_field(n)\n",
    "\n",
    "\n",
    "J = 12.1  # coupling field\n",
    "h = -2.5  # transverse field\n",
    "nr_qubits = 7  # number of qubits\n",
    "\n",
    "Hamiltonian = transverse_ising(J, h, nr_qubits)\n",
    "\n",
    "print(f\"This is the Hamiltonian: {Hamiltonian}\")\n",
    "print(magnetization(nr_qubits), type(magnetization(nr_qubits)))\n",
    "\n",
    "dev = qml.device('lightning.qubit', wires=nr_qubits)\n",
    "\n",
    "#dev = LightningTensor(\n",
    "#    wires=nr_qubits,\n",
    "#)\n",
    "\n",
    "@qml.qnode(dev)\n",
    "def time_evolution(t):\n",
    "\n",
    "    qml.TrotterProduct(Hamiltonian, t, n=2, order=4)\n",
    "    \n",
    "    M = magnetization(nr_qubits)\n",
    "\n",
    "    return qml.expval(M)\n",
    "\n",
    "dt = 0.05  # time step in evolution"
   ]
  },
  {
   "cell_type": "code",
   "execution_count": null,
   "metadata": {},
   "outputs": [],
   "source": [
    "#time_evolution(dt)"
   ]
  },
  {
   "cell_type": "markdown",
   "metadata": {},
   "source": []
  }
 ],
 "metadata": {
  "kernelspec": {
   "display_name": "PennyLane",
   "language": "python",
   "name": "python3"
  },
  "language_info": {
   "codemirror_mode": {
    "name": "ipython",
    "version": 3
   },
   "file_extension": ".py",
   "mimetype": "text/x-python",
   "name": "python",
   "nbconvert_exporter": "python",
   "pygments_lexer": "ipython3",
   "version": "3.9.7"
  }
 },
 "nbformat": 4,
 "nbformat_minor": 2
}
