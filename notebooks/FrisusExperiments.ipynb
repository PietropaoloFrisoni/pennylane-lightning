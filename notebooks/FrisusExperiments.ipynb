{
 "cells": [
  {
   "cell_type": "markdown",
   "metadata": {},
   "source": [
    "# Understanding the execution flow from `LightningQubit`"
   ]
  },
  {
   "cell_type": "code",
   "execution_count": 1,
   "metadata": {},
   "outputs": [
    {
     "name": "stderr",
     "output_type": "stream",
     "text": [
      "/home/pietropaolo.frisoni/anaconda3/envs/PennyLane/lib/python3.9/site-packages/cotengra/hyperoptimizers/hyper.py:34: UserWarning: Couldn't import `kahypar` - skipping from default hyper optimizer and using basic `labels` method instead.\n",
      "  warnings.warn(\n"
     ]
    }
   ],
   "source": [
    "from typing import Iterable, Union\n",
    "import quimb.tensor as qtn\n",
    "import pennylane as qml\n",
    "from pennylane.wires import Wires\n",
    "import numpy as np"
   ]
  },
  {
   "cell_type": "markdown",
   "metadata": {},
   "source": [
    "## Approach 1: choosing a tape"
   ]
  },
  {
   "cell_type": "code",
   "execution_count": 2,
   "metadata": {},
   "outputs": [],
   "source": [
    "theta = 0.1\n",
    "phi = 0.2\n",
    "\n",
    "O1 = qml.Identity(wires=[0])\n",
    "O2 = qml.PauliZ(wires=[1])\n",
    "\n",
    "ops = [\n",
    "    qml.PauliX(wires=[0]),\n",
    "    qml.RX(theta, wires=[0]),\n",
    "    qml.RX(phi, wires=[1]),\n",
    "    qml.CNOT(wires=[0, 1]),\n",
    "    qml.DoubleExcitation(phi, wires=[1, 2, 3, 4]),\n",
    "    qml.Hadamard(wires=[1]),\n",
    "    qml.CNOT(wires=[2, 4]),\n",
    "    qml.DoubleExcitation(phi, wires=[0, 1, 3, 4]),\n",
    "]\n",
    "\n",
    "meas = [qml.expval(O1), qml.expval(O2)]\n",
    "\n",
    "tape = qml.tape.QuantumScript(ops=ops, measurements=meas)"
   ]
  },
  {
   "cell_type": "code",
   "execution_count": 3,
   "metadata": {},
   "outputs": [
    {
     "data": {
      "text/plain": [
       "[X(0),\n",
       " RX(0.1, wires=[0]),\n",
       " RX(0.2, wires=[1]),\n",
       " CNOT(wires=[0, 1]),\n",
       " DoubleExcitation(0.2, wires=[1, 2, 3, 4]),\n",
       " Hadamard(wires=[1]),\n",
       " CNOT(wires=[2, 4]),\n",
       " DoubleExcitation(0.2, wires=[0, 1, 3, 4])]"
      ]
     },
     "execution_count": 3,
     "metadata": {},
     "output_type": "execute_result"
    }
   ],
   "source": [
    "tape.operations"
   ]
  },
  {
   "cell_type": "code",
   "execution_count": 4,
   "metadata": {},
   "outputs": [
    {
     "data": {
      "text/plain": [
       "[I(0), Z(1)]"
      ]
     },
     "execution_count": 4,
     "metadata": {},
     "output_type": "execute_result"
    }
   ],
   "source": [
    "tape.observables"
   ]
  },
  {
   "cell_type": "code",
   "execution_count": 5,
   "metadata": {},
   "outputs": [
    {
     "data": {
      "text/plain": [
       "[expval(I(0)), expval(Z(1))]"
      ]
     },
     "execution_count": 5,
     "metadata": {},
     "output_type": "execute_result"
    }
   ],
   "source": [
    "tape.measurements"
   ]
  },
  {
   "cell_type": "code",
   "execution_count": 6,
   "metadata": {},
   "outputs": [
    {
     "data": {
      "text/plain": [
       "<Wires = [0, 1, 2, 3, 4]>"
      ]
     },
     "execution_count": 6,
     "metadata": {},
     "output_type": "execute_result"
    }
   ],
   "source": [
    "tape.wires"
   ]
  },
  {
   "cell_type": "markdown",
   "metadata": {},
   "source": [
    "## Approach 2: choosing a circuit"
   ]
  },
  {
   "cell_type": "code",
   "execution_count": 7,
   "metadata": {},
   "outputs": [
    {
     "name": "stdout",
     "output_type": "stream",
     "text": [
      "Frisus log: supports_derivatives called with:\n",
      "execution_config=ExecutionConfig(grad_on_execution=None, use_device_gradient=None, use_device_jacobian_product=False, gradient_method='best', gradient_keyword_arguments={}, device_options={}, interface=None, derivative_order=1)\n",
      "circuit=None\n",
      "\n"
     ]
    }
   ],
   "source": [
    "from functools import partial\n",
    "import pennylane as qml\n",
    "import matplotlib.pyplot as plt\n",
    "from pennylane.tape import QuantumScript, QuantumTape\n",
    "\n",
    "dev = qml.device(\"lightning.qubit\", wires=4)\n",
    "\n",
    "\n",
    "@qml.qnode(dev)\n",
    "def circuit(angles):\n",
    "    qml.Hadamard(wires=1)\n",
    "    qml.Hadamard(wires=2)\n",
    "    qml.RX(angles[0], 0)\n",
    "    qml.CNOT(wires=[1, 0])\n",
    "    qml.CNOT(wires=[2, 1])\n",
    "    qml.RX(angles[2], wires=0)\n",
    "    qml.RZ(angles[1], wires=2)\n",
    "    qml.CNOT(wires=[2, 1])\n",
    "    qml.RZ(-angles[1], wires=2)\n",
    "    qml.CNOT(wires=[1, 0])\n",
    "    qml.Hadamard(wires=1)\n",
    "    qml.CY(wires=[1, 2])\n",
    "    qml.CNOT(wires=[1, 0])\n",
    "    return qml.expval(qml.PauliZ(wires=0))\n",
    "\n",
    "\n",
    "angles = [0.1, 0.3, 0.5]\n",
    "# qnode = qml.QNode(circuit, dev)\n",
    "# qml.draw_mpl(qnode, decimals=1, style=\"sketch\")(angles)\n",
    "# plt.show()"
   ]
  },
  {
   "cell_type": "code",
   "execution_count": 8,
   "metadata": {},
   "outputs": [
    {
     "name": "stdout",
     "output_type": "stream",
     "text": [
      "Frisus log: supports_derivatives called with:\n",
      "execution_config=ExecutionConfig(grad_on_execution=None, use_device_gradient=None, use_device_jacobian_product=False, gradient_method='best', gradient_keyword_arguments={}, device_options={}, interface=None, derivative_order=1)\n",
      "circuit=<QuantumScript: wires=[1, 2, 0], params=0>\n",
      "\n",
      "Frisus log: execute_and_compute_derivatives called with:\n",
      "execution_config=ExecutionConfig(grad_on_execution=True, use_device_gradient=True, use_device_jacobian_product=False, gradient_method='adjoint', gradient_keyword_arguments={}, device_options={'rng': Generator(PCG64) at 0x7A3D3DF0DAC0, 'c_dtype': <class 'numpy.complex128'>, 'batch_obs': False, 'mcmc': False, 'kernel_name': None, 'num_burnin': 0}, interface='autograd', derivative_order=1)\n",
      "circuits=(<QuantumScript: wires=[1, 2, 0], params=0>,)\n",
      "\n"
     ]
    },
    {
     "data": {
      "text/plain": [
       "0.8253356149096776"
      ]
     },
     "execution_count": 8,
     "metadata": {},
     "output_type": "execute_result"
    }
   ],
   "source": [
    "circuit(angles=angles)"
   ]
  },
  {
   "cell_type": "code",
   "execution_count": 9,
   "metadata": {},
   "outputs": [
    {
     "data": {
      "text/plain": [
       "(TransformProgram(validate_measurements, validate_observables, validate_device_wires, mid_circuit_measurements, decompose, broadcast_expand),\n",
       " ExecutionConfig(grad_on_execution=True, use_device_gradient=False, use_device_jacobian_product=None, gradient_method=None, gradient_keyword_arguments={}, device_options={'rng': Generator(PCG64) at 0x7A3D3DF0DAC0, 'c_dtype': <class 'numpy.complex128'>, 'batch_obs': False, 'mcmc': False, 'kernel_name': None, 'num_burnin': 0}, interface=None, derivative_order=1))"
      ]
     },
     "execution_count": 9,
     "metadata": {},
     "output_type": "execute_result"
    }
   ],
   "source": [
    "dev.preprocess()"
   ]
  },
  {
   "cell_type": "code",
   "execution_count": 10,
   "metadata": {},
   "outputs": [
    {
     "name": "stdout",
     "output_type": "stream",
     "text": [
      "Frisus log: execute called with:\n",
      "execution_config=ExecutionConfig(grad_on_execution=None, use_device_gradient=None, use_device_jacobian_product=None, gradient_method=None, gradient_keyword_arguments={}, device_options={}, interface=None, derivative_order=1)\n",
      "circuits=(<QuantumScript: wires=[0, 1, 2, 3, 4], params=4>,)\n",
      "\n"
     ]
    },
    {
     "data": {
      "text/plain": [
       "(1.0, 0.00994181505874192)"
      ]
     },
     "execution_count": 10,
     "metadata": {},
     "output_type": "execute_result"
    }
   ],
   "source": [
    "dev.execute(circuits=tape)"
   ]
  },
  {
   "cell_type": "code",
   "execution_count": null,
   "metadata": {},
   "outputs": [],
   "source": []
  },
  {
   "cell_type": "code",
   "execution_count": null,
   "metadata": {},
   "outputs": [],
   "source": []
  },
  {
   "cell_type": "markdown",
   "metadata": {},
   "source": [
    "## Learning from `LightningQubit` using Python API"
   ]
  },
  {
   "cell_type": "code",
   "execution_count": 11,
   "metadata": {},
   "outputs": [],
   "source": [
    "from pennylane_lightning.lightning_qubit import LightningQubit"
   ]
  },
  {
   "cell_type": "code",
   "execution_count": 12,
   "metadata": {},
   "outputs": [],
   "source": [
    "obj = LightningQubit(wires=tape.wires)"
   ]
  },
  {
   "cell_type": "code",
   "execution_count": 13,
   "metadata": {},
   "outputs": [
    {
     "data": {
      "text/plain": [
       "<pennylane.tracker.Tracker at 0x7a3d3df10910>"
      ]
     },
     "execution_count": 13,
     "metadata": {},
     "output_type": "execute_result"
    }
   ],
   "source": [
    "obj.tracker"
   ]
  },
  {
   "cell_type": "code",
   "execution_count": 14,
   "metadata": {},
   "outputs": [
    {
     "name": "stdout",
     "output_type": "stream",
     "text": [
      "Frisus log: execute called with:\n",
      "execution_config=ExecutionConfig(grad_on_execution=None, use_device_gradient=None, use_device_jacobian_product=None, gradient_method=None, gradient_keyword_arguments={}, device_options={}, interface=None, derivative_order=1)\n",
      "circuits=(<QuantumScript: wires=[0, 1, 2, 3, 4], params=4>,)\n",
      "\n"
     ]
    },
    {
     "data": {
      "text/plain": [
       "(1.0, 0.00994181505874192)"
      ]
     },
     "execution_count": 14,
     "metadata": {},
     "output_type": "execute_result"
    }
   ],
   "source": [
    "obj.execute(tape)"
   ]
  },
  {
   "cell_type": "code",
   "execution_count": null,
   "metadata": {},
   "outputs": [],
   "source": []
  },
  {
   "cell_type": "code",
   "execution_count": null,
   "metadata": {},
   "outputs": [],
   "source": []
  },
  {
   "cell_type": "code",
   "execution_count": null,
   "metadata": {},
   "outputs": [],
   "source": []
  },
  {
   "cell_type": "markdown",
   "metadata": {},
   "source": [
    "## Testing `LightningTensor` "
   ]
  },
  {
   "cell_type": "code",
   "execution_count": 15,
   "metadata": {},
   "outputs": [],
   "source": [
    "wires = tape.wires\n",
    "backend = \"quimb\"\n",
    "method = \"mps\"\n",
    "c_dtype = np.complex128\n",
    "max_bond_dim = None\n",
    "cutoff = 0.0"
   ]
  },
  {
   "cell_type": "code",
   "execution_count": 16,
   "metadata": {},
   "outputs": [],
   "source": [
    "from pennylane_lightning.lightning_tensor import LightningTensor"
   ]
  },
  {
   "cell_type": "code",
   "execution_count": 17,
   "metadata": {},
   "outputs": [],
   "source": [
    "obj = LightningTensor(\n",
    "    wires=wires,\n",
    "    backend=backend,\n",
    "    method=method,\n",
    "    c_dtype=c_dtype,\n",
    "    max_bond_dim=max_bond_dim,\n",
    "    cutoff=cutoff,\n",
    ")"
   ]
  },
  {
   "cell_type": "code",
   "execution_count": 18,
   "metadata": {},
   "outputs": [
    {
     "data": {
      "text/html": [
       "<samp style='font-size: 12px;'><details><summary><b style=\"color: #d75692;\">MatrixProductState</b>(tensors=5, indices=9, L=5, max_bond=2)</summary><samp style='font-size: 12px;'><details><summary><b style=\"color: #e55471;\">Tensor</b>(shape=(<b style=\"color: #45ce3d;\">1</b>, <b style=\"color: #828fdd;\">2</b>), inds=[<b style=\"color: #54d072;\">_6822d8AAAAA</b>, <b style=\"color: #b1dc61;\">k0</b>], tags={<b style=\"color: #74d649;\">0</b>, <b style=\"color: #45ce3d;\">1</b>, <b style=\"color: #828fdd;\">2</b>, <b style=\"color: #8a5bcf;\">3</b>, <b style=\"color: #80d749;\">4</b>, <b style=\"color: #d2b137;\">I0</b>, <b style=\"color: #d3b991;\">PSI0</b>}),</summary>backend=<b style=\"color: #7fdd73;\">numpy</b>, dtype=<b style=\"color: #443ce1;\">complex128</b>, data=array([[1.+0.j, 0.+0.j]])</details></samp><samp style='font-size: 12px;'><details><summary><b style=\"color: #e55471;\">Tensor</b>(shape=(<b style=\"color: #45ce3d;\">1</b>, <b style=\"color: #45ce3d;\">1</b>, <b style=\"color: #828fdd;\">2</b>), inds=[<b style=\"color: #54d072;\">_6822d8AAAAA</b>, <b style=\"color: #7bcdc9;\">_6822d8AAAAB</b>, <b style=\"color: #8aa5db;\">k1</b>], tags={<b style=\"color: #74d649;\">0</b>, <b style=\"color: #45ce3d;\">1</b>, <b style=\"color: #828fdd;\">2</b>, <b style=\"color: #8a5bcf;\">3</b>, <b style=\"color: #80d749;\">4</b>, <b style=\"color: #d19b78;\">I1</b>, <b style=\"color: #d3b991;\">PSI0</b>}),</summary>backend=<b style=\"color: #7fdd73;\">numpy</b>, dtype=<b style=\"color: #443ce1;\">complex128</b>, data=array([[[1.+0.j, 0.+0.j]]])</details></samp><samp style='font-size: 12px;'><details><summary><b style=\"color: #e55471;\">Tensor</b>(shape=(<b style=\"color: #45ce3d;\">1</b>, <b style=\"color: #45ce3d;\">1</b>, <b style=\"color: #828fdd;\">2</b>), inds=[<b style=\"color: #7bcdc9;\">_6822d8AAAAB</b>, <b style=\"color: #69db8d;\">_6822d8AAAAC</b>, <b style=\"color: #df546d;\">k2</b>], tags={<b style=\"color: #74d649;\">0</b>, <b style=\"color: #45ce3d;\">1</b>, <b style=\"color: #828fdd;\">2</b>, <b style=\"color: #8a5bcf;\">3</b>, <b style=\"color: #80d749;\">4</b>, <b style=\"color: #dd5dd7;\">I2</b>, <b style=\"color: #d3b991;\">PSI0</b>}),</summary>backend=<b style=\"color: #7fdd73;\">numpy</b>, dtype=<b style=\"color: #443ce1;\">complex128</b>, data=array([[[1.+0.j, 0.+0.j]]])</details></samp><samp style='font-size: 12px;'><details><summary><b style=\"color: #e55471;\">Tensor</b>(shape=(<b style=\"color: #45ce3d;\">1</b>, <b style=\"color: #45ce3d;\">1</b>, <b style=\"color: #828fdd;\">2</b>), inds=[<b style=\"color: #69db8d;\">_6822d8AAAAC</b>, <b style=\"color: #45cddd;\">_6822d8AAAAD</b>, <b style=\"color: #4c7be1;\">k3</b>], tags={<b style=\"color: #74d649;\">0</b>, <b style=\"color: #45ce3d;\">1</b>, <b style=\"color: #828fdd;\">2</b>, <b style=\"color: #8a5bcf;\">3</b>, <b style=\"color: #80d749;\">4</b>, <b style=\"color: #dd65d9;\">I3</b>, <b style=\"color: #d3b991;\">PSI0</b>}),</summary>backend=<b style=\"color: #7fdd73;\">numpy</b>, dtype=<b style=\"color: #443ce1;\">complex128</b>, data=array([[[1.+0.j, 0.+0.j]]])</details></samp><samp style='font-size: 12px;'><details><summary><b style=\"color: #e55471;\">Tensor</b>(shape=(<b style=\"color: #45ce3d;\">1</b>, <b style=\"color: #828fdd;\">2</b>), inds=[<b style=\"color: #45cddd;\">_6822d8AAAAD</b>, <b style=\"color: #462edc;\">k4</b>], tags={<b style=\"color: #74d649;\">0</b>, <b style=\"color: #45ce3d;\">1</b>, <b style=\"color: #828fdd;\">2</b>, <b style=\"color: #8a5bcf;\">3</b>, <b style=\"color: #80d749;\">4</b>, <b style=\"color: #998ad1;\">I4</b>, <b style=\"color: #d3b991;\">PSI0</b>}),</summary>backend=<b style=\"color: #7fdd73;\">numpy</b>, dtype=<b style=\"color: #443ce1;\">complex128</b>, data=array([[1.+0.j, 0.+0.j]])</details></samp></details></samp>"
      ],
      "text/plain": [
       "MatrixProductState(tensors=5, indices=9, L=5, max_bond=2)"
      ]
     },
     "execution_count": 18,
     "metadata": {},
     "output_type": "execute_result"
    }
   ],
   "source": [
    "obj._interface.state"
   ]
  },
  {
   "cell_type": "code",
   "execution_count": 19,
   "metadata": {},
   "outputs": [
    {
     "data": {
      "text/html": [
       "<samp style='font-size: 12px;'><details><summary><b style=\"color: #d75692;\">MatrixProductState</b>(tensors=5, indices=9, L=5, max_bond=2)</summary><samp style='font-size: 12px;'><details><summary><b style=\"color: #e55471;\">Tensor</b>(shape=(<b style=\"color: #45ce3d;\">1</b>, <b style=\"color: #828fdd;\">2</b>), inds=[<b style=\"color: #54d072;\">_6822d8AAAAA</b>, <b style=\"color: #b1dc61;\">k0</b>], tags={<b style=\"color: #74d649;\">0</b>, <b style=\"color: #45ce3d;\">1</b>, <b style=\"color: #828fdd;\">2</b>, <b style=\"color: #8a5bcf;\">3</b>, <b style=\"color: #80d749;\">4</b>, <b style=\"color: #d2b137;\">I0</b>, <b style=\"color: #d3b991;\">PSI0</b>}),</summary>backend=<b style=\"color: #7fdd73;\">numpy</b>, dtype=<b style=\"color: #443ce1;\">complex128</b>, data=array([[1.+0.j, 0.+0.j]])</details></samp><samp style='font-size: 12px;'><details><summary><b style=\"color: #e55471;\">Tensor</b>(shape=(<b style=\"color: #45ce3d;\">1</b>, <b style=\"color: #45ce3d;\">1</b>, <b style=\"color: #828fdd;\">2</b>), inds=[<b style=\"color: #54d072;\">_6822d8AAAAA</b>, <b style=\"color: #7bcdc9;\">_6822d8AAAAB</b>, <b style=\"color: #8aa5db;\">k1</b>], tags={<b style=\"color: #74d649;\">0</b>, <b style=\"color: #45ce3d;\">1</b>, <b style=\"color: #828fdd;\">2</b>, <b style=\"color: #8a5bcf;\">3</b>, <b style=\"color: #80d749;\">4</b>, <b style=\"color: #d19b78;\">I1</b>, <b style=\"color: #d3b991;\">PSI0</b>}),</summary>backend=<b style=\"color: #7fdd73;\">numpy</b>, dtype=<b style=\"color: #443ce1;\">complex128</b>, data=array([[[1.+0.j, 0.+0.j]]])</details></samp><samp style='font-size: 12px;'><details><summary><b style=\"color: #e55471;\">Tensor</b>(shape=(<b style=\"color: #45ce3d;\">1</b>, <b style=\"color: #45ce3d;\">1</b>, <b style=\"color: #828fdd;\">2</b>), inds=[<b style=\"color: #7bcdc9;\">_6822d8AAAAB</b>, <b style=\"color: #69db8d;\">_6822d8AAAAC</b>, <b style=\"color: #df546d;\">k2</b>], tags={<b style=\"color: #74d649;\">0</b>, <b style=\"color: #45ce3d;\">1</b>, <b style=\"color: #828fdd;\">2</b>, <b style=\"color: #8a5bcf;\">3</b>, <b style=\"color: #80d749;\">4</b>, <b style=\"color: #dd5dd7;\">I2</b>, <b style=\"color: #d3b991;\">PSI0</b>}),</summary>backend=<b style=\"color: #7fdd73;\">numpy</b>, dtype=<b style=\"color: #443ce1;\">complex128</b>, data=array([[[1.+0.j, 0.+0.j]]])</details></samp><samp style='font-size: 12px;'><details><summary><b style=\"color: #e55471;\">Tensor</b>(shape=(<b style=\"color: #45ce3d;\">1</b>, <b style=\"color: #45ce3d;\">1</b>, <b style=\"color: #828fdd;\">2</b>), inds=[<b style=\"color: #69db8d;\">_6822d8AAAAC</b>, <b style=\"color: #45cddd;\">_6822d8AAAAD</b>, <b style=\"color: #4c7be1;\">k3</b>], tags={<b style=\"color: #74d649;\">0</b>, <b style=\"color: #45ce3d;\">1</b>, <b style=\"color: #828fdd;\">2</b>, <b style=\"color: #8a5bcf;\">3</b>, <b style=\"color: #80d749;\">4</b>, <b style=\"color: #dd65d9;\">I3</b>, <b style=\"color: #d3b991;\">PSI0</b>}),</summary>backend=<b style=\"color: #7fdd73;\">numpy</b>, dtype=<b style=\"color: #443ce1;\">complex128</b>, data=array([[[1.+0.j, 0.+0.j]]])</details></samp><samp style='font-size: 12px;'><details><summary><b style=\"color: #e55471;\">Tensor</b>(shape=(<b style=\"color: #45ce3d;\">1</b>, <b style=\"color: #828fdd;\">2</b>), inds=[<b style=\"color: #45cddd;\">_6822d8AAAAD</b>, <b style=\"color: #462edc;\">k4</b>], tags={<b style=\"color: #74d649;\">0</b>, <b style=\"color: #45ce3d;\">1</b>, <b style=\"color: #828fdd;\">2</b>, <b style=\"color: #8a5bcf;\">3</b>, <b style=\"color: #80d749;\">4</b>, <b style=\"color: #998ad1;\">I4</b>, <b style=\"color: #d3b991;\">PSI0</b>}),</summary>backend=<b style=\"color: #7fdd73;\">numpy</b>, dtype=<b style=\"color: #443ce1;\">complex128</b>, data=array([[1.+0.j, 0.+0.j]])</details></samp></details></samp>"
      ],
      "text/plain": [
       "MatrixProductState(tensors=5, indices=9, L=5, max_bond=2)"
      ]
     },
     "execution_count": 19,
     "metadata": {},
     "output_type": "execute_result"
    }
   ],
   "source": [
    "obj._interface._circuitMPS.get_psi_reverse_lightcone(3)"
   ]
  },
  {
   "cell_type": "code",
   "execution_count": 46,
   "metadata": {},
   "outputs": [
    {
     "data": {
      "text/plain": [
       "pennylane.devices.execution_config.ExecutionConfig"
      ]
     },
     "execution_count": 46,
     "metadata": {},
     "output_type": "execute_result"
    }
   ],
   "source": [
    "type(obj._setup_execution_config())"
   ]
  },
  {
   "cell_type": "code",
   "execution_count": 20,
   "metadata": {},
   "outputs": [],
   "source": [
    "program, config = obj.preprocess()"
   ]
  },
  {
   "cell_type": "code",
   "execution_count": 21,
   "metadata": {},
   "outputs": [
    {
     "data": {
      "text/plain": [
       "{'apply_reverse_lightcone': None,\n",
       " 'backend': 'quimb',\n",
       " 'c_dtype': numpy.complex128,\n",
       " 'cutoff': 0.0,\n",
       " 'method': 'mps',\n",
       " 'max_bond_dim': None,\n",
       " 'measure_algorithm': None,\n",
       " 'return_tn': False,\n",
       " 'rehearse': False}"
      ]
     },
     "execution_count": 21,
     "metadata": {},
     "output_type": "execute_result"
    }
   ],
   "source": [
    "config.device_options"
   ]
  },
  {
   "cell_type": "code",
   "execution_count": 22,
   "metadata": {},
   "outputs": [
    {
     "name": "stdout",
     "output_type": "stream",
     "text": [
      "LOG: execute called with:\n",
      "circuits=(<QuantumScript: wires=[0, 1, 2, 3, 4], params=4>,)\n",
      "\n",
      "LOG: resetting the MPS\n",
      "\n",
      "LOG: applying X(0) to the circuit...\n",
      "LOG: MPS after operation:\n",
      "MatrixProductState([\n",
      "    Tensor(shape=(1, 2), inds=('_6822d8AAAAE', 'k0'), tags=oset(['0', '1', '2', '3', '4', 'I0', 'PSI0', 'GATE_0'])),\n",
      "    Tensor(shape=(1, 1, 2), inds=('_6822d8AAAAE', '_6822d8AAAAF', 'k1'), tags=oset(['0', '1', '2', '3', '4', 'I1', 'PSI0'])),\n",
      "    Tensor(shape=(1, 1, 2), inds=('_6822d8AAAAF', '_6822d8AAAAG', 'k2'), tags=oset(['0', '1', '2', '3', '4', 'I2', 'PSI0'])),\n",
      "    Tensor(shape=(1, 1, 2), inds=('_6822d8AAAAG', '_6822d8AAAAH', 'k3'), tags=oset(['0', '1', '2', '3', '4', 'I3', 'PSI0'])),\n",
      "    Tensor(shape=(1, 2), inds=('_6822d8AAAAH', 'k4'), tags=oset(['0', '1', '2', '3', '4', 'I4', 'PSI0'])),\n",
      "], tensors=5, indices=9, L=5, max_bond=2)\n",
      "\n",
      "LOG: applying RX(0.1, wires=[0]) to the circuit...\n",
      "LOG: MPS after operation:\n",
      "MatrixProductState([\n",
      "    Tensor(shape=(1, 2), inds=('_6822d8AAAAE', 'k0'), tags=oset(['0', '1', '2', '3', '4', 'I0', 'PSI0', 'GATE_0', 'GATE_1'])),\n",
      "    Tensor(shape=(1, 1, 2), inds=('_6822d8AAAAE', '_6822d8AAAAF', 'k1'), tags=oset(['0', '1', '2', '3', '4', 'I1', 'PSI0'])),\n",
      "    Tensor(shape=(1, 1, 2), inds=('_6822d8AAAAF', '_6822d8AAAAG', 'k2'), tags=oset(['0', '1', '2', '3', '4', 'I2', 'PSI0'])),\n",
      "    Tensor(shape=(1, 1, 2), inds=('_6822d8AAAAG', '_6822d8AAAAH', 'k3'), tags=oset(['0', '1', '2', '3', '4', 'I3', 'PSI0'])),\n",
      "    Tensor(shape=(1, 2), inds=('_6822d8AAAAH', 'k4'), tags=oset(['0', '1', '2', '3', '4', 'I4', 'PSI0'])),\n",
      "], tensors=5, indices=9, L=5, max_bond=2)\n",
      "\n",
      "LOG: applying RX(0.2, wires=[1]) to the circuit...\n",
      "LOG: MPS after operation:\n",
      "MatrixProductState([\n",
      "    Tensor(shape=(1, 2), inds=('_6822d8AAAAE', 'k0'), tags=oset(['0', '1', '2', '3', '4', 'I0', 'PSI0', 'GATE_0', 'GATE_1'])),\n",
      "    Tensor(shape=(1, 1, 2), inds=('_6822d8AAAAE', '_6822d8AAAAF', 'k1'), tags=oset(['0', '1', '2', '3', '4', 'I1', 'PSI0', 'GATE_2'])),\n",
      "    Tensor(shape=(1, 1, 2), inds=('_6822d8AAAAF', '_6822d8AAAAG', 'k2'), tags=oset(['0', '1', '2', '3', '4', 'I2', 'PSI0'])),\n",
      "    Tensor(shape=(1, 1, 2), inds=('_6822d8AAAAG', '_6822d8AAAAH', 'k3'), tags=oset(['0', '1', '2', '3', '4', 'I3', 'PSI0'])),\n",
      "    Tensor(shape=(1, 2), inds=('_6822d8AAAAH', 'k4'), tags=oset(['0', '1', '2', '3', '4', 'I4', 'PSI0'])),\n",
      "], tensors=5, indices=9, L=5, max_bond=2)\n",
      "\n",
      "LOG: applying CNOT(wires=[0, 1]) to the circuit...\n",
      "LOG: MPS after operation:\n",
      "MatrixProductState([\n",
      "    Tensor(shape=(2, 2), inds=('_6822d8AAAAE', 'k0'), tags=oset(['0', '1', '2', '3', '4', 'I0', 'PSI0', 'GATE_0', 'GATE_1'])),\n",
      "    Tensor(shape=(2, 1, 2), inds=('_6822d8AAAAE', '_6822d8AAAAF', 'k1'), tags=oset(['0', '1', '2', '3', '4', 'I1', 'PSI0', 'GATE_2'])),\n",
      "    Tensor(shape=(1, 1, 2), inds=('_6822d8AAAAF', '_6822d8AAAAG', 'k2'), tags=oset(['0', '1', '2', '3', '4', 'I2', 'PSI0'])),\n",
      "    Tensor(shape=(1, 1, 2), inds=('_6822d8AAAAG', '_6822d8AAAAH', 'k3'), tags=oset(['0', '1', '2', '3', '4', 'I3', 'PSI0'])),\n",
      "    Tensor(shape=(1, 2), inds=('_6822d8AAAAH', 'k4'), tags=oset(['0', '1', '2', '3', '4', 'I4', 'PSI0'])),\n",
      "], tensors=5, indices=9, L=5, max_bond=2)\n",
      "\n",
      "LOG: applying DoubleExcitation(0.2, wires=[1, 2, 3, 4]) to the circuit...\n",
      "LOG: MPS after operation:\n",
      "MatrixProductState([\n",
      "    Tensor(shape=(2, 1, 2), inds=('_6822d8AAAAE', 'x{}_6822d8AAAAQ', 'k0'), tags=oset(['0', '1', '2', '3', '4', 'I0', 'PSI0', 'GATE_0', 'GATE_1'])),\n",
      "    Tensor(shape=(2, 1, 2), inds=('_6822d8AAAAE', '_6822d8AAAAF', 'k1'), tags=oset(['0', '1', '2', '3', '4', 'I1', 'PSI0', 'GATE_2'])),\n",
      "    Tensor(shape=(1, 1, 2), inds=('_6822d8AAAAF', '_6822d8AAAAG', 'k2'), tags=oset(['0', '1', '2', '3', '4', 'I2', 'PSI0'])),\n",
      "    Tensor(shape=(1, 1, 2), inds=('_6822d8AAAAG', '_6822d8AAAAH', 'k3'), tags=oset(['0', '1', '2', '3', '4', 'I3', 'PSI0'])),\n",
      "    Tensor(shape=(1, 1, 2), inds=('_6822d8AAAAH', 'x{}_6822d8AAAAQ', 'k4'), tags=oset(['0', '1', '2', '3', '4', 'I4', 'PSI0'])),\n",
      "], tensors=5, indices=10, L=5, max_bond=2)\n",
      "\n",
      "LOG: applying Hadamard(wires=[1]) to the circuit...\n",
      "LOG: MPS after operation:\n",
      "MatrixProductState([\n",
      "    Tensor(shape=(2, 1, 2), inds=('_6822d8AAAAE', 'x{}_6822d8AAAAQ', 'k0'), tags=oset(['0', '1', '2', '3', '4', 'I0', 'PSI0', 'GATE_0', 'GATE_1'])),\n",
      "    Tensor(shape=(2, 1, 2), inds=('_6822d8AAAAE', '_6822d8AAAAF', 'k1'), tags=oset(['0', '1', '2', '3', '4', 'I1', 'PSI0', 'GATE_2', 'GATE_5'])),\n",
      "    Tensor(shape=(1, 1, 2), inds=('_6822d8AAAAF', '_6822d8AAAAG', 'k2'), tags=oset(['0', '1', '2', '3', '4', 'I2', 'PSI0'])),\n",
      "    Tensor(shape=(1, 1, 2), inds=('_6822d8AAAAG', '_6822d8AAAAH', 'k3'), tags=oset(['0', '1', '2', '3', '4', 'I3', 'PSI0'])),\n",
      "    Tensor(shape=(1, 1, 2), inds=('_6822d8AAAAH', 'x{}_6822d8AAAAQ', 'k4'), tags=oset(['0', '1', '2', '3', '4', 'I4', 'PSI0'])),\n",
      "], tensors=5, indices=10, L=5, max_bond=2)\n",
      "\n",
      "LOG: applying CNOT(wires=[2, 4]) to the circuit...\n",
      "LOG: MPS after operation:\n",
      "MatrixProductState([\n",
      "    Tensor(shape=(2, 1, 2), inds=('_6822d8AAAAE', 'x{}_6822d8AAAAQ', 'k0'), tags=oset(['0', '1', '2', '3', '4', 'I0', 'PSI0', 'GATE_0', 'GATE_1'])),\n",
      "    Tensor(shape=(2, 1, 2), inds=('_6822d8AAAAE', '_6822d8AAAAF', 'k1'), tags=oset(['0', '1', '2', '3', '4', 'I1', 'PSI0', 'GATE_2', 'GATE_5'])),\n",
      "    Tensor(shape=(1, 2, 2), inds=('_6822d8AAAAF', '_6822d8AAAAG', 'k2'), tags=oset(['0', '1', '2', '3', '4', 'I2', 'PSI0'])),\n",
      "    Tensor(shape=(2, 2, 2), inds=('_6822d8AAAAG', '_6822d8AAAAH', 'k3'), tags=oset(['0', '1', '2', '3', '4', 'I3', 'PSI0'])),\n",
      "    Tensor(shape=(2, 1, 2), inds=('_6822d8AAAAH', 'x{}_6822d8AAAAQ', 'k4'), tags=oset(['0', '1', '2', '3', '4', 'I4', 'PSI0'])),\n",
      "], tensors=5, indices=10, L=5, max_bond=2)\n",
      "\n",
      "LOG: applying DoubleExcitation(0.2, wires=[0, 1, 3, 4]) to the circuit...\n",
      "LOG: MPS after operation:\n",
      "MatrixProductState([\n",
      "    Tensor(shape=(1, 2, 2), inds=('x{}_6822d8AAAAQ', '_6822d8AAAAE', 'k0'), tags=oset(['I0', '0', '1', '2', '3', '4', 'PSI0', 'GATE_0', 'GATE_1'])),\n",
      "    Tensor(shape=(2, 2, 2), inds=('_6822d8AAAAE', '_6822d8AAAAF', 'k1'), tags=oset(['I1', '0', '1', '2', '3', '4', 'PSI0', 'GATE_2', 'GATE_5'])),\n",
      "    Tensor(shape=(2, 2, 2), inds=('_6822d8AAAAF', '_6822d8AAAAG', 'k2'), tags=oset(['I2', '0', '1', '2', '3', '4', 'PSI0'])),\n",
      "    Tensor(shape=(2, 2, 2), inds=('_6822d8AAAAG', '_6822d8AAAAH', 'k3'), tags=oset(['I3', '0', '1', '2', '3', '4', 'PSI0'])),\n",
      "    Tensor(shape=(2, 1, 2), inds=('_6822d8AAAAH', 'x{}_6822d8AAAAQ', 'k4'), tags=oset(['I4', '0', '1', '2', '3', '4', 'PSI0'])),\n",
      "], tensors=5, indices=10, L=5, max_bond=2)\n",
      "\n",
      "LOG: measuring the expval of obs I(0)...\n",
      "\n",
      "LOG: measuring the expval of obs Z(1)...\n",
      "\n",
      "LOG: execute results=((0.9999999999999977, 0.009941815058741199),)\n",
      "\n",
      "LOG: MPS after execution:\n",
      "MatrixProductState([\n",
      "    Tensor(shape=(2, 2), inds=('_6822d8AAABC', 'k0'), tags=oset(['I0', '0', '1', '2', '3', '4', 'PSI0', 'GATE_0', 'GATE_1'])),\n",
      "    Tensor(shape=(2, 2, 2), inds=('_6822d8AAABC', '_6822d8AAABD', 'k1'), tags=oset(['I1', '0', '1', '2', '3', '4', 'PSI0', 'GATE_2', 'GATE_5'])),\n",
      "    Tensor(shape=(2, 2, 2), inds=('_6822d8AAABD', '_6822d8AAABE', 'k2'), tags=oset(['I2', '0', '1', '2', '3', '4', 'PSI0'])),\n",
      "    Tensor(shape=(2, 2, 2), inds=('_6822d8AAABE', '_6822d8AAABI', 'k3'), tags=oset(['I3', '0', '1', '2', '3', '4', 'PSI0'])),\n",
      "    Tensor(shape=(2,), inds=('_6822d8AAABI',), tags=oset(['I4', '0', '1', '2', '3', '4', 'PSI0'])),\n",
      "], tensors=5, indices=10, L=5, max_bond=2)\n"
     ]
    },
    {
     "data": {
      "text/plain": [
       "(0.9999999999999977, 0.009941815058741199)"
      ]
     },
     "execution_count": 22,
     "metadata": {},
     "output_type": "execute_result"
    }
   ],
   "source": [
    "obj._interface._verbosity = True\n",
    "\n",
    "obj.execute(circuits=tape)"
   ]
  },
  {
   "cell_type": "code",
   "execution_count": 23,
   "metadata": {},
   "outputs": [
    {
     "data": {
      "text/plain": [
       "[<Gate(label=RAW134403450594480, params=raw, qubits=(0,))>,\n",
       " <Gate(label=RAW134403450595248, params=raw, qubits=(0,))>,\n",
       " <Gate(label=RAW134403450593424, params=raw, qubits=(1,))>,\n",
       " <Gate(label=RAW134403450593520, params=raw, qubits=(0, 1))>,\n",
       " <Gate(label=RAW134403450784432, params=raw, qubits=((1, 2, 3, 4),))>,\n",
       " <Gate(label=RAW134404832177200, params=raw, qubits=(1,))>,\n",
       " <Gate(label=RAW134403450593520, params=raw, qubits=(2, 4))>,\n",
       " <Gate(label=RAW134403450325488, params=raw, qubits=((0, 1, 3, 4),))>]"
      ]
     },
     "execution_count": 23,
     "metadata": {},
     "output_type": "execute_result"
    }
   ],
   "source": [
    "obj._interface._circuitMPS.gates"
   ]
  },
  {
   "cell_type": "code",
   "execution_count": 24,
   "metadata": {},
   "outputs": [
    {
     "data": {
      "text/plain": [
       "oset(['0', '1', '2', '3', '4', 'PSI0', 'I0', 'GATE_0', 'GATE_1', 'I1', 'GATE_2', 'GATE_5', 'I2', 'I3', 'I4'])"
      ]
     },
     "execution_count": 24,
     "metadata": {},
     "output_type": "execute_result"
    }
   ],
   "source": [
    "obj._interface._circuitMPS.psi.tags"
   ]
  },
  {
   "cell_type": "code",
   "execution_count": 25,
   "metadata": {},
   "outputs": [
    {
     "data": {
      "text/plain": [
       "{'_psi': MatrixProductState(tensors=5, indices=10, L=5, max_bond=2),\n",
       " 'N': 5,\n",
       " 'gate_opts': {'contract': 'swap+split', 'propagate_tags': 'register'},\n",
       " 'gates': [<Gate(label=RAW134403450594480, params=raw, qubits=(0,))>,\n",
       "  <Gate(label=RAW134403450595248, params=raw, qubits=(0,))>,\n",
       "  <Gate(label=RAW134403450593424, params=raw, qubits=(1,))>,\n",
       "  <Gate(label=RAW134403450593520, params=raw, qubits=(0, 1))>,\n",
       "  <Gate(label=RAW134403450784432, params=raw, qubits=((1, 2, 3, 4),))>,\n",
       "  <Gate(label=RAW134404832177200, params=raw, qubits=(1,))>,\n",
       "  <Gate(label=RAW134403450593520, params=raw, qubits=(2, 4))>,\n",
       "  <Gate(label=RAW134403450325488, params=raw, qubits=((0, 1, 3, 4),))>],\n",
       " '_ket_site_ind_id': 'k{}',\n",
       " '_bra_site_ind_id': 'b{}',\n",
       " 'ket_site_ind': <function str.format>,\n",
       " 'bra_site_ind': <function str.format>,\n",
       " '_sample_n_gates': -1,\n",
       " '_storage': {('rdm_lightcone_simplified',\n",
       "   (0,),\n",
       "   'ADCRS',\n",
       "   0.0): TensorNetwork1D(tensors=1, indices=2, L=5, max_bond=2),\n",
       "  ('rdm_lightcone_simplified',\n",
       "   (1,),\n",
       "   'ADCRS',\n",
       "   0.0): TensorNetwork1D(tensors=1, indices=2, L=5, max_bond=2)},\n",
       " '_sampled_conditionals': {}}"
      ]
     },
     "execution_count": 25,
     "metadata": {},
     "output_type": "execute_result"
    }
   ],
   "source": [
    "obj._interface._circuitMPS.__dict__"
   ]
  },
  {
   "cell_type": "code",
   "execution_count": 26,
   "metadata": {},
   "outputs": [
    {
     "data": {
      "text/plain": [
       "<Circuit(n=5, num_gates=8, gate_opts={'contract': 'swap+split', 'propagate_tags': 'register'})>"
      ]
     },
     "execution_count": 26,
     "metadata": {},
     "output_type": "execute_result"
    }
   ],
   "source": [
    "obj._interface._circuitMPS"
   ]
  },
  {
   "cell_type": "code",
   "execution_count": 27,
   "metadata": {},
   "outputs": [
    {
     "data": {
      "text/plain": [
       "2"
      ]
     },
     "execution_count": 27,
     "metadata": {},
     "output_type": "execute_result"
    }
   ],
   "source": [
    "obj._interface._circuitMPS.psi.max_bond()"
   ]
  },
  {
   "cell_type": "code",
   "execution_count": 28,
   "metadata": {},
   "outputs": [],
   "source": [
    "# obj._interface._circuitMPS.psi.draw(color=[f\"I{q}\" for q in range(len(wires))], show_tags=False, show_inds=True)"
   ]
  },
  {
   "cell_type": "code",
   "execution_count": 29,
   "metadata": {},
   "outputs": [],
   "source": [
    "# obj.compute_derivatives(tape)"
   ]
  },
  {
   "cell_type": "code",
   "execution_count": 30,
   "metadata": {},
   "outputs": [],
   "source": [
    "# obj._interface.state_to_array()"
   ]
  },
  {
   "cell_type": "markdown",
   "metadata": {},
   "source": [
    "# Playing with `quimb`"
   ]
  },
  {
   "cell_type": "code",
   "execution_count": 31,
   "metadata": {},
   "outputs": [],
   "source": [
    "wires = Wires(range(7))\n",
    "\n",
    "init_state = qtn.MPS_computational_state(\n",
    "    \"0\" * len(wires), tags=[str(l) for l in wires.labels]\n",
    ")\n",
    "\n",
    "qc = qtn.CircuitMPS(psi0=init_state)\n",
    "\n",
    "op = qml.CNOT(wires=[0, 1])"
   ]
  },
  {
   "cell_type": "code",
   "execution_count": 32,
   "metadata": {},
   "outputs": [
    {
     "data": {
      "image/png": "[encoded data removed]",
      "text/plain": [
       "<Figure size 600x600 with 1 Axes>"
      ]
     },
     "metadata": {
      "needs_background": "light"
     },
     "output_type": "display_data"
    }
   ],
   "source": [
    "qc.psi.draw(color=[f\"I{q}\" for q in range(len(wires))], show_tags=False, show_inds=True)"
   ]
  },
  {
   "cell_type": "code",
   "execution_count": 33,
   "metadata": {},
   "outputs": [
    {
     "data": {
      "text/plain": [
       "0j"
      ]
     },
     "execution_count": 33,
     "metadata": {},
     "output_type": "execute_result"
    }
   ],
   "source": [
    "qc.amplitude('0111111')"
   ]
  },
  {
   "cell_type": "code",
   "execution_count": 34,
   "metadata": {},
   "outputs": [
    {
     "data": {
      "text/html": [
       "<samp style='font-size: 12px;'><details><summary><b style=\"color: #d75692;\">MatrixProductState</b>(tensors=7, indices=13, L=7, max_bond=2)</summary><samp style='font-size: 12px;'><details><summary><b style=\"color: #e55471;\">Tensor</b>(shape=(<b style=\"color: #45ce3d;\">1</b>, <b style=\"color: #828fdd;\">2</b>), inds=[<b style=\"color: #5987e0;\">_6822d8AAABK</b>, <b style=\"color: #b1dc61;\">k0</b>], tags={<b style=\"color: #74d649;\">0</b>, <b style=\"color: #45ce3d;\">1</b>, <b style=\"color: #828fdd;\">2</b>, <b style=\"color: #8a5bcf;\">3</b>, <b style=\"color: #80d749;\">4</b>, <b style=\"color: #7355d7;\">5</b>, <b style=\"color: #a4de79;\">6</b>, <b style=\"color: #d2b137;\">I0</b>}),</summary>backend=<b style=\"color: #7fdd73;\">numpy</b>, dtype=<b style=\"color: #75d2c6;\">float64</b>, data=array([[1., 0.]])</details></samp><samp style='font-size: 12px;'><details><summary><b style=\"color: #e55471;\">Tensor</b>(shape=(<b style=\"color: #45ce3d;\">1</b>, <b style=\"color: #45ce3d;\">1</b>, <b style=\"color: #828fdd;\">2</b>), inds=[<b style=\"color: #5987e0;\">_6822d8AAABK</b>, <b style=\"color: #d249b8;\">_6822d8AAABL</b>, <b style=\"color: #8aa5db;\">k1</b>], tags={<b style=\"color: #74d649;\">0</b>, <b style=\"color: #45ce3d;\">1</b>, <b style=\"color: #828fdd;\">2</b>, <b style=\"color: #8a5bcf;\">3</b>, <b style=\"color: #80d749;\">4</b>, <b style=\"color: #7355d7;\">5</b>, <b style=\"color: #a4de79;\">6</b>, <b style=\"color: #d19b78;\">I1</b>}),</summary>backend=<b style=\"color: #7fdd73;\">numpy</b>, dtype=<b style=\"color: #75d2c6;\">float64</b>, data=array([[[1., 0.]]])</details></samp><samp style='font-size: 12px;'><details><summary><b style=\"color: #e55471;\">Tensor</b>(shape=(<b style=\"color: #45ce3d;\">1</b>, <b style=\"color: #45ce3d;\">1</b>, <b style=\"color: #828fdd;\">2</b>), inds=[<b style=\"color: #d249b8;\">_6822d8AAABL</b>, <b style=\"color: #996fe0;\">_6822d8AAABM</b>, <b style=\"color: #df546d;\">k2</b>], tags={<b style=\"color: #74d649;\">0</b>, <b style=\"color: #45ce3d;\">1</b>, <b style=\"color: #828fdd;\">2</b>, <b style=\"color: #8a5bcf;\">3</b>, <b style=\"color: #80d749;\">4</b>, <b style=\"color: #7355d7;\">5</b>, <b style=\"color: #a4de79;\">6</b>, <b style=\"color: #dd5dd7;\">I2</b>}),</summary>backend=<b style=\"color: #7fdd73;\">numpy</b>, dtype=<b style=\"color: #75d2c6;\">float64</b>, data=array([[[1., 0.]]])</details></samp><samp style='font-size: 12px;'><details><summary><b style=\"color: #e55471;\">Tensor</b>(shape=(<b style=\"color: #45ce3d;\">1</b>, <b style=\"color: #45ce3d;\">1</b>, <b style=\"color: #828fdd;\">2</b>), inds=[<b style=\"color: #996fe0;\">_6822d8AAABM</b>, <b style=\"color: #d480a7;\">_6822d8AAABN</b>, <b style=\"color: #4c7be1;\">k3</b>], tags={<b style=\"color: #74d649;\">0</b>, <b style=\"color: #45ce3d;\">1</b>, <b style=\"color: #828fdd;\">2</b>, <b style=\"color: #8a5bcf;\">3</b>, <b style=\"color: #80d749;\">4</b>, <b style=\"color: #7355d7;\">5</b>, <b style=\"color: #a4de79;\">6</b>, <b style=\"color: #dd65d9;\">I3</b>}),</summary>backend=<b style=\"color: #7fdd73;\">numpy</b>, dtype=<b style=\"color: #75d2c6;\">float64</b>, data=array([[[1., 0.]]])</details></samp><samp style='font-size: 12px;'><details><summary><b style=\"color: #e55471;\">Tensor</b>(shape=(<b style=\"color: #45ce3d;\">1</b>, <b style=\"color: #45ce3d;\">1</b>, <b style=\"color: #828fdd;\">2</b>), inds=[<b style=\"color: #d480a7;\">_6822d8AAABN</b>, <b style=\"color: #cc9555;\">_6822d8AAABO</b>, <b style=\"color: #462edc;\">k4</b>], tags={<b style=\"color: #74d649;\">0</b>, <b style=\"color: #45ce3d;\">1</b>, <b style=\"color: #828fdd;\">2</b>, <b style=\"color: #8a5bcf;\">3</b>, <b style=\"color: #80d749;\">4</b>, <b style=\"color: #7355d7;\">5</b>, <b style=\"color: #a4de79;\">6</b>, <b style=\"color: #998ad1;\">I4</b>}),</summary>backend=<b style=\"color: #7fdd73;\">numpy</b>, dtype=<b style=\"color: #75d2c6;\">float64</b>, data=array([[[1., 0.]]])</details></samp><samp style='font-size: 12px;'><details><summary><b style=\"color: #e55471;\">Tensor</b>(shape=(<b style=\"color: #45ce3d;\">1</b>, <b style=\"color: #45ce3d;\">1</b>, <b style=\"color: #828fdd;\">2</b>), inds=[<b style=\"color: #cc9555;\">_6822d8AAABO</b>, <b style=\"color: #9f8dd1;\">_6822d8AAABP</b>, <b style=\"color: #85dfdf;\">k5</b>], tags={<b style=\"color: #74d649;\">0</b>, <b style=\"color: #45ce3d;\">1</b>, <b style=\"color: #828fdd;\">2</b>, <b style=\"color: #8a5bcf;\">3</b>, <b style=\"color: #80d749;\">4</b>, <b style=\"color: #7355d7;\">5</b>, <b style=\"color: #a4de79;\">6</b>, <b style=\"color: #97dddc;\">I5</b>}),</summary>backend=<b style=\"color: #7fdd73;\">numpy</b>, dtype=<b style=\"color: #75d2c6;\">float64</b>, data=array([[[1., 0.]]])</details></samp><samp style='font-size: 12px;'><details><summary><b style=\"color: #e55471;\">Tensor</b>(shape=(<b style=\"color: #45ce3d;\">1</b>, <b style=\"color: #828fdd;\">2</b>), inds=[<b style=\"color: #9f8dd1;\">_6822d8AAABP</b>, <b style=\"color: #2cb7d3;\">k6</b>], tags={<b style=\"color: #74d649;\">0</b>, <b style=\"color: #45ce3d;\">1</b>, <b style=\"color: #828fdd;\">2</b>, <b style=\"color: #8a5bcf;\">3</b>, <b style=\"color: #80d749;\">4</b>, <b style=\"color: #7355d7;\">5</b>, <b style=\"color: #a4de79;\">6</b>, <b style=\"color: #b2de5f;\">I6</b>}),</summary>backend=<b style=\"color: #7fdd73;\">numpy</b>, dtype=<b style=\"color: #75d2c6;\">float64</b>, data=array([[1., 0.]])</details></samp></details></samp>"
      ],
      "text/plain": [
       "MatrixProductState(tensors=7, indices=13, L=7, max_bond=2)"
      ]
     },
     "execution_count": 34,
     "metadata": {},
     "output_type": "execute_result"
    }
   ],
   "source": [
    "init_state"
   ]
  },
  {
   "cell_type": "code",
   "execution_count": 35,
   "metadata": {},
   "outputs": [
    {
     "data": {
      "text/plain": [
       "<function str.format>"
      ]
     },
     "execution_count": 35,
     "metadata": {},
     "output_type": "execute_result"
    }
   ],
   "source": [
    "qc.ket_site_ind"
   ]
  },
  {
   "cell_type": "code",
   "execution_count": 36,
   "metadata": {},
   "outputs": [
    {
     "data": {
      "text/plain": [
       "{'_psi': MatrixProductState(tensors=7, indices=7, L=7, max_bond=2),\n",
       " 'N': 7,\n",
       " 'gate_opts': {'contract': 'swap+split', 'propagate_tags': 'register'},\n",
       " 'gates': [],\n",
       " '_ket_site_ind_id': 'k{}',\n",
       " '_bra_site_ind_id': 'b{}',\n",
       " 'ket_site_ind': <function str.format>,\n",
       " 'bra_site_ind': <function str.format>,\n",
       " '_sample_n_gates': 0,\n",
       " '_storage': {('psi_simplified',\n",
       "   'ADCRS',\n",
       "   1e-12): MatrixProductState(tensors=7, indices=7, L=7, max_bond=2)},\n",
       " '_sampled_conditionals': {},\n",
       " '_marginal_storage_size': 0}"
      ]
     },
     "execution_count": 36,
     "metadata": {},
     "output_type": "execute_result"
    }
   ],
   "source": [
    "qc.__dict__"
   ]
  },
  {
   "cell_type": "code",
   "execution_count": 37,
   "metadata": {},
   "outputs": [
    {
     "data": {
      "text/plain": [
       "[]"
      ]
     },
     "execution_count": 37,
     "metadata": {},
     "output_type": "execute_result"
    }
   ],
   "source": [
    "qc.gates"
   ]
  },
  {
   "cell_type": "code",
   "execution_count": 38,
   "metadata": {},
   "outputs": [],
   "source": [
    "gate = qtn.circuit.parse_to_gate(op.matrix(), tuple(op.wires))"
   ]
  },
  {
   "cell_type": "code",
   "execution_count": 39,
   "metadata": {},
   "outputs": [
    {
     "data": {
      "text/plain": [
       "<Gate(label=RAW134403450593520, params=raw, qubits=((0, 1),))>"
      ]
     },
     "execution_count": 39,
     "metadata": {},
     "output_type": "execute_result"
    }
   ],
   "source": [
    "gate"
   ]
  },
  {
   "cell_type": "code",
   "execution_count": 40,
   "metadata": {},
   "outputs": [
    {
     "data": {
      "text/html": [
       "<samp style='font-size: 12px;'><details><summary><b style=\"color: #d75692;\">MatrixProductState</b>(tensors=7, indices=13, L=7, max_bond=2)</summary><samp style='font-size: 12px;'><details><summary><b style=\"color: #e55471;\">Tensor</b>(shape=(<b style=\"color: #45ce3d;\">1</b>, <b style=\"color: #828fdd;\">2</b>), inds=[<b style=\"color: #98b2e5;\">_6822d8AAABQ</b>, <b style=\"color: #b1dc61;\">k0</b>], tags={<b style=\"color: #74d649;\">0</b>, <b style=\"color: #45ce3d;\">1</b>, <b style=\"color: #828fdd;\">2</b>, <b style=\"color: #8a5bcf;\">3</b>, <b style=\"color: #80d749;\">4</b>, <b style=\"color: #7355d7;\">5</b>, <b style=\"color: #a4de79;\">6</b>, <b style=\"color: #d2b137;\">I0</b>}),</summary>backend=<b style=\"color: #7fdd73;\">numpy</b>, dtype=<b style=\"color: #75d2c6;\">float64</b>, data=array([[1., 0.]])</details></samp><samp style='font-size: 12px;'><details><summary><b style=\"color: #e55471;\">Tensor</b>(shape=(<b style=\"color: #45ce3d;\">1</b>, <b style=\"color: #45ce3d;\">1</b>, <b style=\"color: #828fdd;\">2</b>), inds=[<b style=\"color: #98b2e5;\">_6822d8AAABQ</b>, <b style=\"color: #d940a6;\">_6822d8AAABR</b>, <b style=\"color: #8aa5db;\">k1</b>], tags={<b style=\"color: #74d649;\">0</b>, <b style=\"color: #45ce3d;\">1</b>, <b style=\"color: #828fdd;\">2</b>, <b style=\"color: #8a5bcf;\">3</b>, <b style=\"color: #80d749;\">4</b>, <b style=\"color: #7355d7;\">5</b>, <b style=\"color: #a4de79;\">6</b>, <b style=\"color: #d19b78;\">I1</b>}),</summary>backend=<b style=\"color: #7fdd73;\">numpy</b>, dtype=<b style=\"color: #75d2c6;\">float64</b>, data=array([[[1., 0.]]])</details></samp><samp style='font-size: 12px;'><details><summary><b style=\"color: #e55471;\">Tensor</b>(shape=(<b style=\"color: #45ce3d;\">1</b>, <b style=\"color: #45ce3d;\">1</b>, <b style=\"color: #828fdd;\">2</b>), inds=[<b style=\"color: #d940a6;\">_6822d8AAABR</b>, <b style=\"color: #d59783;\">_6822d8AAABS</b>, <b style=\"color: #df546d;\">k2</b>], tags={<b style=\"color: #74d649;\">0</b>, <b style=\"color: #45ce3d;\">1</b>, <b style=\"color: #828fdd;\">2</b>, <b style=\"color: #8a5bcf;\">3</b>, <b style=\"color: #80d749;\">4</b>, <b style=\"color: #7355d7;\">5</b>, <b style=\"color: #a4de79;\">6</b>, <b style=\"color: #dd5dd7;\">I2</b>}),</summary>backend=<b style=\"color: #7fdd73;\">numpy</b>, dtype=<b style=\"color: #75d2c6;\">float64</b>, data=array([[[1., 0.]]])</details></samp><samp style='font-size: 12px;'><details><summary><b style=\"color: #e55471;\">Tensor</b>(shape=(<b style=\"color: #45ce3d;\">1</b>, <b style=\"color: #45ce3d;\">1</b>, <b style=\"color: #828fdd;\">2</b>), inds=[<b style=\"color: #d59783;\">_6822d8AAABS</b>, <b style=\"color: #e5c877;\">_6822d8AAABT</b>, <b style=\"color: #4c7be1;\">k3</b>], tags={<b style=\"color: #74d649;\">0</b>, <b style=\"color: #45ce3d;\">1</b>, <b style=\"color: #828fdd;\">2</b>, <b style=\"color: #8a5bcf;\">3</b>, <b style=\"color: #80d749;\">4</b>, <b style=\"color: #7355d7;\">5</b>, <b style=\"color: #a4de79;\">6</b>, <b style=\"color: #dd65d9;\">I3</b>}),</summary>backend=<b style=\"color: #7fdd73;\">numpy</b>, dtype=<b style=\"color: #75d2c6;\">float64</b>, data=array([[[1., 0.]]])</details></samp><samp style='font-size: 12px;'><details><summary><b style=\"color: #e55471;\">Tensor</b>(shape=(<b style=\"color: #45ce3d;\">1</b>, <b style=\"color: #45ce3d;\">1</b>, <b style=\"color: #828fdd;\">2</b>), inds=[<b style=\"color: #e5c877;\">_6822d8AAABT</b>, <b style=\"color: #3e47df;\">_6822d8AAABU</b>, <b style=\"color: #462edc;\">k4</b>], tags={<b style=\"color: #74d649;\">0</b>, <b style=\"color: #45ce3d;\">1</b>, <b style=\"color: #828fdd;\">2</b>, <b style=\"color: #8a5bcf;\">3</b>, <b style=\"color: #80d749;\">4</b>, <b style=\"color: #7355d7;\">5</b>, <b style=\"color: #a4de79;\">6</b>, <b style=\"color: #998ad1;\">I4</b>}),</summary>backend=<b style=\"color: #7fdd73;\">numpy</b>, dtype=<b style=\"color: #75d2c6;\">float64</b>, data=array([[[1., 0.]]])</details></samp><samp style='font-size: 12px;'><details><summary><b style=\"color: #e55471;\">Tensor</b>(shape=(<b style=\"color: #45ce3d;\">1</b>, <b style=\"color: #45ce3d;\">1</b>, <b style=\"color: #828fdd;\">2</b>), inds=[<b style=\"color: #3e47df;\">_6822d8AAABU</b>, <b style=\"color: #c5d53a;\">_6822d8AAABV</b>, <b style=\"color: #85dfdf;\">k5</b>], tags={<b style=\"color: #74d649;\">0</b>, <b style=\"color: #45ce3d;\">1</b>, <b style=\"color: #828fdd;\">2</b>, <b style=\"color: #8a5bcf;\">3</b>, <b style=\"color: #80d749;\">4</b>, <b style=\"color: #7355d7;\">5</b>, <b style=\"color: #a4de79;\">6</b>, <b style=\"color: #97dddc;\">I5</b>}),</summary>backend=<b style=\"color: #7fdd73;\">numpy</b>, dtype=<b style=\"color: #75d2c6;\">float64</b>, data=array([[[1., 0.]]])</details></samp><samp style='font-size: 12px;'><details><summary><b style=\"color: #e55471;\">Tensor</b>(shape=(<b style=\"color: #45ce3d;\">1</b>, <b style=\"color: #828fdd;\">2</b>), inds=[<b style=\"color: #c5d53a;\">_6822d8AAABV</b>, <b style=\"color: #2cb7d3;\">k6</b>], tags={<b style=\"color: #74d649;\">0</b>, <b style=\"color: #45ce3d;\">1</b>, <b style=\"color: #828fdd;\">2</b>, <b style=\"color: #8a5bcf;\">3</b>, <b style=\"color: #80d749;\">4</b>, <b style=\"color: #7355d7;\">5</b>, <b style=\"color: #a4de79;\">6</b>, <b style=\"color: #b2de5f;\">I6</b>}),</summary>backend=<b style=\"color: #7fdd73;\">numpy</b>, dtype=<b style=\"color: #75d2c6;\">float64</b>, data=array([[1., 0.]])</details></samp></details></samp>"
      ],
      "text/plain": [
       "MatrixProductState(tensors=7, indices=13, L=7, max_bond=2)"
      ]
     },
     "execution_count": 40,
     "metadata": {},
     "output_type": "execute_result"
    }
   ],
   "source": [
    "qtn.MPS_computational_state(\n",
    "    \"0\" * len(wires), tags=[str(l) for l in wires.labels]\n",
    ")"
   ]
  },
  {
   "cell_type": "code",
   "execution_count": 41,
   "metadata": {},
   "outputs": [
    {
     "data": {
      "text/html": [
       "<samp style='font-size: 12px;'><details><summary><b style=\"color: #d75692;\">MatrixProductState</b>(tensors=9, indices=17, L=9, max_bond=6)</summary><samp style='font-size: 12px;'><details><summary><b style=\"color: #e55471;\">Tensor</b>(shape=(<b style=\"color: #a4de79;\">6</b>, <b style=\"color: #828fdd;\">2</b>), inds=[<b style=\"color: #7c3ce4;\">_6822d8AAABW</b>, <b style=\"color: #b1dc61;\">k0</b>], tags={<b style=\"color: #d2b137;\">I0</b>}),</summary>backend=<b style=\"color: #7fdd73;\">numpy</b>, dtype=<b style=\"color: #75d2c6;\">float64</b>, data=array([[0., 0.],\n",
       "       [0., 0.],\n",
       "       [0., 0.],\n",
       "       [0., 0.],\n",
       "       [0., 0.],\n",
       "       [0., 0.]])</details></samp><samp style='font-size: 12px;'><details><summary><b style=\"color: #e55471;\">Tensor</b>(shape=(<b style=\"color: #a4de79;\">6</b>, <b style=\"color: #a4de79;\">6</b>, <b style=\"color: #828fdd;\">2</b>), inds=[<b style=\"color: #7c3ce4;\">_6822d8AAABW</b>, <b style=\"color: #ad93df;\">_6822d8AAABX</b>, <b style=\"color: #8aa5db;\">k1</b>], tags={<b style=\"color: #d19b78;\">I1</b>}),</summary>backend=<b style=\"color: #7fdd73;\">numpy</b>, dtype=<b style=\"color: #75d2c6;\">float64</b>, data=array([[[0., 0.],\n",
       "        [0., 0.],\n",
       "        [0., 0.],\n",
       "        [0., 0.],\n",
       "        [0., 0.],\n",
       "        [0., 0.]],\n",
       "\n",
       "       [[0., 0.],\n",
       "        [0., 0.],\n",
       "        [0., 0.],\n",
       "        [0., 0.],\n",
       "        [0., 0.],\n",
       "        [0., 0.]],\n",
       "\n",
       "       [[0., 0.],\n",
       "        [0., 0.],\n",
       "        [0., 0.],\n",
       "        [0., 0.],\n",
       "        [0., 0.],\n",
       "        [0., 0.]],\n",
       "\n",
       "       [[0., 0.],\n",
       "        [0., 0.],\n",
       "        [0., 0.],\n",
       "        [0., 0.],\n",
       "        [0., 0.],\n",
       "        [0., 0.]],\n",
       "\n",
       "       [[0., 0.],\n",
       "        [0., 0.],\n",
       "        [0., 0.],\n",
       "        [0., 0.],\n",
       "        [0., 0.],\n",
       "        [0., 0.]],\n",
       "\n",
       "       [[0., 0.],\n",
       "        [0., 0.],\n",
       "        [0., 0.],\n",
       "        [0., 0.],\n",
       "        [0., 0.],\n",
       "        [0., 0.]]])</details></samp><samp style='font-size: 12px;'><details><summary><b style=\"color: #e55471;\">Tensor</b>(shape=(<b style=\"color: #a4de79;\">6</b>, <b style=\"color: #a4de79;\">6</b>, <b style=\"color: #828fdd;\">2</b>), inds=[<b style=\"color: #ad93df;\">_6822d8AAABX</b>, <b style=\"color: #6b45d9;\">_6822d8AAABY</b>, <b style=\"color: #df546d;\">k2</b>], tags={<b style=\"color: #dd5dd7;\">I2</b>}),</summary>backend=<b style=\"color: #7fdd73;\">numpy</b>, dtype=<b style=\"color: #75d2c6;\">float64</b>, data=array([[[0., 0.],\n",
       "        [0., 0.],\n",
       "        [0., 0.],\n",
       "        [0., 0.],\n",
       "        [0., 0.],\n",
       "        [0., 0.]],\n",
       "\n",
       "       [[0., 0.],\n",
       "        [0., 0.],\n",
       "        [0., 0.],\n",
       "        [0., 0.],\n",
       "        [0., 0.],\n",
       "        [0., 0.]],\n",
       "\n",
       "       [[0., 0.],\n",
       "        [0., 0.],\n",
       "        [0., 0.],\n",
       "        [0., 0.],\n",
       "        [0., 0.],\n",
       "        [0., 0.]],\n",
       "\n",
       "       [[0., 0.],\n",
       "        [0., 0.],\n",
       "        [0., 0.],\n",
       "        [0., 0.],\n",
       "        [0., 0.],\n",
       "        [0., 0.]],\n",
       "\n",
       "       [[0., 0.],\n",
       "        [0., 0.],\n",
       "        [0., 0.],\n",
       "        [0., 0.],\n",
       "        [0., 0.],\n",
       "        [0., 0.]],\n",
       "\n",
       "       [[0., 0.],\n",
       "        [0., 0.],\n",
       "        [0., 0.],\n",
       "        [0., 0.],\n",
       "        [0., 0.],\n",
       "        [0., 0.]]])</details></samp><samp style='font-size: 12px;'><details><summary><b style=\"color: #e55471;\">Tensor</b>(shape=(<b style=\"color: #a4de79;\">6</b>, <b style=\"color: #a4de79;\">6</b>, <b style=\"color: #828fdd;\">2</b>), inds=[<b style=\"color: #6b45d9;\">_6822d8AAABY</b>, <b style=\"color: #e1b78c;\">_6822d8AAABZ</b>, <b style=\"color: #4c7be1;\">k3</b>], tags={<b style=\"color: #dd65d9;\">I3</b>}),</summary>backend=<b style=\"color: #7fdd73;\">numpy</b>, dtype=<b style=\"color: #75d2c6;\">float64</b>, data=array([[[0., 0.],\n",
       "        [0., 0.],\n",
       "        [0., 0.],\n",
       "        [0., 0.],\n",
       "        [0., 0.],\n",
       "        [0., 0.]],\n",
       "\n",
       "       [[0., 0.],\n",
       "        [0., 0.],\n",
       "        [0., 0.],\n",
       "        [0., 0.],\n",
       "        [0., 0.],\n",
       "        [0., 0.]],\n",
       "\n",
       "       [[0., 0.],\n",
       "        [0., 0.],\n",
       "        [0., 0.],\n",
       "        [0., 0.],\n",
       "        [0., 0.],\n",
       "        [0., 0.]],\n",
       "\n",
       "       [[0., 0.],\n",
       "        [0., 0.],\n",
       "        [0., 0.],\n",
       "        [0., 0.],\n",
       "        [0., 0.],\n",
       "        [0., 0.]],\n",
       "\n",
       "       [[0., 0.],\n",
       "        [0., 0.],\n",
       "        [0., 0.],\n",
       "        [0., 0.],\n",
       "        [0., 0.],\n",
       "        [0., 0.]],\n",
       "\n",
       "       [[0., 0.],\n",
       "        [0., 0.],\n",
       "        [0., 0.],\n",
       "        [0., 0.],\n",
       "        [0., 0.],\n",
       "        [0., 0.]]])</details></samp><samp style='font-size: 12px;'><details><summary><b style=\"color: #e55471;\">Tensor</b>(shape=(<b style=\"color: #a4de79;\">6</b>, <b style=\"color: #a4de79;\">6</b>, <b style=\"color: #828fdd;\">2</b>), inds=[<b style=\"color: #e1b78c;\">_6822d8AAABZ</b>, <b style=\"color: #6eddd0;\">_6822d8AAABa</b>, <b style=\"color: #462edc;\">k4</b>], tags={<b style=\"color: #998ad1;\">I4</b>}),</summary>backend=<b style=\"color: #7fdd73;\">numpy</b>, dtype=<b style=\"color: #75d2c6;\">float64</b>, data=array([[[0., 0.],\n",
       "        [0., 0.],\n",
       "        [0., 0.],\n",
       "        [0., 0.],\n",
       "        [0., 0.],\n",
       "        [0., 0.]],\n",
       "\n",
       "       [[0., 0.],\n",
       "        [0., 0.],\n",
       "        [0., 0.],\n",
       "        [0., 0.],\n",
       "        [0., 0.],\n",
       "        [0., 0.]],\n",
       "\n",
       "       [[0., 0.],\n",
       "        [0., 0.],\n",
       "        [0., 0.],\n",
       "        [0., 0.],\n",
       "        [0., 0.],\n",
       "        [0., 0.]],\n",
       "\n",
       "       [[0., 0.],\n",
       "        [0., 0.],\n",
       "        [0., 0.],\n",
       "        [0., 0.],\n",
       "        [0., 0.],\n",
       "        [0., 0.]],\n",
       "\n",
       "       [[0., 0.],\n",
       "        [0., 0.],\n",
       "        [0., 0.],\n",
       "        [0., 0.],\n",
       "        [0., 0.],\n",
       "        [0., 0.]],\n",
       "\n",
       "       [[0., 0.],\n",
       "        [0., 0.],\n",
       "        [0., 0.],\n",
       "        [0., 0.],\n",
       "        [0., 0.],\n",
       "        [0., 0.]]])</details></samp><samp style='font-size: 12px;'><details><summary><b style=\"color: #e55471;\">Tensor</b>(shape=(<b style=\"color: #a4de79;\">6</b>, <b style=\"color: #a4de79;\">6</b>, <b style=\"color: #828fdd;\">2</b>), inds=[<b style=\"color: #6eddd0;\">_6822d8AAABa</b>, <b style=\"color: #e3ac92;\">_6822d8AAABb</b>, <b style=\"color: #85dfdf;\">k5</b>], tags={<b style=\"color: #97dddc;\">I5</b>}),</summary>backend=<b style=\"color: #7fdd73;\">numpy</b>, dtype=<b style=\"color: #75d2c6;\">float64</b>, data=array([[[0., 0.],\n",
       "        [0., 0.],\n",
       "        [0., 0.],\n",
       "        [0., 0.],\n",
       "        [0., 0.],\n",
       "        [0., 0.]],\n",
       "\n",
       "       [[0., 0.],\n",
       "        [0., 0.],\n",
       "        [0., 0.],\n",
       "        [0., 0.],\n",
       "        [0., 0.],\n",
       "        [0., 0.]],\n",
       "\n",
       "       [[0., 0.],\n",
       "        [0., 0.],\n",
       "        [0., 0.],\n",
       "        [0., 0.],\n",
       "        [0., 0.],\n",
       "        [0., 0.]],\n",
       "\n",
       "       [[0., 0.],\n",
       "        [0., 0.],\n",
       "        [0., 0.],\n",
       "        [0., 0.],\n",
       "        [0., 0.],\n",
       "        [0., 0.]],\n",
       "\n",
       "       [[0., 0.],\n",
       "        [0., 0.],\n",
       "        [0., 0.],\n",
       "        [0., 0.],\n",
       "        [0., 0.],\n",
       "        [0., 0.]],\n",
       "\n",
       "       [[0., 0.],\n",
       "        [0., 0.],\n",
       "        [0., 0.],\n",
       "        [0., 0.],\n",
       "        [0., 0.],\n",
       "        [0., 0.]]])</details></samp><samp style='font-size: 12px;'><details><summary><b style=\"color: #e55471;\">Tensor</b>(shape=(<b style=\"color: #a4de79;\">6</b>, <b style=\"color: #a4de79;\">6</b>, <b style=\"color: #828fdd;\">2</b>), inds=[<b style=\"color: #e3ac92;\">_6822d8AAABb</b>, <b style=\"color: #82a1d4;\">_6822d8AAABc</b>, <b style=\"color: #2cb7d3;\">k6</b>], tags={<b style=\"color: #b2de5f;\">I6</b>}),</summary>backend=<b style=\"color: #7fdd73;\">numpy</b>, dtype=<b style=\"color: #75d2c6;\">float64</b>, data=array([[[0., 0.],\n",
       "        [0., 0.],\n",
       "        [0., 0.],\n",
       "        [0., 0.],\n",
       "        [0., 0.],\n",
       "        [0., 0.]],\n",
       "\n",
       "       [[0., 0.],\n",
       "        [0., 0.],\n",
       "        [0., 0.],\n",
       "        [0., 0.],\n",
       "        [0., 0.],\n",
       "        [0., 0.]],\n",
       "\n",
       "       [[0., 0.],\n",
       "        [0., 0.],\n",
       "        [0., 0.],\n",
       "        [0., 0.],\n",
       "        [0., 0.],\n",
       "        [0., 0.]],\n",
       "\n",
       "       [[0., 0.],\n",
       "        [0., 0.],\n",
       "        [0., 0.],\n",
       "        [0., 0.],\n",
       "        [0., 0.],\n",
       "        [0., 0.]],\n",
       "\n",
       "       [[0., 0.],\n",
       "        [0., 0.],\n",
       "        [0., 0.],\n",
       "        [0., 0.],\n",
       "        [0., 0.],\n",
       "        [0., 0.]],\n",
       "\n",
       "       [[0., 0.],\n",
       "        [0., 0.],\n",
       "        [0., 0.],\n",
       "        [0., 0.],\n",
       "        [0., 0.],\n",
       "        [0., 0.]]])</details></samp><samp style='font-size: 12px;'><details><summary><b style=\"color: #e55471;\">Tensor</b>(shape=(<b style=\"color: #a4de79;\">6</b>, <b style=\"color: #a4de79;\">6</b>, <b style=\"color: #828fdd;\">2</b>), inds=[<b style=\"color: #82a1d4;\">_6822d8AAABc</b>, <b style=\"color: #bbd62f;\">_6822d8AAABd</b>, <b style=\"color: #53e08f;\">k7</b>], tags={<b style=\"color: #5582d6;\">I7</b>}),</summary>backend=<b style=\"color: #7fdd73;\">numpy</b>, dtype=<b style=\"color: #75d2c6;\">float64</b>, data=array([[[0., 0.],\n",
       "        [0., 0.],\n",
       "        [0., 0.],\n",
       "        [0., 0.],\n",
       "        [0., 0.],\n",
       "        [0., 0.]],\n",
       "\n",
       "       [[0., 0.],\n",
       "        [0., 0.],\n",
       "        [0., 0.],\n",
       "        [0., 0.],\n",
       "        [0., 0.],\n",
       "        [0., 0.]],\n",
       "\n",
       "       [[0., 0.],\n",
       "        [0., 0.],\n",
       "        [0., 0.],\n",
       "        [0., 0.],\n",
       "        [0., 0.],\n",
       "        [0., 0.]],\n",
       "\n",
       "       [[0., 0.],\n",
       "        [0., 0.],\n",
       "        [0., 0.],\n",
       "        [0., 0.],\n",
       "        [0., 0.],\n",
       "        [0., 0.]],\n",
       "\n",
       "       [[0., 0.],\n",
       "        [0., 0.],\n",
       "        [0., 0.],\n",
       "        [0., 0.],\n",
       "        [0., 0.],\n",
       "        [0., 0.]],\n",
       "\n",
       "       [[0., 0.],\n",
       "        [0., 0.],\n",
       "        [0., 0.],\n",
       "        [0., 0.],\n",
       "        [0., 0.],\n",
       "        [0., 0.]]])</details></samp><samp style='font-size: 12px;'><details><summary><b style=\"color: #e55471;\">Tensor</b>(shape=(<b style=\"color: #a4de79;\">6</b>, <b style=\"color: #828fdd;\">2</b>), inds=[<b style=\"color: #bbd62f;\">_6822d8AAABd</b>, <b style=\"color: #7bcd9f;\">k8</b>], tags={<b style=\"color: #8a3dd8;\">I8</b>}),</summary>backend=<b style=\"color: #7fdd73;\">numpy</b>, dtype=<b style=\"color: #75d2c6;\">float64</b>, data=array([[0., 0.],\n",
       "       [0., 0.],\n",
       "       [0., 0.],\n",
       "       [0., 0.],\n",
       "       [0., 0.],\n",
       "       [0., 0.]])</details></samp></details></samp>"
      ],
      "text/plain": [
       "MatrixProductState(tensors=9, indices=17, L=9, max_bond=6)"
      ]
     },
     "execution_count": 41,
     "metadata": {},
     "output_type": "execute_result"
    }
   ],
   "source": [
    "qtn.MPS_zero_state(bond_dim=6, L=9)"
   ]
  },
  {
   "cell_type": "code",
   "execution_count": 42,
   "metadata": {},
   "outputs": [
    {
     "data": {
      "text/html": [
       "<samp style='font-size: 12px;'><details><summary><b style=\"color: #d75692;\">MatrixProductState</b>(tensors=9, indices=17, L=9, max_bond=6)</summary><samp style='font-size: 12px;'><details><summary><b style=\"color: #e55471;\">Tensor</b>(shape=(<b style=\"color: #a4de79;\">6</b>, <b style=\"color: #828fdd;\">2</b>), inds=[<b style=\"color: #e3817b;\">_6822d8AAABe</b>, <b style=\"color: #b1dc61;\">k0</b>], tags={<b style=\"color: #d2b137;\">I0</b>}),</summary>backend=<b style=\"color: #7fdd73;\">numpy</b>, dtype=<b style=\"color: #75d2c6;\">float64</b>, data=array([[-0.16887793, -0.31186992],\n",
       "       [ 0.04167269, -0.15293155],\n",
       "       [ 0.18706486, -0.01786178],\n",
       "       [-0.22350113,  0.1874875 ],\n",
       "       [-0.96794898,  0.19449406],\n",
       "       [-0.68537773, -0.29858159]])</details></samp><samp style='font-size: 12px;'><details><summary><b style=\"color: #e55471;\">Tensor</b>(shape=(<b style=\"color: #a4de79;\">6</b>, <b style=\"color: #a4de79;\">6</b>, <b style=\"color: #828fdd;\">2</b>), inds=[<b style=\"color: #e3817b;\">_6822d8AAABe</b>, <b style=\"color: #d0a98a;\">_6822d8AAABf</b>, <b style=\"color: #8aa5db;\">k1</b>], tags={<b style=\"color: #d19b78;\">I1</b>}),</summary>backend=<b style=\"color: #7fdd73;\">numpy</b>, dtype=<b style=\"color: #75d2c6;\">float64</b>, data=array([[[ 4.87052640e-01,  3.81736606e-01],\n",
       "        [-1.58444644e-02,  3.07627106e-01],\n",
       "        [-1.21315703e-01, -1.01688223e-02],\n",
       "        [ 2.93489132e-01, -1.22197602e-01],\n",
       "        [-2.55446211e-01,  2.59712772e-01],\n",
       "        [-1.61251763e-01,  1.00443139e-01]],\n",
       "\n",
       "       [[ 2.30966546e-01,  7.06219880e-01],\n",
       "        [-5.88425424e-01, -1.86295280e-01],\n",
       "        [-3.07216771e-01,  3.77477653e-01],\n",
       "        [-3.52990944e-01,  2.56587394e-01],\n",
       "        [-4.02853067e-01, -5.53494592e-02],\n",
       "        [ 3.63129815e-01,  2.61725855e-04]],\n",
       "\n",
       "       [[ 4.17132555e-01,  1.99985636e-01],\n",
       "        [ 3.35962432e-03,  2.16209851e-01],\n",
       "        [-4.61517164e-02,  4.93373367e-01],\n",
       "        [-1.28660803e-01, -5.05860605e-03],\n",
       "        [-4.57513290e-01, -3.66040220e-01],\n",
       "        [-6.69265226e-02, -2.08831473e-01]],\n",
       "\n",
       "       [[ 1.03081792e+00, -4.37890342e-01],\n",
       "        [ 1.81925823e-01,  1.87156719e-02],\n",
       "        [ 3.00826528e-01,  9.64607603e-01],\n",
       "        [-2.82602744e-02,  1.24067722e-01],\n",
       "        [-8.42952562e-02,  5.06787802e-01],\n",
       "        [ 1.16215749e-02,  6.17815434e-01]],\n",
       "\n",
       "       [[-1.98274369e-01, -3.14069793e-01],\n",
       "        [ 2.04439377e-02, -2.32146116e-01],\n",
       "        [-3.69135231e-01,  7.86369860e-01],\n",
       "        [-1.07935380e-01,  5.35551224e-01],\n",
       "        [-1.10835315e-01,  4.99947919e-01],\n",
       "        [ 2.93759058e-01, -1.11204758e-01]],\n",
       "\n",
       "       [[-7.50218187e-02,  1.45497317e-01],\n",
       "        [ 5.00059532e-02,  3.93422351e-01],\n",
       "        [-1.07361220e-01, -2.20993248e-02],\n",
       "        [-1.26247142e-01, -4.33459495e-01],\n",
       "        [-4.00409614e-02, -8.48935243e-02],\n",
       "        [ 4.20096289e-01,  3.86873405e-01]]])</details></samp><samp style='font-size: 12px;'><details><summary><b style=\"color: #e55471;\">Tensor</b>(shape=(<b style=\"color: #a4de79;\">6</b>, <b style=\"color: #a4de79;\">6</b>, <b style=\"color: #828fdd;\">2</b>), inds=[<b style=\"color: #d0a98a;\">_6822d8AAABf</b>, <b style=\"color: #cd665e;\">_6822d8AAABg</b>, <b style=\"color: #df546d;\">k2</b>], tags={<b style=\"color: #dd5dd7;\">I2</b>}),</summary>backend=<b style=\"color: #7fdd73;\">numpy</b>, dtype=<b style=\"color: #75d2c6;\">float64</b>, data=array([[[ 0.18960556, -0.52042286],\n",
       "        [-0.72845978,  0.27029678],\n",
       "        [ 0.38328582,  0.13374575],\n",
       "        [ 0.15550074,  0.477453  ],\n",
       "        [-0.27170742,  0.93137014],\n",
       "        [ 0.10214353, -0.3721602 ]],\n",
       "\n",
       "       [[-0.06454021,  0.04988969],\n",
       "        [-0.34440919, -0.09135123],\n",
       "        [ 0.10916566, -0.3207395 ],\n",
       "        [ 0.21062376,  0.65985624],\n",
       "        [ 0.12173362,  0.0275821 ],\n",
       "        [ 0.11403974, -0.14738375]],\n",
       "\n",
       "       [[ 0.45528658,  0.08376864],\n",
       "        [ 0.11040838, -0.57081018],\n",
       "        [-0.3255498 ,  0.35788392],\n",
       "        [ 0.12596447, -0.09586082],\n",
       "        [ 0.00710335, -0.15356293],\n",
       "        [ 0.21585158, -0.15934971]],\n",
       "\n",
       "       [[ 0.04983303,  0.48872981],\n",
       "        [ 0.18923693, -0.47308947],\n",
       "        [-0.66995737, -0.44038972],\n",
       "        [ 0.27040106,  0.24233818],\n",
       "        [ 0.30791556,  0.53343432],\n",
       "        [ 0.45384675,  0.00435869]],\n",
       "\n",
       "       [[ 0.22520461,  0.42175384],\n",
       "        [ 0.1019    ,  0.29097232],\n",
       "        [-0.1095469 , -0.06513866],\n",
       "        [-0.21833595,  0.15895345],\n",
       "        [-0.02697907, -0.08655758],\n",
       "        [-0.35396326,  0.26024   ]],\n",
       "\n",
       "       [[ 0.54800345,  0.02218427],\n",
       "        [-0.39753272,  0.31809505],\n",
       "        [ 0.1290766 ,  0.00777133],\n",
       "        [ 0.3350565 , -0.02370109],\n",
       "        [-0.42589349,  0.10694436],\n",
       "        [ 0.18867079, -0.11839042]]])</details></samp><samp style='font-size: 12px;'><details><summary><b style=\"color: #e55471;\">Tensor</b>(shape=(<b style=\"color: #a4de79;\">6</b>, <b style=\"color: #a4de79;\">6</b>, <b style=\"color: #828fdd;\">2</b>), inds=[<b style=\"color: #cd665e;\">_6822d8AAABg</b>, <b style=\"color: #8bd7a5;\">_6822d8AAABh</b>, <b style=\"color: #4c7be1;\">k3</b>], tags={<b style=\"color: #dd65d9;\">I3</b>}),</summary>backend=<b style=\"color: #7fdd73;\">numpy</b>, dtype=<b style=\"color: #75d2c6;\">float64</b>, data=array([[[-0.31402447,  0.40847376],\n",
       "        [-0.41061873,  0.18219476],\n",
       "        [ 0.10779307, -0.06806839],\n",
       "        [-0.29399954,  0.15623389],\n",
       "        [-0.2620504 ,  0.33410759],\n",
       "        [-0.25678287,  0.03088237]],\n",
       "\n",
       "       [[-0.32197647, -0.35019171],\n",
       "        [ 0.35657874, -0.07340566],\n",
       "        [-0.24757646,  0.43964481],\n",
       "        [ 0.17691204, -0.1850528 ],\n",
       "        [ 0.16229721,  0.26919306],\n",
       "        [ 0.27660203, -0.60282063]],\n",
       "\n",
       "       [[-0.48302441,  0.25598823],\n",
       "        [-0.38468518,  0.42105938],\n",
       "        [-0.3659937 , -0.3716977 ],\n",
       "        [ 0.43081026,  0.45016469],\n",
       "        [ 0.04310699,  0.29664381],\n",
       "        [-0.18954196,  0.37544854]],\n",
       "\n",
       "       [[ 0.08928491, -0.59481274],\n",
       "        [ 0.60641235, -0.56014822],\n",
       "        [-0.02774148, -0.24368406],\n",
       "        [ 0.16465292,  0.28355679],\n",
       "        [ 0.56290041,  0.09417186],\n",
       "        [-0.09933131,  0.06628408]],\n",
       "\n",
       "       [[ 0.40062936,  0.50202993],\n",
       "        [ 0.05383822,  0.30520446],\n",
       "        [-0.50483512, -0.01984789],\n",
       "        [ 0.14392284, -0.01175013],\n",
       "        [-0.11046565,  0.05211231],\n",
       "        [-0.06054054,  0.45190815]],\n",
       "\n",
       "       [[-0.05723926,  0.15592756],\n",
       "        [-0.2311324 , -0.21176571],\n",
       "        [ 0.00488696,  0.38994348],\n",
       "        [-0.43446318, -0.02385301],\n",
       "        [-0.43367501, -0.22043385],\n",
       "        [ 0.07007225, -0.27614609]]])</details></samp><samp style='font-size: 12px;'><details><summary><b style=\"color: #e55471;\">Tensor</b>(shape=(<b style=\"color: #a4de79;\">6</b>, <b style=\"color: #a4de79;\">6</b>, <b style=\"color: #828fdd;\">2</b>), inds=[<b style=\"color: #8bd7a5;\">_6822d8AAABh</b>, <b style=\"color: #e335e1;\">_6822d8AAABi</b>, <b style=\"color: #462edc;\">k4</b>], tags={<b style=\"color: #998ad1;\">I4</b>}),</summary>backend=<b style=\"color: #7fdd73;\">numpy</b>, dtype=<b style=\"color: #75d2c6;\">float64</b>, data=array([[[-0.45300634,  0.69111457],\n",
       "        [-0.71158281, -0.07656538],\n",
       "        [ 0.48980385,  0.05957318],\n",
       "        [ 0.39767606, -0.25857629],\n",
       "        [-0.29113463, -0.11403742],\n",
       "        [ 0.14360468, -0.29836652]],\n",
       "\n",
       "       [[ 0.07263546,  0.55033441],\n",
       "        [-0.40888357, -0.07953497],\n",
       "        [ 0.09206224,  0.10093224],\n",
       "        [-0.54352949,  0.21723035],\n",
       "        [-0.41476854,  0.21761155],\n",
       "        [ 0.05235367, -0.05869408]],\n",
       "\n",
       "       [[-0.42555425,  0.25160265],\n",
       "        [ 0.1464357 , -0.06581612],\n",
       "        [-0.19012289,  0.45453869],\n",
       "        [ 0.21638672,  0.37179584],\n",
       "        [ 0.25490704, -0.3240488 ],\n",
       "        [-0.20025446,  0.29792969]],\n",
       "\n",
       "       [[ 0.43125189, -0.47179276],\n",
       "        [-0.04117272,  0.4328414 ],\n",
       "        [-0.58345669, -0.25980472],\n",
       "        [-0.15245077, -0.21218708],\n",
       "        [-0.3836353 , -0.15640429],\n",
       "        [ 0.13347409, -0.22656567]],\n",
       "\n",
       "       [[ 0.04487776, -0.2431008 ],\n",
       "        [-0.11886343, -0.21430933],\n",
       "        [-0.45726596,  0.18651612],\n",
       "        [-0.15073194, -0.23489092],\n",
       "        [ 0.11954269, -0.43736521],\n",
       "        [-0.08304715,  0.07152035]],\n",
       "\n",
       "       [[-0.38141146, -0.09610724],\n",
       "        [ 0.09024293, -0.3187497 ],\n",
       "        [ 0.73098472,  0.02934154],\n",
       "        [ 0.27561709, -0.54382973],\n",
       "        [-1.00444078,  0.10025643],\n",
       "        [-0.09795546, -0.33015585]]])</details></samp><samp style='font-size: 12px;'><details><summary><b style=\"color: #e55471;\">Tensor</b>(shape=(<b style=\"color: #a4de79;\">6</b>, <b style=\"color: #a4de79;\">6</b>, <b style=\"color: #828fdd;\">2</b>), inds=[<b style=\"color: #e335e1;\">_6822d8AAABi</b>, <b style=\"color: #5c33de;\">_6822d8AAABj</b>, <b style=\"color: #85dfdf;\">k5</b>], tags={<b style=\"color: #97dddc;\">I5</b>}),</summary>backend=<b style=\"color: #7fdd73;\">numpy</b>, dtype=<b style=\"color: #75d2c6;\">float64</b>, data=array([[[-0.65446607,  0.37102831],\n",
       "        [-0.49547478,  0.39818662],\n",
       "        [ 0.28165172, -0.20589897],\n",
       "        [ 0.88216416,  0.55016865],\n",
       "        [-0.07032007,  0.00301648],\n",
       "        [-0.00436182, -0.19153244]],\n",
       "\n",
       "       [[ 0.57191791,  0.6445597 ],\n",
       "        [-0.07160226, -0.14184029],\n",
       "        [-0.36804555,  0.19042897],\n",
       "        [ 0.11544251,  0.39194613],\n",
       "        [-0.36231329, -0.50161168],\n",
       "        [-0.58076812,  0.68070321]],\n",
       "\n",
       "       [[ 0.13562998,  0.28059373],\n",
       "        [ 0.11515651,  0.07935716],\n",
       "        [-0.4237806 , -0.26844492],\n",
       "        [-0.35399501, -0.54704145],\n",
       "        [-0.4923402 ,  0.25723301],\n",
       "        [-0.18508686, -0.42861257]],\n",
       "\n",
       "       [[ 0.19781595, -0.22127739],\n",
       "        [ 0.3792454 ,  0.25094086],\n",
       "        [ 0.31117962,  0.32454868],\n",
       "        [ 0.41765105, -0.38595408],\n",
       "        [-0.24168353,  0.04345153],\n",
       "        [-0.36961745, -0.26907727]],\n",
       "\n",
       "       [[-0.41491618, -0.24065171],\n",
       "        [ 0.5449859 , -0.18572786],\n",
       "        [ 0.17096951,  0.50592605],\n",
       "        [ 0.23349083, -0.1123314 ],\n",
       "        [-0.27249376, -0.4363906 ],\n",
       "        [ 0.37112287, -0.15169742]],\n",
       "\n",
       "       [[ 0.46314911,  0.12277158],\n",
       "        [ 0.21839716, -0.12746831],\n",
       "        [ 0.0958734 , -0.71094222],\n",
       "        [ 0.19931287,  0.02570597],\n",
       "        [ 0.02165437,  0.07091189],\n",
       "        [-0.18197956,  0.32116208]]])</details></samp><samp style='font-size: 12px;'><details><summary><b style=\"color: #e55471;\">Tensor</b>(shape=(<b style=\"color: #a4de79;\">6</b>, <b style=\"color: #a4de79;\">6</b>, <b style=\"color: #828fdd;\">2</b>), inds=[<b style=\"color: #5c33de;\">_6822d8AAABj</b>, <b style=\"color: #578fd5;\">_6822d8AAABk</b>, <b style=\"color: #2cb7d3;\">k6</b>], tags={<b style=\"color: #b2de5f;\">I6</b>}),</summary>backend=<b style=\"color: #7fdd73;\">numpy</b>, dtype=<b style=\"color: #75d2c6;\">float64</b>, data=array([[[-0.39880743,  0.21242396],\n",
       "        [-0.1679314 ,  0.37528173],\n",
       "        [ 0.29078024, -0.35001752],\n",
       "        [ 0.67293591,  0.40898559],\n",
       "        [ 0.03991228,  0.0448766 ],\n",
       "        [-0.01273226, -0.0306428 ]],\n",
       "\n",
       "       [[ 0.60735979, -0.01235141],\n",
       "        [-0.37851179,  0.78874816],\n",
       "        [ 0.18173083,  0.47325127],\n",
       "        [-0.22942152,  0.04603538],\n",
       "        [ 0.33010735,  0.17692932],\n",
       "        [ 0.311603  ,  0.19080382]],\n",
       "\n",
       "       [[ 0.09572373,  0.53107918],\n",
       "        [ 0.25263326, -0.28028042],\n",
       "        [ 0.67772374,  0.11927362],\n",
       "        [-0.29753107,  0.20048193],\n",
       "        [-0.24965907, -0.4694853 ],\n",
       "        [-0.39621705,  0.13464019]],\n",
       "\n",
       "       [[-0.41735788, -0.02069518],\n",
       "        [ 0.57539021, -0.02487538],\n",
       "        [ 0.44678369, -0.45625621],\n",
       "        [-0.04895187,  0.37696161],\n",
       "        [-0.03874703, -0.4917514 ],\n",
       "        [-0.68516711,  0.01351649]],\n",
       "\n",
       "       [[-0.16237625,  0.09000389],\n",
       "        [-0.07419148, -0.37939616],\n",
       "        [-0.17222808,  0.09377038],\n",
       "        [ 0.07620282, -0.39263981],\n",
       "        [ 0.3361136 ,  0.26838548],\n",
       "        [-0.29651981,  0.63969694]],\n",
       "\n",
       "       [[-0.16238026, -0.30519938],\n",
       "        [ 0.16337353,  0.37499348],\n",
       "        [ 0.14231622,  0.25376885],\n",
       "        [-0.95026371,  0.02175467],\n",
       "        [ 0.38837921, -0.31620583],\n",
       "        [ 0.53415819,  0.61960261]]])</details></samp><samp style='font-size: 12px;'><details><summary><b style=\"color: #e55471;\">Tensor</b>(shape=(<b style=\"color: #a4de79;\">6</b>, <b style=\"color: #a4de79;\">6</b>, <b style=\"color: #828fdd;\">2</b>), inds=[<b style=\"color: #578fd5;\">_6822d8AAABk</b>, <b style=\"color: #9ae576;\">_6822d8AAABl</b>, <b style=\"color: #53e08f;\">k7</b>], tags={<b style=\"color: #5582d6;\">I7</b>}),</summary>backend=<b style=\"color: #7fdd73;\">numpy</b>, dtype=<b style=\"color: #75d2c6;\">float64</b>, data=array([[[-0.19672975,  0.50196872],\n",
       "        [ 0.29085615,  0.10841463],\n",
       "        [-0.234977  , -0.2287834 ],\n",
       "        [ 0.46216001,  0.6500445 ],\n",
       "        [ 0.00129376,  0.87029221],\n",
       "        [-0.40264374, -0.00217553]],\n",
       "\n",
       "       [[ 0.4041305 ,  0.40410601],\n",
       "        [-0.04460495, -0.17023841],\n",
       "        [-0.71641463, -0.36982285],\n",
       "        [ 0.19794832,  0.63523227],\n",
       "        [-0.32386595,  0.10555071],\n",
       "        [-0.01239032,  0.14604062]],\n",
       "\n",
       "       [[ 0.07694391, -0.18732174],\n",
       "        [-0.18059199, -0.35829364],\n",
       "        [-0.04134712, -0.95509696],\n",
       "        [-0.22211862,  0.17736993],\n",
       "        [ 0.11535937, -0.09297611],\n",
       "        [-0.34049087,  0.11872887]],\n",
       "\n",
       "       [[ 0.00300453,  0.20684581],\n",
       "        [ 0.16650432,  0.32742314],\n",
       "        [-0.40762471,  0.39225845],\n",
       "        [ 0.14569158, -0.10175711],\n",
       "        [-0.03055405,  0.30485725],\n",
       "        [ 0.40724999,  0.16410831]],\n",
       "\n",
       "       [[ 0.09340575, -0.53264124],\n",
       "        [-0.12629684, -0.12760479],\n",
       "        [-0.10215451,  0.59156405],\n",
       "        [ 0.10238848, -0.23321828],\n",
       "        [-0.49809559,  0.05782648],\n",
       "        [-0.42699122,  0.26743672]],\n",
       "\n",
       "       [[ 0.6037859 ,  0.75184325],\n",
       "        [-0.02952225,  0.21429583],\n",
       "        [ 0.13262237, -0.54109869],\n",
       "        [ 0.22999543,  0.09467853],\n",
       "        [-0.34431267,  0.2089356 ],\n",
       "        [-0.51719276,  0.41104026]]])</details></samp><samp style='font-size: 12px;'><details><summary><b style=\"color: #e55471;\">Tensor</b>(shape=(<b style=\"color: #a4de79;\">6</b>, <b style=\"color: #828fdd;\">2</b>), inds=[<b style=\"color: #9ae576;\">_6822d8AAABl</b>, <b style=\"color: #7bcd9f;\">k8</b>], tags={<b style=\"color: #8a3dd8;\">I8</b>}),</summary>backend=<b style=\"color: #7fdd73;\">numpy</b>, dtype=<b style=\"color: #75d2c6;\">float64</b>, data=array([[-0.24305011,  0.10324139],\n",
       "       [ 0.10458083,  0.14541013],\n",
       "       [ 0.17739399,  0.19475165],\n",
       "       [ 0.10322566,  0.10608727],\n",
       "       [-0.03743428, -0.20384504],\n",
       "       [-0.10533377, -0.15549697]])</details></samp></details></samp>"
      ],
      "text/plain": [
       "MatrixProductState(tensors=9, indices=17, L=9, max_bond=6)"
      ]
     },
     "execution_count": 42,
     "metadata": {},
     "output_type": "execute_result"
    }
   ],
   "source": [
    "qtn.MPS_rand_state(L=9, bond_dim=6)"
   ]
  },
  {
   "cell_type": "code",
   "execution_count": null,
   "metadata": {},
   "outputs": [],
   "source": []
  }
 ],
 "metadata": {
  "kernelspec": {
   "display_name": "PennyLane",
   "language": "python",
   "name": "python3"
  },
  "language_info": {
   "codemirror_mode": {
    "name": "ipython",
    "version": 3
   },
   "file_extension": ".py",
   "mimetype": "text/x-python",
   "name": "python",
   "nbconvert_exporter": "python",
   "pygments_lexer": "ipython3",
   "version": "3.9.7"
  }
 },
 "nbformat": 4,
 "nbformat_minor": 2
}
