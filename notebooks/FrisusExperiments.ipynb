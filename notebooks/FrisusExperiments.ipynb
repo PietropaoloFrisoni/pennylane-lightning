{
 "cells": [
  {
   "cell_type": "markdown",
   "metadata": {},
   "source": [
    "# Understanding the execution flow from `LightningQubit`"
   ]
  },
  {
   "cell_type": "code",
   "execution_count": 1,
   "metadata": {},
   "outputs": [
    {
     "name": "stderr",
     "output_type": "stream",
     "text": [
      "/home/pietropaolo.frisoni/anaconda3/envs/PennyLane/lib/python3.9/site-packages/cotengra/hyperoptimizers/hyper.py:34: UserWarning: Couldn't import `kahypar` - skipping from default hyper optimizer and using basic `labels` method instead.\n",
      "  warnings.warn(\n"
     ]
    }
   ],
   "source": [
    "from typing import Iterable, Union\n",
    "import quimb.tensor as qtn\n",
    "import pennylane as qml\n",
    "from pennylane.wires import Wires\n",
    "import numpy as np"
   ]
  },
  {
   "cell_type": "markdown",
   "metadata": {},
   "source": [
    "## Approach 1: choosing a tape"
   ]
  },
  {
   "cell_type": "code",
   "execution_count": 2,
   "metadata": {},
   "outputs": [],
   "source": [
    "theta = 0.1\n",
    "phi = 0.2\n",
    "\n",
    "O1 = qml.Identity(wires=[0])\n",
    "O2 = qml.PauliZ(wires=[1])\n",
    "\n",
    "ops = [\n",
    "    qml.DoubleExcitation(phi, wires=[12, 11, 0, 9]),\n",
    "    qml.PauliX(wires=[0]),\n",
    "    qml.RX(theta, wires=[0]),\n",
    "    qml.qml.CSWAP(wires=[7, 0, 5]),\n",
    "    qml.RX(phi, wires=[1]),\n",
    "    qml.CNOT(wires=[3, 4]),\n",
    "    qml.DoubleExcitation(phi, wires=[1, 2, 3, 4]),\n",
    "    qml.qml.CSWAP(wires=[0, 1, 2]),\n",
    "    qml.Hadamard(wires=[4]),\n",
    "    qml.qml.CSWAP(wires=[2, 3, 4]),\n",
    "    qml.CNOT(wires=[2, 4]),\n",
    "    qml.DoubleExcitation(phi, wires=[0, 1, 3, 4]),\n",
    "]\n",
    "\n",
    "meas = [\n",
    "    qml.expval(O2),\n",
    "    qml.expval(O2),\n",
    "    qml.var(qml.PauliY(wires=[2])),\n",
    "    qml.expval(O1),\n",
    "    qml.var(qml.PauliY(wires=[4])),\n",
    "]\n",
    "\n",
    "\n",
    "tape = qml.tape.QuantumScript(ops=ops, measurements=meas)"
   ]
  },
  {
   "cell_type": "code",
   "execution_count": 3,
   "metadata": {},
   "outputs": [
    {
     "data": {
      "text/plain": [
       "<Wires = [12, 11, 0, 9, 7, 5, 1, 3, 4, 2]>"
      ]
     },
     "execution_count": 3,
     "metadata": {},
     "output_type": "execute_result"
    }
   ],
   "source": [
    "tape.wires"
   ]
  },
  {
   "cell_type": "code",
   "execution_count": 4,
   "metadata": {},
   "outputs": [
    {
     "data": {
      "text/plain": [
       "[DoubleExcitation(0.2, wires=[12, 11, 0, 9]),\n",
       " X(0),\n",
       " RX(0.1, wires=[0]),\n",
       " CSWAP(wires=[7, 0, 5]),\n",
       " RX(0.2, wires=[1]),\n",
       " CNOT(wires=[3, 4]),\n",
       " DoubleExcitation(0.2, wires=[1, 2, 3, 4]),\n",
       " CSWAP(wires=[0, 1, 2]),\n",
       " Hadamard(wires=[4]),\n",
       " CSWAP(wires=[2, 3, 4]),\n",
       " CNOT(wires=[2, 4]),\n",
       " DoubleExcitation(0.2, wires=[0, 1, 3, 4])]"
      ]
     },
     "execution_count": 4,
     "metadata": {},
     "output_type": "execute_result"
    }
   ],
   "source": [
    "tape.operations"
   ]
  },
  {
   "cell_type": "code",
   "execution_count": 5,
   "metadata": {},
   "outputs": [
    {
     "data": {
      "text/plain": [
       "[Z(1), Z(1), Y(2), I(0), Y(4)]"
      ]
     },
     "execution_count": 5,
     "metadata": {},
     "output_type": "execute_result"
    }
   ],
   "source": [
    "tape.observables"
   ]
  },
  {
   "cell_type": "code",
   "execution_count": 6,
   "metadata": {},
   "outputs": [
    {
     "data": {
      "text/plain": [
       "[expval(Z(1)), expval(Z(1)), var(Y(2)), expval(I(0)), var(Y(4))]"
      ]
     },
     "execution_count": 6,
     "metadata": {},
     "output_type": "execute_result"
    }
   ],
   "source": [
    "tape.measurements"
   ]
  },
  {
   "cell_type": "code",
   "execution_count": 7,
   "metadata": {},
   "outputs": [
    {
     "data": {
      "text/plain": [
       "<Wires = [12, 11, 0, 9, 7, 5, 1, 3, 4, 2]>"
      ]
     },
     "execution_count": 7,
     "metadata": {},
     "output_type": "execute_result"
    }
   ],
   "source": [
    "tape.wires"
   ]
  },
  {
   "cell_type": "code",
   "execution_count": 8,
   "metadata": {},
   "outputs": [
    {
     "name": "stdout",
     "output_type": "stream",
     "text": [
      "Frisus log: execute called with:\n",
      "execution_config=ExecutionConfig(grad_on_execution=None, use_device_gradient=None, use_device_jacobian_product=None, gradient_method=None, gradient_keyword_arguments={}, device_options={}, interface=None, derivative_order=1)\n",
      "circuits=(<QuantumScript: wires=[12, 11, 0, 9, 7, 5, 1, 3, 4, 2], params=5>,)\n",
      "\n"
     ]
    },
    {
     "data": {
      "text/plain": [
       "(0.9999502079587257, 0.9999502079587257, 0.9901818584603551, 1.0, 1.0)"
      ]
     },
     "execution_count": 8,
     "metadata": {},
     "output_type": "execute_result"
    }
   ],
   "source": [
    "dev = qml.device(\"lightning.qubit\", wires=tape.wires)\n",
    "\n",
    "dev.execute(circuits=tape)"
   ]
  },
  {
   "cell_type": "code",
   "execution_count": null,
   "metadata": {},
   "outputs": [],
   "source": []
  },
  {
   "cell_type": "code",
   "execution_count": null,
   "metadata": {},
   "outputs": [],
   "source": []
  },
  {
   "cell_type": "markdown",
   "metadata": {},
   "source": [
    "## Learning from `LightningQubit` using Python API"
   ]
  },
  {
   "cell_type": "code",
   "execution_count": 9,
   "metadata": {},
   "outputs": [],
   "source": [
    "from pennylane_lightning.lightning_qubit import LightningQubit"
   ]
  },
  {
   "cell_type": "code",
   "execution_count": 10,
   "metadata": {},
   "outputs": [],
   "source": [
    "obj = LightningQubit(wires=tape.wires)"
   ]
  },
  {
   "cell_type": "code",
   "execution_count": 11,
   "metadata": {},
   "outputs": [
    {
     "data": {
      "text/plain": [
       "<pennylane.tracker.Tracker at 0x760375a38fd0>"
      ]
     },
     "execution_count": 11,
     "metadata": {},
     "output_type": "execute_result"
    }
   ],
   "source": [
    "obj.tracker"
   ]
  },
  {
   "cell_type": "code",
   "execution_count": 12,
   "metadata": {},
   "outputs": [],
   "source": [
    "program, config = obj.preprocess()"
   ]
  },
  {
   "cell_type": "code",
   "execution_count": 13,
   "metadata": {},
   "outputs": [
    {
     "data": {
      "text/plain": [
       "<validate_measurements([], {'name': 'lightning.qubit'})>"
      ]
     },
     "execution_count": 13,
     "metadata": {},
     "output_type": "execute_result"
    }
   ],
   "source": [
    "program[0]"
   ]
  },
  {
   "cell_type": "code",
   "execution_count": 14,
   "metadata": {},
   "outputs": [
    {
     "name": "stdout",
     "output_type": "stream",
     "text": [
      "Frisus log: execute called with:\n",
      "execution_config=ExecutionConfig(grad_on_execution=None, use_device_gradient=None, use_device_jacobian_product=None, gradient_method=None, gradient_keyword_arguments={}, device_options={}, interface=None, derivative_order=1)\n",
      "circuits=(<QuantumScript: wires=[12, 11, 0, 9, 7, 5, 1, 3, 4, 2], params=5>,)\n",
      "\n"
     ]
    },
    {
     "data": {
      "text/plain": [
       "(0.9999502079587257, 0.9999502079587257, 0.9901818584603551, 1.0, 1.0)"
      ]
     },
     "execution_count": 14,
     "metadata": {},
     "output_type": "execute_result"
    }
   ],
   "source": [
    "obj.execute(tape)"
   ]
  },
  {
   "cell_type": "code",
   "execution_count": null,
   "metadata": {},
   "outputs": [],
   "source": []
  },
  {
   "cell_type": "code",
   "execution_count": null,
   "metadata": {},
   "outputs": [],
   "source": []
  },
  {
   "cell_type": "markdown",
   "metadata": {},
   "source": [
    "## Testing `LightningTensor` "
   ]
  },
  {
   "cell_type": "code",
   "execution_count": 15,
   "metadata": {},
   "outputs": [],
   "source": [
    "wires = tape.wires\n",
    "backend = \"quimb\"\n",
    "method = \"mps\"\n",
    "c_dtype = np.complex128\n",
    "max_bond_dim = None\n",
    "cutoff = 0.0"
   ]
  },
  {
   "cell_type": "code",
   "execution_count": 16,
   "metadata": {},
   "outputs": [],
   "source": [
    "from pennylane_lightning.lightning_tensor import LightningTensor"
   ]
  },
  {
   "cell_type": "code",
   "execution_count": 17,
   "metadata": {},
   "outputs": [
    {
     "data": {
      "text/plain": [
       "tensor(-1., requires_grad=True)"
      ]
     },
     "execution_count": 17,
     "metadata": {},
     "output_type": "execute_result"
    }
   ],
   "source": [
    "from pennylane_lightning.lightning_tensor import LightningTensor\n",
    "\n",
    "@qml.qnode(LightningTensor(contract=\"auto-mps\"))\n",
    "def circuit():\n",
    "    qml.X(0)\n",
    "    return qml.expval(qml.Z(0))\n",
    "\n",
    "circuit()"
   ]
  },
  {
   "cell_type": "code",
   "execution_count": 26,
   "metadata": {},
   "outputs": [
    {
     "data": {
      "text/plain": [
       "tensor(1., requires_grad=True)"
      ]
     },
     "execution_count": 26,
     "metadata": {},
     "output_type": "execute_result"
    }
   ],
   "source": [
    "from pennylane_lightning.lightning_tensor import LightningTensor\n",
    "\n",
    "\n",
    "\n",
    "@qml.qnode(LightningTensor(max_bond_dim=100,  wires=qml.wires.Wires(range(2))))\n",
    "def circuit():\n",
    "    qml.Z(0)\n",
    "    return qml.expval(qml.Z(0))\n",
    "\n",
    "circuit()"
   ]
  },
  {
   "cell_type": "code",
   "execution_count": null,
   "metadata": {},
   "outputs": [
    {
     "data": {
      "text/plain": [
       "<Wires = [0, 1]>"
      ]
     },
     "execution_count": 45,
     "metadata": {},
     "output_type": "execute_result"
    }
   ],
   "source": [
    "qml.wires.Wires(range(2))"
   ]
  },
  {
   "cell_type": "code",
   "execution_count": null,
   "metadata": {},
   "outputs": [],
   "source": [
    "obj = LightningTensor(\n",
    "    wires=wires,\n",
    "    backend=backend,\n",
    "    method=method,\n",
    "    c_dtype=c_dtype,\n",
    "    max_bond_dim=max_bond_dim,\n",
    "    cutoff=cutoff,\n",
    ")"
   ]
  },
  {
   "cell_type": "code",
   "execution_count": null,
   "metadata": {},
   "outputs": [
    {
     "data": {
      "text/html": [
       "<samp style='font-size: 12px;'><details><summary><b style=\"color: #d75692;\">MatrixProductState</b>(tensors=10, indices=19, L=10, max_bond=2)</summary><samp style='font-size: 12px;'><details><summary><b style=\"color: #e55471;\">Tensor</b>(shape=(<b style=\"color: #45ce3d;\">1</b>, <b style=\"color: #828fdd;\">2</b>), inds=[<b style=\"color: #949fd4;\">_f07edfAAAAC</b>, <b style=\"color: #b1dc61;\">k0</b>], tags={<b style=\"color: #74d649;\">0</b>, <b style=\"color: #45ce3d;\">1</b>, <b style=\"color: #828fdd;\">2</b>, <b style=\"color: #8a5bcf;\">3</b>, <b style=\"color: #80d749;\">4</b>, <b style=\"color: #7355d7;\">5</b>, <b style=\"color: #a4de79;\">6</b>, <b style=\"color: #7930d2;\">7</b>, <b style=\"color: #39acd6;\">8</b>, <b style=\"color: #c14bdb;\">9</b>, <b style=\"color: #d2b137;\">I0</b>, <b style=\"color: #d3b991;\">PSI0</b>}),</summary>backend=<b style=\"color: #7fdd73;\">numpy</b>, dtype=<b style=\"color: #443ce1;\">complex128</b>, data=array([[1.+0.j, 0.+0.j]])</details></samp><samp style='font-size: 12px;'><details><summary><b style=\"color: #e55471;\">Tensor</b>(shape=(<b style=\"color: #45ce3d;\">1</b>, <b style=\"color: #45ce3d;\">1</b>, <b style=\"color: #828fdd;\">2</b>), inds=[<b style=\"color: #949fd4;\">_f07edfAAAAC</b>, <b style=\"color: #7de06e;\">_f07edfAAAAD</b>, <b style=\"color: #8aa5db;\">k1</b>], tags={<b style=\"color: #74d649;\">0</b>, <b style=\"color: #45ce3d;\">1</b>, <b style=\"color: #828fdd;\">2</b>, <b style=\"color: #8a5bcf;\">3</b>, <b style=\"color: #80d749;\">4</b>, <b style=\"color: #7355d7;\">5</b>, <b style=\"color: #a4de79;\">6</b>, <b style=\"color: #7930d2;\">7</b>, <b style=\"color: #39acd6;\">8</b>, <b style=\"color: #c14bdb;\">9</b>, <b style=\"color: #d19b78;\">I1</b>, <b style=\"color: #d3b991;\">PSI0</b>}),</summary>backend=<b style=\"color: #7fdd73;\">numpy</b>, dtype=<b style=\"color: #443ce1;\">complex128</b>, data=array([[[1.+0.j, 0.+0.j]]])</details></samp><samp style='font-size: 12px;'><details><summary><b style=\"color: #e55471;\">Tensor</b>(shape=(<b style=\"color: #45ce3d;\">1</b>, <b style=\"color: #45ce3d;\">1</b>, <b style=\"color: #828fdd;\">2</b>), inds=[<b style=\"color: #7de06e;\">_f07edfAAAAD</b>, <b style=\"color: #d863c0;\">_f07edfAAAAE</b>, <b style=\"color: #df546d;\">k2</b>], tags={<b style=\"color: #74d649;\">0</b>, <b style=\"color: #45ce3d;\">1</b>, <b style=\"color: #828fdd;\">2</b>, <b style=\"color: #8a5bcf;\">3</b>, <b style=\"color: #80d749;\">4</b>, <b style=\"color: #7355d7;\">5</b>, <b style=\"color: #a4de79;\">6</b>, <b style=\"color: #7930d2;\">7</b>, <b style=\"color: #39acd6;\">8</b>, <b style=\"color: #c14bdb;\">9</b>, <b style=\"color: #dd5dd7;\">I2</b>, <b style=\"color: #d3b991;\">PSI0</b>}),</summary>backend=<b style=\"color: #7fdd73;\">numpy</b>, dtype=<b style=\"color: #443ce1;\">complex128</b>, data=array([[[1.+0.j, 0.+0.j]]])</details></samp><samp style='font-size: 12px;'><details><summary><b style=\"color: #e55471;\">Tensor</b>(shape=(<b style=\"color: #45ce3d;\">1</b>, <b style=\"color: #45ce3d;\">1</b>, <b style=\"color: #828fdd;\">2</b>), inds=[<b style=\"color: #d863c0;\">_f07edfAAAAE</b>, <b style=\"color: #6b9ccc;\">_f07edfAAAAF</b>, <b style=\"color: #4c7be1;\">k3</b>], tags={<b style=\"color: #74d649;\">0</b>, <b style=\"color: #45ce3d;\">1</b>, <b style=\"color: #828fdd;\">2</b>, <b style=\"color: #8a5bcf;\">3</b>, <b style=\"color: #80d749;\">4</b>, <b style=\"color: #7355d7;\">5</b>, <b style=\"color: #a4de79;\">6</b>, <b style=\"color: #7930d2;\">7</b>, <b style=\"color: #39acd6;\">8</b>, <b style=\"color: #c14bdb;\">9</b>, <b style=\"color: #dd65d9;\">I3</b>, <b style=\"color: #d3b991;\">PSI0</b>}),</summary>backend=<b style=\"color: #7fdd73;\">numpy</b>, dtype=<b style=\"color: #443ce1;\">complex128</b>, data=array([[[1.+0.j, 0.+0.j]]])</details></samp><samp style='font-size: 12px;'><details><summary><b style=\"color: #e55471;\">Tensor</b>(shape=(<b style=\"color: #45ce3d;\">1</b>, <b style=\"color: #45ce3d;\">1</b>, <b style=\"color: #828fdd;\">2</b>), inds=[<b style=\"color: #6b9ccc;\">_f07edfAAAAF</b>, <b style=\"color: #8d33d3;\">_f07edfAAAAG</b>, <b style=\"color: #462edc;\">k4</b>], tags={<b style=\"color: #74d649;\">0</b>, <b style=\"color: #45ce3d;\">1</b>, <b style=\"color: #828fdd;\">2</b>, <b style=\"color: #8a5bcf;\">3</b>, <b style=\"color: #80d749;\">4</b>, <b style=\"color: #7355d7;\">5</b>, <b style=\"color: #a4de79;\">6</b>, <b style=\"color: #7930d2;\">7</b>, <b style=\"color: #39acd6;\">8</b>, <b style=\"color: #c14bdb;\">9</b>, <b style=\"color: #998ad1;\">I4</b>, <b style=\"color: #d3b991;\">PSI0</b>}),</summary>backend=<b style=\"color: #7fdd73;\">numpy</b>, dtype=<b style=\"color: #443ce1;\">complex128</b>, data=array([[[1.+0.j, 0.+0.j]]])</details></samp><samp style='font-size: 12px;'><details><summary><b style=\"color: #e55471;\">Tensor</b>(shape=(<b style=\"color: #45ce3d;\">1</b>, <b style=\"color: #45ce3d;\">1</b>, <b style=\"color: #828fdd;\">2</b>), inds=[<b style=\"color: #8d33d3;\">_f07edfAAAAG</b>, <b style=\"color: #ce6da0;\">_f07edfAAAAH</b>, <b style=\"color: #85dfdf;\">k5</b>], tags={<b style=\"color: #74d649;\">0</b>, <b style=\"color: #45ce3d;\">1</b>, <b style=\"color: #828fdd;\">2</b>, <b style=\"color: #8a5bcf;\">3</b>, <b style=\"color: #80d749;\">4</b>, <b style=\"color: #7355d7;\">5</b>, <b style=\"color: #a4de79;\">6</b>, <b style=\"color: #7930d2;\">7</b>, <b style=\"color: #39acd6;\">8</b>, <b style=\"color: #c14bdb;\">9</b>, <b style=\"color: #97dddc;\">I5</b>, <b style=\"color: #d3b991;\">PSI0</b>}),</summary>backend=<b style=\"color: #7fdd73;\">numpy</b>, dtype=<b style=\"color: #443ce1;\">complex128</b>, data=array([[[1.+0.j, 0.+0.j]]])</details></samp><samp style='font-size: 12px;'><details><summary><b style=\"color: #e55471;\">Tensor</b>(shape=(<b style=\"color: #45ce3d;\">1</b>, <b style=\"color: #45ce3d;\">1</b>, <b style=\"color: #828fdd;\">2</b>), inds=[<b style=\"color: #ce6da0;\">_f07edfAAAAH</b>, <b style=\"color: #50cc9c;\">_f07edfAAAAI</b>, <b style=\"color: #2cb7d3;\">k6</b>], tags={<b style=\"color: #74d649;\">0</b>, <b style=\"color: #45ce3d;\">1</b>, <b style=\"color: #828fdd;\">2</b>, <b style=\"color: #8a5bcf;\">3</b>, <b style=\"color: #80d749;\">4</b>, <b style=\"color: #7355d7;\">5</b>, <b style=\"color: #a4de79;\">6</b>, <b style=\"color: #7930d2;\">7</b>, <b style=\"color: #39acd6;\">8</b>, <b style=\"color: #c14bdb;\">9</b>, <b style=\"color: #b2de5f;\">I6</b>, <b style=\"color: #d3b991;\">PSI0</b>}),</summary>backend=<b style=\"color: #7fdd73;\">numpy</b>, dtype=<b style=\"color: #443ce1;\">complex128</b>, data=array([[[1.+0.j, 0.+0.j]]])</details></samp><samp style='font-size: 12px;'><details><summary><b style=\"color: #e55471;\">Tensor</b>(shape=(<b style=\"color: #45ce3d;\">1</b>, <b style=\"color: #45ce3d;\">1</b>, <b style=\"color: #828fdd;\">2</b>), inds=[<b style=\"color: #50cc9c;\">_f07edfAAAAI</b>, <b style=\"color: #e0674b;\">_f07edfAAAAJ</b>, <b style=\"color: #53e08f;\">k7</b>], tags={<b style=\"color: #74d649;\">0</b>, <b style=\"color: #45ce3d;\">1</b>, <b style=\"color: #828fdd;\">2</b>, <b style=\"color: #8a5bcf;\">3</b>, <b style=\"color: #80d749;\">4</b>, <b style=\"color: #7355d7;\">5</b>, <b style=\"color: #a4de79;\">6</b>, <b style=\"color: #7930d2;\">7</b>, <b style=\"color: #39acd6;\">8</b>, <b style=\"color: #c14bdb;\">9</b>, <b style=\"color: #5582d6;\">I7</b>, <b style=\"color: #d3b991;\">PSI0</b>}),</summary>backend=<b style=\"color: #7fdd73;\">numpy</b>, dtype=<b style=\"color: #443ce1;\">complex128</b>, data=array([[[1.+0.j, 0.+0.j]]])</details></samp><samp style='font-size: 12px;'><details><summary><b style=\"color: #e55471;\">Tensor</b>(shape=(<b style=\"color: #45ce3d;\">1</b>, <b style=\"color: #45ce3d;\">1</b>, <b style=\"color: #828fdd;\">2</b>), inds=[<b style=\"color: #e0674b;\">_f07edfAAAAJ</b>, <b style=\"color: #cd8cd7;\">_f07edfAAAAK</b>, <b style=\"color: #7bcd9f;\">k8</b>], tags={<b style=\"color: #74d649;\">0</b>, <b style=\"color: #45ce3d;\">1</b>, <b style=\"color: #828fdd;\">2</b>, <b style=\"color: #8a5bcf;\">3</b>, <b style=\"color: #80d749;\">4</b>, <b style=\"color: #7355d7;\">5</b>, <b style=\"color: #a4de79;\">6</b>, <b style=\"color: #7930d2;\">7</b>, <b style=\"color: #39acd6;\">8</b>, <b style=\"color: #c14bdb;\">9</b>, <b style=\"color: #8a3dd8;\">I8</b>, <b style=\"color: #d3b991;\">PSI0</b>}),</summary>backend=<b style=\"color: #7fdd73;\">numpy</b>, dtype=<b style=\"color: #443ce1;\">complex128</b>, data=array([[[1.+0.j, 0.+0.j]]])</details></samp><samp style='font-size: 12px;'><details><summary><b style=\"color: #e55471;\">Tensor</b>(shape=(<b style=\"color: #45ce3d;\">1</b>, <b style=\"color: #828fdd;\">2</b>), inds=[<b style=\"color: #cd8cd7;\">_f07edfAAAAK</b>, <b style=\"color: #cc70c1;\">k9</b>], tags={<b style=\"color: #74d649;\">0</b>, <b style=\"color: #45ce3d;\">1</b>, <b style=\"color: #828fdd;\">2</b>, <b style=\"color: #8a5bcf;\">3</b>, <b style=\"color: #80d749;\">4</b>, <b style=\"color: #7355d7;\">5</b>, <b style=\"color: #a4de79;\">6</b>, <b style=\"color: #7930d2;\">7</b>, <b style=\"color: #39acd6;\">8</b>, <b style=\"color: #c14bdb;\">9</b>, <b style=\"color: #d74979;\">I9</b>, <b style=\"color: #d3b991;\">PSI0</b>}),</summary>backend=<b style=\"color: #7fdd73;\">numpy</b>, dtype=<b style=\"color: #443ce1;\">complex128</b>, data=array([[1.+0.j, 0.+0.j]])</details></samp></details></samp>"
      ],
      "text/plain": [
       "MatrixProductState(tensors=10, indices=19, L=10, max_bond=2)"
      ]
     },
     "execution_count": 19,
     "metadata": {},
     "output_type": "execute_result"
    }
   ],
   "source": [
    "obj._interface.state"
   ]
  },
  {
   "cell_type": "code",
   "execution_count": null,
   "metadata": {},
   "outputs": [],
   "source": [
    "# obj._interface._circuitMPS.get_psi_reverse_lightcone(3)"
   ]
  },
  {
   "cell_type": "code",
   "execution_count": null,
   "metadata": {},
   "outputs": [
    {
     "data": {
      "text/plain": [
       "pennylane.devices.execution_config.ExecutionConfig"
      ]
     },
     "execution_count": 21,
     "metadata": {},
     "output_type": "execute_result"
    }
   ],
   "source": [
    "type(obj._setup_execution_config())"
   ]
  },
  {
   "cell_type": "code",
   "execution_count": null,
   "metadata": {},
   "outputs": [],
   "source": [
    "program, config = obj.preprocess()"
   ]
  },
  {
   "cell_type": "code",
   "execution_count": null,
   "metadata": {},
   "outputs": [
    {
     "data": {
      "text/plain": [
       "<validate_measurements([], {'name': 'QuimbMPS interface'})>"
      ]
     },
     "execution_count": 23,
     "metadata": {},
     "output_type": "execute_result"
    }
   ],
   "source": [
    "program[0]"
   ]
  },
  {
   "cell_type": "code",
   "execution_count": null,
   "metadata": {},
   "outputs": [
    {
     "data": {
      "text/plain": [
       "ExecutionConfig(grad_on_execution=None, use_device_gradient=None, use_device_jacobian_product=None, gradient_method=None, gradient_keyword_arguments={}, device_options={'backend': 'quimb', 'c_dtype': <class 'numpy.complex128'>, 'contract': 'auto-mps', 'cutoff': 0.0, 'method': 'mps', 'max_bond_dim': None}, interface=None, derivative_order=1)"
      ]
     },
     "execution_count": 24,
     "metadata": {},
     "output_type": "execute_result"
    }
   ],
   "source": [
    "config"
   ]
  },
  {
   "cell_type": "code",
   "execution_count": null,
   "metadata": {},
   "outputs": [],
   "source": [
    "# program[0]"
   ]
  },
  {
   "cell_type": "code",
   "execution_count": null,
   "metadata": {},
   "outputs": [],
   "source": [
    "# config"
   ]
  },
  {
   "cell_type": "code",
   "execution_count": null,
   "metadata": {},
   "outputs": [],
   "source": [
    "# config.device_options"
   ]
  },
  {
   "cell_type": "code",
   "execution_count": null,
   "metadata": {},
   "outputs": [
    {
     "data": {
      "text/plain": [
       "(0.999950207958725,\n",
       " 0.999950207958725,\n",
       " 0.9901818584603544,\n",
       " 0.9999999999999991,\n",
       " 0.9999999999999993)"
      ]
     },
     "execution_count": 28,
     "metadata": {},
     "output_type": "execute_result"
    }
   ],
   "source": [
    "obj.execute(circuits=tape)"
   ]
  },
  {
   "cell_type": "code",
   "execution_count": null,
   "metadata": {},
   "outputs": [
    {
     "data": {
      "text/plain": [
       "[<Gate(label=RAW140247399305008, params=raw, qubits=(0, 1, 2, 3))>,\n",
       " <Gate(label=RAW140247407911824, params=raw, qubits=(2,))>,\n",
       " <Gate(label=RAW140247403127888, params=raw, qubits=(2,))>,\n",
       " <Gate(label=RAW140247399484464, params=raw, qubits=(4, 2, 5))>,\n",
       " <Gate(label=RAW140247399485040, params=raw, qubits=(6,))>,\n",
       " <Gate(label=RAW140247401802800, params=raw, qubits=(7, 8))>,\n",
       " <Gate(label=RAW140247401974352, params=raw, qubits=(6, 9, 7, 8))>,\n",
       " <Gate(label=RAW140247399996464, params=raw, qubits=(2, 6, 9))>,\n",
       " <Gate(label=RAW140247399676304, params=raw, qubits=(8,))>,\n",
       " <Gate(label=RAW140247399465008, params=raw, qubits=(9, 7, 8))>,\n",
       " <Gate(label=RAW140247399466448, params=raw, qubits=(9, 8))>,\n",
       " <Gate(label=RAW140247399498256, params=raw, qubits=(2, 6, 7, 8))>]"
      ]
     },
     "execution_count": 29,
     "metadata": {},
     "output_type": "execute_result"
    }
   ],
   "source": [
    "obj._interface._circuitMPS.gates"
   ]
  },
  {
   "cell_type": "code",
   "execution_count": null,
   "metadata": {},
   "outputs": [
    {
     "data": {
      "text/plain": [
       "oset(['0', '1', '2', '3', '4', '5', '6', '7', '8', '9', 'PSI0', 'I0', 'I1', 'I9', 'I2', 'GATE_1', 'GATE_2', 'I3', 'I4', 'I5', 'I6', 'GATE_4', 'I7', 'I8', 'GATE_8'])"
      ]
     },
     "execution_count": 30,
     "metadata": {},
     "output_type": "execute_result"
    }
   ],
   "source": [
    "obj._interface._circuitMPS.psi.tags"
   ]
  },
  {
   "cell_type": "code",
   "execution_count": null,
   "metadata": {},
   "outputs": [
    {
     "data": {
      "text/html": [
       "<samp style='font-size: 12px;'><details><summary><b style=\"color: #d75692;\">MatrixProductState</b>(tensors=10, indices=19, L=10, max_bond=16)</summary><samp style='font-size: 12px;'><details><summary><b style=\"color: #e55471;\">Tensor</b>(shape=(<b style=\"color: #828fdd;\">2</b>, <b style=\"color: #828fdd;\">2</b>), inds=[<b style=\"color: #d87fc0;\">_f07edfAAAAL</b>, <b style=\"color: #b1dc61;\">k0</b>], tags={<b style=\"color: #74d649;\">0</b>, <b style=\"color: #45ce3d;\">1</b>, <b style=\"color: #828fdd;\">2</b>, <b style=\"color: #8a5bcf;\">3</b>, <b style=\"color: #80d749;\">4</b>, <b style=\"color: #7355d7;\">5</b>, <b style=\"color: #a4de79;\">6</b>, <b style=\"color: #7930d2;\">7</b>, <b style=\"color: #39acd6;\">8</b>, <b style=\"color: #c14bdb;\">9</b>, <b style=\"color: #d2b137;\">I0</b>, <b style=\"color: #d3b991;\">PSI0</b>}),</summary>backend=<b style=\"color: #7fdd73;\">numpy</b>, dtype=<b style=\"color: #443ce1;\">complex128</b>, data=array([[ 1.00000000e+00+0.j, -1.39569705e-85+0.j],\n",
       "       [ 1.39569705e-85+0.j,  1.00000000e+00+0.j]])</details></samp><samp style='font-size: 12px;'><details><summary><b style=\"color: #e55471;\">Tensor</b>(shape=(<b style=\"color: #828fdd;\">2</b>, <b style=\"color: #80d749;\">4</b>, <b style=\"color: #828fdd;\">2</b>), inds=[<b style=\"color: #d87fc0;\">_f07edfAAAAL</b>, <b style=\"color: #4fcdb5;\">_f07edfAAAAM</b>, <b style=\"color: #8aa5db;\">k1</b>], tags={<b style=\"color: #74d649;\">0</b>, <b style=\"color: #45ce3d;\">1</b>, <b style=\"color: #828fdd;\">2</b>, <b style=\"color: #8a5bcf;\">3</b>, <b style=\"color: #80d749;\">4</b>, <b style=\"color: #7355d7;\">5</b>, <b style=\"color: #a4de79;\">6</b>, <b style=\"color: #7930d2;\">7</b>, <b style=\"color: #39acd6;\">8</b>, <b style=\"color: #c14bdb;\">9</b>, <b style=\"color: #d19b78;\">I1</b>, <b style=\"color: #d3b991;\">PSI0</b>}),</summary>backend=<b style=\"color: #7fdd73;\">numpy</b>, dtype=<b style=\"color: #443ce1;\">complex128</b>, data=array([[[-1.00000000e+000+0.j, -3.62343669e-052+0.j],\n",
       "        [-3.16617301e-034-0.j, -5.73621373e-086-0.j],\n",
       "        [-1.14724275e-085+0.j,  2.29469008e-119+0.j],\n",
       "        [ 6.99408198e-050+0.j,  1.00000000e+000+0.j]],\n",
       "\n",
       "       [[-1.14724275e-085+0.j,  3.16617301e-034+0.j],\n",
       "        [-4.11087459e-119-0.j, -1.00000000e+000+0.j],\n",
       "        [ 1.00000000e+000+0.j, -4.78505576e-120+0.j],\n",
       "        [-2.29469008e-119+0.j,  2.22044605e-016+0.j]]])</details></samp><samp style='font-size: 12px;'><details><summary><b style=\"color: #e55471;\">Tensor</b>(shape=(<b style=\"color: #828fdd;\">2</b>, <b style=\"color: #828fdd;\">2</b>), inds=[<b style=\"color: #65ddd7;\">_f07edfAAAAT</b>, <b style=\"color: #cc70c1;\">k9</b>], tags={<b style=\"color: #74d649;\">0</b>, <b style=\"color: #45ce3d;\">1</b>, <b style=\"color: #828fdd;\">2</b>, <b style=\"color: #8a5bcf;\">3</b>, <b style=\"color: #80d749;\">4</b>, <b style=\"color: #7355d7;\">5</b>, <b style=\"color: #a4de79;\">6</b>, <b style=\"color: #7930d2;\">7</b>, <b style=\"color: #39acd6;\">8</b>, <b style=\"color: #c14bdb;\">9</b>, <b style=\"color: #d74979;\">I9</b>, <b style=\"color: #d3b991;\">PSI0</b>}),</summary>backend=<b style=\"color: #7fdd73;\">numpy</b>, dtype=<b style=\"color: #443ce1;\">complex128</b>, data=array([[-9.98731338e-01+1.32994429e-23j,  3.51713724e-20+5.03558847e-02j],\n",
       "       [ 5.03558847e-02+3.51707023e-20j, -8.44160580e-27+9.98731338e-01j]])</details></samp><samp style='font-size: 12px;'><details><summary><b style=\"color: #e55471;\">Tensor</b>(shape=(<b style=\"color: #80d749;\">4</b>, <b style=\"color: #39acd6;\">8</b>, <b style=\"color: #828fdd;\">2</b>), inds=[<b style=\"color: #4fcdb5;\">_f07edfAAAAM</b>, <b style=\"color: #a88ad1;\">_f07edfAAAAN</b>, <b style=\"color: #df546d;\">k2</b>], tags={<b style=\"color: #74d649;\">0</b>, <b style=\"color: #45ce3d;\">1</b>, <b style=\"color: #828fdd;\">2</b>, <b style=\"color: #8a5bcf;\">3</b>, <b style=\"color: #80d749;\">4</b>, <b style=\"color: #7355d7;\">5</b>, <b style=\"color: #a4de79;\">6</b>, <b style=\"color: #7930d2;\">7</b>, <b style=\"color: #39acd6;\">8</b>, <b style=\"color: #c14bdb;\">9</b>, <b style=\"color: #dd5dd7;\">I2</b>, <b style=\"color: #d3b991;\">PSI0</b>, <b style=\"color: #40c3d8;\">GATE_1</b>, <b style=\"color: #64dc8a;\">GATE_2</b>}),</summary>backend=<b style=\"color: #7fdd73;\">numpy</b>, dtype=<b style=\"color: #443ce1;\">complex128</b>, data=array([[[ 2.22243097e-16+4.94834901e-02j,\n",
       "         -9.98750200e-01+2.77447835e-17j],\n",
       "        [ 1.46420194e-04+7.01998106e-03j,\n",
       "          3.47807853e-04-7.25444884e-06j],\n",
       "        [-7.62268753e-52-5.63297744e-51j,\n",
       "         -2.79074202e-52+3.77648306e-53j],\n",
       "        [-6.13597906e-56+3.97728136e-54j,\n",
       "          9.90044441e-56+9.65166430e-57j],\n",
       "        [ 0.00000000e+00+0.00000000e+00j,\n",
       "          0.00000000e+00+0.00000000e+00j],\n",
       "        [ 0.00000000e+00+0.00000000e+00j,\n",
       "          0.00000000e+00+0.00000000e+00j],\n",
       "        [ 0.00000000e+00+0.00000000e+00j,\n",
       "          0.00000000e+00+0.00000000e+00j],\n",
       "        [ 0.00000000e+00+0.00000000e+00j,\n",
       "          0.00000000e+00+0.00000000e+00j]],\n",
       "\n",
       "       [[-9.77879372e-36-3.46083061e-40j,\n",
       "          6.64165844e-42+4.94411157e-37j],\n",
       "        [-1.38365798e-36+2.36972981e-37j,\n",
       "          1.05108909e-36+2.81438862e-35j],\n",
       "        [ 6.97601614e-20-1.05898827e-20j,\n",
       "          2.13740935e-19+1.40800447e-18j],\n",
       "        [ 9.98943128e-21-6.73228222e-22j,\n",
       "         -3.33553696e-23-4.94930488e-22j],\n",
       "        [ 0.00000000e+00+0.00000000e+00j,\n",
       "          0.00000000e+00+0.00000000e+00j],\n",
       "        [ 0.00000000e+00+0.00000000e+00j,\n",
       "          0.00000000e+00+0.00000000e+00j],\n",
       "        [ 0.00000000e+00+0.00000000e+00j,\n",
       "          0.00000000e+00+0.00000000e+00j],\n",
       "        [ 0.00000000e+00+0.00000000e+00j,\n",
       "          0.00000000e+00+0.00000000e+00j]],\n",
       "\n",
       "       [[ 0.00000000e+00+0.00000000e+00j,\n",
       "          0.00000000e+00+0.00000000e+00j],\n",
       "        [ 0.00000000e+00+0.00000000e+00j,\n",
       "          0.00000000e+00+0.00000000e+00j],\n",
       "        [ 0.00000000e+00+0.00000000e+00j,\n",
       "          0.00000000e+00+0.00000000e+00j],\n",
       "        [ 0.00000000e+00+0.00000000e+00j,\n",
       "          0.00000000e+00+0.00000000e+00j],\n",
       "        [ 0.00000000e+00+0.00000000e+00j,\n",
       "          0.00000000e+00+0.00000000e+00j],\n",
       "        [ 0.00000000e+00+0.00000000e+00j,\n",
       "          0.00000000e+00+0.00000000e+00j],\n",
       "        [ 0.00000000e+00+0.00000000e+00j,\n",
       "          0.00000000e+00+0.00000000e+00j],\n",
       "        [ 0.00000000e+00+0.00000000e+00j,\n",
       "          0.00000000e+00+0.00000000e+00j]],\n",
       "\n",
       "       [[ 0.00000000e+00+0.00000000e+00j,\n",
       "          0.00000000e+00+0.00000000e+00j],\n",
       "        [ 0.00000000e+00+0.00000000e+00j,\n",
       "          0.00000000e+00+0.00000000e+00j],\n",
       "        [ 0.00000000e+00+0.00000000e+00j,\n",
       "          0.00000000e+00+0.00000000e+00j],\n",
       "        [ 0.00000000e+00+0.00000000e+00j,\n",
       "          0.00000000e+00+0.00000000e+00j],\n",
       "        [ 0.00000000e+00+0.00000000e+00j,\n",
       "          0.00000000e+00+0.00000000e+00j],\n",
       "        [ 0.00000000e+00+0.00000000e+00j,\n",
       "          0.00000000e+00+0.00000000e+00j],\n",
       "        [ 0.00000000e+00+0.00000000e+00j,\n",
       "          0.00000000e+00+0.00000000e+00j],\n",
       "        [ 0.00000000e+00+0.00000000e+00j,\n",
       "          0.00000000e+00+0.00000000e+00j]]])</details></samp><samp style='font-size: 12px;'><details><summary><b style=\"color: #e55471;\">Tensor</b>(shape=(<b style=\"color: #39acd6;\">8</b>, <b style=\"color: #96b5d9;\">16</b>, <b style=\"color: #828fdd;\">2</b>), inds=[<b style=\"color: #a88ad1;\">_f07edfAAAAN</b>, <b style=\"color: #39e5d2;\">_f07edfAAAAO</b>, <b style=\"color: #4c7be1;\">k3</b>], tags={<b style=\"color: #74d649;\">0</b>, <b style=\"color: #45ce3d;\">1</b>, <b style=\"color: #828fdd;\">2</b>, <b style=\"color: #8a5bcf;\">3</b>, <b style=\"color: #80d749;\">4</b>, <b style=\"color: #7355d7;\">5</b>, <b style=\"color: #a4de79;\">6</b>, <b style=\"color: #7930d2;\">7</b>, <b style=\"color: #39acd6;\">8</b>, <b style=\"color: #c14bdb;\">9</b>, <b style=\"color: #dd65d9;\">I3</b>, <b style=\"color: #d3b991;\">PSI0</b>}),</summary>backend=<b style=\"color: #7fdd73;\">numpy</b>, dtype=<b style=\"color: #443ce1;\">complex128</b>, data=...</details></samp><samp style='font-size: 12px;'><details><summary><b style=\"color: #e55471;\">Tensor</b>(shape=(<b style=\"color: #96b5d9;\">16</b>, <b style=\"color: #96b5d9;\">16</b>, <b style=\"color: #828fdd;\">2</b>), inds=[<b style=\"color: #39e5d2;\">_f07edfAAAAO</b>, <b style=\"color: #a9df42;\">_f07edfAAAAP</b>, <b style=\"color: #462edc;\">k4</b>], tags={<b style=\"color: #74d649;\">0</b>, <b style=\"color: #45ce3d;\">1</b>, <b style=\"color: #828fdd;\">2</b>, <b style=\"color: #8a5bcf;\">3</b>, <b style=\"color: #80d749;\">4</b>, <b style=\"color: #7355d7;\">5</b>, <b style=\"color: #a4de79;\">6</b>, <b style=\"color: #7930d2;\">7</b>, <b style=\"color: #39acd6;\">8</b>, <b style=\"color: #c14bdb;\">9</b>, <b style=\"color: #998ad1;\">I4</b>, <b style=\"color: #d3b991;\">PSI0</b>}),</summary>backend=<b style=\"color: #7fdd73;\">numpy</b>, dtype=<b style=\"color: #443ce1;\">complex128</b>, data=...</details></samp><samp style='font-size: 12px;'><details><summary><b style=\"color: #e55471;\">Tensor</b>(shape=(<b style=\"color: #96b5d9;\">16</b>, <b style=\"color: #39acd6;\">8</b>, <b style=\"color: #828fdd;\">2</b>), inds=[<b style=\"color: #a9df42;\">_f07edfAAAAP</b>, <b style=\"color: #b7cc66;\">_f07edfAAAAQ</b>, <b style=\"color: #85dfdf;\">k5</b>], tags={<b style=\"color: #74d649;\">0</b>, <b style=\"color: #45ce3d;\">1</b>, <b style=\"color: #828fdd;\">2</b>, <b style=\"color: #8a5bcf;\">3</b>, <b style=\"color: #80d749;\">4</b>, <b style=\"color: #7355d7;\">5</b>, <b style=\"color: #a4de79;\">6</b>, <b style=\"color: #7930d2;\">7</b>, <b style=\"color: #39acd6;\">8</b>, <b style=\"color: #c14bdb;\">9</b>, <b style=\"color: #97dddc;\">I5</b>, <b style=\"color: #d3b991;\">PSI0</b>}),</summary>backend=<b style=\"color: #7fdd73;\">numpy</b>, dtype=<b style=\"color: #443ce1;\">complex128</b>, data=...</details></samp><samp style='font-size: 12px;'><details><summary><b style=\"color: #e55471;\">Tensor</b>(shape=(<b style=\"color: #39acd6;\">8</b>, <b style=\"color: #39acd6;\">8</b>, <b style=\"color: #828fdd;\">2</b>), inds=[<b style=\"color: #b7cc66;\">_f07edfAAAAQ</b>, <b style=\"color: #5fb3cd;\">_f07edfAAAAR</b>, <b style=\"color: #2cb7d3;\">k6</b>], tags={<b style=\"color: #74d649;\">0</b>, <b style=\"color: #45ce3d;\">1</b>, <b style=\"color: #828fdd;\">2</b>, <b style=\"color: #8a5bcf;\">3</b>, <b style=\"color: #80d749;\">4</b>, <b style=\"color: #7355d7;\">5</b>, <b style=\"color: #a4de79;\">6</b>, <b style=\"color: #7930d2;\">7</b>, <b style=\"color: #39acd6;\">8</b>, <b style=\"color: #c14bdb;\">9</b>, <b style=\"color: #b2de5f;\">I6</b>, <b style=\"color: #d3b991;\">PSI0</b>, <b style=\"color: #cc4280;\">GATE_4</b>}),</summary>backend=<b style=\"color: #7fdd73;\">numpy</b>, dtype=<b style=\"color: #443ce1;\">complex128</b>, data=...</details></samp><samp style='font-size: 12px;'><details><summary><b style=\"color: #e55471;\">Tensor</b>(shape=(<b style=\"color: #39acd6;\">8</b>, <b style=\"color: #80d749;\">4</b>, <b style=\"color: #828fdd;\">2</b>), inds=[<b style=\"color: #5fb3cd;\">_f07edfAAAAR</b>, <b style=\"color: #ce7fe3;\">_f07edfAAAAS</b>, <b style=\"color: #53e08f;\">k7</b>], tags={<b style=\"color: #74d649;\">0</b>, <b style=\"color: #45ce3d;\">1</b>, <b style=\"color: #828fdd;\">2</b>, <b style=\"color: #8a5bcf;\">3</b>, <b style=\"color: #80d749;\">4</b>, <b style=\"color: #7355d7;\">5</b>, <b style=\"color: #a4de79;\">6</b>, <b style=\"color: #7930d2;\">7</b>, <b style=\"color: #39acd6;\">8</b>, <b style=\"color: #c14bdb;\">9</b>, <b style=\"color: #5582d6;\">I7</b>, <b style=\"color: #d3b991;\">PSI0</b>}),</summary>backend=<b style=\"color: #7fdd73;\">numpy</b>, dtype=<b style=\"color: #443ce1;\">complex128</b>, data=array([[[ 9.97517488e-01+0.00000000e+00j,\n",
       "          4.99584860e-03+4.13172737e-17j],\n",
       "        [-3.51786004e-04+2.86163633e-18j,\n",
       "          7.02408577e-02+2.69680160e-18j],\n",
       "        [-8.84456094e-21-5.07402522e-21j,\n",
       "          5.74164404e-19+5.30450461e-19j],\n",
       "        [ 6.25915355e-23+3.58336515e-22j,\n",
       "          9.44891141e-21-9.13191062e-20j]],\n",
       "\n",
       "       [[ 4.94190366e-02+0.00000000e+00j,\n",
       "         -4.99165371e-02+1.90690339e-15j],\n",
       "        [-7.08883979e-01+5.27681125e-16j,\n",
       "         -7.01818782e-01-2.18172438e-16j],\n",
       "        [ 3.55832934e-15+2.04137356e-15j,\n",
       "         -1.28011945e-15+7.58664519e-17j],\n",
       "        [-2.51817245e-17-1.44165362e-16j,\n",
       "          6.35125921e-17-2.22401860e-16j]],\n",
       "\n",
       "       [[-8.31528272e-03+0.00000000e+00j,\n",
       "          2.61097354e-03-6.66544328e-01j],\n",
       "        [-1.16911587e-01+8.62157568e-16j,\n",
       "          1.17317304e-01+4.74076578e-02j],\n",
       "        [-3.35076149e-01-4.21952394e-01j,\n",
       "          2.60616735e-01-2.56093256e-01j],\n",
       "        [-1.26696798e-01-2.88653782e-01j,\n",
       "          3.50110577e-02+3.92427991e-02j]],\n",
       "\n",
       "       [[-4.89117953e-02+0.00000000e+00j,\n",
       "          9.64411103e-02+1.56749769e-01j],\n",
       "        [-6.87692268e-01+4.20019922e-16j,\n",
       "          6.84311767e-01-1.11487550e-02j],\n",
       "        [-6.83100873e-02+5.67711934e-02j,\n",
       "         -5.40983082e-02+7.42681396e-02j],\n",
       "        [ 5.96833566e-02+4.81923401e-02j,\n",
       "         -1.25107137e-02-5.99758667e-03j]],\n",
       "\n",
       "       [[-2.25750999e-03+0.00000000e+00j,\n",
       "          2.02691966e-01+7.77692694e-02j],\n",
       "        [-3.17402410e-02-1.98219262e-15j,\n",
       "          1.74844328e-02-5.53130341e-03j],\n",
       "        [ 2.04046417e-01-3.85388444e-02j,\n",
       "          4.56601817e-02+1.12791391e-01j],\n",
       "        [-9.45014472e-01+1.57149043e-02j,\n",
       "         -1.59149196e-02+6.28808914e-03j]],\n",
       "\n",
       "       [[ 7.04615201e-03+0.00000000e+00j,\n",
       "          4.09911166e-01+3.47908787e-01j],\n",
       "        [ 9.90678061e-02-8.07513778e-16j,\n",
       "         -1.28723703e-01-2.47448520e-02j],\n",
       "        [-7.97172437e-01-1.10926692e-01j,\n",
       "         -5.47066072e-02+1.74082185e-01j],\n",
       "        [-3.79128178e-02-9.17062598e-04j,\n",
       "         -3.67780578e-02-3.03979563e-03j]],\n",
       "\n",
       "       [[ 6.05688010e-04+0.00000000e+00j,\n",
       "         -3.44112991e-01-2.50602565e-01j],\n",
       "        [ 8.51587963e-03-1.45283091e-17j,\n",
       "          1.59159188e-02+1.78239918e-02j],\n",
       "        [-8.23179349e-02-6.17268579e-02j,\n",
       "          1.53057467e-02+8.79376735e-01j],\n",
       "        [-8.89254603e-04-1.86768073e-03j,\n",
       "         -1.48615113e-01+1.09205403e-01j]],\n",
       "\n",
       "       [[ 8.10395836e-06+0.00000000e+00j,\n",
       "         -1.14125945e-02+4.21713232e-02j],\n",
       "        [ 1.13940400e-04+5.50503653e-17j,\n",
       "          6.97198730e-04-2.99941591e-03j],\n",
       "        [ 8.89160288e-03+1.47173129e-02j,\n",
       "          4.13796262e-02-1.86275674e-01j],\n",
       "        [-1.36095866e-04+6.93280531e-04j,\n",
       "         -9.33437560e-01+3.00115143e-01j]]])</details></samp><samp style='font-size: 12px;'><details><summary><b style=\"color: #e55471;\">Tensor</b>(shape=(<b style=\"color: #80d749;\">4</b>, <b style=\"color: #828fdd;\">2</b>, <b style=\"color: #828fdd;\">2</b>), inds=[<b style=\"color: #ce7fe3;\">_f07edfAAAAS</b>, <b style=\"color: #65ddd7;\">_f07edfAAAAT</b>, <b style=\"color: #7bcd9f;\">k8</b>], tags={<b style=\"color: #74d649;\">0</b>, <b style=\"color: #45ce3d;\">1</b>, <b style=\"color: #828fdd;\">2</b>, <b style=\"color: #8a5bcf;\">3</b>, <b style=\"color: #80d749;\">4</b>, <b style=\"color: #7355d7;\">5</b>, <b style=\"color: #a4de79;\">6</b>, <b style=\"color: #7930d2;\">7</b>, <b style=\"color: #39acd6;\">8</b>, <b style=\"color: #c14bdb;\">9</b>, <b style=\"color: #8a3dd8;\">I8</b>, <b style=\"color: #d3b991;\">PSI0</b>, <b style=\"color: #78c5e3;\">GATE_8</b>}),</summary>backend=<b style=\"color: #7fdd73;\">numpy</b>, dtype=<b style=\"color: #443ce1;\">complex128</b>, data=array([[[-7.04430199e-01+0.00000000e+00j,\n",
       "         -7.08002713e-01+1.55009422e-20j],\n",
       "        [ 3.55172653e-02-3.78063406e-20j,\n",
       "         -3.53380485e-02-3.87562545e-21j]],\n",
       "\n",
       "       [[ 5.01022729e-02+0.00000000e+00j,\n",
       "         -1.26725373e-04-3.90089758e-18j],\n",
       "        [-2.52614911e-03-4.20067366e-17j,\n",
       "         -9.98740890e-01+3.58230697e-17j]],\n",
       "\n",
       "       [[-7.07566097e-01+0.00000000e+00j,\n",
       "          7.05615068e-01-6.77886419e-04j],\n",
       "        [-3.11863539e-03-1.34790109e-02j,\n",
       "         -3.55770063e-02+3.41789319e-05j]],\n",
       "\n",
       "       [[ 2.48611357e-02+0.00000000e+00j,\n",
       "          2.16063122e-02-1.92931430e-02j],\n",
       "        [ 9.22699576e-01-3.83622504e-01j,\n",
       "         -1.08938703e-03+9.72757387e-04j]]])</details></samp></details></samp>"
      ],
      "text/plain": [
       "MatrixProductState(tensors=10, indices=19, L=10, max_bond=16)"
      ]
     },
     "execution_count": 31,
     "metadata": {},
     "output_type": "execute_result"
    }
   ],
   "source": [
    "obj._interface.state"
   ]
  },
  {
   "cell_type": "code",
   "execution_count": null,
   "metadata": {},
   "outputs": [
    {
     "data": {
      "text/plain": [
       "{'_psi': MatrixProductState(tensors=10, indices=19, L=10, max_bond=16),\n",
       " 'N': 10,\n",
       " 'gate_opts': {'contract': 'auto-mps',\n",
       "  'info': {'cur_orthog': (2, 2)},\n",
       "  'propagate_tags': 'register'},\n",
       " 'gates': [<Gate(label=RAW140247399305008, params=raw, qubits=(0, 1, 2, 3))>,\n",
       "  <Gate(label=RAW140247407911824, params=raw, qubits=(2,))>,\n",
       "  <Gate(label=RAW140247403127888, params=raw, qubits=(2,))>,\n",
       "  <Gate(label=RAW140247399484464, params=raw, qubits=(4, 2, 5))>,\n",
       "  <Gate(label=RAW140247399485040, params=raw, qubits=(6,))>,\n",
       "  <Gate(label=RAW140247401802800, params=raw, qubits=(7, 8))>,\n",
       "  <Gate(label=RAW140247401974352, params=raw, qubits=(6, 9, 7, 8))>,\n",
       "  <Gate(label=RAW140247399996464, params=raw, qubits=(2, 6, 9))>,\n",
       "  <Gate(label=RAW140247399676304, params=raw, qubits=(8,))>,\n",
       "  <Gate(label=RAW140247399465008, params=raw, qubits=(9, 7, 8))>,\n",
       "  <Gate(label=RAW140247399466448, params=raw, qubits=(9, 8))>,\n",
       "  <Gate(label=RAW140247399498256, params=raw, qubits=(2, 6, 7, 8))>],\n",
       " '_ket_site_ind_id': 'k{}',\n",
       " '_bra_site_ind_id': 'b{}',\n",
       " 'ket_site_ind': <function str.format>,\n",
       " 'bra_site_ind': <function str.format>,\n",
       " '_sample_n_gates': -1,\n",
       " '_storage': {},\n",
       " '_sampled_conditionals': {}}"
      ]
     },
     "execution_count": 32,
     "metadata": {},
     "output_type": "execute_result"
    }
   ],
   "source": [
    "obj._interface._circuitMPS.__dict__"
   ]
  },
  {
   "cell_type": "code",
   "execution_count": null,
   "metadata": {},
   "outputs": [
    {
     "data": {
      "text/plain": [
       "<Circuit(n=10, num_gates=12, gate_opts={'contract': 'auto-mps', 'info': {'cur_orthog': (2, 2)}, 'propagate_tags': 'register'})>"
      ]
     },
     "execution_count": 33,
     "metadata": {},
     "output_type": "execute_result"
    }
   ],
   "source": [
    "obj._interface._circuitMPS"
   ]
  },
  {
   "cell_type": "code",
   "execution_count": null,
   "metadata": {},
   "outputs": [
    {
     "data": {
      "text/plain": [
       "16"
      ]
     },
     "execution_count": 34,
     "metadata": {},
     "output_type": "execute_result"
    }
   ],
   "source": [
    "obj._interface._circuitMPS.psi.max_bond()"
   ]
  },
  {
   "cell_type": "code",
   "execution_count": null,
   "metadata": {},
   "outputs": [
    {
     "data": {
      "text/html": [
       "<samp style='font-size: 12px;'><details><summary><b style=\"color: #d75692;\">MatrixProductState</b>(tensors=10, indices=19, L=10, max_bond=16)</summary><samp style='font-size: 12px;'><details><summary><b style=\"color: #e55471;\">Tensor</b>(shape=(<b style=\"color: #828fdd;\">2</b>, <b style=\"color: #828fdd;\">2</b>), inds=[<b style=\"color: #d87fc0;\">_f07edfAAAAL</b>, <b style=\"color: #b1dc61;\">k0</b>], tags={<b style=\"color: #74d649;\">0</b>, <b style=\"color: #45ce3d;\">1</b>, <b style=\"color: #828fdd;\">2</b>, <b style=\"color: #8a5bcf;\">3</b>, <b style=\"color: #80d749;\">4</b>, <b style=\"color: #7355d7;\">5</b>, <b style=\"color: #a4de79;\">6</b>, <b style=\"color: #7930d2;\">7</b>, <b style=\"color: #39acd6;\">8</b>, <b style=\"color: #c14bdb;\">9</b>, <b style=\"color: #d2b137;\">I0</b>, <b style=\"color: #d3b991;\">PSI0</b>}),</summary>backend=<b style=\"color: #7fdd73;\">numpy</b>, dtype=<b style=\"color: #443ce1;\">complex128</b>, data=array([[ 1.00000000e+00+0.j, -1.39569705e-85+0.j],\n",
       "       [ 1.39569705e-85+0.j,  1.00000000e+00+0.j]])</details></samp><samp style='font-size: 12px;'><details><summary><b style=\"color: #e55471;\">Tensor</b>(shape=(<b style=\"color: #828fdd;\">2</b>, <b style=\"color: #80d749;\">4</b>, <b style=\"color: #828fdd;\">2</b>), inds=[<b style=\"color: #d87fc0;\">_f07edfAAAAL</b>, <b style=\"color: #4fcdb5;\">_f07edfAAAAM</b>, <b style=\"color: #8aa5db;\">k1</b>], tags={<b style=\"color: #74d649;\">0</b>, <b style=\"color: #45ce3d;\">1</b>, <b style=\"color: #828fdd;\">2</b>, <b style=\"color: #8a5bcf;\">3</b>, <b style=\"color: #80d749;\">4</b>, <b style=\"color: #7355d7;\">5</b>, <b style=\"color: #a4de79;\">6</b>, <b style=\"color: #7930d2;\">7</b>, <b style=\"color: #39acd6;\">8</b>, <b style=\"color: #c14bdb;\">9</b>, <b style=\"color: #d19b78;\">I1</b>, <b style=\"color: #d3b991;\">PSI0</b>}),</summary>backend=<b style=\"color: #7fdd73;\">numpy</b>, dtype=<b style=\"color: #443ce1;\">complex128</b>, data=array([[[-1.00000000e+000+0.j, -3.62343669e-052+0.j],\n",
       "        [-3.16617301e-034-0.j, -5.73621373e-086-0.j],\n",
       "        [-1.14724275e-085+0.j,  2.29469008e-119+0.j],\n",
       "        [ 6.99408198e-050+0.j,  1.00000000e+000+0.j]],\n",
       "\n",
       "       [[-1.14724275e-085+0.j,  3.16617301e-034+0.j],\n",
       "        [-4.11087459e-119-0.j, -1.00000000e+000+0.j],\n",
       "        [ 1.00000000e+000+0.j, -4.78505576e-120+0.j],\n",
       "        [-2.29469008e-119+0.j,  2.22044605e-016+0.j]]])</details></samp><samp style='font-size: 12px;'><details><summary><b style=\"color: #e55471;\">Tensor</b>(shape=(<b style=\"color: #828fdd;\">2</b>, <b style=\"color: #828fdd;\">2</b>), inds=[<b style=\"color: #65ddd7;\">_f07edfAAAAT</b>, <b style=\"color: #cc70c1;\">k9</b>], tags={<b style=\"color: #74d649;\">0</b>, <b style=\"color: #45ce3d;\">1</b>, <b style=\"color: #828fdd;\">2</b>, <b style=\"color: #8a5bcf;\">3</b>, <b style=\"color: #80d749;\">4</b>, <b style=\"color: #7355d7;\">5</b>, <b style=\"color: #a4de79;\">6</b>, <b style=\"color: #7930d2;\">7</b>, <b style=\"color: #39acd6;\">8</b>, <b style=\"color: #c14bdb;\">9</b>, <b style=\"color: #d74979;\">I9</b>, <b style=\"color: #d3b991;\">PSI0</b>}),</summary>backend=<b style=\"color: #7fdd73;\">numpy</b>, dtype=<b style=\"color: #443ce1;\">complex128</b>, data=array([[-9.98731338e-01+1.32994429e-23j,  3.51713724e-20+5.03558847e-02j],\n",
       "       [ 5.03558847e-02+3.51707023e-20j, -8.44160580e-27+9.98731338e-01j]])</details></samp><samp style='font-size: 12px;'><details><summary><b style=\"color: #e55471;\">Tensor</b>(shape=(<b style=\"color: #80d749;\">4</b>, <b style=\"color: #39acd6;\">8</b>, <b style=\"color: #828fdd;\">2</b>), inds=[<b style=\"color: #4fcdb5;\">_f07edfAAAAM</b>, <b style=\"color: #a88ad1;\">_f07edfAAAAN</b>, <b style=\"color: #df546d;\">k2</b>], tags={<b style=\"color: #74d649;\">0</b>, <b style=\"color: #45ce3d;\">1</b>, <b style=\"color: #828fdd;\">2</b>, <b style=\"color: #8a5bcf;\">3</b>, <b style=\"color: #80d749;\">4</b>, <b style=\"color: #7355d7;\">5</b>, <b style=\"color: #a4de79;\">6</b>, <b style=\"color: #7930d2;\">7</b>, <b style=\"color: #39acd6;\">8</b>, <b style=\"color: #c14bdb;\">9</b>, <b style=\"color: #dd5dd7;\">I2</b>, <b style=\"color: #d3b991;\">PSI0</b>, <b style=\"color: #40c3d8;\">GATE_1</b>, <b style=\"color: #64dc8a;\">GATE_2</b>}),</summary>backend=<b style=\"color: #7fdd73;\">numpy</b>, dtype=<b style=\"color: #443ce1;\">complex128</b>, data=array([[[ 2.22243097e-16+4.94834901e-02j,\n",
       "         -9.98750200e-01+2.77447835e-17j],\n",
       "        [ 1.46420194e-04+7.01998106e-03j,\n",
       "          3.47807853e-04-7.25444884e-06j],\n",
       "        [-7.62268753e-52-5.63297744e-51j,\n",
       "         -2.79074202e-52+3.77648306e-53j],\n",
       "        [-6.13597906e-56+3.97728136e-54j,\n",
       "          9.90044441e-56+9.65166430e-57j],\n",
       "        [ 0.00000000e+00+0.00000000e+00j,\n",
       "          0.00000000e+00+0.00000000e+00j],\n",
       "        [ 0.00000000e+00+0.00000000e+00j,\n",
       "          0.00000000e+00+0.00000000e+00j],\n",
       "        [ 0.00000000e+00+0.00000000e+00j,\n",
       "          0.00000000e+00+0.00000000e+00j],\n",
       "        [ 0.00000000e+00+0.00000000e+00j,\n",
       "          0.00000000e+00+0.00000000e+00j]],\n",
       "\n",
       "       [[-9.77879372e-36-3.46083061e-40j,\n",
       "          6.64165844e-42+4.94411157e-37j],\n",
       "        [-1.38365798e-36+2.36972981e-37j,\n",
       "          1.05108909e-36+2.81438862e-35j],\n",
       "        [ 6.97601614e-20-1.05898827e-20j,\n",
       "          2.13740935e-19+1.40800447e-18j],\n",
       "        [ 9.98943128e-21-6.73228222e-22j,\n",
       "         -3.33553696e-23-4.94930488e-22j],\n",
       "        [ 0.00000000e+00+0.00000000e+00j,\n",
       "          0.00000000e+00+0.00000000e+00j],\n",
       "        [ 0.00000000e+00+0.00000000e+00j,\n",
       "          0.00000000e+00+0.00000000e+00j],\n",
       "        [ 0.00000000e+00+0.00000000e+00j,\n",
       "          0.00000000e+00+0.00000000e+00j],\n",
       "        [ 0.00000000e+00+0.00000000e+00j,\n",
       "          0.00000000e+00+0.00000000e+00j]],\n",
       "\n",
       "       [[ 0.00000000e+00+0.00000000e+00j,\n",
       "          0.00000000e+00+0.00000000e+00j],\n",
       "        [ 0.00000000e+00+0.00000000e+00j,\n",
       "          0.00000000e+00+0.00000000e+00j],\n",
       "        [ 0.00000000e+00+0.00000000e+00j,\n",
       "          0.00000000e+00+0.00000000e+00j],\n",
       "        [ 0.00000000e+00+0.00000000e+00j,\n",
       "          0.00000000e+00+0.00000000e+00j],\n",
       "        [ 0.00000000e+00+0.00000000e+00j,\n",
       "          0.00000000e+00+0.00000000e+00j],\n",
       "        [ 0.00000000e+00+0.00000000e+00j,\n",
       "          0.00000000e+00+0.00000000e+00j],\n",
       "        [ 0.00000000e+00+0.00000000e+00j,\n",
       "          0.00000000e+00+0.00000000e+00j],\n",
       "        [ 0.00000000e+00+0.00000000e+00j,\n",
       "          0.00000000e+00+0.00000000e+00j]],\n",
       "\n",
       "       [[ 0.00000000e+00+0.00000000e+00j,\n",
       "          0.00000000e+00+0.00000000e+00j],\n",
       "        [ 0.00000000e+00+0.00000000e+00j,\n",
       "          0.00000000e+00+0.00000000e+00j],\n",
       "        [ 0.00000000e+00+0.00000000e+00j,\n",
       "          0.00000000e+00+0.00000000e+00j],\n",
       "        [ 0.00000000e+00+0.00000000e+00j,\n",
       "          0.00000000e+00+0.00000000e+00j],\n",
       "        [ 0.00000000e+00+0.00000000e+00j,\n",
       "          0.00000000e+00+0.00000000e+00j],\n",
       "        [ 0.00000000e+00+0.00000000e+00j,\n",
       "          0.00000000e+00+0.00000000e+00j],\n",
       "        [ 0.00000000e+00+0.00000000e+00j,\n",
       "          0.00000000e+00+0.00000000e+00j],\n",
       "        [ 0.00000000e+00+0.00000000e+00j,\n",
       "          0.00000000e+00+0.00000000e+00j]]])</details></samp><samp style='font-size: 12px;'><details><summary><b style=\"color: #e55471;\">Tensor</b>(shape=(<b style=\"color: #39acd6;\">8</b>, <b style=\"color: #96b5d9;\">16</b>, <b style=\"color: #828fdd;\">2</b>), inds=[<b style=\"color: #a88ad1;\">_f07edfAAAAN</b>, <b style=\"color: #39e5d2;\">_f07edfAAAAO</b>, <b style=\"color: #4c7be1;\">k3</b>], tags={<b style=\"color: #74d649;\">0</b>, <b style=\"color: #45ce3d;\">1</b>, <b style=\"color: #828fdd;\">2</b>, <b style=\"color: #8a5bcf;\">3</b>, <b style=\"color: #80d749;\">4</b>, <b style=\"color: #7355d7;\">5</b>, <b style=\"color: #a4de79;\">6</b>, <b style=\"color: #7930d2;\">7</b>, <b style=\"color: #39acd6;\">8</b>, <b style=\"color: #c14bdb;\">9</b>, <b style=\"color: #dd65d9;\">I3</b>, <b style=\"color: #d3b991;\">PSI0</b>}),</summary>backend=<b style=\"color: #7fdd73;\">numpy</b>, dtype=<b style=\"color: #443ce1;\">complex128</b>, data=...</details></samp><samp style='font-size: 12px;'><details><summary><b style=\"color: #e55471;\">Tensor</b>(shape=(<b style=\"color: #96b5d9;\">16</b>, <b style=\"color: #96b5d9;\">16</b>, <b style=\"color: #828fdd;\">2</b>), inds=[<b style=\"color: #39e5d2;\">_f07edfAAAAO</b>, <b style=\"color: #a9df42;\">_f07edfAAAAP</b>, <b style=\"color: #462edc;\">k4</b>], tags={<b style=\"color: #74d649;\">0</b>, <b style=\"color: #45ce3d;\">1</b>, <b style=\"color: #828fdd;\">2</b>, <b style=\"color: #8a5bcf;\">3</b>, <b style=\"color: #80d749;\">4</b>, <b style=\"color: #7355d7;\">5</b>, <b style=\"color: #a4de79;\">6</b>, <b style=\"color: #7930d2;\">7</b>, <b style=\"color: #39acd6;\">8</b>, <b style=\"color: #c14bdb;\">9</b>, <b style=\"color: #998ad1;\">I4</b>, <b style=\"color: #d3b991;\">PSI0</b>}),</summary>backend=<b style=\"color: #7fdd73;\">numpy</b>, dtype=<b style=\"color: #443ce1;\">complex128</b>, data=...</details></samp><samp style='font-size: 12px;'><details><summary><b style=\"color: #e55471;\">Tensor</b>(shape=(<b style=\"color: #96b5d9;\">16</b>, <b style=\"color: #39acd6;\">8</b>, <b style=\"color: #828fdd;\">2</b>), inds=[<b style=\"color: #a9df42;\">_f07edfAAAAP</b>, <b style=\"color: #b7cc66;\">_f07edfAAAAQ</b>, <b style=\"color: #85dfdf;\">k5</b>], tags={<b style=\"color: #74d649;\">0</b>, <b style=\"color: #45ce3d;\">1</b>, <b style=\"color: #828fdd;\">2</b>, <b style=\"color: #8a5bcf;\">3</b>, <b style=\"color: #80d749;\">4</b>, <b style=\"color: #7355d7;\">5</b>, <b style=\"color: #a4de79;\">6</b>, <b style=\"color: #7930d2;\">7</b>, <b style=\"color: #39acd6;\">8</b>, <b style=\"color: #c14bdb;\">9</b>, <b style=\"color: #97dddc;\">I5</b>, <b style=\"color: #d3b991;\">PSI0</b>}),</summary>backend=<b style=\"color: #7fdd73;\">numpy</b>, dtype=<b style=\"color: #443ce1;\">complex128</b>, data=...</details></samp><samp style='font-size: 12px;'><details><summary><b style=\"color: #e55471;\">Tensor</b>(shape=(<b style=\"color: #39acd6;\">8</b>, <b style=\"color: #39acd6;\">8</b>, <b style=\"color: #828fdd;\">2</b>), inds=[<b style=\"color: #b7cc66;\">_f07edfAAAAQ</b>, <b style=\"color: #5fb3cd;\">_f07edfAAAAR</b>, <b style=\"color: #2cb7d3;\">k6</b>], tags={<b style=\"color: #74d649;\">0</b>, <b style=\"color: #45ce3d;\">1</b>, <b style=\"color: #828fdd;\">2</b>, <b style=\"color: #8a5bcf;\">3</b>, <b style=\"color: #80d749;\">4</b>, <b style=\"color: #7355d7;\">5</b>, <b style=\"color: #a4de79;\">6</b>, <b style=\"color: #7930d2;\">7</b>, <b style=\"color: #39acd6;\">8</b>, <b style=\"color: #c14bdb;\">9</b>, <b style=\"color: #b2de5f;\">I6</b>, <b style=\"color: #d3b991;\">PSI0</b>, <b style=\"color: #cc4280;\">GATE_4</b>}),</summary>backend=<b style=\"color: #7fdd73;\">numpy</b>, dtype=<b style=\"color: #443ce1;\">complex128</b>, data=...</details></samp><samp style='font-size: 12px;'><details><summary><b style=\"color: #e55471;\">Tensor</b>(shape=(<b style=\"color: #39acd6;\">8</b>, <b style=\"color: #80d749;\">4</b>, <b style=\"color: #828fdd;\">2</b>), inds=[<b style=\"color: #5fb3cd;\">_f07edfAAAAR</b>, <b style=\"color: #ce7fe3;\">_f07edfAAAAS</b>, <b style=\"color: #53e08f;\">k7</b>], tags={<b style=\"color: #74d649;\">0</b>, <b style=\"color: #45ce3d;\">1</b>, <b style=\"color: #828fdd;\">2</b>, <b style=\"color: #8a5bcf;\">3</b>, <b style=\"color: #80d749;\">4</b>, <b style=\"color: #7355d7;\">5</b>, <b style=\"color: #a4de79;\">6</b>, <b style=\"color: #7930d2;\">7</b>, <b style=\"color: #39acd6;\">8</b>, <b style=\"color: #c14bdb;\">9</b>, <b style=\"color: #5582d6;\">I7</b>, <b style=\"color: #d3b991;\">PSI0</b>}),</summary>backend=<b style=\"color: #7fdd73;\">numpy</b>, dtype=<b style=\"color: #443ce1;\">complex128</b>, data=array([[[ 9.97517488e-01+0.00000000e+00j,\n",
       "          4.99584860e-03+4.13172737e-17j],\n",
       "        [-3.51786004e-04+2.86163633e-18j,\n",
       "          7.02408577e-02+2.69680160e-18j],\n",
       "        [-8.84456094e-21-5.07402522e-21j,\n",
       "          5.74164404e-19+5.30450461e-19j],\n",
       "        [ 6.25915355e-23+3.58336515e-22j,\n",
       "          9.44891141e-21-9.13191062e-20j]],\n",
       "\n",
       "       [[ 4.94190366e-02+0.00000000e+00j,\n",
       "         -4.99165371e-02+1.90690339e-15j],\n",
       "        [-7.08883979e-01+5.27681125e-16j,\n",
       "         -7.01818782e-01-2.18172438e-16j],\n",
       "        [ 3.55832934e-15+2.04137356e-15j,\n",
       "         -1.28011945e-15+7.58664519e-17j],\n",
       "        [-2.51817245e-17-1.44165362e-16j,\n",
       "          6.35125921e-17-2.22401860e-16j]],\n",
       "\n",
       "       [[-8.31528272e-03+0.00000000e+00j,\n",
       "          2.61097354e-03-6.66544328e-01j],\n",
       "        [-1.16911587e-01+8.62157568e-16j,\n",
       "          1.17317304e-01+4.74076578e-02j],\n",
       "        [-3.35076149e-01-4.21952394e-01j,\n",
       "          2.60616735e-01-2.56093256e-01j],\n",
       "        [-1.26696798e-01-2.88653782e-01j,\n",
       "          3.50110577e-02+3.92427991e-02j]],\n",
       "\n",
       "       [[-4.89117953e-02+0.00000000e+00j,\n",
       "          9.64411103e-02+1.56749769e-01j],\n",
       "        [-6.87692268e-01+4.20019922e-16j,\n",
       "          6.84311767e-01-1.11487550e-02j],\n",
       "        [-6.83100873e-02+5.67711934e-02j,\n",
       "         -5.40983082e-02+7.42681396e-02j],\n",
       "        [ 5.96833566e-02+4.81923401e-02j,\n",
       "         -1.25107137e-02-5.99758667e-03j]],\n",
       "\n",
       "       [[-2.25750999e-03+0.00000000e+00j,\n",
       "          2.02691966e-01+7.77692694e-02j],\n",
       "        [-3.17402410e-02-1.98219262e-15j,\n",
       "          1.74844328e-02-5.53130341e-03j],\n",
       "        [ 2.04046417e-01-3.85388444e-02j,\n",
       "          4.56601817e-02+1.12791391e-01j],\n",
       "        [-9.45014472e-01+1.57149043e-02j,\n",
       "         -1.59149196e-02+6.28808914e-03j]],\n",
       "\n",
       "       [[ 7.04615201e-03+0.00000000e+00j,\n",
       "          4.09911166e-01+3.47908787e-01j],\n",
       "        [ 9.90678061e-02-8.07513778e-16j,\n",
       "         -1.28723703e-01-2.47448520e-02j],\n",
       "        [-7.97172437e-01-1.10926692e-01j,\n",
       "         -5.47066072e-02+1.74082185e-01j],\n",
       "        [-3.79128178e-02-9.17062598e-04j,\n",
       "         -3.67780578e-02-3.03979563e-03j]],\n",
       "\n",
       "       [[ 6.05688010e-04+0.00000000e+00j,\n",
       "         -3.44112991e-01-2.50602565e-01j],\n",
       "        [ 8.51587963e-03-1.45283091e-17j,\n",
       "          1.59159188e-02+1.78239918e-02j],\n",
       "        [-8.23179349e-02-6.17268579e-02j,\n",
       "          1.53057467e-02+8.79376735e-01j],\n",
       "        [-8.89254603e-04-1.86768073e-03j,\n",
       "         -1.48615113e-01+1.09205403e-01j]],\n",
       "\n",
       "       [[ 8.10395836e-06+0.00000000e+00j,\n",
       "         -1.14125945e-02+4.21713232e-02j],\n",
       "        [ 1.13940400e-04+5.50503653e-17j,\n",
       "          6.97198730e-04-2.99941591e-03j],\n",
       "        [ 8.89160288e-03+1.47173129e-02j,\n",
       "          4.13796262e-02-1.86275674e-01j],\n",
       "        [-1.36095866e-04+6.93280531e-04j,\n",
       "         -9.33437560e-01+3.00115143e-01j]]])</details></samp><samp style='font-size: 12px;'><details><summary><b style=\"color: #e55471;\">Tensor</b>(shape=(<b style=\"color: #80d749;\">4</b>, <b style=\"color: #828fdd;\">2</b>, <b style=\"color: #828fdd;\">2</b>), inds=[<b style=\"color: #ce7fe3;\">_f07edfAAAAS</b>, <b style=\"color: #65ddd7;\">_f07edfAAAAT</b>, <b style=\"color: #7bcd9f;\">k8</b>], tags={<b style=\"color: #74d649;\">0</b>, <b style=\"color: #45ce3d;\">1</b>, <b style=\"color: #828fdd;\">2</b>, <b style=\"color: #8a5bcf;\">3</b>, <b style=\"color: #80d749;\">4</b>, <b style=\"color: #7355d7;\">5</b>, <b style=\"color: #a4de79;\">6</b>, <b style=\"color: #7930d2;\">7</b>, <b style=\"color: #39acd6;\">8</b>, <b style=\"color: #c14bdb;\">9</b>, <b style=\"color: #8a3dd8;\">I8</b>, <b style=\"color: #d3b991;\">PSI0</b>, <b style=\"color: #78c5e3;\">GATE_8</b>}),</summary>backend=<b style=\"color: #7fdd73;\">numpy</b>, dtype=<b style=\"color: #443ce1;\">complex128</b>, data=array([[[-7.04430199e-01+0.00000000e+00j,\n",
       "         -7.08002713e-01+1.55009422e-20j],\n",
       "        [ 3.55172653e-02-3.78063406e-20j,\n",
       "         -3.53380485e-02-3.87562545e-21j]],\n",
       "\n",
       "       [[ 5.01022729e-02+0.00000000e+00j,\n",
       "         -1.26725373e-04-3.90089758e-18j],\n",
       "        [-2.52614911e-03-4.20067366e-17j,\n",
       "         -9.98740890e-01+3.58230697e-17j]],\n",
       "\n",
       "       [[-7.07566097e-01+0.00000000e+00j,\n",
       "          7.05615068e-01-6.77886419e-04j],\n",
       "        [-3.11863539e-03-1.34790109e-02j,\n",
       "         -3.55770063e-02+3.41789319e-05j]],\n",
       "\n",
       "       [[ 2.48611357e-02+0.00000000e+00j,\n",
       "          2.16063122e-02-1.92931430e-02j],\n",
       "        [ 9.22699576e-01-3.83622504e-01j,\n",
       "         -1.08938703e-03+9.72757387e-04j]]])</details></samp></details></samp>"
      ],
      "text/plain": [
       "MatrixProductState(tensors=10, indices=19, L=10, max_bond=16)"
      ]
     },
     "execution_count": 35,
     "metadata": {},
     "output_type": "execute_result"
    }
   ],
   "source": [
    "obj._interface._circuitMPS.psi"
   ]
  },
  {
   "cell_type": "code",
   "execution_count": null,
   "metadata": {},
   "outputs": [
    {
     "ename": "AttributeError",
     "evalue": "'QuimbMPS' object has no attribute 'draw_state'",
     "output_type": "error",
     "traceback": [
      "\u001b[0;31m---------------------------------------------------------------------------\u001b[0m",
      "\u001b[0;31mAttributeError\u001b[0m                            Traceback (most recent call last)",
      "Cell \u001b[0;32mIn[36], line 1\u001b[0m\n\u001b[0;32m----> 1\u001b[0m \u001b[43mobj\u001b[49m\u001b[38;5;241;43m.\u001b[39;49m\u001b[43m_interface\u001b[49m\u001b[38;5;241;43m.\u001b[39;49m\u001b[43mdraw_state\u001b[49m()\n",
      "\u001b[0;31mAttributeError\u001b[0m: 'QuimbMPS' object has no attribute 'draw_state'"
     ]
    }
   ],
   "source": [
    "obj._interface.draw_state()"
   ]
  },
  {
   "cell_type": "code",
   "execution_count": null,
   "metadata": {},
   "outputs": [
    {
     "data": {
      "text/plain": [
       "array([[-9.70721342e-16-3.51640537e-02j],\n",
       "       [-7.37334931e-17-1.99997141e-16j],\n",
       "       [-9.54683404e-16-3.51640537e-02j],\n",
       "       ...,\n",
       "       [-1.52995922e-17-1.40746439e-17j],\n",
       "       [-2.72578330e-18+5.65843315e-18j],\n",
       "       [ 3.03828654e-18-7.13169082e-18j]])"
      ]
     },
     "execution_count": 36,
     "metadata": {},
     "output_type": "execute_result"
    }
   ],
   "source": [
    "obj._interface._circuitMPS.psi.to_dense()"
   ]
  },
  {
   "cell_type": "code",
   "execution_count": null,
   "metadata": {},
   "outputs": [],
   "source": [
    "# obj.compute_derivatives(tape)"
   ]
  },
  {
   "cell_type": "code",
   "execution_count": null,
   "metadata": {},
   "outputs": [],
   "source": [
    "# obj._interface.state_to_array()"
   ]
  },
  {
   "cell_type": "code",
   "execution_count": null,
   "metadata": {},
   "outputs": [
    {
     "data": {
      "text/html": [
       "<samp style='font-size: 12px;'><details><summary><b style=\"color: #d75692;\">MatrixProductState</b>(tensors=10, indices=19, L=10, max_bond=32)</summary><samp style='font-size: 12px;'><details><summary><b style=\"color: #e55471;\">Tensor</b>(shape=(<b style=\"color: #828fdd;\">2</b>, <b style=\"color: #828fdd;\">2</b>), inds=[<b style=\"color: #de6ec5;\">_b695aaAAAAJ</b>, <b style=\"color: #b1dc61;\">k0</b>], tags={<b style=\"color: #74d649;\">0</b>, <b style=\"color: #45ce3d;\">1</b>, <b style=\"color: #828fdd;\">2</b>, <b style=\"color: #8a5bcf;\">3</b>, <b style=\"color: #80d749;\">4</b>, <b style=\"color: #7355d7;\">5</b>, <b style=\"color: #a4de79;\">6</b>, <b style=\"color: #7930d2;\">7</b>, <b style=\"color: #39acd6;\">8</b>, <b style=\"color: #c14bdb;\">9</b>, <b style=\"color: #d2b137;\">I0</b>, <b style=\"color: #d3b991;\">PSI0</b>, <b style=\"color: #394bd1;\">GATE_3</b>, <b style=\"color: #da9170;\">GATE_7</b>, <b style=\"color: #e3a694;\">GATE_12</b>, <b style=\"color: #d8e230;\">GATE_16</b>, <b style=\"color: #4fe13d;\">GATE_21</b>, <b style=\"color: #9fe3c6;\">GATE_24</b>}),</summary>backend=<b style=\"color: #7fdd73;\">numpy</b>, dtype=<b style=\"color: #443ce1;\">complex128</b>, data=array([[1.+0.j, 0.+0.j],\n",
       "       [0.+0.j, 1.+0.j]])</details></samp><samp style='font-size: 12px;'><details><summary><b style=\"color: #e55471;\">Tensor</b>(shape=(<b style=\"color: #828fdd;\">2</b>, <b style=\"color: #80d749;\">4</b>, <b style=\"color: #828fdd;\">2</b>), inds=[<b style=\"color: #de6ec5;\">_b695aaAAAAJ</b>, <b style=\"color: #cd8fe5;\">_b695aaAAAAK</b>, <b style=\"color: #8aa5db;\">k1</b>], tags={<b style=\"color: #74d649;\">0</b>, <b style=\"color: #45ce3d;\">1</b>, <b style=\"color: #828fdd;\">2</b>, <b style=\"color: #8a5bcf;\">3</b>, <b style=\"color: #80d749;\">4</b>, <b style=\"color: #7355d7;\">5</b>, <b style=\"color: #a4de79;\">6</b>, <b style=\"color: #7930d2;\">7</b>, <b style=\"color: #39acd6;\">8</b>, <b style=\"color: #c14bdb;\">9</b>, <b style=\"color: #d19b78;\">I1</b>, <b style=\"color: #d3b991;\">PSI0</b>, <b style=\"color: #bade88;\">GATE_6</b>, <b style=\"color: #3bd699;\">GATE_11</b>, <b style=\"color: #71d75c;\">GATE_15</b>, <b style=\"color: #dfa87e;\">GATE_20</b>}),</summary>backend=<b style=\"color: #7fdd73;\">numpy</b>, dtype=<b style=\"color: #443ce1;\">complex128</b>, data=array([[[-1.00000000e+00+0.j, -5.85866908e-32+0.j],\n",
       "        [ 0.00000000e+00+0.j,  0.00000000e+00+0.j],\n",
       "        [ 0.00000000e+00+0.j,  0.00000000e+00+0.j],\n",
       "        [-5.85866908e-32+0.j,  1.00000000e+00+0.j]],\n",
       "\n",
       "       [[ 0.00000000e+00+0.j,  0.00000000e+00+0.j],\n",
       "        [-9.37408511e-01+0.j,  3.48231652e-01+0.j],\n",
       "        [ 3.48231652e-01+0.j,  9.37408511e-01+0.j],\n",
       "        [ 0.00000000e+00+0.j,  0.00000000e+00+0.j]]])</details></samp><samp style='font-size: 12px;'><details><summary><b style=\"color: #e55471;\">Tensor</b>(shape=(<b style=\"color: #80d749;\">4</b>, <b style=\"color: #39acd6;\">8</b>, <b style=\"color: #828fdd;\">2</b>), inds=[<b style=\"color: #cd8fe5;\">_b695aaAAAAK</b>, <b style=\"color: #6b4ce0;\">_b695aaAAAAL</b>, <b style=\"color: #df546d;\">k2</b>], tags={<b style=\"color: #74d649;\">0</b>, <b style=\"color: #45ce3d;\">1</b>, <b style=\"color: #828fdd;\">2</b>, <b style=\"color: #8a5bcf;\">3</b>, <b style=\"color: #80d749;\">4</b>, <b style=\"color: #7355d7;\">5</b>, <b style=\"color: #a4de79;\">6</b>, <b style=\"color: #7930d2;\">7</b>, <b style=\"color: #39acd6;\">8</b>, <b style=\"color: #c14bdb;\">9</b>, <b style=\"color: #dd5dd7;\">I2</b>, <b style=\"color: #d3b991;\">PSI0</b>, <b style=\"color: #8ed0e1;\">GATE_28</b>, <b style=\"color: #b776d2;\">GATE_29</b>, <b style=\"color: #9f5bd1;\">GATE_30</b>, <b style=\"color: #6785d3;\">GATE_32</b>, <b style=\"color: #ac6be4;\">GATE_34</b>, <b style=\"color: #d878b9;\">GATE_36</b>, <b style=\"color: #41d56c;\">GATE_38</b>, <b style=\"color: #5373d2;\">GATE_41</b>, <b style=\"color: #53e04b;\">GATE_54</b>, <b style=\"color: #e14a48;\">GATE_58</b>, <b style=\"color: #2fd2cf;\">GATE_60</b>, <b style=\"color: #8cd492;\">GATE_62</b>, <b style=\"color: #54cedf;\">GATE_64</b>, <b style=\"color: #da8cd0;\">GATE_66</b>, <b style=\"color: #d666a7;\">GATE_68</b>, <b style=\"color: #d12f74;\">GATE_71</b>, <b style=\"color: #d992b1;\">GATE_117</b>, <b style=\"color: #9dcee4;\">GATE_132</b>, <b style=\"color: #39d176;\">GATE_147</b>, <b style=\"color: #475ee4;\">GATE_200</b>, <b style=\"color: #9ee086;\">GATE_204</b>, <b style=\"color: #71df2f;\">GATE_209</b>, <b style=\"color: #93dab6;\">GATE_213</b>, <b style=\"color: #a64adf;\">GATE_218</b>, <b style=\"color: #58e1ab;\">GATE_221</b>}),</summary>backend=<b style=\"color: #7fdd73;\">numpy</b>, dtype=<b style=\"color: #443ce1;\">complex128</b>, data=array([[[-4.94847129e-02+3.36904091e-20j,\n",
       "          2.77553283e-14-9.98774881e-01j],\n",
       "        [-9.98774881e-01+3.37393248e-17j,\n",
       "         -1.37344372e-15+4.94847129e-02j],\n",
       "        [ 1.45385125e-15+1.33285312e-30j,\n",
       "         -1.67652934e-18-7.59673085e-17j],\n",
       "        [-2.45088028e-15+4.35180185e-31j,\n",
       "          5.38127022e-19+1.34005447e-16j],\n",
       "        [ 2.98443576e-15-9.17702148e-31j,\n",
       "         -3.15752046e-17-1.47758487e-16j],\n",
       "        [ 2.00448158e-15+8.40620023e-31j,\n",
       "         -1.15396778e-17-9.66589634e-17j],\n",
       "        [-1.46426166e-15-1.01511696e-31j,\n",
       "          1.98326622e-17+6.13136755e-17j],\n",
       "        [ 7.03763990e-15-2.10031088e-30j,\n",
       "         -2.06832646e-17-3.35443776e-16j]],\n",
       "\n",
       "       [[ 5.26525149e-19-2.51114084e-18j,\n",
       "         -1.84872625e-17-1.16136262e-17j],\n",
       "        [-2.51547359e-16+5.61757350e-16j,\n",
       "          4.93805411e-15-6.44070985e-16j],\n",
       "        [-5.87897183e-01+7.82726416e-01j,\n",
       "          1.03555946e-01+1.29749211e-02j],\n",
       "        [-1.14539246e-01+3.50843085e-02j,\n",
       "         -4.23970166e-01+5.35060031e-02j],\n",
       "        [-3.50082794e-02+5.94005321e-03j,\n",
       "          1.44195778e-01-4.43171741e-01j],\n",
       "        [ 8.16637124e-02+5.15583930e-02j,\n",
       "         -1.95062332e-01-2.36950708e-01j],\n",
       "        [ 7.70864665e-02+4.36793965e-02j,\n",
       "          1.50030630e-01+3.18534480e-01j],\n",
       "        [ 5.34897016e-02-7.78887482e-02j,\n",
       "          5.57257046e-01+2.46164248e-01j]],\n",
       "\n",
       "       [[ 1.51184261e-18-8.51268297e-19j,\n",
       "          3.18334960e-18-2.86073142e-17j],\n",
       "        [-2.55134775e-16+1.85635879e-15j,\n",
       "          3.45489800e-15-1.00732161e-15j],\n",
       "        [ 2.76262410e-02+5.55825915e-02j,\n",
       "          1.35460767e-01+1.64799968e-02j],\n",
       "        [ 4.01223610e-01-5.66295806e-02j,\n",
       "         -7.33626992e-02-2.00184181e-01j],\n",
       "        [ 3.17396613e-01-4.50297024e-01j,\n",
       "          4.86041825e-02+2.30962569e-01j],\n",
       "        [ 2.40956632e-02+6.38084416e-01j,\n",
       "          7.08926380e-02+4.86372861e-01j],\n",
       "        [ 2.54120205e-01-6.10862687e-02j,\n",
       "         -4.03355384e-01+5.08035264e-01j],\n",
       "        [ 9.23442488e-03+2.28748428e-01j,\n",
       "          3.12079479e-01-3.47049854e-01j]],\n",
       "\n",
       "       [[-2.11272387e-18-1.45637088e-18j,\n",
       "         -2.84317171e-17+1.73456948e-17j],\n",
       "        [ 1.33540626e-15+2.66076896e-17j,\n",
       "         -5.28670234e-15-1.23084389e-15j],\n",
       "        [ 3.01876517e-02-4.54361372e-02j,\n",
       "          2.59130866e-02+6.85784861e-02j],\n",
       "        [-7.09902305e-01+8.43478707e-02j,\n",
       "         -9.38939544e-02-2.71111140e-01j],\n",
       "        [ 2.40435331e-01-1.06286849e-01j,\n",
       "         -3.96673525e-01-4.42578240e-01j],\n",
       "        [-1.90917487e-02+3.33935134e-01j,\n",
       "         -3.66121765e-01+3.51973608e-02j],\n",
       "        [-1.89791113e-01-4.66908632e-01j,\n",
       "         -1.40449114e-01+3.24533642e-01j],\n",
       "        [-1.99968575e-01-1.04658668e-01j,\n",
       "         -5.45261249e-01-3.79595222e-02j]]])</details></samp><samp style='font-size: 12px;'><details><summary><b style=\"color: #e55471;\">Tensor</b>(shape=(<b style=\"color: #39acd6;\">8</b>, <b style=\"color: #96b5d9;\">16</b>, <b style=\"color: #828fdd;\">2</b>), inds=[<b style=\"color: #6b4ce0;\">_b695aaAAAAL</b>, <b style=\"color: #2d63d8;\">_b695aaAAAAM</b>, <b style=\"color: #4c7be1;\">k3</b>], tags={<b style=\"color: #74d649;\">0</b>, <b style=\"color: #45ce3d;\">1</b>, <b style=\"color: #828fdd;\">2</b>, <b style=\"color: #8a5bcf;\">3</b>, <b style=\"color: #80d749;\">4</b>, <b style=\"color: #7355d7;\">5</b>, <b style=\"color: #a4de79;\">6</b>, <b style=\"color: #7930d2;\">7</b>, <b style=\"color: #39acd6;\">8</b>, <b style=\"color: #c14bdb;\">9</b>, <b style=\"color: #dd65d9;\">I3</b>, <b style=\"color: #d3b991;\">PSI0</b>, <b style=\"color: #64dc8a;\">GATE_2</b>, <b style=\"color: #de70db;\">GATE_9</b>, <b style=\"color: #a4cd58;\">GATE_18</b>, <b style=\"color: #56cf38;\">GATE_25</b>}),</summary>backend=<b style=\"color: #7fdd73;\">numpy</b>, dtype=<b style=\"color: #443ce1;\">complex128</b>, data=...</details></samp><samp style='font-size: 12px;'><details><summary><b style=\"color: #e55471;\">Tensor</b>(shape=(<b style=\"color: #96b5d9;\">16</b>, <b style=\"color: #6faee5;\">32</b>, <b style=\"color: #828fdd;\">2</b>), inds=[<b style=\"color: #2d63d8;\">_b695aaAAAAM</b>, <b style=\"color: #5fd3de;\">_b695aaAAAAN</b>, <b style=\"color: #462edc;\">k4</b>], tags={<b style=\"color: #74d649;\">0</b>, <b style=\"color: #45ce3d;\">1</b>, <b style=\"color: #828fdd;\">2</b>, <b style=\"color: #8a5bcf;\">3</b>, <b style=\"color: #80d749;\">4</b>, <b style=\"color: #7355d7;\">5</b>, <b style=\"color: #a4de79;\">6</b>, <b style=\"color: #7930d2;\">7</b>, <b style=\"color: #39acd6;\">8</b>, <b style=\"color: #c14bdb;\">9</b>, <b style=\"color: #998ad1;\">I4</b>, <b style=\"color: #d3b991;\">PSI0</b>, <b style=\"color: #e1c97a;\">GATE_42</b>, <b style=\"color: #e2ba6c;\">GATE_57</b>, <b style=\"color: #b9db52;\">GATE_72</b>}),</summary>backend=<b style=\"color: #7fdd73;\">numpy</b>, dtype=<b style=\"color: #443ce1;\">complex128</b>, data=...</details></samp><samp style='font-size: 12px;'><details><summary><b style=\"color: #e55471;\">Tensor</b>(shape=(<b style=\"color: #6faee5;\">32</b>, <b style=\"color: #96b5d9;\">16</b>, <b style=\"color: #828fdd;\">2</b>), inds=[<b style=\"color: #5fd3de;\">_b695aaAAAAN</b>, <b style=\"color: #92a1dc;\">_b695aaAAAAO</b>, <b style=\"color: #85dfdf;\">k5</b>], tags={<b style=\"color: #74d649;\">0</b>, <b style=\"color: #45ce3d;\">1</b>, <b style=\"color: #828fdd;\">2</b>, <b style=\"color: #8a5bcf;\">3</b>, <b style=\"color: #80d749;\">4</b>, <b style=\"color: #7355d7;\">5</b>, <b style=\"color: #a4de79;\">6</b>, <b style=\"color: #7930d2;\">7</b>, <b style=\"color: #39acd6;\">8</b>, <b style=\"color: #c14bdb;\">9</b>, <b style=\"color: #97dddc;\">I5</b>, <b style=\"color: #d3b991;\">PSI0</b>, <b style=\"color: #81e4a5;\">GATE_39</b>, <b style=\"color: #ce2b3b;\">GATE_43</b>, <b style=\"color: #c659e3;\">GATE_45</b>, <b style=\"color: #4d78d7;\">GATE_47</b>, <b style=\"color: #a98de3;\">GATE_49</b>, <b style=\"color: #e2df85;\">GATE_51</b>, <b style=\"color: #da53d5;\">GATE_53</b>, <b style=\"color: #8cd1ce;\">GATE_56</b>, <b style=\"color: #acd280;\">GATE_69</b>, <b style=\"color: #de448f;\">GATE_73</b>}),</summary>backend=<b style=\"color: #7fdd73;\">numpy</b>, dtype=<b style=\"color: #443ce1;\">complex128</b>, data=...</details></samp><samp style='font-size: 12px;'><details><summary><b style=\"color: #e55471;\">Tensor</b>(shape=(<b style=\"color: #96b5d9;\">16</b>, <b style=\"color: #39acd6;\">8</b>, <b style=\"color: #828fdd;\">2</b>), inds=[<b style=\"color: #92a1dc;\">_b695aaAAAAO</b>, <b style=\"color: #30d961;\">_b695aaAAAAP</b>, <b style=\"color: #2cb7d3;\">k6</b>], tags={<b style=\"color: #74d649;\">0</b>, <b style=\"color: #45ce3d;\">1</b>, <b style=\"color: #828fdd;\">2</b>, <b style=\"color: #8a5bcf;\">3</b>, <b style=\"color: #80d749;\">4</b>, <b style=\"color: #7355d7;\">5</b>, <b style=\"color: #a4de79;\">6</b>, <b style=\"color: #7930d2;\">7</b>, <b style=\"color: #39acd6;\">8</b>, <b style=\"color: #c14bdb;\">9</b>, <b style=\"color: #b2de5f;\">I6</b>, <b style=\"color: #d3b991;\">PSI0</b>, <b style=\"color: #de94a1;\">GATE_75</b>, <b style=\"color: #b847d9;\">GATE_80</b>, <b style=\"color: #cebd78;\">GATE_84</b>, <b style=\"color: #75d0ca;\">GATE_89</b>, <b style=\"color: #8dd89d;\">GATE_93</b>, <b style=\"color: #e37ed3;\">GATE_98</b>, <b style=\"color: #a236d5;\">GATE_101</b>, <b style=\"color: #a2d946;\">GATE_105</b>, <b style=\"color: #9e79df;\">GATE_107</b>, <b style=\"color: #de5270;\">GATE_109</b>, <b style=\"color: #d696af;\">GATE_111</b>, <b style=\"color: #a7cd2b;\">GATE_113</b>, <b style=\"color: #bedd87;\">GATE_116</b>, <b style=\"color: #c8dd4f;\">GATE_129</b>, <b style=\"color: #d18cc3;\">GATE_133</b>, <b style=\"color: #d281bc;\">GATE_135</b>, <b style=\"color: #a583d8;\">GATE_137</b>, <b style=\"color: #e0bd2f;\">GATE_139</b>, <b style=\"color: #7a99ce;\">GATE_141</b>, <b style=\"color: #3e7ed4;\">GATE_143</b>, <b style=\"color: #6fdd74;\">GATE_146</b>, <b style=\"color: #93d685;\">GATE_203</b>, <b style=\"color: #8aa5d6;\">GATE_208</b>, <b style=\"color: #b9e58c;\">GATE_212</b>, <b style=\"color: #339cd7;\">GATE_217</b>}),</summary>backend=<b style=\"color: #7fdd73;\">numpy</b>, dtype=<b style=\"color: #443ce1;\">complex128</b>, data=...</details></samp><samp style='font-size: 12px;'><details><summary><b style=\"color: #e55471;\">Tensor</b>(shape=(<b style=\"color: #39acd6;\">8</b>, <b style=\"color: #80d749;\">4</b>, <b style=\"color: #828fdd;\">2</b>), inds=[<b style=\"color: #30d961;\">_b695aaAAAAP</b>, <b style=\"color: #e3c292;\">_b695aaAAAAQ</b>, <b style=\"color: #53e08f;\">k7</b>], tags={<b style=\"color: #74d649;\">0</b>, <b style=\"color: #45ce3d;\">1</b>, <b style=\"color: #828fdd;\">2</b>, <b style=\"color: #8a5bcf;\">3</b>, <b style=\"color: #80d749;\">4</b>, <b style=\"color: #7355d7;\">5</b>, <b style=\"color: #a4de79;\">6</b>, <b style=\"color: #7930d2;\">7</b>, <b style=\"color: #39acd6;\">8</b>, <b style=\"color: #c14bdb;\">9</b>, <b style=\"color: #5582d6;\">I7</b>, <b style=\"color: #d3b991;\">PSI0</b>, <b style=\"color: #cd7c51;\">GATE_151</b>, <b style=\"color: #d648d4;\">GATE_153</b>, <b style=\"color: #bfd68e;\">GATE_155</b>, <b style=\"color: #3bd27f;\">GATE_157</b>, <b style=\"color: #4e92d6;\">GATE_159</b>, <b style=\"color: #9e5bd3;\">GATE_162</b>, <b style=\"color: #e4b135;\">GATE_175</b>, <b style=\"color: #7ee0bd;\">GATE_179</b>, <b style=\"color: #81a1e0;\">GATE_181</b>, <b style=\"color: #dfa799;\">GATE_183</b>, <b style=\"color: #3a2ed2;\">GATE_185</b>, <b style=\"color: #6b30df;\">GATE_187</b>, <b style=\"color: #8b5dde;\">GATE_189</b>, <b style=\"color: #79cdd9;\">GATE_192</b>}),</summary>backend=<b style=\"color: #7fdd73;\">numpy</b>, dtype=<b style=\"color: #443ce1;\">complex128</b>, data=array([[[-9.99987397e-01+9.72620180e-16j,\n",
       "         -5.00821860e-03-1.10729608e-15j],\n",
       "        [-4.99572345e-03+1.16772759e-15j,\n",
       "          9.97492499e-01-1.84549173e-14j],\n",
       "        [ 5.03625720e-05+4.06191765e-05j,\n",
       "         -7.38545596e-03-3.42019462e-03j],\n",
       "        [ 3.36877178e-05-3.12714609e-05j,\n",
       "         -6.85041494e-03-1.74115378e-02j]],\n",
       "\n",
       "       [[ 2.46888546e-04-7.45578793e-19j,\n",
       "         -2.49373968e-04+7.38921632e-16j],\n",
       "        [ 5.01680998e-02+1.03045548e-14j,\n",
       "          4.96680921e-02-1.10220707e-16j],\n",
       "        [ 1.00974200e-01+8.14392257e-02j,\n",
       "          4.63376919e-02-1.35666537e-02j],\n",
       "        [ 6.75420305e-02-6.26975676e-02j,\n",
       "          6.93594286e-02+4.13004389e-01j]],\n",
       "\n",
       "       [[ 2.11250079e-16+1.47911420e-31j,\n",
       "         -1.23057629e-15+9.37829757e-17j],\n",
       "        [-4.20749145e-14-1.14984366e-26j,\n",
       "          4.10478955e-14+9.44907498e-17j],\n",
       "        [-5.65507434e-01-3.63106510e-01j,\n",
       "         -6.15516326e-02-5.22889743e-03j],\n",
       "        [-1.49285022e-01+6.24806833e-02j,\n",
       "          9.95903037e-02+1.60179284e-01j]],\n",
       "\n",
       "       [[-2.11690159e-17+1.23259516e-32j,\n",
       "         -1.63181738e-15+3.54322127e-17j],\n",
       "        [ 4.21625657e-15-6.42448321e-27j,\n",
       "         -5.88171795e-15+3.56996173e-17j],\n",
       "        [-3.98184532e-02-5.20068568e-02j,\n",
       "         -4.73566942e-01+1.39416689e-01j],\n",
       "        [ 2.29360678e-01+1.29343763e-01j,\n",
       "         -2.35874733e-01-3.35986969e-01j]],\n",
       "\n",
       "       [[ 4.16726853e-18-2.78874656e-31j,\n",
       "          4.76529994e-16-1.70261181e-16j],\n",
       "        [-8.29999533e-16+5.74172410e-27j,\n",
       "          1.31432459e-15-1.71546131e-16j],\n",
       "        [ 4.61879434e-02-1.05319757e-01j,\n",
       "         -8.32002197e-02+3.76280401e-01j],\n",
       "        [ 6.40640840e-02+9.06800976e-02j,\n",
       "          4.57682049e-01-2.34166887e-01j]],\n",
       "\n",
       "       [[ 1.19053696e-18+6.16297582e-33j,\n",
       "          7.76593149e-16-3.81164530e-16j],\n",
       "        [-2.37120577e-16+1.37261798e-28j,\n",
       "          1.02077415e-15-3.84041155e-16j],\n",
       "        [-1.61691548e-01+1.75742215e-03j,\n",
       "         -1.91280719e-01+5.30243393e-02j],\n",
       "        [ 1.53809243e-02-2.62306071e-02j,\n",
       "         -2.91246114e-01-1.10837805e-02j]],\n",
       "\n",
       "       [[-1.02770207e-17-2.21867130e-31j,\n",
       "          2.70584563e-17-2.58772995e-17j],\n",
       "        [ 2.04688570e-15+2.65057264e-28j,\n",
       "         -2.02997762e-15-2.60725938e-17j],\n",
       "        [-1.18267160e-01-1.01552602e-01j,\n",
       "          5.38729112e-02-3.17336371e-02j],\n",
       "        [ 2.69797032e-01+1.52118401e-01j,\n",
       "          4.76392906e-02+1.40959244e-01j]],\n",
       "\n",
       "       [[ 1.36755550e-17+4.66075047e-32j,\n",
       "          8.38725759e-17-1.87937946e-17j],\n",
       "        [-2.72377558e-15-8.22190278e-28j,\n",
       "          2.82205990e-15-1.89356302e-17j],\n",
       "        [ 1.27743146e-01+7.28958307e-02j,\n",
       "         -5.67563306e-03-1.28425277e-02j],\n",
       "        [ 1.72351746e-01+4.99078846e-02j,\n",
       "         -5.33227772e-02-2.30944757e-02j]]])</details></samp><samp style='font-size: 12px;'><details><summary><b style=\"color: #e55471;\">Tensor</b>(shape=(<b style=\"color: #80d749;\">4</b>, <b style=\"color: #828fdd;\">2</b>, <b style=\"color: #828fdd;\">2</b>), inds=[<b style=\"color: #e3c292;\">_b695aaAAAAQ</b>, <b style=\"color: #7ad793;\">_b695aaAAAAR</b>, <b style=\"color: #7bcd9f;\">k8</b>], tags={<b style=\"color: #74d649;\">0</b>, <b style=\"color: #45ce3d;\">1</b>, <b style=\"color: #828fdd;\">2</b>, <b style=\"color: #8a5bcf;\">3</b>, <b style=\"color: #80d749;\">4</b>, <b style=\"color: #7355d7;\">5</b>, <b style=\"color: #a4de79;\">6</b>, <b style=\"color: #7930d2;\">7</b>, <b style=\"color: #39acd6;\">8</b>, <b style=\"color: #c14bdb;\">9</b>, <b style=\"color: #8a3dd8;\">I8</b>, <b style=\"color: #d3b991;\">PSI0</b>, <b style=\"color: #cfb283;\">GATE_79</b>, <b style=\"color: #8c64d6;\">GATE_86</b>, <b style=\"color: #b7d375;\">GATE_95</b>, <b style=\"color: #cd39a5;\">GATE_102</b>, <b style=\"color: #b883d9;\">GATE_150</b>, <b style=\"color: #da5347;\">GATE_160</b>, <b style=\"color: #76e5d7;\">GATE_164</b>, <b style=\"color: #90d0cb;\">GATE_166</b>, <b style=\"color: #c292d3;\">GATE_168</b>, <b style=\"color: #5d88ce;\">GATE_170</b>, <b style=\"color: #cdbb82;\">GATE_172</b>, <b style=\"color: #82e2b2;\">GATE_174</b>, <b style=\"color: #dc5073;\">GATE_177</b>, <b style=\"color: #a658e3;\">GATE_190</b>, <b style=\"color: #d49487;\">GATE_194</b>, <b style=\"color: #d2983e;\">GATE_199</b>, <b style=\"color: #b7d977;\">GATE_206</b>, <b style=\"color: #46d3b9;\">GATE_215</b>, <b style=\"color: #b671cf;\">GATE_222</b>}),</summary>backend=<b style=\"color: #7fdd73;\">numpy</b>, dtype=<b style=\"color: #443ce1;\">complex128</b>, data=array([[[-7.02681573e-01+0.00000000e+00j,\n",
       "         -7.06245219e-01-1.37231653e-15j],\n",
       "        [ 3.54290998e-02-1.47695804e-16j,\n",
       "         -3.52503280e-02+4.27159664e-16j]],\n",
       "\n",
       "       [[-3.52802946e-03+0.00000000e+00j,\n",
       "          8.92356423e-06-4.98646781e-17j],\n",
       "        [ 1.77882718e-04+3.97312924e-16j,\n",
       "          7.03278929e-02+5.47240558e-16j]],\n",
       "\n",
       "       [[-1.51394782e-15+0.00000000e+00j,\n",
       "          1.40569806e-15+2.85409221e-17j],\n",
       "        [-2.07609194e-15+5.67504217e-16j,\n",
       "         -7.08750861e-17-1.43902903e-18j]],\n",
       "\n",
       "       [[-1.13041334e-15+0.00000000e+00j,\n",
       "          1.20394328e-15-2.24852269e-17j],\n",
       "        [ 1.51905557e-15-4.47093511e-16j,\n",
       "         -6.07026402e-17+1.13370178e-18j]]])</details></samp><samp style='font-size: 12px;'><details><summary><b style=\"color: #e55471;\">Tensor</b>(shape=(<b style=\"color: #828fdd;\">2</b>, <b style=\"color: #828fdd;\">2</b>), inds=[<b style=\"color: #7ad793;\">_b695aaAAAAR</b>, <b style=\"color: #cc70c1;\">k9</b>], tags={<b style=\"color: #74d649;\">0</b>, <b style=\"color: #45ce3d;\">1</b>, <b style=\"color: #828fdd;\">2</b>, <b style=\"color: #8a5bcf;\">3</b>, <b style=\"color: #80d749;\">4</b>, <b style=\"color: #7355d7;\">5</b>, <b style=\"color: #a4de79;\">6</b>, <b style=\"color: #7930d2;\">7</b>, <b style=\"color: #39acd6;\">8</b>, <b style=\"color: #c14bdb;\">9</b>, <b style=\"color: #d74979;\">I9</b>, <b style=\"color: #d3b991;\">PSI0</b>, <b style=\"color: #53d4b1;\">GATE_83</b>, <b style=\"color: #b6e595;\">GATE_88</b>, <b style=\"color: #c4e57a;\">GATE_92</b>, <b style=\"color: #a786ce;\">GATE_97</b>, <b style=\"color: #d8e156;\">GATE_114</b>, <b style=\"color: #65d5a0;\">GATE_118</b>, <b style=\"color: #70e3cd;\">GATE_120</b>, <b style=\"color: #74e47c;\">GATE_122</b>, <b style=\"color: #88d9a4;\">GATE_124</b>, <b style=\"color: #879acf;\">GATE_126</b>, <b style=\"color: #a441de;\">GATE_128</b>, <b style=\"color: #63e1a7;\">GATE_131</b>, <b style=\"color: #51b5d3;\">GATE_144</b>, <b style=\"color: #de804b;\">GATE_148</b>, <b style=\"color: #70e45f;\">GATE_163</b>, <b style=\"color: #4530d2;\">GATE_178</b>, <b style=\"color: #63dcb0;\">GATE_193</b>}),</summary>backend=<b style=\"color: #7fdd73;\">numpy</b>, dtype=<b style=\"color: #443ce1;\">complex128</b>, data=array([[-9.98731338e-01+1.08629418e-21j, -4.04421475e-17+5.03558847e-02j],\n",
       "       [ 5.03558847e-02+4.28280790e-18j, -8.87051622e-16+9.98731338e-01j]])</details></samp></details></samp>"
      ],
      "text/plain": [
       "MatrixProductState(tensors=10, indices=19, L=10, max_bond=32)"
      ]
     },
     "execution_count": 39,
     "metadata": {},
     "output_type": "execute_result"
    }
   ],
   "source": [
    "obj._interface._circuitMPS._psi"
   ]
  },
  {
   "cell_type": "markdown",
   "metadata": {},
   "source": [
    "# Playing with `quimb`"
   ]
  },
  {
   "cell_type": "code",
   "execution_count": null,
   "metadata": {},
   "outputs": [],
   "source": [
    "wires = Wires(range(7))\n",
    "\n",
    "init_state = qtn.MPS_computational_state(\n",
    "    \"0\" * len(wires), tags=[str(l) for l in wires.labels]\n",
    ")\n",
    "\n",
    "qc = qtn.CircuitMPS(psi0=init_state)\n",
    "\n",
    "op = qml.CNOT(wires=[0, 1])"
   ]
  },
  {
   "cell_type": "code",
   "execution_count": null,
   "metadata": {},
   "outputs": [
    {
     "data": {
      "image/png": "[encoded data removed]",
      "text/plain": [
       "<Figure size 600x600 with 1 Axes>"
      ]
     },
     "metadata": {
      "needs_background": "light"
     },
     "output_type": "display_data"
    }
   ],
   "source": [
    "qc.psi.draw(color=[f\"I{q}\" for q in range(len(wires))], show_tags=False, show_inds=True)"
   ]
  },
  {
   "cell_type": "code",
   "execution_count": null,
   "metadata": {},
   "outputs": [
    {
     "data": {
      "text/plain": [
       "functools.partial(<bound method gate_TN_1D of MatrixProductState(tensors=7, indices=13, L=7, max_bond=2)>, inplace=True)"
      ]
     },
     "execution_count": 42,
     "metadata": {},
     "output_type": "execute_result"
    }
   ],
   "source": [
    "init_state.gate_"
   ]
  },
  {
   "cell_type": "code",
   "execution_count": null,
   "metadata": {},
   "outputs": [
    {
     "data": {
      "text/plain": [
       "0j"
      ]
     },
     "execution_count": 43,
     "metadata": {},
     "output_type": "execute_result"
    }
   ],
   "source": [
    "qc.amplitude(\"0111111\")"
   ]
  },
  {
   "cell_type": "code",
   "execution_count": null,
   "metadata": {},
   "outputs": [
    {
     "data": {
      "text/html": [
       "<samp style='font-size: 12px;'><details><summary><b style=\"color: #d75692;\">MatrixProductState</b>(tensors=7, indices=13, L=7, max_bond=2)</summary><samp style='font-size: 12px;'><details><summary><b style=\"color: #e55471;\">Tensor</b>(shape=(<b style=\"color: #45ce3d;\">1</b>, <b style=\"color: #828fdd;\">2</b>), inds=[<b style=\"color: #809dce;\">_b695aaAAAMM</b>, <b style=\"color: #b1dc61;\">k0</b>], tags={<b style=\"color: #74d649;\">0</b>, <b style=\"color: #45ce3d;\">1</b>, <b style=\"color: #828fdd;\">2</b>, <b style=\"color: #8a5bcf;\">3</b>, <b style=\"color: #80d749;\">4</b>, <b style=\"color: #7355d7;\">5</b>, <b style=\"color: #a4de79;\">6</b>, <b style=\"color: #d2b137;\">I0</b>}),</summary>backend=<b style=\"color: #7fdd73;\">numpy</b>, dtype=<b style=\"color: #75d2c6;\">float64</b>, data=array([[1., 0.]])</details></samp><samp style='font-size: 12px;'><details><summary><b style=\"color: #e55471;\">Tensor</b>(shape=(<b style=\"color: #45ce3d;\">1</b>, <b style=\"color: #45ce3d;\">1</b>, <b style=\"color: #828fdd;\">2</b>), inds=[<b style=\"color: #809dce;\">_b695aaAAAMM</b>, <b style=\"color: #71d4c5;\">_b695aaAAAMN</b>, <b style=\"color: #8aa5db;\">k1</b>], tags={<b style=\"color: #74d649;\">0</b>, <b style=\"color: #45ce3d;\">1</b>, <b style=\"color: #828fdd;\">2</b>, <b style=\"color: #8a5bcf;\">3</b>, <b style=\"color: #80d749;\">4</b>, <b style=\"color: #7355d7;\">5</b>, <b style=\"color: #a4de79;\">6</b>, <b style=\"color: #d19b78;\">I1</b>}),</summary>backend=<b style=\"color: #7fdd73;\">numpy</b>, dtype=<b style=\"color: #75d2c6;\">float64</b>, data=array([[[1., 0.]]])</details></samp><samp style='font-size: 12px;'><details><summary><b style=\"color: #e55471;\">Tensor</b>(shape=(<b style=\"color: #45ce3d;\">1</b>, <b style=\"color: #45ce3d;\">1</b>, <b style=\"color: #828fdd;\">2</b>), inds=[<b style=\"color: #71d4c5;\">_b695aaAAAMN</b>, <b style=\"color: #5ee38a;\">_b695aaAAAMO</b>, <b style=\"color: #df546d;\">k2</b>], tags={<b style=\"color: #74d649;\">0</b>, <b style=\"color: #45ce3d;\">1</b>, <b style=\"color: #828fdd;\">2</b>, <b style=\"color: #8a5bcf;\">3</b>, <b style=\"color: #80d749;\">4</b>, <b style=\"color: #7355d7;\">5</b>, <b style=\"color: #a4de79;\">6</b>, <b style=\"color: #dd5dd7;\">I2</b>}),</summary>backend=<b style=\"color: #7fdd73;\">numpy</b>, dtype=<b style=\"color: #75d2c6;\">float64</b>, data=array([[[1., 0.]]])</details></samp><samp style='font-size: 12px;'><details><summary><b style=\"color: #e55471;\">Tensor</b>(shape=(<b style=\"color: #45ce3d;\">1</b>, <b style=\"color: #45ce3d;\">1</b>, <b style=\"color: #828fdd;\">2</b>), inds=[<b style=\"color: #5ee38a;\">_b695aaAAAMO</b>, <b style=\"color: #dce278;\">_b695aaAAAMP</b>, <b style=\"color: #4c7be1;\">k3</b>], tags={<b style=\"color: #74d649;\">0</b>, <b style=\"color: #45ce3d;\">1</b>, <b style=\"color: #828fdd;\">2</b>, <b style=\"color: #8a5bcf;\">3</b>, <b style=\"color: #80d749;\">4</b>, <b style=\"color: #7355d7;\">5</b>, <b style=\"color: #a4de79;\">6</b>, <b style=\"color: #dd65d9;\">I3</b>}),</summary>backend=<b style=\"color: #7fdd73;\">numpy</b>, dtype=<b style=\"color: #75d2c6;\">float64</b>, data=array([[[1., 0.]]])</details></samp><samp style='font-size: 12px;'><details><summary><b style=\"color: #e55471;\">Tensor</b>(shape=(<b style=\"color: #45ce3d;\">1</b>, <b style=\"color: #45ce3d;\">1</b>, <b style=\"color: #828fdd;\">2</b>), inds=[<b style=\"color: #dce278;\">_b695aaAAAMP</b>, <b style=\"color: #4de174;\">_b695aaAAAMQ</b>, <b style=\"color: #462edc;\">k4</b>], tags={<b style=\"color: #74d649;\">0</b>, <b style=\"color: #45ce3d;\">1</b>, <b style=\"color: #828fdd;\">2</b>, <b style=\"color: #8a5bcf;\">3</b>, <b style=\"color: #80d749;\">4</b>, <b style=\"color: #7355d7;\">5</b>, <b style=\"color: #a4de79;\">6</b>, <b style=\"color: #998ad1;\">I4</b>}),</summary>backend=<b style=\"color: #7fdd73;\">numpy</b>, dtype=<b style=\"color: #75d2c6;\">float64</b>, data=array([[[1., 0.]]])</details></samp><samp style='font-size: 12px;'><details><summary><b style=\"color: #e55471;\">Tensor</b>(shape=(<b style=\"color: #45ce3d;\">1</b>, <b style=\"color: #45ce3d;\">1</b>, <b style=\"color: #828fdd;\">2</b>), inds=[<b style=\"color: #4de174;\">_b695aaAAAMQ</b>, <b style=\"color: #59e34a;\">_b695aaAAAMR</b>, <b style=\"color: #85dfdf;\">k5</b>], tags={<b style=\"color: #74d649;\">0</b>, <b style=\"color: #45ce3d;\">1</b>, <b style=\"color: #828fdd;\">2</b>, <b style=\"color: #8a5bcf;\">3</b>, <b style=\"color: #80d749;\">4</b>, <b style=\"color: #7355d7;\">5</b>, <b style=\"color: #a4de79;\">6</b>, <b style=\"color: #97dddc;\">I5</b>}),</summary>backend=<b style=\"color: #7fdd73;\">numpy</b>, dtype=<b style=\"color: #75d2c6;\">float64</b>, data=array([[[1., 0.]]])</details></samp><samp style='font-size: 12px;'><details><summary><b style=\"color: #e55471;\">Tensor</b>(shape=(<b style=\"color: #45ce3d;\">1</b>, <b style=\"color: #828fdd;\">2</b>), inds=[<b style=\"color: #59e34a;\">_b695aaAAAMR</b>, <b style=\"color: #2cb7d3;\">k6</b>], tags={<b style=\"color: #74d649;\">0</b>, <b style=\"color: #45ce3d;\">1</b>, <b style=\"color: #828fdd;\">2</b>, <b style=\"color: #8a5bcf;\">3</b>, <b style=\"color: #80d749;\">4</b>, <b style=\"color: #7355d7;\">5</b>, <b style=\"color: #a4de79;\">6</b>, <b style=\"color: #b2de5f;\">I6</b>}),</summary>backend=<b style=\"color: #7fdd73;\">numpy</b>, dtype=<b style=\"color: #75d2c6;\">float64</b>, data=array([[1., 0.]])</details></samp></details></samp>"
      ],
      "text/plain": [
       "MatrixProductState(tensors=7, indices=13, L=7, max_bond=2)"
      ]
     },
     "execution_count": 44,
     "metadata": {},
     "output_type": "execute_result"
    }
   ],
   "source": [
    "init_state"
   ]
  },
  {
   "cell_type": "code",
   "execution_count": null,
   "metadata": {},
   "outputs": [
    {
     "data": {
      "text/plain": [
       "<function str.format>"
      ]
     },
     "execution_count": 45,
     "metadata": {},
     "output_type": "execute_result"
    }
   ],
   "source": [
    "qc.ket_site_ind"
   ]
  },
  {
   "cell_type": "code",
   "execution_count": null,
   "metadata": {},
   "outputs": [
    {
     "data": {
      "text/plain": [
       "{'_psi': MatrixProductState(tensors=7, indices=7, L=7, max_bond=2),\n",
       " 'N': 7,\n",
       " 'gate_opts': {'contract': 'auto-mps',\n",
       "  'info': {},\n",
       "  'propagate_tags': 'register'},\n",
       " 'gates': [],\n",
       " '_ket_site_ind_id': 'k{}',\n",
       " '_bra_site_ind_id': 'b{}',\n",
       " 'ket_site_ind': <function str.format>,\n",
       " 'bra_site_ind': <function str.format>,\n",
       " '_sample_n_gates': 0,\n",
       " '_storage': {('psi_simplified',\n",
       "   'ADCRS',\n",
       "   1e-12): MatrixProductState(tensors=7, indices=7, L=7, max_bond=2)},\n",
       " '_sampled_conditionals': {},\n",
       " '_marginal_storage_size': 0}"
      ]
     },
     "execution_count": 46,
     "metadata": {},
     "output_type": "execute_result"
    }
   ],
   "source": [
    "qc.__dict__"
   ]
  },
  {
   "cell_type": "code",
   "execution_count": null,
   "metadata": {},
   "outputs": [
    {
     "data": {
      "text/plain": [
       "[]"
      ]
     },
     "execution_count": 47,
     "metadata": {},
     "output_type": "execute_result"
    }
   ],
   "source": [
    "qc.gates"
   ]
  },
  {
   "cell_type": "code",
   "execution_count": null,
   "metadata": {},
   "outputs": [],
   "source": [
    "gate = qtn.circuit.parse_to_gate(op.matrix(), tuple(op.wires))"
   ]
  },
  {
   "cell_type": "code",
   "execution_count": null,
   "metadata": {},
   "outputs": [
    {
     "data": {
      "text/plain": [
       "<Gate(label=RAW135784454390672, params=raw, qubits=((0, 1),))>"
      ]
     },
     "execution_count": 49,
     "metadata": {},
     "output_type": "execute_result"
    }
   ],
   "source": [
    "gate"
   ]
  },
  {
   "cell_type": "code",
   "execution_count": null,
   "metadata": {},
   "outputs": [
    {
     "data": {
      "text/html": [
       "<samp style='font-size: 12px;'><details><summary><b style=\"color: #d75692;\">MatrixProductState</b>(tensors=7, indices=13, L=7, max_bond=2)</summary><samp style='font-size: 12px;'><details><summary><b style=\"color: #e55471;\">Tensor</b>(shape=(<b style=\"color: #45ce3d;\">1</b>, <b style=\"color: #828fdd;\">2</b>), inds=[<b style=\"color: #e0dc75;\">_b695aaAAAMS</b>, <b style=\"color: #b1dc61;\">k0</b>], tags={<b style=\"color: #74d649;\">0</b>, <b style=\"color: #45ce3d;\">1</b>, <b style=\"color: #828fdd;\">2</b>, <b style=\"color: #8a5bcf;\">3</b>, <b style=\"color: #80d749;\">4</b>, <b style=\"color: #7355d7;\">5</b>, <b style=\"color: #a4de79;\">6</b>, <b style=\"color: #d2b137;\">I0</b>}),</summary>backend=<b style=\"color: #7fdd73;\">numpy</b>, dtype=<b style=\"color: #75d2c6;\">float64</b>, data=array([[1., 0.]])</details></samp><samp style='font-size: 12px;'><details><summary><b style=\"color: #e55471;\">Tensor</b>(shape=(<b style=\"color: #45ce3d;\">1</b>, <b style=\"color: #45ce3d;\">1</b>, <b style=\"color: #828fdd;\">2</b>), inds=[<b style=\"color: #e0dc75;\">_b695aaAAAMS</b>, <b style=\"color: #d068ce;\">_b695aaAAAMT</b>, <b style=\"color: #8aa5db;\">k1</b>], tags={<b style=\"color: #74d649;\">0</b>, <b style=\"color: #45ce3d;\">1</b>, <b style=\"color: #828fdd;\">2</b>, <b style=\"color: #8a5bcf;\">3</b>, <b style=\"color: #80d749;\">4</b>, <b style=\"color: #7355d7;\">5</b>, <b style=\"color: #a4de79;\">6</b>, <b style=\"color: #d19b78;\">I1</b>}),</summary>backend=<b style=\"color: #7fdd73;\">numpy</b>, dtype=<b style=\"color: #75d2c6;\">float64</b>, data=array([[[1., 0.]]])</details></samp><samp style='font-size: 12px;'><details><summary><b style=\"color: #e55471;\">Tensor</b>(shape=(<b style=\"color: #45ce3d;\">1</b>, <b style=\"color: #45ce3d;\">1</b>, <b style=\"color: #828fdd;\">2</b>), inds=[<b style=\"color: #d068ce;\">_b695aaAAAMT</b>, <b style=\"color: #7f41e3;\">_b695aaAAAMU</b>, <b style=\"color: #df546d;\">k2</b>], tags={<b style=\"color: #74d649;\">0</b>, <b style=\"color: #45ce3d;\">1</b>, <b style=\"color: #828fdd;\">2</b>, <b style=\"color: #8a5bcf;\">3</b>, <b style=\"color: #80d749;\">4</b>, <b style=\"color: #7355d7;\">5</b>, <b style=\"color: #a4de79;\">6</b>, <b style=\"color: #dd5dd7;\">I2</b>}),</summary>backend=<b style=\"color: #7fdd73;\">numpy</b>, dtype=<b style=\"color: #75d2c6;\">float64</b>, data=array([[[1., 0.]]])</details></samp><samp style='font-size: 12px;'><details><summary><b style=\"color: #e55471;\">Tensor</b>(shape=(<b style=\"color: #45ce3d;\">1</b>, <b style=\"color: #45ce3d;\">1</b>, <b style=\"color: #828fdd;\">2</b>), inds=[<b style=\"color: #7f41e3;\">_b695aaAAAMU</b>, <b style=\"color: #4ede8a;\">_b695aaAAAMV</b>, <b style=\"color: #4c7be1;\">k3</b>], tags={<b style=\"color: #74d649;\">0</b>, <b style=\"color: #45ce3d;\">1</b>, <b style=\"color: #828fdd;\">2</b>, <b style=\"color: #8a5bcf;\">3</b>, <b style=\"color: #80d749;\">4</b>, <b style=\"color: #7355d7;\">5</b>, <b style=\"color: #a4de79;\">6</b>, <b style=\"color: #dd65d9;\">I3</b>}),</summary>backend=<b style=\"color: #7fdd73;\">numpy</b>, dtype=<b style=\"color: #75d2c6;\">float64</b>, data=array([[[1., 0.]]])</details></samp><samp style='font-size: 12px;'><details><summary><b style=\"color: #e55471;\">Tensor</b>(shape=(<b style=\"color: #45ce3d;\">1</b>, <b style=\"color: #45ce3d;\">1</b>, <b style=\"color: #828fdd;\">2</b>), inds=[<b style=\"color: #4ede8a;\">_b695aaAAAMV</b>, <b style=\"color: #5ed12f;\">_b695aaAAAMW</b>, <b style=\"color: #462edc;\">k4</b>], tags={<b style=\"color: #74d649;\">0</b>, <b style=\"color: #45ce3d;\">1</b>, <b style=\"color: #828fdd;\">2</b>, <b style=\"color: #8a5bcf;\">3</b>, <b style=\"color: #80d749;\">4</b>, <b style=\"color: #7355d7;\">5</b>, <b style=\"color: #a4de79;\">6</b>, <b style=\"color: #998ad1;\">I4</b>}),</summary>backend=<b style=\"color: #7fdd73;\">numpy</b>, dtype=<b style=\"color: #75d2c6;\">float64</b>, data=array([[[1., 0.]]])</details></samp><samp style='font-size: 12px;'><details><summary><b style=\"color: #e55471;\">Tensor</b>(shape=(<b style=\"color: #45ce3d;\">1</b>, <b style=\"color: #45ce3d;\">1</b>, <b style=\"color: #828fdd;\">2</b>), inds=[<b style=\"color: #5ed12f;\">_b695aaAAAMW</b>, <b style=\"color: #3acce3;\">_b695aaAAAMX</b>, <b style=\"color: #85dfdf;\">k5</b>], tags={<b style=\"color: #74d649;\">0</b>, <b style=\"color: #45ce3d;\">1</b>, <b style=\"color: #828fdd;\">2</b>, <b style=\"color: #8a5bcf;\">3</b>, <b style=\"color: #80d749;\">4</b>, <b style=\"color: #7355d7;\">5</b>, <b style=\"color: #a4de79;\">6</b>, <b style=\"color: #97dddc;\">I5</b>}),</summary>backend=<b style=\"color: #7fdd73;\">numpy</b>, dtype=<b style=\"color: #75d2c6;\">float64</b>, data=array([[[1., 0.]]])</details></samp><samp style='font-size: 12px;'><details><summary><b style=\"color: #e55471;\">Tensor</b>(shape=(<b style=\"color: #45ce3d;\">1</b>, <b style=\"color: #828fdd;\">2</b>), inds=[<b style=\"color: #3acce3;\">_b695aaAAAMX</b>, <b style=\"color: #2cb7d3;\">k6</b>], tags={<b style=\"color: #74d649;\">0</b>, <b style=\"color: #45ce3d;\">1</b>, <b style=\"color: #828fdd;\">2</b>, <b style=\"color: #8a5bcf;\">3</b>, <b style=\"color: #80d749;\">4</b>, <b style=\"color: #7355d7;\">5</b>, <b style=\"color: #a4de79;\">6</b>, <b style=\"color: #b2de5f;\">I6</b>}),</summary>backend=<b style=\"color: #7fdd73;\">numpy</b>, dtype=<b style=\"color: #75d2c6;\">float64</b>, data=array([[1., 0.]])</details></samp></details></samp>"
      ],
      "text/plain": [
       "MatrixProductState(tensors=7, indices=13, L=7, max_bond=2)"
      ]
     },
     "execution_count": 50,
     "metadata": {},
     "output_type": "execute_result"
    }
   ],
   "source": [
    "qtn.MPS_computational_state(\"0\" * len(wires), tags=[str(l) for l in wires.labels])"
   ]
  },
  {
   "cell_type": "code",
   "execution_count": null,
   "metadata": {},
   "outputs": [
    {
     "data": {
      "text/html": [
       "<samp style='font-size: 12px;'><details><summary><b style=\"color: #d75692;\">MatrixProductState</b>(tensors=9, indices=17, L=9, max_bond=6)</summary><samp style='font-size: 12px;'><details><summary><b style=\"color: #e55471;\">Tensor</b>(shape=(<b style=\"color: #a4de79;\">6</b>, <b style=\"color: #828fdd;\">2</b>), inds=[<b style=\"color: #e44360;\">_b695aaAAAMY</b>, <b style=\"color: #b1dc61;\">k0</b>], tags={<b style=\"color: #d2b137;\">I0</b>}),</summary>backend=<b style=\"color: #7fdd73;\">numpy</b>, dtype=<b style=\"color: #75d2c6;\">float64</b>, data=array([[0., 0.],\n",
       "       [0., 0.],\n",
       "       [0., 0.],\n",
       "       [0., 0.],\n",
       "       [0., 0.],\n",
       "       [0., 0.]])</details></samp><samp style='font-size: 12px;'><details><summary><b style=\"color: #e55471;\">Tensor</b>(shape=(<b style=\"color: #a4de79;\">6</b>, <b style=\"color: #a4de79;\">6</b>, <b style=\"color: #828fdd;\">2</b>), inds=[<b style=\"color: #e44360;\">_b695aaAAAMY</b>, <b style=\"color: #51d77d;\">_b695aaAAAMZ</b>, <b style=\"color: #8aa5db;\">k1</b>], tags={<b style=\"color: #d19b78;\">I1</b>}),</summary>backend=<b style=\"color: #7fdd73;\">numpy</b>, dtype=<b style=\"color: #75d2c6;\">float64</b>, data=array([[[0., 0.],\n",
       "        [0., 0.],\n",
       "        [0., 0.],\n",
       "        [0., 0.],\n",
       "        [0., 0.],\n",
       "        [0., 0.]],\n",
       "\n",
       "       [[0., 0.],\n",
       "        [0., 0.],\n",
       "        [0., 0.],\n",
       "        [0., 0.],\n",
       "        [0., 0.],\n",
       "        [0., 0.]],\n",
       "\n",
       "       [[0., 0.],\n",
       "        [0., 0.],\n",
       "        [0., 0.],\n",
       "        [0., 0.],\n",
       "        [0., 0.],\n",
       "        [0., 0.]],\n",
       "\n",
       "       [[0., 0.],\n",
       "        [0., 0.],\n",
       "        [0., 0.],\n",
       "        [0., 0.],\n",
       "        [0., 0.],\n",
       "        [0., 0.]],\n",
       "\n",
       "       [[0., 0.],\n",
       "        [0., 0.],\n",
       "        [0., 0.],\n",
       "        [0., 0.],\n",
       "        [0., 0.],\n",
       "        [0., 0.]],\n",
       "\n",
       "       [[0., 0.],\n",
       "        [0., 0.],\n",
       "        [0., 0.],\n",
       "        [0., 0.],\n",
       "        [0., 0.],\n",
       "        [0., 0.]]])</details></samp><samp style='font-size: 12px;'><details><summary><b style=\"color: #e55471;\">Tensor</b>(shape=(<b style=\"color: #a4de79;\">6</b>, <b style=\"color: #a4de79;\">6</b>, <b style=\"color: #828fdd;\">2</b>), inds=[<b style=\"color: #51d77d;\">_b695aaAAAMZ</b>, <b style=\"color: #608ce0;\">_b695aaAAAMa</b>, <b style=\"color: #df546d;\">k2</b>], tags={<b style=\"color: #dd5dd7;\">I2</b>}),</summary>backend=<b style=\"color: #7fdd73;\">numpy</b>, dtype=<b style=\"color: #75d2c6;\">float64</b>, data=array([[[0., 0.],\n",
       "        [0., 0.],\n",
       "        [0., 0.],\n",
       "        [0., 0.],\n",
       "        [0., 0.],\n",
       "        [0., 0.]],\n",
       "\n",
       "       [[0., 0.],\n",
       "        [0., 0.],\n",
       "        [0., 0.],\n",
       "        [0., 0.],\n",
       "        [0., 0.],\n",
       "        [0., 0.]],\n",
       "\n",
       "       [[0., 0.],\n",
       "        [0., 0.],\n",
       "        [0., 0.],\n",
       "        [0., 0.],\n",
       "        [0., 0.],\n",
       "        [0., 0.]],\n",
       "\n",
       "       [[0., 0.],\n",
       "        [0., 0.],\n",
       "        [0., 0.],\n",
       "        [0., 0.],\n",
       "        [0., 0.],\n",
       "        [0., 0.]],\n",
       "\n",
       "       [[0., 0.],\n",
       "        [0., 0.],\n",
       "        [0., 0.],\n",
       "        [0., 0.],\n",
       "        [0., 0.],\n",
       "        [0., 0.]],\n",
       "\n",
       "       [[0., 0.],\n",
       "        [0., 0.],\n",
       "        [0., 0.],\n",
       "        [0., 0.],\n",
       "        [0., 0.],\n",
       "        [0., 0.]]])</details></samp><samp style='font-size: 12px;'><details><summary><b style=\"color: #e55471;\">Tensor</b>(shape=(<b style=\"color: #a4de79;\">6</b>, <b style=\"color: #a4de79;\">6</b>, <b style=\"color: #828fdd;\">2</b>), inds=[<b style=\"color: #608ce0;\">_b695aaAAAMa</b>, <b style=\"color: #c249de;\">_b695aaAAAMb</b>, <b style=\"color: #4c7be1;\">k3</b>], tags={<b style=\"color: #dd65d9;\">I3</b>}),</summary>backend=<b style=\"color: #7fdd73;\">numpy</b>, dtype=<b style=\"color: #75d2c6;\">float64</b>, data=array([[[0., 0.],\n",
       "        [0., 0.],\n",
       "        [0., 0.],\n",
       "        [0., 0.],\n",
       "        [0., 0.],\n",
       "        [0., 0.]],\n",
       "\n",
       "       [[0., 0.],\n",
       "        [0., 0.],\n",
       "        [0., 0.],\n",
       "        [0., 0.],\n",
       "        [0., 0.],\n",
       "        [0., 0.]],\n",
       "\n",
       "       [[0., 0.],\n",
       "        [0., 0.],\n",
       "        [0., 0.],\n",
       "        [0., 0.],\n",
       "        [0., 0.],\n",
       "        [0., 0.]],\n",
       "\n",
       "       [[0., 0.],\n",
       "        [0., 0.],\n",
       "        [0., 0.],\n",
       "        [0., 0.],\n",
       "        [0., 0.],\n",
       "        [0., 0.]],\n",
       "\n",
       "       [[0., 0.],\n",
       "        [0., 0.],\n",
       "        [0., 0.],\n",
       "        [0., 0.],\n",
       "        [0., 0.],\n",
       "        [0., 0.]],\n",
       "\n",
       "       [[0., 0.],\n",
       "        [0., 0.],\n",
       "        [0., 0.],\n",
       "        [0., 0.],\n",
       "        [0., 0.],\n",
       "        [0., 0.]]])</details></samp><samp style='font-size: 12px;'><details><summary><b style=\"color: #e55471;\">Tensor</b>(shape=(<b style=\"color: #a4de79;\">6</b>, <b style=\"color: #a4de79;\">6</b>, <b style=\"color: #828fdd;\">2</b>), inds=[<b style=\"color: #c249de;\">_b695aaAAAMb</b>, <b style=\"color: #92d3c5;\">_b695aaAAAMc</b>, <b style=\"color: #462edc;\">k4</b>], tags={<b style=\"color: #998ad1;\">I4</b>}),</summary>backend=<b style=\"color: #7fdd73;\">numpy</b>, dtype=<b style=\"color: #75d2c6;\">float64</b>, data=array([[[0., 0.],\n",
       "        [0., 0.],\n",
       "        [0., 0.],\n",
       "        [0., 0.],\n",
       "        [0., 0.],\n",
       "        [0., 0.]],\n",
       "\n",
       "       [[0., 0.],\n",
       "        [0., 0.],\n",
       "        [0., 0.],\n",
       "        [0., 0.],\n",
       "        [0., 0.],\n",
       "        [0., 0.]],\n",
       "\n",
       "       [[0., 0.],\n",
       "        [0., 0.],\n",
       "        [0., 0.],\n",
       "        [0., 0.],\n",
       "        [0., 0.],\n",
       "        [0., 0.]],\n",
       "\n",
       "       [[0., 0.],\n",
       "        [0., 0.],\n",
       "        [0., 0.],\n",
       "        [0., 0.],\n",
       "        [0., 0.],\n",
       "        [0., 0.]],\n",
       "\n",
       "       [[0., 0.],\n",
       "        [0., 0.],\n",
       "        [0., 0.],\n",
       "        [0., 0.],\n",
       "        [0., 0.],\n",
       "        [0., 0.]],\n",
       "\n",
       "       [[0., 0.],\n",
       "        [0., 0.],\n",
       "        [0., 0.],\n",
       "        [0., 0.],\n",
       "        [0., 0.],\n",
       "        [0., 0.]]])</details></samp><samp style='font-size: 12px;'><details><summary><b style=\"color: #e55471;\">Tensor</b>(shape=(<b style=\"color: #a4de79;\">6</b>, <b style=\"color: #a4de79;\">6</b>, <b style=\"color: #828fdd;\">2</b>), inds=[<b style=\"color: #92d3c5;\">_b695aaAAAMc</b>, <b style=\"color: #41d9db;\">_b695aaAAAMd</b>, <b style=\"color: #85dfdf;\">k5</b>], tags={<b style=\"color: #97dddc;\">I5</b>}),</summary>backend=<b style=\"color: #7fdd73;\">numpy</b>, dtype=<b style=\"color: #75d2c6;\">float64</b>, data=array([[[0., 0.],\n",
       "        [0., 0.],\n",
       "        [0., 0.],\n",
       "        [0., 0.],\n",
       "        [0., 0.],\n",
       "        [0., 0.]],\n",
       "\n",
       "       [[0., 0.],\n",
       "        [0., 0.],\n",
       "        [0., 0.],\n",
       "        [0., 0.],\n",
       "        [0., 0.],\n",
       "        [0., 0.]],\n",
       "\n",
       "       [[0., 0.],\n",
       "        [0., 0.],\n",
       "        [0., 0.],\n",
       "        [0., 0.],\n",
       "        [0., 0.],\n",
       "        [0., 0.]],\n",
       "\n",
       "       [[0., 0.],\n",
       "        [0., 0.],\n",
       "        [0., 0.],\n",
       "        [0., 0.],\n",
       "        [0., 0.],\n",
       "        [0., 0.]],\n",
       "\n",
       "       [[0., 0.],\n",
       "        [0., 0.],\n",
       "        [0., 0.],\n",
       "        [0., 0.],\n",
       "        [0., 0.],\n",
       "        [0., 0.]],\n",
       "\n",
       "       [[0., 0.],\n",
       "        [0., 0.],\n",
       "        [0., 0.],\n",
       "        [0., 0.],\n",
       "        [0., 0.],\n",
       "        [0., 0.]]])</details></samp><samp style='font-size: 12px;'><details><summary><b style=\"color: #e55471;\">Tensor</b>(shape=(<b style=\"color: #a4de79;\">6</b>, <b style=\"color: #a4de79;\">6</b>, <b style=\"color: #828fdd;\">2</b>), inds=[<b style=\"color: #41d9db;\">_b695aaAAAMd</b>, <b style=\"color: #e5bc83;\">_b695aaAAAMe</b>, <b style=\"color: #2cb7d3;\">k6</b>], tags={<b style=\"color: #b2de5f;\">I6</b>}),</summary>backend=<b style=\"color: #7fdd73;\">numpy</b>, dtype=<b style=\"color: #75d2c6;\">float64</b>, data=array([[[0., 0.],\n",
       "        [0., 0.],\n",
       "        [0., 0.],\n",
       "        [0., 0.],\n",
       "        [0., 0.],\n",
       "        [0., 0.]],\n",
       "\n",
       "       [[0., 0.],\n",
       "        [0., 0.],\n",
       "        [0., 0.],\n",
       "        [0., 0.],\n",
       "        [0., 0.],\n",
       "        [0., 0.]],\n",
       "\n",
       "       [[0., 0.],\n",
       "        [0., 0.],\n",
       "        [0., 0.],\n",
       "        [0., 0.],\n",
       "        [0., 0.],\n",
       "        [0., 0.]],\n",
       "\n",
       "       [[0., 0.],\n",
       "        [0., 0.],\n",
       "        [0., 0.],\n",
       "        [0., 0.],\n",
       "        [0., 0.],\n",
       "        [0., 0.]],\n",
       "\n",
       "       [[0., 0.],\n",
       "        [0., 0.],\n",
       "        [0., 0.],\n",
       "        [0., 0.],\n",
       "        [0., 0.],\n",
       "        [0., 0.]],\n",
       "\n",
       "       [[0., 0.],\n",
       "        [0., 0.],\n",
       "        [0., 0.],\n",
       "        [0., 0.],\n",
       "        [0., 0.],\n",
       "        [0., 0.]]])</details></samp><samp style='font-size: 12px;'><details><summary><b style=\"color: #e55471;\">Tensor</b>(shape=(<b style=\"color: #a4de79;\">6</b>, <b style=\"color: #a4de79;\">6</b>, <b style=\"color: #828fdd;\">2</b>), inds=[<b style=\"color: #e5bc83;\">_b695aaAAAMe</b>, <b style=\"color: #d99c85;\">_b695aaAAAMf</b>, <b style=\"color: #53e08f;\">k7</b>], tags={<b style=\"color: #5582d6;\">I7</b>}),</summary>backend=<b style=\"color: #7fdd73;\">numpy</b>, dtype=<b style=\"color: #75d2c6;\">float64</b>, data=array([[[0., 0.],\n",
       "        [0., 0.],\n",
       "        [0., 0.],\n",
       "        [0., 0.],\n",
       "        [0., 0.],\n",
       "        [0., 0.]],\n",
       "\n",
       "       [[0., 0.],\n",
       "        [0., 0.],\n",
       "        [0., 0.],\n",
       "        [0., 0.],\n",
       "        [0., 0.],\n",
       "        [0., 0.]],\n",
       "\n",
       "       [[0., 0.],\n",
       "        [0., 0.],\n",
       "        [0., 0.],\n",
       "        [0., 0.],\n",
       "        [0., 0.],\n",
       "        [0., 0.]],\n",
       "\n",
       "       [[0., 0.],\n",
       "        [0., 0.],\n",
       "        [0., 0.],\n",
       "        [0., 0.],\n",
       "        [0., 0.],\n",
       "        [0., 0.]],\n",
       "\n",
       "       [[0., 0.],\n",
       "        [0., 0.],\n",
       "        [0., 0.],\n",
       "        [0., 0.],\n",
       "        [0., 0.],\n",
       "        [0., 0.]],\n",
       "\n",
       "       [[0., 0.],\n",
       "        [0., 0.],\n",
       "        [0., 0.],\n",
       "        [0., 0.],\n",
       "        [0., 0.],\n",
       "        [0., 0.]]])</details></samp><samp style='font-size: 12px;'><details><summary><b style=\"color: #e55471;\">Tensor</b>(shape=(<b style=\"color: #a4de79;\">6</b>, <b style=\"color: #828fdd;\">2</b>), inds=[<b style=\"color: #d99c85;\">_b695aaAAAMf</b>, <b style=\"color: #7bcd9f;\">k8</b>], tags={<b style=\"color: #8a3dd8;\">I8</b>}),</summary>backend=<b style=\"color: #7fdd73;\">numpy</b>, dtype=<b style=\"color: #75d2c6;\">float64</b>, data=array([[0., 0.],\n",
       "       [0., 0.],\n",
       "       [0., 0.],\n",
       "       [0., 0.],\n",
       "       [0., 0.],\n",
       "       [0., 0.]])</details></samp></details></samp>"
      ],
      "text/plain": [
       "MatrixProductState(tensors=9, indices=17, L=9, max_bond=6)"
      ]
     },
     "execution_count": 51,
     "metadata": {},
     "output_type": "execute_result"
    }
   ],
   "source": [
    "qtn.MPS_zero_state(bond_dim=6, L=9)"
   ]
  },
  {
   "cell_type": "code",
   "execution_count": null,
   "metadata": {},
   "outputs": [
    {
     "data": {
      "text/html": [
       "<samp style='font-size: 12px;'><details><summary><b style=\"color: #d75692;\">MatrixProductState</b>(tensors=9, indices=17, L=9, max_bond=6)</summary><samp style='font-size: 12px;'><details><summary><b style=\"color: #e55471;\">Tensor</b>(shape=(<b style=\"color: #a4de79;\">6</b>, <b style=\"color: #828fdd;\">2</b>), inds=[<b style=\"color: #7737e3;\">_b695aaAAAMg</b>, <b style=\"color: #b1dc61;\">k0</b>], tags={<b style=\"color: #d2b137;\">I0</b>}),</summary>backend=<b style=\"color: #7fdd73;\">numpy</b>, dtype=<b style=\"color: #75d2c6;\">float64</b>, data=array([[-0.60869635,  0.0269382 ],\n",
       "       [ 0.0916781 , -0.14310638],\n",
       "       [ 0.05916123, -0.83714259],\n",
       "       [ 0.44281789, -0.01790523],\n",
       "       [-0.43058057, -0.00979964],\n",
       "       [ 0.42079434, -0.23375431]])</details></samp><samp style='font-size: 12px;'><details><summary><b style=\"color: #e55471;\">Tensor</b>(shape=(<b style=\"color: #a4de79;\">6</b>, <b style=\"color: #a4de79;\">6</b>, <b style=\"color: #828fdd;\">2</b>), inds=[<b style=\"color: #7737e3;\">_b695aaAAAMg</b>, <b style=\"color: #6ee55e;\">_b695aaAAAMh</b>, <b style=\"color: #8aa5db;\">k1</b>], tags={<b style=\"color: #d19b78;\">I1</b>}),</summary>backend=<b style=\"color: #7fdd73;\">numpy</b>, dtype=<b style=\"color: #75d2c6;\">float64</b>, data=array([[[-0.42738026,  0.0171388 ],\n",
       "        [ 0.04403254,  0.0499608 ],\n",
       "        [-0.13252231,  0.13476585],\n",
       "        [ 0.90185957,  0.05800359],\n",
       "        [ 0.34286724, -0.37267672],\n",
       "        [-0.43097114, -0.42346975]],\n",
       "\n",
       "       [[ 0.46614448,  0.17719558],\n",
       "        [ 0.67787815, -0.28525309],\n",
       "        [-0.15086144,  0.11987462],\n",
       "        [-0.89482483,  0.38992554],\n",
       "        [-0.48582585, -0.41131106],\n",
       "        [-0.47699095, -0.16348666]],\n",
       "\n",
       "       [[ 0.1566051 ,  0.08313217],\n",
       "        [ 0.39807379, -0.0494762 ],\n",
       "        [-0.03127791,  0.27114191],\n",
       "        [ 0.59777374,  0.17823059],\n",
       "        [-0.04347796, -0.17781633],\n",
       "        [-0.29748494,  0.06249876]],\n",
       "\n",
       "       [[ 0.39792676, -0.10212006],\n",
       "        [-0.14119915,  0.68297522],\n",
       "        [ 0.02228119,  0.02571025],\n",
       "        [ 0.31623552,  0.36223821],\n",
       "        [ 0.22807605,  0.22596723],\n",
       "        [ 0.49022057,  0.61913384]],\n",
       "\n",
       "       [[-0.44910362, -0.58543807],\n",
       "        [-0.14397087,  0.21980017],\n",
       "        [ 0.28536145, -0.27568688],\n",
       "        [ 0.2605794 , -0.07505185],\n",
       "        [-0.2809549 ,  0.31598424],\n",
       "        [ 0.30926482, -0.11965072]],\n",
       "\n",
       "       [[ 0.2874515 ,  0.35812931],\n",
       "        [ 0.55384695,  0.44250583],\n",
       "        [ 0.01111898, -0.34850853],\n",
       "        [-0.24469352, -0.12131599],\n",
       "        [-0.19846359, -0.18300517],\n",
       "        [-0.27255704,  0.12636819]]])</details></samp><samp style='font-size: 12px;'><details><summary><b style=\"color: #e55471;\">Tensor</b>(shape=(<b style=\"color: #a4de79;\">6</b>, <b style=\"color: #a4de79;\">6</b>, <b style=\"color: #828fdd;\">2</b>), inds=[<b style=\"color: #6ee55e;\">_b695aaAAAMh</b>, <b style=\"color: #3dabd5;\">_b695aaAAAMi</b>, <b style=\"color: #df546d;\">k2</b>], tags={<b style=\"color: #dd5dd7;\">I2</b>}),</summary>backend=<b style=\"color: #7fdd73;\">numpy</b>, dtype=<b style=\"color: #75d2c6;\">float64</b>, data=array([[[ 0.28959984,  0.04774155],\n",
       "        [ 0.329388  ,  0.28570087],\n",
       "        [-0.18002547,  0.31384536],\n",
       "        [-0.30056541, -0.33503071],\n",
       "        [-0.18974332, -0.1879056 ],\n",
       "        [-0.48647725,  0.04971096]],\n",
       "\n",
       "       [[ 0.32622069, -0.44428393],\n",
       "        [ 0.31802463, -0.41972699],\n",
       "        [-0.11374409,  0.80518072],\n",
       "        [-0.01807439, -0.34140934],\n",
       "        [ 0.21290361, -0.38905386],\n",
       "        [-0.10153918,  0.00279844]],\n",
       "\n",
       "       [[-0.23941146, -0.23495472],\n",
       "        [ 0.28003143, -0.63522228],\n",
       "        [-0.07253588, -0.38932157],\n",
       "        [-0.95167186, -0.81744228],\n",
       "        [-0.36920127, -0.23490693],\n",
       "        [-0.50775174, -0.55136993]],\n",
       "\n",
       "       [[ 0.40195007,  0.33938677],\n",
       "        [-0.29681552, -0.3696094 ],\n",
       "        [-0.17483727, -0.38628362],\n",
       "        [-0.46973881,  0.06616983],\n",
       "        [ 0.22510054, -0.10522286],\n",
       "        [ 0.28920442, -0.35160651]],\n",
       "\n",
       "       [[-0.59654241, -0.10300523],\n",
       "        [ 0.24721148, -0.09031918],\n",
       "        [ 0.18655378, -0.07643713],\n",
       "        [-0.05960452,  0.1422952 ],\n",
       "        [-0.11616867, -0.44612232],\n",
       "        [ 0.28892238, -0.67957386]],\n",
       "\n",
       "       [[ 0.20124292,  0.16575772],\n",
       "        [-0.08831744, -0.4713421 ],\n",
       "        [-0.10178632,  0.20522193],\n",
       "        [ 0.15329256, -0.20802724],\n",
       "        [-0.0097626 , -0.42489415],\n",
       "        [-0.13328843, -0.36616865]]])</details></samp><samp style='font-size: 12px;'><details><summary><b style=\"color: #e55471;\">Tensor</b>(shape=(<b style=\"color: #a4de79;\">6</b>, <b style=\"color: #a4de79;\">6</b>, <b style=\"color: #828fdd;\">2</b>), inds=[<b style=\"color: #3dabd5;\">_b695aaAAAMi</b>, <b style=\"color: #7ad676;\">_b695aaAAAMj</b>, <b style=\"color: #4c7be1;\">k3</b>], tags={<b style=\"color: #dd65d9;\">I3</b>}),</summary>backend=<b style=\"color: #7fdd73;\">numpy</b>, dtype=<b style=\"color: #75d2c6;\">float64</b>, data=array([[[-0.04556363, -0.0364625 ],\n",
       "        [-0.37162967, -0.61772134],\n",
       "        [ 0.08856357, -0.04437982],\n",
       "        [ 0.61060013,  0.30760073],\n",
       "        [ 0.40884562, -0.11490613],\n",
       "        [-0.11895427, -0.07064482]],\n",
       "\n",
       "       [[ 0.06894887,  0.44441641],\n",
       "        [ 0.09988335,  0.12385045],\n",
       "        [ 0.08037597,  0.03303672],\n",
       "        [ 0.74637811,  0.12772855],\n",
       "        [-0.19178932, -0.22635044],\n",
       "        [-0.10565129, -0.08027183]],\n",
       "\n",
       "       [[-0.55808593,  0.54766499],\n",
       "        [ 0.52447185,  0.31878816],\n",
       "        [ 0.66703303,  0.27242365],\n",
       "        [ 0.15664004, -0.07052991],\n",
       "        [-0.36654026, -0.10299678],\n",
       "        [-0.38674709,  0.056802  ]],\n",
       "\n",
       "       [[ 0.40645437, -0.37506472],\n",
       "        [-0.02939047, -0.15387329],\n",
       "        [ 0.49476018,  0.27033721],\n",
       "        [ 0.20097572, -0.23965057],\n",
       "        [ 0.17326272,  0.25507652],\n",
       "        [-0.06366216, -0.25765534]],\n",
       "\n",
       "       [[ 0.58050799, -0.40715001],\n",
       "        [-0.21652177,  0.37893812],\n",
       "        [-0.32154334,  0.02541269],\n",
       "        [-0.39736432, -0.1568134 ],\n",
       "        [ 0.1245589 ,  0.36597263],\n",
       "        [-0.03545339,  0.00717398]],\n",
       "\n",
       "       [[ 0.41085333, -0.52781852],\n",
       "        [-0.61500553, -0.36597641],\n",
       "        [-0.00142764, -0.65325957],\n",
       "        [-0.15189123, -0.84996051],\n",
       "        [ 0.12254475, -0.04637914],\n",
       "        [-0.04608947, -0.00722963]]])</details></samp><samp style='font-size: 12px;'><details><summary><b style=\"color: #e55471;\">Tensor</b>(shape=(<b style=\"color: #a4de79;\">6</b>, <b style=\"color: #a4de79;\">6</b>, <b style=\"color: #828fdd;\">2</b>), inds=[<b style=\"color: #7ad676;\">_b695aaAAAMj</b>, <b style=\"color: #a0e55a;\">_b695aaAAAMk</b>, <b style=\"color: #462edc;\">k4</b>], tags={<b style=\"color: #998ad1;\">I4</b>}),</summary>backend=<b style=\"color: #7fdd73;\">numpy</b>, dtype=<b style=\"color: #75d2c6;\">float64</b>, data=array([[[-2.62580280e-01, -2.69211255e-01],\n",
       "        [ 1.70294578e-01, -1.09389960e-01],\n",
       "        [ 6.93313036e-01,  1.25751349e-01],\n",
       "        [-1.70932192e-01, -4.83252921e-01],\n",
       "        [ 1.40190372e-01, -5.93753198e-01],\n",
       "        [-3.26548070e-01,  1.18015701e-01]],\n",
       "\n",
       "       [[-3.87513986e-01, -1.94506353e-01],\n",
       "        [-3.61866753e-01,  2.43333339e-01],\n",
       "        [ 4.63318014e-04,  5.44305197e-01],\n",
       "        [ 2.66354373e-01,  6.94235212e-01],\n",
       "        [-3.02225517e-01, -2.89484825e-01],\n",
       "        [-3.27014486e-01,  3.00574329e-01]],\n",
       "\n",
       "       [[-3.25909004e-01,  6.52179303e-01],\n",
       "        [-1.77105510e-01, -8.36292164e-02],\n",
       "        [-3.05016447e-01, -1.32345206e-01],\n",
       "        [-1.98165523e-01, -4.60159521e-01],\n",
       "        [ 1.79372833e-01, -4.95335452e-02],\n",
       "        [ 5.19152534e-01,  3.28855208e-01]],\n",
       "\n",
       "       [[-2.25276873e-02, -8.02550600e-02],\n",
       "        [ 3.98657978e-01,  2.69522000e-01],\n",
       "        [-7.55140792e-03, -4.80868778e-01],\n",
       "        [-4.66842837e-01, -2.15948588e-01],\n",
       "        [ 1.28838652e-01,  2.19159368e-01],\n",
       "        [-7.17254115e-01, -1.81402176e-01]],\n",
       "\n",
       "       [[-3.27968497e-01, -7.11346960e-01],\n",
       "        [ 7.22675216e-01, -1.57320984e-01],\n",
       "        [-7.51922288e-01, -2.37446782e-01],\n",
       "        [ 2.00354863e-01,  6.90127785e-01],\n",
       "        [-2.33962006e-01, -1.45043616e-01],\n",
       "        [ 1.36622291e-02,  1.72989261e-01]],\n",
       "\n",
       "       [[-5.43337355e-01, -3.82992959e-01],\n",
       "        [ 6.87879160e-02,  3.76050997e-02],\n",
       "        [-6.86254682e-02,  1.84112262e-01],\n",
       "        [-7.27363031e-01,  1.07050248e-03],\n",
       "        [ 2.02859748e-01, -9.65925135e-02],\n",
       "        [ 3.88087964e-01, -3.87789531e-02]]])</details></samp><samp style='font-size: 12px;'><details><summary><b style=\"color: #e55471;\">Tensor</b>(shape=(<b style=\"color: #a4de79;\">6</b>, <b style=\"color: #a4de79;\">6</b>, <b style=\"color: #828fdd;\">2</b>), inds=[<b style=\"color: #a0e55a;\">_b695aaAAAMk</b>, <b style=\"color: #8fda3e;\">_b695aaAAAMl</b>, <b style=\"color: #85dfdf;\">k5</b>], tags={<b style=\"color: #97dddc;\">I5</b>}),</summary>backend=<b style=\"color: #7fdd73;\">numpy</b>, dtype=<b style=\"color: #75d2c6;\">float64</b>, data=array([[[ 0.16513544, -0.01412468],\n",
       "        [ 0.40013   ,  0.76682295],\n",
       "        [ 0.08175772,  0.78494518],\n",
       "        [-0.49638929,  0.14372577],\n",
       "        [ 0.14325132, -0.20025404],\n",
       "        [-0.42662208,  0.0635603 ]],\n",
       "\n",
       "       [[ 0.16447799,  0.73674466],\n",
       "        [ 0.54189759, -0.03323127],\n",
       "        [-0.23293971,  0.2082468 ],\n",
       "        [ 0.08728321, -0.2568552 ],\n",
       "        [ 0.00171888,  0.4062097 ],\n",
       "        [ 0.55830449,  0.25154781]],\n",
       "\n",
       "       [[ 0.10335392, -0.12322272],\n",
       "        [-0.08967044, -0.50672538],\n",
       "        [ 0.33686056,  0.17266007],\n",
       "        [ 0.22089499, -0.07002693],\n",
       "        [-0.08687552, -0.35332896],\n",
       "        [ 0.11032462,  0.17836217]],\n",
       "\n",
       "       [[ 0.09252495, -0.20557871],\n",
       "        [-0.17779661, -0.38313771],\n",
       "        [-0.36379216,  0.08191042],\n",
       "        [-0.47768958,  0.10209861],\n",
       "        [-0.73311069, -0.71147099],\n",
       "        [ 0.36360839,  0.0687975 ]],\n",
       "\n",
       "       [[-0.14711962, -0.27067904],\n",
       "        [ 0.09414492,  0.13213123],\n",
       "        [-0.1401748 ,  0.2258141 ],\n",
       "        [-0.24090863,  0.0607865 ],\n",
       "        [ 0.33153999,  0.20745892],\n",
       "        [-0.38097892,  0.09278488]],\n",
       "\n",
       "       [[ 0.36857961,  0.29683685],\n",
       "        [ 0.07573406,  0.49375697],\n",
       "        [-0.04859681,  0.35669218],\n",
       "        [-0.01671208,  0.40127406],\n",
       "        [ 0.72624544, -0.3710595 ],\n",
       "        [ 0.44625451,  0.75390872]]])</details></samp><samp style='font-size: 12px;'><details><summary><b style=\"color: #e55471;\">Tensor</b>(shape=(<b style=\"color: #a4de79;\">6</b>, <b style=\"color: #a4de79;\">6</b>, <b style=\"color: #828fdd;\">2</b>), inds=[<b style=\"color: #8fda3e;\">_b695aaAAAMl</b>, <b style=\"color: #73a1d4;\">_b695aaAAAMm</b>, <b style=\"color: #2cb7d3;\">k6</b>], tags={<b style=\"color: #b2de5f;\">I6</b>}),</summary>backend=<b style=\"color: #7fdd73;\">numpy</b>, dtype=<b style=\"color: #75d2c6;\">float64</b>, data=array([[[ 0.04640234, -0.14193073],\n",
       "        [-0.12509143, -0.11555155],\n",
       "        [-0.14771327,  0.59661139],\n",
       "        [ 0.51344878, -0.28153019],\n",
       "        [ 0.25216136,  0.35827182],\n",
       "        [ 0.26739236, -0.12757921]],\n",
       "\n",
       "       [[ 0.0129251 ,  0.60332837],\n",
       "        [-0.08739241, -0.62122888],\n",
       "        [-0.03310217,  0.5858664 ],\n",
       "        [-0.28929399, -0.43525196],\n",
       "        [-0.29358127, -0.33769125],\n",
       "        [-0.14480693, -0.28102643]],\n",
       "\n",
       "       [[ 0.39666135, -0.03798247],\n",
       "        [ 0.27263471, -0.37289935],\n",
       "        [-0.50426965,  0.17451464],\n",
       "        [-0.01098337, -0.52172247],\n",
       "        [-0.00511864,  0.7653355 ],\n",
       "        [ 0.53986154,  0.15939693]],\n",
       "\n",
       "       [[-0.34719428, -0.21602021],\n",
       "        [ 0.18180172,  0.39564415],\n",
       "        [-0.25748158,  0.92602413],\n",
       "        [ 0.12140842, -0.32192931],\n",
       "        [ 0.03131509,  0.13693787],\n",
       "        [-0.29804688, -0.65909079]],\n",
       "\n",
       "       [[-0.10183496,  0.3770713 ],\n",
       "        [-0.34101276, -0.34292148],\n",
       "        [ 0.17110003,  0.31774818],\n",
       "        [-0.33762791, -0.96104795],\n",
       "        [ 0.33298738, -0.49842711],\n",
       "        [-0.00928714,  0.226183  ]],\n",
       "\n",
       "       [[-0.36912571, -0.05995702],\n",
       "        [ 0.35258318, -0.24703802],\n",
       "        [ 0.13440983,  0.33631691],\n",
       "        [-0.09199728,  0.07335814],\n",
       "        [-0.13640666, -0.2499202 ],\n",
       "        [-0.48821626, -0.24892432]]])</details></samp><samp style='font-size: 12px;'><details><summary><b style=\"color: #e55471;\">Tensor</b>(shape=(<b style=\"color: #a4de79;\">6</b>, <b style=\"color: #a4de79;\">6</b>, <b style=\"color: #828fdd;\">2</b>), inds=[<b style=\"color: #73a1d4;\">_b695aaAAAMm</b>, <b style=\"color: #d27acf;\">_b695aaAAAMn</b>, <b style=\"color: #53e08f;\">k7</b>], tags={<b style=\"color: #5582d6;\">I7</b>}),</summary>backend=<b style=\"color: #7fdd73;\">numpy</b>, dtype=<b style=\"color: #75d2c6;\">float64</b>, data=array([[[ 0.00118882, -0.17199893],\n",
       "        [ 0.3337552 , -0.29721548],\n",
       "        [ 0.06304929, -0.17156893],\n",
       "        [-0.27332775, -0.43780898],\n",
       "        [-0.37792504,  0.53363352],\n",
       "        [-0.22412348, -0.40207817]],\n",
       "\n",
       "       [[ 1.02629936,  0.33739489],\n",
       "        [-1.09480339, -0.30874747],\n",
       "        [ 0.06514551, -0.0401202 ],\n",
       "        [ 0.60240881, -0.16099775],\n",
       "        [ 0.36545171,  0.87012817],\n",
       "        [ 0.02974454,  0.23881441]],\n",
       "\n",
       "       [[ 0.0775711 , -0.44838258],\n",
       "        [-0.49585702,  0.31086024],\n",
       "        [-0.46577428,  0.21283645],\n",
       "        [-0.47042376,  0.5302776 ],\n",
       "        [-0.20864064,  0.15338399],\n",
       "        [-0.30204904, -0.04126851]],\n",
       "\n",
       "       [[ 0.34765155, -0.5228383 ],\n",
       "        [-0.20786554, -0.34296752],\n",
       "        [-0.11392886, -0.21677194],\n",
       "        [-0.16403575,  0.12250272],\n",
       "        [-0.16080833,  0.0200976 ],\n",
       "        [-0.5357234 ,  0.01248589]],\n",
       "\n",
       "       [[-0.4168462 ,  0.51799255],\n",
       "        [ 0.6310811 ,  0.29186357],\n",
       "        [-0.02053064, -0.41773825],\n",
       "        [ 0.04249724,  0.01518841],\n",
       "        [-0.16005946,  0.18451357],\n",
       "        [-0.07779563,  0.15411334]],\n",
       "\n",
       "       [[ 0.55216915,  0.21414817],\n",
       "        [-0.30848153, -0.6340363 ],\n",
       "        [-0.11052745, -0.06309335],\n",
       "        [-0.09355602, -0.27525054],\n",
       "        [ 0.10229152,  0.31356304],\n",
       "        [ 0.00952043,  0.21972346]]])</details></samp><samp style='font-size: 12px;'><details><summary><b style=\"color: #e55471;\">Tensor</b>(shape=(<b style=\"color: #a4de79;\">6</b>, <b style=\"color: #828fdd;\">2</b>), inds=[<b style=\"color: #d27acf;\">_b695aaAAAMn</b>, <b style=\"color: #7bcd9f;\">k8</b>], tags={<b style=\"color: #8a3dd8;\">I8</b>}),</summary>backend=<b style=\"color: #7fdd73;\">numpy</b>, dtype=<b style=\"color: #75d2c6;\">float64</b>, data=array([[ 0.29465084, -0.21523937],\n",
       "       [-0.02222516,  0.08655294],\n",
       "       [-0.21932948, -0.09002728],\n",
       "       [-0.03142289, -0.01989101],\n",
       "       [-0.20679823,  0.20827728],\n",
       "       [ 0.14521268,  0.13362272]])</details></samp></details></samp>"
      ],
      "text/plain": [
       "MatrixProductState(tensors=9, indices=17, L=9, max_bond=6)"
      ]
     },
     "execution_count": 52,
     "metadata": {},
     "output_type": "execute_result"
    }
   ],
   "source": [
    "qtn.MPS_rand_state(L=9, bond_dim=6)"
   ]
  },
  {
   "cell_type": "markdown",
   "metadata": {},
   "source": [
    "# Question for the guy"
   ]
  },
  {
   "cell_type": "code",
   "execution_count": null,
   "metadata": {},
   "outputs": [],
   "source": [
    "import pennylane as qml\n",
    "import quimb.tensor as qtn\n",
    "import numpy as np\n",
    "\n",
    "# case 1: single qubit gate (works fine)\n",
    "op1 = qml.PauliX(wires=[0])\n",
    "qtn.Circuit(N=1).apply_gate(\n",
    "    op1.matrix().astype(np.complex128), *op1.wires, parametrize=None\n",
    ")\n",
    "\n",
    "# case 2: two qubit gate (works fine)\n",
    "op2 = qml.CNOT(wires=[0, 1])\n",
    "qtn.Circuit(N=2).apply_gate(\n",
    "    op2.matrix().astype(np.complex128), *op2.wires, parametrize=None\n",
    ")\n",
    "\n",
    "# case 3: three qubit gate (fails)\n",
    "op3 = qml.Toffoli(wires=[0, 1, 2])\n",
    "# qtn.CircuitMPS(N=3).apply_gate(op3.matrix(), *op3.wires, parametrize=None)\n",
    "\n",
    "# case 4: four qubit gate (fails)\n",
    "op4 = qml.DoubleExcitation(0.1, wires=[0, 1, 2, 3])\n",
    "# qtn.Circuit(N=4).apply_gate(op4.matrix().astype(np.complex128), *op4.wires, parametrize=None)"
   ]
  },
  {
   "cell_type": "code",
   "execution_count": null,
   "metadata": {},
   "outputs": [],
   "source": [
    "ops = [\n",
    "    qml.PauliX(wires=[0]),\n",
    "    qml.RX(theta, wires=[0]),\n",
    "    qml.CSWAP(wires=[7, 0, 5]),\n",
    "    qml.RX(phi, wires=[1]),\n",
    "    qml.CNOT(wires=[3, 4]),\n",
    "    qml.DoubleExcitation(phi, wires=[1, 2, 3, 4]),\n",
    "    qml.CZ(wires=[4, 5]),\n",
    "    qml.Hadamard(wires=[4]),\n",
    "    qml.CCZ(wires=[0, 1, 2]),\n",
    "    qml.CSWAP(wires=[2, 3, 4]),\n",
    "    qml.QFT(wires=[0, 1, 2]),\n",
    "    qml.CNOT(wires=[2, 4]),\n",
    "    qml.Toffoli(wires=[0, 1, 2]),\n",
    "    qml.DoubleExcitation(phi, wires=[0, 1, 3, 4]),\n",
    "]\n",
    "\n",
    "meas = [\n",
    "    qml.expval(O2),\n",
    "    qml.expval(O2),\n",
    "    qml.expval(O1),\n",
    "    qml.var(qml.PauliY(wires=[2])),\n",
    "    qml.expval(O1),\n",
    "    qml.var(qml.PauliY(wires=[4])),\n",
    "]\n",
    "\n",
    "\n",
    "tape = qml.tape.QuantumScript(ops=ops, measurements=meas)"
   ]
  },
  {
   "cell_type": "code",
   "execution_count": null,
   "metadata": {},
   "outputs": [
    {
     "name": "stdout",
     "output_type": "stream",
     "text": [
      "Frisus log: execute called with:\n",
      "execution_config=ExecutionConfig(grad_on_execution=None, use_device_gradient=None, use_device_jacobian_product=None, gradient_method=None, gradient_keyword_arguments={}, device_options={}, interface=None, derivative_order=1)\n",
      "circuits=(<QuantumScript: wires=[0, 7, 5, 1, 3, 4, 2], params=4>,)\n",
      "\n"
     ]
    },
    {
     "data": {
      "text/plain": [
       "(0.10157883318982944, 0.10157883318982944, 1.0, 0.9881722793134764, 1.0, 1.0)"
      ]
     },
     "execution_count": 55,
     "metadata": {},
     "output_type": "execute_result"
    }
   ],
   "source": [
    "obj = LightningQubit(wires=tape.wires)\n",
    "\n",
    "obj.execute(tape)"
   ]
  },
  {
   "cell_type": "code",
   "execution_count": null,
   "metadata": {},
   "outputs": [
    {
     "data": {
      "text/plain": [
       "array([[ 0.94959868-0.24247235j,  0.19842105-0.00992933j],\n",
       "       [-0.19842105-0.00992933j,  0.94959868+0.24247235j]])"
      ]
     },
     "execution_count": 56,
     "metadata": {},
     "output_type": "execute_result"
    }
   ],
   "source": [
    "qml.Rot(0.2, -0.4, 0.3, wires=[2]).matrix()"
   ]
  },
  {
   "cell_type": "code",
   "execution_count": null,
   "metadata": {},
   "outputs": [
    {
     "data": {
      "text/plain": [
       "(0.1015788331898218,\n",
       " 0.1015788331898218,\n",
       " 0.999999999999981,\n",
       " 0.9881722793134597,\n",
       " 0.999999999999981,\n",
       " 0.999999999999981)"
      ]
     },
     "execution_count": 57,
     "metadata": {},
     "output_type": "execute_result"
    }
   ],
   "source": [
    "obj = LightningTensor(\n",
    "    wires=wires,\n",
    "    backend=backend,\n",
    "    method=method,\n",
    "    c_dtype=c_dtype,\n",
    "    max_bond_dim=max_bond_dim,\n",
    "    cutoff=cutoff,\n",
    ")\n",
    "\n",
    "\n",
    "obj.execute(tape)"
   ]
  },
  {
   "cell_type": "code",
   "execution_count": null,
   "metadata": {},
   "outputs": [],
   "source": []
  },
  {
   "cell_type": "code",
   "execution_count": null,
   "metadata": {},
   "outputs": [],
   "source": [
    "import pennylane as qml\n",
    "\n",
    "# Define the operations\n",
    "ops = [\n",
    "    qml.Hadamard(wires=[0]),\n",
    "    qml.CRX(0.5, wires=[1, 2]),\n",
    "    qml.CNOT(wires=[0, 1]),\n",
    "    qml.CRX(0.3, wires=[2, 3]),\n",
    "    qml.PauliX(wires=[0]),\n",
    "    qml.RX(theta, wires=[0]),\n",
    "    qml.CSWAP(wires=[7, 0, 5]),\n",
    "    qml.RX(phi, wires=[1]),\n",
    "    qml.CNOT(wires=[3, 4]),\n",
    "    qml.DoubleExcitation(phi, wires=[1, 2, 3, 4]),\n",
    "    qml.CZ(wires=[4, 5]),\n",
    "    qml.Hadamard(wires=[4]),\n",
    "    qml.CCZ(wires=[0, 1, 2]),\n",
    "    qml.CSWAP(wires=[2, 3, 4]),\n",
    "    qml.QFT(wires=[0, 1, 2]),\n",
    "    qml.CNOT(wires=[2, 4]),\n",
    "    qml.Toffoli(wires=[0, 1, 2]),\n",
    "    qml.DoubleExcitation(phi, wires=[0, 1, 3, 4]),\n",
    "    qml.CSWAP(wires=[1, 2, 3]),\n",
    "    qml.RX(-0.8, wires=[0]),\n",
    "    qml.CZ(wires=[0, 2]),\n",
    "    qml.RY(0.4, wires=[1]),\n",
    "    qml.CNOT(wires=[1, 3]),\n",
    "    qml.CCZ(wires=[0, 1, 2]),\n",
    "    qml.Hadamard(wires=[3])\n",
    "]\n",
    "\n",
    "# Define the measurement\n",
    "meas = [\n",
    "    qml.expval(qml.PauliX(wires=[0])),\n",
    "    qml.var(qml.PauliY(wires=[1])),\n",
    "    qml.expval(qml.PauliZ(wires=[2])),\n",
    "    qml.expval(qml.PauliX(wires=[3]))\n",
    "]\n",
    "\n",
    "# Create the QuantumScript tape\n",
    "tape = qml.tape.QuantumScript(ops=ops, measurements=meas)"
   ]
  },
  {
   "cell_type": "code",
   "execution_count": null,
   "metadata": {},
   "outputs": [
    {
     "name": "stdout",
     "output_type": "stream",
     "text": [
      "Frisus log: execute called with:\n",
      "execution_config=ExecutionConfig(grad_on_execution=None, use_device_gradient=None, use_device_jacobian_product=None, gradient_method=None, gradient_keyword_arguments={}, device_options={}, interface=None, derivative_order=1)\n",
      "circuits=(<QuantumScript: wires=[0, 1, 2, 3, 7, 5, 4], params=8>,)\n",
      "\n"
     ]
    },
    {
     "data": {
      "text/plain": [
       "(0.2697347514992784,\n",
       " 0.9022098454128101,\n",
       " 0.4999999999999998,\n",
       " 0.7500118092151864)"
      ]
     },
     "execution_count": 59,
     "metadata": {},
     "output_type": "execute_result"
    }
   ],
   "source": [
    "obj = LightningQubit(\n",
    "    wires=tape.wires,\n",
    "    c_dtype=c_dtype,\n",
    ")\n",
    "\n",
    "\n",
    "obj.execute(tape)"
   ]
  },
  {
   "cell_type": "code",
   "execution_count": null,
   "metadata": {},
   "outputs": [
    {
     "data": {
      "text/plain": [
       "(0.2697347514992825, 0.9022098454128122, 0.500000000000004, 0.7500118092151926)"
      ]
     },
     "execution_count": 60,
     "metadata": {},
     "output_type": "execute_result"
    }
   ],
   "source": [
    "obj = LightningTensor(\n",
    "    wires=tape.wires,\n",
    "    backend=backend,\n",
    "    method=method,\n",
    "    c_dtype=c_dtype,\n",
    "    max_bond_dim=max_bond_dim,\n",
    "    cutoff=cutoff,\n",
    ")\n",
    "\n",
    "\n",
    "obj.execute(tape)"
   ]
  },
  {
   "cell_type": "code",
   "execution_count": null,
   "metadata": {},
   "outputs": [],
   "source": [
    "import pennylane as qml\n",
    "\n",
    "# Define the operations\n",
    "ops = [\n",
    "    qml.Rot(-0.3, 0.7, -0.4, wires=[0]),\n",
    "    qml.RY(0.8, wires=[1]),\n",
    "    qml.CNOT(wires=[1, 2]),\n",
    "    qml.CRX(0.2, wires=[0, 2]),\n",
    "    qml.PauliY(wires=[1]),\n",
    "    qml.CZ(wires=[0, 3]),\n",
    "    qml.Hadamard(wires=[2]),\n",
    "    qml.CSWAP(wires=[1, 2, 3]),\n",
    "    qml.Rot(0.1, 0.5, 0.3, wires=[0]),\n",
    "    qml.CRX(-0.6, wires=[2, 3]),\n",
    "    qml.RX(0.4, wires=[1]),\n",
    "    qml.CNOT(wires=[0, 1]),\n",
    "    qml.Toffoli(wires=[0, 1, 3])\n",
    "]\n",
    "\n",
    "# Define the measurement\n",
    "meas = [\n",
    "    qml.var(qml.PauliX(wires=[0])),\n",
    "    qml.expval(qml.PauliY(wires=[1])),\n",
    "    qml.expval(qml.PauliZ(wires=[2])),\n",
    "    qml.var(qml.PauliX(wires=[3]))\n",
    "]\n",
    "\n",
    "# Create the QuantumScript tape\n",
    "tape = qml.tape.QuantumScript(ops=ops, measurements=meas)\n"
   ]
  },
  {
   "cell_type": "code",
   "execution_count": null,
   "metadata": {},
   "outputs": [
    {
     "data": {
      "text/plain": [
       "(0.893103946092743,\n",
       " 0.09691449955719036,\n",
       " 0.8483533546735812,\n",
       " 0.2836662418876177)"
      ]
     },
     "execution_count": 62,
     "metadata": {},
     "output_type": "execute_result"
    }
   ],
   "source": [
    "obj = LightningTensor(\n",
    "    wires=wires,\n",
    "    backend=backend,\n",
    "    method=method,\n",
    "    c_dtype=c_dtype,\n",
    "    max_bond_dim=max_bond_dim,\n",
    "    cutoff=cutoff,\n",
    ")\n",
    "\n",
    "\n",
    "obj.execute(tape)"
   ]
  },
  {
   "cell_type": "code",
   "execution_count": null,
   "metadata": {},
   "outputs": [],
   "source": [
    "import pennylane as qml\n",
    "\n",
    "# Define the operations\n",
    "ops = [\n",
    "    qml.Rot(0.1, -0.5, 0.6, wires=[0]),\n",
    "    qml.RX(-0.2, wires=[1]),\n",
    "    qml.CSWAP(wires=[0, 1, 2]),\n",
    "    qml.RY(0.3, wires=[2]),\n",
    "    qml.CNOT(wires=[1, 3]),\n",
    "    qml.PauliX(wires=[2]),\n",
    "    qml.CRX(0.4, wires=[0, 3]),\n",
    "    qml.Hadamard(wires=[1]),\n",
    "    qml.CCZ(wires=[0, 1, 3]),\n",
    "    qml.CRX(0.7, wires=[2, 3]),\n",
    "    qml.CZ(wires=[0, 1]),\n",
    "    qml.Toffoli(wires=[0, 2, 3])\n",
    "]\n",
    "\n",
    "# Define the measurement\n",
    "meas = [\n",
    "    qml.expval(qml.PauliZ(wires=[0])),\n",
    "    qml.var(qml.PauliY(wires=[1])),\n",
    "    qml.expval(qml.PauliZ(wires=[2])),\n",
    "    qml.var(qml.PauliX(wires=[3]))\n",
    "]\n",
    "\n",
    "# Create the QuantumScript tape\n",
    "tape = qml.tape.QuantumScript(ops=ops, measurements=meas)\n"
   ]
  },
  {
   "cell_type": "code",
   "execution_count": null,
   "metadata": {},
   "outputs": [
    {
     "data": {
      "text/plain": [
       "(0.877582561890374,\n",
       " 1.0000000000000022,\n",
       " -0.9541708838044183,\n",
       " 1.0000000000000022)"
      ]
     },
     "execution_count": 64,
     "metadata": {},
     "output_type": "execute_result"
    }
   ],
   "source": [
    "obj = LightningTensor(\n",
    "    wires=wires,\n",
    "    backend=backend,\n",
    "    method=method,\n",
    "    c_dtype=c_dtype,\n",
    "    max_bond_dim=max_bond_dim,\n",
    "    cutoff=cutoff,\n",
    ")\n",
    "\n",
    "\n",
    "obj.execute(tape)"
   ]
  },
  {
   "cell_type": "code",
   "execution_count": null,
   "metadata": {},
   "outputs": [],
   "source": []
  },
  {
   "cell_type": "code",
   "execution_count": null,
   "metadata": {},
   "outputs": [],
   "source": []
  },
  {
   "cell_type": "code",
   "execution_count": null,
   "metadata": {},
   "outputs": [],
   "source": []
  },
  {
   "cell_type": "code",
   "execution_count": null,
   "metadata": {},
   "outputs": [],
   "source": [
    "def from_op_to_tensor(op) -> qtn.Tensor:\n",
    "    \"\"\"Returns the Quimb tensor corresponding to a PennyLane operator.\"\"\"\n",
    "    wires = tuple(op.wires)\n",
    "    bra_inds = []\n",
    "    for _, i in enumerate(wires):\n",
    "        bra_inds.append(f\"b{i}\")\n",
    "    bra_inds = tuple(bra_inds)\n",
    "    ket_inds = []\n",
    "    for _, i in enumerate(wires):\n",
    "        ket_inds.append(f\"k{i}\")\n",
    "    ket_inds = tuple(ket_inds)\n",
    "    array = op.matrix().astype(np.complex128)\n",
    "    return qtn.Tensor(array.reshape([2] * int(np.log2(array.size))), inds=bra_inds + ket_inds)\n"
   ]
  },
  {
   "cell_type": "code",
   "execution_count": null,
   "metadata": {},
   "outputs": [],
   "source": []
  },
  {
   "cell_type": "code",
   "execution_count": null,
   "metadata": {},
   "outputs": [
    {
     "data": {
      "text/html": [
       "<samp style='font-size: 12px;'><details><summary><b style=\"color: #e55471;\">Tensor</b>(shape=(<b style=\"color: #828fdd;\">2</b>, <b style=\"color: #828fdd;\">2</b>, <b style=\"color: #828fdd;\">2</b>, <b style=\"color: #828fdd;\">2</b>, <b style=\"color: #828fdd;\">2</b>, <b style=\"color: #828fdd;\">2</b>, <b style=\"color: #828fdd;\">2</b>, <b style=\"color: #828fdd;\">2</b>), inds=[<b style=\"color: #e06fe0;\">b0</b>, <b style=\"color: #c757cc;\">b1</b>, <b style=\"color: #50e1e1;\">b2</b>, <b style=\"color: #e48733;\">b3</b>, <b style=\"color: #b1dc61;\">k0</b>, <b style=\"color: #8aa5db;\">k1</b>, <b style=\"color: #df546d;\">k2</b>, <b style=\"color: #4c7be1;\">k3</b>], tags={}),</summary>backend=<b style=\"color: #7fdd73;\">numpy</b>, dtype=<b style=\"color: #443ce1;\">complex128</b>, data=...</details></samp>"
      ],
      "text/plain": [
       "Tensor(shape=(2, 2, 2, 2, 2, 2, 2, 2), inds=('b0', 'b1', 'b2', 'b3', 'k0', 'k1', 'k2', 'k3'), tags=oset([]))"
      ]
     },
     "execution_count": 66,
     "metadata": {},
     "output_type": "execute_result"
    }
   ],
   "source": [
    "op = qml.DoubleExcitation(0.1, wires=[0, 1, 2, 3])\n",
    "\n",
    "from_op_to_tensor(op)"
   ]
  },
  {
   "cell_type": "markdown",
   "metadata": {},
   "source": []
  }
 ],
 "metadata": {
  "kernelspec": {
   "display_name": "PennyLane",
   "language": "python",
   "name": "python3"
  },
  "language_info": {
   "codemirror_mode": {
    "name": "ipython",
    "version": 3
   },
   "file_extension": ".py",
   "mimetype": "text/x-python",
   "name": "python",
   "nbconvert_exporter": "python",
   "pygments_lexer": "ipython3",
   "version": "3.9.7"
  }
 },
 "nbformat": 4,
 "nbformat_minor": 2
}
