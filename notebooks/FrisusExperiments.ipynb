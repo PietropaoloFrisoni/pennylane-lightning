{
 "cells": [
  {
   "cell_type": "markdown",
   "metadata": {},
   "source": [
    "# Understanding the execution flow from `LightningQubit`"
   ]
  },
  {
   "cell_type": "code",
   "execution_count": 1,
   "metadata": {},
   "outputs": [
    {
     "name": "stderr",
     "output_type": "stream",
     "text": [
      "/home/pietropaolo.frisoni/anaconda3/envs/PennyLane/lib/python3.9/site-packages/cotengra/hyperoptimizers/hyper.py:34: UserWarning: Couldn't import `kahypar` - skipping from default hyper optimizer and using basic `labels` method instead.\n",
      "  warnings.warn(\n"
     ]
    }
   ],
   "source": [
    "from typing import Iterable, Union\n",
    "import quimb.tensor as qtn\n",
    "import pennylane as qml\n",
    "from pennylane.wires import Wires\n",
    "import numpy as np"
   ]
  },
  {
   "cell_type": "markdown",
   "metadata": {},
   "source": [
    "## Approach 1: choosing a tape"
   ]
  },
  {
   "cell_type": "code",
   "execution_count": 2,
   "metadata": {},
   "outputs": [],
   "source": [
    "theta = 0.1\n",
    "phi = 0.2\n",
    "\n",
    "O1 = qml.Identity(wires=[0])\n",
    "O2 = qml.PauliZ(wires=[1])\n",
    "\n",
    "ops = [\n",
    "    qml.DoubleExcitation(phi, wires=[12, 11, 10, 9]),\n",
    "    qml.PauliX(wires=[0]),\n",
    "    qml.RX(theta, wires=[0]),\n",
    "    qml.qml.CSWAP(wires=[7, 0, 5]),\n",
    "    qml.RX(phi, wires=[1]),\n",
    "    qml.CNOT(wires=[3, 4]),\n",
    "    qml.DoubleExcitation(phi, wires=[1, 2, 3, 4]),\n",
    "    qml.qml.CSWAP(wires=[0, 1, 2]),\n",
    "    qml.Hadamard(wires=[4]),\n",
    "    qml.qml.CSWAP(wires=[2, 3, 4]),\n",
    "    qml.CNOT(wires=[2, 4]),\n",
    "    qml.DoubleExcitation(phi, wires=[0, 1, 3, 4]),\n",
    "]\n",
    "\n",
    "meas = [\n",
    "    qml.expval(O2),\n",
    "    qml.expval(O2),\n",
    "    qml.var(qml.PauliY(wires=[2])),\n",
    "    qml.expval(O1),\n",
    "    qml.var(qml.PauliY(wires=[4])),\n",
    "]\n",
    "\n",
    "\n",
    "tape = qml.tape.QuantumScript(ops=ops, measurements=meas)"
   ]
  },
  {
   "cell_type": "code",
   "execution_count": 3,
   "metadata": {},
   "outputs": [
    {
     "data": {
      "text/plain": [
       "<Wires = [12, 11, 10, 9, 0, 7, 5, 1, 3, 4, 2]>"
      ]
     },
     "execution_count": 3,
     "metadata": {},
     "output_type": "execute_result"
    }
   ],
   "source": [
    "tape.wires"
   ]
  },
  {
   "cell_type": "code",
   "execution_count": 4,
   "metadata": {},
   "outputs": [
    {
     "data": {
      "text/plain": [
       "[DoubleExcitation(0.2, wires=[12, 11, 10, 9]),\n",
       " X(0),\n",
       " RX(0.1, wires=[0]),\n",
       " CSWAP(wires=[7, 0, 5]),\n",
       " RX(0.2, wires=[1]),\n",
       " CNOT(wires=[3, 4]),\n",
       " DoubleExcitation(0.2, wires=[1, 2, 3, 4]),\n",
       " CSWAP(wires=[0, 1, 2]),\n",
       " Hadamard(wires=[4]),\n",
       " CSWAP(wires=[2, 3, 4]),\n",
       " CNOT(wires=[2, 4]),\n",
       " DoubleExcitation(0.2, wires=[0, 1, 3, 4])]"
      ]
     },
     "execution_count": 4,
     "metadata": {},
     "output_type": "execute_result"
    }
   ],
   "source": [
    "tape.operations"
   ]
  },
  {
   "cell_type": "code",
   "execution_count": 5,
   "metadata": {},
   "outputs": [
    {
     "data": {
      "text/plain": [
       "[Z(1), Z(1), Y(2), I(0), Y(4)]"
      ]
     },
     "execution_count": 5,
     "metadata": {},
     "output_type": "execute_result"
    }
   ],
   "source": [
    "tape.observables"
   ]
  },
  {
   "cell_type": "code",
   "execution_count": 6,
   "metadata": {},
   "outputs": [
    {
     "data": {
      "text/plain": [
       "[expval(Z(1)), expval(Z(1)), var(Y(2)), expval(I(0)), var(Y(4))]"
      ]
     },
     "execution_count": 6,
     "metadata": {},
     "output_type": "execute_result"
    }
   ],
   "source": [
    "tape.measurements"
   ]
  },
  {
   "cell_type": "code",
   "execution_count": 7,
   "metadata": {},
   "outputs": [
    {
     "data": {
      "text/plain": [
       "<Wires = [12, 11, 10, 9, 0, 7, 5, 1, 3, 4, 2]>"
      ]
     },
     "execution_count": 7,
     "metadata": {},
     "output_type": "execute_result"
    }
   ],
   "source": [
    "tape.wires"
   ]
  },
  {
   "cell_type": "code",
   "execution_count": 8,
   "metadata": {},
   "outputs": [
    {
     "name": "stdout",
     "output_type": "stream",
     "text": [
      "Frisus log: execute called with:\n",
      "execution_config=ExecutionConfig(grad_on_execution=None, use_device_gradient=None, use_device_jacobian_product=None, gradient_method=None, gradient_keyword_arguments={}, device_options={}, interface=None, derivative_order=1)\n",
      "circuits=(<QuantumScript: wires=[12, 11, 10, 9, 0, 7, 5, 1, 3, 4, 2], params=5>,)\n",
      "\n"
     ]
    },
    {
     "data": {
      "text/plain": [
       "(0.9999502079587257, 0.9999502079587257, 0.9901818584603551, 1.0, 1.0)"
      ]
     },
     "execution_count": 8,
     "metadata": {},
     "output_type": "execute_result"
    }
   ],
   "source": [
    "dev = qml.device(\"lightning.qubit\", wires=tape.wires)\n",
    "\n",
    "dev.execute(circuits=tape)"
   ]
  },
  {
   "cell_type": "code",
   "execution_count": null,
   "metadata": {},
   "outputs": [],
   "source": []
  },
  {
   "cell_type": "code",
   "execution_count": null,
   "metadata": {},
   "outputs": [],
   "source": []
  },
  {
   "cell_type": "markdown",
   "metadata": {},
   "source": [
    "## Learning from `LightningQubit` using Python API"
   ]
  },
  {
   "cell_type": "code",
   "execution_count": 9,
   "metadata": {},
   "outputs": [],
   "source": [
    "from pennylane_lightning.lightning_qubit import LightningQubit"
   ]
  },
  {
   "cell_type": "code",
   "execution_count": 10,
   "metadata": {},
   "outputs": [],
   "source": [
    "obj = LightningQubit(wires=tape.wires)"
   ]
  },
  {
   "cell_type": "code",
   "execution_count": 11,
   "metadata": {},
   "outputs": [
    {
     "data": {
      "text/plain": [
       "<pennylane.tracker.Tracker at 0x7c0b30db6460>"
      ]
     },
     "execution_count": 11,
     "metadata": {},
     "output_type": "execute_result"
    }
   ],
   "source": [
    "obj.tracker"
   ]
  },
  {
   "cell_type": "code",
   "execution_count": 12,
   "metadata": {},
   "outputs": [
    {
     "name": "stdout",
     "output_type": "stream",
     "text": [
      "Frisus log: execute called with:\n",
      "execution_config=ExecutionConfig(grad_on_execution=None, use_device_gradient=None, use_device_jacobian_product=None, gradient_method=None, gradient_keyword_arguments={}, device_options={}, interface=None, derivative_order=1)\n",
      "circuits=(<QuantumScript: wires=[12, 11, 10, 9, 0, 7, 5, 1, 3, 4, 2], params=5>,)\n",
      "\n"
     ]
    },
    {
     "data": {
      "text/plain": [
       "(0.9999502079587257, 0.9999502079587257, 0.9901818584603551, 1.0, 1.0)"
      ]
     },
     "execution_count": 12,
     "metadata": {},
     "output_type": "execute_result"
    }
   ],
   "source": [
    "obj.execute(tape)"
   ]
  },
  {
   "cell_type": "code",
   "execution_count": null,
   "metadata": {},
   "outputs": [],
   "source": []
  },
  {
   "cell_type": "code",
   "execution_count": null,
   "metadata": {},
   "outputs": [],
   "source": []
  },
  {
   "cell_type": "markdown",
   "metadata": {},
   "source": [
    "## Testing `LightningTensor` "
   ]
  },
  {
   "cell_type": "code",
   "execution_count": 13,
   "metadata": {},
   "outputs": [],
   "source": [
    "wires = tape.wires\n",
    "backend = \"quimb\"\n",
    "method = \"mps\"\n",
    "c_dtype = np.complex128\n",
    "max_bond_dim = None\n",
    "cutoff = 0.0"
   ]
  },
  {
   "cell_type": "code",
   "execution_count": 14,
   "metadata": {},
   "outputs": [],
   "source": [
    "from pennylane_lightning.lightning_tensor import LightningTensor"
   ]
  },
  {
   "cell_type": "code",
   "execution_count": null,
   "metadata": {},
   "outputs": [],
   "source": []
  },
  {
   "cell_type": "code",
   "execution_count": 15,
   "metadata": {},
   "outputs": [],
   "source": [
    "obj = LightningTensor(\n",
    "    wires=wires,\n",
    "    backend=backend,\n",
    "    method=method,\n",
    "    c_dtype=c_dtype,\n",
    "    max_bond_dim=max_bond_dim,\n",
    "    cutoff=cutoff,\n",
    ")"
   ]
  },
  {
   "cell_type": "code",
   "execution_count": 16,
   "metadata": {},
   "outputs": [
    {
     "data": {
      "text/html": [
       "<samp style='font-size: 12px;'><details><summary><b style=\"color: #d75692;\">MatrixProductState</b>(tensors=11, indices=21, L=11, max_bond=2)</summary><samp style='font-size: 12px;'><details><summary><b style=\"color: #e55471;\">Tensor</b>(shape=(<b style=\"color: #45ce3d;\">1</b>, <b style=\"color: #828fdd;\">2</b>), inds=[<b style=\"color: #9dd386;\">_f485ffAAAAA</b>, <b style=\"color: #b1dc61;\">k0</b>], tags={<b style=\"color: #74d649;\">0</b>, <b style=\"color: #45ce3d;\">1</b>, <b style=\"color: #828fdd;\">2</b>, <b style=\"color: #8a5bcf;\">3</b>, <b style=\"color: #80d749;\">4</b>, <b style=\"color: #7355d7;\">5</b>, <b style=\"color: #a4de79;\">6</b>, <b style=\"color: #7930d2;\">7</b>, <b style=\"color: #39acd6;\">8</b>, <b style=\"color: #c14bdb;\">9</b>, <b style=\"color: #31d651;\">10</b>, <b style=\"color: #d2b137;\">I0</b>, <b style=\"color: #d3b991;\">PSI0</b>}),</summary>backend=<b style=\"color: #7fdd73;\">numpy</b>, dtype=<b style=\"color: #443ce1;\">complex128</b>, data=array([[1.+0.j, 0.+0.j]])</details></samp><samp style='font-size: 12px;'><details><summary><b style=\"color: #e55471;\">Tensor</b>(shape=(<b style=\"color: #45ce3d;\">1</b>, <b style=\"color: #45ce3d;\">1</b>, <b style=\"color: #828fdd;\">2</b>), inds=[<b style=\"color: #9dd386;\">_f485ffAAAAA</b>, <b style=\"color: #ceda7b;\">_f485ffAAAAB</b>, <b style=\"color: #8aa5db;\">k1</b>], tags={<b style=\"color: #74d649;\">0</b>, <b style=\"color: #45ce3d;\">1</b>, <b style=\"color: #828fdd;\">2</b>, <b style=\"color: #8a5bcf;\">3</b>, <b style=\"color: #80d749;\">4</b>, <b style=\"color: #7355d7;\">5</b>, <b style=\"color: #a4de79;\">6</b>, <b style=\"color: #7930d2;\">7</b>, <b style=\"color: #39acd6;\">8</b>, <b style=\"color: #c14bdb;\">9</b>, <b style=\"color: #31d651;\">10</b>, <b style=\"color: #d19b78;\">I1</b>, <b style=\"color: #d3b991;\">PSI0</b>}),</summary>backend=<b style=\"color: #7fdd73;\">numpy</b>, dtype=<b style=\"color: #443ce1;\">complex128</b>, data=array([[[1.+0.j, 0.+0.j]]])</details></samp><samp style='font-size: 12px;'><details><summary><b style=\"color: #e55471;\">Tensor</b>(shape=(<b style=\"color: #45ce3d;\">1</b>, <b style=\"color: #45ce3d;\">1</b>, <b style=\"color: #828fdd;\">2</b>), inds=[<b style=\"color: #ceda7b;\">_f485ffAAAAB</b>, <b style=\"color: #98e3ac;\">_f485ffAAAAC</b>, <b style=\"color: #df546d;\">k2</b>], tags={<b style=\"color: #74d649;\">0</b>, <b style=\"color: #45ce3d;\">1</b>, <b style=\"color: #828fdd;\">2</b>, <b style=\"color: #8a5bcf;\">3</b>, <b style=\"color: #80d749;\">4</b>, <b style=\"color: #7355d7;\">5</b>, <b style=\"color: #a4de79;\">6</b>, <b style=\"color: #7930d2;\">7</b>, <b style=\"color: #39acd6;\">8</b>, <b style=\"color: #c14bdb;\">9</b>, <b style=\"color: #31d651;\">10</b>, <b style=\"color: #dd5dd7;\">I2</b>, <b style=\"color: #d3b991;\">PSI0</b>}),</summary>backend=<b style=\"color: #7fdd73;\">numpy</b>, dtype=<b style=\"color: #443ce1;\">complex128</b>, data=array([[[1.+0.j, 0.+0.j]]])</details></samp><samp style='font-size: 12px;'><details><summary><b style=\"color: #e55471;\">Tensor</b>(shape=(<b style=\"color: #45ce3d;\">1</b>, <b style=\"color: #45ce3d;\">1</b>, <b style=\"color: #828fdd;\">2</b>), inds=[<b style=\"color: #98e3ac;\">_f485ffAAAAC</b>, <b style=\"color: #45cf60;\">_f485ffAAAAD</b>, <b style=\"color: #4c7be1;\">k3</b>], tags={<b style=\"color: #74d649;\">0</b>, <b style=\"color: #45ce3d;\">1</b>, <b style=\"color: #828fdd;\">2</b>, <b style=\"color: #8a5bcf;\">3</b>, <b style=\"color: #80d749;\">4</b>, <b style=\"color: #7355d7;\">5</b>, <b style=\"color: #a4de79;\">6</b>, <b style=\"color: #7930d2;\">7</b>, <b style=\"color: #39acd6;\">8</b>, <b style=\"color: #c14bdb;\">9</b>, <b style=\"color: #31d651;\">10</b>, <b style=\"color: #dd65d9;\">I3</b>, <b style=\"color: #d3b991;\">PSI0</b>}),</summary>backend=<b style=\"color: #7fdd73;\">numpy</b>, dtype=<b style=\"color: #443ce1;\">complex128</b>, data=array([[[1.+0.j, 0.+0.j]]])</details></samp><samp style='font-size: 12px;'><details><summary><b style=\"color: #e55471;\">Tensor</b>(shape=(<b style=\"color: #45ce3d;\">1</b>, <b style=\"color: #45ce3d;\">1</b>, <b style=\"color: #828fdd;\">2</b>), inds=[<b style=\"color: #45cf60;\">_f485ffAAAAD</b>, <b style=\"color: #438cdf;\">_f485ffAAAAE</b>, <b style=\"color: #462edc;\">k4</b>], tags={<b style=\"color: #74d649;\">0</b>, <b style=\"color: #45ce3d;\">1</b>, <b style=\"color: #828fdd;\">2</b>, <b style=\"color: #8a5bcf;\">3</b>, <b style=\"color: #80d749;\">4</b>, <b style=\"color: #7355d7;\">5</b>, <b style=\"color: #a4de79;\">6</b>, <b style=\"color: #7930d2;\">7</b>, <b style=\"color: #39acd6;\">8</b>, <b style=\"color: #c14bdb;\">9</b>, <b style=\"color: #31d651;\">10</b>, <b style=\"color: #998ad1;\">I4</b>, <b style=\"color: #d3b991;\">PSI0</b>}),</summary>backend=<b style=\"color: #7fdd73;\">numpy</b>, dtype=<b style=\"color: #443ce1;\">complex128</b>, data=array([[[1.+0.j, 0.+0.j]]])</details></samp><samp style='font-size: 12px;'><details><summary><b style=\"color: #e55471;\">Tensor</b>(shape=(<b style=\"color: #45ce3d;\">1</b>, <b style=\"color: #45ce3d;\">1</b>, <b style=\"color: #828fdd;\">2</b>), inds=[<b style=\"color: #438cdf;\">_f485ffAAAAE</b>, <b style=\"color: #d44c2f;\">_f485ffAAAAF</b>, <b style=\"color: #85dfdf;\">k5</b>], tags={<b style=\"color: #74d649;\">0</b>, <b style=\"color: #45ce3d;\">1</b>, <b style=\"color: #828fdd;\">2</b>, <b style=\"color: #8a5bcf;\">3</b>, <b style=\"color: #80d749;\">4</b>, <b style=\"color: #7355d7;\">5</b>, <b style=\"color: #a4de79;\">6</b>, <b style=\"color: #7930d2;\">7</b>, <b style=\"color: #39acd6;\">8</b>, <b style=\"color: #c14bdb;\">9</b>, <b style=\"color: #31d651;\">10</b>, <b style=\"color: #97dddc;\">I5</b>, <b style=\"color: #d3b991;\">PSI0</b>}),</summary>backend=<b style=\"color: #7fdd73;\">numpy</b>, dtype=<b style=\"color: #443ce1;\">complex128</b>, data=array([[[1.+0.j, 0.+0.j]]])</details></samp><samp style='font-size: 12px;'><details><summary><b style=\"color: #e55471;\">Tensor</b>(shape=(<b style=\"color: #45ce3d;\">1</b>, <b style=\"color: #45ce3d;\">1</b>, <b style=\"color: #828fdd;\">2</b>), inds=[<b style=\"color: #d44c2f;\">_f485ffAAAAF</b>, <b style=\"color: #dca38b;\">_f485ffAAAAG</b>, <b style=\"color: #2cb7d3;\">k6</b>], tags={<b style=\"color: #74d649;\">0</b>, <b style=\"color: #45ce3d;\">1</b>, <b style=\"color: #828fdd;\">2</b>, <b style=\"color: #8a5bcf;\">3</b>, <b style=\"color: #80d749;\">4</b>, <b style=\"color: #7355d7;\">5</b>, <b style=\"color: #a4de79;\">6</b>, <b style=\"color: #7930d2;\">7</b>, <b style=\"color: #39acd6;\">8</b>, <b style=\"color: #c14bdb;\">9</b>, <b style=\"color: #31d651;\">10</b>, <b style=\"color: #b2de5f;\">I6</b>, <b style=\"color: #d3b991;\">PSI0</b>}),</summary>backend=<b style=\"color: #7fdd73;\">numpy</b>, dtype=<b style=\"color: #443ce1;\">complex128</b>, data=array([[[1.+0.j, 0.+0.j]]])</details></samp><samp style='font-size: 12px;'><details><summary><b style=\"color: #e55471;\">Tensor</b>(shape=(<b style=\"color: #45ce3d;\">1</b>, <b style=\"color: #45ce3d;\">1</b>, <b style=\"color: #828fdd;\">2</b>), inds=[<b style=\"color: #dca38b;\">_f485ffAAAAG</b>, <b style=\"color: #b0dc33;\">_f485ffAAAAH</b>, <b style=\"color: #53e08f;\">k7</b>], tags={<b style=\"color: #74d649;\">0</b>, <b style=\"color: #45ce3d;\">1</b>, <b style=\"color: #828fdd;\">2</b>, <b style=\"color: #8a5bcf;\">3</b>, <b style=\"color: #80d749;\">4</b>, <b style=\"color: #7355d7;\">5</b>, <b style=\"color: #a4de79;\">6</b>, <b style=\"color: #7930d2;\">7</b>, <b style=\"color: #39acd6;\">8</b>, <b style=\"color: #c14bdb;\">9</b>, <b style=\"color: #31d651;\">10</b>, <b style=\"color: #5582d6;\">I7</b>, <b style=\"color: #d3b991;\">PSI0</b>}),</summary>backend=<b style=\"color: #7fdd73;\">numpy</b>, dtype=<b style=\"color: #443ce1;\">complex128</b>, data=array([[[1.+0.j, 0.+0.j]]])</details></samp><samp style='font-size: 12px;'><details><summary><b style=\"color: #e55471;\">Tensor</b>(shape=(<b style=\"color: #45ce3d;\">1</b>, <b style=\"color: #45ce3d;\">1</b>, <b style=\"color: #828fdd;\">2</b>), inds=[<b style=\"color: #b0dc33;\">_f485ffAAAAH</b>, <b style=\"color: #5ab4d8;\">_f485ffAAAAI</b>, <b style=\"color: #7bcd9f;\">k8</b>], tags={<b style=\"color: #74d649;\">0</b>, <b style=\"color: #45ce3d;\">1</b>, <b style=\"color: #828fdd;\">2</b>, <b style=\"color: #8a5bcf;\">3</b>, <b style=\"color: #80d749;\">4</b>, <b style=\"color: #7355d7;\">5</b>, <b style=\"color: #a4de79;\">6</b>, <b style=\"color: #7930d2;\">7</b>, <b style=\"color: #39acd6;\">8</b>, <b style=\"color: #c14bdb;\">9</b>, <b style=\"color: #31d651;\">10</b>, <b style=\"color: #8a3dd8;\">I8</b>, <b style=\"color: #d3b991;\">PSI0</b>}),</summary>backend=<b style=\"color: #7fdd73;\">numpy</b>, dtype=<b style=\"color: #443ce1;\">complex128</b>, data=array([[[1.+0.j, 0.+0.j]]])</details></samp><samp style='font-size: 12px;'><details><summary><b style=\"color: #e55471;\">Tensor</b>(shape=(<b style=\"color: #45ce3d;\">1</b>, <b style=\"color: #45ce3d;\">1</b>, <b style=\"color: #828fdd;\">2</b>), inds=[<b style=\"color: #5ab4d8;\">_f485ffAAAAI</b>, <b style=\"color: #6aadd0;\">_f485ffAAAAJ</b>, <b style=\"color: #cc70c1;\">k9</b>], tags={<b style=\"color: #74d649;\">0</b>, <b style=\"color: #45ce3d;\">1</b>, <b style=\"color: #828fdd;\">2</b>, <b style=\"color: #8a5bcf;\">3</b>, <b style=\"color: #80d749;\">4</b>, <b style=\"color: #7355d7;\">5</b>, <b style=\"color: #a4de79;\">6</b>, <b style=\"color: #7930d2;\">7</b>, <b style=\"color: #39acd6;\">8</b>, <b style=\"color: #c14bdb;\">9</b>, <b style=\"color: #31d651;\">10</b>, <b style=\"color: #d74979;\">I9</b>, <b style=\"color: #d3b991;\">PSI0</b>}),</summary>backend=<b style=\"color: #7fdd73;\">numpy</b>, dtype=<b style=\"color: #443ce1;\">complex128</b>, data=array([[[1.+0.j, 0.+0.j]]])</details></samp><samp style='font-size: 12px;'><details><summary><b style=\"color: #e55471;\">Tensor</b>(shape=(<b style=\"color: #45ce3d;\">1</b>, <b style=\"color: #828fdd;\">2</b>), inds=[<b style=\"color: #6aadd0;\">_f485ffAAAAJ</b>, <b style=\"color: #3fcf58;\">k10</b>], tags={<b style=\"color: #74d649;\">0</b>, <b style=\"color: #45ce3d;\">1</b>, <b style=\"color: #828fdd;\">2</b>, <b style=\"color: #8a5bcf;\">3</b>, <b style=\"color: #80d749;\">4</b>, <b style=\"color: #7355d7;\">5</b>, <b style=\"color: #a4de79;\">6</b>, <b style=\"color: #7930d2;\">7</b>, <b style=\"color: #39acd6;\">8</b>, <b style=\"color: #c14bdb;\">9</b>, <b style=\"color: #31d651;\">10</b>, <b style=\"color: #4e2bd3;\">I10</b>, <b style=\"color: #d3b991;\">PSI0</b>}),</summary>backend=<b style=\"color: #7fdd73;\">numpy</b>, dtype=<b style=\"color: #443ce1;\">complex128</b>, data=array([[1.+0.j, 0.+0.j]])</details></samp></details></samp>"
      ],
      "text/plain": [
       "MatrixProductState(tensors=11, indices=21, L=11, max_bond=2)"
      ]
     },
     "execution_count": 16,
     "metadata": {},
     "output_type": "execute_result"
    }
   ],
   "source": [
    "obj._interface.state"
   ]
  },
  {
   "cell_type": "code",
   "execution_count": 17,
   "metadata": {},
   "outputs": [],
   "source": [
    "# obj._interface._circuitMPS.get_psi_reverse_lightcone(3)"
   ]
  },
  {
   "cell_type": "code",
   "execution_count": 18,
   "metadata": {},
   "outputs": [],
   "source": [
    "# type(obj._setup_execution_config())"
   ]
  },
  {
   "cell_type": "code",
   "execution_count": 19,
   "metadata": {},
   "outputs": [],
   "source": [
    "# program, config = obj.preprocess()"
   ]
  },
  {
   "cell_type": "code",
   "execution_count": 20,
   "metadata": {},
   "outputs": [],
   "source": [
    "# config.device_options"
   ]
  },
  {
   "cell_type": "code",
   "execution_count": 21,
   "metadata": {},
   "outputs": [
    {
     "data": {
      "text/plain": [
       "(0.9999502079587141,\n",
       " 0.9999502079587141,\n",
       " 0.9901818584603439,\n",
       " 0.9999999999999885,\n",
       " 0.9999999999999887)"
      ]
     },
     "execution_count": 21,
     "metadata": {},
     "output_type": "execute_result"
    }
   ],
   "source": [
    "obj.execute(circuits=tape)"
   ]
  },
  {
   "cell_type": "code",
   "execution_count": 22,
   "metadata": {},
   "outputs": [
    {
     "data": {
      "text/plain": [
       "[<Gate(label=RAW136387505968976, params=raw, qubits=(2, 3))>,\n",
       " <Gate(label=RAW136387505968976, params=raw, qubits=(0, 2))>,\n",
       " <Gate(label=RAW136388219964080, params=raw, qubits=(3,))>,\n",
       " <Gate(label=RAW136388219964080, params=raw, qubits=(0,))>,\n",
       " <Gate(label=RAW136387505968976, params=raw, qubits=(2, 3))>,\n",
       " <Gate(label=RAW136387505968976, params=raw, qubits=(0, 1))>,\n",
       " <Gate(label=RAW136387505618640, params=raw, qubits=(1,))>,\n",
       " <Gate(label=RAW136387505684816, params=raw, qubits=(0,))>,\n",
       " <Gate(label=RAW136387505968976, params=raw, qubits=(0, 3))>,\n",
       " <Gate(label=RAW136388219964080, params=raw, qubits=(3,))>,\n",
       " <Gate(label=RAW136387505968976, params=raw, qubits=(3, 1))>,\n",
       " <Gate(label=RAW136387506001264, params=raw, qubits=(1,))>,\n",
       " <Gate(label=RAW136387505685200, params=raw, qubits=(0,))>,\n",
       " <Gate(label=RAW136387505968976, params=raw, qubits=(2, 1))>,\n",
       " <Gate(label=RAW136387505968976, params=raw, qubits=(2, 0))>,\n",
       " <Gate(label=RAW136387505200944, params=raw, qubits=(1,))>,\n",
       " <Gate(label=RAW136387505969552, params=raw, qubits=(0,))>,\n",
       " <Gate(label=RAW136387505968976, params=raw, qubits=(3, 1))>,\n",
       " <Gate(label=RAW136388219964080, params=raw, qubits=(3,))>,\n",
       " <Gate(label=RAW136387505968976, params=raw, qubits=(0, 3))>,\n",
       " <Gate(label=RAW136387505594256, params=raw, qubits=(1,))>,\n",
       " <Gate(label=RAW136387505201040, params=raw, qubits=(0,))>,\n",
       " <Gate(label=RAW136387505968976, params=raw, qubits=(0, 1))>,\n",
       " <Gate(label=RAW136387505968976, params=raw, qubits=(2, 0))>,\n",
       " <Gate(label=RAW136388219964080, params=raw, qubits=(0,))>,\n",
       " <Gate(label=RAW136388219964080, params=raw, qubits=(3,))>,\n",
       " <Gate(label=RAW136387505968976, params=raw, qubits=(0, 2))>,\n",
       " <Gate(label=RAW136387505968976, params=raw, qubits=(2, 3))>,\n",
       " <Gate(label=RAW136387505969744, params=raw, qubits=(4,))>,\n",
       " <Gate(label=RAW136387505618160, params=raw, qubits=(4,))>,\n",
       " <Gate(label=RAW136388219964080, params=raw, qubits=(4,))>,\n",
       " <Gate(label=RAW136387505968976, params=raw, qubits=(6, 4))>,\n",
       " <Gate(label=RAW136387505703600, params=raw, qubits=(4,))>,\n",
       " <Gate(label=RAW136387505968976, params=raw, qubits=(5, 4))>,\n",
       " <Gate(label=RAW136387505200752, params=raw, qubits=(4,))>,\n",
       " <Gate(label=RAW136387505968976, params=raw, qubits=(6, 4))>,\n",
       " <Gate(label=RAW136387505617104, params=raw, qubits=(4,))>,\n",
       " <Gate(label=RAW136387505968976, params=raw, qubits=(5, 4))>,\n",
       " <Gate(label=RAW136387505200752, params=raw, qubits=(4,))>,\n",
       " <Gate(label=RAW136387505200752, params=raw, qubits=(6,))>,\n",
       " <Gate(label=RAW136387505968976, params=raw, qubits=(5, 6))>,\n",
       " <Gate(label=RAW136388219964080, params=raw, qubits=(4,))>,\n",
       " <Gate(label=RAW136387505200752, params=raw, qubits=(5,))>,\n",
       " <Gate(label=RAW136387505617296, params=raw, qubits=(6,))>,\n",
       " <Gate(label=RAW136387505968976, params=raw, qubits=(5, 6))>,\n",
       " <Gate(label=RAW136388219964080, params=raw, qubits=(6,))>,\n",
       " <Gate(label=RAW136387505968976, params=raw, qubits=(4, 6))>,\n",
       " <Gate(label=RAW136387505700912, params=raw, qubits=(6,))>,\n",
       " <Gate(label=RAW136387505968976, params=raw, qubits=(5, 6))>,\n",
       " <Gate(label=RAW136387505200752, params=raw, qubits=(6,))>,\n",
       " <Gate(label=RAW136387505968976, params=raw, qubits=(4, 6))>,\n",
       " <Gate(label=RAW136387505593872, params=raw, qubits=(6,))>,\n",
       " <Gate(label=RAW136387505968976, params=raw, qubits=(5, 6))>,\n",
       " <Gate(label=RAW136387505200752, params=raw, qubits=(6,))>,\n",
       " <Gate(label=RAW136387505200752, params=raw, qubits=(4,))>,\n",
       " <Gate(label=RAW136387505968976, params=raw, qubits=(5, 4))>,\n",
       " <Gate(label=RAW136388219964080, params=raw, qubits=(6,))>,\n",
       " <Gate(label=RAW136387505200752, params=raw, qubits=(5,))>,\n",
       " <Gate(label=RAW136387505200368, params=raw, qubits=(4,))>,\n",
       " <Gate(label=RAW136387505968976, params=raw, qubits=(5, 4))>,\n",
       " <Gate(label=RAW136388219964080, params=raw, qubits=(4,))>,\n",
       " <Gate(label=RAW136387505968976, params=raw, qubits=(6, 4))>,\n",
       " <Gate(label=RAW136387505618832, params=raw, qubits=(4,))>,\n",
       " <Gate(label=RAW136387505968976, params=raw, qubits=(5, 4))>,\n",
       " <Gate(label=RAW136387505200752, params=raw, qubits=(4,))>,\n",
       " <Gate(label=RAW136387505968976, params=raw, qubits=(6, 4))>,\n",
       " <Gate(label=RAW136387505701776, params=raw, qubits=(4,))>,\n",
       " <Gate(label=RAW136387505968976, params=raw, qubits=(5, 4))>,\n",
       " <Gate(label=RAW136387505200752, params=raw, qubits=(4,))>,\n",
       " <Gate(label=RAW136387505200752, params=raw, qubits=(6,))>,\n",
       " <Gate(label=RAW136387505968976, params=raw, qubits=(5, 6))>,\n",
       " <Gate(label=RAW136388219964080, params=raw, qubits=(4,))>,\n",
       " <Gate(label=RAW136387505200752, params=raw, qubits=(5,))>,\n",
       " <Gate(label=RAW136387505703408, params=raw, qubits=(6,))>,\n",
       " <Gate(label=RAW136387505968976, params=raw, qubits=(5, 6))>,\n",
       " <Gate(label=RAW136387505445168, params=raw, qubits=(7,))>,\n",
       " <Gate(label=RAW136387505968976, params=raw, qubits=(8, 9))>,\n",
       " <Gate(label=RAW136387505968976, params=raw, qubits=(8, 9))>,\n",
       " <Gate(label=RAW136387505968976, params=raw, qubits=(7, 8))>,\n",
       " <Gate(label=RAW136388219964080, params=raw, qubits=(9,))>,\n",
       " <Gate(label=RAW136388219964080, params=raw, qubits=(7,))>,\n",
       " <Gate(label=RAW136387505968976, params=raw, qubits=(8, 9))>,\n",
       " <Gate(label=RAW136387505968976, params=raw, qubits=(7, 10))>,\n",
       " <Gate(label=RAW136387505703024, params=raw, qubits=(10,))>,\n",
       " <Gate(label=RAW136387505445840, params=raw, qubits=(7,))>,\n",
       " <Gate(label=RAW136387505968976, params=raw, qubits=(7, 9))>,\n",
       " <Gate(label=RAW136388219964080, params=raw, qubits=(9,))>,\n",
       " <Gate(label=RAW136387505968976, params=raw, qubits=(9, 10))>,\n",
       " <Gate(label=RAW136387505443248, params=raw, qubits=(10,))>,\n",
       " <Gate(label=RAW136387504995376, params=raw, qubits=(7,))>,\n",
       " <Gate(label=RAW136387505968976, params=raw, qubits=(8, 10))>,\n",
       " <Gate(label=RAW136387505968976, params=raw, qubits=(8, 7))>,\n",
       " <Gate(label=RAW136387505445744, params=raw, qubits=(10,))>,\n",
       " <Gate(label=RAW136387505446704, params=raw, qubits=(7,))>,\n",
       " <Gate(label=RAW136387505968976, params=raw, qubits=(9, 10))>,\n",
       " <Gate(label=RAW136388219964080, params=raw, qubits=(9,))>,\n",
       " <Gate(label=RAW136387505968976, params=raw, qubits=(7, 9))>,\n",
       " <Gate(label=RAW136387504994800, params=raw, qubits=(10,))>,\n",
       " <Gate(label=RAW136387505703696, params=raw, qubits=(7,))>,\n",
       " <Gate(label=RAW136387505968976, params=raw, qubits=(7, 10))>,\n",
       " <Gate(label=RAW136387505968976, params=raw, qubits=(8, 7))>,\n",
       " <Gate(label=RAW136388219964080, params=raw, qubits=(7,))>,\n",
       " <Gate(label=RAW136388219964080, params=raw, qubits=(9,))>,\n",
       " <Gate(label=RAW136387505968976, params=raw, qubits=(7, 8))>,\n",
       " <Gate(label=RAW136387505968976, params=raw, qubits=(8, 9))>,\n",
       " <Gate(label=RAW136388219964080, params=raw, qubits=(7,))>,\n",
       " <Gate(label=RAW136387505968976, params=raw, qubits=(10, 7))>,\n",
       " <Gate(label=RAW136387505200848, params=raw, qubits=(7,))>,\n",
       " <Gate(label=RAW136387505968976, params=raw, qubits=(4, 7))>,\n",
       " <Gate(label=RAW136387505200752, params=raw, qubits=(7,))>,\n",
       " <Gate(label=RAW136387505968976, params=raw, qubits=(10, 7))>,\n",
       " <Gate(label=RAW136387505445072, params=raw, qubits=(7,))>,\n",
       " <Gate(label=RAW136387505968976, params=raw, qubits=(4, 7))>,\n",
       " <Gate(label=RAW136387505200752, params=raw, qubits=(7,))>,\n",
       " <Gate(label=RAW136387505200752, params=raw, qubits=(10,))>,\n",
       " <Gate(label=RAW136387505968976, params=raw, qubits=(4, 10))>,\n",
       " <Gate(label=RAW136388219964080, params=raw, qubits=(7,))>,\n",
       " <Gate(label=RAW136387505200752, params=raw, qubits=(4,))>,\n",
       " <Gate(label=RAW136387505446128, params=raw, qubits=(10,))>,\n",
       " <Gate(label=RAW136387505968976, params=raw, qubits=(4, 10))>,\n",
       " <Gate(label=RAW136388219964080, params=raw, qubits=(10,))>,\n",
       " <Gate(label=RAW136387505968976, params=raw, qubits=(7, 10))>,\n",
       " <Gate(label=RAW136387505444688, params=raw, qubits=(10,))>,\n",
       " <Gate(label=RAW136387505968976, params=raw, qubits=(4, 10))>,\n",
       " <Gate(label=RAW136387505200752, params=raw, qubits=(10,))>,\n",
       " <Gate(label=RAW136387505968976, params=raw, qubits=(7, 10))>,\n",
       " <Gate(label=RAW136387505444016, params=raw, qubits=(10,))>,\n",
       " <Gate(label=RAW136387505968976, params=raw, qubits=(4, 10))>,\n",
       " <Gate(label=RAW136387505200752, params=raw, qubits=(10,))>,\n",
       " <Gate(label=RAW136387505200752, params=raw, qubits=(7,))>,\n",
       " <Gate(label=RAW136387505968976, params=raw, qubits=(4, 7))>,\n",
       " <Gate(label=RAW136388219964080, params=raw, qubits=(10,))>,\n",
       " <Gate(label=RAW136387505200752, params=raw, qubits=(4,))>,\n",
       " <Gate(label=RAW136387504993744, params=raw, qubits=(7,))>,\n",
       " <Gate(label=RAW136387505968976, params=raw, qubits=(4, 7))>,\n",
       " <Gate(label=RAW136388219964080, params=raw, qubits=(7,))>,\n",
       " <Gate(label=RAW136387505968976, params=raw, qubits=(10, 7))>,\n",
       " <Gate(label=RAW136387504993456, params=raw, qubits=(7,))>,\n",
       " <Gate(label=RAW136387505968976, params=raw, qubits=(4, 7))>,\n",
       " <Gate(label=RAW136387505200752, params=raw, qubits=(7,))>,\n",
       " <Gate(label=RAW136387505968976, params=raw, qubits=(10, 7))>,\n",
       " <Gate(label=RAW136387505445360, params=raw, qubits=(7,))>,\n",
       " <Gate(label=RAW136387505968976, params=raw, qubits=(4, 7))>,\n",
       " <Gate(label=RAW136387505200752, params=raw, qubits=(7,))>,\n",
       " <Gate(label=RAW136387505200752, params=raw, qubits=(10,))>,\n",
       " <Gate(label=RAW136387505968976, params=raw, qubits=(4, 10))>,\n",
       " <Gate(label=RAW136388219964080, params=raw, qubits=(7,))>,\n",
       " <Gate(label=RAW136387505200752, params=raw, qubits=(4,))>,\n",
       " <Gate(label=RAW136387505445552, params=raw, qubits=(10,))>,\n",
       " <Gate(label=RAW136387505968976, params=raw, qubits=(4, 10))>,\n",
       " <Gate(label=RAW136388219964080, params=raw, qubits=(9,))>,\n",
       " <Gate(label=RAW136388219964080, params=raw, qubits=(8,))>,\n",
       " <Gate(label=RAW136387505968976, params=raw, qubits=(9, 8))>,\n",
       " <Gate(label=RAW136387505100720, params=raw, qubits=(8,))>,\n",
       " <Gate(label=RAW136387505968976, params=raw, qubits=(10, 8))>,\n",
       " <Gate(label=RAW136387505200752, params=raw, qubits=(8,))>,\n",
       " <Gate(label=RAW136387505968976, params=raw, qubits=(9, 8))>,\n",
       " <Gate(label=RAW136387505101488, params=raw, qubits=(8,))>,\n",
       " <Gate(label=RAW136387505968976, params=raw, qubits=(10, 8))>,\n",
       " <Gate(label=RAW136387505200752, params=raw, qubits=(8,))>,\n",
       " <Gate(label=RAW136387505200752, params=raw, qubits=(9,))>,\n",
       " <Gate(label=RAW136387505968976, params=raw, qubits=(10, 9))>,\n",
       " <Gate(label=RAW136388219964080, params=raw, qubits=(8,))>,\n",
       " <Gate(label=RAW136387505200752, params=raw, qubits=(10,))>,\n",
       " <Gate(label=RAW136387504994896, params=raw, qubits=(9,))>,\n",
       " <Gate(label=RAW136387505968976, params=raw, qubits=(10, 9))>,\n",
       " <Gate(label=RAW136388219964080, params=raw, qubits=(9,))>,\n",
       " <Gate(label=RAW136387505968976, params=raw, qubits=(8, 9))>,\n",
       " <Gate(label=RAW136387504995952, params=raw, qubits=(9,))>,\n",
       " <Gate(label=RAW136387505968976, params=raw, qubits=(10, 9))>,\n",
       " <Gate(label=RAW136387505200752, params=raw, qubits=(9,))>,\n",
       " <Gate(label=RAW136387505968976, params=raw, qubits=(8, 9))>,\n",
       " <Gate(label=RAW136387504994608, params=raw, qubits=(9,))>,\n",
       " <Gate(label=RAW136387505968976, params=raw, qubits=(10, 9))>,\n",
       " <Gate(label=RAW136387505200752, params=raw, qubits=(9,))>,\n",
       " <Gate(label=RAW136387505200752, params=raw, qubits=(8,))>,\n",
       " <Gate(label=RAW136387505968976, params=raw, qubits=(10, 8))>,\n",
       " <Gate(label=RAW136388219964080, params=raw, qubits=(9,))>,\n",
       " <Gate(label=RAW136387505200752, params=raw, qubits=(10,))>,\n",
       " <Gate(label=RAW136387505446032, params=raw, qubits=(8,))>,\n",
       " <Gate(label=RAW136387505968976, params=raw, qubits=(10, 8))>,\n",
       " <Gate(label=RAW136388219964080, params=raw, qubits=(8,))>,\n",
       " <Gate(label=RAW136387505968976, params=raw, qubits=(9, 8))>,\n",
       " <Gate(label=RAW136387505100624, params=raw, qubits=(8,))>,\n",
       " <Gate(label=RAW136387505968976, params=raw, qubits=(10, 8))>,\n",
       " <Gate(label=RAW136387505200752, params=raw, qubits=(8,))>,\n",
       " <Gate(label=RAW136387505968976, params=raw, qubits=(9, 8))>,\n",
       " <Gate(label=RAW136387505101392, params=raw, qubits=(8,))>,\n",
       " <Gate(label=RAW136387505968976, params=raw, qubits=(10, 8))>,\n",
       " <Gate(label=RAW136387505200752, params=raw, qubits=(8,))>,\n",
       " <Gate(label=RAW136387505200752, params=raw, qubits=(9,))>,\n",
       " <Gate(label=RAW136387505968976, params=raw, qubits=(10, 9))>,\n",
       " <Gate(label=RAW136388219964080, params=raw, qubits=(8,))>,\n",
       " <Gate(label=RAW136387505200752, params=raw, qubits=(10,))>,\n",
       " <Gate(label=RAW136387505101680, params=raw, qubits=(9,))>,\n",
       " <Gate(label=RAW136387505968976, params=raw, qubits=(10, 9))>,\n",
       " <Gate(label=RAW136387505968976, params=raw, qubits=(10, 9))>,\n",
       " <Gate(label=RAW136387505968976, params=raw, qubits=(8, 9))>,\n",
       " <Gate(label=RAW136387505968976, params=raw, qubits=(4, 8))>,\n",
       " <Gate(label=RAW136388219964080, params=raw, qubits=(9,))>,\n",
       " <Gate(label=RAW136388219964080, params=raw, qubits=(4,))>,\n",
       " <Gate(label=RAW136387505968976, params=raw, qubits=(8, 9))>,\n",
       " <Gate(label=RAW136387505968976, params=raw, qubits=(4, 7))>,\n",
       " <Gate(label=RAW136387505099856, params=raw, qubits=(7,))>,\n",
       " <Gate(label=RAW136387505101008, params=raw, qubits=(4,))>,\n",
       " <Gate(label=RAW136387505968976, params=raw, qubits=(4, 9))>,\n",
       " <Gate(label=RAW136388219964080, params=raw, qubits=(9,))>,\n",
       " <Gate(label=RAW136387505968976, params=raw, qubits=(9, 7))>,\n",
       " <Gate(label=RAW136387468492848, params=raw, qubits=(7,))>,\n",
       " <Gate(label=RAW136387505100432, params=raw, qubits=(4,))>,\n",
       " <Gate(label=RAW136387505968976, params=raw, qubits=(8, 7))>,\n",
       " <Gate(label=RAW136387505968976, params=raw, qubits=(8, 4))>,\n",
       " <Gate(label=RAW136387468494192, params=raw, qubits=(7,))>,\n",
       " <Gate(label=RAW136387505099376, params=raw, qubits=(4,))>,\n",
       " <Gate(label=RAW136387505968976, params=raw, qubits=(9, 7))>,\n",
       " <Gate(label=RAW136388219964080, params=raw, qubits=(9,))>,\n",
       " <Gate(label=RAW136387505968976, params=raw, qubits=(4, 9))>,\n",
       " <Gate(label=RAW136387468494288, params=raw, qubits=(7,))>,\n",
       " <Gate(label=RAW136387468493808, params=raw, qubits=(4,))>,\n",
       " <Gate(label=RAW136387505968976, params=raw, qubits=(4, 7))>,\n",
       " <Gate(label=RAW136387505968976, params=raw, qubits=(8, 4))>,\n",
       " <Gate(label=RAW136388219964080, params=raw, qubits=(4,))>,\n",
       " <Gate(label=RAW136388219964080, params=raw, qubits=(9,))>,\n",
       " <Gate(label=RAW136387505968976, params=raw, qubits=(4, 8))>,\n",
       " <Gate(label=RAW136387505968976, params=raw, qubits=(8, 9))>]"
      ]
     },
     "execution_count": 22,
     "metadata": {},
     "output_type": "execute_result"
    }
   ],
   "source": [
    "obj._interface._circuitMPS.gates"
   ]
  },
  {
   "cell_type": "code",
   "execution_count": 23,
   "metadata": {},
   "outputs": [
    {
     "data": {
      "text/plain": [
       "oset(['0', '1', '2', '3', '4', '5', '6', '7', '8', '9', '10', 'I0', 'I1', 'I2', 'I3', 'I4', 'I5', 'I6', 'I7', 'I8', 'I9', 'I10', 'PSI0', 'GATE_2', 'GATE_3', 'GATE_6', 'GATE_7', 'GATE_9', 'GATE_11', 'GATE_12', 'GATE_15', 'GATE_16', 'GATE_18', 'GATE_20', 'GATE_21', 'GATE_24', 'GATE_25', 'GATE_28', 'GATE_29', 'GATE_30', 'GATE_32', 'GATE_34', 'GATE_36', 'GATE_38', 'GATE_39', 'GATE_41', 'GATE_42', 'GATE_43', 'GATE_45', 'GATE_47', 'GATE_49', 'GATE_51', 'GATE_53', 'GATE_54', 'GATE_56', 'GATE_57', 'GATE_58', 'GATE_60', 'GATE_62', 'GATE_64', 'GATE_66', 'GATE_68', 'GATE_69', 'GATE_71', 'GATE_72', 'GATE_73', 'GATE_75', 'GATE_79', 'GATE_80', 'GATE_83', 'GATE_84', 'GATE_86', 'GATE_88', 'GATE_89', 'GATE_92', 'GATE_93', 'GATE_95', 'GATE_97', 'GATE_98', 'GATE_101', 'GATE_102', 'GATE_105', 'GATE_107', 'GATE_109', 'GATE_111', 'GATE_113', 'GATE_114', 'GATE_116', 'GATE_117', 'GATE_118', 'GATE_120', 'GATE_122', 'GATE_124', 'GATE_126', 'GATE_128', 'GATE_129', 'GATE_131', 'GATE_132', 'GATE_133', 'GATE_135', 'GATE_137', 'GATE_139', 'GATE_141', 'GATE_143', 'GATE_144', 'GATE_146', 'GATE_147', 'GATE_148', 'GATE_150', 'GATE_151', 'GATE_153', 'GATE_155', 'GATE_157', 'GATE_159', 'GATE_160', 'GATE_162', 'GATE_163', 'GATE_164', 'GATE_166', 'GATE_168', 'GATE_170', 'GATE_172', 'GATE_174', 'GATE_175', 'GATE_177', 'GATE_178', 'GATE_179', 'GATE_181', 'GATE_183', 'GATE_185', 'GATE_187', 'GATE_189', 'GATE_190', 'GATE_192', 'GATE_193', 'GATE_194', 'GATE_199', 'GATE_200', 'GATE_203', 'GATE_204', 'GATE_206', 'GATE_208', 'GATE_209', 'GATE_212', 'GATE_213', 'GATE_215', 'GATE_217', 'GATE_218', 'GATE_221', 'GATE_222'])"
      ]
     },
     "execution_count": 23,
     "metadata": {},
     "output_type": "execute_result"
    }
   ],
   "source": [
    "obj._interface._circuitMPS.psi.tags"
   ]
  },
  {
   "cell_type": "code",
   "execution_count": 24,
   "metadata": {},
   "outputs": [
    {
     "data": {
      "text/plain": [
       "{'_psi': MatrixProductState(tensors=11, indices=21, L=11, max_bond=8),\n",
       " 'N': 11,\n",
       " 'gate_opts': {'contract': 'swap+split', 'propagate_tags': 'register'},\n",
       " 'gates': [<Gate(label=RAW136387505968976, params=raw, qubits=(2, 3))>,\n",
       "  <Gate(label=RAW136387505968976, params=raw, qubits=(0, 2))>,\n",
       "  <Gate(label=RAW136388219964080, params=raw, qubits=(3,))>,\n",
       "  <Gate(label=RAW136388219964080, params=raw, qubits=(0,))>,\n",
       "  <Gate(label=RAW136387505968976, params=raw, qubits=(2, 3))>,\n",
       "  <Gate(label=RAW136387505968976, params=raw, qubits=(0, 1))>,\n",
       "  <Gate(label=RAW136387505618640, params=raw, qubits=(1,))>,\n",
       "  <Gate(label=RAW136387505684816, params=raw, qubits=(0,))>,\n",
       "  <Gate(label=RAW136387505968976, params=raw, qubits=(0, 3))>,\n",
       "  <Gate(label=RAW136388219964080, params=raw, qubits=(3,))>,\n",
       "  <Gate(label=RAW136387505968976, params=raw, qubits=(3, 1))>,\n",
       "  <Gate(label=RAW136387506001264, params=raw, qubits=(1,))>,\n",
       "  <Gate(label=RAW136387505685200, params=raw, qubits=(0,))>,\n",
       "  <Gate(label=RAW136387505968976, params=raw, qubits=(2, 1))>,\n",
       "  <Gate(label=RAW136387505968976, params=raw, qubits=(2, 0))>,\n",
       "  <Gate(label=RAW136387505200944, params=raw, qubits=(1,))>,\n",
       "  <Gate(label=RAW136387505969552, params=raw, qubits=(0,))>,\n",
       "  <Gate(label=RAW136387505968976, params=raw, qubits=(3, 1))>,\n",
       "  <Gate(label=RAW136388219964080, params=raw, qubits=(3,))>,\n",
       "  <Gate(label=RAW136387505968976, params=raw, qubits=(0, 3))>,\n",
       "  <Gate(label=RAW136387505594256, params=raw, qubits=(1,))>,\n",
       "  <Gate(label=RAW136387505201040, params=raw, qubits=(0,))>,\n",
       "  <Gate(label=RAW136387505968976, params=raw, qubits=(0, 1))>,\n",
       "  <Gate(label=RAW136387505968976, params=raw, qubits=(2, 0))>,\n",
       "  <Gate(label=RAW136388219964080, params=raw, qubits=(0,))>,\n",
       "  <Gate(label=RAW136388219964080, params=raw, qubits=(3,))>,\n",
       "  <Gate(label=RAW136387505968976, params=raw, qubits=(0, 2))>,\n",
       "  <Gate(label=RAW136387505968976, params=raw, qubits=(2, 3))>,\n",
       "  <Gate(label=RAW136387505969744, params=raw, qubits=(4,))>,\n",
       "  <Gate(label=RAW136387505618160, params=raw, qubits=(4,))>,\n",
       "  <Gate(label=RAW136388219964080, params=raw, qubits=(4,))>,\n",
       "  <Gate(label=RAW136387505968976, params=raw, qubits=(6, 4))>,\n",
       "  <Gate(label=RAW136387505703600, params=raw, qubits=(4,))>,\n",
       "  <Gate(label=RAW136387505968976, params=raw, qubits=(5, 4))>,\n",
       "  <Gate(label=RAW136387505200752, params=raw, qubits=(4,))>,\n",
       "  <Gate(label=RAW136387505968976, params=raw, qubits=(6, 4))>,\n",
       "  <Gate(label=RAW136387505617104, params=raw, qubits=(4,))>,\n",
       "  <Gate(label=RAW136387505968976, params=raw, qubits=(5, 4))>,\n",
       "  <Gate(label=RAW136387505200752, params=raw, qubits=(4,))>,\n",
       "  <Gate(label=RAW136387505200752, params=raw, qubits=(6,))>,\n",
       "  <Gate(label=RAW136387505968976, params=raw, qubits=(5, 6))>,\n",
       "  <Gate(label=RAW136388219964080, params=raw, qubits=(4,))>,\n",
       "  <Gate(label=RAW136387505200752, params=raw, qubits=(5,))>,\n",
       "  <Gate(label=RAW136387505617296, params=raw, qubits=(6,))>,\n",
       "  <Gate(label=RAW136387505968976, params=raw, qubits=(5, 6))>,\n",
       "  <Gate(label=RAW136388219964080, params=raw, qubits=(6,))>,\n",
       "  <Gate(label=RAW136387505968976, params=raw, qubits=(4, 6))>,\n",
       "  <Gate(label=RAW136387505700912, params=raw, qubits=(6,))>,\n",
       "  <Gate(label=RAW136387505968976, params=raw, qubits=(5, 6))>,\n",
       "  <Gate(label=RAW136387505200752, params=raw, qubits=(6,))>,\n",
       "  <Gate(label=RAW136387505968976, params=raw, qubits=(4, 6))>,\n",
       "  <Gate(label=RAW136387505593872, params=raw, qubits=(6,))>,\n",
       "  <Gate(label=RAW136387505968976, params=raw, qubits=(5, 6))>,\n",
       "  <Gate(label=RAW136387505200752, params=raw, qubits=(6,))>,\n",
       "  <Gate(label=RAW136387505200752, params=raw, qubits=(4,))>,\n",
       "  <Gate(label=RAW136387505968976, params=raw, qubits=(5, 4))>,\n",
       "  <Gate(label=RAW136388219964080, params=raw, qubits=(6,))>,\n",
       "  <Gate(label=RAW136387505200752, params=raw, qubits=(5,))>,\n",
       "  <Gate(label=RAW136387505200368, params=raw, qubits=(4,))>,\n",
       "  <Gate(label=RAW136387505968976, params=raw, qubits=(5, 4))>,\n",
       "  <Gate(label=RAW136388219964080, params=raw, qubits=(4,))>,\n",
       "  <Gate(label=RAW136387505968976, params=raw, qubits=(6, 4))>,\n",
       "  <Gate(label=RAW136387505618832, params=raw, qubits=(4,))>,\n",
       "  <Gate(label=RAW136387505968976, params=raw, qubits=(5, 4))>,\n",
       "  <Gate(label=RAW136387505200752, params=raw, qubits=(4,))>,\n",
       "  <Gate(label=RAW136387505968976, params=raw, qubits=(6, 4))>,\n",
       "  <Gate(label=RAW136387505701776, params=raw, qubits=(4,))>,\n",
       "  <Gate(label=RAW136387505968976, params=raw, qubits=(5, 4))>,\n",
       "  <Gate(label=RAW136387505200752, params=raw, qubits=(4,))>,\n",
       "  <Gate(label=RAW136387505200752, params=raw, qubits=(6,))>,\n",
       "  <Gate(label=RAW136387505968976, params=raw, qubits=(5, 6))>,\n",
       "  <Gate(label=RAW136388219964080, params=raw, qubits=(4,))>,\n",
       "  <Gate(label=RAW136387505200752, params=raw, qubits=(5,))>,\n",
       "  <Gate(label=RAW136387505703408, params=raw, qubits=(6,))>,\n",
       "  <Gate(label=RAW136387505968976, params=raw, qubits=(5, 6))>,\n",
       "  <Gate(label=RAW136387505445168, params=raw, qubits=(7,))>,\n",
       "  <Gate(label=RAW136387505968976, params=raw, qubits=(8, 9))>,\n",
       "  <Gate(label=RAW136387505968976, params=raw, qubits=(8, 9))>,\n",
       "  <Gate(label=RAW136387505968976, params=raw, qubits=(7, 8))>,\n",
       "  <Gate(label=RAW136388219964080, params=raw, qubits=(9,))>,\n",
       "  <Gate(label=RAW136388219964080, params=raw, qubits=(7,))>,\n",
       "  <Gate(label=RAW136387505968976, params=raw, qubits=(8, 9))>,\n",
       "  <Gate(label=RAW136387505968976, params=raw, qubits=(7, 10))>,\n",
       "  <Gate(label=RAW136387505703024, params=raw, qubits=(10,))>,\n",
       "  <Gate(label=RAW136387505445840, params=raw, qubits=(7,))>,\n",
       "  <Gate(label=RAW136387505968976, params=raw, qubits=(7, 9))>,\n",
       "  <Gate(label=RAW136388219964080, params=raw, qubits=(9,))>,\n",
       "  <Gate(label=RAW136387505968976, params=raw, qubits=(9, 10))>,\n",
       "  <Gate(label=RAW136387505443248, params=raw, qubits=(10,))>,\n",
       "  <Gate(label=RAW136387504995376, params=raw, qubits=(7,))>,\n",
       "  <Gate(label=RAW136387505968976, params=raw, qubits=(8, 10))>,\n",
       "  <Gate(label=RAW136387505968976, params=raw, qubits=(8, 7))>,\n",
       "  <Gate(label=RAW136387505445744, params=raw, qubits=(10,))>,\n",
       "  <Gate(label=RAW136387505446704, params=raw, qubits=(7,))>,\n",
       "  <Gate(label=RAW136387505968976, params=raw, qubits=(9, 10))>,\n",
       "  <Gate(label=RAW136388219964080, params=raw, qubits=(9,))>,\n",
       "  <Gate(label=RAW136387505968976, params=raw, qubits=(7, 9))>,\n",
       "  <Gate(label=RAW136387504994800, params=raw, qubits=(10,))>,\n",
       "  <Gate(label=RAW136387505703696, params=raw, qubits=(7,))>,\n",
       "  <Gate(label=RAW136387505968976, params=raw, qubits=(7, 10))>,\n",
       "  <Gate(label=RAW136387505968976, params=raw, qubits=(8, 7))>,\n",
       "  <Gate(label=RAW136388219964080, params=raw, qubits=(7,))>,\n",
       "  <Gate(label=RAW136388219964080, params=raw, qubits=(9,))>,\n",
       "  <Gate(label=RAW136387505968976, params=raw, qubits=(7, 8))>,\n",
       "  <Gate(label=RAW136387505968976, params=raw, qubits=(8, 9))>,\n",
       "  <Gate(label=RAW136388219964080, params=raw, qubits=(7,))>,\n",
       "  <Gate(label=RAW136387505968976, params=raw, qubits=(10, 7))>,\n",
       "  <Gate(label=RAW136387505200848, params=raw, qubits=(7,))>,\n",
       "  <Gate(label=RAW136387505968976, params=raw, qubits=(4, 7))>,\n",
       "  <Gate(label=RAW136387505200752, params=raw, qubits=(7,))>,\n",
       "  <Gate(label=RAW136387505968976, params=raw, qubits=(10, 7))>,\n",
       "  <Gate(label=RAW136387505445072, params=raw, qubits=(7,))>,\n",
       "  <Gate(label=RAW136387505968976, params=raw, qubits=(4, 7))>,\n",
       "  <Gate(label=RAW136387505200752, params=raw, qubits=(7,))>,\n",
       "  <Gate(label=RAW136387505200752, params=raw, qubits=(10,))>,\n",
       "  <Gate(label=RAW136387505968976, params=raw, qubits=(4, 10))>,\n",
       "  <Gate(label=RAW136388219964080, params=raw, qubits=(7,))>,\n",
       "  <Gate(label=RAW136387505200752, params=raw, qubits=(4,))>,\n",
       "  <Gate(label=RAW136387505446128, params=raw, qubits=(10,))>,\n",
       "  <Gate(label=RAW136387505968976, params=raw, qubits=(4, 10))>,\n",
       "  <Gate(label=RAW136388219964080, params=raw, qubits=(10,))>,\n",
       "  <Gate(label=RAW136387505968976, params=raw, qubits=(7, 10))>,\n",
       "  <Gate(label=RAW136387505444688, params=raw, qubits=(10,))>,\n",
       "  <Gate(label=RAW136387505968976, params=raw, qubits=(4, 10))>,\n",
       "  <Gate(label=RAW136387505200752, params=raw, qubits=(10,))>,\n",
       "  <Gate(label=RAW136387505968976, params=raw, qubits=(7, 10))>,\n",
       "  <Gate(label=RAW136387505444016, params=raw, qubits=(10,))>,\n",
       "  <Gate(label=RAW136387505968976, params=raw, qubits=(4, 10))>,\n",
       "  <Gate(label=RAW136387505200752, params=raw, qubits=(10,))>,\n",
       "  <Gate(label=RAW136387505200752, params=raw, qubits=(7,))>,\n",
       "  <Gate(label=RAW136387505968976, params=raw, qubits=(4, 7))>,\n",
       "  <Gate(label=RAW136388219964080, params=raw, qubits=(10,))>,\n",
       "  <Gate(label=RAW136387505200752, params=raw, qubits=(4,))>,\n",
       "  <Gate(label=RAW136387504993744, params=raw, qubits=(7,))>,\n",
       "  <Gate(label=RAW136387505968976, params=raw, qubits=(4, 7))>,\n",
       "  <Gate(label=RAW136388219964080, params=raw, qubits=(7,))>,\n",
       "  <Gate(label=RAW136387505968976, params=raw, qubits=(10, 7))>,\n",
       "  <Gate(label=RAW136387504993456, params=raw, qubits=(7,))>,\n",
       "  <Gate(label=RAW136387505968976, params=raw, qubits=(4, 7))>,\n",
       "  <Gate(label=RAW136387505200752, params=raw, qubits=(7,))>,\n",
       "  <Gate(label=RAW136387505968976, params=raw, qubits=(10, 7))>,\n",
       "  <Gate(label=RAW136387505445360, params=raw, qubits=(7,))>,\n",
       "  <Gate(label=RAW136387505968976, params=raw, qubits=(4, 7))>,\n",
       "  <Gate(label=RAW136387505200752, params=raw, qubits=(7,))>,\n",
       "  <Gate(label=RAW136387505200752, params=raw, qubits=(10,))>,\n",
       "  <Gate(label=RAW136387505968976, params=raw, qubits=(4, 10))>,\n",
       "  <Gate(label=RAW136388219964080, params=raw, qubits=(7,))>,\n",
       "  <Gate(label=RAW136387505200752, params=raw, qubits=(4,))>,\n",
       "  <Gate(label=RAW136387505445552, params=raw, qubits=(10,))>,\n",
       "  <Gate(label=RAW136387505968976, params=raw, qubits=(4, 10))>,\n",
       "  <Gate(label=RAW136388219964080, params=raw, qubits=(9,))>,\n",
       "  <Gate(label=RAW136388219964080, params=raw, qubits=(8,))>,\n",
       "  <Gate(label=RAW136387505968976, params=raw, qubits=(9, 8))>,\n",
       "  <Gate(label=RAW136387505100720, params=raw, qubits=(8,))>,\n",
       "  <Gate(label=RAW136387505968976, params=raw, qubits=(10, 8))>,\n",
       "  <Gate(label=RAW136387505200752, params=raw, qubits=(8,))>,\n",
       "  <Gate(label=RAW136387505968976, params=raw, qubits=(9, 8))>,\n",
       "  <Gate(label=RAW136387505101488, params=raw, qubits=(8,))>,\n",
       "  <Gate(label=RAW136387505968976, params=raw, qubits=(10, 8))>,\n",
       "  <Gate(label=RAW136387505200752, params=raw, qubits=(8,))>,\n",
       "  <Gate(label=RAW136387505200752, params=raw, qubits=(9,))>,\n",
       "  <Gate(label=RAW136387505968976, params=raw, qubits=(10, 9))>,\n",
       "  <Gate(label=RAW136388219964080, params=raw, qubits=(8,))>,\n",
       "  <Gate(label=RAW136387505200752, params=raw, qubits=(10,))>,\n",
       "  <Gate(label=RAW136387504994896, params=raw, qubits=(9,))>,\n",
       "  <Gate(label=RAW136387505968976, params=raw, qubits=(10, 9))>,\n",
       "  <Gate(label=RAW136388219964080, params=raw, qubits=(9,))>,\n",
       "  <Gate(label=RAW136387505968976, params=raw, qubits=(8, 9))>,\n",
       "  <Gate(label=RAW136387504995952, params=raw, qubits=(9,))>,\n",
       "  <Gate(label=RAW136387505968976, params=raw, qubits=(10, 9))>,\n",
       "  <Gate(label=RAW136387505200752, params=raw, qubits=(9,))>,\n",
       "  <Gate(label=RAW136387505968976, params=raw, qubits=(8, 9))>,\n",
       "  <Gate(label=RAW136387504994608, params=raw, qubits=(9,))>,\n",
       "  <Gate(label=RAW136387505968976, params=raw, qubits=(10, 9))>,\n",
       "  <Gate(label=RAW136387505200752, params=raw, qubits=(9,))>,\n",
       "  <Gate(label=RAW136387505200752, params=raw, qubits=(8,))>,\n",
       "  <Gate(label=RAW136387505968976, params=raw, qubits=(10, 8))>,\n",
       "  <Gate(label=RAW136388219964080, params=raw, qubits=(9,))>,\n",
       "  <Gate(label=RAW136387505200752, params=raw, qubits=(10,))>,\n",
       "  <Gate(label=RAW136387505446032, params=raw, qubits=(8,))>,\n",
       "  <Gate(label=RAW136387505968976, params=raw, qubits=(10, 8))>,\n",
       "  <Gate(label=RAW136388219964080, params=raw, qubits=(8,))>,\n",
       "  <Gate(label=RAW136387505968976, params=raw, qubits=(9, 8))>,\n",
       "  <Gate(label=RAW136387505100624, params=raw, qubits=(8,))>,\n",
       "  <Gate(label=RAW136387505968976, params=raw, qubits=(10, 8))>,\n",
       "  <Gate(label=RAW136387505200752, params=raw, qubits=(8,))>,\n",
       "  <Gate(label=RAW136387505968976, params=raw, qubits=(9, 8))>,\n",
       "  <Gate(label=RAW136387505101392, params=raw, qubits=(8,))>,\n",
       "  <Gate(label=RAW136387505968976, params=raw, qubits=(10, 8))>,\n",
       "  <Gate(label=RAW136387505200752, params=raw, qubits=(8,))>,\n",
       "  <Gate(label=RAW136387505200752, params=raw, qubits=(9,))>,\n",
       "  <Gate(label=RAW136387505968976, params=raw, qubits=(10, 9))>,\n",
       "  <Gate(label=RAW136388219964080, params=raw, qubits=(8,))>,\n",
       "  <Gate(label=RAW136387505200752, params=raw, qubits=(10,))>,\n",
       "  <Gate(label=RAW136387505101680, params=raw, qubits=(9,))>,\n",
       "  <Gate(label=RAW136387505968976, params=raw, qubits=(10, 9))>,\n",
       "  <Gate(label=RAW136387505968976, params=raw, qubits=(10, 9))>,\n",
       "  <Gate(label=RAW136387505968976, params=raw, qubits=(8, 9))>,\n",
       "  <Gate(label=RAW136387505968976, params=raw, qubits=(4, 8))>,\n",
       "  <Gate(label=RAW136388219964080, params=raw, qubits=(9,))>,\n",
       "  <Gate(label=RAW136388219964080, params=raw, qubits=(4,))>,\n",
       "  <Gate(label=RAW136387505968976, params=raw, qubits=(8, 9))>,\n",
       "  <Gate(label=RAW136387505968976, params=raw, qubits=(4, 7))>,\n",
       "  <Gate(label=RAW136387505099856, params=raw, qubits=(7,))>,\n",
       "  <Gate(label=RAW136387505101008, params=raw, qubits=(4,))>,\n",
       "  <Gate(label=RAW136387505968976, params=raw, qubits=(4, 9))>,\n",
       "  <Gate(label=RAW136388219964080, params=raw, qubits=(9,))>,\n",
       "  <Gate(label=RAW136387505968976, params=raw, qubits=(9, 7))>,\n",
       "  <Gate(label=RAW136387468492848, params=raw, qubits=(7,))>,\n",
       "  <Gate(label=RAW136387505100432, params=raw, qubits=(4,))>,\n",
       "  <Gate(label=RAW136387505968976, params=raw, qubits=(8, 7))>,\n",
       "  <Gate(label=RAW136387505968976, params=raw, qubits=(8, 4))>,\n",
       "  <Gate(label=RAW136387468494192, params=raw, qubits=(7,))>,\n",
       "  <Gate(label=RAW136387505099376, params=raw, qubits=(4,))>,\n",
       "  <Gate(label=RAW136387505968976, params=raw, qubits=(9, 7))>,\n",
       "  <Gate(label=RAW136388219964080, params=raw, qubits=(9,))>,\n",
       "  <Gate(label=RAW136387505968976, params=raw, qubits=(4, 9))>,\n",
       "  <Gate(label=RAW136387468494288, params=raw, qubits=(7,))>,\n",
       "  <Gate(label=RAW136387468493808, params=raw, qubits=(4,))>,\n",
       "  <Gate(label=RAW136387505968976, params=raw, qubits=(4, 7))>,\n",
       "  <Gate(label=RAW136387505968976, params=raw, qubits=(8, 4))>,\n",
       "  <Gate(label=RAW136388219964080, params=raw, qubits=(4,))>,\n",
       "  <Gate(label=RAW136388219964080, params=raw, qubits=(9,))>,\n",
       "  <Gate(label=RAW136387505968976, params=raw, qubits=(4, 8))>,\n",
       "  <Gate(label=RAW136387505968976, params=raw, qubits=(8, 9))>],\n",
       " '_ket_site_ind_id': 'k{}',\n",
       " '_bra_site_ind_id': 'b{}',\n",
       " 'ket_site_ind': <function str.format>,\n",
       " 'bra_site_ind': <function str.format>,\n",
       " '_sample_n_gates': -1,\n",
       " '_storage': {},\n",
       " '_sampled_conditionals': {}}"
      ]
     },
     "execution_count": 24,
     "metadata": {},
     "output_type": "execute_result"
    }
   ],
   "source": [
    "obj._interface._circuitMPS.__dict__"
   ]
  },
  {
   "cell_type": "code",
   "execution_count": 25,
   "metadata": {},
   "outputs": [
    {
     "data": {
      "text/plain": [
       "<Circuit(n=11, num_gates=225, gate_opts={'contract': 'swap+split', 'propagate_tags': 'register'})>"
      ]
     },
     "execution_count": 25,
     "metadata": {},
     "output_type": "execute_result"
    }
   ],
   "source": [
    "obj._interface._circuitMPS"
   ]
  },
  {
   "cell_type": "code",
   "execution_count": 26,
   "metadata": {},
   "outputs": [
    {
     "data": {
      "text/plain": [
       "8"
      ]
     },
     "execution_count": 26,
     "metadata": {},
     "output_type": "execute_result"
    }
   ],
   "source": [
    "obj._interface._circuitMPS.psi.max_bond() "
   ]
  },
  {
   "cell_type": "code",
   "execution_count": 27,
   "metadata": {},
   "outputs": [
    {
     "data": {
      "text/html": [
       "<samp style='font-size: 12px;'><details><summary><b style=\"color: #d75692;\">MatrixProductState</b>(tensors=11, indices=21, L=11, max_bond=8)</summary><samp style='font-size: 12px;'><details><summary><b style=\"color: #e55471;\">Tensor</b>(shape=(<b style=\"color: #828fdd;\">2</b>, <b style=\"color: #828fdd;\">2</b>), inds=[<b style=\"color: #93d237;\">_f485ffAAAAK</b>, <b style=\"color: #b1dc61;\">k0</b>], tags={<b style=\"color: #74d649;\">0</b>, <b style=\"color: #45ce3d;\">1</b>, <b style=\"color: #828fdd;\">2</b>, <b style=\"color: #8a5bcf;\">3</b>, <b style=\"color: #80d749;\">4</b>, <b style=\"color: #7355d7;\">5</b>, <b style=\"color: #a4de79;\">6</b>, <b style=\"color: #7930d2;\">7</b>, <b style=\"color: #39acd6;\">8</b>, <b style=\"color: #c14bdb;\">9</b>, <b style=\"color: #31d651;\">10</b>, <b style=\"color: #d2b137;\">I0</b>, <b style=\"color: #d3b991;\">PSI0</b>, <b style=\"color: #394bd1;\">GATE_3</b>, <b style=\"color: #da9170;\">GATE_7</b>, <b style=\"color: #e3a694;\">GATE_12</b>, <b style=\"color: #d8e230;\">GATE_16</b>, <b style=\"color: #4fe13d;\">GATE_21</b>, <b style=\"color: #9fe3c6;\">GATE_24</b>}),</summary>backend=<b style=\"color: #7fdd73;\">numpy</b>, dtype=<b style=\"color: #443ce1;\">complex128</b>, data=array([[1.+0.j, 0.+0.j],\n",
       "       [0.+0.j, 1.+0.j]])</details></samp><samp style='font-size: 12px;'><details><summary><b style=\"color: #e55471;\">Tensor</b>(shape=(<b style=\"color: #828fdd;\">2</b>, <b style=\"color: #80d749;\">4</b>, <b style=\"color: #828fdd;\">2</b>), inds=[<b style=\"color: #93d237;\">_f485ffAAAAK</b>, <b style=\"color: #ccba83;\">_f485ffAAAAL</b>, <b style=\"color: #8aa5db;\">k1</b>], tags={<b style=\"color: #74d649;\">0</b>, <b style=\"color: #45ce3d;\">1</b>, <b style=\"color: #828fdd;\">2</b>, <b style=\"color: #8a5bcf;\">3</b>, <b style=\"color: #80d749;\">4</b>, <b style=\"color: #7355d7;\">5</b>, <b style=\"color: #a4de79;\">6</b>, <b style=\"color: #7930d2;\">7</b>, <b style=\"color: #39acd6;\">8</b>, <b style=\"color: #c14bdb;\">9</b>, <b style=\"color: #31d651;\">10</b>, <b style=\"color: #d19b78;\">I1</b>, <b style=\"color: #d3b991;\">PSI0</b>, <b style=\"color: #bade88;\">GATE_6</b>, <b style=\"color: #3bd699;\">GATE_11</b>, <b style=\"color: #71d75c;\">GATE_15</b>, <b style=\"color: #dfa87e;\">GATE_20</b>}),</summary>backend=<b style=\"color: #7fdd73;\">numpy</b>, dtype=<b style=\"color: #443ce1;\">complex128</b>, data=array([[[-1.00000000e+00+0.j,  1.49385175e-31+0.j],\n",
       "        [ 0.00000000e+00-0.j,  0.00000000e+00-0.j],\n",
       "        [ 4.97552581e-47+0.j,  3.33066907e-16+0.j],\n",
       "        [ 1.49385175e-31+0.j,  1.00000000e+00+0.j]],\n",
       "\n",
       "       [[ 0.00000000e+00+0.j,  0.00000000e+00+0.j],\n",
       "        [-3.97317224e-01+0.j, -9.17681330e-01+0.j],\n",
       "        [-9.17681330e-01+0.j,  3.97317224e-01+0.j],\n",
       "        [ 3.33066907e-16+0.j, -1.11022302e-16+0.j]]])</details></samp><samp style='font-size: 12px;'><details><summary><b style=\"color: #e55471;\">Tensor</b>(shape=(<b style=\"color: #80d749;\">4</b>, <b style=\"color: #828fdd;\">2</b>, <b style=\"color: #828fdd;\">2</b>), inds=[<b style=\"color: #ccba83;\">_f485ffAAAAL</b>, <b style=\"color: #d39335;\">_f485ffAAAAM</b>, <b style=\"color: #df546d;\">k2</b>], tags={<b style=\"color: #74d649;\">0</b>, <b style=\"color: #45ce3d;\">1</b>, <b style=\"color: #828fdd;\">2</b>, <b style=\"color: #8a5bcf;\">3</b>, <b style=\"color: #80d749;\">4</b>, <b style=\"color: #7355d7;\">5</b>, <b style=\"color: #a4de79;\">6</b>, <b style=\"color: #7930d2;\">7</b>, <b style=\"color: #39acd6;\">8</b>, <b style=\"color: #c14bdb;\">9</b>, <b style=\"color: #31d651;\">10</b>, <b style=\"color: #dd5dd7;\">I2</b>, <b style=\"color: #d3b991;\">PSI0</b>}),</summary>backend=<b style=\"color: #7fdd73;\">numpy</b>, dtype=<b style=\"color: #443ce1;\">complex128</b>, data=array([[[-1.00000000e+00+0.j,  0.00000000e+00+0.j],\n",
       "        [-1.49306920e-16-0.j,  0.00000000e+00-0.j]],\n",
       "\n",
       "       [[-5.92549258e-93+0.j, -1.60605509e-16+0.j],\n",
       "        [ 9.34364464e-47+0.j,  9.97595546e-01+0.j]],\n",
       "\n",
       "       [[-2.71959706e-78+0.j,  1.57455951e-16+0.j],\n",
       "        [ 4.28841116e-32+0.j,  6.93045915e-02+0.j]],\n",
       "\n",
       "       [[-6.12398816e-63+0.j,  0.00000000e+00+0.j],\n",
       "        [ 9.65664345e-17+0.j,  0.00000000e+00+0.j]]])</details></samp><samp style='font-size: 12px;'><details><summary><b style=\"color: #e55471;\">Tensor</b>(shape=(<b style=\"color: #828fdd;\">2</b>, <b style=\"color: #45ce3d;\">1</b>, <b style=\"color: #828fdd;\">2</b>), inds=[<b style=\"color: #d39335;\">_f485ffAAAAM</b>, <b style=\"color: #60e24c;\">_f485ffAAAAN</b>, <b style=\"color: #4c7be1;\">k3</b>], tags={<b style=\"color: #74d649;\">0</b>, <b style=\"color: #45ce3d;\">1</b>, <b style=\"color: #828fdd;\">2</b>, <b style=\"color: #8a5bcf;\">3</b>, <b style=\"color: #80d749;\">4</b>, <b style=\"color: #7355d7;\">5</b>, <b style=\"color: #a4de79;\">6</b>, <b style=\"color: #7930d2;\">7</b>, <b style=\"color: #39acd6;\">8</b>, <b style=\"color: #c14bdb;\">9</b>, <b style=\"color: #31d651;\">10</b>, <b style=\"color: #dd65d9;\">I3</b>, <b style=\"color: #d3b991;\">PSI0</b>, <b style=\"color: #64dc8a;\">GATE_2</b>, <b style=\"color: #de70db;\">GATE_9</b>, <b style=\"color: #a4cd58;\">GATE_18</b>, <b style=\"color: #56cf38;\">GATE_25</b>}),</summary>backend=<b style=\"color: #7fdd73;\">numpy</b>, dtype=<b style=\"color: #443ce1;\">complex128</b>, data=array([[[ 1.00000000e+00+0.j,  1.34638103e-16+0.j]],\n",
       "\n",
       "       [[ 8.14271973e-32+0.j, -6.04785686e-16+0.j]]])</details></samp><samp style='font-size: 12px;'><details><summary><b style=\"color: #e55471;\">Tensor</b>(shape=(<b style=\"color: #45ce3d;\">1</b>, <b style=\"color: #828fdd;\">2</b>, <b style=\"color: #828fdd;\">2</b>), inds=[<b style=\"color: #60e24c;\">_f485ffAAAAN</b>, <b style=\"color: #7e6bd6;\">_f485ffAAAAO</b>, <b style=\"color: #462edc;\">k4</b>], tags={<b style=\"color: #74d649;\">0</b>, <b style=\"color: #45ce3d;\">1</b>, <b style=\"color: #828fdd;\">2</b>, <b style=\"color: #8a5bcf;\">3</b>, <b style=\"color: #80d749;\">4</b>, <b style=\"color: #7355d7;\">5</b>, <b style=\"color: #a4de79;\">6</b>, <b style=\"color: #7930d2;\">7</b>, <b style=\"color: #39acd6;\">8</b>, <b style=\"color: #c14bdb;\">9</b>, <b style=\"color: #31d651;\">10</b>, <b style=\"color: #998ad1;\">I4</b>, <b style=\"color: #d3b991;\">PSI0</b>, <b style=\"color: #8ed0e1;\">GATE_28</b>, <b style=\"color: #b776d2;\">GATE_29</b>, <b style=\"color: #9f5bd1;\">GATE_30</b>, <b style=\"color: #6785d3;\">GATE_32</b>, <b style=\"color: #ac6be4;\">GATE_34</b>, <b style=\"color: #d878b9;\">GATE_36</b>, <b style=\"color: #41d56c;\">GATE_38</b>, <b style=\"color: #5373d2;\">GATE_41</b>, <b style=\"color: #53e04b;\">GATE_54</b>, <b style=\"color: #e14a48;\">GATE_58</b>, <b style=\"color: #2fd2cf;\">GATE_60</b>, <b style=\"color: #8cd492;\">GATE_62</b>, <b style=\"color: #54cedf;\">GATE_64</b>, <b style=\"color: #da8cd0;\">GATE_66</b>, <b style=\"color: #d666a7;\">GATE_68</b>, <b style=\"color: #d12f74;\">GATE_71</b>, <b style=\"color: #d992b1;\">GATE_117</b>, <b style=\"color: #9dcee4;\">GATE_132</b>, <b style=\"color: #39d176;\">GATE_147</b>, <b style=\"color: #475ee4;\">GATE_200</b>, <b style=\"color: #9ee086;\">GATE_204</b>, <b style=\"color: #71df2f;\">GATE_209</b>, <b style=\"color: #93dab6;\">GATE_213</b>, <b style=\"color: #a64adf;\">GATE_218</b>, <b style=\"color: #58e1ab;\">GATE_221</b>}),</summary>backend=<b style=\"color: #7fdd73;\">numpy</b>, dtype=<b style=\"color: #443ce1;\">complex128</b>, data=array([[[-4.94847129e-02-1.30423606e-20j,\n",
       "          5.12492286e-14-9.98774881e-01j],\n",
       "        [-9.98774881e-01+1.97391842e-17j,\n",
       "         -2.53817311e-15+4.94847129e-02j]]])</details></samp><samp style='font-size: 12px;'><details><summary><b style=\"color: #e55471;\">Tensor</b>(shape=(<b style=\"color: #828fdd;\">2</b>, <b style=\"color: #80d749;\">4</b>, <b style=\"color: #828fdd;\">2</b>), inds=[<b style=\"color: #7e6bd6;\">_f485ffAAAAO</b>, <b style=\"color: #a38ee4;\">_f485ffAAAAP</b>, <b style=\"color: #85dfdf;\">k5</b>], tags={<b style=\"color: #74d649;\">0</b>, <b style=\"color: #45ce3d;\">1</b>, <b style=\"color: #828fdd;\">2</b>, <b style=\"color: #8a5bcf;\">3</b>, <b style=\"color: #80d749;\">4</b>, <b style=\"color: #7355d7;\">5</b>, <b style=\"color: #a4de79;\">6</b>, <b style=\"color: #7930d2;\">7</b>, <b style=\"color: #39acd6;\">8</b>, <b style=\"color: #c14bdb;\">9</b>, <b style=\"color: #31d651;\">10</b>, <b style=\"color: #97dddc;\">I5</b>, <b style=\"color: #d3b991;\">PSI0</b>, <b style=\"color: #e1c97a;\">GATE_42</b>, <b style=\"color: #e2ba6c;\">GATE_57</b>, <b style=\"color: #b9db52;\">GATE_72</b>}),</summary>backend=<b style=\"color: #7fdd73;\">numpy</b>, dtype=<b style=\"color: #443ce1;\">complex128</b>, data=array([[[-1.00000000e+00-1.80560394e-35j,\n",
       "         -1.24728812e-21-8.92154800e-21j],\n",
       "        [ 2.11702473e-19+3.56646081e-35j,\n",
       "          1.32026990e-40-3.54078561e-19j],\n",
       "        [ 1.36840807e-19+9.40895170e-20j,\n",
       "          4.69961304e-01+6.02742778e-01j],\n",
       "        [ 1.91691344e-19+6.75191884e-20j,\n",
       "         -4.90314360e-01-4.18842864e-01j]],\n",
       "\n",
       "       [[ 1.35528621e-19+1.62634345e-19j,\n",
       "         -1.08263725e-19+2.38915198e-19j],\n",
       "        [ 6.40184400e-01+7.68221280e-01j,\n",
       "          2.44325177e-18-1.26275004e-18j],\n",
       "        [-1.62182943e-39-1.11022302e-16j,\n",
       "         -5.39491759e-01+3.53250843e-01j],\n",
       "        [ 6.93889390e-18+1.11022302e-16j,\n",
       "         -5.42635003e-01+5.38246911e-01j]]])</details></samp><samp style='font-size: 12px;'><details><summary><b style=\"color: #e55471;\">Tensor</b>(shape=(<b style=\"color: #80d749;\">4</b>, <b style=\"color: #39acd6;\">8</b>, <b style=\"color: #828fdd;\">2</b>), inds=[<b style=\"color: #a38ee4;\">_f485ffAAAAP</b>, <b style=\"color: #cdbd4a;\">_f485ffAAAAQ</b>, <b style=\"color: #2cb7d3;\">k6</b>], tags={<b style=\"color: #74d649;\">0</b>, <b style=\"color: #45ce3d;\">1</b>, <b style=\"color: #828fdd;\">2</b>, <b style=\"color: #8a5bcf;\">3</b>, <b style=\"color: #80d749;\">4</b>, <b style=\"color: #7355d7;\">5</b>, <b style=\"color: #a4de79;\">6</b>, <b style=\"color: #7930d2;\">7</b>, <b style=\"color: #39acd6;\">8</b>, <b style=\"color: #c14bdb;\">9</b>, <b style=\"color: #31d651;\">10</b>, <b style=\"color: #b2de5f;\">I6</b>, <b style=\"color: #d3b991;\">PSI0</b>, <b style=\"color: #81e4a5;\">GATE_39</b>, <b style=\"color: #ce2b3b;\">GATE_43</b>, <b style=\"color: #c659e3;\">GATE_45</b>, <b style=\"color: #4d78d7;\">GATE_47</b>, <b style=\"color: #a98de3;\">GATE_49</b>, <b style=\"color: #e2df85;\">GATE_51</b>, <b style=\"color: #da53d5;\">GATE_53</b>, <b style=\"color: #8cd1ce;\">GATE_56</b>, <b style=\"color: #acd280;\">GATE_69</b>, <b style=\"color: #de448f;\">GATE_73</b>}),</summary>backend=<b style=\"color: #7fdd73;\">numpy</b>, dtype=<b style=\"color: #443ce1;\">complex128</b>, data=array([[[-1.00000000e+00-3.08245194e-36j,\n",
       "          5.43781475e-17+2.02861645e-16j],\n",
       "        [-1.21220484e-19+2.85877894e-32j,\n",
       "         -2.22044605e-16-1.21847477e-15j],\n",
       "        [ 3.89419788e-16-4.21877159e-23j,\n",
       "          9.07854894e-03-1.55254468e-02j],\n",
       "        [ 2.15039933e-16+3.10265170e-21j,\n",
       "          2.36419810e-01+9.71483779e-01j],\n",
       "        [-4.24254064e-19-3.66028990e-24j,\n",
       "         -1.61327339e-04-1.16823876e-03j],\n",
       "        [ 2.76843446e-20-9.27431506e-25j,\n",
       "         -8.88402674e-05-2.86968817e-04j],\n",
       "        [-1.22604528e-28-9.24453796e-29j,\n",
       "          2.10684171e-13-4.83075457e-13j],\n",
       "        [ 3.02662075e-30+3.69794197e-29j,\n",
       "         -7.52660375e-14+1.40356013e-14j]],\n",
       "\n",
       "       [[ 5.42114483e-20-1.08422897e-19j,\n",
       "          2.43190159e-16+3.07634265e-16j],\n",
       "        [-4.47213596e-01+8.94427191e-01j,\n",
       "         -6.77187432e-15-3.76231035e-15j],\n",
       "        [-5.87377369e-15+5.01682029e-15j,\n",
       "          6.14660433e-01+7.88586609e-01j],\n",
       "        [-5.55111512e-16+1.30451205e-15j,\n",
       "          1.78064559e-02+2.52478133e-03j],\n",
       "        [ 3.25260652e-18-3.90312782e-18j,\n",
       "         -3.43873765e-04-3.08365615e-04j],\n",
       "        [-1.13841228e-18+8.47032947e-19j,\n",
       "          1.48319959e-04+1.77679575e-04j],\n",
       "        [-1.56510004e-27+8.07793567e-28j,\n",
       "          5.63351001e-14-7.60845942e-14j],\n",
       "        [ 3.66031460e-28-3.78653235e-29j,\n",
       "          2.87640321e-15+6.71845097e-15j]],\n",
       "\n",
       "       [[-6.58293104e-37+5.64251232e-37j,\n",
       "         -1.31426839e-29-2.42681128e-29j],\n",
       "        [ 5.84158032e-33+5.41225319e-33j,\n",
       "         -9.17875831e-28+8.50955446e-28j],\n",
       "        [-3.50961031e-04+2.73590989e-04j,\n",
       "         -8.06463566e-15-6.83400706e-14j],\n",
       "        [-7.12746996e-04+9.46041873e-04j,\n",
       "          2.01016699e-13-8.62289803e-14j],\n",
       "        [-6.82895022e-01+7.30467657e-01j,\n",
       "         -3.93258964e-11+2.12912279e-12j],\n",
       "        [ 7.91045294e-03-2.68592131e-03j,\n",
       "         -8.82776138e-12+6.10920370e-11j],\n",
       "        [-2.18311946e-11+3.22624157e-11j,\n",
       "          5.76858896e-01+2.55147709e-02j],\n",
       "        [-2.04135221e-11+9.85437412e-12j,\n",
       "          8.16044225e-01+2.55858089e-02j]],\n",
       "\n",
       "       [[-9.40418720e-37+3.76167488e-37j,\n",
       "         -2.22588882e-29+1.23406566e-30j],\n",
       "        [ 2.57197384e-34-2.84111105e-33j,\n",
       "         -1.68451630e-27+2.00343465e-27j],\n",
       "        [ 1.24150291e-04+1.95738267e-04j,\n",
       "          2.41910371e-15-8.09796106e-14j],\n",
       "        [-1.64687294e-04-2.57063262e-04j,\n",
       "          3.29370580e-13-3.11013200e-13j],\n",
       "        [-7.49326170e-03-3.69287835e-03j,\n",
       "         -1.89023981e-11-1.02780421e-11j],\n",
       "        [-5.81962276e-01-8.13172784e-01j,\n",
       "          3.24923898e-11-3.55310056e-12j],\n",
       "        [ 3.92218227e-11-1.65170116e-13j,\n",
       "          8.16361820e-01+1.16700362e-02j],\n",
       "        [ 2.80879084e-11-5.03379797e-11j,\n",
       "         -5.77422291e-01-8.28994069e-04j]]])</details></samp><samp style='font-size: 12px;'><details><summary><b style=\"color: #e55471;\">Tensor</b>(shape=(<b style=\"color: #39acd6;\">8</b>, <b style=\"color: #39acd6;\">8</b>, <b style=\"color: #828fdd;\">2</b>), inds=[<b style=\"color: #cdbd4a;\">_f485ffAAAAQ</b>, <b style=\"color: #cfd163;\">_f485ffAAAAR</b>, <b style=\"color: #53e08f;\">k7</b>], tags={<b style=\"color: #74d649;\">0</b>, <b style=\"color: #45ce3d;\">1</b>, <b style=\"color: #828fdd;\">2</b>, <b style=\"color: #8a5bcf;\">3</b>, <b style=\"color: #80d749;\">4</b>, <b style=\"color: #7355d7;\">5</b>, <b style=\"color: #a4de79;\">6</b>, <b style=\"color: #7930d2;\">7</b>, <b style=\"color: #39acd6;\">8</b>, <b style=\"color: #c14bdb;\">9</b>, <b style=\"color: #31d651;\">10</b>, <b style=\"color: #5582d6;\">I7</b>, <b style=\"color: #d3b991;\">PSI0</b>, <b style=\"color: #de94a1;\">GATE_75</b>, <b style=\"color: #b847d9;\">GATE_80</b>, <b style=\"color: #cebd78;\">GATE_84</b>, <b style=\"color: #75d0ca;\">GATE_89</b>, <b style=\"color: #8dd89d;\">GATE_93</b>, <b style=\"color: #e37ed3;\">GATE_98</b>, <b style=\"color: #a236d5;\">GATE_101</b>, <b style=\"color: #a2d946;\">GATE_105</b>, <b style=\"color: #9e79df;\">GATE_107</b>, <b style=\"color: #de5270;\">GATE_109</b>, <b style=\"color: #d696af;\">GATE_111</b>, <b style=\"color: #a7cd2b;\">GATE_113</b>, <b style=\"color: #bedd87;\">GATE_116</b>, <b style=\"color: #c8dd4f;\">GATE_129</b>, <b style=\"color: #d18cc3;\">GATE_133</b>, <b style=\"color: #d281bc;\">GATE_135</b>, <b style=\"color: #a583d8;\">GATE_137</b>, <b style=\"color: #e0bd2f;\">GATE_139</b>, <b style=\"color: #7a99ce;\">GATE_141</b>, <b style=\"color: #3e7ed4;\">GATE_143</b>, <b style=\"color: #6fdd74;\">GATE_146</b>, <b style=\"color: #93d685;\">GATE_203</b>, <b style=\"color: #8aa5d6;\">GATE_208</b>, <b style=\"color: #b9e58c;\">GATE_212</b>, <b style=\"color: #339cd7;\">GATE_217</b>}),</summary>backend=<b style=\"color: #7fdd73;\">numpy</b>, dtype=<b style=\"color: #443ce1;\">complex128</b>, data=...</details></samp><samp style='font-size: 12px;'><details><summary><b style=\"color: #e55471;\">Tensor</b>(shape=(<b style=\"color: #39acd6;\">8</b>, <b style=\"color: #80d749;\">4</b>, <b style=\"color: #828fdd;\">2</b>), inds=[<b style=\"color: #cfd163;\">_f485ffAAAAR</b>, <b style=\"color: #638ad6;\">_f485ffAAAAS</b>, <b style=\"color: #7bcd9f;\">k8</b>], tags={<b style=\"color: #74d649;\">0</b>, <b style=\"color: #45ce3d;\">1</b>, <b style=\"color: #828fdd;\">2</b>, <b style=\"color: #8a5bcf;\">3</b>, <b style=\"color: #80d749;\">4</b>, <b style=\"color: #7355d7;\">5</b>, <b style=\"color: #a4de79;\">6</b>, <b style=\"color: #7930d2;\">7</b>, <b style=\"color: #39acd6;\">8</b>, <b style=\"color: #c14bdb;\">9</b>, <b style=\"color: #31d651;\">10</b>, <b style=\"color: #8a3dd8;\">I8</b>, <b style=\"color: #d3b991;\">PSI0</b>, <b style=\"color: #cd7c51;\">GATE_151</b>, <b style=\"color: #d648d4;\">GATE_153</b>, <b style=\"color: #bfd68e;\">GATE_155</b>, <b style=\"color: #3bd27f;\">GATE_157</b>, <b style=\"color: #4e92d6;\">GATE_159</b>, <b style=\"color: #9e5bd3;\">GATE_162</b>, <b style=\"color: #e4b135;\">GATE_175</b>, <b style=\"color: #7ee0bd;\">GATE_179</b>, <b style=\"color: #81a1e0;\">GATE_181</b>, <b style=\"color: #dfa799;\">GATE_183</b>, <b style=\"color: #3a2ed2;\">GATE_185</b>, <b style=\"color: #6b30df;\">GATE_187</b>, <b style=\"color: #8b5dde;\">GATE_189</b>, <b style=\"color: #79cdd9;\">GATE_192</b>}),</summary>backend=<b style=\"color: #7fdd73;\">numpy</b>, dtype=<b style=\"color: #443ce1;\">complex128</b>, data=array([[[-9.98745478e-01+4.81480827e-16j,\n",
       "         -5.00199872e-03-3.69550914e-16j],\n",
       "        [-1.32567106e-03+1.48647154e-16j,\n",
       "          2.64695785e-01-8.90536808e-15j],\n",
       "        [-2.56665532e-12+7.81772546e-13j,\n",
       "         -3.00313196e-11-1.96128263e-09j],\n",
       "        [-2.21082991e-12-5.59123063e-12j,\n",
       "          9.74787123e-11+1.03457100e-09j]],\n",
       "\n",
       "       [[-2.46581926e-04+2.83297570e-19j,\n",
       "          2.49064262e-04+4.06842559e-16j],\n",
       "        [-1.33126661e-02+1.77053304e-16j,\n",
       "         -1.31799835e-02+5.49607218e-16j],\n",
       "        [ 5.14600344e-09-1.56741117e-09j,\n",
       "         -5.80067396e-09-3.78056515e-08j],\n",
       "        [ 4.43259297e-09+1.12101114e-08j,\n",
       "         -2.51931235e-09+9.45505926e-09j]],\n",
       "\n",
       "       [[ 2.62954869e-16+4.00095918e-32j,\n",
       "          1.17691997e-15+2.15627285e-17j],\n",
       "        [-1.39150467e-14+8.41518900e-29j,\n",
       "          1.43004958e-14+5.77226271e-18j],\n",
       "        [-1.05157584e-08+4.45125217e-09j,\n",
       "          9.28708259e-09-2.77031175e-09j],\n",
       "        [ 1.13870718e-08-5.37292340e-09j,\n",
       "          1.82048490e-08+4.53133641e-09j]],\n",
       "\n",
       "       [[-8.93980705e-18-6.77085399e-32j,\n",
       "          2.33941196e-16+2.04282171e-16j],\n",
       "        [ 4.73076740e-16+9.92029369e-28j,\n",
       "         -4.12844699e-16+5.46855821e-17j],\n",
       "        [-1.25829742e-08+1.22796224e-08j,\n",
       "          9.00870133e-09-5.82384365e-09j],\n",
       "        [-8.28725418e-09+9.39525127e-09j,\n",
       "          8.56253641e-09-5.14970027e-09j]],\n",
       "\n",
       "       [[-7.71902399e-19+3.22192626e-33j,\n",
       "          6.09607659e-17-4.79827237e-18j],\n",
       "        [ 4.08475337e-17-5.28991183e-29j,\n",
       "         -2.47351974e-17-1.28447978e-18j],\n",
       "        [-1.23257238e-12-2.84906362e-10j,\n",
       "         -2.11752167e-10+2.54610142e-10j],\n",
       "        [-8.47726985e-11-1.91863735e-10j,\n",
       "          9.56019209e-11+5.88387187e-11j]],\n",
       "\n",
       "       [[ 5.64806205e-20-2.11589187e-33j,\n",
       "         -6.55057916e-20+7.65933218e-19j],\n",
       "        [-2.98884167e-18+8.51069720e-30j,\n",
       "          2.98642566e-18+2.05037491e-19j],\n",
       "        [ 1.49782286e-10-1.94257398e-11j,\n",
       "          6.11740721e-11+6.78976052e-11j],\n",
       "        [-2.71100977e-10+1.17972973e-10j,\n",
       "          5.33511621e-11-8.00596389e-11j]],\n",
       "\n",
       "       [[-1.44747850e-20-1.02187960e-34j,\n",
       "          2.60880690e-19-6.15058181e-19j],\n",
       "        [ 7.65976722e-19+1.86927881e-30j,\n",
       "         -7.00014772e-19-1.64648802e-19j],\n",
       "        [ 2.66247260e-11-9.16514222e-12j,\n",
       "          2.20112163e-11-5.66514926e-11j],\n",
       "        [-1.91237765e-11-2.15101472e-12j,\n",
       "          3.96053978e-11+1.22300859e-10j]],\n",
       "\n",
       "       [[ 1.60614378e-20+1.32243242e-34j,\n",
       "         -5.44082387e-20-1.16506478e-19j],\n",
       "        [-8.49939221e-19-1.88726837e-30j,\n",
       "          8.39673924e-19-3.11883534e-20j],\n",
       "        [-1.83164128e-11-1.24380790e-12j,\n",
       "         -3.55338031e-11-1.34984714e-11j],\n",
       "        [-4.88909664e-11+1.99122610e-11j,\n",
       "         -4.30082237e-11+1.54486048e-11j]]])</details></samp><samp style='font-size: 12px;'><details><summary><b style=\"color: #e55471;\">Tensor</b>(shape=(<b style=\"color: #80d749;\">4</b>, <b style=\"color: #828fdd;\">2</b>, <b style=\"color: #828fdd;\">2</b>), inds=[<b style=\"color: #638ad6;\">_f485ffAAAAS</b>, <b style=\"color: #b3da7e;\">_f485ffAAAAT</b>, <b style=\"color: #cc70c1;\">k9</b>], tags={<b style=\"color: #74d649;\">0</b>, <b style=\"color: #45ce3d;\">1</b>, <b style=\"color: #828fdd;\">2</b>, <b style=\"color: #8a5bcf;\">3</b>, <b style=\"color: #80d749;\">4</b>, <b style=\"color: #7355d7;\">5</b>, <b style=\"color: #a4de79;\">6</b>, <b style=\"color: #7930d2;\">7</b>, <b style=\"color: #39acd6;\">8</b>, <b style=\"color: #c14bdb;\">9</b>, <b style=\"color: #31d651;\">10</b>, <b style=\"color: #d74979;\">I9</b>, <b style=\"color: #d3b991;\">PSI0</b>, <b style=\"color: #cfb283;\">GATE_79</b>, <b style=\"color: #8c64d6;\">GATE_86</b>, <b style=\"color: #b7d375;\">GATE_95</b>, <b style=\"color: #cd39a5;\">GATE_102</b>, <b style=\"color: #b883d9;\">GATE_150</b>, <b style=\"color: #da5347;\">GATE_160</b>, <b style=\"color: #76e5d7;\">GATE_164</b>, <b style=\"color: #90d0cb;\">GATE_166</b>, <b style=\"color: #c292d3;\">GATE_168</b>, <b style=\"color: #5d88ce;\">GATE_170</b>, <b style=\"color: #cdbb82;\">GATE_172</b>, <b style=\"color: #82e2b2;\">GATE_174</b>, <b style=\"color: #dc5073;\">GATE_177</b>, <b style=\"color: #a658e3;\">GATE_190</b>, <b style=\"color: #d49487;\">GATE_194</b>, <b style=\"color: #d2983e;\">GATE_199</b>, <b style=\"color: #b7d977;\">GATE_206</b>, <b style=\"color: #46d3b9;\">GATE_215</b>, <b style=\"color: #b671cf;\">GATE_222</b>}),</summary>backend=<b style=\"color: #7fdd73;\">numpy</b>, dtype=<b style=\"color: #443ce1;\">complex128</b>, data=array([[[-7.03555342e-01+0.00000000e+00j,\n",
       "         -7.07123420e-01-6.85058596e-16j],\n",
       "        [-3.54731552e-02+1.89075980e-16j,\n",
       "          3.52941610e-02-5.97021897e-16j]],\n",
       "\n",
       "       [[-1.32951982e-02+0.00000000e+00j,\n",
       "          3.36279944e-05-4.63929881e-16j],\n",
       "        [-6.70341905e-04-3.53745368e-15j,\n",
       "         -2.65027060e-01-8.37144570e-15j]],\n",
       "\n",
       "       [[ 3.25779753e-08+0.00000000e+00j,\n",
       "         -3.26714401e-08+4.27511210e-11j],\n",
       "        [ 3.50102033e-09-8.50058079e-10j,\n",
       "         -1.64728913e-09+2.15550513e-12j]],\n",
       "\n",
       "       [[-2.53182428e-09+0.00000000e+00j,\n",
       "          9.54493469e-10+2.58979775e-10j],\n",
       "        [ 3.12357994e-08-5.14952227e-09j,\n",
       "          4.81254180e-11+1.30577215e-11j]]])</details></samp><samp style='font-size: 12px;'><details><summary><b style=\"color: #e55471;\">Tensor</b>(shape=(<b style=\"color: #828fdd;\">2</b>, <b style=\"color: #828fdd;\">2</b>), inds=[<b style=\"color: #b3da7e;\">_f485ffAAAAT</b>, <b style=\"color: #3fcf58;\">k10</b>], tags={<b style=\"color: #74d649;\">0</b>, <b style=\"color: #45ce3d;\">1</b>, <b style=\"color: #828fdd;\">2</b>, <b style=\"color: #8a5bcf;\">3</b>, <b style=\"color: #80d749;\">4</b>, <b style=\"color: #7355d7;\">5</b>, <b style=\"color: #a4de79;\">6</b>, <b style=\"color: #7930d2;\">7</b>, <b style=\"color: #39acd6;\">8</b>, <b style=\"color: #c14bdb;\">9</b>, <b style=\"color: #31d651;\">10</b>, <b style=\"color: #4e2bd3;\">I10</b>, <b style=\"color: #d3b991;\">PSI0</b>, <b style=\"color: #53d4b1;\">GATE_83</b>, <b style=\"color: #b6e595;\">GATE_88</b>, <b style=\"color: #c4e57a;\">GATE_92</b>, <b style=\"color: #a786ce;\">GATE_97</b>, <b style=\"color: #d8e156;\">GATE_114</b>, <b style=\"color: #65d5a0;\">GATE_118</b>, <b style=\"color: #70e3cd;\">GATE_120</b>, <b style=\"color: #74e47c;\">GATE_122</b>, <b style=\"color: #88d9a4;\">GATE_124</b>, <b style=\"color: #879acf;\">GATE_126</b>, <b style=\"color: #a441de;\">GATE_128</b>, <b style=\"color: #63e1a7;\">GATE_131</b>, <b style=\"color: #51b5d3;\">GATE_144</b>, <b style=\"color: #de804b;\">GATE_148</b>, <b style=\"color: #70e45f;\">GATE_163</b>, <b style=\"color: #4530d2;\">GATE_178</b>, <b style=\"color: #63dcb0;\">GATE_193</b>}),</summary>backend=<b style=\"color: #7fdd73;\">numpy</b>, dtype=<b style=\"color: #443ce1;\">complex128</b>, data=array([[-9.98731338e-01-1.76583116e-21j,  3.14259054e-17+5.03558847e-02j],\n",
       "       [-5.03558847e-02+2.11776317e-18j, -6.65288717e-16-9.98731338e-01j]])</details></samp></details></samp>"
      ],
      "text/plain": [
       "MatrixProductState(tensors=11, indices=21, L=11, max_bond=8)"
      ]
     },
     "execution_count": 27,
     "metadata": {},
     "output_type": "execute_result"
    }
   ],
   "source": [
    "obj._interface._circuitMPS.psi"
   ]
  },
  {
   "cell_type": "code",
   "execution_count": 28,
   "metadata": {},
   "outputs": [
    {
     "data": {
      "image/png": "[encoded data removed]",
      "text/plain": [
       "<Figure size 600x600 with 1 Axes>"
      ]
     },
     "metadata": {
      "needs_background": "light"
     },
     "output_type": "display_data"
    }
   ],
   "source": [
    "obj._interface.draw_state()"
   ]
  },
  {
   "cell_type": "code",
   "execution_count": 29,
   "metadata": {},
   "outputs": [
    {
     "data": {
      "text/plain": [
       "array([[-1.94136710e-15-3.51640537e-02j],\n",
       "       [ 2.16268676e-16+3.79152091e-16j],\n",
       "       [-1.73859603e-15-3.51640537e-02j],\n",
       "       ...,\n",
       "       [ 1.83368191e-45-5.35387454e-46j],\n",
       "       [ 3.35182524e-45+2.04715710e-49j],\n",
       "       [ 3.03831577e-46+3.36769987e-46j]])"
      ]
     },
     "execution_count": 29,
     "metadata": {},
     "output_type": "execute_result"
    }
   ],
   "source": [
    "obj._interface._circuitMPS.psi.to_dense()"
   ]
  },
  {
   "cell_type": "code",
   "execution_count": 30,
   "metadata": {},
   "outputs": [],
   "source": [
    "# obj.compute_derivatives(tape)"
   ]
  },
  {
   "cell_type": "code",
   "execution_count": 31,
   "metadata": {},
   "outputs": [],
   "source": [
    "# obj._interface.state_to_array()"
   ]
  },
  {
   "cell_type": "code",
   "execution_count": 32,
   "metadata": {},
   "outputs": [
    {
     "data": {
      "text/html": [
       "<samp style='font-size: 12px;'><details><summary><b style=\"color: #d75692;\">MatrixProductState</b>(tensors=11, indices=21, L=11, max_bond=8)</summary><samp style='font-size: 12px;'><details><summary><b style=\"color: #e55471;\">Tensor</b>(shape=(<b style=\"color: #828fdd;\">2</b>, <b style=\"color: #828fdd;\">2</b>), inds=[<b style=\"color: #93d237;\">_f485ffAAAAK</b>, <b style=\"color: #b1dc61;\">k0</b>], tags={<b style=\"color: #74d649;\">0</b>, <b style=\"color: #45ce3d;\">1</b>, <b style=\"color: #828fdd;\">2</b>, <b style=\"color: #8a5bcf;\">3</b>, <b style=\"color: #80d749;\">4</b>, <b style=\"color: #7355d7;\">5</b>, <b style=\"color: #a4de79;\">6</b>, <b style=\"color: #7930d2;\">7</b>, <b style=\"color: #39acd6;\">8</b>, <b style=\"color: #c14bdb;\">9</b>, <b style=\"color: #31d651;\">10</b>, <b style=\"color: #d2b137;\">I0</b>, <b style=\"color: #d3b991;\">PSI0</b>, <b style=\"color: #394bd1;\">GATE_3</b>, <b style=\"color: #da9170;\">GATE_7</b>, <b style=\"color: #e3a694;\">GATE_12</b>, <b style=\"color: #d8e230;\">GATE_16</b>, <b style=\"color: #4fe13d;\">GATE_21</b>, <b style=\"color: #9fe3c6;\">GATE_24</b>}),</summary>backend=<b style=\"color: #7fdd73;\">numpy</b>, dtype=<b style=\"color: #443ce1;\">complex128</b>, data=array([[1.+0.j, 0.+0.j],\n",
       "       [0.+0.j, 1.+0.j]])</details></samp><samp style='font-size: 12px;'><details><summary><b style=\"color: #e55471;\">Tensor</b>(shape=(<b style=\"color: #828fdd;\">2</b>, <b style=\"color: #80d749;\">4</b>, <b style=\"color: #828fdd;\">2</b>), inds=[<b style=\"color: #93d237;\">_f485ffAAAAK</b>, <b style=\"color: #ccba83;\">_f485ffAAAAL</b>, <b style=\"color: #8aa5db;\">k1</b>], tags={<b style=\"color: #74d649;\">0</b>, <b style=\"color: #45ce3d;\">1</b>, <b style=\"color: #828fdd;\">2</b>, <b style=\"color: #8a5bcf;\">3</b>, <b style=\"color: #80d749;\">4</b>, <b style=\"color: #7355d7;\">5</b>, <b style=\"color: #a4de79;\">6</b>, <b style=\"color: #7930d2;\">7</b>, <b style=\"color: #39acd6;\">8</b>, <b style=\"color: #c14bdb;\">9</b>, <b style=\"color: #31d651;\">10</b>, <b style=\"color: #d19b78;\">I1</b>, <b style=\"color: #d3b991;\">PSI0</b>, <b style=\"color: #bade88;\">GATE_6</b>, <b style=\"color: #3bd699;\">GATE_11</b>, <b style=\"color: #71d75c;\">GATE_15</b>, <b style=\"color: #dfa87e;\">GATE_20</b>}),</summary>backend=<b style=\"color: #7fdd73;\">numpy</b>, dtype=<b style=\"color: #443ce1;\">complex128</b>, data=array([[[-1.00000000e+00+0.j,  1.49385175e-31+0.j],\n",
       "        [ 0.00000000e+00-0.j,  0.00000000e+00-0.j],\n",
       "        [ 4.97552581e-47+0.j,  3.33066907e-16+0.j],\n",
       "        [ 1.49385175e-31+0.j,  1.00000000e+00+0.j]],\n",
       "\n",
       "       [[ 0.00000000e+00+0.j,  0.00000000e+00+0.j],\n",
       "        [-3.97317224e-01+0.j, -9.17681330e-01+0.j],\n",
       "        [-9.17681330e-01+0.j,  3.97317224e-01+0.j],\n",
       "        [ 3.33066907e-16+0.j, -1.11022302e-16+0.j]]])</details></samp><samp style='font-size: 12px;'><details><summary><b style=\"color: #e55471;\">Tensor</b>(shape=(<b style=\"color: #80d749;\">4</b>, <b style=\"color: #828fdd;\">2</b>, <b style=\"color: #828fdd;\">2</b>), inds=[<b style=\"color: #ccba83;\">_f485ffAAAAL</b>, <b style=\"color: #d39335;\">_f485ffAAAAM</b>, <b style=\"color: #df546d;\">k2</b>], tags={<b style=\"color: #74d649;\">0</b>, <b style=\"color: #45ce3d;\">1</b>, <b style=\"color: #828fdd;\">2</b>, <b style=\"color: #8a5bcf;\">3</b>, <b style=\"color: #80d749;\">4</b>, <b style=\"color: #7355d7;\">5</b>, <b style=\"color: #a4de79;\">6</b>, <b style=\"color: #7930d2;\">7</b>, <b style=\"color: #39acd6;\">8</b>, <b style=\"color: #c14bdb;\">9</b>, <b style=\"color: #31d651;\">10</b>, <b style=\"color: #dd5dd7;\">I2</b>, <b style=\"color: #d3b991;\">PSI0</b>}),</summary>backend=<b style=\"color: #7fdd73;\">numpy</b>, dtype=<b style=\"color: #443ce1;\">complex128</b>, data=array([[[-1.00000000e+00+0.j,  0.00000000e+00+0.j],\n",
       "        [-1.49306920e-16-0.j,  0.00000000e+00-0.j]],\n",
       "\n",
       "       [[-5.92549258e-93+0.j, -1.60605509e-16+0.j],\n",
       "        [ 9.34364464e-47+0.j,  9.97595546e-01+0.j]],\n",
       "\n",
       "       [[-2.71959706e-78+0.j,  1.57455951e-16+0.j],\n",
       "        [ 4.28841116e-32+0.j,  6.93045915e-02+0.j]],\n",
       "\n",
       "       [[-6.12398816e-63+0.j,  0.00000000e+00+0.j],\n",
       "        [ 9.65664345e-17+0.j,  0.00000000e+00+0.j]]])</details></samp><samp style='font-size: 12px;'><details><summary><b style=\"color: #e55471;\">Tensor</b>(shape=(<b style=\"color: #828fdd;\">2</b>, <b style=\"color: #45ce3d;\">1</b>, <b style=\"color: #828fdd;\">2</b>), inds=[<b style=\"color: #d39335;\">_f485ffAAAAM</b>, <b style=\"color: #60e24c;\">_f485ffAAAAN</b>, <b style=\"color: #4c7be1;\">k3</b>], tags={<b style=\"color: #74d649;\">0</b>, <b style=\"color: #45ce3d;\">1</b>, <b style=\"color: #828fdd;\">2</b>, <b style=\"color: #8a5bcf;\">3</b>, <b style=\"color: #80d749;\">4</b>, <b style=\"color: #7355d7;\">5</b>, <b style=\"color: #a4de79;\">6</b>, <b style=\"color: #7930d2;\">7</b>, <b style=\"color: #39acd6;\">8</b>, <b style=\"color: #c14bdb;\">9</b>, <b style=\"color: #31d651;\">10</b>, <b style=\"color: #dd65d9;\">I3</b>, <b style=\"color: #d3b991;\">PSI0</b>, <b style=\"color: #64dc8a;\">GATE_2</b>, <b style=\"color: #de70db;\">GATE_9</b>, <b style=\"color: #a4cd58;\">GATE_18</b>, <b style=\"color: #56cf38;\">GATE_25</b>}),</summary>backend=<b style=\"color: #7fdd73;\">numpy</b>, dtype=<b style=\"color: #443ce1;\">complex128</b>, data=array([[[ 1.00000000e+00+0.j,  1.34638103e-16+0.j]],\n",
       "\n",
       "       [[ 8.14271973e-32+0.j, -6.04785686e-16+0.j]]])</details></samp><samp style='font-size: 12px;'><details><summary><b style=\"color: #e55471;\">Tensor</b>(shape=(<b style=\"color: #45ce3d;\">1</b>, <b style=\"color: #828fdd;\">2</b>, <b style=\"color: #828fdd;\">2</b>), inds=[<b style=\"color: #60e24c;\">_f485ffAAAAN</b>, <b style=\"color: #7e6bd6;\">_f485ffAAAAO</b>, <b style=\"color: #462edc;\">k4</b>], tags={<b style=\"color: #74d649;\">0</b>, <b style=\"color: #45ce3d;\">1</b>, <b style=\"color: #828fdd;\">2</b>, <b style=\"color: #8a5bcf;\">3</b>, <b style=\"color: #80d749;\">4</b>, <b style=\"color: #7355d7;\">5</b>, <b style=\"color: #a4de79;\">6</b>, <b style=\"color: #7930d2;\">7</b>, <b style=\"color: #39acd6;\">8</b>, <b style=\"color: #c14bdb;\">9</b>, <b style=\"color: #31d651;\">10</b>, <b style=\"color: #998ad1;\">I4</b>, <b style=\"color: #d3b991;\">PSI0</b>, <b style=\"color: #8ed0e1;\">GATE_28</b>, <b style=\"color: #b776d2;\">GATE_29</b>, <b style=\"color: #9f5bd1;\">GATE_30</b>, <b style=\"color: #6785d3;\">GATE_32</b>, <b style=\"color: #ac6be4;\">GATE_34</b>, <b style=\"color: #d878b9;\">GATE_36</b>, <b style=\"color: #41d56c;\">GATE_38</b>, <b style=\"color: #5373d2;\">GATE_41</b>, <b style=\"color: #53e04b;\">GATE_54</b>, <b style=\"color: #e14a48;\">GATE_58</b>, <b style=\"color: #2fd2cf;\">GATE_60</b>, <b style=\"color: #8cd492;\">GATE_62</b>, <b style=\"color: #54cedf;\">GATE_64</b>, <b style=\"color: #da8cd0;\">GATE_66</b>, <b style=\"color: #d666a7;\">GATE_68</b>, <b style=\"color: #d12f74;\">GATE_71</b>, <b style=\"color: #d992b1;\">GATE_117</b>, <b style=\"color: #9dcee4;\">GATE_132</b>, <b style=\"color: #39d176;\">GATE_147</b>, <b style=\"color: #475ee4;\">GATE_200</b>, <b style=\"color: #9ee086;\">GATE_204</b>, <b style=\"color: #71df2f;\">GATE_209</b>, <b style=\"color: #93dab6;\">GATE_213</b>, <b style=\"color: #a64adf;\">GATE_218</b>, <b style=\"color: #58e1ab;\">GATE_221</b>}),</summary>backend=<b style=\"color: #7fdd73;\">numpy</b>, dtype=<b style=\"color: #443ce1;\">complex128</b>, data=array([[[-4.94847129e-02-1.30423606e-20j,\n",
       "          5.12492286e-14-9.98774881e-01j],\n",
       "        [-9.98774881e-01+1.97391842e-17j,\n",
       "         -2.53817311e-15+4.94847129e-02j]]])</details></samp><samp style='font-size: 12px;'><details><summary><b style=\"color: #e55471;\">Tensor</b>(shape=(<b style=\"color: #828fdd;\">2</b>, <b style=\"color: #80d749;\">4</b>, <b style=\"color: #828fdd;\">2</b>), inds=[<b style=\"color: #7e6bd6;\">_f485ffAAAAO</b>, <b style=\"color: #a38ee4;\">_f485ffAAAAP</b>, <b style=\"color: #85dfdf;\">k5</b>], tags={<b style=\"color: #74d649;\">0</b>, <b style=\"color: #45ce3d;\">1</b>, <b style=\"color: #828fdd;\">2</b>, <b style=\"color: #8a5bcf;\">3</b>, <b style=\"color: #80d749;\">4</b>, <b style=\"color: #7355d7;\">5</b>, <b style=\"color: #a4de79;\">6</b>, <b style=\"color: #7930d2;\">7</b>, <b style=\"color: #39acd6;\">8</b>, <b style=\"color: #c14bdb;\">9</b>, <b style=\"color: #31d651;\">10</b>, <b style=\"color: #97dddc;\">I5</b>, <b style=\"color: #d3b991;\">PSI0</b>, <b style=\"color: #e1c97a;\">GATE_42</b>, <b style=\"color: #e2ba6c;\">GATE_57</b>, <b style=\"color: #b9db52;\">GATE_72</b>}),</summary>backend=<b style=\"color: #7fdd73;\">numpy</b>, dtype=<b style=\"color: #443ce1;\">complex128</b>, data=array([[[-1.00000000e+00-1.80560394e-35j,\n",
       "         -1.24728812e-21-8.92154800e-21j],\n",
       "        [ 2.11702473e-19+3.56646081e-35j,\n",
       "          1.32026990e-40-3.54078561e-19j],\n",
       "        [ 1.36840807e-19+9.40895170e-20j,\n",
       "          4.69961304e-01+6.02742778e-01j],\n",
       "        [ 1.91691344e-19+6.75191884e-20j,\n",
       "         -4.90314360e-01-4.18842864e-01j]],\n",
       "\n",
       "       [[ 1.35528621e-19+1.62634345e-19j,\n",
       "         -1.08263725e-19+2.38915198e-19j],\n",
       "        [ 6.40184400e-01+7.68221280e-01j,\n",
       "          2.44325177e-18-1.26275004e-18j],\n",
       "        [-1.62182943e-39-1.11022302e-16j,\n",
       "         -5.39491759e-01+3.53250843e-01j],\n",
       "        [ 6.93889390e-18+1.11022302e-16j,\n",
       "         -5.42635003e-01+5.38246911e-01j]]])</details></samp><samp style='font-size: 12px;'><details><summary><b style=\"color: #e55471;\">Tensor</b>(shape=(<b style=\"color: #80d749;\">4</b>, <b style=\"color: #39acd6;\">8</b>, <b style=\"color: #828fdd;\">2</b>), inds=[<b style=\"color: #a38ee4;\">_f485ffAAAAP</b>, <b style=\"color: #cdbd4a;\">_f485ffAAAAQ</b>, <b style=\"color: #2cb7d3;\">k6</b>], tags={<b style=\"color: #74d649;\">0</b>, <b style=\"color: #45ce3d;\">1</b>, <b style=\"color: #828fdd;\">2</b>, <b style=\"color: #8a5bcf;\">3</b>, <b style=\"color: #80d749;\">4</b>, <b style=\"color: #7355d7;\">5</b>, <b style=\"color: #a4de79;\">6</b>, <b style=\"color: #7930d2;\">7</b>, <b style=\"color: #39acd6;\">8</b>, <b style=\"color: #c14bdb;\">9</b>, <b style=\"color: #31d651;\">10</b>, <b style=\"color: #b2de5f;\">I6</b>, <b style=\"color: #d3b991;\">PSI0</b>, <b style=\"color: #81e4a5;\">GATE_39</b>, <b style=\"color: #ce2b3b;\">GATE_43</b>, <b style=\"color: #c659e3;\">GATE_45</b>, <b style=\"color: #4d78d7;\">GATE_47</b>, <b style=\"color: #a98de3;\">GATE_49</b>, <b style=\"color: #e2df85;\">GATE_51</b>, <b style=\"color: #da53d5;\">GATE_53</b>, <b style=\"color: #8cd1ce;\">GATE_56</b>, <b style=\"color: #acd280;\">GATE_69</b>, <b style=\"color: #de448f;\">GATE_73</b>}),</summary>backend=<b style=\"color: #7fdd73;\">numpy</b>, dtype=<b style=\"color: #443ce1;\">complex128</b>, data=array([[[-1.00000000e+00-3.08245194e-36j,\n",
       "          5.43781475e-17+2.02861645e-16j],\n",
       "        [-1.21220484e-19+2.85877894e-32j,\n",
       "         -2.22044605e-16-1.21847477e-15j],\n",
       "        [ 3.89419788e-16-4.21877159e-23j,\n",
       "          9.07854894e-03-1.55254468e-02j],\n",
       "        [ 2.15039933e-16+3.10265170e-21j,\n",
       "          2.36419810e-01+9.71483779e-01j],\n",
       "        [-4.24254064e-19-3.66028990e-24j,\n",
       "         -1.61327339e-04-1.16823876e-03j],\n",
       "        [ 2.76843446e-20-9.27431506e-25j,\n",
       "         -8.88402674e-05-2.86968817e-04j],\n",
       "        [-1.22604528e-28-9.24453796e-29j,\n",
       "          2.10684171e-13-4.83075457e-13j],\n",
       "        [ 3.02662075e-30+3.69794197e-29j,\n",
       "         -7.52660375e-14+1.40356013e-14j]],\n",
       "\n",
       "       [[ 5.42114483e-20-1.08422897e-19j,\n",
       "          2.43190159e-16+3.07634265e-16j],\n",
       "        [-4.47213596e-01+8.94427191e-01j,\n",
       "         -6.77187432e-15-3.76231035e-15j],\n",
       "        [-5.87377369e-15+5.01682029e-15j,\n",
       "          6.14660433e-01+7.88586609e-01j],\n",
       "        [-5.55111512e-16+1.30451205e-15j,\n",
       "          1.78064559e-02+2.52478133e-03j],\n",
       "        [ 3.25260652e-18-3.90312782e-18j,\n",
       "         -3.43873765e-04-3.08365615e-04j],\n",
       "        [-1.13841228e-18+8.47032947e-19j,\n",
       "          1.48319959e-04+1.77679575e-04j],\n",
       "        [-1.56510004e-27+8.07793567e-28j,\n",
       "          5.63351001e-14-7.60845942e-14j],\n",
       "        [ 3.66031460e-28-3.78653235e-29j,\n",
       "          2.87640321e-15+6.71845097e-15j]],\n",
       "\n",
       "       [[-6.58293104e-37+5.64251232e-37j,\n",
       "         -1.31426839e-29-2.42681128e-29j],\n",
       "        [ 5.84158032e-33+5.41225319e-33j,\n",
       "         -9.17875831e-28+8.50955446e-28j],\n",
       "        [-3.50961031e-04+2.73590989e-04j,\n",
       "         -8.06463566e-15-6.83400706e-14j],\n",
       "        [-7.12746996e-04+9.46041873e-04j,\n",
       "          2.01016699e-13-8.62289803e-14j],\n",
       "        [-6.82895022e-01+7.30467657e-01j,\n",
       "         -3.93258964e-11+2.12912279e-12j],\n",
       "        [ 7.91045294e-03-2.68592131e-03j,\n",
       "         -8.82776138e-12+6.10920370e-11j],\n",
       "        [-2.18311946e-11+3.22624157e-11j,\n",
       "          5.76858896e-01+2.55147709e-02j],\n",
       "        [-2.04135221e-11+9.85437412e-12j,\n",
       "          8.16044225e-01+2.55858089e-02j]],\n",
       "\n",
       "       [[-9.40418720e-37+3.76167488e-37j,\n",
       "         -2.22588882e-29+1.23406566e-30j],\n",
       "        [ 2.57197384e-34-2.84111105e-33j,\n",
       "         -1.68451630e-27+2.00343465e-27j],\n",
       "        [ 1.24150291e-04+1.95738267e-04j,\n",
       "          2.41910371e-15-8.09796106e-14j],\n",
       "        [-1.64687294e-04-2.57063262e-04j,\n",
       "          3.29370580e-13-3.11013200e-13j],\n",
       "        [-7.49326170e-03-3.69287835e-03j,\n",
       "         -1.89023981e-11-1.02780421e-11j],\n",
       "        [-5.81962276e-01-8.13172784e-01j,\n",
       "          3.24923898e-11-3.55310056e-12j],\n",
       "        [ 3.92218227e-11-1.65170116e-13j,\n",
       "          8.16361820e-01+1.16700362e-02j],\n",
       "        [ 2.80879084e-11-5.03379797e-11j,\n",
       "         -5.77422291e-01-8.28994069e-04j]]])</details></samp><samp style='font-size: 12px;'><details><summary><b style=\"color: #e55471;\">Tensor</b>(shape=(<b style=\"color: #39acd6;\">8</b>, <b style=\"color: #39acd6;\">8</b>, <b style=\"color: #828fdd;\">2</b>), inds=[<b style=\"color: #cdbd4a;\">_f485ffAAAAQ</b>, <b style=\"color: #cfd163;\">_f485ffAAAAR</b>, <b style=\"color: #53e08f;\">k7</b>], tags={<b style=\"color: #74d649;\">0</b>, <b style=\"color: #45ce3d;\">1</b>, <b style=\"color: #828fdd;\">2</b>, <b style=\"color: #8a5bcf;\">3</b>, <b style=\"color: #80d749;\">4</b>, <b style=\"color: #7355d7;\">5</b>, <b style=\"color: #a4de79;\">6</b>, <b style=\"color: #7930d2;\">7</b>, <b style=\"color: #39acd6;\">8</b>, <b style=\"color: #c14bdb;\">9</b>, <b style=\"color: #31d651;\">10</b>, <b style=\"color: #5582d6;\">I7</b>, <b style=\"color: #d3b991;\">PSI0</b>, <b style=\"color: #de94a1;\">GATE_75</b>, <b style=\"color: #b847d9;\">GATE_80</b>, <b style=\"color: #cebd78;\">GATE_84</b>, <b style=\"color: #75d0ca;\">GATE_89</b>, <b style=\"color: #8dd89d;\">GATE_93</b>, <b style=\"color: #e37ed3;\">GATE_98</b>, <b style=\"color: #a236d5;\">GATE_101</b>, <b style=\"color: #a2d946;\">GATE_105</b>, <b style=\"color: #9e79df;\">GATE_107</b>, <b style=\"color: #de5270;\">GATE_109</b>, <b style=\"color: #d696af;\">GATE_111</b>, <b style=\"color: #a7cd2b;\">GATE_113</b>, <b style=\"color: #bedd87;\">GATE_116</b>, <b style=\"color: #c8dd4f;\">GATE_129</b>, <b style=\"color: #d18cc3;\">GATE_133</b>, <b style=\"color: #d281bc;\">GATE_135</b>, <b style=\"color: #a583d8;\">GATE_137</b>, <b style=\"color: #e0bd2f;\">GATE_139</b>, <b style=\"color: #7a99ce;\">GATE_141</b>, <b style=\"color: #3e7ed4;\">GATE_143</b>, <b style=\"color: #6fdd74;\">GATE_146</b>, <b style=\"color: #93d685;\">GATE_203</b>, <b style=\"color: #8aa5d6;\">GATE_208</b>, <b style=\"color: #b9e58c;\">GATE_212</b>, <b style=\"color: #339cd7;\">GATE_217</b>}),</summary>backend=<b style=\"color: #7fdd73;\">numpy</b>, dtype=<b style=\"color: #443ce1;\">complex128</b>, data=...</details></samp><samp style='font-size: 12px;'><details><summary><b style=\"color: #e55471;\">Tensor</b>(shape=(<b style=\"color: #39acd6;\">8</b>, <b style=\"color: #80d749;\">4</b>, <b style=\"color: #828fdd;\">2</b>), inds=[<b style=\"color: #cfd163;\">_f485ffAAAAR</b>, <b style=\"color: #638ad6;\">_f485ffAAAAS</b>, <b style=\"color: #7bcd9f;\">k8</b>], tags={<b style=\"color: #74d649;\">0</b>, <b style=\"color: #45ce3d;\">1</b>, <b style=\"color: #828fdd;\">2</b>, <b style=\"color: #8a5bcf;\">3</b>, <b style=\"color: #80d749;\">4</b>, <b style=\"color: #7355d7;\">5</b>, <b style=\"color: #a4de79;\">6</b>, <b style=\"color: #7930d2;\">7</b>, <b style=\"color: #39acd6;\">8</b>, <b style=\"color: #c14bdb;\">9</b>, <b style=\"color: #31d651;\">10</b>, <b style=\"color: #8a3dd8;\">I8</b>, <b style=\"color: #d3b991;\">PSI0</b>, <b style=\"color: #cd7c51;\">GATE_151</b>, <b style=\"color: #d648d4;\">GATE_153</b>, <b style=\"color: #bfd68e;\">GATE_155</b>, <b style=\"color: #3bd27f;\">GATE_157</b>, <b style=\"color: #4e92d6;\">GATE_159</b>, <b style=\"color: #9e5bd3;\">GATE_162</b>, <b style=\"color: #e4b135;\">GATE_175</b>, <b style=\"color: #7ee0bd;\">GATE_179</b>, <b style=\"color: #81a1e0;\">GATE_181</b>, <b style=\"color: #dfa799;\">GATE_183</b>, <b style=\"color: #3a2ed2;\">GATE_185</b>, <b style=\"color: #6b30df;\">GATE_187</b>, <b style=\"color: #8b5dde;\">GATE_189</b>, <b style=\"color: #79cdd9;\">GATE_192</b>}),</summary>backend=<b style=\"color: #7fdd73;\">numpy</b>, dtype=<b style=\"color: #443ce1;\">complex128</b>, data=array([[[-9.98745478e-01+4.81480827e-16j,\n",
       "         -5.00199872e-03-3.69550914e-16j],\n",
       "        [-1.32567106e-03+1.48647154e-16j,\n",
       "          2.64695785e-01-8.90536808e-15j],\n",
       "        [-2.56665532e-12+7.81772546e-13j,\n",
       "         -3.00313196e-11-1.96128263e-09j],\n",
       "        [-2.21082991e-12-5.59123063e-12j,\n",
       "          9.74787123e-11+1.03457100e-09j]],\n",
       "\n",
       "       [[-2.46581926e-04+2.83297570e-19j,\n",
       "          2.49064262e-04+4.06842559e-16j],\n",
       "        [-1.33126661e-02+1.77053304e-16j,\n",
       "         -1.31799835e-02+5.49607218e-16j],\n",
       "        [ 5.14600344e-09-1.56741117e-09j,\n",
       "         -5.80067396e-09-3.78056515e-08j],\n",
       "        [ 4.43259297e-09+1.12101114e-08j,\n",
       "         -2.51931235e-09+9.45505926e-09j]],\n",
       "\n",
       "       [[ 2.62954869e-16+4.00095918e-32j,\n",
       "          1.17691997e-15+2.15627285e-17j],\n",
       "        [-1.39150467e-14+8.41518900e-29j,\n",
       "          1.43004958e-14+5.77226271e-18j],\n",
       "        [-1.05157584e-08+4.45125217e-09j,\n",
       "          9.28708259e-09-2.77031175e-09j],\n",
       "        [ 1.13870718e-08-5.37292340e-09j,\n",
       "          1.82048490e-08+4.53133641e-09j]],\n",
       "\n",
       "       [[-8.93980705e-18-6.77085399e-32j,\n",
       "          2.33941196e-16+2.04282171e-16j],\n",
       "        [ 4.73076740e-16+9.92029369e-28j,\n",
       "         -4.12844699e-16+5.46855821e-17j],\n",
       "        [-1.25829742e-08+1.22796224e-08j,\n",
       "          9.00870133e-09-5.82384365e-09j],\n",
       "        [-8.28725418e-09+9.39525127e-09j,\n",
       "          8.56253641e-09-5.14970027e-09j]],\n",
       "\n",
       "       [[-7.71902399e-19+3.22192626e-33j,\n",
       "          6.09607659e-17-4.79827237e-18j],\n",
       "        [ 4.08475337e-17-5.28991183e-29j,\n",
       "         -2.47351974e-17-1.28447978e-18j],\n",
       "        [-1.23257238e-12-2.84906362e-10j,\n",
       "         -2.11752167e-10+2.54610142e-10j],\n",
       "        [-8.47726985e-11-1.91863735e-10j,\n",
       "          9.56019209e-11+5.88387187e-11j]],\n",
       "\n",
       "       [[ 5.64806205e-20-2.11589187e-33j,\n",
       "         -6.55057916e-20+7.65933218e-19j],\n",
       "        [-2.98884167e-18+8.51069720e-30j,\n",
       "          2.98642566e-18+2.05037491e-19j],\n",
       "        [ 1.49782286e-10-1.94257398e-11j,\n",
       "          6.11740721e-11+6.78976052e-11j],\n",
       "        [-2.71100977e-10+1.17972973e-10j,\n",
       "          5.33511621e-11-8.00596389e-11j]],\n",
       "\n",
       "       [[-1.44747850e-20-1.02187960e-34j,\n",
       "          2.60880690e-19-6.15058181e-19j],\n",
       "        [ 7.65976722e-19+1.86927881e-30j,\n",
       "         -7.00014772e-19-1.64648802e-19j],\n",
       "        [ 2.66247260e-11-9.16514222e-12j,\n",
       "          2.20112163e-11-5.66514926e-11j],\n",
       "        [-1.91237765e-11-2.15101472e-12j,\n",
       "          3.96053978e-11+1.22300859e-10j]],\n",
       "\n",
       "       [[ 1.60614378e-20+1.32243242e-34j,\n",
       "         -5.44082387e-20-1.16506478e-19j],\n",
       "        [-8.49939221e-19-1.88726837e-30j,\n",
       "          8.39673924e-19-3.11883534e-20j],\n",
       "        [-1.83164128e-11-1.24380790e-12j,\n",
       "         -3.55338031e-11-1.34984714e-11j],\n",
       "        [-4.88909664e-11+1.99122610e-11j,\n",
       "         -4.30082237e-11+1.54486048e-11j]]])</details></samp><samp style='font-size: 12px;'><details><summary><b style=\"color: #e55471;\">Tensor</b>(shape=(<b style=\"color: #80d749;\">4</b>, <b style=\"color: #828fdd;\">2</b>, <b style=\"color: #828fdd;\">2</b>), inds=[<b style=\"color: #638ad6;\">_f485ffAAAAS</b>, <b style=\"color: #b3da7e;\">_f485ffAAAAT</b>, <b style=\"color: #cc70c1;\">k9</b>], tags={<b style=\"color: #74d649;\">0</b>, <b style=\"color: #45ce3d;\">1</b>, <b style=\"color: #828fdd;\">2</b>, <b style=\"color: #8a5bcf;\">3</b>, <b style=\"color: #80d749;\">4</b>, <b style=\"color: #7355d7;\">5</b>, <b style=\"color: #a4de79;\">6</b>, <b style=\"color: #7930d2;\">7</b>, <b style=\"color: #39acd6;\">8</b>, <b style=\"color: #c14bdb;\">9</b>, <b style=\"color: #31d651;\">10</b>, <b style=\"color: #d74979;\">I9</b>, <b style=\"color: #d3b991;\">PSI0</b>, <b style=\"color: #cfb283;\">GATE_79</b>, <b style=\"color: #8c64d6;\">GATE_86</b>, <b style=\"color: #b7d375;\">GATE_95</b>, <b style=\"color: #cd39a5;\">GATE_102</b>, <b style=\"color: #b883d9;\">GATE_150</b>, <b style=\"color: #da5347;\">GATE_160</b>, <b style=\"color: #76e5d7;\">GATE_164</b>, <b style=\"color: #90d0cb;\">GATE_166</b>, <b style=\"color: #c292d3;\">GATE_168</b>, <b style=\"color: #5d88ce;\">GATE_170</b>, <b style=\"color: #cdbb82;\">GATE_172</b>, <b style=\"color: #82e2b2;\">GATE_174</b>, <b style=\"color: #dc5073;\">GATE_177</b>, <b style=\"color: #a658e3;\">GATE_190</b>, <b style=\"color: #d49487;\">GATE_194</b>, <b style=\"color: #d2983e;\">GATE_199</b>, <b style=\"color: #b7d977;\">GATE_206</b>, <b style=\"color: #46d3b9;\">GATE_215</b>, <b style=\"color: #b671cf;\">GATE_222</b>}),</summary>backend=<b style=\"color: #7fdd73;\">numpy</b>, dtype=<b style=\"color: #443ce1;\">complex128</b>, data=array([[[-7.03555342e-01+0.00000000e+00j,\n",
       "         -7.07123420e-01-6.85058596e-16j],\n",
       "        [-3.54731552e-02+1.89075980e-16j,\n",
       "          3.52941610e-02-5.97021897e-16j]],\n",
       "\n",
       "       [[-1.32951982e-02+0.00000000e+00j,\n",
       "          3.36279944e-05-4.63929881e-16j],\n",
       "        [-6.70341905e-04-3.53745368e-15j,\n",
       "         -2.65027060e-01-8.37144570e-15j]],\n",
       "\n",
       "       [[ 3.25779753e-08+0.00000000e+00j,\n",
       "         -3.26714401e-08+4.27511210e-11j],\n",
       "        [ 3.50102033e-09-8.50058079e-10j,\n",
       "         -1.64728913e-09+2.15550513e-12j]],\n",
       "\n",
       "       [[-2.53182428e-09+0.00000000e+00j,\n",
       "          9.54493469e-10+2.58979775e-10j],\n",
       "        [ 3.12357994e-08-5.14952227e-09j,\n",
       "          4.81254180e-11+1.30577215e-11j]]])</details></samp><samp style='font-size: 12px;'><details><summary><b style=\"color: #e55471;\">Tensor</b>(shape=(<b style=\"color: #828fdd;\">2</b>, <b style=\"color: #828fdd;\">2</b>), inds=[<b style=\"color: #b3da7e;\">_f485ffAAAAT</b>, <b style=\"color: #3fcf58;\">k10</b>], tags={<b style=\"color: #74d649;\">0</b>, <b style=\"color: #45ce3d;\">1</b>, <b style=\"color: #828fdd;\">2</b>, <b style=\"color: #8a5bcf;\">3</b>, <b style=\"color: #80d749;\">4</b>, <b style=\"color: #7355d7;\">5</b>, <b style=\"color: #a4de79;\">6</b>, <b style=\"color: #7930d2;\">7</b>, <b style=\"color: #39acd6;\">8</b>, <b style=\"color: #c14bdb;\">9</b>, <b style=\"color: #31d651;\">10</b>, <b style=\"color: #4e2bd3;\">I10</b>, <b style=\"color: #d3b991;\">PSI0</b>, <b style=\"color: #53d4b1;\">GATE_83</b>, <b style=\"color: #b6e595;\">GATE_88</b>, <b style=\"color: #c4e57a;\">GATE_92</b>, <b style=\"color: #a786ce;\">GATE_97</b>, <b style=\"color: #d8e156;\">GATE_114</b>, <b style=\"color: #65d5a0;\">GATE_118</b>, <b style=\"color: #70e3cd;\">GATE_120</b>, <b style=\"color: #74e47c;\">GATE_122</b>, <b style=\"color: #88d9a4;\">GATE_124</b>, <b style=\"color: #879acf;\">GATE_126</b>, <b style=\"color: #a441de;\">GATE_128</b>, <b style=\"color: #63e1a7;\">GATE_131</b>, <b style=\"color: #51b5d3;\">GATE_144</b>, <b style=\"color: #de804b;\">GATE_148</b>, <b style=\"color: #70e45f;\">GATE_163</b>, <b style=\"color: #4530d2;\">GATE_178</b>, <b style=\"color: #63dcb0;\">GATE_193</b>}),</summary>backend=<b style=\"color: #7fdd73;\">numpy</b>, dtype=<b style=\"color: #443ce1;\">complex128</b>, data=array([[-9.98731338e-01-1.76583116e-21j,  3.14259054e-17+5.03558847e-02j],\n",
       "       [-5.03558847e-02+2.11776317e-18j, -6.65288717e-16-9.98731338e-01j]])</details></samp></details></samp>"
      ],
      "text/plain": [
       "MatrixProductState(tensors=11, indices=21, L=11, max_bond=8)"
      ]
     },
     "execution_count": 32,
     "metadata": {},
     "output_type": "execute_result"
    }
   ],
   "source": [
    "obj._interface._circuitMPS._psi"
   ]
  },
  {
   "cell_type": "markdown",
   "metadata": {},
   "source": [
    "# Playing with `quimb`"
   ]
  },
  {
   "cell_type": "code",
   "execution_count": 33,
   "metadata": {},
   "outputs": [],
   "source": [
    "wires = Wires(range(7))\n",
    "\n",
    "init_state = qtn.MPS_computational_state(\n",
    "    \"0\" * len(wires), tags=[str(l) for l in wires.labels]\n",
    ")\n",
    "\n",
    "qc = qtn.CircuitMPS(psi0=init_state)\n",
    "\n",
    "op = qml.CNOT(wires=[0, 1])"
   ]
  },
  {
   "cell_type": "code",
   "execution_count": 34,
   "metadata": {},
   "outputs": [
    {
     "data": {
      "image/png": "[encoded data removed]",
      "text/plain": [
       "<Figure size 600x600 with 1 Axes>"
      ]
     },
     "metadata": {
      "needs_background": "light"
     },
     "output_type": "display_data"
    }
   ],
   "source": [
    "qc.psi.draw(color=[f\"I{q}\" for q in range(len(wires))], show_tags=False, show_inds=True)"
   ]
  },
  {
   "cell_type": "code",
   "execution_count": 35,
   "metadata": {},
   "outputs": [
    {
     "data": {
      "text/plain": [
       "functools.partial(<bound method gate_TN_1D of MatrixProductState(tensors=7, indices=13, L=7, max_bond=2)>, inplace=True)"
      ]
     },
     "execution_count": 35,
     "metadata": {},
     "output_type": "execute_result"
    }
   ],
   "source": [
    "init_state.gate_"
   ]
  },
  {
   "cell_type": "code",
   "execution_count": 36,
   "metadata": {},
   "outputs": [
    {
     "data": {
      "text/plain": [
       "0j"
      ]
     },
     "execution_count": 36,
     "metadata": {},
     "output_type": "execute_result"
    }
   ],
   "source": [
    "qc.amplitude(\"0111111\")"
   ]
  },
  {
   "cell_type": "code",
   "execution_count": 37,
   "metadata": {},
   "outputs": [
    {
     "data": {
      "text/html": [
       "<samp style='font-size: 12px;'><details><summary><b style=\"color: #d75692;\">MatrixProductState</b>(tensors=7, indices=13, L=7, max_bond=2)</summary><samp style='font-size: 12px;'><details><summary><b style=\"color: #e55471;\">Tensor</b>(shape=(<b style=\"color: #45ce3d;\">1</b>, <b style=\"color: #828fdd;\">2</b>), inds=[<b style=\"color: #d630b6;\">_f485ffAAAez</b>, <b style=\"color: #b1dc61;\">k0</b>], tags={<b style=\"color: #74d649;\">0</b>, <b style=\"color: #45ce3d;\">1</b>, <b style=\"color: #828fdd;\">2</b>, <b style=\"color: #8a5bcf;\">3</b>, <b style=\"color: #80d749;\">4</b>, <b style=\"color: #7355d7;\">5</b>, <b style=\"color: #a4de79;\">6</b>, <b style=\"color: #d2b137;\">I0</b>}),</summary>backend=<b style=\"color: #7fdd73;\">numpy</b>, dtype=<b style=\"color: #75d2c6;\">float64</b>, data=array([[1., 0.]])</details></samp><samp style='font-size: 12px;'><details><summary><b style=\"color: #e55471;\">Tensor</b>(shape=(<b style=\"color: #45ce3d;\">1</b>, <b style=\"color: #45ce3d;\">1</b>, <b style=\"color: #828fdd;\">2</b>), inds=[<b style=\"color: #d630b6;\">_f485ffAAAez</b>, <b style=\"color: #c2da78;\">_f485ffAAAfA</b>, <b style=\"color: #8aa5db;\">k1</b>], tags={<b style=\"color: #74d649;\">0</b>, <b style=\"color: #45ce3d;\">1</b>, <b style=\"color: #828fdd;\">2</b>, <b style=\"color: #8a5bcf;\">3</b>, <b style=\"color: #80d749;\">4</b>, <b style=\"color: #7355d7;\">5</b>, <b style=\"color: #a4de79;\">6</b>, <b style=\"color: #d19b78;\">I1</b>}),</summary>backend=<b style=\"color: #7fdd73;\">numpy</b>, dtype=<b style=\"color: #75d2c6;\">float64</b>, data=array([[[1., 0.]]])</details></samp><samp style='font-size: 12px;'><details><summary><b style=\"color: #e55471;\">Tensor</b>(shape=(<b style=\"color: #45ce3d;\">1</b>, <b style=\"color: #45ce3d;\">1</b>, <b style=\"color: #828fdd;\">2</b>), inds=[<b style=\"color: #c2da78;\">_f485ffAAAfA</b>, <b style=\"color: #6677d9;\">_f485ffAAAfB</b>, <b style=\"color: #df546d;\">k2</b>], tags={<b style=\"color: #74d649;\">0</b>, <b style=\"color: #45ce3d;\">1</b>, <b style=\"color: #828fdd;\">2</b>, <b style=\"color: #8a5bcf;\">3</b>, <b style=\"color: #80d749;\">4</b>, <b style=\"color: #7355d7;\">5</b>, <b style=\"color: #a4de79;\">6</b>, <b style=\"color: #dd5dd7;\">I2</b>}),</summary>backend=<b style=\"color: #7fdd73;\">numpy</b>, dtype=<b style=\"color: #75d2c6;\">float64</b>, data=array([[[1., 0.]]])</details></samp><samp style='font-size: 12px;'><details><summary><b style=\"color: #e55471;\">Tensor</b>(shape=(<b style=\"color: #45ce3d;\">1</b>, <b style=\"color: #45ce3d;\">1</b>, <b style=\"color: #828fdd;\">2</b>), inds=[<b style=\"color: #6677d9;\">_f485ffAAAfB</b>, <b style=\"color: #71dd36;\">_f485ffAAAfC</b>, <b style=\"color: #4c7be1;\">k3</b>], tags={<b style=\"color: #74d649;\">0</b>, <b style=\"color: #45ce3d;\">1</b>, <b style=\"color: #828fdd;\">2</b>, <b style=\"color: #8a5bcf;\">3</b>, <b style=\"color: #80d749;\">4</b>, <b style=\"color: #7355d7;\">5</b>, <b style=\"color: #a4de79;\">6</b>, <b style=\"color: #dd65d9;\">I3</b>}),</summary>backend=<b style=\"color: #7fdd73;\">numpy</b>, dtype=<b style=\"color: #75d2c6;\">float64</b>, data=array([[[1., 0.]]])</details></samp><samp style='font-size: 12px;'><details><summary><b style=\"color: #e55471;\">Tensor</b>(shape=(<b style=\"color: #45ce3d;\">1</b>, <b style=\"color: #45ce3d;\">1</b>, <b style=\"color: #828fdd;\">2</b>), inds=[<b style=\"color: #71dd36;\">_f485ffAAAfC</b>, <b style=\"color: #54cc80;\">_f485ffAAAfD</b>, <b style=\"color: #462edc;\">k4</b>], tags={<b style=\"color: #74d649;\">0</b>, <b style=\"color: #45ce3d;\">1</b>, <b style=\"color: #828fdd;\">2</b>, <b style=\"color: #8a5bcf;\">3</b>, <b style=\"color: #80d749;\">4</b>, <b style=\"color: #7355d7;\">5</b>, <b style=\"color: #a4de79;\">6</b>, <b style=\"color: #998ad1;\">I4</b>}),</summary>backend=<b style=\"color: #7fdd73;\">numpy</b>, dtype=<b style=\"color: #75d2c6;\">float64</b>, data=array([[[1., 0.]]])</details></samp><samp style='font-size: 12px;'><details><summary><b style=\"color: #e55471;\">Tensor</b>(shape=(<b style=\"color: #45ce3d;\">1</b>, <b style=\"color: #45ce3d;\">1</b>, <b style=\"color: #828fdd;\">2</b>), inds=[<b style=\"color: #54cc80;\">_f485ffAAAfD</b>, <b style=\"color: #9c96db;\">_f485ffAAAfE</b>, <b style=\"color: #85dfdf;\">k5</b>], tags={<b style=\"color: #74d649;\">0</b>, <b style=\"color: #45ce3d;\">1</b>, <b style=\"color: #828fdd;\">2</b>, <b style=\"color: #8a5bcf;\">3</b>, <b style=\"color: #80d749;\">4</b>, <b style=\"color: #7355d7;\">5</b>, <b style=\"color: #a4de79;\">6</b>, <b style=\"color: #97dddc;\">I5</b>}),</summary>backend=<b style=\"color: #7fdd73;\">numpy</b>, dtype=<b style=\"color: #75d2c6;\">float64</b>, data=array([[[1., 0.]]])</details></samp><samp style='font-size: 12px;'><details><summary><b style=\"color: #e55471;\">Tensor</b>(shape=(<b style=\"color: #45ce3d;\">1</b>, <b style=\"color: #828fdd;\">2</b>), inds=[<b style=\"color: #9c96db;\">_f485ffAAAfE</b>, <b style=\"color: #2cb7d3;\">k6</b>], tags={<b style=\"color: #74d649;\">0</b>, <b style=\"color: #45ce3d;\">1</b>, <b style=\"color: #828fdd;\">2</b>, <b style=\"color: #8a5bcf;\">3</b>, <b style=\"color: #80d749;\">4</b>, <b style=\"color: #7355d7;\">5</b>, <b style=\"color: #a4de79;\">6</b>, <b style=\"color: #b2de5f;\">I6</b>}),</summary>backend=<b style=\"color: #7fdd73;\">numpy</b>, dtype=<b style=\"color: #75d2c6;\">float64</b>, data=array([[1., 0.]])</details></samp></details></samp>"
      ],
      "text/plain": [
       "MatrixProductState(tensors=7, indices=13, L=7, max_bond=2)"
      ]
     },
     "execution_count": 37,
     "metadata": {},
     "output_type": "execute_result"
    }
   ],
   "source": [
    "init_state"
   ]
  },
  {
   "cell_type": "code",
   "execution_count": 38,
   "metadata": {},
   "outputs": [
    {
     "data": {
      "text/plain": [
       "<function str.format>"
      ]
     },
     "execution_count": 38,
     "metadata": {},
     "output_type": "execute_result"
    }
   ],
   "source": [
    "qc.ket_site_ind"
   ]
  },
  {
   "cell_type": "code",
   "execution_count": 39,
   "metadata": {},
   "outputs": [
    {
     "data": {
      "text/plain": [
       "{'_psi': MatrixProductState(tensors=7, indices=7, L=7, max_bond=2),\n",
       " 'N': 7,\n",
       " 'gate_opts': {'contract': 'swap+split', 'propagate_tags': 'register'},\n",
       " 'gates': [],\n",
       " '_ket_site_ind_id': 'k{}',\n",
       " '_bra_site_ind_id': 'b{}',\n",
       " 'ket_site_ind': <function str.format>,\n",
       " 'bra_site_ind': <function str.format>,\n",
       " '_sample_n_gates': 0,\n",
       " '_storage': {('psi_simplified',\n",
       "   'ADCRS',\n",
       "   1e-12): MatrixProductState(tensors=7, indices=7, L=7, max_bond=2)},\n",
       " '_sampled_conditionals': {},\n",
       " '_marginal_storage_size': 0}"
      ]
     },
     "execution_count": 39,
     "metadata": {},
     "output_type": "execute_result"
    }
   ],
   "source": [
    "qc.__dict__"
   ]
  },
  {
   "cell_type": "code",
   "execution_count": 40,
   "metadata": {},
   "outputs": [
    {
     "data": {
      "text/plain": [
       "[]"
      ]
     },
     "execution_count": 40,
     "metadata": {},
     "output_type": "execute_result"
    }
   ],
   "source": [
    "qc.gates"
   ]
  },
  {
   "cell_type": "code",
   "execution_count": 41,
   "metadata": {},
   "outputs": [],
   "source": [
    "gate = qtn.circuit.parse_to_gate(op.matrix(), tuple(op.wires))"
   ]
  },
  {
   "cell_type": "code",
   "execution_count": 42,
   "metadata": {},
   "outputs": [
    {
     "data": {
      "text/plain": [
       "<Gate(label=RAW136387505968976, params=raw, qubits=((0, 1),))>"
      ]
     },
     "execution_count": 42,
     "metadata": {},
     "output_type": "execute_result"
    }
   ],
   "source": [
    "gate"
   ]
  },
  {
   "cell_type": "code",
   "execution_count": 43,
   "metadata": {},
   "outputs": [
    {
     "data": {
      "text/html": [
       "<samp style='font-size: 12px;'><details><summary><b style=\"color: #d75692;\">MatrixProductState</b>(tensors=7, indices=13, L=7, max_bond=2)</summary><samp style='font-size: 12px;'><details><summary><b style=\"color: #e55471;\">Tensor</b>(shape=(<b style=\"color: #45ce3d;\">1</b>, <b style=\"color: #828fdd;\">2</b>), inds=[<b style=\"color: #9763d5;\">_f485ffAAAfF</b>, <b style=\"color: #b1dc61;\">k0</b>], tags={<b style=\"color: #74d649;\">0</b>, <b style=\"color: #45ce3d;\">1</b>, <b style=\"color: #828fdd;\">2</b>, <b style=\"color: #8a5bcf;\">3</b>, <b style=\"color: #80d749;\">4</b>, <b style=\"color: #7355d7;\">5</b>, <b style=\"color: #a4de79;\">6</b>, <b style=\"color: #d2b137;\">I0</b>}),</summary>backend=<b style=\"color: #7fdd73;\">numpy</b>, dtype=<b style=\"color: #75d2c6;\">float64</b>, data=array([[1., 0.]])</details></samp><samp style='font-size: 12px;'><details><summary><b style=\"color: #e55471;\">Tensor</b>(shape=(<b style=\"color: #45ce3d;\">1</b>, <b style=\"color: #45ce3d;\">1</b>, <b style=\"color: #828fdd;\">2</b>), inds=[<b style=\"color: #9763d5;\">_f485ffAAAfF</b>, <b style=\"color: #c6d190;\">_f485ffAAAfG</b>, <b style=\"color: #8aa5db;\">k1</b>], tags={<b style=\"color: #74d649;\">0</b>, <b style=\"color: #45ce3d;\">1</b>, <b style=\"color: #828fdd;\">2</b>, <b style=\"color: #8a5bcf;\">3</b>, <b style=\"color: #80d749;\">4</b>, <b style=\"color: #7355d7;\">5</b>, <b style=\"color: #a4de79;\">6</b>, <b style=\"color: #d19b78;\">I1</b>}),</summary>backend=<b style=\"color: #7fdd73;\">numpy</b>, dtype=<b style=\"color: #75d2c6;\">float64</b>, data=array([[[1., 0.]]])</details></samp><samp style='font-size: 12px;'><details><summary><b style=\"color: #e55471;\">Tensor</b>(shape=(<b style=\"color: #45ce3d;\">1</b>, <b style=\"color: #45ce3d;\">1</b>, <b style=\"color: #828fdd;\">2</b>), inds=[<b style=\"color: #c6d190;\">_f485ffAAAfG</b>, <b style=\"color: #92d49a;\">_f485ffAAAfH</b>, <b style=\"color: #df546d;\">k2</b>], tags={<b style=\"color: #74d649;\">0</b>, <b style=\"color: #45ce3d;\">1</b>, <b style=\"color: #828fdd;\">2</b>, <b style=\"color: #8a5bcf;\">3</b>, <b style=\"color: #80d749;\">4</b>, <b style=\"color: #7355d7;\">5</b>, <b style=\"color: #a4de79;\">6</b>, <b style=\"color: #dd5dd7;\">I2</b>}),</summary>backend=<b style=\"color: #7fdd73;\">numpy</b>, dtype=<b style=\"color: #75d2c6;\">float64</b>, data=array([[[1., 0.]]])</details></samp><samp style='font-size: 12px;'><details><summary><b style=\"color: #e55471;\">Tensor</b>(shape=(<b style=\"color: #45ce3d;\">1</b>, <b style=\"color: #45ce3d;\">1</b>, <b style=\"color: #828fdd;\">2</b>), inds=[<b style=\"color: #92d49a;\">_f485ffAAAfH</b>, <b style=\"color: #63e55f;\">_f485ffAAAfI</b>, <b style=\"color: #4c7be1;\">k3</b>], tags={<b style=\"color: #74d649;\">0</b>, <b style=\"color: #45ce3d;\">1</b>, <b style=\"color: #828fdd;\">2</b>, <b style=\"color: #8a5bcf;\">3</b>, <b style=\"color: #80d749;\">4</b>, <b style=\"color: #7355d7;\">5</b>, <b style=\"color: #a4de79;\">6</b>, <b style=\"color: #dd65d9;\">I3</b>}),</summary>backend=<b style=\"color: #7fdd73;\">numpy</b>, dtype=<b style=\"color: #75d2c6;\">float64</b>, data=array([[[1., 0.]]])</details></samp><samp style='font-size: 12px;'><details><summary><b style=\"color: #e55471;\">Tensor</b>(shape=(<b style=\"color: #45ce3d;\">1</b>, <b style=\"color: #45ce3d;\">1</b>, <b style=\"color: #828fdd;\">2</b>), inds=[<b style=\"color: #63e55f;\">_f485ffAAAfI</b>, <b style=\"color: #73dd2d;\">_f485ffAAAfJ</b>, <b style=\"color: #462edc;\">k4</b>], tags={<b style=\"color: #74d649;\">0</b>, <b style=\"color: #45ce3d;\">1</b>, <b style=\"color: #828fdd;\">2</b>, <b style=\"color: #8a5bcf;\">3</b>, <b style=\"color: #80d749;\">4</b>, <b style=\"color: #7355d7;\">5</b>, <b style=\"color: #a4de79;\">6</b>, <b style=\"color: #998ad1;\">I4</b>}),</summary>backend=<b style=\"color: #7fdd73;\">numpy</b>, dtype=<b style=\"color: #75d2c6;\">float64</b>, data=array([[[1., 0.]]])</details></samp><samp style='font-size: 12px;'><details><summary><b style=\"color: #e55471;\">Tensor</b>(shape=(<b style=\"color: #45ce3d;\">1</b>, <b style=\"color: #45ce3d;\">1</b>, <b style=\"color: #828fdd;\">2</b>), inds=[<b style=\"color: #73dd2d;\">_f485ffAAAfJ</b>, <b style=\"color: #ce3350;\">_f485ffAAAfK</b>, <b style=\"color: #85dfdf;\">k5</b>], tags={<b style=\"color: #74d649;\">0</b>, <b style=\"color: #45ce3d;\">1</b>, <b style=\"color: #828fdd;\">2</b>, <b style=\"color: #8a5bcf;\">3</b>, <b style=\"color: #80d749;\">4</b>, <b style=\"color: #7355d7;\">5</b>, <b style=\"color: #a4de79;\">6</b>, <b style=\"color: #97dddc;\">I5</b>}),</summary>backend=<b style=\"color: #7fdd73;\">numpy</b>, dtype=<b style=\"color: #75d2c6;\">float64</b>, data=array([[[1., 0.]]])</details></samp><samp style='font-size: 12px;'><details><summary><b style=\"color: #e55471;\">Tensor</b>(shape=(<b style=\"color: #45ce3d;\">1</b>, <b style=\"color: #828fdd;\">2</b>), inds=[<b style=\"color: #ce3350;\">_f485ffAAAfK</b>, <b style=\"color: #2cb7d3;\">k6</b>], tags={<b style=\"color: #74d649;\">0</b>, <b style=\"color: #45ce3d;\">1</b>, <b style=\"color: #828fdd;\">2</b>, <b style=\"color: #8a5bcf;\">3</b>, <b style=\"color: #80d749;\">4</b>, <b style=\"color: #7355d7;\">5</b>, <b style=\"color: #a4de79;\">6</b>, <b style=\"color: #b2de5f;\">I6</b>}),</summary>backend=<b style=\"color: #7fdd73;\">numpy</b>, dtype=<b style=\"color: #75d2c6;\">float64</b>, data=array([[1., 0.]])</details></samp></details></samp>"
      ],
      "text/plain": [
       "MatrixProductState(tensors=7, indices=13, L=7, max_bond=2)"
      ]
     },
     "execution_count": 43,
     "metadata": {},
     "output_type": "execute_result"
    }
   ],
   "source": [
    "qtn.MPS_computational_state(\"0\" * len(wires), tags=[str(l) for l in wires.labels])"
   ]
  },
  {
   "cell_type": "code",
   "execution_count": 44,
   "metadata": {},
   "outputs": [
    {
     "data": {
      "text/html": [
       "<samp style='font-size: 12px;'><details><summary><b style=\"color: #d75692;\">MatrixProductState</b>(tensors=9, indices=17, L=9, max_bond=6)</summary><samp style='font-size: 12px;'><details><summary><b style=\"color: #e55471;\">Tensor</b>(shape=(<b style=\"color: #a4de79;\">6</b>, <b style=\"color: #828fdd;\">2</b>), inds=[<b style=\"color: #ce793a;\">_f485ffAAAfL</b>, <b style=\"color: #b1dc61;\">k0</b>], tags={<b style=\"color: #d2b137;\">I0</b>}),</summary>backend=<b style=\"color: #7fdd73;\">numpy</b>, dtype=<b style=\"color: #75d2c6;\">float64</b>, data=array([[0., 0.],\n",
       "       [0., 0.],\n",
       "       [0., 0.],\n",
       "       [0., 0.],\n",
       "       [0., 0.],\n",
       "       [0., 0.]])</details></samp><samp style='font-size: 12px;'><details><summary><b style=\"color: #e55471;\">Tensor</b>(shape=(<b style=\"color: #a4de79;\">6</b>, <b style=\"color: #a4de79;\">6</b>, <b style=\"color: #828fdd;\">2</b>), inds=[<b style=\"color: #ce793a;\">_f485ffAAAfL</b>, <b style=\"color: #cfcc51;\">_f485ffAAAfM</b>, <b style=\"color: #8aa5db;\">k1</b>], tags={<b style=\"color: #d19b78;\">I1</b>}),</summary>backend=<b style=\"color: #7fdd73;\">numpy</b>, dtype=<b style=\"color: #75d2c6;\">float64</b>, data=array([[[0., 0.],\n",
       "        [0., 0.],\n",
       "        [0., 0.],\n",
       "        [0., 0.],\n",
       "        [0., 0.],\n",
       "        [0., 0.]],\n",
       "\n",
       "       [[0., 0.],\n",
       "        [0., 0.],\n",
       "        [0., 0.],\n",
       "        [0., 0.],\n",
       "        [0., 0.],\n",
       "        [0., 0.]],\n",
       "\n",
       "       [[0., 0.],\n",
       "        [0., 0.],\n",
       "        [0., 0.],\n",
       "        [0., 0.],\n",
       "        [0., 0.],\n",
       "        [0., 0.]],\n",
       "\n",
       "       [[0., 0.],\n",
       "        [0., 0.],\n",
       "        [0., 0.],\n",
       "        [0., 0.],\n",
       "        [0., 0.],\n",
       "        [0., 0.]],\n",
       "\n",
       "       [[0., 0.],\n",
       "        [0., 0.],\n",
       "        [0., 0.],\n",
       "        [0., 0.],\n",
       "        [0., 0.],\n",
       "        [0., 0.]],\n",
       "\n",
       "       [[0., 0.],\n",
       "        [0., 0.],\n",
       "        [0., 0.],\n",
       "        [0., 0.],\n",
       "        [0., 0.],\n",
       "        [0., 0.]]])</details></samp><samp style='font-size: 12px;'><details><summary><b style=\"color: #e55471;\">Tensor</b>(shape=(<b style=\"color: #a4de79;\">6</b>, <b style=\"color: #a4de79;\">6</b>, <b style=\"color: #828fdd;\">2</b>), inds=[<b style=\"color: #cfcc51;\">_f485ffAAAfM</b>, <b style=\"color: #d77770;\">_f485ffAAAfN</b>, <b style=\"color: #df546d;\">k2</b>], tags={<b style=\"color: #dd5dd7;\">I2</b>}),</summary>backend=<b style=\"color: #7fdd73;\">numpy</b>, dtype=<b style=\"color: #75d2c6;\">float64</b>, data=array([[[0., 0.],\n",
       "        [0., 0.],\n",
       "        [0., 0.],\n",
       "        [0., 0.],\n",
       "        [0., 0.],\n",
       "        [0., 0.]],\n",
       "\n",
       "       [[0., 0.],\n",
       "        [0., 0.],\n",
       "        [0., 0.],\n",
       "        [0., 0.],\n",
       "        [0., 0.],\n",
       "        [0., 0.]],\n",
       "\n",
       "       [[0., 0.],\n",
       "        [0., 0.],\n",
       "        [0., 0.],\n",
       "        [0., 0.],\n",
       "        [0., 0.],\n",
       "        [0., 0.]],\n",
       "\n",
       "       [[0., 0.],\n",
       "        [0., 0.],\n",
       "        [0., 0.],\n",
       "        [0., 0.],\n",
       "        [0., 0.],\n",
       "        [0., 0.]],\n",
       "\n",
       "       [[0., 0.],\n",
       "        [0., 0.],\n",
       "        [0., 0.],\n",
       "        [0., 0.],\n",
       "        [0., 0.],\n",
       "        [0., 0.]],\n",
       "\n",
       "       [[0., 0.],\n",
       "        [0., 0.],\n",
       "        [0., 0.],\n",
       "        [0., 0.],\n",
       "        [0., 0.],\n",
       "        [0., 0.]]])</details></samp><samp style='font-size: 12px;'><details><summary><b style=\"color: #e55471;\">Tensor</b>(shape=(<b style=\"color: #a4de79;\">6</b>, <b style=\"color: #a4de79;\">6</b>, <b style=\"color: #828fdd;\">2</b>), inds=[<b style=\"color: #d77770;\">_f485ffAAAfN</b>, <b style=\"color: #dc354e;\">_f485ffAAAfO</b>, <b style=\"color: #4c7be1;\">k3</b>], tags={<b style=\"color: #dd65d9;\">I3</b>}),</summary>backend=<b style=\"color: #7fdd73;\">numpy</b>, dtype=<b style=\"color: #75d2c6;\">float64</b>, data=array([[[0., 0.],\n",
       "        [0., 0.],\n",
       "        [0., 0.],\n",
       "        [0., 0.],\n",
       "        [0., 0.],\n",
       "        [0., 0.]],\n",
       "\n",
       "       [[0., 0.],\n",
       "        [0., 0.],\n",
       "        [0., 0.],\n",
       "        [0., 0.],\n",
       "        [0., 0.],\n",
       "        [0., 0.]],\n",
       "\n",
       "       [[0., 0.],\n",
       "        [0., 0.],\n",
       "        [0., 0.],\n",
       "        [0., 0.],\n",
       "        [0., 0.],\n",
       "        [0., 0.]],\n",
       "\n",
       "       [[0., 0.],\n",
       "        [0., 0.],\n",
       "        [0., 0.],\n",
       "        [0., 0.],\n",
       "        [0., 0.],\n",
       "        [0., 0.]],\n",
       "\n",
       "       [[0., 0.],\n",
       "        [0., 0.],\n",
       "        [0., 0.],\n",
       "        [0., 0.],\n",
       "        [0., 0.],\n",
       "        [0., 0.]],\n",
       "\n",
       "       [[0., 0.],\n",
       "        [0., 0.],\n",
       "        [0., 0.],\n",
       "        [0., 0.],\n",
       "        [0., 0.],\n",
       "        [0., 0.]]])</details></samp><samp style='font-size: 12px;'><details><summary><b style=\"color: #e55471;\">Tensor</b>(shape=(<b style=\"color: #a4de79;\">6</b>, <b style=\"color: #a4de79;\">6</b>, <b style=\"color: #828fdd;\">2</b>), inds=[<b style=\"color: #dc354e;\">_f485ffAAAfO</b>, <b style=\"color: #c9d157;\">_f485ffAAAfP</b>, <b style=\"color: #462edc;\">k4</b>], tags={<b style=\"color: #998ad1;\">I4</b>}),</summary>backend=<b style=\"color: #7fdd73;\">numpy</b>, dtype=<b style=\"color: #75d2c6;\">float64</b>, data=array([[[0., 0.],\n",
       "        [0., 0.],\n",
       "        [0., 0.],\n",
       "        [0., 0.],\n",
       "        [0., 0.],\n",
       "        [0., 0.]],\n",
       "\n",
       "       [[0., 0.],\n",
       "        [0., 0.],\n",
       "        [0., 0.],\n",
       "        [0., 0.],\n",
       "        [0., 0.],\n",
       "        [0., 0.]],\n",
       "\n",
       "       [[0., 0.],\n",
       "        [0., 0.],\n",
       "        [0., 0.],\n",
       "        [0., 0.],\n",
       "        [0., 0.],\n",
       "        [0., 0.]],\n",
       "\n",
       "       [[0., 0.],\n",
       "        [0., 0.],\n",
       "        [0., 0.],\n",
       "        [0., 0.],\n",
       "        [0., 0.],\n",
       "        [0., 0.]],\n",
       "\n",
       "       [[0., 0.],\n",
       "        [0., 0.],\n",
       "        [0., 0.],\n",
       "        [0., 0.],\n",
       "        [0., 0.],\n",
       "        [0., 0.]],\n",
       "\n",
       "       [[0., 0.],\n",
       "        [0., 0.],\n",
       "        [0., 0.],\n",
       "        [0., 0.],\n",
       "        [0., 0.],\n",
       "        [0., 0.]]])</details></samp><samp style='font-size: 12px;'><details><summary><b style=\"color: #e55471;\">Tensor</b>(shape=(<b style=\"color: #a4de79;\">6</b>, <b style=\"color: #a4de79;\">6</b>, <b style=\"color: #828fdd;\">2</b>), inds=[<b style=\"color: #c9d157;\">_f485ffAAAfP</b>, <b style=\"color: #d25d6a;\">_f485ffAAAfQ</b>, <b style=\"color: #85dfdf;\">k5</b>], tags={<b style=\"color: #97dddc;\">I5</b>}),</summary>backend=<b style=\"color: #7fdd73;\">numpy</b>, dtype=<b style=\"color: #75d2c6;\">float64</b>, data=array([[[0., 0.],\n",
       "        [0., 0.],\n",
       "        [0., 0.],\n",
       "        [0., 0.],\n",
       "        [0., 0.],\n",
       "        [0., 0.]],\n",
       "\n",
       "       [[0., 0.],\n",
       "        [0., 0.],\n",
       "        [0., 0.],\n",
       "        [0., 0.],\n",
       "        [0., 0.],\n",
       "        [0., 0.]],\n",
       "\n",
       "       [[0., 0.],\n",
       "        [0., 0.],\n",
       "        [0., 0.],\n",
       "        [0., 0.],\n",
       "        [0., 0.],\n",
       "        [0., 0.]],\n",
       "\n",
       "       [[0., 0.],\n",
       "        [0., 0.],\n",
       "        [0., 0.],\n",
       "        [0., 0.],\n",
       "        [0., 0.],\n",
       "        [0., 0.]],\n",
       "\n",
       "       [[0., 0.],\n",
       "        [0., 0.],\n",
       "        [0., 0.],\n",
       "        [0., 0.],\n",
       "        [0., 0.],\n",
       "        [0., 0.]],\n",
       "\n",
       "       [[0., 0.],\n",
       "        [0., 0.],\n",
       "        [0., 0.],\n",
       "        [0., 0.],\n",
       "        [0., 0.],\n",
       "        [0., 0.]]])</details></samp><samp style='font-size: 12px;'><details><summary><b style=\"color: #e55471;\">Tensor</b>(shape=(<b style=\"color: #a4de79;\">6</b>, <b style=\"color: #a4de79;\">6</b>, <b style=\"color: #828fdd;\">2</b>), inds=[<b style=\"color: #d25d6a;\">_f485ffAAAfQ</b>, <b style=\"color: #e189de;\">_f485ffAAAfR</b>, <b style=\"color: #2cb7d3;\">k6</b>], tags={<b style=\"color: #b2de5f;\">I6</b>}),</summary>backend=<b style=\"color: #7fdd73;\">numpy</b>, dtype=<b style=\"color: #75d2c6;\">float64</b>, data=array([[[0., 0.],\n",
       "        [0., 0.],\n",
       "        [0., 0.],\n",
       "        [0., 0.],\n",
       "        [0., 0.],\n",
       "        [0., 0.]],\n",
       "\n",
       "       [[0., 0.],\n",
       "        [0., 0.],\n",
       "        [0., 0.],\n",
       "        [0., 0.],\n",
       "        [0., 0.],\n",
       "        [0., 0.]],\n",
       "\n",
       "       [[0., 0.],\n",
       "        [0., 0.],\n",
       "        [0., 0.],\n",
       "        [0., 0.],\n",
       "        [0., 0.],\n",
       "        [0., 0.]],\n",
       "\n",
       "       [[0., 0.],\n",
       "        [0., 0.],\n",
       "        [0., 0.],\n",
       "        [0., 0.],\n",
       "        [0., 0.],\n",
       "        [0., 0.]],\n",
       "\n",
       "       [[0., 0.],\n",
       "        [0., 0.],\n",
       "        [0., 0.],\n",
       "        [0., 0.],\n",
       "        [0., 0.],\n",
       "        [0., 0.]],\n",
       "\n",
       "       [[0., 0.],\n",
       "        [0., 0.],\n",
       "        [0., 0.],\n",
       "        [0., 0.],\n",
       "        [0., 0.],\n",
       "        [0., 0.]]])</details></samp><samp style='font-size: 12px;'><details><summary><b style=\"color: #e55471;\">Tensor</b>(shape=(<b style=\"color: #a4de79;\">6</b>, <b style=\"color: #a4de79;\">6</b>, <b style=\"color: #828fdd;\">2</b>), inds=[<b style=\"color: #e189de;\">_f485ffAAAfR</b>, <b style=\"color: #d995c0;\">_f485ffAAAfS</b>, <b style=\"color: #53e08f;\">k7</b>], tags={<b style=\"color: #5582d6;\">I7</b>}),</summary>backend=<b style=\"color: #7fdd73;\">numpy</b>, dtype=<b style=\"color: #75d2c6;\">float64</b>, data=array([[[0., 0.],\n",
       "        [0., 0.],\n",
       "        [0., 0.],\n",
       "        [0., 0.],\n",
       "        [0., 0.],\n",
       "        [0., 0.]],\n",
       "\n",
       "       [[0., 0.],\n",
       "        [0., 0.],\n",
       "        [0., 0.],\n",
       "        [0., 0.],\n",
       "        [0., 0.],\n",
       "        [0., 0.]],\n",
       "\n",
       "       [[0., 0.],\n",
       "        [0., 0.],\n",
       "        [0., 0.],\n",
       "        [0., 0.],\n",
       "        [0., 0.],\n",
       "        [0., 0.]],\n",
       "\n",
       "       [[0., 0.],\n",
       "        [0., 0.],\n",
       "        [0., 0.],\n",
       "        [0., 0.],\n",
       "        [0., 0.],\n",
       "        [0., 0.]],\n",
       "\n",
       "       [[0., 0.],\n",
       "        [0., 0.],\n",
       "        [0., 0.],\n",
       "        [0., 0.],\n",
       "        [0., 0.],\n",
       "        [0., 0.]],\n",
       "\n",
       "       [[0., 0.],\n",
       "        [0., 0.],\n",
       "        [0., 0.],\n",
       "        [0., 0.],\n",
       "        [0., 0.],\n",
       "        [0., 0.]]])</details></samp><samp style='font-size: 12px;'><details><summary><b style=\"color: #e55471;\">Tensor</b>(shape=(<b style=\"color: #a4de79;\">6</b>, <b style=\"color: #828fdd;\">2</b>), inds=[<b style=\"color: #d995c0;\">_f485ffAAAfS</b>, <b style=\"color: #7bcd9f;\">k8</b>], tags={<b style=\"color: #8a3dd8;\">I8</b>}),</summary>backend=<b style=\"color: #7fdd73;\">numpy</b>, dtype=<b style=\"color: #75d2c6;\">float64</b>, data=array([[0., 0.],\n",
       "       [0., 0.],\n",
       "       [0., 0.],\n",
       "       [0., 0.],\n",
       "       [0., 0.],\n",
       "       [0., 0.]])</details></samp></details></samp>"
      ],
      "text/plain": [
       "MatrixProductState(tensors=9, indices=17, L=9, max_bond=6)"
      ]
     },
     "execution_count": 44,
     "metadata": {},
     "output_type": "execute_result"
    }
   ],
   "source": [
    "qtn.MPS_zero_state(bond_dim=6, L=9)"
   ]
  },
  {
   "cell_type": "code",
   "execution_count": 45,
   "metadata": {},
   "outputs": [
    {
     "data": {
      "text/html": [
       "<samp style='font-size: 12px;'><details><summary><b style=\"color: #d75692;\">MatrixProductState</b>(tensors=9, indices=17, L=9, max_bond=6)</summary><samp style='font-size: 12px;'><details><summary><b style=\"color: #e55471;\">Tensor</b>(shape=(<b style=\"color: #a4de79;\">6</b>, <b style=\"color: #828fdd;\">2</b>), inds=[<b style=\"color: #60dbd7;\">_f485ffAAAfT</b>, <b style=\"color: #b1dc61;\">k0</b>], tags={<b style=\"color: #d2b137;\">I0</b>}),</summary>backend=<b style=\"color: #7fdd73;\">numpy</b>, dtype=<b style=\"color: #75d2c6;\">float64</b>, data=array([[-0.46164999,  0.09177626],\n",
       "       [-0.52823994, -0.50018056],\n",
       "       [-0.14574095,  0.35568348],\n",
       "       [ 0.1411648 ,  0.57741325],\n",
       "       [-0.31479438, -0.27324131],\n",
       "       [-0.39436714,  0.36738175]])</details></samp><samp style='font-size: 12px;'><details><summary><b style=\"color: #e55471;\">Tensor</b>(shape=(<b style=\"color: #a4de79;\">6</b>, <b style=\"color: #a4de79;\">6</b>, <b style=\"color: #828fdd;\">2</b>), inds=[<b style=\"color: #60dbd7;\">_f485ffAAAfT</b>, <b style=\"color: #e440ca;\">_f485ffAAAfU</b>, <b style=\"color: #8aa5db;\">k1</b>], tags={<b style=\"color: #d19b78;\">I1</b>}),</summary>backend=<b style=\"color: #7fdd73;\">numpy</b>, dtype=<b style=\"color: #75d2c6;\">float64</b>, data=array([[[ 0.65198412,  0.00893093],\n",
       "        [ 0.13042936,  0.46567609],\n",
       "        [-0.36579691, -0.05020967],\n",
       "        [-0.16795784,  0.14467123],\n",
       "        [-0.14559903, -0.48134437],\n",
       "        [-0.38517808, -0.15207959]],\n",
       "\n",
       "       [[ 0.2441726 ,  1.11805541],\n",
       "        [-0.05263407,  0.23226353],\n",
       "        [-0.26386753, -0.34533073],\n",
       "        [ 0.44546083,  0.10538298],\n",
       "        [-0.59777178, -0.11576906],\n",
       "        [-0.15472421,  0.78877938]],\n",
       "\n",
       "       [[ 0.12201882, -0.29072743],\n",
       "        [ 0.28934515,  0.03002394],\n",
       "        [-0.07028105, -0.12326479],\n",
       "        [-0.26634489,  0.7182599 ],\n",
       "        [ 0.07284409,  0.27796749],\n",
       "        [-0.07895196,  0.01728198]],\n",
       "\n",
       "       [[-0.25235045, -0.16529283],\n",
       "        [-0.29911089, -0.28064257],\n",
       "        [-0.19219089, -0.23858446],\n",
       "        [-0.27444891,  0.24045859],\n",
       "        [ 0.3895059 ,  0.08988691],\n",
       "        [-0.26364316,  0.25235945]],\n",
       "\n",
       "       [[-0.01759195,  0.52075899],\n",
       "        [ 0.47542196,  0.15729011],\n",
       "        [-0.05845547, -0.12837537],\n",
       "        [ 0.1309741 , -0.57836443],\n",
       "        [ 0.62962836,  0.11943603],\n",
       "        [ 0.03689283,  0.18135271]],\n",
       "\n",
       "       [[ 0.02615026,  0.19888847],\n",
       "        [-0.23283988,  0.66940465],\n",
       "        [ 0.12285365,  0.18817056],\n",
       "        [ 0.2791232 ,  0.00840774],\n",
       "        [ 0.39420566, -0.54477076],\n",
       "        [ 0.10470712, -0.03898527]]])</details></samp><samp style='font-size: 12px;'><details><summary><b style=\"color: #e55471;\">Tensor</b>(shape=(<b style=\"color: #a4de79;\">6</b>, <b style=\"color: #a4de79;\">6</b>, <b style=\"color: #828fdd;\">2</b>), inds=[<b style=\"color: #e440ca;\">_f485ffAAAfU</b>, <b style=\"color: #4cbdd0;\">_f485ffAAAfV</b>, <b style=\"color: #df546d;\">k2</b>], tags={<b style=\"color: #dd5dd7;\">I2</b>}),</summary>backend=<b style=\"color: #7fdd73;\">numpy</b>, dtype=<b style=\"color: #75d2c6;\">float64</b>, data=array([[[ 0.17300487,  0.1452341 ],\n",
       "        [ 0.05072956, -0.21655656],\n",
       "        [-0.11951717,  0.0164516 ],\n",
       "        [-0.49573617, -0.24265008],\n",
       "        [-0.49654487,  0.2252341 ],\n",
       "        [ 0.15204627, -1.01030682]],\n",
       "\n",
       "       [[ 0.06629101,  0.34486204],\n",
       "        [-0.24145349,  0.21922242],\n",
       "        [-0.41236212, -0.33752958],\n",
       "        [-0.15971546, -0.26872757],\n",
       "        [-0.2686608 ,  0.02625132],\n",
       "        [ 0.0895493 ,  0.26748093]],\n",
       "\n",
       "       [[-0.27318858,  0.05411034],\n",
       "        [ 0.08122274,  0.46185135],\n",
       "        [ 0.24184279,  0.22622276],\n",
       "        [-0.15649679,  0.22316121],\n",
       "        [-0.13082836,  0.46844218],\n",
       "        [ 0.26492388, -0.68596235]],\n",
       "\n",
       "       [[ 0.13478489, -0.05942325],\n",
       "        [-0.21231003,  0.50110784],\n",
       "        [ 0.40876633, -0.23921408],\n",
       "        [ 0.44651062, -0.00157907],\n",
       "        [-0.00547142,  0.16937013],\n",
       "        [-0.0993613 , -0.15092996]],\n",
       "\n",
       "       [[-0.29369094,  0.23103266],\n",
       "        [-0.160969  ,  0.14979569],\n",
       "        [-0.04777629, -0.59528174],\n",
       "        [ 0.20859866, -0.73579083],\n",
       "        [-0.33811745,  0.05502329],\n",
       "        [-0.0195182 , -0.68201824]],\n",
       "\n",
       "       [[ 0.71652297,  0.28527966],\n",
       "        [ 0.53617468,  0.28844975],\n",
       "        [ 0.11104582,  0.16310744],\n",
       "        [-0.40306931,  0.10411826],\n",
       "        [ 0.67530884,  0.20795739],\n",
       "        [ 0.12055242,  0.47637246]]])</details></samp><samp style='font-size: 12px;'><details><summary><b style=\"color: #e55471;\">Tensor</b>(shape=(<b style=\"color: #a4de79;\">6</b>, <b style=\"color: #a4de79;\">6</b>, <b style=\"color: #828fdd;\">2</b>), inds=[<b style=\"color: #4cbdd0;\">_f485ffAAAfV</b>, <b style=\"color: #5ad8a5;\">_f485ffAAAfW</b>, <b style=\"color: #4c7be1;\">k3</b>], tags={<b style=\"color: #dd65d9;\">I3</b>}),</summary>backend=<b style=\"color: #7fdd73;\">numpy</b>, dtype=<b style=\"color: #75d2c6;\">float64</b>, data=array([[[-0.55693736,  0.02460799],\n",
       "        [ 0.52098842,  0.27874011],\n",
       "        [-0.32971185,  0.50982332],\n",
       "        [ 0.09309677, -0.25015664],\n",
       "        [-0.02951856,  0.190586  ],\n",
       "        [-0.02439148,  0.13217868]],\n",
       "\n",
       "       [[ 0.06043738, -0.19544631],\n",
       "        [ 0.488037  , -0.12895165],\n",
       "        [-0.2723767 ,  0.14243389],\n",
       "        [-0.1822881 , -0.07960473],\n",
       "        [-0.26464701, -0.41022278],\n",
       "        [-0.11328723, -0.04517912]],\n",
       "\n",
       "       [[-0.42737308,  0.11363755],\n",
       "        [-0.2949121 , -0.85003948],\n",
       "        [-0.24675294,  0.27344303],\n",
       "        [ 0.0187158 ,  0.03322118],\n",
       "        [-0.30304293,  0.45860757],\n",
       "        [-0.59375399, -0.08602092]],\n",
       "\n",
       "       [[-0.03742015,  0.3725273 ],\n",
       "        [ 0.32854159, -0.13378471],\n",
       "        [ 0.43613269,  0.36687378],\n",
       "        [-0.25292423,  0.18670188],\n",
       "        [ 0.47996022,  0.12555138],\n",
       "        [ 0.61127895,  0.07437745]],\n",
       "\n",
       "       [[ 0.03219336, -0.1194314 ],\n",
       "        [-0.38889091, -0.23136391],\n",
       "        [-0.31710753,  0.0444771 ],\n",
       "        [-0.30312885, -0.07245329],\n",
       "        [-0.15949454, -0.26570361],\n",
       "        [-0.2701674 , -0.34825361]],\n",
       "\n",
       "       [[-0.12698003,  0.22771223],\n",
       "        [-0.44940302,  0.42883916],\n",
       "        [ 0.49170887, -0.53760559],\n",
       "        [-0.76007343,  0.18698531],\n",
       "        [-0.57244274,  0.07702947],\n",
       "        [ 0.1423783 , -0.15007334]]])</details></samp><samp style='font-size: 12px;'><details><summary><b style=\"color: #e55471;\">Tensor</b>(shape=(<b style=\"color: #a4de79;\">6</b>, <b style=\"color: #a4de79;\">6</b>, <b style=\"color: #828fdd;\">2</b>), inds=[<b style=\"color: #5ad8a5;\">_f485ffAAAfW</b>, <b style=\"color: #e0a15a;\">_f485ffAAAfX</b>, <b style=\"color: #462edc;\">k4</b>], tags={<b style=\"color: #998ad1;\">I4</b>}),</summary>backend=<b style=\"color: #7fdd73;\">numpy</b>, dtype=<b style=\"color: #75d2c6;\">float64</b>, data=array([[[ 0.33007823,  0.44169309],\n",
       "        [-0.17591213, -0.18194935],\n",
       "        [ 0.26080534,  0.10875066],\n",
       "        [-0.19208348,  0.14353777],\n",
       "        [-0.08481911, -0.48191181],\n",
       "        [-0.89174715,  0.05884038]],\n",
       "\n",
       "       [[ 0.31425534, -0.29545476],\n",
       "        [ 0.06524383, -0.32017683],\n",
       "        [ 0.27594343,  0.48106217],\n",
       "        [ 0.82219101, -0.22454901],\n",
       "        [ 0.6135703 ,  0.15769415],\n",
       "        [-0.07045759,  0.68951566]],\n",
       "\n",
       "       [[-0.13723848,  0.55552715],\n",
       "        [ 0.33701307, -0.03035889],\n",
       "        [ 0.16598847, -0.02625288],\n",
       "        [-0.50273334, -0.0887265 ],\n",
       "        [ 0.08924677,  0.00644436],\n",
       "        [ 0.70661322, -0.61821085]],\n",
       "\n",
       "       [[ 0.43488901, -0.02070864],\n",
       "        [ 0.15564265,  0.70021465],\n",
       "        [ 0.12284769,  0.1980881 ],\n",
       "        [-0.33778395,  0.12101077],\n",
       "        [-0.56252936, -0.55878136],\n",
       "        [ 0.56639539, -0.69668632]],\n",
       "\n",
       "       [[-0.01899047,  0.00689932],\n",
       "        [-0.25063716,  0.60247567],\n",
       "        [ 0.1262436 ,  0.10654167],\n",
       "        [-0.02477083, -0.27779226],\n",
       "        [-0.15089693,  0.04215592],\n",
       "        [ 0.06497373, -0.03092878]],\n",
       "\n",
       "       [[ 0.22800812, -0.24086482],\n",
       "        [ 0.06184213,  0.3593261 ],\n",
       "        [ 0.41503716,  0.18176758],\n",
       "        [ 0.13860613,  0.16511569],\n",
       "        [-0.56923166,  0.27312484],\n",
       "        [ 0.00918911,  0.15480746]]])</details></samp><samp style='font-size: 12px;'><details><summary><b style=\"color: #e55471;\">Tensor</b>(shape=(<b style=\"color: #a4de79;\">6</b>, <b style=\"color: #a4de79;\">6</b>, <b style=\"color: #828fdd;\">2</b>), inds=[<b style=\"color: #e0a15a;\">_f485ffAAAfX</b>, <b style=\"color: #8e97d9;\">_f485ffAAAfY</b>, <b style=\"color: #85dfdf;\">k5</b>], tags={<b style=\"color: #97dddc;\">I5</b>}),</summary>backend=<b style=\"color: #7fdd73;\">numpy</b>, dtype=<b style=\"color: #75d2c6;\">float64</b>, data=array([[[-0.04966896, -0.45106077],\n",
       "        [ 0.13328987, -0.17174678],\n",
       "        [-0.30685352,  0.23120266],\n",
       "        [-0.40200747,  0.73631887],\n",
       "        [ 0.62573301,  0.20518726],\n",
       "        [-0.74025961, -0.32012152]],\n",
       "\n",
       "       [[ 0.07134802,  0.31903622],\n",
       "        [-0.38653384, -0.05919981],\n",
       "        [-0.40718253,  0.15891719],\n",
       "        [-0.12039481, -0.09211296],\n",
       "        [ 0.27556235, -0.22650399],\n",
       "        [-0.27970875,  0.40749768]],\n",
       "\n",
       "       [[ 0.21665843,  0.52991698],\n",
       "        [ 0.13248226,  0.13150203],\n",
       "        [ 0.24310288,  0.20454912],\n",
       "        [ 0.96732029,  0.03551965],\n",
       "        [ 0.15329336, -0.08219744],\n",
       "        [-0.31301427,  0.13390522]],\n",
       "\n",
       "       [[-0.11793735,  0.24262801],\n",
       "        [ 0.27587363, -0.01706118],\n",
       "        [ 0.01307335, -0.24615112],\n",
       "        [ 0.41188174,  0.45752277],\n",
       "        [-0.16888703,  0.23645399],\n",
       "        [-0.36336549,  0.19212063]],\n",
       "\n",
       "       [[ 0.47228982,  0.51653171],\n",
       "        [ 0.1860699 ,  0.46396894],\n",
       "        [-0.12264489,  0.95001025],\n",
       "        [-0.30115765,  0.07646579],\n",
       "        [-0.15959171, -0.62047559],\n",
       "        [-0.10555485, -0.06682093]],\n",
       "\n",
       "       [[ 0.0155584 ,  0.03362816],\n",
       "        [-0.02378954, -0.16896293],\n",
       "        [-0.10106262, -0.16886374],\n",
       "        [ 0.2616012 ,  0.18736704],\n",
       "        [-0.1580816 , -0.62306737],\n",
       "        [-0.33356524,  0.01965825]]])</details></samp><samp style='font-size: 12px;'><details><summary><b style=\"color: #e55471;\">Tensor</b>(shape=(<b style=\"color: #a4de79;\">6</b>, <b style=\"color: #a4de79;\">6</b>, <b style=\"color: #828fdd;\">2</b>), inds=[<b style=\"color: #8e97d9;\">_f485ffAAAfY</b>, <b style=\"color: #d96759;\">_f485ffAAAfZ</b>, <b style=\"color: #2cb7d3;\">k6</b>], tags={<b style=\"color: #b2de5f;\">I6</b>}),</summary>backend=<b style=\"color: #7fdd73;\">numpy</b>, dtype=<b style=\"color: #75d2c6;\">float64</b>, data=array([[[ 0.60348238,  0.68356228],\n",
       "        [-0.11971819,  0.14313573],\n",
       "        [-0.15152788,  0.49163062],\n",
       "        [ 0.08184565, -0.52198678],\n",
       "        [ 0.16094508,  0.49473187],\n",
       "        [-0.01980886, -0.02933467]],\n",
       "\n",
       "       [[-0.1730969 , -0.08302939],\n",
       "        [-0.27254738,  0.15179647],\n",
       "        [-0.43464527,  0.11287391],\n",
       "        [-0.18815357, -0.66684815],\n",
       "        [ 0.03668575, -0.10410781],\n",
       "        [-0.2213309 ,  0.47626766]],\n",
       "\n",
       "       [[ 0.01800107, -0.09444741],\n",
       "        [ 0.05819812, -0.18232924],\n",
       "        [ 0.20884762, -0.13638303],\n",
       "        [ 0.03987273,  0.29532722],\n",
       "        [ 0.14669464,  0.21874319],\n",
       "        [-0.2116143 ,  0.54412892]],\n",
       "\n",
       "       [[ 0.04877059, -0.0673385 ],\n",
       "        [-0.20453555,  0.13539739],\n",
       "        [ 0.01096866, -0.33322074],\n",
       "        [-0.06441289, -0.49522774],\n",
       "        [-0.03530333,  0.10221834],\n",
       "        [ 0.69237736, -0.28975418]],\n",
       "\n",
       "       [[-0.04892098, -0.0354859 ],\n",
       "        [-0.06058863,  0.40285469],\n",
       "        [-0.0983151 , -0.77294921],\n",
       "        [-0.33320433,  0.74862688],\n",
       "        [ 0.03278347,  0.1017342 ],\n",
       "        [-0.09279091,  0.46519368]],\n",
       "\n",
       "       [[-0.17446609,  0.135353  ],\n",
       "        [ 0.18059465, -0.95012416],\n",
       "        [-0.75814538, -0.0797924 ],\n",
       "        [ 0.37063202,  0.05732332],\n",
       "        [ 0.34952544,  0.06597538],\n",
       "        [-0.7221311 , -0.02063955]]])</details></samp><samp style='font-size: 12px;'><details><summary><b style=\"color: #e55471;\">Tensor</b>(shape=(<b style=\"color: #a4de79;\">6</b>, <b style=\"color: #a4de79;\">6</b>, <b style=\"color: #828fdd;\">2</b>), inds=[<b style=\"color: #d96759;\">_f485ffAAAfZ</b>, <b style=\"color: #7583d5;\">_f485ffAAAfa</b>, <b style=\"color: #53e08f;\">k7</b>], tags={<b style=\"color: #5582d6;\">I7</b>}),</summary>backend=<b style=\"color: #7fdd73;\">numpy</b>, dtype=<b style=\"color: #75d2c6;\">float64</b>, data=array([[[-0.45244191,  0.01817911],\n",
       "        [ 0.45173811, -0.690863  ],\n",
       "        [ 0.19999334,  0.1619966 ],\n",
       "        [ 0.03564622,  0.39618691],\n",
       "        [-0.08674348, -0.75070385],\n",
       "        [ 0.77825223,  0.07768385]],\n",
       "\n",
       "       [[-0.29219345, -0.22596936],\n",
       "        [-0.26682302, -0.57650215],\n",
       "        [-0.16816962,  0.33832089],\n",
       "        [ 0.03309732,  0.25086518],\n",
       "        [-0.6298794 , -0.4814254 ],\n",
       "        [-0.32297702,  0.06870087]],\n",
       "\n",
       "       [[ 0.0705446 , -0.20569348],\n",
       "        [ 0.40643231,  0.01129446],\n",
       "        [ 0.10459294, -0.00342644],\n",
       "        [ 0.08840547,  0.19616235],\n",
       "        [-0.07270374,  0.36483638],\n",
       "        [-0.34791948,  0.76621102]],\n",
       "\n",
       "       [[-0.0677584 ,  0.36350403],\n",
       "        [ 0.20288029, -0.02148119],\n",
       "        [-0.23779412, -0.04438652],\n",
       "        [-0.09184381, -0.03430266],\n",
       "        [ 0.03651781, -0.20101944],\n",
       "        [-0.1042266 ,  0.12792314]],\n",
       "\n",
       "       [[-0.10559729,  0.12733112],\n",
       "        [-0.96186298,  0.35973376],\n",
       "        [ 0.12049713,  0.29840529],\n",
       "        [ 0.58523764, -0.72701804],\n",
       "        [ 0.13048994,  0.12318539],\n",
       "        [ 0.13672046,  0.05313124]],\n",
       "\n",
       "       [[ 0.27421058,  0.06485722],\n",
       "        [ 0.33817943, -0.06283873],\n",
       "        [ 0.25195532, -0.17212884],\n",
       "        [ 0.47659217,  0.62264003],\n",
       "        [-0.08622403, -0.00578203],\n",
       "        [ 0.33290257,  0.43786403]]])</details></samp><samp style='font-size: 12px;'><details><summary><b style=\"color: #e55471;\">Tensor</b>(shape=(<b style=\"color: #a4de79;\">6</b>, <b style=\"color: #828fdd;\">2</b>), inds=[<b style=\"color: #7583d5;\">_f485ffAAAfa</b>, <b style=\"color: #7bcd9f;\">k8</b>], tags={<b style=\"color: #8a3dd8;\">I8</b>}),</summary>backend=<b style=\"color: #7fdd73;\">numpy</b>, dtype=<b style=\"color: #75d2c6;\">float64</b>, data=array([[-0.16560676,  0.12095827],\n",
       "       [-0.29044722,  0.24642882],\n",
       "       [ 0.18266018, -0.35357975],\n",
       "       [ 0.04669777, -0.30169578],\n",
       "       [-0.34096747,  0.02536311],\n",
       "       [-0.08497806,  0.00174597]])</details></samp></details></samp>"
      ],
      "text/plain": [
       "MatrixProductState(tensors=9, indices=17, L=9, max_bond=6)"
      ]
     },
     "execution_count": 45,
     "metadata": {},
     "output_type": "execute_result"
    }
   ],
   "source": [
    "qtn.MPS_rand_state(L=9, bond_dim=6)"
   ]
  },
  {
   "cell_type": "code",
   "execution_count": 46,
   "metadata": {},
   "outputs": [],
   "source": [
    "ops = {\n",
    "    \"Identity\": qml.Identity(wires=[0]),\n",
    "    \"BlockEncode\": qml.BlockEncode([[0.1, 0.2], [0.3, 0.4]], wires=[0, 1]),\n",
    "    \"CNOT\": qml.CNOT(wires=[0, 1]),\n",
    "    \"CRX\": qml.CRX(0, wires=[0, 1]),\n",
    "    \"CRY\": qml.CRY(0, wires=[0, 1]),\n",
    "    \"CRZ\": qml.CRZ(0, wires=[0, 1]),\n",
    "    \"CRot\": qml.CRot(0, 0, 0, wires=[0, 1]),\n",
    "    \"CSWAP\": qml.CSWAP(wires=[0, 1, 2]),\n",
    "    \"CZ\": qml.CZ(wires=[0, 1]),\n",
    "    \"CCZ\": qml.CCZ(wires=[0, 1, 2]),\n",
    "    \"CY\": qml.CY(wires=[0, 1]),\n",
    "    \"CH\": qml.CH(wires=[0, 1]),\n",
    "    \"DiagonalQubitUnitary\": qml.DiagonalQubitUnitary(np.array([1, 1]), wires=[0]),\n",
    "    \"Hadamard\": qml.Hadamard(wires=[0]),\n",
    "    \"MultiRZ\": qml.MultiRZ(0, wires=[0]),\n",
    "    \"PauliX\": qml.X(0),\n",
    "    \"PauliY\": qml.Y(0),\n",
    "    \"PauliZ\": qml.Z(0),\n",
    "    \"X\": qml.X([0]),\n",
    "    \"Y\": qml.Y([0]),\n",
    "    \"Z\": qml.Z([0]),\n",
    "    \"PhaseShift\": qml.PhaseShift(0, wires=[0]),\n",
    "    \"PCPhase\": qml.PCPhase(0, 1, wires=[0, 1]),\n",
    "    \"ControlledPhaseShift\": qml.ControlledPhaseShift(0, wires=[0, 1]),\n",
    "    \"CPhaseShift00\": qml.CPhaseShift00(0, wires=[0, 1]),\n",
    "    \"CPhaseShift01\": qml.CPhaseShift01(0, wires=[0, 1]),\n",
    "    \"CPhaseShift10\": qml.CPhaseShift10(0, wires=[0, 1]),\n",
    "    \"QubitUnitary\": qml.QubitUnitary(np.eye(2), wires=[0]),\n",
    "    \"SpecialUnitary\": qml.SpecialUnitary(np.array([0.2, -0.1, 2.3]), wires=1),\n",
    "    \"ControlledQubitUnitary\": qml.ControlledQubitUnitary(\n",
    "        np.eye(2), control_wires=[1], wires=[0]\n",
    "    ),\n",
    "    \"MultiControlledX\": qml.MultiControlledX(wires=[1, 2, 0]),\n",
    "    \"IntegerComparator\": qml.IntegerComparator(1, geq=True, wires=[0, 1, 2]),\n",
    "    \"RX\": qml.RX(0, wires=[0]),\n",
    "    \"RY\": qml.RY(0, wires=[0]),\n",
    "    \"RZ\": qml.RZ(0, wires=[0]),\n",
    "    \"Rot\": qml.Rot(0, 0, 0, wires=[0]),\n",
    "    \"S\": qml.S(wires=[0]),\n",
    "    \"Adjoint(S)\": qml.adjoint(qml.S(wires=[0])),\n",
    "    \"SWAP\": qml.SWAP(wires=[0, 1]),\n",
    "    \"ISWAP\": qml.ISWAP(wires=[0, 1]),\n",
    "    \"PSWAP\": qml.PSWAP(0, wires=[0, 1]),\n",
    "    \"ECR\": qml.ECR(wires=[0, 1]),\n",
    "    \"Adjoint(ISWAP)\": qml.adjoint(qml.ISWAP(wires=[0, 1])),\n",
    "    \"T\": qml.T(wires=[0]),\n",
    "    \"Adjoint(T)\": qml.adjoint(qml.T(wires=[0])),\n",
    "    \"SX\": qml.SX(wires=[0]),\n",
    "    \"Adjoint(SX)\": qml.adjoint(qml.SX(wires=[0])),\n",
    "    \"Toffoli\": qml.Toffoli(wires=[0, 1, 2]),\n",
    "    \"QFT\": qml.templates.QFT(wires=[0, 1, 2]),\n",
    "    \"IsingXX\": qml.IsingXX(0, wires=[0, 1]),\n",
    "    \"IsingYY\": qml.IsingYY(0, wires=[0, 1]),\n",
    "    \"IsingZZ\": qml.IsingZZ(0, wires=[0, 1]),\n",
    "    \"IsingXY\": qml.IsingXY(0, wires=[0, 1]),\n",
    "    \"SingleExcitation\": qml.SingleExcitation(0, wires=[0, 1]),\n",
    "    \"SingleExcitationPlus\": qml.SingleExcitationPlus(0, wires=[0, 1]),\n",
    "    \"SingleExcitationMinus\": qml.SingleExcitationMinus(0, wires=[0, 1]),\n",
    "    \"DoubleExcitation\": qml.DoubleExcitation(0, wires=[0, 1, 2, 3]),\n",
    "    \"DoubleExcitationPlus\": qml.DoubleExcitationPlus(0, wires=[0, 1, 2, 3]),\n",
    "    \"DoubleExcitationMinus\": qml.DoubleExcitationMinus(0, wires=[0, 1, 2, 3]),\n",
    "    \"QubitCarry\": qml.QubitCarry(wires=[0, 1, 2, 3]),\n",
    "    \"QubitSum\": qml.QubitSum(wires=[0, 1, 2]),\n",
    "    \"PauliRot\": qml.PauliRot(0, \"XXYY\", wires=[0, 1, 2, 3]),\n",
    "    \"U1\": qml.U1(0, wires=0),\n",
    "    \"U2\": qml.U2(0, 0, wires=0),\n",
    "    \"U3\": qml.U3(0, 0, 0, wires=0),\n",
    "    \"SISWAP\": qml.SISWAP(wires=[0, 1]),\n",
    "    \"Adjoint(SISWAP)\": qml.adjoint(qml.SISWAP(wires=[0, 1])),\n",
    "    \"OrbitalRotation\": qml.OrbitalRotation(0, wires=[0, 1, 2, 3]),\n",
    "    \"FermionicSWAP\": qml.FermionicSWAP(0, wires=[0, 1]),\n",
    "    \"GlobalPhase\": qml.GlobalPhase(0.123, wires=[0, 1]),\n",
    "}\n",
    "\n",
    "all_ops = ops.keys()"
   ]
  },
  {
   "cell_type": "code",
   "execution_count": 47,
   "metadata": {},
   "outputs": [],
   "source": [
    "_operations = {\n",
    "    \"Identity\",\n",
    "    \"QubitUnitary\",\n",
    "    \"ControlledQubitUnitary\",\n",
    "    \"MultiControlledX\",\n",
    "    \"DiagonalQubitUnitary\",\n",
    "    \"PauliX\",\n",
    "    \"PauliY\",\n",
    "    \"PauliZ\",\n",
    "    \"MultiRZ\",\n",
    "    \"GlobalPhase\",\n",
    "    \"Hadamard\",\n",
    "    \"S\",\n",
    "    \"Adjoint(S)\",\n",
    "    \"T\",\n",
    "    \"Adjoint(T)\",\n",
    "    \"SX\",\n",
    "    \"Adjoint(SX)\",\n",
    "    \"CNOT\",\n",
    "    \"SWAP\",\n",
    "    \"ISWAP\",\n",
    "    \"PSWAP\",\n",
    "    \"Adjoint(ISWAP)\",\n",
    "    \"SISWAP\",\n",
    "    \"Adjoint(SISWAP)\",\n",
    "    \"SQISW\",\n",
    "    \"CSWAP\",\n",
    "    \"Toffoli\",\n",
    "    \"CY\",\n",
    "    \"CZ\",\n",
    "    \"PhaseShift\",\n",
    "    \"ControlledPhaseShift\",\n",
    "    \"CPhase\",\n",
    "    \"RX\",\n",
    "    \"RY\",\n",
    "    \"RZ\",\n",
    "    \"Rot\",\n",
    "    \"CRX\",\n",
    "    \"CRY\",\n",
    "    \"CRZ\",\n",
    "    \"C(PauliX)\",\n",
    "    \"C(PauliY)\",\n",
    "    \"C(PauliZ)\",\n",
    "    \"C(Hadamard)\",\n",
    "    \"C(S)\",\n",
    "    \"C(T)\",\n",
    "    \"C(PhaseShift)\",\n",
    "    \"C(RX)\",\n",
    "    \"C(RY)\",\n",
    "    \"C(RZ)\",\n",
    "    \"C(Rot)\",\n",
    "    \"C(SWAP)\",\n",
    "    \"C(IsingXX)\",\n",
    "    \"C(IsingXY)\",\n",
    "    \"C(IsingYY)\",\n",
    "    \"C(IsingZZ)\",\n",
    "    \"C(SingleExcitation)\",\n",
    "    \"C(SingleExcitationMinus)\",\n",
    "    \"C(SingleExcitationPlus)\",\n",
    "    \"C(DoubleExcitation)\",\n",
    "    \"C(DoubleExcitationMinus)\",\n",
    "    \"C(DoubleExcitationPlus)\",\n",
    "    \"C(MultiRZ)\",\n",
    "    \"C(GlobalPhase)\",\n",
    "    \"CRot\",\n",
    "    \"IsingXX\",\n",
    "    \"IsingYY\",\n",
    "    \"IsingZZ\",\n",
    "    \"IsingXY\",\n",
    "    \"SingleExcitation\",\n",
    "    \"SingleExcitationPlus\",\n",
    "    \"SingleExcitationMinus\",\n",
    "    \"DoubleExcitation\",\n",
    "    \"DoubleExcitationPlus\",\n",
    "    \"DoubleExcitationMinus\",\n",
    "    \"QubitCarry\",\n",
    "    \"QubitSum\",\n",
    "    \"OrbitalRotation\",\n",
    "    \"QFT\",\n",
    "    \"ECR\",\n",
    "    \"BlockEncode\",\n",
    "}"
   ]
  },
  {
   "cell_type": "code",
   "execution_count": 48,
   "metadata": {},
   "outputs": [
    {
     "name": "stdout",
     "output_type": "stream",
     "text": [
      "CCZ(wires=[0, 1, 2])\n",
      "CH(wires=[0, 1])\n",
      "PCPhase(0, wires=[0, 1])\n",
      "CPhaseShift00(0, wires=[0, 1])\n",
      "CPhaseShift01(0, wires=[0, 1])\n",
      "CPhaseShift10(0, wires=[0, 1])\n",
      "SpecialUnitary(array([ 0.2, -0.1,  2.3]), wires=[1])\n",
      "IntegerComparator(wires=[0, 1, 2])\n",
      "PauliRot(0, XXYY, wires=[0, 1, 2, 3])\n",
      "U1(0, wires=[0])\n",
      "U2(0, 0, wires=[0])\n",
      "U3(0, 0, 0, wires=[0])\n",
      "FermionicSWAP(0, wires=[0, 1])\n"
     ]
    }
   ],
   "source": [
    "for op in all_ops:\n",
    "    if not ops[op].has_matrix:\n",
    "        print(ops[op])\n",
    "        continue\n",
    "    if ops[op].name not in _operations:\n",
    "        print(ops[op])"
   ]
  },
  {
   "cell_type": "code",
   "execution_count": 49,
   "metadata": {},
   "outputs": [
    {
     "name": "stdout",
     "output_type": "stream",
     "text": [
      "C(DoubleExcitationMinus)\n",
      "C(IsingYY)\n",
      "C(S)\n",
      "C(DoubleExcitationPlus)\n",
      "C(RY)\n",
      "C(IsingXY)\n",
      "C(PauliX)\n",
      "CPhase\n",
      "C(SingleExcitationMinus)\n",
      "C(SWAP)\n",
      "C(SingleExcitationPlus)\n",
      "C(IsingZZ)\n",
      "C(PauliY)\n",
      "C(T)\n",
      "C(Hadamard)\n",
      "C(PhaseShift)\n",
      "C(PauliZ)\n",
      "C(SingleExcitation)\n",
      "C(DoubleExcitation)\n",
      "C(RZ)\n",
      "C(IsingXX)\n",
      "C(MultiRZ)\n",
      "SQISW\n",
      "C(GlobalPhase)\n",
      "C(RX)\n",
      "C(Rot)\n"
     ]
    }
   ],
   "source": [
    "for op in _operations:\n",
    "    if op not in all_ops:\n",
    "        print(op)"
   ]
  },
  {
   "cell_type": "code",
   "execution_count": 50,
   "metadata": {},
   "outputs": [
    {
     "name": "stdout",
     "output_type": "stream",
     "text": [
      "[[1 0 0 0]\n",
      " [0 1 0 0]\n",
      " [0 0 0 1]\n",
      " [0 0 1 0]]\n",
      "CNOT\n",
      "[[1 0 0 0 0 0 0 0]\n",
      " [0 1 0 0 0 0 0 0]\n",
      " [0 0 1 0 0 0 0 0]\n",
      " [0 0 0 1 0 0 0 0]\n",
      " [0 0 0 0 1 0 0 0]\n",
      " [0 0 0 0 0 0 1 0]\n",
      " [0 0 0 0 0 1 0 0]\n",
      " [0 0 0 0 0 0 0 1]]\n",
      "CSWAP\n",
      "[[ 1  0  0  0]\n",
      " [ 0  1  0  0]\n",
      " [ 0  0  1  0]\n",
      " [ 0  0  0 -1]]\n",
      "CZ\n",
      "[[ 1  0  0  0  0  0  0  0]\n",
      " [ 0  1  0  0  0  0  0  0]\n",
      " [ 0  0  1  0  0  0  0  0]\n",
      " [ 0  0  0  1  0  0  0  0]\n",
      " [ 0  0  0  0  1  0  0  0]\n",
      " [ 0  0  0  0  0  1  0  0]\n",
      " [ 0  0  0  0  0  0  1  0]\n",
      " [ 0  0  0  0  0  0  0 -1]]\n",
      "CCZ\n",
      "[[1 0]\n",
      " [0 1]]\n",
      "DiagonalQubitUnitary\n",
      "[[0 1]\n",
      " [1 0]]\n",
      "PauliX\n",
      "[[ 1  0]\n",
      " [ 0 -1]]\n",
      "PauliZ\n",
      "[[0 1]\n",
      " [1 0]]\n",
      "PauliX\n",
      "[[ 1  0]\n",
      " [ 0 -1]]\n",
      "PauliZ\n",
      "[[1 0 0 0]\n",
      " [0 0 1 0]\n",
      " [0 1 0 0]\n",
      " [0 0 0 1]]\n",
      "SWAP\n",
      "[[1 0 0 0 0 0 0 0]\n",
      " [0 1 0 0 0 0 0 0]\n",
      " [0 0 1 0 0 0 0 0]\n",
      " [0 0 0 1 0 0 0 0]\n",
      " [0 0 0 0 1 0 0 0]\n",
      " [0 0 0 0 0 1 0 0]\n",
      " [0 0 0 0 0 0 0 1]\n",
      " [0 0 0 0 0 0 1 0]]\n",
      "Toffoli\n",
      "[[1 0 0 0 0 0 0 0 0 0 0 0 0 0 0 0]\n",
      " [0 1 0 0 0 0 0 0 0 0 0 0 0 0 0 0]\n",
      " [0 0 1 0 0 0 0 0 0 0 0 0 0 0 0 0]\n",
      " [0 0 0 1 0 0 0 0 0 0 0 0 0 0 0 0]\n",
      " [0 0 0 0 0 0 0 1 0 0 0 0 0 0 0 0]\n",
      " [0 0 0 0 0 0 1 0 0 0 0 0 0 0 0 0]\n",
      " [0 0 0 0 1 0 0 0 0 0 0 0 0 0 0 0]\n",
      " [0 0 0 0 0 1 0 0 0 0 0 0 0 0 0 0]\n",
      " [0 0 0 0 0 0 0 0 1 0 0 0 0 0 0 0]\n",
      " [0 0 0 0 0 0 0 0 0 1 0 0 0 0 0 0]\n",
      " [0 0 0 0 0 0 0 0 0 0 0 1 0 0 0 0]\n",
      " [0 0 0 0 0 0 0 0 0 0 1 0 0 0 0 0]\n",
      " [0 0 0 0 0 0 0 0 0 0 0 0 0 0 0 1]\n",
      " [0 0 0 0 0 0 0 0 0 0 0 0 0 0 1 0]\n",
      " [0 0 0 0 0 0 0 0 0 0 0 0 0 1 0 0]\n",
      " [0 0 0 0 0 0 0 0 0 0 0 0 1 0 0 0]]\n",
      "QubitCarry\n",
      "[[1 0 0 0 0 0 0 0]\n",
      " [0 1 0 0 0 0 0 0]\n",
      " [0 0 0 1 0 0 0 0]\n",
      " [0 0 1 0 0 0 0 0]\n",
      " [0 0 0 0 0 1 0 0]\n",
      " [0 0 0 0 1 0 0 0]\n",
      " [0 0 0 0 0 0 1 0]\n",
      " [0 0 0 0 0 0 0 1]]\n",
      "QubitSum\n"
     ]
    }
   ],
   "source": [
    "for op in all_ops:\n",
    "    if not ops[op].has_matrix:\n",
    "        print(ops[op])\n",
    "        assert False\n",
    "    mat = ops[op].matrix()\n",
    "    name = ops[op].name\n",
    "    if mat.dtype == int:\n",
    "        print(mat)\n",
    "        print(name)"
   ]
  },
  {
   "cell_type": "code",
   "execution_count": 51,
   "metadata": {},
   "outputs": [],
   "source": [
    "assert isinstance(1.0, (float, np.ndarray))"
   ]
  },
  {
   "cell_type": "code",
   "execution_count": 52,
   "metadata": {},
   "outputs": [],
   "source": [
    "result = 1.0"
   ]
  },
  {
   "cell_type": "code",
   "execution_count": 53,
   "metadata": {},
   "outputs": [],
   "source": [
    "assert isinstance(result, (float, np.ndarray))"
   ]
  },
  {
   "cell_type": "code",
   "execution_count": 54,
   "metadata": {},
   "outputs": [
    {
     "data": {
      "text/plain": [
       "[CNOT(wires=[5, 6]),\n",
       " CNOT(wires=[7, 5]),\n",
       " Hadamard(wires=[6]),\n",
       " Hadamard(wires=[7]),\n",
       " CNOT(wires=[5, 6]),\n",
       " CNOT(wires=[7, 4]),\n",
       " RY(0.025, wires=[4]),\n",
       " RY(-0.025, wires=[7]),\n",
       " CNOT(wires=[7, 6]),\n",
       " Hadamard(wires=[6]),\n",
       " CNOT(wires=[6, 4]),\n",
       " RY(0.025, wires=[4]),\n",
       " RY(-0.025, wires=[7]),\n",
       " CNOT(wires=[5, 4]),\n",
       " CNOT(wires=[5, 7]),\n",
       " RY(-0.025, wires=[4]),\n",
       " RY(0.025, wires=[7]),\n",
       " CNOT(wires=[6, 4]),\n",
       " Hadamard(wires=[6]),\n",
       " CNOT(wires=[7, 6]),\n",
       " RY(-0.025, wires=[4]),\n",
       " RY(0.025, wires=[7]),\n",
       " CNOT(wires=[7, 4]),\n",
       " CNOT(wires=[5, 7]),\n",
       " Hadamard(wires=[7]),\n",
       " Hadamard(wires=[6]),\n",
       " CNOT(wires=[7, 5]),\n",
       " CNOT(wires=[5, 6])]"
      ]
     },
     "execution_count": 54,
     "metadata": {},
     "output_type": "execute_result"
    }
   ],
   "source": [
    "qml.DoubleExcitation(phi, wires=[7, 4, 5, 6]).decomposition()"
   ]
  },
  {
   "cell_type": "code",
   "execution_count": 55,
   "metadata": {},
   "outputs": [],
   "source": [
    "ops = qml.Toffoli(wires=[2, 7, 5]).decomposition()"
   ]
  },
  {
   "cell_type": "code",
   "execution_count": 56,
   "metadata": {},
   "outputs": [
    {
     "name": "stdout",
     "output_type": "stream",
     "text": [
      "[[ 0.70710678  0.70710678]\n",
      " [ 0.70710678 -0.70710678]]\n",
      "[[1 0 0 0]\n",
      " [0 1 0 0]\n",
      " [0 0 0 1]\n",
      " [0 0 1 0]]\n",
      "[[1.        -0.j         0.        -0.j        ]\n",
      " [0.        -0.j         0.70710678-0.70710678j]]\n",
      "[[1 0 0 0]\n",
      " [0 1 0 0]\n",
      " [0 0 0 1]\n",
      " [0 0 1 0]]\n",
      "[[1.        +0.j         0.        +0.j        ]\n",
      " [0.        +0.j         0.70710678+0.70710678j]]\n",
      "[[1 0 0 0]\n",
      " [0 1 0 0]\n",
      " [0 0 0 1]\n",
      " [0 0 1 0]]\n",
      "[[1.        -0.j         0.        -0.j        ]\n",
      " [0.        -0.j         0.70710678-0.70710678j]]\n",
      "[[1 0 0 0]\n",
      " [0 1 0 0]\n",
      " [0 0 0 1]\n",
      " [0 0 1 0]]\n",
      "[[1.        +0.j         0.        +0.j        ]\n",
      " [0.        +0.j         0.70710678+0.70710678j]]\n",
      "[[1.        +0.j         0.        +0.j        ]\n",
      " [0.        +0.j         0.70710678+0.70710678j]]\n",
      "[[1 0 0 0]\n",
      " [0 1 0 0]\n",
      " [0 0 0 1]\n",
      " [0 0 1 0]]\n",
      "[[ 0.70710678  0.70710678]\n",
      " [ 0.70710678 -0.70710678]]\n",
      "[[1.        +0.j         0.        +0.j        ]\n",
      " [0.        +0.j         0.70710678+0.70710678j]]\n",
      "[[1.        -0.j         0.        -0.j        ]\n",
      " [0.        -0.j         0.70710678-0.70710678j]]\n",
      "[[1 0 0 0]\n",
      " [0 1 0 0]\n",
      " [0 0 0 1]\n",
      " [0 0 1 0]]\n"
     ]
    }
   ],
   "source": [
    "for op in ops:\n",
    "    print(op.matrix())"
   ]
  },
  {
   "cell_type": "code",
   "execution_count": 57,
   "metadata": {},
   "outputs": [
    {
     "data": {
      "text/plain": [
       "DoubleExcitationPlus(0.2, wires=[0, 2, 3, 4])"
      ]
     },
     "execution_count": 57,
     "metadata": {},
     "output_type": "execute_result"
    }
   ],
   "source": [
    "qml.DoubleExcitationPlus(phi, wires=[0, 2, 3, 4])"
   ]
  },
  {
   "cell_type": "code",
   "execution_count": 58,
   "metadata": {},
   "outputs": [],
   "source": [
    "def decompose_with_property(op):\n",
    "    # Check if the current operator meets the required property\n",
    "    if len(op.wires) <= 2:\n",
    "        return [op]\n",
    "\n",
    "    # Decompose the operator and process each sub-operator recursively\n",
    "    decomposed_ops = []\n",
    "    for sub_op in op.decomposition():\n",
    "        decomposed_ops.extend(decompose_with_property(sub_op))\n",
    "\n",
    "    return decomposed_ops\n",
    "\n",
    "\n",
    "# Example usage\n",
    "op = qml.DoubleExcitation(phi, wires=[0, 2, 3, 4])\n",
    "decomposed_ops = decompose_with_property(op)"
   ]
  },
  {
   "cell_type": "code",
   "execution_count": 59,
   "metadata": {},
   "outputs": [
    {
     "data": {
      "text/plain": [
       "[CNOT(wires=[3, 4]),\n",
       " CNOT(wires=[0, 3]),\n",
       " Hadamard(wires=[4]),\n",
       " Hadamard(wires=[0]),\n",
       " CNOT(wires=[3, 4]),\n",
       " CNOT(wires=[0, 2]),\n",
       " RY(0.025, wires=[2]),\n",
       " RY(-0.025, wires=[0]),\n",
       " CNOT(wires=[0, 4]),\n",
       " Hadamard(wires=[4]),\n",
       " CNOT(wires=[4, 2]),\n",
       " RY(0.025, wires=[2]),\n",
       " RY(-0.025, wires=[0]),\n",
       " CNOT(wires=[3, 2]),\n",
       " CNOT(wires=[3, 0]),\n",
       " RY(-0.025, wires=[2]),\n",
       " RY(0.025, wires=[0]),\n",
       " CNOT(wires=[4, 2]),\n",
       " Hadamard(wires=[4]),\n",
       " CNOT(wires=[0, 4]),\n",
       " RY(-0.025, wires=[2]),\n",
       " RY(0.025, wires=[0]),\n",
       " CNOT(wires=[0, 2]),\n",
       " CNOT(wires=[3, 0]),\n",
       " Hadamard(wires=[0]),\n",
       " Hadamard(wires=[4]),\n",
       " CNOT(wires=[0, 3]),\n",
       " CNOT(wires=[3, 4])]"
      ]
     },
     "execution_count": 59,
     "metadata": {},
     "output_type": "execute_result"
    }
   ],
   "source": [
    "decomposed_ops"
   ]
  },
  {
   "cell_type": "code",
   "execution_count": null,
   "metadata": {},
   "outputs": [],
   "source": []
  }
 ],
 "metadata": {
  "kernelspec": {
   "display_name": "PennyLane",
   "language": "python",
   "name": "python3"
  },
  "language_info": {
   "codemirror_mode": {
    "name": "ipython",
    "version": 3
   },
   "file_extension": ".py",
   "mimetype": "text/x-python",
   "name": "python",
   "nbconvert_exporter": "python",
   "pygments_lexer": "ipython3",
   "version": "3.9.7"
  }
 },
 "nbformat": 4,
 "nbformat_minor": 2
}
