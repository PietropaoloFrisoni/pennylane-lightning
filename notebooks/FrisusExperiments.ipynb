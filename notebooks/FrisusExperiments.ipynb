{
 "cells": [
  {
   "cell_type": "markdown",
   "metadata": {},
   "source": [
    "# Understanding the execution flow from `LightningQubit`"
   ]
  },
  {
   "cell_type": "code",
   "execution_count": 1,
   "metadata": {},
   "outputs": [
    {
     "name": "stderr",
     "output_type": "stream",
     "text": [
      "/home/pietropaolo.frisoni/anaconda3/envs/PennyLane/lib/python3.9/site-packages/cotengra/hyperoptimizers/hyper.py:34: UserWarning: Couldn't import `kahypar` - skipping from default hyper optimizer and using basic `labels` method instead.\n",
      "  warnings.warn(\n"
     ]
    }
   ],
   "source": [
    "from typing import Iterable, Union\n",
    "import quimb.tensor as qtn\n",
    "import pennylane as qml\n",
    "from pennylane.wires import Wires\n",
    "import numpy as np"
   ]
  },
  {
   "cell_type": "markdown",
   "metadata": {},
   "source": [
    "## Approach 1: choosing a tape"
   ]
  },
  {
   "cell_type": "code",
   "execution_count": 2,
   "metadata": {},
   "outputs": [],
   "source": [
    "theta = 0.1\n",
    "phi = 0.2\n",
    "\n",
    "O1 = qml.Identity(wires=[0])\n",
    "O2 = qml.PauliZ(wires=[1])\n",
    "\n",
    "ops = [\n",
    "    qml.DoubleExcitation(phi, wires=[12, 11, 0, 9]),\n",
    "    qml.PauliX(wires=[0]),\n",
    "    qml.RX(theta, wires=[0]),\n",
    "    qml.qml.CSWAP(wires=[7, 0, 5]),\n",
    "    qml.RX(phi, wires=[1]),\n",
    "    qml.CNOT(wires=[3, 4]),\n",
    "    qml.DoubleExcitation(phi, wires=[1, 2, 3, 4]),\n",
    "    qml.qml.CSWAP(wires=[0, 1, 2]),\n",
    "    qml.Hadamard(wires=[4]),\n",
    "    qml.qml.CSWAP(wires=[2, 3, 4]),\n",
    "    qml.CNOT(wires=[2, 4]),\n",
    "    qml.DoubleExcitation(phi, wires=[0, 1, 3, 4]),\n",
    "]\n",
    "\n",
    "meas = [\n",
    "    qml.expval(O2),\n",
    "    qml.expval(O2),\n",
    "    qml.var(qml.PauliY(wires=[2])),\n",
    "    qml.expval(O1),\n",
    "    qml.var(qml.PauliY(wires=[4])),\n",
    "]\n",
    "\n",
    "\n",
    "tape = qml.tape.QuantumScript(ops=ops, measurements=meas)"
   ]
  },
  {
   "cell_type": "code",
   "execution_count": 3,
   "metadata": {},
   "outputs": [
    {
     "data": {
      "text/plain": [
       "<Wires = [12, 11, 0, 9, 7, 5, 1, 3, 4, 2]>"
      ]
     },
     "execution_count": 3,
     "metadata": {},
     "output_type": "execute_result"
    }
   ],
   "source": [
    "tape.wires"
   ]
  },
  {
   "cell_type": "code",
   "execution_count": 4,
   "metadata": {},
   "outputs": [
    {
     "data": {
      "text/plain": [
       "[DoubleExcitation(0.2, wires=[12, 11, 0, 9]),\n",
       " X(0),\n",
       " RX(0.1, wires=[0]),\n",
       " CSWAP(wires=[7, 0, 5]),\n",
       " RX(0.2, wires=[1]),\n",
       " CNOT(wires=[3, 4]),\n",
       " DoubleExcitation(0.2, wires=[1, 2, 3, 4]),\n",
       " CSWAP(wires=[0, 1, 2]),\n",
       " Hadamard(wires=[4]),\n",
       " CSWAP(wires=[2, 3, 4]),\n",
       " CNOT(wires=[2, 4]),\n",
       " DoubleExcitation(0.2, wires=[0, 1, 3, 4])]"
      ]
     },
     "execution_count": 4,
     "metadata": {},
     "output_type": "execute_result"
    }
   ],
   "source": [
    "tape.operations"
   ]
  },
  {
   "cell_type": "code",
   "execution_count": 5,
   "metadata": {},
   "outputs": [
    {
     "data": {
      "text/plain": [
       "[Z(1), Z(1), Y(2), I(0), Y(4)]"
      ]
     },
     "execution_count": 5,
     "metadata": {},
     "output_type": "execute_result"
    }
   ],
   "source": [
    "tape.observables"
   ]
  },
  {
   "cell_type": "code",
   "execution_count": 6,
   "metadata": {},
   "outputs": [
    {
     "data": {
      "text/plain": [
       "[expval(Z(1)), expval(Z(1)), var(Y(2)), expval(I(0)), var(Y(4))]"
      ]
     },
     "execution_count": 6,
     "metadata": {},
     "output_type": "execute_result"
    }
   ],
   "source": [
    "tape.measurements"
   ]
  },
  {
   "cell_type": "code",
   "execution_count": 7,
   "metadata": {},
   "outputs": [
    {
     "data": {
      "text/plain": [
       "<Wires = [12, 11, 0, 9, 7, 5, 1, 3, 4, 2]>"
      ]
     },
     "execution_count": 7,
     "metadata": {},
     "output_type": "execute_result"
    }
   ],
   "source": [
    "tape.wires"
   ]
  },
  {
   "cell_type": "code",
   "execution_count": 8,
   "metadata": {},
   "outputs": [
    {
     "name": "stdout",
     "output_type": "stream",
     "text": [
      "Frisus log: execute called with:\n",
      "execution_config=ExecutionConfig(grad_on_execution=None, use_device_gradient=None, use_device_jacobian_product=None, gradient_method=None, gradient_keyword_arguments={}, device_options={}, interface=None, derivative_order=1)\n",
      "circuits=(<QuantumScript: wires=[12, 11, 0, 9, 7, 5, 1, 3, 4, 2], params=5>,)\n",
      "\n"
     ]
    },
    {
     "data": {
      "text/plain": [
       "(0.9999502079587257, 0.9999502079587257, 0.9901818584603551, 1.0, 1.0)"
      ]
     },
     "execution_count": 8,
     "metadata": {},
     "output_type": "execute_result"
    }
   ],
   "source": [
    "dev = qml.device(\"lightning.qubit\", wires=tape.wires)\n",
    "\n",
    "dev.execute(circuits=tape)"
   ]
  },
  {
   "cell_type": "code",
   "execution_count": null,
   "metadata": {},
   "outputs": [],
   "source": []
  },
  {
   "cell_type": "code",
   "execution_count": null,
   "metadata": {},
   "outputs": [],
   "source": []
  },
  {
   "cell_type": "markdown",
   "metadata": {},
   "source": [
    "## Learning from `LightningQubit` using Python API"
   ]
  },
  {
   "cell_type": "code",
   "execution_count": 9,
   "metadata": {},
   "outputs": [],
   "source": [
    "from pennylane_lightning.lightning_qubit import LightningQubit"
   ]
  },
  {
   "cell_type": "code",
   "execution_count": 67,
   "metadata": {},
   "outputs": [],
   "source": [
    "obj = LightningQubit(wires=tape.wires)"
   ]
  },
  {
   "cell_type": "code",
   "execution_count": 68,
   "metadata": {},
   "outputs": [
    {
     "data": {
      "text/plain": [
       "<pennylane.tracker.Tracker at 0x793c94f4a460>"
      ]
     },
     "execution_count": 68,
     "metadata": {},
     "output_type": "execute_result"
    }
   ],
   "source": [
    "obj.tracker"
   ]
  },
  {
   "cell_type": "code",
   "execution_count": 71,
   "metadata": {},
   "outputs": [],
   "source": [
    "program, config = obj.preprocess()"
   ]
  },
  {
   "cell_type": "code",
   "execution_count": 73,
   "metadata": {},
   "outputs": [
    {
     "data": {
      "text/plain": [
       "<validate_measurements([], {'name': 'lightning.qubit'})>"
      ]
     },
     "execution_count": 73,
     "metadata": {},
     "output_type": "execute_result"
    }
   ],
   "source": [
    "program[0]"
   ]
  },
  {
   "cell_type": "code",
   "execution_count": 12,
   "metadata": {},
   "outputs": [
    {
     "name": "stdout",
     "output_type": "stream",
     "text": [
      "Frisus log: execute called with:\n",
      "execution_config=ExecutionConfig(grad_on_execution=None, use_device_gradient=None, use_device_jacobian_product=None, gradient_method=None, gradient_keyword_arguments={}, device_options={}, interface=None, derivative_order=1)\n",
      "circuits=(<QuantumScript: wires=[12, 11, 0, 9, 7, 5, 1, 3, 4, 2], params=5>,)\n",
      "\n"
     ]
    },
    {
     "data": {
      "text/plain": [
       "(0.9999502079587257, 0.9999502079587257, 0.9901818584603551, 1.0, 1.0)"
      ]
     },
     "execution_count": 12,
     "metadata": {},
     "output_type": "execute_result"
    }
   ],
   "source": [
    "obj.execute(tape)"
   ]
  },
  {
   "cell_type": "code",
   "execution_count": null,
   "metadata": {},
   "outputs": [],
   "source": []
  },
  {
   "cell_type": "code",
   "execution_count": null,
   "metadata": {},
   "outputs": [],
   "source": []
  },
  {
   "cell_type": "markdown",
   "metadata": {},
   "source": [
    "## Testing `LightningTensor` "
   ]
  },
  {
   "cell_type": "code",
   "execution_count": 13,
   "metadata": {},
   "outputs": [],
   "source": [
    "wires = tape.wires\n",
    "backend = \"quimb\"\n",
    "method = \"mps\"\n",
    "c_dtype = np.complex128\n",
    "max_bond_dim = None\n",
    "cutoff = 0.0"
   ]
  },
  {
   "cell_type": "code",
   "execution_count": 14,
   "metadata": {},
   "outputs": [],
   "source": [
    "from pennylane_lightning.lightning_tensor import LightningTensor"
   ]
  },
  {
   "cell_type": "code",
   "execution_count": null,
   "metadata": {},
   "outputs": [],
   "source": []
  },
  {
   "cell_type": "code",
   "execution_count": 15,
   "metadata": {},
   "outputs": [],
   "source": [
    "obj = LightningTensor(\n",
    "    wires=wires,\n",
    "    backend=backend,\n",
    "    method=method,\n",
    "    c_dtype=c_dtype,\n",
    "    max_bond_dim=max_bond_dim,\n",
    "    cutoff=cutoff,\n",
    ")"
   ]
  },
  {
   "cell_type": "code",
   "execution_count": 16,
   "metadata": {},
   "outputs": [
    {
     "data": {
      "text/html": [
       "<samp style='font-size: 12px;'><details><summary><b style=\"color: #d75692;\">MatrixProductState</b>(tensors=10, indices=19, L=10, max_bond=2)</summary><samp style='font-size: 12px;'><details><summary><b style=\"color: #e55471;\">Tensor</b>(shape=(<b style=\"color: #45ce3d;\">1</b>, <b style=\"color: #828fdd;\">2</b>), inds=[<b style=\"color: #75cdb2;\">_bcb3eaAAAAA</b>, <b style=\"color: #b1dc61;\">k0</b>], tags={<b style=\"color: #74d649;\">0</b>, <b style=\"color: #45ce3d;\">1</b>, <b style=\"color: #828fdd;\">2</b>, <b style=\"color: #8a5bcf;\">3</b>, <b style=\"color: #80d749;\">4</b>, <b style=\"color: #7355d7;\">5</b>, <b style=\"color: #a4de79;\">6</b>, <b style=\"color: #7930d2;\">7</b>, <b style=\"color: #39acd6;\">8</b>, <b style=\"color: #c14bdb;\">9</b>, <b style=\"color: #d2b137;\">I0</b>, <b style=\"color: #d3b991;\">PSI0</b>}),</summary>backend=<b style=\"color: #7fdd73;\">numpy</b>, dtype=<b style=\"color: #443ce1;\">complex128</b>, data=array([[1.+0.j, 0.+0.j]])</details></samp><samp style='font-size: 12px;'><details><summary><b style=\"color: #e55471;\">Tensor</b>(shape=(<b style=\"color: #45ce3d;\">1</b>, <b style=\"color: #45ce3d;\">1</b>, <b style=\"color: #828fdd;\">2</b>), inds=[<b style=\"color: #75cdb2;\">_bcb3eaAAAAA</b>, <b style=\"color: #e096b4;\">_bcb3eaAAAAB</b>, <b style=\"color: #8aa5db;\">k1</b>], tags={<b style=\"color: #74d649;\">0</b>, <b style=\"color: #45ce3d;\">1</b>, <b style=\"color: #828fdd;\">2</b>, <b style=\"color: #8a5bcf;\">3</b>, <b style=\"color: #80d749;\">4</b>, <b style=\"color: #7355d7;\">5</b>, <b style=\"color: #a4de79;\">6</b>, <b style=\"color: #7930d2;\">7</b>, <b style=\"color: #39acd6;\">8</b>, <b style=\"color: #c14bdb;\">9</b>, <b style=\"color: #d19b78;\">I1</b>, <b style=\"color: #d3b991;\">PSI0</b>}),</summary>backend=<b style=\"color: #7fdd73;\">numpy</b>, dtype=<b style=\"color: #443ce1;\">complex128</b>, data=array([[[1.+0.j, 0.+0.j]]])</details></samp><samp style='font-size: 12px;'><details><summary><b style=\"color: #e55471;\">Tensor</b>(shape=(<b style=\"color: #45ce3d;\">1</b>, <b style=\"color: #45ce3d;\">1</b>, <b style=\"color: #828fdd;\">2</b>), inds=[<b style=\"color: #e096b4;\">_bcb3eaAAAAB</b>, <b style=\"color: #ce3ebf;\">_bcb3eaAAAAC</b>, <b style=\"color: #df546d;\">k2</b>], tags={<b style=\"color: #74d649;\">0</b>, <b style=\"color: #45ce3d;\">1</b>, <b style=\"color: #828fdd;\">2</b>, <b style=\"color: #8a5bcf;\">3</b>, <b style=\"color: #80d749;\">4</b>, <b style=\"color: #7355d7;\">5</b>, <b style=\"color: #a4de79;\">6</b>, <b style=\"color: #7930d2;\">7</b>, <b style=\"color: #39acd6;\">8</b>, <b style=\"color: #c14bdb;\">9</b>, <b style=\"color: #dd5dd7;\">I2</b>, <b style=\"color: #d3b991;\">PSI0</b>}),</summary>backend=<b style=\"color: #7fdd73;\">numpy</b>, dtype=<b style=\"color: #443ce1;\">complex128</b>, data=array([[[1.+0.j, 0.+0.j]]])</details></samp><samp style='font-size: 12px;'><details><summary><b style=\"color: #e55471;\">Tensor</b>(shape=(<b style=\"color: #45ce3d;\">1</b>, <b style=\"color: #45ce3d;\">1</b>, <b style=\"color: #828fdd;\">2</b>), inds=[<b style=\"color: #ce3ebf;\">_bcb3eaAAAAC</b>, <b style=\"color: #49ce56;\">_bcb3eaAAAAD</b>, <b style=\"color: #4c7be1;\">k3</b>], tags={<b style=\"color: #74d649;\">0</b>, <b style=\"color: #45ce3d;\">1</b>, <b style=\"color: #828fdd;\">2</b>, <b style=\"color: #8a5bcf;\">3</b>, <b style=\"color: #80d749;\">4</b>, <b style=\"color: #7355d7;\">5</b>, <b style=\"color: #a4de79;\">6</b>, <b style=\"color: #7930d2;\">7</b>, <b style=\"color: #39acd6;\">8</b>, <b style=\"color: #c14bdb;\">9</b>, <b style=\"color: #dd65d9;\">I3</b>, <b style=\"color: #d3b991;\">PSI0</b>}),</summary>backend=<b style=\"color: #7fdd73;\">numpy</b>, dtype=<b style=\"color: #443ce1;\">complex128</b>, data=array([[[1.+0.j, 0.+0.j]]])</details></samp><samp style='font-size: 12px;'><details><summary><b style=\"color: #e55471;\">Tensor</b>(shape=(<b style=\"color: #45ce3d;\">1</b>, <b style=\"color: #45ce3d;\">1</b>, <b style=\"color: #828fdd;\">2</b>), inds=[<b style=\"color: #49ce56;\">_bcb3eaAAAAD</b>, <b style=\"color: #cc71d7;\">_bcb3eaAAAAE</b>, <b style=\"color: #462edc;\">k4</b>], tags={<b style=\"color: #74d649;\">0</b>, <b style=\"color: #45ce3d;\">1</b>, <b style=\"color: #828fdd;\">2</b>, <b style=\"color: #8a5bcf;\">3</b>, <b style=\"color: #80d749;\">4</b>, <b style=\"color: #7355d7;\">5</b>, <b style=\"color: #a4de79;\">6</b>, <b style=\"color: #7930d2;\">7</b>, <b style=\"color: #39acd6;\">8</b>, <b style=\"color: #c14bdb;\">9</b>, <b style=\"color: #998ad1;\">I4</b>, <b style=\"color: #d3b991;\">PSI0</b>}),</summary>backend=<b style=\"color: #7fdd73;\">numpy</b>, dtype=<b style=\"color: #443ce1;\">complex128</b>, data=array([[[1.+0.j, 0.+0.j]]])</details></samp><samp style='font-size: 12px;'><details><summary><b style=\"color: #e55471;\">Tensor</b>(shape=(<b style=\"color: #45ce3d;\">1</b>, <b style=\"color: #45ce3d;\">1</b>, <b style=\"color: #828fdd;\">2</b>), inds=[<b style=\"color: #cc71d7;\">_bcb3eaAAAAE</b>, <b style=\"color: #d3a57f;\">_bcb3eaAAAAF</b>, <b style=\"color: #85dfdf;\">k5</b>], tags={<b style=\"color: #74d649;\">0</b>, <b style=\"color: #45ce3d;\">1</b>, <b style=\"color: #828fdd;\">2</b>, <b style=\"color: #8a5bcf;\">3</b>, <b style=\"color: #80d749;\">4</b>, <b style=\"color: #7355d7;\">5</b>, <b style=\"color: #a4de79;\">6</b>, <b style=\"color: #7930d2;\">7</b>, <b style=\"color: #39acd6;\">8</b>, <b style=\"color: #c14bdb;\">9</b>, <b style=\"color: #97dddc;\">I5</b>, <b style=\"color: #d3b991;\">PSI0</b>}),</summary>backend=<b style=\"color: #7fdd73;\">numpy</b>, dtype=<b style=\"color: #443ce1;\">complex128</b>, data=array([[[1.+0.j, 0.+0.j]]])</details></samp><samp style='font-size: 12px;'><details><summary><b style=\"color: #e55471;\">Tensor</b>(shape=(<b style=\"color: #45ce3d;\">1</b>, <b style=\"color: #45ce3d;\">1</b>, <b style=\"color: #828fdd;\">2</b>), inds=[<b style=\"color: #d3a57f;\">_bcb3eaAAAAF</b>, <b style=\"color: #7ad5ac;\">_bcb3eaAAAAG</b>, <b style=\"color: #2cb7d3;\">k6</b>], tags={<b style=\"color: #74d649;\">0</b>, <b style=\"color: #45ce3d;\">1</b>, <b style=\"color: #828fdd;\">2</b>, <b style=\"color: #8a5bcf;\">3</b>, <b style=\"color: #80d749;\">4</b>, <b style=\"color: #7355d7;\">5</b>, <b style=\"color: #a4de79;\">6</b>, <b style=\"color: #7930d2;\">7</b>, <b style=\"color: #39acd6;\">8</b>, <b style=\"color: #c14bdb;\">9</b>, <b style=\"color: #b2de5f;\">I6</b>, <b style=\"color: #d3b991;\">PSI0</b>}),</summary>backend=<b style=\"color: #7fdd73;\">numpy</b>, dtype=<b style=\"color: #443ce1;\">complex128</b>, data=array([[[1.+0.j, 0.+0.j]]])</details></samp><samp style='font-size: 12px;'><details><summary><b style=\"color: #e55471;\">Tensor</b>(shape=(<b style=\"color: #45ce3d;\">1</b>, <b style=\"color: #45ce3d;\">1</b>, <b style=\"color: #828fdd;\">2</b>), inds=[<b style=\"color: #7ad5ac;\">_bcb3eaAAAAG</b>, <b style=\"color: #6457d5;\">_bcb3eaAAAAH</b>, <b style=\"color: #53e08f;\">k7</b>], tags={<b style=\"color: #74d649;\">0</b>, <b style=\"color: #45ce3d;\">1</b>, <b style=\"color: #828fdd;\">2</b>, <b style=\"color: #8a5bcf;\">3</b>, <b style=\"color: #80d749;\">4</b>, <b style=\"color: #7355d7;\">5</b>, <b style=\"color: #a4de79;\">6</b>, <b style=\"color: #7930d2;\">7</b>, <b style=\"color: #39acd6;\">8</b>, <b style=\"color: #c14bdb;\">9</b>, <b style=\"color: #5582d6;\">I7</b>, <b style=\"color: #d3b991;\">PSI0</b>}),</summary>backend=<b style=\"color: #7fdd73;\">numpy</b>, dtype=<b style=\"color: #443ce1;\">complex128</b>, data=array([[[1.+0.j, 0.+0.j]]])</details></samp><samp style='font-size: 12px;'><details><summary><b style=\"color: #e55471;\">Tensor</b>(shape=(<b style=\"color: #45ce3d;\">1</b>, <b style=\"color: #45ce3d;\">1</b>, <b style=\"color: #828fdd;\">2</b>), inds=[<b style=\"color: #6457d5;\">_bcb3eaAAAAH</b>, <b style=\"color: #47d753;\">_bcb3eaAAAAI</b>, <b style=\"color: #7bcd9f;\">k8</b>], tags={<b style=\"color: #74d649;\">0</b>, <b style=\"color: #45ce3d;\">1</b>, <b style=\"color: #828fdd;\">2</b>, <b style=\"color: #8a5bcf;\">3</b>, <b style=\"color: #80d749;\">4</b>, <b style=\"color: #7355d7;\">5</b>, <b style=\"color: #a4de79;\">6</b>, <b style=\"color: #7930d2;\">7</b>, <b style=\"color: #39acd6;\">8</b>, <b style=\"color: #c14bdb;\">9</b>, <b style=\"color: #8a3dd8;\">I8</b>, <b style=\"color: #d3b991;\">PSI0</b>}),</summary>backend=<b style=\"color: #7fdd73;\">numpy</b>, dtype=<b style=\"color: #443ce1;\">complex128</b>, data=array([[[1.+0.j, 0.+0.j]]])</details></samp><samp style='font-size: 12px;'><details><summary><b style=\"color: #e55471;\">Tensor</b>(shape=(<b style=\"color: #45ce3d;\">1</b>, <b style=\"color: #828fdd;\">2</b>), inds=[<b style=\"color: #47d753;\">_bcb3eaAAAAI</b>, <b style=\"color: #cc70c1;\">k9</b>], tags={<b style=\"color: #74d649;\">0</b>, <b style=\"color: #45ce3d;\">1</b>, <b style=\"color: #828fdd;\">2</b>, <b style=\"color: #8a5bcf;\">3</b>, <b style=\"color: #80d749;\">4</b>, <b style=\"color: #7355d7;\">5</b>, <b style=\"color: #a4de79;\">6</b>, <b style=\"color: #7930d2;\">7</b>, <b style=\"color: #39acd6;\">8</b>, <b style=\"color: #c14bdb;\">9</b>, <b style=\"color: #d74979;\">I9</b>, <b style=\"color: #d3b991;\">PSI0</b>}),</summary>backend=<b style=\"color: #7fdd73;\">numpy</b>, dtype=<b style=\"color: #443ce1;\">complex128</b>, data=array([[1.+0.j, 0.+0.j]])</details></samp></details></samp>"
      ],
      "text/plain": [
       "MatrixProductState(tensors=10, indices=19, L=10, max_bond=2)"
      ]
     },
     "execution_count": 16,
     "metadata": {},
     "output_type": "execute_result"
    }
   ],
   "source": [
    "obj._interface.state"
   ]
  },
  {
   "cell_type": "code",
   "execution_count": 17,
   "metadata": {},
   "outputs": [],
   "source": [
    "# obj._interface._circuitMPS.get_psi_reverse_lightcone(3)"
   ]
  },
  {
   "cell_type": "code",
   "execution_count": 18,
   "metadata": {},
   "outputs": [
    {
     "data": {
      "text/plain": [
       "pennylane.devices.execution_config.ExecutionConfig"
      ]
     },
     "execution_count": 18,
     "metadata": {},
     "output_type": "execute_result"
    }
   ],
   "source": [
    "type(obj._setup_execution_config())"
   ]
  },
  {
   "cell_type": "code",
   "execution_count": 63,
   "metadata": {},
   "outputs": [],
   "source": [
    "program, config = obj.preprocess()"
   ]
  },
  {
   "cell_type": "code",
   "execution_count": 65,
   "metadata": {},
   "outputs": [
    {
     "data": {
      "text/plain": [
       "<validate_measurements([], {'name': 'QuimbMPS interface'})>"
      ]
     },
     "execution_count": 65,
     "metadata": {},
     "output_type": "execute_result"
    }
   ],
   "source": [
    "program[0]"
   ]
  },
  {
   "cell_type": "code",
   "execution_count": 66,
   "metadata": {},
   "outputs": [
    {
     "data": {
      "text/plain": [
       "ExecutionConfig(grad_on_execution=None, use_device_gradient=None, use_device_jacobian_product=None, gradient_method=None, gradient_keyword_arguments={}, device_options={'apply_reverse_lightcone': None, 'backend': 'quimb', 'c_dtype': <class 'numpy.complex128'>, 'cutoff': 0.0, 'method': 'mps', 'max_bond_dim': None, 'measure_algorithm': None, 'return_tn': False, 'rehearse': False}, interface=None, derivative_order=1)"
      ]
     },
     "execution_count": 66,
     "metadata": {},
     "output_type": "execute_result"
    }
   ],
   "source": [
    "config"
   ]
  },
  {
   "cell_type": "code",
   "execution_count": 22,
   "metadata": {},
   "outputs": [],
   "source": [
    "# program[0]"
   ]
  },
  {
   "cell_type": "code",
   "execution_count": 23,
   "metadata": {},
   "outputs": [],
   "source": [
    "# config"
   ]
  },
  {
   "cell_type": "code",
   "execution_count": 24,
   "metadata": {},
   "outputs": [],
   "source": [
    "# config.device_options"
   ]
  },
  {
   "cell_type": "code",
   "execution_count": 25,
   "metadata": {},
   "outputs": [
    {
     "data": {
      "text/plain": [
       "(0.9999502079587207,\n",
       " 0.9999502079587207,\n",
       " 0.9901818584603503,\n",
       " 0.9999999999999949,\n",
       " 0.9999999999999951)"
      ]
     },
     "execution_count": 25,
     "metadata": {},
     "output_type": "execute_result"
    }
   ],
   "source": [
    "obj.execute(circuits=tape)"
   ]
  },
  {
   "cell_type": "code",
   "execution_count": 26,
   "metadata": {},
   "outputs": [
    {
     "data": {
      "text/plain": [
       "[<Gate(label=RAW133301236114800, params=raw, qubits=(2, 3))>,\n",
       " <Gate(label=RAW133301236114800, params=raw, qubits=(0, 2))>,\n",
       " <Gate(label=RAW133301950425776, params=raw, qubits=(3,))>,\n",
       " <Gate(label=RAW133301950425776, params=raw, qubits=(0,))>,\n",
       " <Gate(label=RAW133301236114800, params=raw, qubits=(2, 3))>,\n",
       " <Gate(label=RAW133301236114800, params=raw, qubits=(0, 1))>,\n",
       " <Gate(label=RAW133301235821520, params=raw, qubits=(1,))>,\n",
       " <Gate(label=RAW133301235818736, params=raw, qubits=(0,))>,\n",
       " <Gate(label=RAW133301236114800, params=raw, qubits=(0, 3))>,\n",
       " <Gate(label=RAW133301950425776, params=raw, qubits=(3,))>,\n",
       " <Gate(label=RAW133301236114800, params=raw, qubits=(3, 1))>,\n",
       " <Gate(label=RAW133301236115952, params=raw, qubits=(1,))>,\n",
       " <Gate(label=RAW133301236116144, params=raw, qubits=(0,))>,\n",
       " <Gate(label=RAW133301236114800, params=raw, qubits=(2, 1))>,\n",
       " <Gate(label=RAW133301236114800, params=raw, qubits=(2, 0))>,\n",
       " <Gate(label=RAW133301235414096, params=raw, qubits=(1,))>,\n",
       " <Gate(label=RAW133301235420976, params=raw, qubits=(0,))>,\n",
       " <Gate(label=RAW133301236114800, params=raw, qubits=(3, 1))>,\n",
       " <Gate(label=RAW133301950425776, params=raw, qubits=(3,))>,\n",
       " <Gate(label=RAW133301236114800, params=raw, qubits=(0, 3))>,\n",
       " <Gate(label=RAW133301235821904, params=raw, qubits=(1,))>,\n",
       " <Gate(label=RAW133301235413232, params=raw, qubits=(0,))>,\n",
       " <Gate(label=RAW133301236114800, params=raw, qubits=(0, 1))>,\n",
       " <Gate(label=RAW133301236114800, params=raw, qubits=(2, 0))>,\n",
       " <Gate(label=RAW133301950425776, params=raw, qubits=(0,))>,\n",
       " <Gate(label=RAW133301950425776, params=raw, qubits=(3,))>,\n",
       " <Gate(label=RAW133301236114800, params=raw, qubits=(0, 2))>,\n",
       " <Gate(label=RAW133301236114800, params=raw, qubits=(2, 3))>,\n",
       " <Gate(label=RAW133301235821232, params=raw, qubits=(2,))>,\n",
       " <Gate(label=RAW133301235821712, params=raw, qubits=(2,))>,\n",
       " <Gate(label=RAW133301950425776, params=raw, qubits=(2,))>,\n",
       " <Gate(label=RAW133301236114800, params=raw, qubits=(5, 2))>,\n",
       " <Gate(label=RAW133301235421072, params=raw, qubits=(2,))>,\n",
       " <Gate(label=RAW133301236114800, params=raw, qubits=(4, 2))>,\n",
       " <Gate(label=RAW133301235822000, params=raw, qubits=(2,))>,\n",
       " <Gate(label=RAW133301236114800, params=raw, qubits=(5, 2))>,\n",
       " <Gate(label=RAW133301235387440, params=raw, qubits=(2,))>,\n",
       " <Gate(label=RAW133301236114800, params=raw, qubits=(4, 2))>,\n",
       " <Gate(label=RAW133301235822000, params=raw, qubits=(2,))>,\n",
       " <Gate(label=RAW133301235822000, params=raw, qubits=(5,))>,\n",
       " <Gate(label=RAW133301236114800, params=raw, qubits=(4, 5))>,\n",
       " <Gate(label=RAW133301950425776, params=raw, qubits=(2,))>,\n",
       " <Gate(label=RAW133301235822000, params=raw, qubits=(4,))>,\n",
       " <Gate(label=RAW133301235821424, params=raw, qubits=(5,))>,\n",
       " <Gate(label=RAW133301236114800, params=raw, qubits=(4, 5))>,\n",
       " <Gate(label=RAW133301950425776, params=raw, qubits=(5,))>,\n",
       " <Gate(label=RAW133301236114800, params=raw, qubits=(2, 5))>,\n",
       " <Gate(label=RAW133301235806000, params=raw, qubits=(5,))>,\n",
       " <Gate(label=RAW133301236114800, params=raw, qubits=(4, 5))>,\n",
       " <Gate(label=RAW133301235822000, params=raw, qubits=(5,))>,\n",
       " <Gate(label=RAW133301236114800, params=raw, qubits=(2, 5))>,\n",
       " <Gate(label=RAW133301235387728, params=raw, qubits=(5,))>,\n",
       " <Gate(label=RAW133301236114800, params=raw, qubits=(4, 5))>,\n",
       " <Gate(label=RAW133301235822000, params=raw, qubits=(5,))>,\n",
       " <Gate(label=RAW133301235822000, params=raw, qubits=(2,))>,\n",
       " <Gate(label=RAW133301236114800, params=raw, qubits=(4, 2))>,\n",
       " <Gate(label=RAW133301950425776, params=raw, qubits=(5,))>,\n",
       " <Gate(label=RAW133301235822000, params=raw, qubits=(4,))>,\n",
       " <Gate(label=RAW133301235388016, params=raw, qubits=(2,))>,\n",
       " <Gate(label=RAW133301236114800, params=raw, qubits=(4, 2))>,\n",
       " <Gate(label=RAW133301950425776, params=raw, qubits=(2,))>,\n",
       " <Gate(label=RAW133301236114800, params=raw, qubits=(5, 2))>,\n",
       " <Gate(label=RAW133301235638512, params=raw, qubits=(2,))>,\n",
       " <Gate(label=RAW133301236114800, params=raw, qubits=(4, 2))>,\n",
       " <Gate(label=RAW133301235822000, params=raw, qubits=(2,))>,\n",
       " <Gate(label=RAW133301236114800, params=raw, qubits=(5, 2))>,\n",
       " <Gate(label=RAW133301235385424, params=raw, qubits=(2,))>,\n",
       " <Gate(label=RAW133301236114800, params=raw, qubits=(4, 2))>,\n",
       " <Gate(label=RAW133301235822000, params=raw, qubits=(2,))>,\n",
       " <Gate(label=RAW133301235822000, params=raw, qubits=(5,))>,\n",
       " <Gate(label=RAW133301236114800, params=raw, qubits=(4, 5))>,\n",
       " <Gate(label=RAW133301950425776, params=raw, qubits=(2,))>,\n",
       " <Gate(label=RAW133301235822000, params=raw, qubits=(4,))>,\n",
       " <Gate(label=RAW133301235387920, params=raw, qubits=(5,))>,\n",
       " <Gate(label=RAW133301236114800, params=raw, qubits=(4, 5))>,\n",
       " <Gate(label=RAW133301235640912, params=raw, qubits=(6,))>,\n",
       " <Gate(label=RAW133301236114800, params=raw, qubits=(7, 8))>,\n",
       " <Gate(label=RAW133301236114800, params=raw, qubits=(7, 8))>,\n",
       " <Gate(label=RAW133301236114800, params=raw, qubits=(6, 7))>,\n",
       " <Gate(label=RAW133301950425776, params=raw, qubits=(8,))>,\n",
       " <Gate(label=RAW133301950425776, params=raw, qubits=(6,))>,\n",
       " <Gate(label=RAW133301236114800, params=raw, qubits=(7, 8))>,\n",
       " <Gate(label=RAW133301236114800, params=raw, qubits=(6, 9))>,\n",
       " <Gate(label=RAW133301235385808, params=raw, qubits=(9,))>,\n",
       " <Gate(label=RAW133301235639280, params=raw, qubits=(6,))>,\n",
       " <Gate(label=RAW133301236114800, params=raw, qubits=(6, 8))>,\n",
       " <Gate(label=RAW133301950425776, params=raw, qubits=(8,))>,\n",
       " <Gate(label=RAW133301236114800, params=raw, qubits=(8, 9))>,\n",
       " <Gate(label=RAW133301235639664, params=raw, qubits=(9,))>,\n",
       " <Gate(label=RAW133301199078384, params=raw, qubits=(6,))>,\n",
       " <Gate(label=RAW133301236114800, params=raw, qubits=(7, 9))>,\n",
       " <Gate(label=RAW133301236114800, params=raw, qubits=(7, 6))>,\n",
       " <Gate(label=RAW133301235641488, params=raw, qubits=(9,))>,\n",
       " <Gate(label=RAW133301235639952, params=raw, qubits=(6,))>,\n",
       " <Gate(label=RAW133301236114800, params=raw, qubits=(8, 9))>,\n",
       " <Gate(label=RAW133301950425776, params=raw, qubits=(8,))>,\n",
       " <Gate(label=RAW133301236114800, params=raw, qubits=(6, 8))>,\n",
       " <Gate(label=RAW133301199078960, params=raw, qubits=(9,))>,\n",
       " <Gate(label=RAW133301235640432, params=raw, qubits=(6,))>,\n",
       " <Gate(label=RAW133301236114800, params=raw, qubits=(6, 9))>,\n",
       " <Gate(label=RAW133301236114800, params=raw, qubits=(7, 6))>,\n",
       " <Gate(label=RAW133301950425776, params=raw, qubits=(6,))>,\n",
       " <Gate(label=RAW133301950425776, params=raw, qubits=(8,))>,\n",
       " <Gate(label=RAW133301236114800, params=raw, qubits=(6, 7))>,\n",
       " <Gate(label=RAW133301236114800, params=raw, qubits=(7, 8))>,\n",
       " <Gate(label=RAW133301950425776, params=raw, qubits=(6,))>,\n",
       " <Gate(label=RAW133301236114800, params=raw, qubits=(9, 6))>,\n",
       " <Gate(label=RAW133301235639856, params=raw, qubits=(6,))>,\n",
       " <Gate(label=RAW133301236114800, params=raw, qubits=(2, 6))>,\n",
       " <Gate(label=RAW133301235822000, params=raw, qubits=(6,))>,\n",
       " <Gate(label=RAW133301236114800, params=raw, qubits=(9, 6))>,\n",
       " <Gate(label=RAW133301235639376, params=raw, qubits=(6,))>,\n",
       " <Gate(label=RAW133301236114800, params=raw, qubits=(2, 6))>,\n",
       " <Gate(label=RAW133301235822000, params=raw, qubits=(6,))>,\n",
       " <Gate(label=RAW133301235822000, params=raw, qubits=(9,))>,\n",
       " <Gate(label=RAW133301236114800, params=raw, qubits=(2, 9))>,\n",
       " <Gate(label=RAW133301950425776, params=raw, qubits=(6,))>,\n",
       " <Gate(label=RAW133301235822000, params=raw, qubits=(2,))>,\n",
       " <Gate(label=RAW133301235641968, params=raw, qubits=(9,))>,\n",
       " <Gate(label=RAW133301236114800, params=raw, qubits=(2, 9))>,\n",
       " <Gate(label=RAW133301950425776, params=raw, qubits=(9,))>,\n",
       " <Gate(label=RAW133301236114800, params=raw, qubits=(6, 9))>,\n",
       " <Gate(label=RAW133301235640720, params=raw, qubits=(9,))>,\n",
       " <Gate(label=RAW133301236114800, params=raw, qubits=(2, 9))>,\n",
       " <Gate(label=RAW133301235822000, params=raw, qubits=(9,))>,\n",
       " <Gate(label=RAW133301236114800, params=raw, qubits=(6, 9))>,\n",
       " <Gate(label=RAW133301199079728, params=raw, qubits=(9,))>,\n",
       " <Gate(label=RAW133301236114800, params=raw, qubits=(2, 9))>,\n",
       " <Gate(label=RAW133301235822000, params=raw, qubits=(9,))>,\n",
       " <Gate(label=RAW133301235822000, params=raw, qubits=(6,))>,\n",
       " <Gate(label=RAW133301236114800, params=raw, qubits=(2, 6))>,\n",
       " <Gate(label=RAW133301950425776, params=raw, qubits=(9,))>,\n",
       " <Gate(label=RAW133301235822000, params=raw, qubits=(2,))>,\n",
       " <Gate(label=RAW133301199080016, params=raw, qubits=(6,))>,\n",
       " <Gate(label=RAW133301236114800, params=raw, qubits=(2, 6))>,\n",
       " <Gate(label=RAW133301950425776, params=raw, qubits=(6,))>,\n",
       " <Gate(label=RAW133301236114800, params=raw, qubits=(9, 6))>,\n",
       " <Gate(label=RAW133301199078000, params=raw, qubits=(6,))>,\n",
       " <Gate(label=RAW133301236114800, params=raw, qubits=(2, 6))>,\n",
       " <Gate(label=RAW133301235822000, params=raw, qubits=(6,))>,\n",
       " <Gate(label=RAW133301236114800, params=raw, qubits=(9, 6))>,\n",
       " <Gate(label=RAW133301199080400, params=raw, qubits=(6,))>,\n",
       " <Gate(label=RAW133301236114800, params=raw, qubits=(2, 6))>,\n",
       " <Gate(label=RAW133301235822000, params=raw, qubits=(6,))>,\n",
       " <Gate(label=RAW133301235822000, params=raw, qubits=(9,))>,\n",
       " <Gate(label=RAW133301236114800, params=raw, qubits=(2, 9))>,\n",
       " <Gate(label=RAW133301950425776, params=raw, qubits=(6,))>,\n",
       " <Gate(label=RAW133301235822000, params=raw, qubits=(2,))>,\n",
       " <Gate(label=RAW133301199081264, params=raw, qubits=(9,))>,\n",
       " <Gate(label=RAW133301236114800, params=raw, qubits=(2, 9))>,\n",
       " <Gate(label=RAW133301950425776, params=raw, qubits=(8,))>,\n",
       " <Gate(label=RAW133301950425776, params=raw, qubits=(7,))>,\n",
       " <Gate(label=RAW133301236114800, params=raw, qubits=(8, 7))>,\n",
       " <Gate(label=RAW133301198657168, params=raw, qubits=(7,))>,\n",
       " <Gate(label=RAW133301236114800, params=raw, qubits=(9, 7))>,\n",
       " <Gate(label=RAW133301235822000, params=raw, qubits=(7,))>,\n",
       " <Gate(label=RAW133301236114800, params=raw, qubits=(8, 7))>,\n",
       " <Gate(label=RAW133301198656592, params=raw, qubits=(7,))>,\n",
       " <Gate(label=RAW133301236114800, params=raw, qubits=(9, 7))>,\n",
       " <Gate(label=RAW133301235822000, params=raw, qubits=(7,))>,\n",
       " <Gate(label=RAW133301235822000, params=raw, qubits=(8,))>,\n",
       " <Gate(label=RAW133301236114800, params=raw, qubits=(9, 8))>,\n",
       " <Gate(label=RAW133301950425776, params=raw, qubits=(7,))>,\n",
       " <Gate(label=RAW133301235822000, params=raw, qubits=(9,))>,\n",
       " <Gate(label=RAW133301199079920, params=raw, qubits=(8,))>,\n",
       " <Gate(label=RAW133301236114800, params=raw, qubits=(9, 8))>,\n",
       " <Gate(label=RAW133301950425776, params=raw, qubits=(8,))>,\n",
       " <Gate(label=RAW133301236114800, params=raw, qubits=(7, 8))>,\n",
       " <Gate(label=RAW133301235641392, params=raw, qubits=(8,))>,\n",
       " <Gate(label=RAW133301236114800, params=raw, qubits=(9, 8))>,\n",
       " <Gate(label=RAW133301235822000, params=raw, qubits=(8,))>,\n",
       " <Gate(label=RAW133301236114800, params=raw, qubits=(7, 8))>,\n",
       " <Gate(label=RAW133301235641584, params=raw, qubits=(8,))>,\n",
       " <Gate(label=RAW133301236114800, params=raw, qubits=(9, 8))>,\n",
       " <Gate(label=RAW133301235822000, params=raw, qubits=(8,))>,\n",
       " <Gate(label=RAW133301235822000, params=raw, qubits=(7,))>,\n",
       " <Gate(label=RAW133301236114800, params=raw, qubits=(9, 7))>,\n",
       " <Gate(label=RAW133301950425776, params=raw, qubits=(8,))>,\n",
       " <Gate(label=RAW133301235822000, params=raw, qubits=(9,))>,\n",
       " <Gate(label=RAW133301198657552, params=raw, qubits=(7,))>,\n",
       " <Gate(label=RAW133301236114800, params=raw, qubits=(9, 7))>,\n",
       " <Gate(label=RAW133301950425776, params=raw, qubits=(7,))>,\n",
       " <Gate(label=RAW133301236114800, params=raw, qubits=(8, 7))>,\n",
       " <Gate(label=RAW133301198658704, params=raw, qubits=(7,))>,\n",
       " <Gate(label=RAW133301236114800, params=raw, qubits=(9, 7))>,\n",
       " <Gate(label=RAW133301235822000, params=raw, qubits=(7,))>,\n",
       " <Gate(label=RAW133301236114800, params=raw, qubits=(8, 7))>,\n",
       " <Gate(label=RAW133301198657264, params=raw, qubits=(7,))>,\n",
       " <Gate(label=RAW133301236114800, params=raw, qubits=(9, 7))>,\n",
       " <Gate(label=RAW133301235822000, params=raw, qubits=(7,))>,\n",
       " <Gate(label=RAW133301235822000, params=raw, qubits=(8,))>,\n",
       " <Gate(label=RAW133301236114800, params=raw, qubits=(9, 8))>,\n",
       " <Gate(label=RAW133301950425776, params=raw, qubits=(7,))>,\n",
       " <Gate(label=RAW133301235822000, params=raw, qubits=(9,))>,\n",
       " <Gate(label=RAW133301198659088, params=raw, qubits=(8,))>,\n",
       " <Gate(label=RAW133301236114800, params=raw, qubits=(9, 8))>,\n",
       " <Gate(label=RAW133301236114800, params=raw, qubits=(9, 8))>,\n",
       " <Gate(label=RAW133301236114800, params=raw, qubits=(7, 8))>,\n",
       " <Gate(label=RAW133301236114800, params=raw, qubits=(2, 7))>,\n",
       " <Gate(label=RAW133301950425776, params=raw, qubits=(8,))>,\n",
       " <Gate(label=RAW133301950425776, params=raw, qubits=(2,))>,\n",
       " <Gate(label=RAW133301236114800, params=raw, qubits=(7, 8))>,\n",
       " <Gate(label=RAW133301236114800, params=raw, qubits=(2, 6))>,\n",
       " <Gate(label=RAW133301198659376, params=raw, qubits=(6,))>,\n",
       " <Gate(label=RAW133301198705360, params=raw, qubits=(2,))>,\n",
       " <Gate(label=RAW133301236114800, params=raw, qubits=(2, 8))>,\n",
       " <Gate(label=RAW133301950425776, params=raw, qubits=(8,))>,\n",
       " <Gate(label=RAW133301236114800, params=raw, qubits=(8, 6))>,\n",
       " <Gate(label=RAW133301198704784, params=raw, qubits=(6,))>,\n",
       " <Gate(label=RAW133301198656688, params=raw, qubits=(2,))>,\n",
       " <Gate(label=RAW133301236114800, params=raw, qubits=(7, 6))>,\n",
       " <Gate(label=RAW133301236114800, params=raw, qubits=(7, 2))>,\n",
       " <Gate(label=RAW133301198706224, params=raw, qubits=(6,))>,\n",
       " <Gate(label=RAW133301198705072, params=raw, qubits=(2,))>,\n",
       " <Gate(label=RAW133301236114800, params=raw, qubits=(8, 6))>,\n",
       " <Gate(label=RAW133301950425776, params=raw, qubits=(8,))>,\n",
       " <Gate(label=RAW133301236114800, params=raw, qubits=(2, 8))>,\n",
       " <Gate(label=RAW133301198706032, params=raw, qubits=(6,))>,\n",
       " <Gate(label=RAW133301198704688, params=raw, qubits=(2,))>,\n",
       " <Gate(label=RAW133301236114800, params=raw, qubits=(2, 6))>,\n",
       " <Gate(label=RAW133301236114800, params=raw, qubits=(7, 2))>,\n",
       " <Gate(label=RAW133301950425776, params=raw, qubits=(2,))>,\n",
       " <Gate(label=RAW133301950425776, params=raw, qubits=(8,))>,\n",
       " <Gate(label=RAW133301236114800, params=raw, qubits=(2, 7))>,\n",
       " <Gate(label=RAW133301236114800, params=raw, qubits=(7, 8))>]"
      ]
     },
     "execution_count": 26,
     "metadata": {},
     "output_type": "execute_result"
    }
   ],
   "source": [
    "obj._interface._circuitMPS.gates"
   ]
  },
  {
   "cell_type": "code",
   "execution_count": 27,
   "metadata": {},
   "outputs": [
    {
     "data": {
      "text/plain": [
       "oset(['0', '1', '2', '3', '4', '5', '6', '7', '8', '9', 'I0', 'I1', 'I2', 'I3', 'I4', 'I5', 'I6', 'I7', 'I8', 'I9', 'PSI0', 'GATE_2', 'GATE_3', 'GATE_6', 'GATE_7', 'GATE_9', 'GATE_11', 'GATE_12', 'GATE_15', 'GATE_16', 'GATE_18', 'GATE_20', 'GATE_21', 'GATE_24', 'GATE_25', 'GATE_28', 'GATE_29', 'GATE_30', 'GATE_32', 'GATE_34', 'GATE_36', 'GATE_38', 'GATE_39', 'GATE_41', 'GATE_42', 'GATE_43', 'GATE_45', 'GATE_47', 'GATE_49', 'GATE_51', 'GATE_53', 'GATE_54', 'GATE_56', 'GATE_57', 'GATE_58', 'GATE_60', 'GATE_62', 'GATE_64', 'GATE_66', 'GATE_68', 'GATE_69', 'GATE_71', 'GATE_72', 'GATE_73', 'GATE_75', 'GATE_79', 'GATE_80', 'GATE_83', 'GATE_84', 'GATE_86', 'GATE_88', 'GATE_89', 'GATE_92', 'GATE_93', 'GATE_95', 'GATE_97', 'GATE_98', 'GATE_101', 'GATE_102', 'GATE_105', 'GATE_107', 'GATE_109', 'GATE_111', 'GATE_113', 'GATE_114', 'GATE_116', 'GATE_117', 'GATE_118', 'GATE_120', 'GATE_122', 'GATE_124', 'GATE_126', 'GATE_128', 'GATE_129', 'GATE_131', 'GATE_132', 'GATE_133', 'GATE_135', 'GATE_137', 'GATE_139', 'GATE_141', 'GATE_143', 'GATE_144', 'GATE_146', 'GATE_147', 'GATE_148', 'GATE_150', 'GATE_151', 'GATE_153', 'GATE_155', 'GATE_157', 'GATE_159', 'GATE_160', 'GATE_162', 'GATE_163', 'GATE_164', 'GATE_166', 'GATE_168', 'GATE_170', 'GATE_172', 'GATE_174', 'GATE_175', 'GATE_177', 'GATE_178', 'GATE_179', 'GATE_181', 'GATE_183', 'GATE_185', 'GATE_187', 'GATE_189', 'GATE_190', 'GATE_192', 'GATE_193', 'GATE_194', 'GATE_199', 'GATE_200', 'GATE_203', 'GATE_204', 'GATE_206', 'GATE_208', 'GATE_209', 'GATE_212', 'GATE_213', 'GATE_215', 'GATE_217', 'GATE_218', 'GATE_221', 'GATE_222'])"
      ]
     },
     "execution_count": 27,
     "metadata": {},
     "output_type": "execute_result"
    }
   ],
   "source": [
    "obj._interface._circuitMPS.psi.tags"
   ]
  },
  {
   "cell_type": "code",
   "execution_count": 28,
   "metadata": {},
   "outputs": [
    {
     "data": {
      "text/html": [
       "<samp style='font-size: 12px;'><details><summary><b style=\"color: #d75692;\">MatrixProductState</b>(tensors=10, indices=19, L=10, max_bond=32)</summary><samp style='font-size: 12px;'><details><summary><b style=\"color: #e55471;\">Tensor</b>(shape=(<b style=\"color: #828fdd;\">2</b>, <b style=\"color: #828fdd;\">2</b>), inds=[<b style=\"color: #9fda81;\">_bcb3eaAAAAJ</b>, <b style=\"color: #b1dc61;\">k0</b>], tags={<b style=\"color: #74d649;\">0</b>, <b style=\"color: #45ce3d;\">1</b>, <b style=\"color: #828fdd;\">2</b>, <b style=\"color: #8a5bcf;\">3</b>, <b style=\"color: #80d749;\">4</b>, <b style=\"color: #7355d7;\">5</b>, <b style=\"color: #a4de79;\">6</b>, <b style=\"color: #7930d2;\">7</b>, <b style=\"color: #39acd6;\">8</b>, <b style=\"color: #c14bdb;\">9</b>, <b style=\"color: #d2b137;\">I0</b>, <b style=\"color: #d3b991;\">PSI0</b>, <b style=\"color: #394bd1;\">GATE_3</b>, <b style=\"color: #da9170;\">GATE_7</b>, <b style=\"color: #e3a694;\">GATE_12</b>, <b style=\"color: #d8e230;\">GATE_16</b>, <b style=\"color: #4fe13d;\">GATE_21</b>, <b style=\"color: #9fe3c6;\">GATE_24</b>}),</summary>backend=<b style=\"color: #7fdd73;\">numpy</b>, dtype=<b style=\"color: #443ce1;\">complex128</b>, data=array([[1.+0.j, 0.+0.j],\n",
       "       [0.+0.j, 1.+0.j]])</details></samp><samp style='font-size: 12px;'><details><summary><b style=\"color: #e55471;\">Tensor</b>(shape=(<b style=\"color: #828fdd;\">2</b>, <b style=\"color: #80d749;\">4</b>, <b style=\"color: #828fdd;\">2</b>), inds=[<b style=\"color: #9fda81;\">_bcb3eaAAAAJ</b>, <b style=\"color: #cc2b74;\">_bcb3eaAAAAK</b>, <b style=\"color: #8aa5db;\">k1</b>], tags={<b style=\"color: #74d649;\">0</b>, <b style=\"color: #45ce3d;\">1</b>, <b style=\"color: #828fdd;\">2</b>, <b style=\"color: #8a5bcf;\">3</b>, <b style=\"color: #80d749;\">4</b>, <b style=\"color: #7355d7;\">5</b>, <b style=\"color: #a4de79;\">6</b>, <b style=\"color: #7930d2;\">7</b>, <b style=\"color: #39acd6;\">8</b>, <b style=\"color: #c14bdb;\">9</b>, <b style=\"color: #d19b78;\">I1</b>, <b style=\"color: #d3b991;\">PSI0</b>, <b style=\"color: #bade88;\">GATE_6</b>, <b style=\"color: #3bd699;\">GATE_11</b>, <b style=\"color: #71d75c;\">GATE_15</b>, <b style=\"color: #dfa87e;\">GATE_20</b>}),</summary>backend=<b style=\"color: #7fdd73;\">numpy</b>, dtype=<b style=\"color: #443ce1;\">complex128</b>, data=array([[[-1.00000000e+00+0.j,  1.49385175e-31+0.j],\n",
       "        [ 0.00000000e+00-0.j,  0.00000000e+00-0.j],\n",
       "        [ 4.97552581e-47+0.j,  3.33066907e-16+0.j],\n",
       "        [ 1.49385175e-31+0.j,  1.00000000e+00+0.j]],\n",
       "\n",
       "       [[ 0.00000000e+00+0.j,  0.00000000e+00+0.j],\n",
       "        [-3.97317224e-01+0.j, -9.17681330e-01+0.j],\n",
       "        [-9.17681330e-01+0.j,  3.97317224e-01+0.j],\n",
       "        [ 3.33066907e-16+0.j, -1.11022302e-16+0.j]]])</details></samp><samp style='font-size: 12px;'><details><summary><b style=\"color: #e55471;\">Tensor</b>(shape=(<b style=\"color: #80d749;\">4</b>, <b style=\"color: #39acd6;\">8</b>, <b style=\"color: #828fdd;\">2</b>), inds=[<b style=\"color: #cc2b74;\">_bcb3eaAAAAK</b>, <b style=\"color: #7198d9;\">_bcb3eaAAAAL</b>, <b style=\"color: #df546d;\">k2</b>], tags={<b style=\"color: #74d649;\">0</b>, <b style=\"color: #45ce3d;\">1</b>, <b style=\"color: #828fdd;\">2</b>, <b style=\"color: #8a5bcf;\">3</b>, <b style=\"color: #80d749;\">4</b>, <b style=\"color: #7355d7;\">5</b>, <b style=\"color: #a4de79;\">6</b>, <b style=\"color: #7930d2;\">7</b>, <b style=\"color: #39acd6;\">8</b>, <b style=\"color: #c14bdb;\">9</b>, <b style=\"color: #dd5dd7;\">I2</b>, <b style=\"color: #d3b991;\">PSI0</b>, <b style=\"color: #8ed0e1;\">GATE_28</b>, <b style=\"color: #b776d2;\">GATE_29</b>, <b style=\"color: #9f5bd1;\">GATE_30</b>, <b style=\"color: #6785d3;\">GATE_32</b>, <b style=\"color: #ac6be4;\">GATE_34</b>, <b style=\"color: #d878b9;\">GATE_36</b>, <b style=\"color: #41d56c;\">GATE_38</b>, <b style=\"color: #5373d2;\">GATE_41</b>, <b style=\"color: #53e04b;\">GATE_54</b>, <b style=\"color: #e14a48;\">GATE_58</b>, <b style=\"color: #2fd2cf;\">GATE_60</b>, <b style=\"color: #8cd492;\">GATE_62</b>, <b style=\"color: #54cedf;\">GATE_64</b>, <b style=\"color: #da8cd0;\">GATE_66</b>, <b style=\"color: #d666a7;\">GATE_68</b>, <b style=\"color: #d12f74;\">GATE_71</b>, <b style=\"color: #d992b1;\">GATE_117</b>, <b style=\"color: #9dcee4;\">GATE_132</b>, <b style=\"color: #39d176;\">GATE_147</b>, <b style=\"color: #475ee4;\">GATE_200</b>, <b style=\"color: #9ee086;\">GATE_204</b>, <b style=\"color: #71df2f;\">GATE_209</b>, <b style=\"color: #93dab6;\">GATE_213</b>, <b style=\"color: #a64adf;\">GATE_218</b>, <b style=\"color: #58e1ab;\">GATE_221</b>}),</summary>backend=<b style=\"color: #7fdd73;\">numpy</b>, dtype=<b style=\"color: #443ce1;\">complex128</b>, data=array([[[-4.94847129e-02+2.46830013e-19j,\n",
       "          5.83143462e-15-9.98774881e-01j],\n",
       "        [-9.98774881e-01-1.55955067e-16j,\n",
       "         -2.96894518e-16+4.94847129e-02j],\n",
       "        [ 1.24587894e-15-5.42211130e-31j,\n",
       "         -6.63720625e-21-6.28831179e-17j],\n",
       "        [-5.33365755e-15-1.39016308e-30j,\n",
       "         -7.05504441e-18+2.69316330e-16j],\n",
       "        [-1.44601216e-15-1.03513811e-30j,\n",
       "         -2.88145527e-18+8.01558401e-17j],\n",
       "        [-4.00164987e-15-2.17966718e-30j,\n",
       "         -2.95614426e-18+2.01374324e-16j],\n",
       "        [-4.23871247e-15+1.91397156e-31j,\n",
       "          2.31588639e-17+2.22321145e-16j],\n",
       "        [-4.32382774e-15-1.42637855e-30j,\n",
       "         -3.30226359e-18+2.07349004e-16j]],\n",
       "\n",
       "       [[ 1.21757297e-18+4.01708198e-19j,\n",
       "         -1.75731629e-17+1.01997334e-18j],\n",
       "        [-8.61662185e-16-5.88059011e-16j,\n",
       "          1.72097940e-15-2.07114039e-15j],\n",
       "        [-9.54797749e-01-2.88725885e-01j,\n",
       "          2.43838700e-02+1.96365059e-02j],\n",
       "        [-7.32097654e-03+2.25610361e-02j,\n",
       "         -9.77176712e-02-3.00875104e-01j],\n",
       "        [ 1.64530697e-02-2.40609661e-02j,\n",
       "          3.64028956e-01-4.69872538e-02j],\n",
       "        [-3.31338901e-02+3.68796569e-02j,\n",
       "         -4.04668986e-01+4.08024919e-01j],\n",
       "        [-1.18215956e-02+5.29649594e-03j,\n",
       "         -2.47984909e-01+5.63766312e-01j],\n",
       "        [-3.03114066e-02-6.46857379e-03j,\n",
       "          2.26109974e-01-5.93663843e-02j]],\n",
       "\n",
       "       [[ 3.55245065e-18+1.66404090e-18j,\n",
       "          2.08396958e-17-1.87608412e-18j],\n",
       "        [-3.62701177e-15-1.55355692e-15j,\n",
       "         -1.30201313e-15-3.43666098e-15j],\n",
       "        [-6.05873122e-03-3.90301864e-02j,\n",
       "          3.32372457e-02+6.44571230e-03j],\n",
       "        [ 4.32860399e-01-4.17487292e-01j,\n",
       "          1.00625181e-01+4.74982463e-01j],\n",
       "        [ 3.92171722e-02+1.15435706e-02j,\n",
       "          4.87352939e-01-5.76310839e-02j],\n",
       "        [ 1.10134670e-01+2.82402428e-02j,\n",
       "         -2.36512769e-01+4.01366119e-01j],\n",
       "        [ 3.70151597e-01+1.89545139e-01j,\n",
       "          1.70514197e-01-4.35476065e-01j],\n",
       "        [-1.75834990e-01+6.46776829e-01j,\n",
       "          7.47158480e-02+2.84527218e-01j]],\n",
       "\n",
       "       [[-3.99294399e-18+1.31210809e-18j,\n",
       "         -6.18175210e-18+9.95796675e-18j],\n",
       "        [ 3.31594149e-15-1.36507742e-15j,\n",
       "         -5.37306785e-15-2.41639319e-15j],\n",
       "        [ 2.56157507e-02-1.05654463e-02j,\n",
       "         -2.18898926e-02-8.07264616e-03j],\n",
       "        [-2.29006815e-02+6.45609957e-03j,\n",
       "          3.86543704e-01+3.89850154e-01j],\n",
       "        [-7.44600524e-01-1.90764564e-01j,\n",
       "         -1.55378283e-01+8.34058975e-02j],\n",
       "        [-4.97301171e-01+3.51488127e-01j,\n",
       "         -1.14025318e-01-2.31271214e-01j],\n",
       "        [ 1.40973042e-02-1.11522838e-01j,\n",
       "          3.07092574e-01+3.49152176e-01j],\n",
       "        [-3.48419987e-02+1.52126996e-01j,\n",
       "          6.14529190e-01-8.13029403e-02j]]])</details></samp><samp style='font-size: 12px;'><details><summary><b style=\"color: #e55471;\">Tensor</b>(shape=(<b style=\"color: #39acd6;\">8</b>, <b style=\"color: #96b5d9;\">16</b>, <b style=\"color: #828fdd;\">2</b>), inds=[<b style=\"color: #7198d9;\">_bcb3eaAAAAL</b>, <b style=\"color: #8633da;\">_bcb3eaAAAAM</b>, <b style=\"color: #4c7be1;\">k3</b>], tags={<b style=\"color: #74d649;\">0</b>, <b style=\"color: #45ce3d;\">1</b>, <b style=\"color: #828fdd;\">2</b>, <b style=\"color: #8a5bcf;\">3</b>, <b style=\"color: #80d749;\">4</b>, <b style=\"color: #7355d7;\">5</b>, <b style=\"color: #a4de79;\">6</b>, <b style=\"color: #7930d2;\">7</b>, <b style=\"color: #39acd6;\">8</b>, <b style=\"color: #c14bdb;\">9</b>, <b style=\"color: #dd65d9;\">I3</b>, <b style=\"color: #d3b991;\">PSI0</b>, <b style=\"color: #64dc8a;\">GATE_2</b>, <b style=\"color: #de70db;\">GATE_9</b>, <b style=\"color: #a4cd58;\">GATE_18</b>, <b style=\"color: #56cf38;\">GATE_25</b>}),</summary>backend=<b style=\"color: #7fdd73;\">numpy</b>, dtype=<b style=\"color: #443ce1;\">complex128</b>, data=...</details></samp><samp style='font-size: 12px;'><details><summary><b style=\"color: #e55471;\">Tensor</b>(shape=(<b style=\"color: #96b5d9;\">16</b>, <b style=\"color: #6faee5;\">32</b>, <b style=\"color: #828fdd;\">2</b>), inds=[<b style=\"color: #8633da;\">_bcb3eaAAAAM</b>, <b style=\"color: #d7e05f;\">_bcb3eaAAAAN</b>, <b style=\"color: #462edc;\">k4</b>], tags={<b style=\"color: #74d649;\">0</b>, <b style=\"color: #45ce3d;\">1</b>, <b style=\"color: #828fdd;\">2</b>, <b style=\"color: #8a5bcf;\">3</b>, <b style=\"color: #80d749;\">4</b>, <b style=\"color: #7355d7;\">5</b>, <b style=\"color: #a4de79;\">6</b>, <b style=\"color: #7930d2;\">7</b>, <b style=\"color: #39acd6;\">8</b>, <b style=\"color: #c14bdb;\">9</b>, <b style=\"color: #998ad1;\">I4</b>, <b style=\"color: #d3b991;\">PSI0</b>, <b style=\"color: #e1c97a;\">GATE_42</b>, <b style=\"color: #e2ba6c;\">GATE_57</b>, <b style=\"color: #b9db52;\">GATE_72</b>}),</summary>backend=<b style=\"color: #7fdd73;\">numpy</b>, dtype=<b style=\"color: #443ce1;\">complex128</b>, data=...</details></samp><samp style='font-size: 12px;'><details><summary><b style=\"color: #e55471;\">Tensor</b>(shape=(<b style=\"color: #6faee5;\">32</b>, <b style=\"color: #96b5d9;\">16</b>, <b style=\"color: #828fdd;\">2</b>), inds=[<b style=\"color: #d7e05f;\">_bcb3eaAAAAN</b>, <b style=\"color: #8c72d5;\">_bcb3eaAAAAO</b>, <b style=\"color: #85dfdf;\">k5</b>], tags={<b style=\"color: #74d649;\">0</b>, <b style=\"color: #45ce3d;\">1</b>, <b style=\"color: #828fdd;\">2</b>, <b style=\"color: #8a5bcf;\">3</b>, <b style=\"color: #80d749;\">4</b>, <b style=\"color: #7355d7;\">5</b>, <b style=\"color: #a4de79;\">6</b>, <b style=\"color: #7930d2;\">7</b>, <b style=\"color: #39acd6;\">8</b>, <b style=\"color: #c14bdb;\">9</b>, <b style=\"color: #97dddc;\">I5</b>, <b style=\"color: #d3b991;\">PSI0</b>, <b style=\"color: #81e4a5;\">GATE_39</b>, <b style=\"color: #ce2b3b;\">GATE_43</b>, <b style=\"color: #c659e3;\">GATE_45</b>, <b style=\"color: #4d78d7;\">GATE_47</b>, <b style=\"color: #a98de3;\">GATE_49</b>, <b style=\"color: #e2df85;\">GATE_51</b>, <b style=\"color: #da53d5;\">GATE_53</b>, <b style=\"color: #8cd1ce;\">GATE_56</b>, <b style=\"color: #acd280;\">GATE_69</b>, <b style=\"color: #de448f;\">GATE_73</b>}),</summary>backend=<b style=\"color: #7fdd73;\">numpy</b>, dtype=<b style=\"color: #443ce1;\">complex128</b>, data=...</details></samp><samp style='font-size: 12px;'><details><summary><b style=\"color: #e55471;\">Tensor</b>(shape=(<b style=\"color: #96b5d9;\">16</b>, <b style=\"color: #39acd6;\">8</b>, <b style=\"color: #828fdd;\">2</b>), inds=[<b style=\"color: #8c72d5;\">_bcb3eaAAAAO</b>, <b style=\"color: #82cdcc;\">_bcb3eaAAAAP</b>, <b style=\"color: #2cb7d3;\">k6</b>], tags={<b style=\"color: #74d649;\">0</b>, <b style=\"color: #45ce3d;\">1</b>, <b style=\"color: #828fdd;\">2</b>, <b style=\"color: #8a5bcf;\">3</b>, <b style=\"color: #80d749;\">4</b>, <b style=\"color: #7355d7;\">5</b>, <b style=\"color: #a4de79;\">6</b>, <b style=\"color: #7930d2;\">7</b>, <b style=\"color: #39acd6;\">8</b>, <b style=\"color: #c14bdb;\">9</b>, <b style=\"color: #b2de5f;\">I6</b>, <b style=\"color: #d3b991;\">PSI0</b>, <b style=\"color: #de94a1;\">GATE_75</b>, <b style=\"color: #b847d9;\">GATE_80</b>, <b style=\"color: #cebd78;\">GATE_84</b>, <b style=\"color: #75d0ca;\">GATE_89</b>, <b style=\"color: #8dd89d;\">GATE_93</b>, <b style=\"color: #e37ed3;\">GATE_98</b>, <b style=\"color: #a236d5;\">GATE_101</b>, <b style=\"color: #a2d946;\">GATE_105</b>, <b style=\"color: #9e79df;\">GATE_107</b>, <b style=\"color: #de5270;\">GATE_109</b>, <b style=\"color: #d696af;\">GATE_111</b>, <b style=\"color: #a7cd2b;\">GATE_113</b>, <b style=\"color: #bedd87;\">GATE_116</b>, <b style=\"color: #c8dd4f;\">GATE_129</b>, <b style=\"color: #d18cc3;\">GATE_133</b>, <b style=\"color: #d281bc;\">GATE_135</b>, <b style=\"color: #a583d8;\">GATE_137</b>, <b style=\"color: #e0bd2f;\">GATE_139</b>, <b style=\"color: #7a99ce;\">GATE_141</b>, <b style=\"color: #3e7ed4;\">GATE_143</b>, <b style=\"color: #6fdd74;\">GATE_146</b>, <b style=\"color: #93d685;\">GATE_203</b>, <b style=\"color: #8aa5d6;\">GATE_208</b>, <b style=\"color: #b9e58c;\">GATE_212</b>, <b style=\"color: #339cd7;\">GATE_217</b>}),</summary>backend=<b style=\"color: #7fdd73;\">numpy</b>, dtype=<b style=\"color: #443ce1;\">complex128</b>, data=...</details></samp><samp style='font-size: 12px;'><details><summary><b style=\"color: #e55471;\">Tensor</b>(shape=(<b style=\"color: #39acd6;\">8</b>, <b style=\"color: #80d749;\">4</b>, <b style=\"color: #828fdd;\">2</b>), inds=[<b style=\"color: #82cdcc;\">_bcb3eaAAAAP</b>, <b style=\"color: #e38257;\">_bcb3eaAAAAQ</b>, <b style=\"color: #53e08f;\">k7</b>], tags={<b style=\"color: #74d649;\">0</b>, <b style=\"color: #45ce3d;\">1</b>, <b style=\"color: #828fdd;\">2</b>, <b style=\"color: #8a5bcf;\">3</b>, <b style=\"color: #80d749;\">4</b>, <b style=\"color: #7355d7;\">5</b>, <b style=\"color: #a4de79;\">6</b>, <b style=\"color: #7930d2;\">7</b>, <b style=\"color: #39acd6;\">8</b>, <b style=\"color: #c14bdb;\">9</b>, <b style=\"color: #5582d6;\">I7</b>, <b style=\"color: #d3b991;\">PSI0</b>, <b style=\"color: #cd7c51;\">GATE_151</b>, <b style=\"color: #d648d4;\">GATE_153</b>, <b style=\"color: #bfd68e;\">GATE_155</b>, <b style=\"color: #3bd27f;\">GATE_157</b>, <b style=\"color: #4e92d6;\">GATE_159</b>, <b style=\"color: #9e5bd3;\">GATE_162</b>, <b style=\"color: #e4b135;\">GATE_175</b>, <b style=\"color: #7ee0bd;\">GATE_179</b>, <b style=\"color: #81a1e0;\">GATE_181</b>, <b style=\"color: #dfa799;\">GATE_183</b>, <b style=\"color: #3a2ed2;\">GATE_185</b>, <b style=\"color: #6b30df;\">GATE_187</b>, <b style=\"color: #8b5dde;\">GATE_189</b>, <b style=\"color: #79cdd9;\">GATE_192</b>}),</summary>backend=<b style=\"color: #7fdd73;\">numpy</b>, dtype=<b style=\"color: #443ce1;\">complex128</b>, data=array([[[-9.98745478e-01-1.28054386e-15j,\n",
       "         -5.00199872e-03+4.47531383e-16j],\n",
       "        [-1.32567106e-03-1.83006348e-16j,\n",
       "          2.64695785e-01+1.26676367e-14j],\n",
       "        [-8.48283160e-13-2.52831480e-12j,\n",
       "          8.46318804e-11+7.29186377e-10j],\n",
       "        [-4.73874217e-12-7.83700441e-13j,\n",
       "          8.21490567e-10-2.87857659e-10j]],\n",
       "\n",
       "       [[-2.46581926e-04-2.75365927e-19j,\n",
       "          2.49064262e-04+3.02062313e-17j],\n",
       "        [-1.33126661e-02-2.03926728e-15j,\n",
       "         -1.31799835e-02-6.15536339e-16j],\n",
       "        [ 1.70076131e-09+5.06913279e-09j,\n",
       "         -1.81214829e-11+9.52446114e-09j],\n",
       "        [ 9.50091869e-09+1.57127649e-09j,\n",
       "          6.90204315e-09-7.36810860e-09j]],\n",
       "\n",
       "       [[ 2.47716598e-16-1.86871723e-31j,\n",
       "          1.63960589e-15-3.57807534e-16j],\n",
       "        [-1.31086678e-14-1.98902386e-27j,\n",
       "          1.36138970e-14-9.57837542e-17j],\n",
       "        [ 6.19485854e-09-5.15012044e-08j,\n",
       "         -1.09831371e-08-3.92457314e-09j],\n",
       "        [ 3.79986372e-10-1.19675865e-09j,\n",
       "          1.37395131e-08-1.49130459e-10j]],\n",
       "\n",
       "       [[-4.35747233e-17-4.77037440e-32j,\n",
       "          2.21558863e-15-1.50426622e-15j],\n",
       "        [ 2.30588736e-15+8.50624888e-28j,\n",
       "         -1.72444726e-15-4.02686506e-16j],\n",
       "        [ 1.41536445e-08+4.80849876e-09j,\n",
       "         -1.33802165e-08+1.27761134e-08j],\n",
       "        [-1.42259001e-09+1.06187569e-09j,\n",
       "         -4.14465147e-09-8.57505464e-09j]],\n",
       "\n",
       "       [[ 1.11787091e-17-6.37075807e-31j,\n",
       "         -2.14198711e-16+3.27167837e-16j],\n",
       "        [-5.91554963e-16+8.11479606e-28j,\n",
       "          5.37207259e-16+8.75816205e-17j],\n",
       "        [-9.86248580e-10+3.33508280e-09j,\n",
       "         -9.54108677e-09+1.67967999e-08j],\n",
       "        [ 1.08411078e-08+1.64307407e-08j,\n",
       "          2.00163596e-10+1.62516930e-08j]],\n",
       "\n",
       "       [[ 1.44673926e-17+5.69367267e-31j,\n",
       "          1.19342537e-16+1.95940528e-16j],\n",
       "        [-7.65585531e-16-6.22137853e-28j,\n",
       "          8.01405954e-16+5.24525551e-17j],\n",
       "        [-1.04931208e-09+4.11773327e-09j,\n",
       "          5.63655874e-09+7.85226520e-09j],\n",
       "        [-1.48388307e-08-4.83067109e-09j,\n",
       "         -1.23602443e-08+3.49956750e-11j]],\n",
       "\n",
       "       [[ 1.01950005e-17+3.07766090e-32j,\n",
       "          8.48267109e-17-8.86678163e-17j],\n",
       "        [-5.39499072e-16-3.85172830e-28j,\n",
       "          5.64936033e-16-2.37360467e-17j],\n",
       "        [-7.75457977e-10+3.69222223e-09j,\n",
       "          1.77842732e-09-3.55170939e-09j],\n",
       "        [ 1.43336208e-08-7.44485196e-10j,\n",
       "         -1.50272554e-08-4.79728357e-10j]],\n",
       "\n",
       "       [[ 1.13301482e-17+1.04832825e-31j,\n",
       "         -1.02335952e-16-1.46699829e-16j],\n",
       "        [-5.99568818e-16+5.09987666e-29j,\n",
       "          5.75206901e-16-3.92710021e-17j],\n",
       "        [ 9.84573698e-10+5.55289515e-09j,\n",
       "         -6.83395359e-10-6.74874663e-10j],\n",
       "        [-7.45849816e-10+2.21619665e-10j,\n",
       "          3.89205681e-09-2.02663284e-09j]]])</details></samp><samp style='font-size: 12px;'><details><summary><b style=\"color: #e55471;\">Tensor</b>(shape=(<b style=\"color: #80d749;\">4</b>, <b style=\"color: #828fdd;\">2</b>, <b style=\"color: #828fdd;\">2</b>), inds=[<b style=\"color: #e38257;\">_bcb3eaAAAAQ</b>, <b style=\"color: #d7c55a;\">_bcb3eaAAAAR</b>, <b style=\"color: #7bcd9f;\">k8</b>], tags={<b style=\"color: #74d649;\">0</b>, <b style=\"color: #45ce3d;\">1</b>, <b style=\"color: #828fdd;\">2</b>, <b style=\"color: #8a5bcf;\">3</b>, <b style=\"color: #80d749;\">4</b>, <b style=\"color: #7355d7;\">5</b>, <b style=\"color: #a4de79;\">6</b>, <b style=\"color: #7930d2;\">7</b>, <b style=\"color: #39acd6;\">8</b>, <b style=\"color: #c14bdb;\">9</b>, <b style=\"color: #8a3dd8;\">I8</b>, <b style=\"color: #d3b991;\">PSI0</b>, <b style=\"color: #cfb283;\">GATE_79</b>, <b style=\"color: #8c64d6;\">GATE_86</b>, <b style=\"color: #b7d375;\">GATE_95</b>, <b style=\"color: #cd39a5;\">GATE_102</b>, <b style=\"color: #b883d9;\">GATE_150</b>, <b style=\"color: #da5347;\">GATE_160</b>, <b style=\"color: #76e5d7;\">GATE_164</b>, <b style=\"color: #90d0cb;\">GATE_166</b>, <b style=\"color: #c292d3;\">GATE_168</b>, <b style=\"color: #5d88ce;\">GATE_170</b>, <b style=\"color: #cdbb82;\">GATE_172</b>, <b style=\"color: #82e2b2;\">GATE_174</b>, <b style=\"color: #dc5073;\">GATE_177</b>, <b style=\"color: #a658e3;\">GATE_190</b>, <b style=\"color: #d49487;\">GATE_194</b>, <b style=\"color: #d2983e;\">GATE_199</b>, <b style=\"color: #b7d977;\">GATE_206</b>, <b style=\"color: #46d3b9;\">GATE_215</b>, <b style=\"color: #b671cf;\">GATE_222</b>}),</summary>backend=<b style=\"color: #7fdd73;\">numpy</b>, dtype=<b style=\"color: #443ce1;\">complex128</b>, data=array([[[-7.03555342e-01+0.00000000e+00j,\n",
       "         -7.07123420e-01+1.81081279e-15j],\n",
       "        [ 3.54731552e-02-1.95031507e-16j,\n",
       "         -3.52941610e-02+8.83028369e-16j]],\n",
       "\n",
       "       [[-1.32951982e-02+0.00000000e+00j,\n",
       "          3.36279944e-05+3.26947156e-16j],\n",
       "        [ 6.70341905e-04-3.25861910e-15j,\n",
       "          2.65027060e-01-1.64543382e-14j]],\n",
       "\n",
       "       [[ 4.51552601e-08+0.00000000e+00j,\n",
       "         -4.50200168e-08-4.18282566e-11j],\n",
       "        [ 4.12440914e-10-8.31707956e-10j,\n",
       "          2.26990251e-09+2.10897444e-12j]],\n",
       "\n",
       "       [[ 1.00382061e-09+0.00000000e+00j,\n",
       "          1.03898157e-09+9.14737071e-10j],\n",
       "        [ 4.05682172e-08+1.81885204e-08j,\n",
       "         -5.23852955e-11-4.61209064e-11j]]])</details></samp><samp style='font-size: 12px;'><details><summary><b style=\"color: #e55471;\">Tensor</b>(shape=(<b style=\"color: #828fdd;\">2</b>, <b style=\"color: #828fdd;\">2</b>), inds=[<b style=\"color: #d7c55a;\">_bcb3eaAAAAR</b>, <b style=\"color: #cc70c1;\">k9</b>], tags={<b style=\"color: #74d649;\">0</b>, <b style=\"color: #45ce3d;\">1</b>, <b style=\"color: #828fdd;\">2</b>, <b style=\"color: #8a5bcf;\">3</b>, <b style=\"color: #80d749;\">4</b>, <b style=\"color: #7355d7;\">5</b>, <b style=\"color: #a4de79;\">6</b>, <b style=\"color: #7930d2;\">7</b>, <b style=\"color: #39acd6;\">8</b>, <b style=\"color: #c14bdb;\">9</b>, <b style=\"color: #d74979;\">I9</b>, <b style=\"color: #d3b991;\">PSI0</b>, <b style=\"color: #53d4b1;\">GATE_83</b>, <b style=\"color: #b6e595;\">GATE_88</b>, <b style=\"color: #c4e57a;\">GATE_92</b>, <b style=\"color: #a786ce;\">GATE_97</b>, <b style=\"color: #d8e156;\">GATE_114</b>, <b style=\"color: #65d5a0;\">GATE_118</b>, <b style=\"color: #70e3cd;\">GATE_120</b>, <b style=\"color: #74e47c;\">GATE_122</b>, <b style=\"color: #88d9a4;\">GATE_124</b>, <b style=\"color: #879acf;\">GATE_126</b>, <b style=\"color: #a441de;\">GATE_128</b>, <b style=\"color: #63e1a7;\">GATE_131</b>, <b style=\"color: #51b5d3;\">GATE_144</b>, <b style=\"color: #de804b;\">GATE_148</b>, <b style=\"color: #70e45f;\">GATE_163</b>, <b style=\"color: #4530d2;\">GATE_178</b>, <b style=\"color: #63dcb0;\">GATE_193</b>}),</summary>backend=<b style=\"color: #7fdd73;\">numpy</b>, dtype=<b style=\"color: #443ce1;\">complex128</b>, data=array([[-9.98731338e-01+7.54587971e-23j, -5.55675427e-16+5.03558847e-02j],\n",
       "       [ 5.03558847e-02+3.38719590e-18j, -1.10881453e-14+9.98731338e-01j]])</details></samp></details></samp>"
      ],
      "text/plain": [
       "MatrixProductState(tensors=10, indices=19, L=10, max_bond=32)"
      ]
     },
     "execution_count": 28,
     "metadata": {},
     "output_type": "execute_result"
    }
   ],
   "source": [
    "obj._interface.state"
   ]
  },
  {
   "cell_type": "code",
   "execution_count": 29,
   "metadata": {},
   "outputs": [
    {
     "data": {
      "text/plain": [
       "{'_psi': MatrixProductState(tensors=10, indices=19, L=10, max_bond=32),\n",
       " 'N': 10,\n",
       " 'gate_opts': {'contract': 'swap+split', 'propagate_tags': 'register'},\n",
       " 'gates': [<Gate(label=RAW133301236114800, params=raw, qubits=(2, 3))>,\n",
       "  <Gate(label=RAW133301236114800, params=raw, qubits=(0, 2))>,\n",
       "  <Gate(label=RAW133301950425776, params=raw, qubits=(3,))>,\n",
       "  <Gate(label=RAW133301950425776, params=raw, qubits=(0,))>,\n",
       "  <Gate(label=RAW133301236114800, params=raw, qubits=(2, 3))>,\n",
       "  <Gate(label=RAW133301236114800, params=raw, qubits=(0, 1))>,\n",
       "  <Gate(label=RAW133301235821520, params=raw, qubits=(1,))>,\n",
       "  <Gate(label=RAW133301235818736, params=raw, qubits=(0,))>,\n",
       "  <Gate(label=RAW133301236114800, params=raw, qubits=(0, 3))>,\n",
       "  <Gate(label=RAW133301950425776, params=raw, qubits=(3,))>,\n",
       "  <Gate(label=RAW133301236114800, params=raw, qubits=(3, 1))>,\n",
       "  <Gate(label=RAW133301236115952, params=raw, qubits=(1,))>,\n",
       "  <Gate(label=RAW133301236116144, params=raw, qubits=(0,))>,\n",
       "  <Gate(label=RAW133301236114800, params=raw, qubits=(2, 1))>,\n",
       "  <Gate(label=RAW133301236114800, params=raw, qubits=(2, 0))>,\n",
       "  <Gate(label=RAW133301235414096, params=raw, qubits=(1,))>,\n",
       "  <Gate(label=RAW133301235420976, params=raw, qubits=(0,))>,\n",
       "  <Gate(label=RAW133301236114800, params=raw, qubits=(3, 1))>,\n",
       "  <Gate(label=RAW133301950425776, params=raw, qubits=(3,))>,\n",
       "  <Gate(label=RAW133301236114800, params=raw, qubits=(0, 3))>,\n",
       "  <Gate(label=RAW133301235821904, params=raw, qubits=(1,))>,\n",
       "  <Gate(label=RAW133301235413232, params=raw, qubits=(0,))>,\n",
       "  <Gate(label=RAW133301236114800, params=raw, qubits=(0, 1))>,\n",
       "  <Gate(label=RAW133301236114800, params=raw, qubits=(2, 0))>,\n",
       "  <Gate(label=RAW133301950425776, params=raw, qubits=(0,))>,\n",
       "  <Gate(label=RAW133301950425776, params=raw, qubits=(3,))>,\n",
       "  <Gate(label=RAW133301236114800, params=raw, qubits=(0, 2))>,\n",
       "  <Gate(label=RAW133301236114800, params=raw, qubits=(2, 3))>,\n",
       "  <Gate(label=RAW133301235821232, params=raw, qubits=(2,))>,\n",
       "  <Gate(label=RAW133301235821712, params=raw, qubits=(2,))>,\n",
       "  <Gate(label=RAW133301950425776, params=raw, qubits=(2,))>,\n",
       "  <Gate(label=RAW133301236114800, params=raw, qubits=(5, 2))>,\n",
       "  <Gate(label=RAW133301235421072, params=raw, qubits=(2,))>,\n",
       "  <Gate(label=RAW133301236114800, params=raw, qubits=(4, 2))>,\n",
       "  <Gate(label=RAW133301235822000, params=raw, qubits=(2,))>,\n",
       "  <Gate(label=RAW133301236114800, params=raw, qubits=(5, 2))>,\n",
       "  <Gate(label=RAW133301235387440, params=raw, qubits=(2,))>,\n",
       "  <Gate(label=RAW133301236114800, params=raw, qubits=(4, 2))>,\n",
       "  <Gate(label=RAW133301235822000, params=raw, qubits=(2,))>,\n",
       "  <Gate(label=RAW133301235822000, params=raw, qubits=(5,))>,\n",
       "  <Gate(label=RAW133301236114800, params=raw, qubits=(4, 5))>,\n",
       "  <Gate(label=RAW133301950425776, params=raw, qubits=(2,))>,\n",
       "  <Gate(label=RAW133301235822000, params=raw, qubits=(4,))>,\n",
       "  <Gate(label=RAW133301235821424, params=raw, qubits=(5,))>,\n",
       "  <Gate(label=RAW133301236114800, params=raw, qubits=(4, 5))>,\n",
       "  <Gate(label=RAW133301950425776, params=raw, qubits=(5,))>,\n",
       "  <Gate(label=RAW133301236114800, params=raw, qubits=(2, 5))>,\n",
       "  <Gate(label=RAW133301235806000, params=raw, qubits=(5,))>,\n",
       "  <Gate(label=RAW133301236114800, params=raw, qubits=(4, 5))>,\n",
       "  <Gate(label=RAW133301235822000, params=raw, qubits=(5,))>,\n",
       "  <Gate(label=RAW133301236114800, params=raw, qubits=(2, 5))>,\n",
       "  <Gate(label=RAW133301235387728, params=raw, qubits=(5,))>,\n",
       "  <Gate(label=RAW133301236114800, params=raw, qubits=(4, 5))>,\n",
       "  <Gate(label=RAW133301235822000, params=raw, qubits=(5,))>,\n",
       "  <Gate(label=RAW133301235822000, params=raw, qubits=(2,))>,\n",
       "  <Gate(label=RAW133301236114800, params=raw, qubits=(4, 2))>,\n",
       "  <Gate(label=RAW133301950425776, params=raw, qubits=(5,))>,\n",
       "  <Gate(label=RAW133301235822000, params=raw, qubits=(4,))>,\n",
       "  <Gate(label=RAW133301235388016, params=raw, qubits=(2,))>,\n",
       "  <Gate(label=RAW133301236114800, params=raw, qubits=(4, 2))>,\n",
       "  <Gate(label=RAW133301950425776, params=raw, qubits=(2,))>,\n",
       "  <Gate(label=RAW133301236114800, params=raw, qubits=(5, 2))>,\n",
       "  <Gate(label=RAW133301235638512, params=raw, qubits=(2,))>,\n",
       "  <Gate(label=RAW133301236114800, params=raw, qubits=(4, 2))>,\n",
       "  <Gate(label=RAW133301235822000, params=raw, qubits=(2,))>,\n",
       "  <Gate(label=RAW133301236114800, params=raw, qubits=(5, 2))>,\n",
       "  <Gate(label=RAW133301235385424, params=raw, qubits=(2,))>,\n",
       "  <Gate(label=RAW133301236114800, params=raw, qubits=(4, 2))>,\n",
       "  <Gate(label=RAW133301235822000, params=raw, qubits=(2,))>,\n",
       "  <Gate(label=RAW133301235822000, params=raw, qubits=(5,))>,\n",
       "  <Gate(label=RAW133301236114800, params=raw, qubits=(4, 5))>,\n",
       "  <Gate(label=RAW133301950425776, params=raw, qubits=(2,))>,\n",
       "  <Gate(label=RAW133301235822000, params=raw, qubits=(4,))>,\n",
       "  <Gate(label=RAW133301235387920, params=raw, qubits=(5,))>,\n",
       "  <Gate(label=RAW133301236114800, params=raw, qubits=(4, 5))>,\n",
       "  <Gate(label=RAW133301235640912, params=raw, qubits=(6,))>,\n",
       "  <Gate(label=RAW133301236114800, params=raw, qubits=(7, 8))>,\n",
       "  <Gate(label=RAW133301236114800, params=raw, qubits=(7, 8))>,\n",
       "  <Gate(label=RAW133301236114800, params=raw, qubits=(6, 7))>,\n",
       "  <Gate(label=RAW133301950425776, params=raw, qubits=(8,))>,\n",
       "  <Gate(label=RAW133301950425776, params=raw, qubits=(6,))>,\n",
       "  <Gate(label=RAW133301236114800, params=raw, qubits=(7, 8))>,\n",
       "  <Gate(label=RAW133301236114800, params=raw, qubits=(6, 9))>,\n",
       "  <Gate(label=RAW133301235385808, params=raw, qubits=(9,))>,\n",
       "  <Gate(label=RAW133301235639280, params=raw, qubits=(6,))>,\n",
       "  <Gate(label=RAW133301236114800, params=raw, qubits=(6, 8))>,\n",
       "  <Gate(label=RAW133301950425776, params=raw, qubits=(8,))>,\n",
       "  <Gate(label=RAW133301236114800, params=raw, qubits=(8, 9))>,\n",
       "  <Gate(label=RAW133301235639664, params=raw, qubits=(9,))>,\n",
       "  <Gate(label=RAW133301199078384, params=raw, qubits=(6,))>,\n",
       "  <Gate(label=RAW133301236114800, params=raw, qubits=(7, 9))>,\n",
       "  <Gate(label=RAW133301236114800, params=raw, qubits=(7, 6))>,\n",
       "  <Gate(label=RAW133301235641488, params=raw, qubits=(9,))>,\n",
       "  <Gate(label=RAW133301235639952, params=raw, qubits=(6,))>,\n",
       "  <Gate(label=RAW133301236114800, params=raw, qubits=(8, 9))>,\n",
       "  <Gate(label=RAW133301950425776, params=raw, qubits=(8,))>,\n",
       "  <Gate(label=RAW133301236114800, params=raw, qubits=(6, 8))>,\n",
       "  <Gate(label=RAW133301199078960, params=raw, qubits=(9,))>,\n",
       "  <Gate(label=RAW133301235640432, params=raw, qubits=(6,))>,\n",
       "  <Gate(label=RAW133301236114800, params=raw, qubits=(6, 9))>,\n",
       "  <Gate(label=RAW133301236114800, params=raw, qubits=(7, 6))>,\n",
       "  <Gate(label=RAW133301950425776, params=raw, qubits=(6,))>,\n",
       "  <Gate(label=RAW133301950425776, params=raw, qubits=(8,))>,\n",
       "  <Gate(label=RAW133301236114800, params=raw, qubits=(6, 7))>,\n",
       "  <Gate(label=RAW133301236114800, params=raw, qubits=(7, 8))>,\n",
       "  <Gate(label=RAW133301950425776, params=raw, qubits=(6,))>,\n",
       "  <Gate(label=RAW133301236114800, params=raw, qubits=(9, 6))>,\n",
       "  <Gate(label=RAW133301235639856, params=raw, qubits=(6,))>,\n",
       "  <Gate(label=RAW133301236114800, params=raw, qubits=(2, 6))>,\n",
       "  <Gate(label=RAW133301235822000, params=raw, qubits=(6,))>,\n",
       "  <Gate(label=RAW133301236114800, params=raw, qubits=(9, 6))>,\n",
       "  <Gate(label=RAW133301235639376, params=raw, qubits=(6,))>,\n",
       "  <Gate(label=RAW133301236114800, params=raw, qubits=(2, 6))>,\n",
       "  <Gate(label=RAW133301235822000, params=raw, qubits=(6,))>,\n",
       "  <Gate(label=RAW133301235822000, params=raw, qubits=(9,))>,\n",
       "  <Gate(label=RAW133301236114800, params=raw, qubits=(2, 9))>,\n",
       "  <Gate(label=RAW133301950425776, params=raw, qubits=(6,))>,\n",
       "  <Gate(label=RAW133301235822000, params=raw, qubits=(2,))>,\n",
       "  <Gate(label=RAW133301235641968, params=raw, qubits=(9,))>,\n",
       "  <Gate(label=RAW133301236114800, params=raw, qubits=(2, 9))>,\n",
       "  <Gate(label=RAW133301950425776, params=raw, qubits=(9,))>,\n",
       "  <Gate(label=RAW133301236114800, params=raw, qubits=(6, 9))>,\n",
       "  <Gate(label=RAW133301235640720, params=raw, qubits=(9,))>,\n",
       "  <Gate(label=RAW133301236114800, params=raw, qubits=(2, 9))>,\n",
       "  <Gate(label=RAW133301235822000, params=raw, qubits=(9,))>,\n",
       "  <Gate(label=RAW133301236114800, params=raw, qubits=(6, 9))>,\n",
       "  <Gate(label=RAW133301199079728, params=raw, qubits=(9,))>,\n",
       "  <Gate(label=RAW133301236114800, params=raw, qubits=(2, 9))>,\n",
       "  <Gate(label=RAW133301235822000, params=raw, qubits=(9,))>,\n",
       "  <Gate(label=RAW133301235822000, params=raw, qubits=(6,))>,\n",
       "  <Gate(label=RAW133301236114800, params=raw, qubits=(2, 6))>,\n",
       "  <Gate(label=RAW133301950425776, params=raw, qubits=(9,))>,\n",
       "  <Gate(label=RAW133301235822000, params=raw, qubits=(2,))>,\n",
       "  <Gate(label=RAW133301199080016, params=raw, qubits=(6,))>,\n",
       "  <Gate(label=RAW133301236114800, params=raw, qubits=(2, 6))>,\n",
       "  <Gate(label=RAW133301950425776, params=raw, qubits=(6,))>,\n",
       "  <Gate(label=RAW133301236114800, params=raw, qubits=(9, 6))>,\n",
       "  <Gate(label=RAW133301199078000, params=raw, qubits=(6,))>,\n",
       "  <Gate(label=RAW133301236114800, params=raw, qubits=(2, 6))>,\n",
       "  <Gate(label=RAW133301235822000, params=raw, qubits=(6,))>,\n",
       "  <Gate(label=RAW133301236114800, params=raw, qubits=(9, 6))>,\n",
       "  <Gate(label=RAW133301199080400, params=raw, qubits=(6,))>,\n",
       "  <Gate(label=RAW133301236114800, params=raw, qubits=(2, 6))>,\n",
       "  <Gate(label=RAW133301235822000, params=raw, qubits=(6,))>,\n",
       "  <Gate(label=RAW133301235822000, params=raw, qubits=(9,))>,\n",
       "  <Gate(label=RAW133301236114800, params=raw, qubits=(2, 9))>,\n",
       "  <Gate(label=RAW133301950425776, params=raw, qubits=(6,))>,\n",
       "  <Gate(label=RAW133301235822000, params=raw, qubits=(2,))>,\n",
       "  <Gate(label=RAW133301199081264, params=raw, qubits=(9,))>,\n",
       "  <Gate(label=RAW133301236114800, params=raw, qubits=(2, 9))>,\n",
       "  <Gate(label=RAW133301950425776, params=raw, qubits=(8,))>,\n",
       "  <Gate(label=RAW133301950425776, params=raw, qubits=(7,))>,\n",
       "  <Gate(label=RAW133301236114800, params=raw, qubits=(8, 7))>,\n",
       "  <Gate(label=RAW133301198657168, params=raw, qubits=(7,))>,\n",
       "  <Gate(label=RAW133301236114800, params=raw, qubits=(9, 7))>,\n",
       "  <Gate(label=RAW133301235822000, params=raw, qubits=(7,))>,\n",
       "  <Gate(label=RAW133301236114800, params=raw, qubits=(8, 7))>,\n",
       "  <Gate(label=RAW133301198656592, params=raw, qubits=(7,))>,\n",
       "  <Gate(label=RAW133301236114800, params=raw, qubits=(9, 7))>,\n",
       "  <Gate(label=RAW133301235822000, params=raw, qubits=(7,))>,\n",
       "  <Gate(label=RAW133301235822000, params=raw, qubits=(8,))>,\n",
       "  <Gate(label=RAW133301236114800, params=raw, qubits=(9, 8))>,\n",
       "  <Gate(label=RAW133301950425776, params=raw, qubits=(7,))>,\n",
       "  <Gate(label=RAW133301235822000, params=raw, qubits=(9,))>,\n",
       "  <Gate(label=RAW133301199079920, params=raw, qubits=(8,))>,\n",
       "  <Gate(label=RAW133301236114800, params=raw, qubits=(9, 8))>,\n",
       "  <Gate(label=RAW133301950425776, params=raw, qubits=(8,))>,\n",
       "  <Gate(label=RAW133301236114800, params=raw, qubits=(7, 8))>,\n",
       "  <Gate(label=RAW133301235641392, params=raw, qubits=(8,))>,\n",
       "  <Gate(label=RAW133301236114800, params=raw, qubits=(9, 8))>,\n",
       "  <Gate(label=RAW133301235822000, params=raw, qubits=(8,))>,\n",
       "  <Gate(label=RAW133301236114800, params=raw, qubits=(7, 8))>,\n",
       "  <Gate(label=RAW133301235641584, params=raw, qubits=(8,))>,\n",
       "  <Gate(label=RAW133301236114800, params=raw, qubits=(9, 8))>,\n",
       "  <Gate(label=RAW133301235822000, params=raw, qubits=(8,))>,\n",
       "  <Gate(label=RAW133301235822000, params=raw, qubits=(7,))>,\n",
       "  <Gate(label=RAW133301236114800, params=raw, qubits=(9, 7))>,\n",
       "  <Gate(label=RAW133301950425776, params=raw, qubits=(8,))>,\n",
       "  <Gate(label=RAW133301235822000, params=raw, qubits=(9,))>,\n",
       "  <Gate(label=RAW133301198657552, params=raw, qubits=(7,))>,\n",
       "  <Gate(label=RAW133301236114800, params=raw, qubits=(9, 7))>,\n",
       "  <Gate(label=RAW133301950425776, params=raw, qubits=(7,))>,\n",
       "  <Gate(label=RAW133301236114800, params=raw, qubits=(8, 7))>,\n",
       "  <Gate(label=RAW133301198658704, params=raw, qubits=(7,))>,\n",
       "  <Gate(label=RAW133301236114800, params=raw, qubits=(9, 7))>,\n",
       "  <Gate(label=RAW133301235822000, params=raw, qubits=(7,))>,\n",
       "  <Gate(label=RAW133301236114800, params=raw, qubits=(8, 7))>,\n",
       "  <Gate(label=RAW133301198657264, params=raw, qubits=(7,))>,\n",
       "  <Gate(label=RAW133301236114800, params=raw, qubits=(9, 7))>,\n",
       "  <Gate(label=RAW133301235822000, params=raw, qubits=(7,))>,\n",
       "  <Gate(label=RAW133301235822000, params=raw, qubits=(8,))>,\n",
       "  <Gate(label=RAW133301236114800, params=raw, qubits=(9, 8))>,\n",
       "  <Gate(label=RAW133301950425776, params=raw, qubits=(7,))>,\n",
       "  <Gate(label=RAW133301235822000, params=raw, qubits=(9,))>,\n",
       "  <Gate(label=RAW133301198659088, params=raw, qubits=(8,))>,\n",
       "  <Gate(label=RAW133301236114800, params=raw, qubits=(9, 8))>,\n",
       "  <Gate(label=RAW133301236114800, params=raw, qubits=(9, 8))>,\n",
       "  <Gate(label=RAW133301236114800, params=raw, qubits=(7, 8))>,\n",
       "  <Gate(label=RAW133301236114800, params=raw, qubits=(2, 7))>,\n",
       "  <Gate(label=RAW133301950425776, params=raw, qubits=(8,))>,\n",
       "  <Gate(label=RAW133301950425776, params=raw, qubits=(2,))>,\n",
       "  <Gate(label=RAW133301236114800, params=raw, qubits=(7, 8))>,\n",
       "  <Gate(label=RAW133301236114800, params=raw, qubits=(2, 6))>,\n",
       "  <Gate(label=RAW133301198659376, params=raw, qubits=(6,))>,\n",
       "  <Gate(label=RAW133301198705360, params=raw, qubits=(2,))>,\n",
       "  <Gate(label=RAW133301236114800, params=raw, qubits=(2, 8))>,\n",
       "  <Gate(label=RAW133301950425776, params=raw, qubits=(8,))>,\n",
       "  <Gate(label=RAW133301236114800, params=raw, qubits=(8, 6))>,\n",
       "  <Gate(label=RAW133301198704784, params=raw, qubits=(6,))>,\n",
       "  <Gate(label=RAW133301198656688, params=raw, qubits=(2,))>,\n",
       "  <Gate(label=RAW133301236114800, params=raw, qubits=(7, 6))>,\n",
       "  <Gate(label=RAW133301236114800, params=raw, qubits=(7, 2))>,\n",
       "  <Gate(label=RAW133301198706224, params=raw, qubits=(6,))>,\n",
       "  <Gate(label=RAW133301198705072, params=raw, qubits=(2,))>,\n",
       "  <Gate(label=RAW133301236114800, params=raw, qubits=(8, 6))>,\n",
       "  <Gate(label=RAW133301950425776, params=raw, qubits=(8,))>,\n",
       "  <Gate(label=RAW133301236114800, params=raw, qubits=(2, 8))>,\n",
       "  <Gate(label=RAW133301198706032, params=raw, qubits=(6,))>,\n",
       "  <Gate(label=RAW133301198704688, params=raw, qubits=(2,))>,\n",
       "  <Gate(label=RAW133301236114800, params=raw, qubits=(2, 6))>,\n",
       "  <Gate(label=RAW133301236114800, params=raw, qubits=(7, 2))>,\n",
       "  <Gate(label=RAW133301950425776, params=raw, qubits=(2,))>,\n",
       "  <Gate(label=RAW133301950425776, params=raw, qubits=(8,))>,\n",
       "  <Gate(label=RAW133301236114800, params=raw, qubits=(2, 7))>,\n",
       "  <Gate(label=RAW133301236114800, params=raw, qubits=(7, 8))>],\n",
       " '_ket_site_ind_id': 'k{}',\n",
       " '_bra_site_ind_id': 'b{}',\n",
       " 'ket_site_ind': <function str.format>,\n",
       " 'bra_site_ind': <function str.format>,\n",
       " '_sample_n_gates': -1,\n",
       " '_storage': {},\n",
       " '_sampled_conditionals': {}}"
      ]
     },
     "execution_count": 29,
     "metadata": {},
     "output_type": "execute_result"
    }
   ],
   "source": [
    "obj._interface._circuitMPS.__dict__"
   ]
  },
  {
   "cell_type": "code",
   "execution_count": 30,
   "metadata": {},
   "outputs": [
    {
     "data": {
      "text/plain": [
       "<Circuit(n=10, num_gates=225, gate_opts={'contract': 'swap+split', 'propagate_tags': 'register'})>"
      ]
     },
     "execution_count": 30,
     "metadata": {},
     "output_type": "execute_result"
    }
   ],
   "source": [
    "obj._interface._circuitMPS"
   ]
  },
  {
   "cell_type": "code",
   "execution_count": 31,
   "metadata": {},
   "outputs": [
    {
     "data": {
      "text/plain": [
       "32"
      ]
     },
     "execution_count": 31,
     "metadata": {},
     "output_type": "execute_result"
    }
   ],
   "source": [
    "obj._interface._circuitMPS.psi.max_bond()"
   ]
  },
  {
   "cell_type": "code",
   "execution_count": 32,
   "metadata": {},
   "outputs": [
    {
     "data": {
      "text/html": [
       "<samp style='font-size: 12px;'><details><summary><b style=\"color: #d75692;\">MatrixProductState</b>(tensors=10, indices=19, L=10, max_bond=32)</summary><samp style='font-size: 12px;'><details><summary><b style=\"color: #e55471;\">Tensor</b>(shape=(<b style=\"color: #828fdd;\">2</b>, <b style=\"color: #828fdd;\">2</b>), inds=[<b style=\"color: #9fda81;\">_bcb3eaAAAAJ</b>, <b style=\"color: #b1dc61;\">k0</b>], tags={<b style=\"color: #74d649;\">0</b>, <b style=\"color: #45ce3d;\">1</b>, <b style=\"color: #828fdd;\">2</b>, <b style=\"color: #8a5bcf;\">3</b>, <b style=\"color: #80d749;\">4</b>, <b style=\"color: #7355d7;\">5</b>, <b style=\"color: #a4de79;\">6</b>, <b style=\"color: #7930d2;\">7</b>, <b style=\"color: #39acd6;\">8</b>, <b style=\"color: #c14bdb;\">9</b>, <b style=\"color: #d2b137;\">I0</b>, <b style=\"color: #d3b991;\">PSI0</b>, <b style=\"color: #394bd1;\">GATE_3</b>, <b style=\"color: #da9170;\">GATE_7</b>, <b style=\"color: #e3a694;\">GATE_12</b>, <b style=\"color: #d8e230;\">GATE_16</b>, <b style=\"color: #4fe13d;\">GATE_21</b>, <b style=\"color: #9fe3c6;\">GATE_24</b>}),</summary>backend=<b style=\"color: #7fdd73;\">numpy</b>, dtype=<b style=\"color: #443ce1;\">complex128</b>, data=array([[1.+0.j, 0.+0.j],\n",
       "       [0.+0.j, 1.+0.j]])</details></samp><samp style='font-size: 12px;'><details><summary><b style=\"color: #e55471;\">Tensor</b>(shape=(<b style=\"color: #828fdd;\">2</b>, <b style=\"color: #80d749;\">4</b>, <b style=\"color: #828fdd;\">2</b>), inds=[<b style=\"color: #9fda81;\">_bcb3eaAAAAJ</b>, <b style=\"color: #cc2b74;\">_bcb3eaAAAAK</b>, <b style=\"color: #8aa5db;\">k1</b>], tags={<b style=\"color: #74d649;\">0</b>, <b style=\"color: #45ce3d;\">1</b>, <b style=\"color: #828fdd;\">2</b>, <b style=\"color: #8a5bcf;\">3</b>, <b style=\"color: #80d749;\">4</b>, <b style=\"color: #7355d7;\">5</b>, <b style=\"color: #a4de79;\">6</b>, <b style=\"color: #7930d2;\">7</b>, <b style=\"color: #39acd6;\">8</b>, <b style=\"color: #c14bdb;\">9</b>, <b style=\"color: #d19b78;\">I1</b>, <b style=\"color: #d3b991;\">PSI0</b>, <b style=\"color: #bade88;\">GATE_6</b>, <b style=\"color: #3bd699;\">GATE_11</b>, <b style=\"color: #71d75c;\">GATE_15</b>, <b style=\"color: #dfa87e;\">GATE_20</b>}),</summary>backend=<b style=\"color: #7fdd73;\">numpy</b>, dtype=<b style=\"color: #443ce1;\">complex128</b>, data=array([[[-1.00000000e+00+0.j,  1.49385175e-31+0.j],\n",
       "        [ 0.00000000e+00-0.j,  0.00000000e+00-0.j],\n",
       "        [ 4.97552581e-47+0.j,  3.33066907e-16+0.j],\n",
       "        [ 1.49385175e-31+0.j,  1.00000000e+00+0.j]],\n",
       "\n",
       "       [[ 0.00000000e+00+0.j,  0.00000000e+00+0.j],\n",
       "        [-3.97317224e-01+0.j, -9.17681330e-01+0.j],\n",
       "        [-9.17681330e-01+0.j,  3.97317224e-01+0.j],\n",
       "        [ 3.33066907e-16+0.j, -1.11022302e-16+0.j]]])</details></samp><samp style='font-size: 12px;'><details><summary><b style=\"color: #e55471;\">Tensor</b>(shape=(<b style=\"color: #80d749;\">4</b>, <b style=\"color: #39acd6;\">8</b>, <b style=\"color: #828fdd;\">2</b>), inds=[<b style=\"color: #cc2b74;\">_bcb3eaAAAAK</b>, <b style=\"color: #7198d9;\">_bcb3eaAAAAL</b>, <b style=\"color: #df546d;\">k2</b>], tags={<b style=\"color: #74d649;\">0</b>, <b style=\"color: #45ce3d;\">1</b>, <b style=\"color: #828fdd;\">2</b>, <b style=\"color: #8a5bcf;\">3</b>, <b style=\"color: #80d749;\">4</b>, <b style=\"color: #7355d7;\">5</b>, <b style=\"color: #a4de79;\">6</b>, <b style=\"color: #7930d2;\">7</b>, <b style=\"color: #39acd6;\">8</b>, <b style=\"color: #c14bdb;\">9</b>, <b style=\"color: #dd5dd7;\">I2</b>, <b style=\"color: #d3b991;\">PSI0</b>, <b style=\"color: #8ed0e1;\">GATE_28</b>, <b style=\"color: #b776d2;\">GATE_29</b>, <b style=\"color: #9f5bd1;\">GATE_30</b>, <b style=\"color: #6785d3;\">GATE_32</b>, <b style=\"color: #ac6be4;\">GATE_34</b>, <b style=\"color: #d878b9;\">GATE_36</b>, <b style=\"color: #41d56c;\">GATE_38</b>, <b style=\"color: #5373d2;\">GATE_41</b>, <b style=\"color: #53e04b;\">GATE_54</b>, <b style=\"color: #e14a48;\">GATE_58</b>, <b style=\"color: #2fd2cf;\">GATE_60</b>, <b style=\"color: #8cd492;\">GATE_62</b>, <b style=\"color: #54cedf;\">GATE_64</b>, <b style=\"color: #da8cd0;\">GATE_66</b>, <b style=\"color: #d666a7;\">GATE_68</b>, <b style=\"color: #d12f74;\">GATE_71</b>, <b style=\"color: #d992b1;\">GATE_117</b>, <b style=\"color: #9dcee4;\">GATE_132</b>, <b style=\"color: #39d176;\">GATE_147</b>, <b style=\"color: #475ee4;\">GATE_200</b>, <b style=\"color: #9ee086;\">GATE_204</b>, <b style=\"color: #71df2f;\">GATE_209</b>, <b style=\"color: #93dab6;\">GATE_213</b>, <b style=\"color: #a64adf;\">GATE_218</b>, <b style=\"color: #58e1ab;\">GATE_221</b>}),</summary>backend=<b style=\"color: #7fdd73;\">numpy</b>, dtype=<b style=\"color: #443ce1;\">complex128</b>, data=array([[[-4.94847129e-02+2.46830013e-19j,\n",
       "          5.83143462e-15-9.98774881e-01j],\n",
       "        [-9.98774881e-01-1.55955067e-16j,\n",
       "         -2.96894518e-16+4.94847129e-02j],\n",
       "        [ 1.24587894e-15-5.42211130e-31j,\n",
       "         -6.63720625e-21-6.28831179e-17j],\n",
       "        [-5.33365755e-15-1.39016308e-30j,\n",
       "         -7.05504441e-18+2.69316330e-16j],\n",
       "        [-1.44601216e-15-1.03513811e-30j,\n",
       "         -2.88145527e-18+8.01558401e-17j],\n",
       "        [-4.00164987e-15-2.17966718e-30j,\n",
       "         -2.95614426e-18+2.01374324e-16j],\n",
       "        [-4.23871247e-15+1.91397156e-31j,\n",
       "          2.31588639e-17+2.22321145e-16j],\n",
       "        [-4.32382774e-15-1.42637855e-30j,\n",
       "         -3.30226359e-18+2.07349004e-16j]],\n",
       "\n",
       "       [[ 1.21757297e-18+4.01708198e-19j,\n",
       "         -1.75731629e-17+1.01997334e-18j],\n",
       "        [-8.61662185e-16-5.88059011e-16j,\n",
       "          1.72097940e-15-2.07114039e-15j],\n",
       "        [-9.54797749e-01-2.88725885e-01j,\n",
       "          2.43838700e-02+1.96365059e-02j],\n",
       "        [-7.32097654e-03+2.25610361e-02j,\n",
       "         -9.77176712e-02-3.00875104e-01j],\n",
       "        [ 1.64530697e-02-2.40609661e-02j,\n",
       "          3.64028956e-01-4.69872538e-02j],\n",
       "        [-3.31338901e-02+3.68796569e-02j,\n",
       "         -4.04668986e-01+4.08024919e-01j],\n",
       "        [-1.18215956e-02+5.29649594e-03j,\n",
       "         -2.47984909e-01+5.63766312e-01j],\n",
       "        [-3.03114066e-02-6.46857379e-03j,\n",
       "          2.26109974e-01-5.93663843e-02j]],\n",
       "\n",
       "       [[ 3.55245065e-18+1.66404090e-18j,\n",
       "          2.08396958e-17-1.87608412e-18j],\n",
       "        [-3.62701177e-15-1.55355692e-15j,\n",
       "         -1.30201313e-15-3.43666098e-15j],\n",
       "        [-6.05873122e-03-3.90301864e-02j,\n",
       "          3.32372457e-02+6.44571230e-03j],\n",
       "        [ 4.32860399e-01-4.17487292e-01j,\n",
       "          1.00625181e-01+4.74982463e-01j],\n",
       "        [ 3.92171722e-02+1.15435706e-02j,\n",
       "          4.87352939e-01-5.76310839e-02j],\n",
       "        [ 1.10134670e-01+2.82402428e-02j,\n",
       "         -2.36512769e-01+4.01366119e-01j],\n",
       "        [ 3.70151597e-01+1.89545139e-01j,\n",
       "          1.70514197e-01-4.35476065e-01j],\n",
       "        [-1.75834990e-01+6.46776829e-01j,\n",
       "          7.47158480e-02+2.84527218e-01j]],\n",
       "\n",
       "       [[-3.99294399e-18+1.31210809e-18j,\n",
       "         -6.18175210e-18+9.95796675e-18j],\n",
       "        [ 3.31594149e-15-1.36507742e-15j,\n",
       "         -5.37306785e-15-2.41639319e-15j],\n",
       "        [ 2.56157507e-02-1.05654463e-02j,\n",
       "         -2.18898926e-02-8.07264616e-03j],\n",
       "        [-2.29006815e-02+6.45609957e-03j,\n",
       "          3.86543704e-01+3.89850154e-01j],\n",
       "        [-7.44600524e-01-1.90764564e-01j,\n",
       "         -1.55378283e-01+8.34058975e-02j],\n",
       "        [-4.97301171e-01+3.51488127e-01j,\n",
       "         -1.14025318e-01-2.31271214e-01j],\n",
       "        [ 1.40973042e-02-1.11522838e-01j,\n",
       "          3.07092574e-01+3.49152176e-01j],\n",
       "        [-3.48419987e-02+1.52126996e-01j,\n",
       "          6.14529190e-01-8.13029403e-02j]]])</details></samp><samp style='font-size: 12px;'><details><summary><b style=\"color: #e55471;\">Tensor</b>(shape=(<b style=\"color: #39acd6;\">8</b>, <b style=\"color: #96b5d9;\">16</b>, <b style=\"color: #828fdd;\">2</b>), inds=[<b style=\"color: #7198d9;\">_bcb3eaAAAAL</b>, <b style=\"color: #8633da;\">_bcb3eaAAAAM</b>, <b style=\"color: #4c7be1;\">k3</b>], tags={<b style=\"color: #74d649;\">0</b>, <b style=\"color: #45ce3d;\">1</b>, <b style=\"color: #828fdd;\">2</b>, <b style=\"color: #8a5bcf;\">3</b>, <b style=\"color: #80d749;\">4</b>, <b style=\"color: #7355d7;\">5</b>, <b style=\"color: #a4de79;\">6</b>, <b style=\"color: #7930d2;\">7</b>, <b style=\"color: #39acd6;\">8</b>, <b style=\"color: #c14bdb;\">9</b>, <b style=\"color: #dd65d9;\">I3</b>, <b style=\"color: #d3b991;\">PSI0</b>, <b style=\"color: #64dc8a;\">GATE_2</b>, <b style=\"color: #de70db;\">GATE_9</b>, <b style=\"color: #a4cd58;\">GATE_18</b>, <b style=\"color: #56cf38;\">GATE_25</b>}),</summary>backend=<b style=\"color: #7fdd73;\">numpy</b>, dtype=<b style=\"color: #443ce1;\">complex128</b>, data=...</details></samp><samp style='font-size: 12px;'><details><summary><b style=\"color: #e55471;\">Tensor</b>(shape=(<b style=\"color: #96b5d9;\">16</b>, <b style=\"color: #6faee5;\">32</b>, <b style=\"color: #828fdd;\">2</b>), inds=[<b style=\"color: #8633da;\">_bcb3eaAAAAM</b>, <b style=\"color: #d7e05f;\">_bcb3eaAAAAN</b>, <b style=\"color: #462edc;\">k4</b>], tags={<b style=\"color: #74d649;\">0</b>, <b style=\"color: #45ce3d;\">1</b>, <b style=\"color: #828fdd;\">2</b>, <b style=\"color: #8a5bcf;\">3</b>, <b style=\"color: #80d749;\">4</b>, <b style=\"color: #7355d7;\">5</b>, <b style=\"color: #a4de79;\">6</b>, <b style=\"color: #7930d2;\">7</b>, <b style=\"color: #39acd6;\">8</b>, <b style=\"color: #c14bdb;\">9</b>, <b style=\"color: #998ad1;\">I4</b>, <b style=\"color: #d3b991;\">PSI0</b>, <b style=\"color: #e1c97a;\">GATE_42</b>, <b style=\"color: #e2ba6c;\">GATE_57</b>, <b style=\"color: #b9db52;\">GATE_72</b>}),</summary>backend=<b style=\"color: #7fdd73;\">numpy</b>, dtype=<b style=\"color: #443ce1;\">complex128</b>, data=...</details></samp><samp style='font-size: 12px;'><details><summary><b style=\"color: #e55471;\">Tensor</b>(shape=(<b style=\"color: #6faee5;\">32</b>, <b style=\"color: #96b5d9;\">16</b>, <b style=\"color: #828fdd;\">2</b>), inds=[<b style=\"color: #d7e05f;\">_bcb3eaAAAAN</b>, <b style=\"color: #8c72d5;\">_bcb3eaAAAAO</b>, <b style=\"color: #85dfdf;\">k5</b>], tags={<b style=\"color: #74d649;\">0</b>, <b style=\"color: #45ce3d;\">1</b>, <b style=\"color: #828fdd;\">2</b>, <b style=\"color: #8a5bcf;\">3</b>, <b style=\"color: #80d749;\">4</b>, <b style=\"color: #7355d7;\">5</b>, <b style=\"color: #a4de79;\">6</b>, <b style=\"color: #7930d2;\">7</b>, <b style=\"color: #39acd6;\">8</b>, <b style=\"color: #c14bdb;\">9</b>, <b style=\"color: #97dddc;\">I5</b>, <b style=\"color: #d3b991;\">PSI0</b>, <b style=\"color: #81e4a5;\">GATE_39</b>, <b style=\"color: #ce2b3b;\">GATE_43</b>, <b style=\"color: #c659e3;\">GATE_45</b>, <b style=\"color: #4d78d7;\">GATE_47</b>, <b style=\"color: #a98de3;\">GATE_49</b>, <b style=\"color: #e2df85;\">GATE_51</b>, <b style=\"color: #da53d5;\">GATE_53</b>, <b style=\"color: #8cd1ce;\">GATE_56</b>, <b style=\"color: #acd280;\">GATE_69</b>, <b style=\"color: #de448f;\">GATE_73</b>}),</summary>backend=<b style=\"color: #7fdd73;\">numpy</b>, dtype=<b style=\"color: #443ce1;\">complex128</b>, data=...</details></samp><samp style='font-size: 12px;'><details><summary><b style=\"color: #e55471;\">Tensor</b>(shape=(<b style=\"color: #96b5d9;\">16</b>, <b style=\"color: #39acd6;\">8</b>, <b style=\"color: #828fdd;\">2</b>), inds=[<b style=\"color: #8c72d5;\">_bcb3eaAAAAO</b>, <b style=\"color: #82cdcc;\">_bcb3eaAAAAP</b>, <b style=\"color: #2cb7d3;\">k6</b>], tags={<b style=\"color: #74d649;\">0</b>, <b style=\"color: #45ce3d;\">1</b>, <b style=\"color: #828fdd;\">2</b>, <b style=\"color: #8a5bcf;\">3</b>, <b style=\"color: #80d749;\">4</b>, <b style=\"color: #7355d7;\">5</b>, <b style=\"color: #a4de79;\">6</b>, <b style=\"color: #7930d2;\">7</b>, <b style=\"color: #39acd6;\">8</b>, <b style=\"color: #c14bdb;\">9</b>, <b style=\"color: #b2de5f;\">I6</b>, <b style=\"color: #d3b991;\">PSI0</b>, <b style=\"color: #de94a1;\">GATE_75</b>, <b style=\"color: #b847d9;\">GATE_80</b>, <b style=\"color: #cebd78;\">GATE_84</b>, <b style=\"color: #75d0ca;\">GATE_89</b>, <b style=\"color: #8dd89d;\">GATE_93</b>, <b style=\"color: #e37ed3;\">GATE_98</b>, <b style=\"color: #a236d5;\">GATE_101</b>, <b style=\"color: #a2d946;\">GATE_105</b>, <b style=\"color: #9e79df;\">GATE_107</b>, <b style=\"color: #de5270;\">GATE_109</b>, <b style=\"color: #d696af;\">GATE_111</b>, <b style=\"color: #a7cd2b;\">GATE_113</b>, <b style=\"color: #bedd87;\">GATE_116</b>, <b style=\"color: #c8dd4f;\">GATE_129</b>, <b style=\"color: #d18cc3;\">GATE_133</b>, <b style=\"color: #d281bc;\">GATE_135</b>, <b style=\"color: #a583d8;\">GATE_137</b>, <b style=\"color: #e0bd2f;\">GATE_139</b>, <b style=\"color: #7a99ce;\">GATE_141</b>, <b style=\"color: #3e7ed4;\">GATE_143</b>, <b style=\"color: #6fdd74;\">GATE_146</b>, <b style=\"color: #93d685;\">GATE_203</b>, <b style=\"color: #8aa5d6;\">GATE_208</b>, <b style=\"color: #b9e58c;\">GATE_212</b>, <b style=\"color: #339cd7;\">GATE_217</b>}),</summary>backend=<b style=\"color: #7fdd73;\">numpy</b>, dtype=<b style=\"color: #443ce1;\">complex128</b>, data=...</details></samp><samp style='font-size: 12px;'><details><summary><b style=\"color: #e55471;\">Tensor</b>(shape=(<b style=\"color: #39acd6;\">8</b>, <b style=\"color: #80d749;\">4</b>, <b style=\"color: #828fdd;\">2</b>), inds=[<b style=\"color: #82cdcc;\">_bcb3eaAAAAP</b>, <b style=\"color: #e38257;\">_bcb3eaAAAAQ</b>, <b style=\"color: #53e08f;\">k7</b>], tags={<b style=\"color: #74d649;\">0</b>, <b style=\"color: #45ce3d;\">1</b>, <b style=\"color: #828fdd;\">2</b>, <b style=\"color: #8a5bcf;\">3</b>, <b style=\"color: #80d749;\">4</b>, <b style=\"color: #7355d7;\">5</b>, <b style=\"color: #a4de79;\">6</b>, <b style=\"color: #7930d2;\">7</b>, <b style=\"color: #39acd6;\">8</b>, <b style=\"color: #c14bdb;\">9</b>, <b style=\"color: #5582d6;\">I7</b>, <b style=\"color: #d3b991;\">PSI0</b>, <b style=\"color: #cd7c51;\">GATE_151</b>, <b style=\"color: #d648d4;\">GATE_153</b>, <b style=\"color: #bfd68e;\">GATE_155</b>, <b style=\"color: #3bd27f;\">GATE_157</b>, <b style=\"color: #4e92d6;\">GATE_159</b>, <b style=\"color: #9e5bd3;\">GATE_162</b>, <b style=\"color: #e4b135;\">GATE_175</b>, <b style=\"color: #7ee0bd;\">GATE_179</b>, <b style=\"color: #81a1e0;\">GATE_181</b>, <b style=\"color: #dfa799;\">GATE_183</b>, <b style=\"color: #3a2ed2;\">GATE_185</b>, <b style=\"color: #6b30df;\">GATE_187</b>, <b style=\"color: #8b5dde;\">GATE_189</b>, <b style=\"color: #79cdd9;\">GATE_192</b>}),</summary>backend=<b style=\"color: #7fdd73;\">numpy</b>, dtype=<b style=\"color: #443ce1;\">complex128</b>, data=array([[[-9.98745478e-01-1.28054386e-15j,\n",
       "         -5.00199872e-03+4.47531383e-16j],\n",
       "        [-1.32567106e-03-1.83006348e-16j,\n",
       "          2.64695785e-01+1.26676367e-14j],\n",
       "        [-8.48283160e-13-2.52831480e-12j,\n",
       "          8.46318804e-11+7.29186377e-10j],\n",
       "        [-4.73874217e-12-7.83700441e-13j,\n",
       "          8.21490567e-10-2.87857659e-10j]],\n",
       "\n",
       "       [[-2.46581926e-04-2.75365927e-19j,\n",
       "          2.49064262e-04+3.02062313e-17j],\n",
       "        [-1.33126661e-02-2.03926728e-15j,\n",
       "         -1.31799835e-02-6.15536339e-16j],\n",
       "        [ 1.70076131e-09+5.06913279e-09j,\n",
       "         -1.81214829e-11+9.52446114e-09j],\n",
       "        [ 9.50091869e-09+1.57127649e-09j,\n",
       "          6.90204315e-09-7.36810860e-09j]],\n",
       "\n",
       "       [[ 2.47716598e-16-1.86871723e-31j,\n",
       "          1.63960589e-15-3.57807534e-16j],\n",
       "        [-1.31086678e-14-1.98902386e-27j,\n",
       "          1.36138970e-14-9.57837542e-17j],\n",
       "        [ 6.19485854e-09-5.15012044e-08j,\n",
       "         -1.09831371e-08-3.92457314e-09j],\n",
       "        [ 3.79986372e-10-1.19675865e-09j,\n",
       "          1.37395131e-08-1.49130459e-10j]],\n",
       "\n",
       "       [[-4.35747233e-17-4.77037440e-32j,\n",
       "          2.21558863e-15-1.50426622e-15j],\n",
       "        [ 2.30588736e-15+8.50624888e-28j,\n",
       "         -1.72444726e-15-4.02686506e-16j],\n",
       "        [ 1.41536445e-08+4.80849876e-09j,\n",
       "         -1.33802165e-08+1.27761134e-08j],\n",
       "        [-1.42259001e-09+1.06187569e-09j,\n",
       "         -4.14465147e-09-8.57505464e-09j]],\n",
       "\n",
       "       [[ 1.11787091e-17-6.37075807e-31j,\n",
       "         -2.14198711e-16+3.27167837e-16j],\n",
       "        [-5.91554963e-16+8.11479606e-28j,\n",
       "          5.37207259e-16+8.75816205e-17j],\n",
       "        [-9.86248580e-10+3.33508280e-09j,\n",
       "         -9.54108677e-09+1.67967999e-08j],\n",
       "        [ 1.08411078e-08+1.64307407e-08j,\n",
       "          2.00163596e-10+1.62516930e-08j]],\n",
       "\n",
       "       [[ 1.44673926e-17+5.69367267e-31j,\n",
       "          1.19342537e-16+1.95940528e-16j],\n",
       "        [-7.65585531e-16-6.22137853e-28j,\n",
       "          8.01405954e-16+5.24525551e-17j],\n",
       "        [-1.04931208e-09+4.11773327e-09j,\n",
       "          5.63655874e-09+7.85226520e-09j],\n",
       "        [-1.48388307e-08-4.83067109e-09j,\n",
       "         -1.23602443e-08+3.49956750e-11j]],\n",
       "\n",
       "       [[ 1.01950005e-17+3.07766090e-32j,\n",
       "          8.48267109e-17-8.86678163e-17j],\n",
       "        [-5.39499072e-16-3.85172830e-28j,\n",
       "          5.64936033e-16-2.37360467e-17j],\n",
       "        [-7.75457977e-10+3.69222223e-09j,\n",
       "          1.77842732e-09-3.55170939e-09j],\n",
       "        [ 1.43336208e-08-7.44485196e-10j,\n",
       "         -1.50272554e-08-4.79728357e-10j]],\n",
       "\n",
       "       [[ 1.13301482e-17+1.04832825e-31j,\n",
       "         -1.02335952e-16-1.46699829e-16j],\n",
       "        [-5.99568818e-16+5.09987666e-29j,\n",
       "          5.75206901e-16-3.92710021e-17j],\n",
       "        [ 9.84573698e-10+5.55289515e-09j,\n",
       "         -6.83395359e-10-6.74874663e-10j],\n",
       "        [-7.45849816e-10+2.21619665e-10j,\n",
       "          3.89205681e-09-2.02663284e-09j]]])</details></samp><samp style='font-size: 12px;'><details><summary><b style=\"color: #e55471;\">Tensor</b>(shape=(<b style=\"color: #80d749;\">4</b>, <b style=\"color: #828fdd;\">2</b>, <b style=\"color: #828fdd;\">2</b>), inds=[<b style=\"color: #e38257;\">_bcb3eaAAAAQ</b>, <b style=\"color: #d7c55a;\">_bcb3eaAAAAR</b>, <b style=\"color: #7bcd9f;\">k8</b>], tags={<b style=\"color: #74d649;\">0</b>, <b style=\"color: #45ce3d;\">1</b>, <b style=\"color: #828fdd;\">2</b>, <b style=\"color: #8a5bcf;\">3</b>, <b style=\"color: #80d749;\">4</b>, <b style=\"color: #7355d7;\">5</b>, <b style=\"color: #a4de79;\">6</b>, <b style=\"color: #7930d2;\">7</b>, <b style=\"color: #39acd6;\">8</b>, <b style=\"color: #c14bdb;\">9</b>, <b style=\"color: #8a3dd8;\">I8</b>, <b style=\"color: #d3b991;\">PSI0</b>, <b style=\"color: #cfb283;\">GATE_79</b>, <b style=\"color: #8c64d6;\">GATE_86</b>, <b style=\"color: #b7d375;\">GATE_95</b>, <b style=\"color: #cd39a5;\">GATE_102</b>, <b style=\"color: #b883d9;\">GATE_150</b>, <b style=\"color: #da5347;\">GATE_160</b>, <b style=\"color: #76e5d7;\">GATE_164</b>, <b style=\"color: #90d0cb;\">GATE_166</b>, <b style=\"color: #c292d3;\">GATE_168</b>, <b style=\"color: #5d88ce;\">GATE_170</b>, <b style=\"color: #cdbb82;\">GATE_172</b>, <b style=\"color: #82e2b2;\">GATE_174</b>, <b style=\"color: #dc5073;\">GATE_177</b>, <b style=\"color: #a658e3;\">GATE_190</b>, <b style=\"color: #d49487;\">GATE_194</b>, <b style=\"color: #d2983e;\">GATE_199</b>, <b style=\"color: #b7d977;\">GATE_206</b>, <b style=\"color: #46d3b9;\">GATE_215</b>, <b style=\"color: #b671cf;\">GATE_222</b>}),</summary>backend=<b style=\"color: #7fdd73;\">numpy</b>, dtype=<b style=\"color: #443ce1;\">complex128</b>, data=array([[[-7.03555342e-01+0.00000000e+00j,\n",
       "         -7.07123420e-01+1.81081279e-15j],\n",
       "        [ 3.54731552e-02-1.95031507e-16j,\n",
       "         -3.52941610e-02+8.83028369e-16j]],\n",
       "\n",
       "       [[-1.32951982e-02+0.00000000e+00j,\n",
       "          3.36279944e-05+3.26947156e-16j],\n",
       "        [ 6.70341905e-04-3.25861910e-15j,\n",
       "          2.65027060e-01-1.64543382e-14j]],\n",
       "\n",
       "       [[ 4.51552601e-08+0.00000000e+00j,\n",
       "         -4.50200168e-08-4.18282566e-11j],\n",
       "        [ 4.12440914e-10-8.31707956e-10j,\n",
       "          2.26990251e-09+2.10897444e-12j]],\n",
       "\n",
       "       [[ 1.00382061e-09+0.00000000e+00j,\n",
       "          1.03898157e-09+9.14737071e-10j],\n",
       "        [ 4.05682172e-08+1.81885204e-08j,\n",
       "         -5.23852955e-11-4.61209064e-11j]]])</details></samp><samp style='font-size: 12px;'><details><summary><b style=\"color: #e55471;\">Tensor</b>(shape=(<b style=\"color: #828fdd;\">2</b>, <b style=\"color: #828fdd;\">2</b>), inds=[<b style=\"color: #d7c55a;\">_bcb3eaAAAAR</b>, <b style=\"color: #cc70c1;\">k9</b>], tags={<b style=\"color: #74d649;\">0</b>, <b style=\"color: #45ce3d;\">1</b>, <b style=\"color: #828fdd;\">2</b>, <b style=\"color: #8a5bcf;\">3</b>, <b style=\"color: #80d749;\">4</b>, <b style=\"color: #7355d7;\">5</b>, <b style=\"color: #a4de79;\">6</b>, <b style=\"color: #7930d2;\">7</b>, <b style=\"color: #39acd6;\">8</b>, <b style=\"color: #c14bdb;\">9</b>, <b style=\"color: #d74979;\">I9</b>, <b style=\"color: #d3b991;\">PSI0</b>, <b style=\"color: #53d4b1;\">GATE_83</b>, <b style=\"color: #b6e595;\">GATE_88</b>, <b style=\"color: #c4e57a;\">GATE_92</b>, <b style=\"color: #a786ce;\">GATE_97</b>, <b style=\"color: #d8e156;\">GATE_114</b>, <b style=\"color: #65d5a0;\">GATE_118</b>, <b style=\"color: #70e3cd;\">GATE_120</b>, <b style=\"color: #74e47c;\">GATE_122</b>, <b style=\"color: #88d9a4;\">GATE_124</b>, <b style=\"color: #879acf;\">GATE_126</b>, <b style=\"color: #a441de;\">GATE_128</b>, <b style=\"color: #63e1a7;\">GATE_131</b>, <b style=\"color: #51b5d3;\">GATE_144</b>, <b style=\"color: #de804b;\">GATE_148</b>, <b style=\"color: #70e45f;\">GATE_163</b>, <b style=\"color: #4530d2;\">GATE_178</b>, <b style=\"color: #63dcb0;\">GATE_193</b>}),</summary>backend=<b style=\"color: #7fdd73;\">numpy</b>, dtype=<b style=\"color: #443ce1;\">complex128</b>, data=array([[-9.98731338e-01+7.54587971e-23j, -5.55675427e-16+5.03558847e-02j],\n",
       "       [ 5.03558847e-02+3.38719590e-18j, -1.10881453e-14+9.98731338e-01j]])</details></samp></details></samp>"
      ],
      "text/plain": [
       "MatrixProductState(tensors=10, indices=19, L=10, max_bond=32)"
      ]
     },
     "execution_count": 32,
     "metadata": {},
     "output_type": "execute_result"
    }
   ],
   "source": [
    "obj._interface._circuitMPS.psi"
   ]
  },
  {
   "cell_type": "code",
   "execution_count": 33,
   "metadata": {},
   "outputs": [
    {
     "data": {
      "image/png": "[encoded data removed]",
      "text/plain": [
       "<Figure size 600x600 with 1 Axes>"
      ]
     },
     "metadata": {
      "needs_background": "light"
     },
     "output_type": "display_data"
    }
   ],
   "source": [
    "obj._interface.draw_state()"
   ]
  },
  {
   "cell_type": "code",
   "execution_count": 34,
   "metadata": {},
   "outputs": [
    {
     "data": {
      "text/plain": [
       "array([[ 2.87656541e-16-3.51640537e-02j],\n",
       "       [-4.91947293e-16-3.19231147e-16j],\n",
       "       [-6.98796420e-16-3.51640537e-02j],\n",
       "       ...,\n",
       "       [ 3.17165618e-18+4.00406344e-18j],\n",
       "       [-3.35626407e-17+3.13200683e-17j],\n",
       "       [-1.01539697e-17+3.68037979e-18j]])"
      ]
     },
     "execution_count": 34,
     "metadata": {},
     "output_type": "execute_result"
    }
   ],
   "source": [
    "obj._interface._circuitMPS.psi.to_dense()"
   ]
  },
  {
   "cell_type": "code",
   "execution_count": 35,
   "metadata": {},
   "outputs": [],
   "source": [
    "# obj.compute_derivatives(tape)"
   ]
  },
  {
   "cell_type": "code",
   "execution_count": 36,
   "metadata": {},
   "outputs": [],
   "source": [
    "# obj._interface.state_to_array()"
   ]
  },
  {
   "cell_type": "code",
   "execution_count": 37,
   "metadata": {},
   "outputs": [
    {
     "data": {
      "text/html": [
       "<samp style='font-size: 12px;'><details><summary><b style=\"color: #d75692;\">MatrixProductState</b>(tensors=10, indices=19, L=10, max_bond=32)</summary><samp style='font-size: 12px;'><details><summary><b style=\"color: #e55471;\">Tensor</b>(shape=(<b style=\"color: #828fdd;\">2</b>, <b style=\"color: #828fdd;\">2</b>), inds=[<b style=\"color: #9fda81;\">_bcb3eaAAAAJ</b>, <b style=\"color: #b1dc61;\">k0</b>], tags={<b style=\"color: #74d649;\">0</b>, <b style=\"color: #45ce3d;\">1</b>, <b style=\"color: #828fdd;\">2</b>, <b style=\"color: #8a5bcf;\">3</b>, <b style=\"color: #80d749;\">4</b>, <b style=\"color: #7355d7;\">5</b>, <b style=\"color: #a4de79;\">6</b>, <b style=\"color: #7930d2;\">7</b>, <b style=\"color: #39acd6;\">8</b>, <b style=\"color: #c14bdb;\">9</b>, <b style=\"color: #d2b137;\">I0</b>, <b style=\"color: #d3b991;\">PSI0</b>, <b style=\"color: #394bd1;\">GATE_3</b>, <b style=\"color: #da9170;\">GATE_7</b>, <b style=\"color: #e3a694;\">GATE_12</b>, <b style=\"color: #d8e230;\">GATE_16</b>, <b style=\"color: #4fe13d;\">GATE_21</b>, <b style=\"color: #9fe3c6;\">GATE_24</b>}),</summary>backend=<b style=\"color: #7fdd73;\">numpy</b>, dtype=<b style=\"color: #443ce1;\">complex128</b>, data=array([[1.+0.j, 0.+0.j],\n",
       "       [0.+0.j, 1.+0.j]])</details></samp><samp style='font-size: 12px;'><details><summary><b style=\"color: #e55471;\">Tensor</b>(shape=(<b style=\"color: #828fdd;\">2</b>, <b style=\"color: #80d749;\">4</b>, <b style=\"color: #828fdd;\">2</b>), inds=[<b style=\"color: #9fda81;\">_bcb3eaAAAAJ</b>, <b style=\"color: #cc2b74;\">_bcb3eaAAAAK</b>, <b style=\"color: #8aa5db;\">k1</b>], tags={<b style=\"color: #74d649;\">0</b>, <b style=\"color: #45ce3d;\">1</b>, <b style=\"color: #828fdd;\">2</b>, <b style=\"color: #8a5bcf;\">3</b>, <b style=\"color: #80d749;\">4</b>, <b style=\"color: #7355d7;\">5</b>, <b style=\"color: #a4de79;\">6</b>, <b style=\"color: #7930d2;\">7</b>, <b style=\"color: #39acd6;\">8</b>, <b style=\"color: #c14bdb;\">9</b>, <b style=\"color: #d19b78;\">I1</b>, <b style=\"color: #d3b991;\">PSI0</b>, <b style=\"color: #bade88;\">GATE_6</b>, <b style=\"color: #3bd699;\">GATE_11</b>, <b style=\"color: #71d75c;\">GATE_15</b>, <b style=\"color: #dfa87e;\">GATE_20</b>}),</summary>backend=<b style=\"color: #7fdd73;\">numpy</b>, dtype=<b style=\"color: #443ce1;\">complex128</b>, data=array([[[-1.00000000e+00+0.j,  1.49385175e-31+0.j],\n",
       "        [ 0.00000000e+00-0.j,  0.00000000e+00-0.j],\n",
       "        [ 4.97552581e-47+0.j,  3.33066907e-16+0.j],\n",
       "        [ 1.49385175e-31+0.j,  1.00000000e+00+0.j]],\n",
       "\n",
       "       [[ 0.00000000e+00+0.j,  0.00000000e+00+0.j],\n",
       "        [-3.97317224e-01+0.j, -9.17681330e-01+0.j],\n",
       "        [-9.17681330e-01+0.j,  3.97317224e-01+0.j],\n",
       "        [ 3.33066907e-16+0.j, -1.11022302e-16+0.j]]])</details></samp><samp style='font-size: 12px;'><details><summary><b style=\"color: #e55471;\">Tensor</b>(shape=(<b style=\"color: #80d749;\">4</b>, <b style=\"color: #39acd6;\">8</b>, <b style=\"color: #828fdd;\">2</b>), inds=[<b style=\"color: #cc2b74;\">_bcb3eaAAAAK</b>, <b style=\"color: #7198d9;\">_bcb3eaAAAAL</b>, <b style=\"color: #df546d;\">k2</b>], tags={<b style=\"color: #74d649;\">0</b>, <b style=\"color: #45ce3d;\">1</b>, <b style=\"color: #828fdd;\">2</b>, <b style=\"color: #8a5bcf;\">3</b>, <b style=\"color: #80d749;\">4</b>, <b style=\"color: #7355d7;\">5</b>, <b style=\"color: #a4de79;\">6</b>, <b style=\"color: #7930d2;\">7</b>, <b style=\"color: #39acd6;\">8</b>, <b style=\"color: #c14bdb;\">9</b>, <b style=\"color: #dd5dd7;\">I2</b>, <b style=\"color: #d3b991;\">PSI0</b>, <b style=\"color: #8ed0e1;\">GATE_28</b>, <b style=\"color: #b776d2;\">GATE_29</b>, <b style=\"color: #9f5bd1;\">GATE_30</b>, <b style=\"color: #6785d3;\">GATE_32</b>, <b style=\"color: #ac6be4;\">GATE_34</b>, <b style=\"color: #d878b9;\">GATE_36</b>, <b style=\"color: #41d56c;\">GATE_38</b>, <b style=\"color: #5373d2;\">GATE_41</b>, <b style=\"color: #53e04b;\">GATE_54</b>, <b style=\"color: #e14a48;\">GATE_58</b>, <b style=\"color: #2fd2cf;\">GATE_60</b>, <b style=\"color: #8cd492;\">GATE_62</b>, <b style=\"color: #54cedf;\">GATE_64</b>, <b style=\"color: #da8cd0;\">GATE_66</b>, <b style=\"color: #d666a7;\">GATE_68</b>, <b style=\"color: #d12f74;\">GATE_71</b>, <b style=\"color: #d992b1;\">GATE_117</b>, <b style=\"color: #9dcee4;\">GATE_132</b>, <b style=\"color: #39d176;\">GATE_147</b>, <b style=\"color: #475ee4;\">GATE_200</b>, <b style=\"color: #9ee086;\">GATE_204</b>, <b style=\"color: #71df2f;\">GATE_209</b>, <b style=\"color: #93dab6;\">GATE_213</b>, <b style=\"color: #a64adf;\">GATE_218</b>, <b style=\"color: #58e1ab;\">GATE_221</b>}),</summary>backend=<b style=\"color: #7fdd73;\">numpy</b>, dtype=<b style=\"color: #443ce1;\">complex128</b>, data=array([[[-4.94847129e-02+2.46830013e-19j,\n",
       "          5.83143462e-15-9.98774881e-01j],\n",
       "        [-9.98774881e-01-1.55955067e-16j,\n",
       "         -2.96894518e-16+4.94847129e-02j],\n",
       "        [ 1.24587894e-15-5.42211130e-31j,\n",
       "         -6.63720625e-21-6.28831179e-17j],\n",
       "        [-5.33365755e-15-1.39016308e-30j,\n",
       "         -7.05504441e-18+2.69316330e-16j],\n",
       "        [-1.44601216e-15-1.03513811e-30j,\n",
       "         -2.88145527e-18+8.01558401e-17j],\n",
       "        [-4.00164987e-15-2.17966718e-30j,\n",
       "         -2.95614426e-18+2.01374324e-16j],\n",
       "        [-4.23871247e-15+1.91397156e-31j,\n",
       "          2.31588639e-17+2.22321145e-16j],\n",
       "        [-4.32382774e-15-1.42637855e-30j,\n",
       "         -3.30226359e-18+2.07349004e-16j]],\n",
       "\n",
       "       [[ 1.21757297e-18+4.01708198e-19j,\n",
       "         -1.75731629e-17+1.01997334e-18j],\n",
       "        [-8.61662185e-16-5.88059011e-16j,\n",
       "          1.72097940e-15-2.07114039e-15j],\n",
       "        [-9.54797749e-01-2.88725885e-01j,\n",
       "          2.43838700e-02+1.96365059e-02j],\n",
       "        [-7.32097654e-03+2.25610361e-02j,\n",
       "         -9.77176712e-02-3.00875104e-01j],\n",
       "        [ 1.64530697e-02-2.40609661e-02j,\n",
       "          3.64028956e-01-4.69872538e-02j],\n",
       "        [-3.31338901e-02+3.68796569e-02j,\n",
       "         -4.04668986e-01+4.08024919e-01j],\n",
       "        [-1.18215956e-02+5.29649594e-03j,\n",
       "         -2.47984909e-01+5.63766312e-01j],\n",
       "        [-3.03114066e-02-6.46857379e-03j,\n",
       "          2.26109974e-01-5.93663843e-02j]],\n",
       "\n",
       "       [[ 3.55245065e-18+1.66404090e-18j,\n",
       "          2.08396958e-17-1.87608412e-18j],\n",
       "        [-3.62701177e-15-1.55355692e-15j,\n",
       "         -1.30201313e-15-3.43666098e-15j],\n",
       "        [-6.05873122e-03-3.90301864e-02j,\n",
       "          3.32372457e-02+6.44571230e-03j],\n",
       "        [ 4.32860399e-01-4.17487292e-01j,\n",
       "          1.00625181e-01+4.74982463e-01j],\n",
       "        [ 3.92171722e-02+1.15435706e-02j,\n",
       "          4.87352939e-01-5.76310839e-02j],\n",
       "        [ 1.10134670e-01+2.82402428e-02j,\n",
       "         -2.36512769e-01+4.01366119e-01j],\n",
       "        [ 3.70151597e-01+1.89545139e-01j,\n",
       "          1.70514197e-01-4.35476065e-01j],\n",
       "        [-1.75834990e-01+6.46776829e-01j,\n",
       "          7.47158480e-02+2.84527218e-01j]],\n",
       "\n",
       "       [[-3.99294399e-18+1.31210809e-18j,\n",
       "         -6.18175210e-18+9.95796675e-18j],\n",
       "        [ 3.31594149e-15-1.36507742e-15j,\n",
       "         -5.37306785e-15-2.41639319e-15j],\n",
       "        [ 2.56157507e-02-1.05654463e-02j,\n",
       "         -2.18898926e-02-8.07264616e-03j],\n",
       "        [-2.29006815e-02+6.45609957e-03j,\n",
       "          3.86543704e-01+3.89850154e-01j],\n",
       "        [-7.44600524e-01-1.90764564e-01j,\n",
       "         -1.55378283e-01+8.34058975e-02j],\n",
       "        [-4.97301171e-01+3.51488127e-01j,\n",
       "         -1.14025318e-01-2.31271214e-01j],\n",
       "        [ 1.40973042e-02-1.11522838e-01j,\n",
       "          3.07092574e-01+3.49152176e-01j],\n",
       "        [-3.48419987e-02+1.52126996e-01j,\n",
       "          6.14529190e-01-8.13029403e-02j]]])</details></samp><samp style='font-size: 12px;'><details><summary><b style=\"color: #e55471;\">Tensor</b>(shape=(<b style=\"color: #39acd6;\">8</b>, <b style=\"color: #96b5d9;\">16</b>, <b style=\"color: #828fdd;\">2</b>), inds=[<b style=\"color: #7198d9;\">_bcb3eaAAAAL</b>, <b style=\"color: #8633da;\">_bcb3eaAAAAM</b>, <b style=\"color: #4c7be1;\">k3</b>], tags={<b style=\"color: #74d649;\">0</b>, <b style=\"color: #45ce3d;\">1</b>, <b style=\"color: #828fdd;\">2</b>, <b style=\"color: #8a5bcf;\">3</b>, <b style=\"color: #80d749;\">4</b>, <b style=\"color: #7355d7;\">5</b>, <b style=\"color: #a4de79;\">6</b>, <b style=\"color: #7930d2;\">7</b>, <b style=\"color: #39acd6;\">8</b>, <b style=\"color: #c14bdb;\">9</b>, <b style=\"color: #dd65d9;\">I3</b>, <b style=\"color: #d3b991;\">PSI0</b>, <b style=\"color: #64dc8a;\">GATE_2</b>, <b style=\"color: #de70db;\">GATE_9</b>, <b style=\"color: #a4cd58;\">GATE_18</b>, <b style=\"color: #56cf38;\">GATE_25</b>}),</summary>backend=<b style=\"color: #7fdd73;\">numpy</b>, dtype=<b style=\"color: #443ce1;\">complex128</b>, data=...</details></samp><samp style='font-size: 12px;'><details><summary><b style=\"color: #e55471;\">Tensor</b>(shape=(<b style=\"color: #96b5d9;\">16</b>, <b style=\"color: #6faee5;\">32</b>, <b style=\"color: #828fdd;\">2</b>), inds=[<b style=\"color: #8633da;\">_bcb3eaAAAAM</b>, <b style=\"color: #d7e05f;\">_bcb3eaAAAAN</b>, <b style=\"color: #462edc;\">k4</b>], tags={<b style=\"color: #74d649;\">0</b>, <b style=\"color: #45ce3d;\">1</b>, <b style=\"color: #828fdd;\">2</b>, <b style=\"color: #8a5bcf;\">3</b>, <b style=\"color: #80d749;\">4</b>, <b style=\"color: #7355d7;\">5</b>, <b style=\"color: #a4de79;\">6</b>, <b style=\"color: #7930d2;\">7</b>, <b style=\"color: #39acd6;\">8</b>, <b style=\"color: #c14bdb;\">9</b>, <b style=\"color: #998ad1;\">I4</b>, <b style=\"color: #d3b991;\">PSI0</b>, <b style=\"color: #e1c97a;\">GATE_42</b>, <b style=\"color: #e2ba6c;\">GATE_57</b>, <b style=\"color: #b9db52;\">GATE_72</b>}),</summary>backend=<b style=\"color: #7fdd73;\">numpy</b>, dtype=<b style=\"color: #443ce1;\">complex128</b>, data=...</details></samp><samp style='font-size: 12px;'><details><summary><b style=\"color: #e55471;\">Tensor</b>(shape=(<b style=\"color: #6faee5;\">32</b>, <b style=\"color: #96b5d9;\">16</b>, <b style=\"color: #828fdd;\">2</b>), inds=[<b style=\"color: #d7e05f;\">_bcb3eaAAAAN</b>, <b style=\"color: #8c72d5;\">_bcb3eaAAAAO</b>, <b style=\"color: #85dfdf;\">k5</b>], tags={<b style=\"color: #74d649;\">0</b>, <b style=\"color: #45ce3d;\">1</b>, <b style=\"color: #828fdd;\">2</b>, <b style=\"color: #8a5bcf;\">3</b>, <b style=\"color: #80d749;\">4</b>, <b style=\"color: #7355d7;\">5</b>, <b style=\"color: #a4de79;\">6</b>, <b style=\"color: #7930d2;\">7</b>, <b style=\"color: #39acd6;\">8</b>, <b style=\"color: #c14bdb;\">9</b>, <b style=\"color: #97dddc;\">I5</b>, <b style=\"color: #d3b991;\">PSI0</b>, <b style=\"color: #81e4a5;\">GATE_39</b>, <b style=\"color: #ce2b3b;\">GATE_43</b>, <b style=\"color: #c659e3;\">GATE_45</b>, <b style=\"color: #4d78d7;\">GATE_47</b>, <b style=\"color: #a98de3;\">GATE_49</b>, <b style=\"color: #e2df85;\">GATE_51</b>, <b style=\"color: #da53d5;\">GATE_53</b>, <b style=\"color: #8cd1ce;\">GATE_56</b>, <b style=\"color: #acd280;\">GATE_69</b>, <b style=\"color: #de448f;\">GATE_73</b>}),</summary>backend=<b style=\"color: #7fdd73;\">numpy</b>, dtype=<b style=\"color: #443ce1;\">complex128</b>, data=...</details></samp><samp style='font-size: 12px;'><details><summary><b style=\"color: #e55471;\">Tensor</b>(shape=(<b style=\"color: #96b5d9;\">16</b>, <b style=\"color: #39acd6;\">8</b>, <b style=\"color: #828fdd;\">2</b>), inds=[<b style=\"color: #8c72d5;\">_bcb3eaAAAAO</b>, <b style=\"color: #82cdcc;\">_bcb3eaAAAAP</b>, <b style=\"color: #2cb7d3;\">k6</b>], tags={<b style=\"color: #74d649;\">0</b>, <b style=\"color: #45ce3d;\">1</b>, <b style=\"color: #828fdd;\">2</b>, <b style=\"color: #8a5bcf;\">3</b>, <b style=\"color: #80d749;\">4</b>, <b style=\"color: #7355d7;\">5</b>, <b style=\"color: #a4de79;\">6</b>, <b style=\"color: #7930d2;\">7</b>, <b style=\"color: #39acd6;\">8</b>, <b style=\"color: #c14bdb;\">9</b>, <b style=\"color: #b2de5f;\">I6</b>, <b style=\"color: #d3b991;\">PSI0</b>, <b style=\"color: #de94a1;\">GATE_75</b>, <b style=\"color: #b847d9;\">GATE_80</b>, <b style=\"color: #cebd78;\">GATE_84</b>, <b style=\"color: #75d0ca;\">GATE_89</b>, <b style=\"color: #8dd89d;\">GATE_93</b>, <b style=\"color: #e37ed3;\">GATE_98</b>, <b style=\"color: #a236d5;\">GATE_101</b>, <b style=\"color: #a2d946;\">GATE_105</b>, <b style=\"color: #9e79df;\">GATE_107</b>, <b style=\"color: #de5270;\">GATE_109</b>, <b style=\"color: #d696af;\">GATE_111</b>, <b style=\"color: #a7cd2b;\">GATE_113</b>, <b style=\"color: #bedd87;\">GATE_116</b>, <b style=\"color: #c8dd4f;\">GATE_129</b>, <b style=\"color: #d18cc3;\">GATE_133</b>, <b style=\"color: #d281bc;\">GATE_135</b>, <b style=\"color: #a583d8;\">GATE_137</b>, <b style=\"color: #e0bd2f;\">GATE_139</b>, <b style=\"color: #7a99ce;\">GATE_141</b>, <b style=\"color: #3e7ed4;\">GATE_143</b>, <b style=\"color: #6fdd74;\">GATE_146</b>, <b style=\"color: #93d685;\">GATE_203</b>, <b style=\"color: #8aa5d6;\">GATE_208</b>, <b style=\"color: #b9e58c;\">GATE_212</b>, <b style=\"color: #339cd7;\">GATE_217</b>}),</summary>backend=<b style=\"color: #7fdd73;\">numpy</b>, dtype=<b style=\"color: #443ce1;\">complex128</b>, data=...</details></samp><samp style='font-size: 12px;'><details><summary><b style=\"color: #e55471;\">Tensor</b>(shape=(<b style=\"color: #39acd6;\">8</b>, <b style=\"color: #80d749;\">4</b>, <b style=\"color: #828fdd;\">2</b>), inds=[<b style=\"color: #82cdcc;\">_bcb3eaAAAAP</b>, <b style=\"color: #e38257;\">_bcb3eaAAAAQ</b>, <b style=\"color: #53e08f;\">k7</b>], tags={<b style=\"color: #74d649;\">0</b>, <b style=\"color: #45ce3d;\">1</b>, <b style=\"color: #828fdd;\">2</b>, <b style=\"color: #8a5bcf;\">3</b>, <b style=\"color: #80d749;\">4</b>, <b style=\"color: #7355d7;\">5</b>, <b style=\"color: #a4de79;\">6</b>, <b style=\"color: #7930d2;\">7</b>, <b style=\"color: #39acd6;\">8</b>, <b style=\"color: #c14bdb;\">9</b>, <b style=\"color: #5582d6;\">I7</b>, <b style=\"color: #d3b991;\">PSI0</b>, <b style=\"color: #cd7c51;\">GATE_151</b>, <b style=\"color: #d648d4;\">GATE_153</b>, <b style=\"color: #bfd68e;\">GATE_155</b>, <b style=\"color: #3bd27f;\">GATE_157</b>, <b style=\"color: #4e92d6;\">GATE_159</b>, <b style=\"color: #9e5bd3;\">GATE_162</b>, <b style=\"color: #e4b135;\">GATE_175</b>, <b style=\"color: #7ee0bd;\">GATE_179</b>, <b style=\"color: #81a1e0;\">GATE_181</b>, <b style=\"color: #dfa799;\">GATE_183</b>, <b style=\"color: #3a2ed2;\">GATE_185</b>, <b style=\"color: #6b30df;\">GATE_187</b>, <b style=\"color: #8b5dde;\">GATE_189</b>, <b style=\"color: #79cdd9;\">GATE_192</b>}),</summary>backend=<b style=\"color: #7fdd73;\">numpy</b>, dtype=<b style=\"color: #443ce1;\">complex128</b>, data=array([[[-9.98745478e-01-1.28054386e-15j,\n",
       "         -5.00199872e-03+4.47531383e-16j],\n",
       "        [-1.32567106e-03-1.83006348e-16j,\n",
       "          2.64695785e-01+1.26676367e-14j],\n",
       "        [-8.48283160e-13-2.52831480e-12j,\n",
       "          8.46318804e-11+7.29186377e-10j],\n",
       "        [-4.73874217e-12-7.83700441e-13j,\n",
       "          8.21490567e-10-2.87857659e-10j]],\n",
       "\n",
       "       [[-2.46581926e-04-2.75365927e-19j,\n",
       "          2.49064262e-04+3.02062313e-17j],\n",
       "        [-1.33126661e-02-2.03926728e-15j,\n",
       "         -1.31799835e-02-6.15536339e-16j],\n",
       "        [ 1.70076131e-09+5.06913279e-09j,\n",
       "         -1.81214829e-11+9.52446114e-09j],\n",
       "        [ 9.50091869e-09+1.57127649e-09j,\n",
       "          6.90204315e-09-7.36810860e-09j]],\n",
       "\n",
       "       [[ 2.47716598e-16-1.86871723e-31j,\n",
       "          1.63960589e-15-3.57807534e-16j],\n",
       "        [-1.31086678e-14-1.98902386e-27j,\n",
       "          1.36138970e-14-9.57837542e-17j],\n",
       "        [ 6.19485854e-09-5.15012044e-08j,\n",
       "         -1.09831371e-08-3.92457314e-09j],\n",
       "        [ 3.79986372e-10-1.19675865e-09j,\n",
       "          1.37395131e-08-1.49130459e-10j]],\n",
       "\n",
       "       [[-4.35747233e-17-4.77037440e-32j,\n",
       "          2.21558863e-15-1.50426622e-15j],\n",
       "        [ 2.30588736e-15+8.50624888e-28j,\n",
       "         -1.72444726e-15-4.02686506e-16j],\n",
       "        [ 1.41536445e-08+4.80849876e-09j,\n",
       "         -1.33802165e-08+1.27761134e-08j],\n",
       "        [-1.42259001e-09+1.06187569e-09j,\n",
       "         -4.14465147e-09-8.57505464e-09j]],\n",
       "\n",
       "       [[ 1.11787091e-17-6.37075807e-31j,\n",
       "         -2.14198711e-16+3.27167837e-16j],\n",
       "        [-5.91554963e-16+8.11479606e-28j,\n",
       "          5.37207259e-16+8.75816205e-17j],\n",
       "        [-9.86248580e-10+3.33508280e-09j,\n",
       "         -9.54108677e-09+1.67967999e-08j],\n",
       "        [ 1.08411078e-08+1.64307407e-08j,\n",
       "          2.00163596e-10+1.62516930e-08j]],\n",
       "\n",
       "       [[ 1.44673926e-17+5.69367267e-31j,\n",
       "          1.19342537e-16+1.95940528e-16j],\n",
       "        [-7.65585531e-16-6.22137853e-28j,\n",
       "          8.01405954e-16+5.24525551e-17j],\n",
       "        [-1.04931208e-09+4.11773327e-09j,\n",
       "          5.63655874e-09+7.85226520e-09j],\n",
       "        [-1.48388307e-08-4.83067109e-09j,\n",
       "         -1.23602443e-08+3.49956750e-11j]],\n",
       "\n",
       "       [[ 1.01950005e-17+3.07766090e-32j,\n",
       "          8.48267109e-17-8.86678163e-17j],\n",
       "        [-5.39499072e-16-3.85172830e-28j,\n",
       "          5.64936033e-16-2.37360467e-17j],\n",
       "        [-7.75457977e-10+3.69222223e-09j,\n",
       "          1.77842732e-09-3.55170939e-09j],\n",
       "        [ 1.43336208e-08-7.44485196e-10j,\n",
       "         -1.50272554e-08-4.79728357e-10j]],\n",
       "\n",
       "       [[ 1.13301482e-17+1.04832825e-31j,\n",
       "         -1.02335952e-16-1.46699829e-16j],\n",
       "        [-5.99568818e-16+5.09987666e-29j,\n",
       "          5.75206901e-16-3.92710021e-17j],\n",
       "        [ 9.84573698e-10+5.55289515e-09j,\n",
       "         -6.83395359e-10-6.74874663e-10j],\n",
       "        [-7.45849816e-10+2.21619665e-10j,\n",
       "          3.89205681e-09-2.02663284e-09j]]])</details></samp><samp style='font-size: 12px;'><details><summary><b style=\"color: #e55471;\">Tensor</b>(shape=(<b style=\"color: #80d749;\">4</b>, <b style=\"color: #828fdd;\">2</b>, <b style=\"color: #828fdd;\">2</b>), inds=[<b style=\"color: #e38257;\">_bcb3eaAAAAQ</b>, <b style=\"color: #d7c55a;\">_bcb3eaAAAAR</b>, <b style=\"color: #7bcd9f;\">k8</b>], tags={<b style=\"color: #74d649;\">0</b>, <b style=\"color: #45ce3d;\">1</b>, <b style=\"color: #828fdd;\">2</b>, <b style=\"color: #8a5bcf;\">3</b>, <b style=\"color: #80d749;\">4</b>, <b style=\"color: #7355d7;\">5</b>, <b style=\"color: #a4de79;\">6</b>, <b style=\"color: #7930d2;\">7</b>, <b style=\"color: #39acd6;\">8</b>, <b style=\"color: #c14bdb;\">9</b>, <b style=\"color: #8a3dd8;\">I8</b>, <b style=\"color: #d3b991;\">PSI0</b>, <b style=\"color: #cfb283;\">GATE_79</b>, <b style=\"color: #8c64d6;\">GATE_86</b>, <b style=\"color: #b7d375;\">GATE_95</b>, <b style=\"color: #cd39a5;\">GATE_102</b>, <b style=\"color: #b883d9;\">GATE_150</b>, <b style=\"color: #da5347;\">GATE_160</b>, <b style=\"color: #76e5d7;\">GATE_164</b>, <b style=\"color: #90d0cb;\">GATE_166</b>, <b style=\"color: #c292d3;\">GATE_168</b>, <b style=\"color: #5d88ce;\">GATE_170</b>, <b style=\"color: #cdbb82;\">GATE_172</b>, <b style=\"color: #82e2b2;\">GATE_174</b>, <b style=\"color: #dc5073;\">GATE_177</b>, <b style=\"color: #a658e3;\">GATE_190</b>, <b style=\"color: #d49487;\">GATE_194</b>, <b style=\"color: #d2983e;\">GATE_199</b>, <b style=\"color: #b7d977;\">GATE_206</b>, <b style=\"color: #46d3b9;\">GATE_215</b>, <b style=\"color: #b671cf;\">GATE_222</b>}),</summary>backend=<b style=\"color: #7fdd73;\">numpy</b>, dtype=<b style=\"color: #443ce1;\">complex128</b>, data=array([[[-7.03555342e-01+0.00000000e+00j,\n",
       "         -7.07123420e-01+1.81081279e-15j],\n",
       "        [ 3.54731552e-02-1.95031507e-16j,\n",
       "         -3.52941610e-02+8.83028369e-16j]],\n",
       "\n",
       "       [[-1.32951982e-02+0.00000000e+00j,\n",
       "          3.36279944e-05+3.26947156e-16j],\n",
       "        [ 6.70341905e-04-3.25861910e-15j,\n",
       "          2.65027060e-01-1.64543382e-14j]],\n",
       "\n",
       "       [[ 4.51552601e-08+0.00000000e+00j,\n",
       "         -4.50200168e-08-4.18282566e-11j],\n",
       "        [ 4.12440914e-10-8.31707956e-10j,\n",
       "          2.26990251e-09+2.10897444e-12j]],\n",
       "\n",
       "       [[ 1.00382061e-09+0.00000000e+00j,\n",
       "          1.03898157e-09+9.14737071e-10j],\n",
       "        [ 4.05682172e-08+1.81885204e-08j,\n",
       "         -5.23852955e-11-4.61209064e-11j]]])</details></samp><samp style='font-size: 12px;'><details><summary><b style=\"color: #e55471;\">Tensor</b>(shape=(<b style=\"color: #828fdd;\">2</b>, <b style=\"color: #828fdd;\">2</b>), inds=[<b style=\"color: #d7c55a;\">_bcb3eaAAAAR</b>, <b style=\"color: #cc70c1;\">k9</b>], tags={<b style=\"color: #74d649;\">0</b>, <b style=\"color: #45ce3d;\">1</b>, <b style=\"color: #828fdd;\">2</b>, <b style=\"color: #8a5bcf;\">3</b>, <b style=\"color: #80d749;\">4</b>, <b style=\"color: #7355d7;\">5</b>, <b style=\"color: #a4de79;\">6</b>, <b style=\"color: #7930d2;\">7</b>, <b style=\"color: #39acd6;\">8</b>, <b style=\"color: #c14bdb;\">9</b>, <b style=\"color: #d74979;\">I9</b>, <b style=\"color: #d3b991;\">PSI0</b>, <b style=\"color: #53d4b1;\">GATE_83</b>, <b style=\"color: #b6e595;\">GATE_88</b>, <b style=\"color: #c4e57a;\">GATE_92</b>, <b style=\"color: #a786ce;\">GATE_97</b>, <b style=\"color: #d8e156;\">GATE_114</b>, <b style=\"color: #65d5a0;\">GATE_118</b>, <b style=\"color: #70e3cd;\">GATE_120</b>, <b style=\"color: #74e47c;\">GATE_122</b>, <b style=\"color: #88d9a4;\">GATE_124</b>, <b style=\"color: #879acf;\">GATE_126</b>, <b style=\"color: #a441de;\">GATE_128</b>, <b style=\"color: #63e1a7;\">GATE_131</b>, <b style=\"color: #51b5d3;\">GATE_144</b>, <b style=\"color: #de804b;\">GATE_148</b>, <b style=\"color: #70e45f;\">GATE_163</b>, <b style=\"color: #4530d2;\">GATE_178</b>, <b style=\"color: #63dcb0;\">GATE_193</b>}),</summary>backend=<b style=\"color: #7fdd73;\">numpy</b>, dtype=<b style=\"color: #443ce1;\">complex128</b>, data=array([[-9.98731338e-01+7.54587971e-23j, -5.55675427e-16+5.03558847e-02j],\n",
       "       [ 5.03558847e-02+3.38719590e-18j, -1.10881453e-14+9.98731338e-01j]])</details></samp></details></samp>"
      ],
      "text/plain": [
       "MatrixProductState(tensors=10, indices=19, L=10, max_bond=32)"
      ]
     },
     "execution_count": 37,
     "metadata": {},
     "output_type": "execute_result"
    }
   ],
   "source": [
    "obj._interface._circuitMPS._psi"
   ]
  },
  {
   "cell_type": "markdown",
   "metadata": {},
   "source": [
    "# Playing with `quimb`"
   ]
  },
  {
   "cell_type": "code",
   "execution_count": 38,
   "metadata": {},
   "outputs": [],
   "source": [
    "wires = Wires(range(7))\n",
    "\n",
    "init_state = qtn.MPS_computational_state(\n",
    "    \"0\" * len(wires), tags=[str(l) for l in wires.labels]\n",
    ")\n",
    "\n",
    "qc = qtn.CircuitMPS(psi0=init_state)\n",
    "\n",
    "op = qml.CNOT(wires=[0, 1])"
   ]
  },
  {
   "cell_type": "code",
   "execution_count": 39,
   "metadata": {},
   "outputs": [
    {
     "data": {
      "image/png": "[encoded data removed]",
      "text/plain": [
       "<Figure size 600x600 with 1 Axes>"
      ]
     },
     "metadata": {
      "needs_background": "light"
     },
     "output_type": "display_data"
    }
   ],
   "source": [
    "qc.psi.draw(color=[f\"I{q}\" for q in range(len(wires))], show_tags=False, show_inds=True)"
   ]
  },
  {
   "cell_type": "code",
   "execution_count": 40,
   "metadata": {},
   "outputs": [
    {
     "data": {
      "text/plain": [
       "functools.partial(<bound method gate_TN_1D of MatrixProductState(tensors=7, indices=13, L=7, max_bond=2)>, inplace=True)"
      ]
     },
     "execution_count": 40,
     "metadata": {},
     "output_type": "execute_result"
    }
   ],
   "source": [
    "init_state.gate_"
   ]
  },
  {
   "cell_type": "code",
   "execution_count": 41,
   "metadata": {},
   "outputs": [
    {
     "data": {
      "text/plain": [
       "0j"
      ]
     },
     "execution_count": 41,
     "metadata": {},
     "output_type": "execute_result"
    }
   ],
   "source": [
    "qc.amplitude(\"0111111\")"
   ]
  },
  {
   "cell_type": "code",
   "execution_count": 42,
   "metadata": {},
   "outputs": [
    {
     "data": {
      "text/html": [
       "<samp style='font-size: 12px;'><details><summary><b style=\"color: #d75692;\">MatrixProductState</b>(tensors=7, indices=13, L=7, max_bond=2)</summary><samp style='font-size: 12px;'><details><summary><b style=\"color: #e55471;\">Tensor</b>(shape=(<b style=\"color: #45ce3d;\">1</b>, <b style=\"color: #828fdd;\">2</b>), inds=[<b style=\"color: #8442d7;\">_bcb3eaAAAfU</b>, <b style=\"color: #b1dc61;\">k0</b>], tags={<b style=\"color: #74d649;\">0</b>, <b style=\"color: #45ce3d;\">1</b>, <b style=\"color: #828fdd;\">2</b>, <b style=\"color: #8a5bcf;\">3</b>, <b style=\"color: #80d749;\">4</b>, <b style=\"color: #7355d7;\">5</b>, <b style=\"color: #a4de79;\">6</b>, <b style=\"color: #d2b137;\">I0</b>}),</summary>backend=<b style=\"color: #7fdd73;\">numpy</b>, dtype=<b style=\"color: #75d2c6;\">float64</b>, data=array([[1., 0.]])</details></samp><samp style='font-size: 12px;'><details><summary><b style=\"color: #e55471;\">Tensor</b>(shape=(<b style=\"color: #45ce3d;\">1</b>, <b style=\"color: #45ce3d;\">1</b>, <b style=\"color: #828fdd;\">2</b>), inds=[<b style=\"color: #8442d7;\">_bcb3eaAAAfU</b>, <b style=\"color: #5644e0;\">_bcb3eaAAAfV</b>, <b style=\"color: #8aa5db;\">k1</b>], tags={<b style=\"color: #74d649;\">0</b>, <b style=\"color: #45ce3d;\">1</b>, <b style=\"color: #828fdd;\">2</b>, <b style=\"color: #8a5bcf;\">3</b>, <b style=\"color: #80d749;\">4</b>, <b style=\"color: #7355d7;\">5</b>, <b style=\"color: #a4de79;\">6</b>, <b style=\"color: #d19b78;\">I1</b>}),</summary>backend=<b style=\"color: #7fdd73;\">numpy</b>, dtype=<b style=\"color: #75d2c6;\">float64</b>, data=array([[[1., 0.]]])</details></samp><samp style='font-size: 12px;'><details><summary><b style=\"color: #e55471;\">Tensor</b>(shape=(<b style=\"color: #45ce3d;\">1</b>, <b style=\"color: #45ce3d;\">1</b>, <b style=\"color: #828fdd;\">2</b>), inds=[<b style=\"color: #5644e0;\">_bcb3eaAAAfV</b>, <b style=\"color: #8985d7;\">_bcb3eaAAAfW</b>, <b style=\"color: #df546d;\">k2</b>], tags={<b style=\"color: #74d649;\">0</b>, <b style=\"color: #45ce3d;\">1</b>, <b style=\"color: #828fdd;\">2</b>, <b style=\"color: #8a5bcf;\">3</b>, <b style=\"color: #80d749;\">4</b>, <b style=\"color: #7355d7;\">5</b>, <b style=\"color: #a4de79;\">6</b>, <b style=\"color: #dd5dd7;\">I2</b>}),</summary>backend=<b style=\"color: #7fdd73;\">numpy</b>, dtype=<b style=\"color: #75d2c6;\">float64</b>, data=array([[[1., 0.]]])</details></samp><samp style='font-size: 12px;'><details><summary><b style=\"color: #e55471;\">Tensor</b>(shape=(<b style=\"color: #45ce3d;\">1</b>, <b style=\"color: #45ce3d;\">1</b>, <b style=\"color: #828fdd;\">2</b>), inds=[<b style=\"color: #8985d7;\">_bcb3eaAAAfW</b>, <b style=\"color: #ce8d6e;\">_bcb3eaAAAfX</b>, <b style=\"color: #4c7be1;\">k3</b>], tags={<b style=\"color: #74d649;\">0</b>, <b style=\"color: #45ce3d;\">1</b>, <b style=\"color: #828fdd;\">2</b>, <b style=\"color: #8a5bcf;\">3</b>, <b style=\"color: #80d749;\">4</b>, <b style=\"color: #7355d7;\">5</b>, <b style=\"color: #a4de79;\">6</b>, <b style=\"color: #dd65d9;\">I3</b>}),</summary>backend=<b style=\"color: #7fdd73;\">numpy</b>, dtype=<b style=\"color: #75d2c6;\">float64</b>, data=array([[[1., 0.]]])</details></samp><samp style='font-size: 12px;'><details><summary><b style=\"color: #e55471;\">Tensor</b>(shape=(<b style=\"color: #45ce3d;\">1</b>, <b style=\"color: #45ce3d;\">1</b>, <b style=\"color: #828fdd;\">2</b>), inds=[<b style=\"color: #ce8d6e;\">_bcb3eaAAAfX</b>, <b style=\"color: #2edcaa;\">_bcb3eaAAAfY</b>, <b style=\"color: #462edc;\">k4</b>], tags={<b style=\"color: #74d649;\">0</b>, <b style=\"color: #45ce3d;\">1</b>, <b style=\"color: #828fdd;\">2</b>, <b style=\"color: #8a5bcf;\">3</b>, <b style=\"color: #80d749;\">4</b>, <b style=\"color: #7355d7;\">5</b>, <b style=\"color: #a4de79;\">6</b>, <b style=\"color: #998ad1;\">I4</b>}),</summary>backend=<b style=\"color: #7fdd73;\">numpy</b>, dtype=<b style=\"color: #75d2c6;\">float64</b>, data=array([[[1., 0.]]])</details></samp><samp style='font-size: 12px;'><details><summary><b style=\"color: #e55471;\">Tensor</b>(shape=(<b style=\"color: #45ce3d;\">1</b>, <b style=\"color: #45ce3d;\">1</b>, <b style=\"color: #828fdd;\">2</b>), inds=[<b style=\"color: #2edcaa;\">_bcb3eaAAAfY</b>, <b style=\"color: #da7869;\">_bcb3eaAAAfZ</b>, <b style=\"color: #85dfdf;\">k5</b>], tags={<b style=\"color: #74d649;\">0</b>, <b style=\"color: #45ce3d;\">1</b>, <b style=\"color: #828fdd;\">2</b>, <b style=\"color: #8a5bcf;\">3</b>, <b style=\"color: #80d749;\">4</b>, <b style=\"color: #7355d7;\">5</b>, <b style=\"color: #a4de79;\">6</b>, <b style=\"color: #97dddc;\">I5</b>}),</summary>backend=<b style=\"color: #7fdd73;\">numpy</b>, dtype=<b style=\"color: #75d2c6;\">float64</b>, data=array([[[1., 0.]]])</details></samp><samp style='font-size: 12px;'><details><summary><b style=\"color: #e55471;\">Tensor</b>(shape=(<b style=\"color: #45ce3d;\">1</b>, <b style=\"color: #828fdd;\">2</b>), inds=[<b style=\"color: #da7869;\">_bcb3eaAAAfZ</b>, <b style=\"color: #2cb7d3;\">k6</b>], tags={<b style=\"color: #74d649;\">0</b>, <b style=\"color: #45ce3d;\">1</b>, <b style=\"color: #828fdd;\">2</b>, <b style=\"color: #8a5bcf;\">3</b>, <b style=\"color: #80d749;\">4</b>, <b style=\"color: #7355d7;\">5</b>, <b style=\"color: #a4de79;\">6</b>, <b style=\"color: #b2de5f;\">I6</b>}),</summary>backend=<b style=\"color: #7fdd73;\">numpy</b>, dtype=<b style=\"color: #75d2c6;\">float64</b>, data=array([[1., 0.]])</details></samp></details></samp>"
      ],
      "text/plain": [
       "MatrixProductState(tensors=7, indices=13, L=7, max_bond=2)"
      ]
     },
     "execution_count": 42,
     "metadata": {},
     "output_type": "execute_result"
    }
   ],
   "source": [
    "init_state"
   ]
  },
  {
   "cell_type": "code",
   "execution_count": 43,
   "metadata": {},
   "outputs": [
    {
     "data": {
      "text/plain": [
       "<function str.format>"
      ]
     },
     "execution_count": 43,
     "metadata": {},
     "output_type": "execute_result"
    }
   ],
   "source": [
    "qc.ket_site_ind"
   ]
  },
  {
   "cell_type": "code",
   "execution_count": 44,
   "metadata": {},
   "outputs": [
    {
     "data": {
      "text/plain": [
       "{'_psi': MatrixProductState(tensors=7, indices=7, L=7, max_bond=2),\n",
       " 'N': 7,\n",
       " 'gate_opts': {'contract': 'swap+split', 'propagate_tags': 'register'},\n",
       " 'gates': [],\n",
       " '_ket_site_ind_id': 'k{}',\n",
       " '_bra_site_ind_id': 'b{}',\n",
       " 'ket_site_ind': <function str.format>,\n",
       " 'bra_site_ind': <function str.format>,\n",
       " '_sample_n_gates': 0,\n",
       " '_storage': {('psi_simplified',\n",
       "   'ADCRS',\n",
       "   1e-12): MatrixProductState(tensors=7, indices=7, L=7, max_bond=2)},\n",
       " '_sampled_conditionals': {},\n",
       " '_marginal_storage_size': 0}"
      ]
     },
     "execution_count": 44,
     "metadata": {},
     "output_type": "execute_result"
    }
   ],
   "source": [
    "qc.__dict__"
   ]
  },
  {
   "cell_type": "code",
   "execution_count": 45,
   "metadata": {},
   "outputs": [
    {
     "data": {
      "text/plain": [
       "[]"
      ]
     },
     "execution_count": 45,
     "metadata": {},
     "output_type": "execute_result"
    }
   ],
   "source": [
    "qc.gates"
   ]
  },
  {
   "cell_type": "code",
   "execution_count": 46,
   "metadata": {},
   "outputs": [],
   "source": [
    "gate = qtn.circuit.parse_to_gate(op.matrix(), tuple(op.wires))"
   ]
  },
  {
   "cell_type": "code",
   "execution_count": 47,
   "metadata": {},
   "outputs": [
    {
     "data": {
      "text/plain": [
       "<Gate(label=RAW133301236114800, params=raw, qubits=((0, 1),))>"
      ]
     },
     "execution_count": 47,
     "metadata": {},
     "output_type": "execute_result"
    }
   ],
   "source": [
    "gate"
   ]
  },
  {
   "cell_type": "code",
   "execution_count": 48,
   "metadata": {},
   "outputs": [
    {
     "data": {
      "text/html": [
       "<samp style='font-size: 12px;'><details><summary><b style=\"color: #d75692;\">MatrixProductState</b>(tensors=7, indices=13, L=7, max_bond=2)</summary><samp style='font-size: 12px;'><details><summary><b style=\"color: #e55471;\">Tensor</b>(shape=(<b style=\"color: #45ce3d;\">1</b>, <b style=\"color: #828fdd;\">2</b>), inds=[<b style=\"color: #75d5c8;\">_bcb3eaAAAfa</b>, <b style=\"color: #b1dc61;\">k0</b>], tags={<b style=\"color: #74d649;\">0</b>, <b style=\"color: #45ce3d;\">1</b>, <b style=\"color: #828fdd;\">2</b>, <b style=\"color: #8a5bcf;\">3</b>, <b style=\"color: #80d749;\">4</b>, <b style=\"color: #7355d7;\">5</b>, <b style=\"color: #a4de79;\">6</b>, <b style=\"color: #d2b137;\">I0</b>}),</summary>backend=<b style=\"color: #7fdd73;\">numpy</b>, dtype=<b style=\"color: #75d2c6;\">float64</b>, data=array([[1., 0.]])</details></samp><samp style='font-size: 12px;'><details><summary><b style=\"color: #e55471;\">Tensor</b>(shape=(<b style=\"color: #45ce3d;\">1</b>, <b style=\"color: #45ce3d;\">1</b>, <b style=\"color: #828fdd;\">2</b>), inds=[<b style=\"color: #75d5c8;\">_bcb3eaAAAfa</b>, <b style=\"color: #cdce52;\">_bcb3eaAAAfb</b>, <b style=\"color: #8aa5db;\">k1</b>], tags={<b style=\"color: #74d649;\">0</b>, <b style=\"color: #45ce3d;\">1</b>, <b style=\"color: #828fdd;\">2</b>, <b style=\"color: #8a5bcf;\">3</b>, <b style=\"color: #80d749;\">4</b>, <b style=\"color: #7355d7;\">5</b>, <b style=\"color: #a4de79;\">6</b>, <b style=\"color: #d19b78;\">I1</b>}),</summary>backend=<b style=\"color: #7fdd73;\">numpy</b>, dtype=<b style=\"color: #75d2c6;\">float64</b>, data=array([[[1., 0.]]])</details></samp><samp style='font-size: 12px;'><details><summary><b style=\"color: #e55471;\">Tensor</b>(shape=(<b style=\"color: #45ce3d;\">1</b>, <b style=\"color: #45ce3d;\">1</b>, <b style=\"color: #828fdd;\">2</b>), inds=[<b style=\"color: #cdce52;\">_bcb3eaAAAfb</b>, <b style=\"color: #744ecd;\">_bcb3eaAAAfc</b>, <b style=\"color: #df546d;\">k2</b>], tags={<b style=\"color: #74d649;\">0</b>, <b style=\"color: #45ce3d;\">1</b>, <b style=\"color: #828fdd;\">2</b>, <b style=\"color: #8a5bcf;\">3</b>, <b style=\"color: #80d749;\">4</b>, <b style=\"color: #7355d7;\">5</b>, <b style=\"color: #a4de79;\">6</b>, <b style=\"color: #dd5dd7;\">I2</b>}),</summary>backend=<b style=\"color: #7fdd73;\">numpy</b>, dtype=<b style=\"color: #75d2c6;\">float64</b>, data=array([[[1., 0.]]])</details></samp><samp style='font-size: 12px;'><details><summary><b style=\"color: #e55471;\">Tensor</b>(shape=(<b style=\"color: #45ce3d;\">1</b>, <b style=\"color: #45ce3d;\">1</b>, <b style=\"color: #828fdd;\">2</b>), inds=[<b style=\"color: #744ecd;\">_bcb3eaAAAfc</b>, <b style=\"color: #3057e0;\">_bcb3eaAAAfd</b>, <b style=\"color: #4c7be1;\">k3</b>], tags={<b style=\"color: #74d649;\">0</b>, <b style=\"color: #45ce3d;\">1</b>, <b style=\"color: #828fdd;\">2</b>, <b style=\"color: #8a5bcf;\">3</b>, <b style=\"color: #80d749;\">4</b>, <b style=\"color: #7355d7;\">5</b>, <b style=\"color: #a4de79;\">6</b>, <b style=\"color: #dd65d9;\">I3</b>}),</summary>backend=<b style=\"color: #7fdd73;\">numpy</b>, dtype=<b style=\"color: #75d2c6;\">float64</b>, data=array([[[1., 0.]]])</details></samp><samp style='font-size: 12px;'><details><summary><b style=\"color: #e55471;\">Tensor</b>(shape=(<b style=\"color: #45ce3d;\">1</b>, <b style=\"color: #45ce3d;\">1</b>, <b style=\"color: #828fdd;\">2</b>), inds=[<b style=\"color: #3057e0;\">_bcb3eaAAAfd</b>, <b style=\"color: #d08586;\">_bcb3eaAAAfe</b>, <b style=\"color: #462edc;\">k4</b>], tags={<b style=\"color: #74d649;\">0</b>, <b style=\"color: #45ce3d;\">1</b>, <b style=\"color: #828fdd;\">2</b>, <b style=\"color: #8a5bcf;\">3</b>, <b style=\"color: #80d749;\">4</b>, <b style=\"color: #7355d7;\">5</b>, <b style=\"color: #a4de79;\">6</b>, <b style=\"color: #998ad1;\">I4</b>}),</summary>backend=<b style=\"color: #7fdd73;\">numpy</b>, dtype=<b style=\"color: #75d2c6;\">float64</b>, data=array([[[1., 0.]]])</details></samp><samp style='font-size: 12px;'><details><summary><b style=\"color: #e55471;\">Tensor</b>(shape=(<b style=\"color: #45ce3d;\">1</b>, <b style=\"color: #45ce3d;\">1</b>, <b style=\"color: #828fdd;\">2</b>), inds=[<b style=\"color: #d08586;\">_bcb3eaAAAfe</b>, <b style=\"color: #87cbd8;\">_bcb3eaAAAff</b>, <b style=\"color: #85dfdf;\">k5</b>], tags={<b style=\"color: #74d649;\">0</b>, <b style=\"color: #45ce3d;\">1</b>, <b style=\"color: #828fdd;\">2</b>, <b style=\"color: #8a5bcf;\">3</b>, <b style=\"color: #80d749;\">4</b>, <b style=\"color: #7355d7;\">5</b>, <b style=\"color: #a4de79;\">6</b>, <b style=\"color: #97dddc;\">I5</b>}),</summary>backend=<b style=\"color: #7fdd73;\">numpy</b>, dtype=<b style=\"color: #75d2c6;\">float64</b>, data=array([[[1., 0.]]])</details></samp><samp style='font-size: 12px;'><details><summary><b style=\"color: #e55471;\">Tensor</b>(shape=(<b style=\"color: #45ce3d;\">1</b>, <b style=\"color: #828fdd;\">2</b>), inds=[<b style=\"color: #87cbd8;\">_bcb3eaAAAff</b>, <b style=\"color: #2cb7d3;\">k6</b>], tags={<b style=\"color: #74d649;\">0</b>, <b style=\"color: #45ce3d;\">1</b>, <b style=\"color: #828fdd;\">2</b>, <b style=\"color: #8a5bcf;\">3</b>, <b style=\"color: #80d749;\">4</b>, <b style=\"color: #7355d7;\">5</b>, <b style=\"color: #a4de79;\">6</b>, <b style=\"color: #b2de5f;\">I6</b>}),</summary>backend=<b style=\"color: #7fdd73;\">numpy</b>, dtype=<b style=\"color: #75d2c6;\">float64</b>, data=array([[1., 0.]])</details></samp></details></samp>"
      ],
      "text/plain": [
       "MatrixProductState(tensors=7, indices=13, L=7, max_bond=2)"
      ]
     },
     "execution_count": 48,
     "metadata": {},
     "output_type": "execute_result"
    }
   ],
   "source": [
    "qtn.MPS_computational_state(\"0\" * len(wires), tags=[str(l) for l in wires.labels])"
   ]
  },
  {
   "cell_type": "code",
   "execution_count": 49,
   "metadata": {},
   "outputs": [
    {
     "data": {
      "text/html": [
       "<samp style='font-size: 12px;'><details><summary><b style=\"color: #d75692;\">MatrixProductState</b>(tensors=9, indices=17, L=9, max_bond=6)</summary><samp style='font-size: 12px;'><details><summary><b style=\"color: #e55471;\">Tensor</b>(shape=(<b style=\"color: #a4de79;\">6</b>, <b style=\"color: #828fdd;\">2</b>), inds=[<b style=\"color: #d19576;\">_bcb3eaAAAfg</b>, <b style=\"color: #b1dc61;\">k0</b>], tags={<b style=\"color: #d2b137;\">I0</b>}),</summary>backend=<b style=\"color: #7fdd73;\">numpy</b>, dtype=<b style=\"color: #75d2c6;\">float64</b>, data=array([[0., 0.],\n",
       "       [0., 0.],\n",
       "       [0., 0.],\n",
       "       [0., 0.],\n",
       "       [0., 0.],\n",
       "       [0., 0.]])</details></samp><samp style='font-size: 12px;'><details><summary><b style=\"color: #e55471;\">Tensor</b>(shape=(<b style=\"color: #a4de79;\">6</b>, <b style=\"color: #a4de79;\">6</b>, <b style=\"color: #828fdd;\">2</b>), inds=[<b style=\"color: #d19576;\">_bcb3eaAAAfg</b>, <b style=\"color: #49cbcf;\">_bcb3eaAAAfh</b>, <b style=\"color: #8aa5db;\">k1</b>], tags={<b style=\"color: #d19b78;\">I1</b>}),</summary>backend=<b style=\"color: #7fdd73;\">numpy</b>, dtype=<b style=\"color: #75d2c6;\">float64</b>, data=array([[[0., 0.],\n",
       "        [0., 0.],\n",
       "        [0., 0.],\n",
       "        [0., 0.],\n",
       "        [0., 0.],\n",
       "        [0., 0.]],\n",
       "\n",
       "       [[0., 0.],\n",
       "        [0., 0.],\n",
       "        [0., 0.],\n",
       "        [0., 0.],\n",
       "        [0., 0.],\n",
       "        [0., 0.]],\n",
       "\n",
       "       [[0., 0.],\n",
       "        [0., 0.],\n",
       "        [0., 0.],\n",
       "        [0., 0.],\n",
       "        [0., 0.],\n",
       "        [0., 0.]],\n",
       "\n",
       "       [[0., 0.],\n",
       "        [0., 0.],\n",
       "        [0., 0.],\n",
       "        [0., 0.],\n",
       "        [0., 0.],\n",
       "        [0., 0.]],\n",
       "\n",
       "       [[0., 0.],\n",
       "        [0., 0.],\n",
       "        [0., 0.],\n",
       "        [0., 0.],\n",
       "        [0., 0.],\n",
       "        [0., 0.]],\n",
       "\n",
       "       [[0., 0.],\n",
       "        [0., 0.],\n",
       "        [0., 0.],\n",
       "        [0., 0.],\n",
       "        [0., 0.],\n",
       "        [0., 0.]]])</details></samp><samp style='font-size: 12px;'><details><summary><b style=\"color: #e55471;\">Tensor</b>(shape=(<b style=\"color: #a4de79;\">6</b>, <b style=\"color: #a4de79;\">6</b>, <b style=\"color: #828fdd;\">2</b>), inds=[<b style=\"color: #49cbcf;\">_bcb3eaAAAfh</b>, <b style=\"color: #4e7fda;\">_bcb3eaAAAfi</b>, <b style=\"color: #df546d;\">k2</b>], tags={<b style=\"color: #dd5dd7;\">I2</b>}),</summary>backend=<b style=\"color: #7fdd73;\">numpy</b>, dtype=<b style=\"color: #75d2c6;\">float64</b>, data=array([[[0., 0.],\n",
       "        [0., 0.],\n",
       "        [0., 0.],\n",
       "        [0., 0.],\n",
       "        [0., 0.],\n",
       "        [0., 0.]],\n",
       "\n",
       "       [[0., 0.],\n",
       "        [0., 0.],\n",
       "        [0., 0.],\n",
       "        [0., 0.],\n",
       "        [0., 0.],\n",
       "        [0., 0.]],\n",
       "\n",
       "       [[0., 0.],\n",
       "        [0., 0.],\n",
       "        [0., 0.],\n",
       "        [0., 0.],\n",
       "        [0., 0.],\n",
       "        [0., 0.]],\n",
       "\n",
       "       [[0., 0.],\n",
       "        [0., 0.],\n",
       "        [0., 0.],\n",
       "        [0., 0.],\n",
       "        [0., 0.],\n",
       "        [0., 0.]],\n",
       "\n",
       "       [[0., 0.],\n",
       "        [0., 0.],\n",
       "        [0., 0.],\n",
       "        [0., 0.],\n",
       "        [0., 0.],\n",
       "        [0., 0.]],\n",
       "\n",
       "       [[0., 0.],\n",
       "        [0., 0.],\n",
       "        [0., 0.],\n",
       "        [0., 0.],\n",
       "        [0., 0.],\n",
       "        [0., 0.]]])</details></samp><samp style='font-size: 12px;'><details><summary><b style=\"color: #e55471;\">Tensor</b>(shape=(<b style=\"color: #a4de79;\">6</b>, <b style=\"color: #a4de79;\">6</b>, <b style=\"color: #828fdd;\">2</b>), inds=[<b style=\"color: #4e7fda;\">_bcb3eaAAAfi</b>, <b style=\"color: #353ee3;\">_bcb3eaAAAfj</b>, <b style=\"color: #4c7be1;\">k3</b>], tags={<b style=\"color: #dd65d9;\">I3</b>}),</summary>backend=<b style=\"color: #7fdd73;\">numpy</b>, dtype=<b style=\"color: #75d2c6;\">float64</b>, data=array([[[0., 0.],\n",
       "        [0., 0.],\n",
       "        [0., 0.],\n",
       "        [0., 0.],\n",
       "        [0., 0.],\n",
       "        [0., 0.]],\n",
       "\n",
       "       [[0., 0.],\n",
       "        [0., 0.],\n",
       "        [0., 0.],\n",
       "        [0., 0.],\n",
       "        [0., 0.],\n",
       "        [0., 0.]],\n",
       "\n",
       "       [[0., 0.],\n",
       "        [0., 0.],\n",
       "        [0., 0.],\n",
       "        [0., 0.],\n",
       "        [0., 0.],\n",
       "        [0., 0.]],\n",
       "\n",
       "       [[0., 0.],\n",
       "        [0., 0.],\n",
       "        [0., 0.],\n",
       "        [0., 0.],\n",
       "        [0., 0.],\n",
       "        [0., 0.]],\n",
       "\n",
       "       [[0., 0.],\n",
       "        [0., 0.],\n",
       "        [0., 0.],\n",
       "        [0., 0.],\n",
       "        [0., 0.],\n",
       "        [0., 0.]],\n",
       "\n",
       "       [[0., 0.],\n",
       "        [0., 0.],\n",
       "        [0., 0.],\n",
       "        [0., 0.],\n",
       "        [0., 0.],\n",
       "        [0., 0.]]])</details></samp><samp style='font-size: 12px;'><details><summary><b style=\"color: #e55471;\">Tensor</b>(shape=(<b style=\"color: #a4de79;\">6</b>, <b style=\"color: #a4de79;\">6</b>, <b style=\"color: #828fdd;\">2</b>), inds=[<b style=\"color: #353ee3;\">_bcb3eaAAAfj</b>, <b style=\"color: #40d0a1;\">_bcb3eaAAAfk</b>, <b style=\"color: #462edc;\">k4</b>], tags={<b style=\"color: #998ad1;\">I4</b>}),</summary>backend=<b style=\"color: #7fdd73;\">numpy</b>, dtype=<b style=\"color: #75d2c6;\">float64</b>, data=array([[[0., 0.],\n",
       "        [0., 0.],\n",
       "        [0., 0.],\n",
       "        [0., 0.],\n",
       "        [0., 0.],\n",
       "        [0., 0.]],\n",
       "\n",
       "       [[0., 0.],\n",
       "        [0., 0.],\n",
       "        [0., 0.],\n",
       "        [0., 0.],\n",
       "        [0., 0.],\n",
       "        [0., 0.]],\n",
       "\n",
       "       [[0., 0.],\n",
       "        [0., 0.],\n",
       "        [0., 0.],\n",
       "        [0., 0.],\n",
       "        [0., 0.],\n",
       "        [0., 0.]],\n",
       "\n",
       "       [[0., 0.],\n",
       "        [0., 0.],\n",
       "        [0., 0.],\n",
       "        [0., 0.],\n",
       "        [0., 0.],\n",
       "        [0., 0.]],\n",
       "\n",
       "       [[0., 0.],\n",
       "        [0., 0.],\n",
       "        [0., 0.],\n",
       "        [0., 0.],\n",
       "        [0., 0.],\n",
       "        [0., 0.]],\n",
       "\n",
       "       [[0., 0.],\n",
       "        [0., 0.],\n",
       "        [0., 0.],\n",
       "        [0., 0.],\n",
       "        [0., 0.],\n",
       "        [0., 0.]]])</details></samp><samp style='font-size: 12px;'><details><summary><b style=\"color: #e55471;\">Tensor</b>(shape=(<b style=\"color: #a4de79;\">6</b>, <b style=\"color: #a4de79;\">6</b>, <b style=\"color: #828fdd;\">2</b>), inds=[<b style=\"color: #40d0a1;\">_bcb3eaAAAfk</b>, <b style=\"color: #ddc264;\">_bcb3eaAAAfl</b>, <b style=\"color: #85dfdf;\">k5</b>], tags={<b style=\"color: #97dddc;\">I5</b>}),</summary>backend=<b style=\"color: #7fdd73;\">numpy</b>, dtype=<b style=\"color: #75d2c6;\">float64</b>, data=array([[[0., 0.],\n",
       "        [0., 0.],\n",
       "        [0., 0.],\n",
       "        [0., 0.],\n",
       "        [0., 0.],\n",
       "        [0., 0.]],\n",
       "\n",
       "       [[0., 0.],\n",
       "        [0., 0.],\n",
       "        [0., 0.],\n",
       "        [0., 0.],\n",
       "        [0., 0.],\n",
       "        [0., 0.]],\n",
       "\n",
       "       [[0., 0.],\n",
       "        [0., 0.],\n",
       "        [0., 0.],\n",
       "        [0., 0.],\n",
       "        [0., 0.],\n",
       "        [0., 0.]],\n",
       "\n",
       "       [[0., 0.],\n",
       "        [0., 0.],\n",
       "        [0., 0.],\n",
       "        [0., 0.],\n",
       "        [0., 0.],\n",
       "        [0., 0.]],\n",
       "\n",
       "       [[0., 0.],\n",
       "        [0., 0.],\n",
       "        [0., 0.],\n",
       "        [0., 0.],\n",
       "        [0., 0.],\n",
       "        [0., 0.]],\n",
       "\n",
       "       [[0., 0.],\n",
       "        [0., 0.],\n",
       "        [0., 0.],\n",
       "        [0., 0.],\n",
       "        [0., 0.],\n",
       "        [0., 0.]]])</details></samp><samp style='font-size: 12px;'><details><summary><b style=\"color: #e55471;\">Tensor</b>(shape=(<b style=\"color: #a4de79;\">6</b>, <b style=\"color: #a4de79;\">6</b>, <b style=\"color: #828fdd;\">2</b>), inds=[<b style=\"color: #ddc264;\">_bcb3eaAAAfl</b>, <b style=\"color: #a5e239;\">_bcb3eaAAAfm</b>, <b style=\"color: #2cb7d3;\">k6</b>], tags={<b style=\"color: #b2de5f;\">I6</b>}),</summary>backend=<b style=\"color: #7fdd73;\">numpy</b>, dtype=<b style=\"color: #75d2c6;\">float64</b>, data=array([[[0., 0.],\n",
       "        [0., 0.],\n",
       "        [0., 0.],\n",
       "        [0., 0.],\n",
       "        [0., 0.],\n",
       "        [0., 0.]],\n",
       "\n",
       "       [[0., 0.],\n",
       "        [0., 0.],\n",
       "        [0., 0.],\n",
       "        [0., 0.],\n",
       "        [0., 0.],\n",
       "        [0., 0.]],\n",
       "\n",
       "       [[0., 0.],\n",
       "        [0., 0.],\n",
       "        [0., 0.],\n",
       "        [0., 0.],\n",
       "        [0., 0.],\n",
       "        [0., 0.]],\n",
       "\n",
       "       [[0., 0.],\n",
       "        [0., 0.],\n",
       "        [0., 0.],\n",
       "        [0., 0.],\n",
       "        [0., 0.],\n",
       "        [0., 0.]],\n",
       "\n",
       "       [[0., 0.],\n",
       "        [0., 0.],\n",
       "        [0., 0.],\n",
       "        [0., 0.],\n",
       "        [0., 0.],\n",
       "        [0., 0.]],\n",
       "\n",
       "       [[0., 0.],\n",
       "        [0., 0.],\n",
       "        [0., 0.],\n",
       "        [0., 0.],\n",
       "        [0., 0.],\n",
       "        [0., 0.]]])</details></samp><samp style='font-size: 12px;'><details><summary><b style=\"color: #e55471;\">Tensor</b>(shape=(<b style=\"color: #a4de79;\">6</b>, <b style=\"color: #a4de79;\">6</b>, <b style=\"color: #828fdd;\">2</b>), inds=[<b style=\"color: #a5e239;\">_bcb3eaAAAfm</b>, <b style=\"color: #8fcdc5;\">_bcb3eaAAAfn</b>, <b style=\"color: #53e08f;\">k7</b>], tags={<b style=\"color: #5582d6;\">I7</b>}),</summary>backend=<b style=\"color: #7fdd73;\">numpy</b>, dtype=<b style=\"color: #75d2c6;\">float64</b>, data=array([[[0., 0.],\n",
       "        [0., 0.],\n",
       "        [0., 0.],\n",
       "        [0., 0.],\n",
       "        [0., 0.],\n",
       "        [0., 0.]],\n",
       "\n",
       "       [[0., 0.],\n",
       "        [0., 0.],\n",
       "        [0., 0.],\n",
       "        [0., 0.],\n",
       "        [0., 0.],\n",
       "        [0., 0.]],\n",
       "\n",
       "       [[0., 0.],\n",
       "        [0., 0.],\n",
       "        [0., 0.],\n",
       "        [0., 0.],\n",
       "        [0., 0.],\n",
       "        [0., 0.]],\n",
       "\n",
       "       [[0., 0.],\n",
       "        [0., 0.],\n",
       "        [0., 0.],\n",
       "        [0., 0.],\n",
       "        [0., 0.],\n",
       "        [0., 0.]],\n",
       "\n",
       "       [[0., 0.],\n",
       "        [0., 0.],\n",
       "        [0., 0.],\n",
       "        [0., 0.],\n",
       "        [0., 0.],\n",
       "        [0., 0.]],\n",
       "\n",
       "       [[0., 0.],\n",
       "        [0., 0.],\n",
       "        [0., 0.],\n",
       "        [0., 0.],\n",
       "        [0., 0.],\n",
       "        [0., 0.]]])</details></samp><samp style='font-size: 12px;'><details><summary><b style=\"color: #e55471;\">Tensor</b>(shape=(<b style=\"color: #a4de79;\">6</b>, <b style=\"color: #828fdd;\">2</b>), inds=[<b style=\"color: #8fcdc5;\">_bcb3eaAAAfn</b>, <b style=\"color: #7bcd9f;\">k8</b>], tags={<b style=\"color: #8a3dd8;\">I8</b>}),</summary>backend=<b style=\"color: #7fdd73;\">numpy</b>, dtype=<b style=\"color: #75d2c6;\">float64</b>, data=array([[0., 0.],\n",
       "       [0., 0.],\n",
       "       [0., 0.],\n",
       "       [0., 0.],\n",
       "       [0., 0.],\n",
       "       [0., 0.]])</details></samp></details></samp>"
      ],
      "text/plain": [
       "MatrixProductState(tensors=9, indices=17, L=9, max_bond=6)"
      ]
     },
     "execution_count": 49,
     "metadata": {},
     "output_type": "execute_result"
    }
   ],
   "source": [
    "qtn.MPS_zero_state(bond_dim=6, L=9)"
   ]
  },
  {
   "cell_type": "code",
   "execution_count": 50,
   "metadata": {},
   "outputs": [
    {
     "data": {
      "text/html": [
       "<samp style='font-size: 12px;'><details><summary><b style=\"color: #d75692;\">MatrixProductState</b>(tensors=9, indices=17, L=9, max_bond=6)</summary><samp style='font-size: 12px;'><details><summary><b style=\"color: #e55471;\">Tensor</b>(shape=(<b style=\"color: #a4de79;\">6</b>, <b style=\"color: #828fdd;\">2</b>), inds=[<b style=\"color: #657cd4;\">_bcb3eaAAAfo</b>, <b style=\"color: #b1dc61;\">k0</b>], tags={<b style=\"color: #d2b137;\">I0</b>}),</summary>backend=<b style=\"color: #7fdd73;\">numpy</b>, dtype=<b style=\"color: #75d2c6;\">float64</b>, data=array([[-0.40068474, -0.3486126 ],\n",
       "       [ 0.10259219, -0.21016542],\n",
       "       [ 0.72415693,  0.14615333],\n",
       "       [ 0.14076637,  0.17920911],\n",
       "       [ 0.24010971, -0.62828855],\n",
       "       [ 0.39259118, -0.40550025]])</details></samp><samp style='font-size: 12px;'><details><summary><b style=\"color: #e55471;\">Tensor</b>(shape=(<b style=\"color: #a4de79;\">6</b>, <b style=\"color: #a4de79;\">6</b>, <b style=\"color: #828fdd;\">2</b>), inds=[<b style=\"color: #657cd4;\">_bcb3eaAAAfo</b>, <b style=\"color: #cf94de;\">_bcb3eaAAAfp</b>, <b style=\"color: #8aa5db;\">k1</b>], tags={<b style=\"color: #d19b78;\">I1</b>}),</summary>backend=<b style=\"color: #7fdd73;\">numpy</b>, dtype=<b style=\"color: #75d2c6;\">float64</b>, data=array([[[ 0.04545568, -1.06892578],\n",
       "        [ 0.19146097, -0.48277004],\n",
       "        [-0.08271651, -0.07557716],\n",
       "        [-0.19166095,  0.05202245],\n",
       "        [-0.03511251, -0.08642101],\n",
       "        [ 0.76187868, -0.37269205]],\n",
       "\n",
       "       [[ 0.26115358, -0.57459566],\n",
       "        [ 0.31854347,  0.32037763],\n",
       "        [-0.68459435, -0.22918921],\n",
       "        [ 0.56928634, -0.68165829],\n",
       "        [ 0.49722571,  0.1015361 ],\n",
       "        [ 0.30247084,  0.130832  ]],\n",
       "\n",
       "       [[-0.23365627,  0.19567761],\n",
       "        [-0.00900195, -0.10630399],\n",
       "        [-0.60676254,  0.40165898],\n",
       "        [-0.10862527, -0.23367466],\n",
       "        [ 0.21200525,  0.00657205],\n",
       "        [-0.06867311, -0.02291132]],\n",
       "\n",
       "       [[-0.04985618, -0.03640322],\n",
       "        [ 0.05462934,  0.5356238 ],\n",
       "        [-0.0890683 , -0.27517094],\n",
       "        [ 0.1143236 , -0.50123714],\n",
       "        [ 0.35427293, -0.27131789],\n",
       "        [ 0.03778006,  0.0477663 ]],\n",
       "\n",
       "       [[ 0.16981642,  0.08590149],\n",
       "        [-0.03848823, -0.55322226],\n",
       "        [ 0.5910638 , -0.47020438],\n",
       "        [-0.20656283, -0.03503844],\n",
       "        [ 0.02507509, -0.04905322],\n",
       "        [-0.09607987,  0.36106515]],\n",
       "\n",
       "       [[-0.01363863, -0.34848337],\n",
       "        [ 0.08285391,  0.15844219],\n",
       "        [-0.1124148 ,  0.14742725],\n",
       "        [-0.53766766,  0.07670696],\n",
       "        [-0.39548004, -0.03624681],\n",
       "        [ 0.17865253,  0.45515756]]])</details></samp><samp style='font-size: 12px;'><details><summary><b style=\"color: #e55471;\">Tensor</b>(shape=(<b style=\"color: #a4de79;\">6</b>, <b style=\"color: #a4de79;\">6</b>, <b style=\"color: #828fdd;\">2</b>), inds=[<b style=\"color: #cf94de;\">_bcb3eaAAAfp</b>, <b style=\"color: #3ee184;\">_bcb3eaAAAfq</b>, <b style=\"color: #df546d;\">k2</b>], tags={<b style=\"color: #dd5dd7;\">I2</b>}),</summary>backend=<b style=\"color: #7fdd73;\">numpy</b>, dtype=<b style=\"color: #75d2c6;\">float64</b>, data=array([[[-0.01472396,  0.36264608],\n",
       "        [-0.00435082, -0.01750678],\n",
       "        [-0.08988077,  0.18185636],\n",
       "        [ 0.62845719,  0.5670967 ],\n",
       "        [-0.85166636, -0.00111485],\n",
       "        [ 0.20555104, -0.00103001]],\n",
       "\n",
       "       [[-0.60266947, -0.08190362],\n",
       "        [ 0.69543387, -0.28913181],\n",
       "        [ 0.07324365,  0.04300002],\n",
       "        [-0.41854987, -0.03015595],\n",
       "        [-0.03483092, -0.03955247],\n",
       "        [ 0.23068149,  0.2988816 ]],\n",
       "\n",
       "       [[-0.06819639, -0.52011601],\n",
       "        [ 0.79102936,  0.10227908],\n",
       "        [ 0.03109014,  0.13270017],\n",
       "        [-0.3755746 , -0.06806996],\n",
       "        [-0.00997444, -0.60582395],\n",
       "        [ 0.24512647,  0.21849969]],\n",
       "\n",
       "       [[ 0.30308997,  0.12620451],\n",
       "        [ 0.6099667 , -0.43833032],\n",
       "        [-0.18532628, -0.37600144],\n",
       "        [-0.00990669,  0.31376559],\n",
       "        [ 0.28455147, -0.54744928],\n",
       "        [-0.88649201,  0.36638713]],\n",
       "\n",
       "       [[ 0.02480218, -0.15872334],\n",
       "        [-0.41135365, -0.16357648],\n",
       "        [ 0.13554365,  0.39580144],\n",
       "        [-0.01962489, -0.16549053],\n",
       "        [ 0.24015763, -0.61383876],\n",
       "        [ 0.23765875,  0.35355977]],\n",
       "\n",
       "       [[-0.42933205,  0.07094347],\n",
       "        [-0.04863896,  0.78647083],\n",
       "        [ 0.29564084, -0.05621932],\n",
       "        [ 0.3938463 ,  0.20688322],\n",
       "        [ 0.1189353 ,  0.68264562],\n",
       "        [-0.11501909,  0.07351195]]])</details></samp><samp style='font-size: 12px;'><details><summary><b style=\"color: #e55471;\">Tensor</b>(shape=(<b style=\"color: #a4de79;\">6</b>, <b style=\"color: #a4de79;\">6</b>, <b style=\"color: #828fdd;\">2</b>), inds=[<b style=\"color: #3ee184;\">_bcb3eaAAAfq</b>, <b style=\"color: #d25737;\">_bcb3eaAAAfr</b>, <b style=\"color: #4c7be1;\">k3</b>], tags={<b style=\"color: #dd65d9;\">I3</b>}),</summary>backend=<b style=\"color: #7fdd73;\">numpy</b>, dtype=<b style=\"color: #75d2c6;\">float64</b>, data=array([[[-0.29360967,  0.40343526],\n",
       "        [-0.55607036,  0.20521172],\n",
       "        [ 0.28462514,  0.23657803],\n",
       "        [-0.44098486, -0.1287499 ],\n",
       "        [ 0.140265  , -0.04616882],\n",
       "        [-0.35711162, -0.25879516]],\n",
       "\n",
       "       [[ 0.32071583,  0.16265581],\n",
       "        [ 0.29853673, -0.4903046 ],\n",
       "        [-0.61769171,  0.0602794 ],\n",
       "        [ 0.30516409, -0.71525009],\n",
       "        [ 0.35223081, -0.35313071],\n",
       "        [-0.10811445, -0.11241057]],\n",
       "\n",
       "       [[ 0.23378677, -0.05165703],\n",
       "        [ 0.20527029,  0.23667194],\n",
       "        [ 0.11642103,  0.51420146],\n",
       "        [ 0.06369239, -0.0086477 ],\n",
       "        [-0.03074326, -0.02580141],\n",
       "        [ 0.14660273,  0.07650089]],\n",
       "\n",
       "       [[ 0.16790742,  0.03626086],\n",
       "        [-0.12024642, -0.40574485],\n",
       "        [ 0.22699413,  0.07869951],\n",
       "        [ 0.10639083,  0.03762498],\n",
       "        [ 0.05702019, -0.02096112],\n",
       "        [ 0.15010417,  0.12759907]],\n",
       "\n",
       "       [[-0.00384935, -0.21829663],\n",
       "        [-0.03532968,  0.04149351],\n",
       "        [ 0.46686182,  0.20859614],\n",
       "        [-0.24543669,  0.29323489],\n",
       "        [ 0.14764209,  0.35484573],\n",
       "        [ 0.14145623, -0.27258838]],\n",
       "\n",
       "       [[ 0.27187032,  0.44872203],\n",
       "        [ 0.26444952,  0.77875145],\n",
       "        [-0.07252985, -0.27475682],\n",
       "        [ 0.6747466 ,  0.39676007],\n",
       "        [-0.50110602,  0.62620639],\n",
       "        [ 0.71680328,  0.34123255]]])</details></samp><samp style='font-size: 12px;'><details><summary><b style=\"color: #e55471;\">Tensor</b>(shape=(<b style=\"color: #a4de79;\">6</b>, <b style=\"color: #a4de79;\">6</b>, <b style=\"color: #828fdd;\">2</b>), inds=[<b style=\"color: #d25737;\">_bcb3eaAAAfr</b>, <b style=\"color: #cec87e;\">_bcb3eaAAAfs</b>, <b style=\"color: #462edc;\">k4</b>], tags={<b style=\"color: #998ad1;\">I4</b>}),</summary>backend=<b style=\"color: #7fdd73;\">numpy</b>, dtype=<b style=\"color: #75d2c6;\">float64</b>, data=array([[[-0.23781653,  0.06729079],\n",
       "        [ 0.05922481, -0.14571045],\n",
       "        [-0.28538703,  0.31027196],\n",
       "        [ 0.39369993,  0.29694786],\n",
       "        [ 0.47007945, -0.77158617],\n",
       "        [-0.13003827, -0.18145488]],\n",
       "\n",
       "       [[-0.64743532, -0.2472258 ],\n",
       "        [ 0.100505  , -0.75093431],\n",
       "        [ 0.19619996, -0.4075917 ],\n",
       "        [-0.29258373, -0.1830514 ],\n",
       "        [ 0.27717452, -0.31988978],\n",
       "        [-0.10077538, -0.43026511]],\n",
       "\n",
       "       [[-0.52695   ,  0.4520601 ],\n",
       "        [-0.15059287,  0.17100838],\n",
       "        [-0.40953951, -0.33292234],\n",
       "        [ 0.32599625, -0.7461603 ],\n",
       "        [-0.68590827,  0.17996136],\n",
       "        [ 0.47064885,  0.47728687]],\n",
       "\n",
       "       [[ 0.00984443, -0.27657527],\n",
       "        [ 0.48980081, -0.28254779],\n",
       "        [ 0.04390991, -0.30312349],\n",
       "        [-0.66110406, -0.47951178],\n",
       "        [ 0.30177115, -0.35883645],\n",
       "        [ 0.08689314, -0.07024308]],\n",
       "\n",
       "       [[ 0.29598683, -0.28218639],\n",
       "        [-0.06614522,  0.01340925],\n",
       "        [ 0.14972345,  0.25915747],\n",
       "        [ 0.3943636 , -0.1080865 ],\n",
       "        [-0.38129575,  0.19859786],\n",
       "        [-0.17967418, -0.33968084]],\n",
       "\n",
       "       [[ 0.12069469,  0.23738053],\n",
       "        [-0.21744524,  0.97552651],\n",
       "        [-0.3385931 ,  0.22873971],\n",
       "        [-0.40406175, -0.06701391],\n",
       "        [ 0.05999964,  0.13651015],\n",
       "        [-0.2492141 ,  0.12129749]]])</details></samp><samp style='font-size: 12px;'><details><summary><b style=\"color: #e55471;\">Tensor</b>(shape=(<b style=\"color: #a4de79;\">6</b>, <b style=\"color: #a4de79;\">6</b>, <b style=\"color: #828fdd;\">2</b>), inds=[<b style=\"color: #cec87e;\">_bcb3eaAAAfs</b>, <b style=\"color: #a68ace;\">_bcb3eaAAAft</b>, <b style=\"color: #85dfdf;\">k5</b>], tags={<b style=\"color: #97dddc;\">I5</b>}),</summary>backend=<b style=\"color: #7fdd73;\">numpy</b>, dtype=<b style=\"color: #75d2c6;\">float64</b>, data=array([[[-0.19249498,  0.07128012],\n",
       "        [-0.0072883 , -0.15940144],\n",
       "        [ 0.89141478, -0.0412203 ],\n",
       "        [-0.17831922,  0.06551102],\n",
       "        [ 0.1437599 ,  0.14382131],\n",
       "        [ 0.17011558,  0.08075147]],\n",
       "\n",
       "       [[-0.19202827, -0.24605805],\n",
       "        [-0.1975387 ,  0.8137671 ],\n",
       "        [-0.39070525,  0.02695316],\n",
       "        [-0.03296548,  0.3288387 ],\n",
       "        [-0.08719315, -0.34440852],\n",
       "        [ 0.13596298, -0.04308124]],\n",
       "\n",
       "       [[ 0.21713846, -0.58252293],\n",
       "        [ 0.10638405, -0.65458108],\n",
       "        [-0.51352062,  0.0316506 ],\n",
       "        [ 0.30289154,  0.24327332],\n",
       "        [-0.84832799,  0.27289568],\n",
       "        [ 0.4190756 , -0.22474494]],\n",
       "\n",
       "       [[-0.38872052,  0.00835417],\n",
       "        [-0.1447391 ,  0.2892118 ],\n",
       "        [-0.65995562,  0.00527193],\n",
       "        [-0.31588471, -0.21259529],\n",
       "        [-0.14894546, -0.27725739],\n",
       "        [-0.19857039, -0.10845248]],\n",
       "\n",
       "       [[-0.09853529,  0.0435606 ],\n",
       "        [-0.04414816, -0.23186525],\n",
       "        [ 0.10902669, -0.13213441],\n",
       "        [-0.35609534, -0.17472718],\n",
       "        [-0.03457175, -0.51149317],\n",
       "        [ 0.0225047 , -0.61931436]],\n",
       "\n",
       "       [[ 0.12879977,  0.05940176],\n",
       "        [ 0.1620802 , -0.04368246],\n",
       "        [ 0.58796265,  0.33774838],\n",
       "        [-0.28490117, -0.41853763],\n",
       "        [ 0.25966337, -0.21215538],\n",
       "        [ 0.80105598, -0.09446834]]])</details></samp><samp style='font-size: 12px;'><details><summary><b style=\"color: #e55471;\">Tensor</b>(shape=(<b style=\"color: #a4de79;\">6</b>, <b style=\"color: #a4de79;\">6</b>, <b style=\"color: #828fdd;\">2</b>), inds=[<b style=\"color: #a68ace;\">_bcb3eaAAAft</b>, <b style=\"color: #d6d486;\">_bcb3eaAAAfu</b>, <b style=\"color: #2cb7d3;\">k6</b>], tags={<b style=\"color: #b2de5f;\">I6</b>}),</summary>backend=<b style=\"color: #7fdd73;\">numpy</b>, dtype=<b style=\"color: #75d2c6;\">float64</b>, data=array([[[-0.31191624,  0.31139362],\n",
       "        [ 0.06610555, -0.1355316 ],\n",
       "        [ 0.14799447, -0.17659936],\n",
       "        [-0.09730678, -0.12213144],\n",
       "        [-0.3052223 ,  0.54189377],\n",
       "        [-0.33469878,  0.05524525]],\n",
       "\n",
       "       [[-0.26160688,  0.01637691],\n",
       "        [ 0.22793107,  0.36099291],\n",
       "        [ 0.02626224, -1.05676892],\n",
       "        [ 0.46131146, -0.02253543],\n",
       "        [-0.95866996, -0.07417112],\n",
       "        [-0.46678737,  0.31225546]],\n",
       "\n",
       "       [[ 0.09006676, -0.57795229],\n",
       "        [-0.05079955, -0.410506  ],\n",
       "        [ 0.32128503, -0.22829383],\n",
       "        [ 0.30029626, -0.24459812],\n",
       "        [ 0.26848812,  0.11445291],\n",
       "        [ 0.03625852,  0.05365236]],\n",
       "\n",
       "       [[-0.16213152, -0.05123364],\n",
       "        [-0.19793312, -0.09539485],\n",
       "        [-0.53649091,  0.07927088],\n",
       "        [ 0.00905438,  0.18666494],\n",
       "        [-0.52637001, -0.06882739],\n",
       "        [-0.25337447,  0.0960139 ]],\n",
       "\n",
       "       [[ 0.36589823, -0.82107   ],\n",
       "        [ 0.06586385, -0.06196022],\n",
       "        [-0.24306003,  0.4789098 ],\n",
       "        [-0.32192317, -0.72155482],\n",
       "        [-0.58389375, -0.01919763],\n",
       "        [ 0.19319029, -0.60316877]],\n",
       "\n",
       "       [[-0.72135269,  0.12033932],\n",
       "        [-0.49584254, -0.00753088],\n",
       "        [-0.18235648,  0.08568502],\n",
       "        [-0.34478108,  0.10104142],\n",
       "        [ 0.06016546,  0.06256063],\n",
       "        [-0.16281919,  0.21134338]]])</details></samp><samp style='font-size: 12px;'><details><summary><b style=\"color: #e55471;\">Tensor</b>(shape=(<b style=\"color: #a4de79;\">6</b>, <b style=\"color: #a4de79;\">6</b>, <b style=\"color: #828fdd;\">2</b>), inds=[<b style=\"color: #d6d486;\">_bcb3eaAAAfu</b>, <b style=\"color: #70bedd;\">_bcb3eaAAAfv</b>, <b style=\"color: #53e08f;\">k7</b>], tags={<b style=\"color: #5582d6;\">I7</b>}),</summary>backend=<b style=\"color: #7fdd73;\">numpy</b>, dtype=<b style=\"color: #75d2c6;\">float64</b>, data=array([[[ 0.58928992, -0.10492612],\n",
       "        [-0.45567017, -0.18617279],\n",
       "        [-0.64047842,  0.85180819],\n",
       "        [ 0.2416154 ,  0.43947229],\n",
       "        [ 0.28294046,  0.35911213],\n",
       "        [-0.49462337,  0.11545491]],\n",
       "\n",
       "       [[-0.25451123, -0.46017663],\n",
       "        [ 0.34598058, -0.08194548],\n",
       "        [-0.34538023, -0.16158939],\n",
       "        [ 0.06392603,  0.58093173],\n",
       "        [ 0.15757245,  0.210972  ],\n",
       "        [ 0.05621997,  0.22982423]],\n",
       "\n",
       "       [[ 0.28915323, -0.03668636],\n",
       "        [ 0.49771063,  0.25422   ],\n",
       "        [ 0.25404208, -0.594766  ],\n",
       "        [ 0.47623999, -0.62232725],\n",
       "        [-0.34695165,  0.28496532],\n",
       "        [-0.27870918,  1.04685692]],\n",
       "\n",
       "       [[ 0.05716582, -0.27727707],\n",
       "        [ 0.14046119,  0.11287795],\n",
       "        [ 0.06474167, -0.13345515],\n",
       "        [ 0.13132574, -0.63610914],\n",
       "        [ 0.08372762,  0.39991545],\n",
       "        [-0.48705516,  0.54358129]],\n",
       "\n",
       "       [[ 0.0997032 , -0.07249208],\n",
       "        [ 0.05841338, -0.38999861],\n",
       "        [ 0.50927883,  0.21841556],\n",
       "        [ 0.40968972,  0.0904828 ],\n",
       "        [ 0.44439226, -0.12007571],\n",
       "        [-0.0013544 ,  0.39537612]],\n",
       "\n",
       "       [[ 0.42803041, -0.03111351],\n",
       "        [-0.43862914,  0.33929129],\n",
       "        [ 0.39734149, -0.13809702],\n",
       "        [-0.03349219,  0.56492657],\n",
       "        [-0.39382391,  0.37373945],\n",
       "        [ 0.08131695,  0.41338242]]])</details></samp><samp style='font-size: 12px;'><details><summary><b style=\"color: #e55471;\">Tensor</b>(shape=(<b style=\"color: #a4de79;\">6</b>, <b style=\"color: #828fdd;\">2</b>), inds=[<b style=\"color: #70bedd;\">_bcb3eaAAAfv</b>, <b style=\"color: #7bcd9f;\">k8</b>], tags={<b style=\"color: #8a3dd8;\">I8</b>}),</summary>backend=<b style=\"color: #7fdd73;\">numpy</b>, dtype=<b style=\"color: #75d2c6;\">float64</b>, data=array([[ 0.09069298,  0.01182549],\n",
       "       [ 0.03200452, -0.04569013],\n",
       "       [ 0.05082517, -0.16057328],\n",
       "       [-0.11787859,  0.17935379],\n",
       "       [ 0.1212714 , -0.20287807],\n",
       "       [ 0.14138686, -0.20726636]])</details></samp></details></samp>"
      ],
      "text/plain": [
       "MatrixProductState(tensors=9, indices=17, L=9, max_bond=6)"
      ]
     },
     "execution_count": 50,
     "metadata": {},
     "output_type": "execute_result"
    }
   ],
   "source": [
    "qtn.MPS_rand_state(L=9, bond_dim=6)"
   ]
  },
  {
   "cell_type": "markdown",
   "metadata": {},
   "source": [
    "# Question for the guy"
   ]
  },
  {
   "cell_type": "code",
   "execution_count": 51,
   "metadata": {},
   "outputs": [],
   "source": [
    "import pennylane as qml\n",
    "import quimb.tensor as qtn\n",
    "import numpy as np\n",
    "\n",
    "# case 1: single qubit gate (works fine)\n",
    "op1 = qml.PauliX(wires=[0])\n",
    "qtn.Circuit(N=1).apply_gate(\n",
    "    op1.matrix().astype(np.complex128), *op1.wires, parametrize=None\n",
    ")\n",
    "\n",
    "# case 2: two qubit gate (works fine)\n",
    "op2 = qml.CNOT(wires=[0, 1])\n",
    "qtn.Circuit(N=2).apply_gate(\n",
    "    op2.matrix().astype(np.complex128), *op2.wires, parametrize=None\n",
    ")\n",
    "\n",
    "# case 3: three qubit gate (fails)\n",
    "op3 = qml.Toffoli(wires=[0, 1, 2])\n",
    "# qtn.CircuitMPS(N=3).apply_gate(op3.matrix(), *op3.wires, parametrize=None)\n",
    "\n",
    "# case 4: four qubit gate (fails)\n",
    "op4 = qml.DoubleExcitation(0.1, wires=[0, 1, 2, 3])\n",
    "# qtn.Circuit(N=4).apply_gate(op4.matrix().astype(np.complex128), *op4.wires, parametrize=None)"
   ]
  },
  {
   "cell_type": "code",
   "execution_count": 52,
   "metadata": {},
   "outputs": [],
   "source": [
    "ops = [\n",
    "    qml.PauliX(wires=[0]),\n",
    "    qml.RX(theta, wires=[0]),\n",
    "    qml.CSWAP(wires=[7, 0, 5]),\n",
    "    qml.RX(phi, wires=[1]),\n",
    "    qml.CNOT(wires=[3, 4]),\n",
    "    qml.DoubleExcitation(phi, wires=[1, 2, 3, 4]),\n",
    "    qml.CZ(wires=[4, 5]),\n",
    "    qml.Hadamard(wires=[4]),\n",
    "    qml.CCZ(wires=[0, 1, 2]),\n",
    "    qml.CSWAP(wires=[2, 3, 4]),\n",
    "    qml.QFT(wires=[0, 1, 2]),\n",
    "    qml.CNOT(wires=[2, 4]),\n",
    "    qml.Toffoli(wires=[0, 1, 2]),\n",
    "    qml.DoubleExcitation(phi, wires=[0, 1, 3, 4]),\n",
    "]\n",
    "\n",
    "meas = [\n",
    "    qml.expval(O2),\n",
    "    qml.expval(O2),\n",
    "    qml.expval(O1),\n",
    "    qml.var(qml.PauliY(wires=[2])),\n",
    "    qml.expval(O1),\n",
    "    qml.var(qml.PauliY(wires=[4])),\n",
    "]\n",
    "\n",
    "\n",
    "tape = qml.tape.QuantumScript(ops=ops, measurements=meas)"
   ]
  },
  {
   "cell_type": "code",
   "execution_count": 53,
   "metadata": {},
   "outputs": [
    {
     "name": "stdout",
     "output_type": "stream",
     "text": [
      "Frisus log: execute called with:\n",
      "execution_config=ExecutionConfig(grad_on_execution=None, use_device_gradient=None, use_device_jacobian_product=None, gradient_method=None, gradient_keyword_arguments={}, device_options={}, interface=None, derivative_order=1)\n",
      "circuits=(<QuantumScript: wires=[0, 7, 5, 1, 3, 4, 2], params=4>,)\n",
      "\n"
     ]
    },
    {
     "data": {
      "text/plain": [
       "(0.10157883318982944, 0.10157883318982944, 1.0, 0.9881722793134764, 1.0, 1.0)"
      ]
     },
     "execution_count": 53,
     "metadata": {},
     "output_type": "execute_result"
    }
   ],
   "source": [
    "obj = LightningQubit(wires=tape.wires)\n",
    "\n",
    "obj.execute(tape)"
   ]
  },
  {
   "cell_type": "code",
   "execution_count": 54,
   "metadata": {},
   "outputs": [
    {
     "data": {
      "text/plain": [
       "array([[ 0.94959868-0.24247235j,  0.19842105-0.00992933j],\n",
       "       [-0.19842105-0.00992933j,  0.94959868+0.24247235j]])"
      ]
     },
     "execution_count": 54,
     "metadata": {},
     "output_type": "execute_result"
    }
   ],
   "source": [
    "qml.Rot(0.2, -0.4, 0.3, wires=[2]).matrix()"
   ]
  },
  {
   "cell_type": "code",
   "execution_count": 55,
   "metadata": {},
   "outputs": [
    {
     "data": {
      "text/plain": [
       "(0.10157883318982242,\n",
       " 0.10157883318982242,\n",
       " 0.9999999999999614,\n",
       " 0.988172279313441,\n",
       " 0.9999999999999614,\n",
       " 0.9999999999999611)"
      ]
     },
     "execution_count": 55,
     "metadata": {},
     "output_type": "execute_result"
    }
   ],
   "source": [
    "obj = LightningTensor(\n",
    "    wires=wires,\n",
    "    backend=backend,\n",
    "    method=method,\n",
    "    c_dtype=c_dtype,\n",
    "    max_bond_dim=max_bond_dim,\n",
    "    cutoff=cutoff,\n",
    ")\n",
    "\n",
    "\n",
    "obj.execute(tape)"
   ]
  },
  {
   "cell_type": "code",
   "execution_count": null,
   "metadata": {},
   "outputs": [],
   "source": []
  },
  {
   "cell_type": "code",
   "execution_count": 56,
   "metadata": {},
   "outputs": [],
   "source": [
    "import pennylane as qml\n",
    "\n",
    "# Define the operations\n",
    "ops = [\n",
    "    qml.Hadamard(wires=[0]),\n",
    "    qml.CRX(0.5, wires=[1, 2]),\n",
    "    qml.CNOT(wires=[0, 1]),\n",
    "    qml.CRX(0.3, wires=[2, 3]),\n",
    "    qml.PauliX(wires=[0]),\n",
    "    qml.RX(theta, wires=[0]),\n",
    "    qml.CSWAP(wires=[7, 0, 5]),\n",
    "    qml.RX(phi, wires=[1]),\n",
    "    qml.CNOT(wires=[3, 4]),\n",
    "    qml.DoubleExcitation(phi, wires=[1, 2, 3, 4]),\n",
    "    qml.CZ(wires=[4, 5]),\n",
    "    qml.Hadamard(wires=[4]),\n",
    "    qml.CCZ(wires=[0, 1, 2]),\n",
    "    qml.CSWAP(wires=[2, 3, 4]),\n",
    "    qml.QFT(wires=[0, 1, 2]),\n",
    "    qml.CNOT(wires=[2, 4]),\n",
    "    qml.Toffoli(wires=[0, 1, 2]),\n",
    "    qml.DoubleExcitation(phi, wires=[0, 1, 3, 4]),\n",
    "    qml.CSWAP(wires=[1, 2, 3]),\n",
    "    qml.RX(-0.8, wires=[0]),\n",
    "    qml.CZ(wires=[0, 2]),\n",
    "    qml.RY(0.4, wires=[1]),\n",
    "    qml.CNOT(wires=[1, 3]),\n",
    "    qml.CCZ(wires=[0, 1, 2]),\n",
    "    qml.Hadamard(wires=[3])\n",
    "]\n",
    "\n",
    "# Define the measurement\n",
    "meas = [\n",
    "    qml.expval(qml.PauliX(wires=[0])),\n",
    "    qml.var(qml.PauliY(wires=[1])),\n",
    "    qml.expval(qml.PauliZ(wires=[2])),\n",
    "    qml.expval(qml.PauliX(wires=[3]))\n",
    "]\n",
    "\n",
    "# Create the QuantumScript tape\n",
    "tape = qml.tape.QuantumScript(ops=ops, measurements=meas)"
   ]
  },
  {
   "cell_type": "code",
   "execution_count": 57,
   "metadata": {},
   "outputs": [
    {
     "name": "stdout",
     "output_type": "stream",
     "text": [
      "Frisus log: execute called with:\n",
      "execution_config=ExecutionConfig(grad_on_execution=None, use_device_gradient=None, use_device_jacobian_product=None, gradient_method=None, gradient_keyword_arguments={}, device_options={}, interface=None, derivative_order=1)\n",
      "circuits=(<QuantumScript: wires=[0, 1, 2, 3, 7, 5, 4], params=8>,)\n",
      "\n"
     ]
    },
    {
     "data": {
      "text/plain": [
       "(0.2697347514992784,\n",
       " 0.9022098454128101,\n",
       " 0.4999999999999998,\n",
       " 0.7500118092151864)"
      ]
     },
     "execution_count": 57,
     "metadata": {},
     "output_type": "execute_result"
    }
   ],
   "source": [
    "obj = LightningQubit(\n",
    "    wires=tape.wires,\n",
    "    c_dtype=c_dtype,\n",
    ")\n",
    "\n",
    "\n",
    "obj.execute(tape)"
   ]
  },
  {
   "cell_type": "code",
   "execution_count": 58,
   "metadata": {},
   "outputs": [
    {
     "data": {
      "text/plain": [
       "(0.2697347514992735,\n",
       " 0.9022098454127945,\n",
       " 0.4999999999999916,\n",
       " 0.7500118092151746)"
      ]
     },
     "execution_count": 58,
     "metadata": {},
     "output_type": "execute_result"
    }
   ],
   "source": [
    "obj = LightningTensor(\n",
    "    wires=tape.wires,\n",
    "    backend=backend,\n",
    "    method=method,\n",
    "    c_dtype=c_dtype,\n",
    "    max_bond_dim=max_bond_dim,\n",
    "    cutoff=cutoff,\n",
    ")\n",
    "\n",
    "\n",
    "obj.execute(tape)"
   ]
  },
  {
   "cell_type": "code",
   "execution_count": 59,
   "metadata": {},
   "outputs": [],
   "source": [
    "import pennylane as qml\n",
    "\n",
    "# Define the operations\n",
    "ops = [\n",
    "    qml.Rot(-0.3, 0.7, -0.4, wires=[0]),\n",
    "    qml.RY(0.8, wires=[1]),\n",
    "    qml.CNOT(wires=[1, 2]),\n",
    "    qml.CRX(0.2, wires=[0, 2]),\n",
    "    qml.PauliY(wires=[1]),\n",
    "    qml.CZ(wires=[0, 3]),\n",
    "    qml.Hadamard(wires=[2]),\n",
    "    qml.CSWAP(wires=[1, 2, 3]),\n",
    "    qml.Rot(0.1, 0.5, 0.3, wires=[0]),\n",
    "    qml.CRX(-0.6, wires=[2, 3]),\n",
    "    qml.RX(0.4, wires=[1]),\n",
    "    qml.CNOT(wires=[0, 1]),\n",
    "    qml.Toffoli(wires=[0, 1, 3])\n",
    "]\n",
    "\n",
    "# Define the measurement\n",
    "meas = [\n",
    "    qml.var(qml.PauliX(wires=[0])),\n",
    "    qml.expval(qml.PauliY(wires=[1])),\n",
    "    qml.expval(qml.PauliZ(wires=[2])),\n",
    "    qml.var(qml.PauliX(wires=[3]))\n",
    "]\n",
    "\n",
    "# Create the QuantumScript tape\n",
    "tape = qml.tape.QuantumScript(ops=ops, measurements=meas)\n"
   ]
  },
  {
   "cell_type": "code",
   "execution_count": 60,
   "metadata": {},
   "outputs": [
    {
     "data": {
      "text/plain": [
       "(0.8931039460927462,\n",
       " 0.09691449955719136,\n",
       " 0.8483533546735837,\n",
       " 0.28366624188761835)"
      ]
     },
     "execution_count": 60,
     "metadata": {},
     "output_type": "execute_result"
    }
   ],
   "source": [
    "obj = LightningTensor(\n",
    "    wires=wires,\n",
    "    backend=backend,\n",
    "    method=method,\n",
    "    c_dtype=c_dtype,\n",
    "    max_bond_dim=max_bond_dim,\n",
    "    cutoff=cutoff,\n",
    ")\n",
    "\n",
    "\n",
    "obj.execute(tape)"
   ]
  },
  {
   "cell_type": "code",
   "execution_count": 61,
   "metadata": {},
   "outputs": [],
   "source": [
    "import pennylane as qml\n",
    "\n",
    "# Define the operations\n",
    "ops = [\n",
    "    qml.Rot(0.1, -0.5, 0.6, wires=[0]),\n",
    "    qml.RX(-0.2, wires=[1]),\n",
    "    qml.CSWAP(wires=[0, 1, 2]),\n",
    "    qml.RY(0.3, wires=[2]),\n",
    "    qml.CNOT(wires=[1, 3]),\n",
    "    qml.PauliX(wires=[2]),\n",
    "    qml.CRX(0.4, wires=[0, 3]),\n",
    "    qml.Hadamard(wires=[1]),\n",
    "    qml.CCZ(wires=[0, 1, 3]),\n",
    "    qml.CRX(0.7, wires=[2, 3]),\n",
    "    qml.CZ(wires=[0, 1]),\n",
    "    qml.Toffoli(wires=[0, 2, 3])\n",
    "]\n",
    "\n",
    "# Define the measurement\n",
    "meas = [\n",
    "    qml.expval(qml.PauliZ(wires=[0])),\n",
    "    qml.var(qml.PauliY(wires=[1])),\n",
    "    qml.expval(qml.PauliZ(wires=[2])),\n",
    "    qml.var(qml.PauliX(wires=[3]))\n",
    "]\n",
    "\n",
    "# Create the QuantumScript tape\n",
    "tape = qml.tape.QuantumScript(ops=ops, measurements=meas)\n"
   ]
  },
  {
   "cell_type": "code",
   "execution_count": 62,
   "metadata": {},
   "outputs": [
    {
     "data": {
      "text/plain": [
       "(0.8775825618903625,\n",
       " 0.9999999999999896,\n",
       " -0.9541708838044055,\n",
       " 0.9999999999999896)"
      ]
     },
     "execution_count": 62,
     "metadata": {},
     "output_type": "execute_result"
    }
   ],
   "source": [
    "obj = LightningTensor(\n",
    "    wires=wires,\n",
    "    backend=backend,\n",
    "    method=method,\n",
    "    c_dtype=c_dtype,\n",
    "    max_bond_dim=max_bond_dim,\n",
    "    cutoff=cutoff,\n",
    ")\n",
    "\n",
    "\n",
    "obj.execute(tape)"
   ]
  },
  {
   "cell_type": "code",
   "execution_count": null,
   "metadata": {},
   "outputs": [],
   "source": []
  },
  {
   "cell_type": "code",
   "execution_count": null,
   "metadata": {},
   "outputs": [],
   "source": []
  },
  {
   "cell_type": "code",
   "execution_count": null,
   "metadata": {},
   "outputs": [],
   "source": []
  },
  {
   "cell_type": "code",
   "execution_count": 80,
   "metadata": {},
   "outputs": [],
   "source": [
    "def from_op_to_tensor(op) -> qtn.Tensor:\n",
    "    \"\"\"Returns the Quimb tensor corresponding to a PennyLane operator.\"\"\"\n",
    "    wires = tuple(op.wires)\n",
    "    bra_inds = []\n",
    "    for _, i in enumerate(wires):\n",
    "        bra_inds.append(f\"b{i}\")\n",
    "    bra_inds = tuple(bra_inds)\n",
    "    ket_inds = []\n",
    "    for _, i in enumerate(wires):\n",
    "        ket_inds.append(f\"k{i}\")\n",
    "    ket_inds = tuple(ket_inds)\n",
    "    array = op.matrix().astype(np.complex128)\n",
    "    return qtn.Tensor(array.reshape([2] * int(np.log2(array.size))), inds=bra_inds + ket_inds)\n"
   ]
  },
  {
   "cell_type": "code",
   "execution_count": null,
   "metadata": {},
   "outputs": [],
   "source": []
  },
  {
   "cell_type": "code",
   "execution_count": 79,
   "metadata": {},
   "outputs": [
    {
     "ename": "ValueError",
     "evalue": "Wrong number of inds, ('b0', 'b1', 'b2', 'b3', 'k0', 'k1', 'k2', 'k3'), supplied for array of shape (16, 16).",
     "output_type": "error",
     "traceback": [
      "\u001b[0;31m---------------------------------------------------------------------------\u001b[0m",
      "\u001b[0;31mValueError\u001b[0m                                Traceback (most recent call last)",
      "\u001b[0;32m/tmp/ipykernel_186033/2315327180.py\u001b[0m in \u001b[0;36m?\u001b[0;34m()\u001b[0m\n\u001b[0;32m----> 3\u001b[0;31m \u001b[0mop\u001b[0m \u001b[0;34m=\u001b[0m \u001b[0mqml\u001b[0m\u001b[0;34m.\u001b[0m\u001b[0mDoubleExcitation\u001b[0m\u001b[0;34m(\u001b[0m\u001b[0;36m0.1\u001b[0m\u001b[0;34m,\u001b[0m \u001b[0mwires\u001b[0m\u001b[0;34m=\u001b[0m\u001b[0;34m[\u001b[0m\u001b[0;36m0\u001b[0m\u001b[0;34m,\u001b[0m \u001b[0;36m1\u001b[0m\u001b[0;34m,\u001b[0m \u001b[0;36m2\u001b[0m\u001b[0;34m,\u001b[0m \u001b[0;36m3\u001b[0m\u001b[0;34m]\u001b[0m\u001b[0;34m)\u001b[0m\u001b[0;34m\u001b[0m\u001b[0;34m\u001b[0m\u001b[0m\n\u001b[0m\u001b[1;32m      4\u001b[0m \u001b[0;34m\u001b[0m\u001b[0m\n\u001b[1;32m      5\u001b[0m \u001b[0mfrom_op_to_tensor\u001b[0m\u001b[0;34m(\u001b[0m\u001b[0mop\u001b[0m\u001b[0;34m)\u001b[0m\u001b[0;34m\u001b[0m\u001b[0;34m\u001b[0m\u001b[0m\n",
      "\u001b[0;32m/tmp/ipykernel_186033/3561789959.py\u001b[0m in \u001b[0;36m?\u001b[0;34m(op)\u001b[0m\n\u001b[1;32m      9\u001b[0m     \u001b[0;32mfor\u001b[0m \u001b[0m_\u001b[0m\u001b[0;34m,\u001b[0m \u001b[0mi\u001b[0m \u001b[0;32min\u001b[0m \u001b[0menumerate\u001b[0m\u001b[0;34m(\u001b[0m\u001b[0mwires\u001b[0m\u001b[0;34m)\u001b[0m\u001b[0;34m:\u001b[0m\u001b[0;34m\u001b[0m\u001b[0;34m\u001b[0m\u001b[0m\n\u001b[1;32m     10\u001b[0m         \u001b[0mket_inds\u001b[0m\u001b[0;34m.\u001b[0m\u001b[0mappend\u001b[0m\u001b[0;34m(\u001b[0m\u001b[0;34mf\"k{i}\"\u001b[0m\u001b[0;34m)\u001b[0m\u001b[0;34m\u001b[0m\u001b[0;34m\u001b[0m\u001b[0m\n\u001b[1;32m     11\u001b[0m     \u001b[0mket_inds\u001b[0m \u001b[0;34m=\u001b[0m \u001b[0mtuple\u001b[0m\u001b[0;34m(\u001b[0m\u001b[0mket_inds\u001b[0m\u001b[0;34m)\u001b[0m\u001b[0;34m\u001b[0m\u001b[0;34m\u001b[0m\u001b[0m\n\u001b[1;32m     12\u001b[0m     \u001b[0marray\u001b[0m \u001b[0;34m=\u001b[0m \u001b[0mop\u001b[0m\u001b[0;34m.\u001b[0m\u001b[0mmatrix\u001b[0m\u001b[0;34m(\u001b[0m\u001b[0;34m)\u001b[0m\u001b[0;34m.\u001b[0m\u001b[0mastype\u001b[0m\u001b[0;34m(\u001b[0m\u001b[0mnp\u001b[0m\u001b[0;34m.\u001b[0m\u001b[0mcomplex128\u001b[0m\u001b[0;34m)\u001b[0m\u001b[0;34m\u001b[0m\u001b[0;34m\u001b[0m\u001b[0m\n\u001b[0;32m---> 13\u001b[0;31m     \u001b[0;32mreturn\u001b[0m \u001b[0mqtn\u001b[0m\u001b[0;34m.\u001b[0m\u001b[0mTensor\u001b[0m\u001b[0;34m(\u001b[0m\u001b[0marray\u001b[0m\u001b[0;34m,\u001b[0m \u001b[0minds\u001b[0m\u001b[0;34m=\u001b[0m\u001b[0mbra_inds\u001b[0m \u001b[0;34m+\u001b[0m \u001b[0mket_inds\u001b[0m\u001b[0;34m)\u001b[0m\u001b[0;34m\u001b[0m\u001b[0;34m\u001b[0m\u001b[0m\n\u001b[0m",
      "\u001b[0;32m~/anaconda3/envs/PennyLane/lib/python3.9/site-packages/quimb/tensor/tensor_core.py\u001b[0m in \u001b[0;36m?\u001b[0;34m(self, data, inds, tags, left_inds)\u001b[0m\n\u001b[1;32m   1682\u001b[0m         \u001b[0mself\u001b[0m\u001b[0;34m.\u001b[0m\u001b[0m_set_tags\u001b[0m\u001b[0;34m(\u001b[0m\u001b[0mtags\u001b[0m\u001b[0;34m)\u001b[0m\u001b[0;34m\u001b[0m\u001b[0;34m\u001b[0m\u001b[0m\n\u001b[1;32m   1683\u001b[0m         \u001b[0mself\u001b[0m\u001b[0;34m.\u001b[0m\u001b[0m_set_left_inds\u001b[0m\u001b[0;34m(\u001b[0m\u001b[0mleft_inds\u001b[0m\u001b[0;34m)\u001b[0m\u001b[0;34m\u001b[0m\u001b[0;34m\u001b[0m\u001b[0m\n\u001b[1;32m   1684\u001b[0m \u001b[0;34m\u001b[0m\u001b[0m\n\u001b[1;32m   1685\u001b[0m         \u001b[0;32mif\u001b[0m \u001b[0mndim\u001b[0m\u001b[0;34m(\u001b[0m\u001b[0mself\u001b[0m\u001b[0;34m.\u001b[0m\u001b[0m_data\u001b[0m\u001b[0;34m)\u001b[0m \u001b[0;34m!=\u001b[0m \u001b[0mlen\u001b[0m\u001b[0;34m(\u001b[0m\u001b[0mself\u001b[0m\u001b[0;34m.\u001b[0m\u001b[0m_inds\u001b[0m\u001b[0;34m)\u001b[0m\u001b[0;34m:\u001b[0m\u001b[0;34m\u001b[0m\u001b[0;34m\u001b[0m\u001b[0m\n\u001b[0;32m-> 1686\u001b[0;31m             raise ValueError(\n\u001b[0m\u001b[1;32m   1687\u001b[0m                 \u001b[0;34mf\"Wrong number of inds, {self.inds}, supplied for array\"\u001b[0m\u001b[0;34m\u001b[0m\u001b[0;34m\u001b[0m\u001b[0m\n\u001b[1;32m   1688\u001b[0m                 \u001b[0;34mf\" of shape {self._data.shape}.\"\u001b[0m\u001b[0;34m\u001b[0m\u001b[0;34m\u001b[0m\u001b[0m\n\u001b[1;32m   1689\u001b[0m             )\n",
      "\u001b[0;31mValueError\u001b[0m: Wrong number of inds, ('b0', 'b1', 'b2', 'b3', 'k0', 'k1', 'k2', 'k3'), supplied for array of shape (16, 16)."
     ]
    }
   ],
   "source": [
    "op = qml.DoubleExcitation(0.1, wires=[0, 1, 2, 3])\n",
    "\n",
    "from_op_to_tensor(op)"
   ]
  },
  {
   "cell_type": "markdown",
   "metadata": {},
   "source": []
  }
 ],
 "metadata": {
  "kernelspec": {
   "display_name": "PennyLane",
   "language": "python",
   "name": "python3"
  },
  "language_info": {
   "codemirror_mode": {
    "name": "ipython",
    "version": 3
   },
   "file_extension": ".py",
   "mimetype": "text/x-python",
   "name": "python",
   "nbconvert_exporter": "python",
   "pygments_lexer": "ipython3",
   "version": "3.9.7"
  }
 },
 "nbformat": 4,
 "nbformat_minor": 2
}
