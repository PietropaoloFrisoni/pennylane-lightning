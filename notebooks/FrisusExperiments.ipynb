{
 "cells": [
  {
   "cell_type": "markdown",
   "metadata": {},
   "source": [
    "# Understanding the execution flow from `LightningQubit`"
   ]
  },
  {
   "cell_type": "code",
   "execution_count": 1,
   "metadata": {},
   "outputs": [
    {
     "name": "stderr",
     "output_type": "stream",
     "text": [
      "/home/pietropaolo.frisoni/anaconda3/envs/PennyLane/lib/python3.9/site-packages/cotengra/hyperoptimizers/hyper.py:34: UserWarning: Couldn't import `kahypar` - skipping from default hyper optimizer and using basic `labels` method instead.\n",
      "  warnings.warn(\n"
     ]
    }
   ],
   "source": [
    "from typing import Iterable, Union\n",
    "import quimb.tensor as qtn\n",
    "import pennylane as qml\n",
    "from pennylane.wires import Wires\n",
    "import numpy as np"
   ]
  },
  {
   "cell_type": "markdown",
   "metadata": {},
   "source": [
    "## Approach 1: choosing a tape"
   ]
  },
  {
   "cell_type": "code",
   "execution_count": 2,
   "metadata": {},
   "outputs": [],
   "source": [
    "theta = 0.1\n",
    "phi = 0.2\n",
    "\n",
    "O1 = qml.Identity(wires=[0])\n",
    "O2 = qml.PauliZ(wires=[1])\n",
    "\n",
    "ops = [\n",
    "    qml.PauliX(wires=[0]),\n",
    "    qml.RX(theta, wires=[0]),\n",
    "    qml.RX(phi, wires=[1]),\n",
    "    qml.CNOT(wires=[0, 1]),\n",
    "    qml.DoubleExcitation(phi, wires=[1, 2, 3, 4]),\n",
    "    qml.Hadamard(wires=[1]),\n",
    "    qml.CNOT(wires=[2, 4]),\n",
    "    qml.DoubleExcitation(phi, wires=[0, 1, 3, 4]),\n",
    "]\n",
    "\n",
    "meas = [qml.expval(O1), qml.expval(O2)]\n",
    "\n",
    "tape = qml.tape.QuantumScript(ops=ops, measurements=meas)"
   ]
  },
  {
   "cell_type": "code",
   "execution_count": 3,
   "metadata": {},
   "outputs": [
    {
     "data": {
      "text/plain": [
       "[X(0),\n",
       " RX(0.1, wires=[0]),\n",
       " RX(0.2, wires=[1]),\n",
       " CNOT(wires=[0, 1]),\n",
       " DoubleExcitation(0.2, wires=[1, 2, 3, 4]),\n",
       " Hadamard(wires=[1]),\n",
       " CNOT(wires=[2, 4]),\n",
       " DoubleExcitation(0.2, wires=[0, 1, 3, 4])]"
      ]
     },
     "execution_count": 3,
     "metadata": {},
     "output_type": "execute_result"
    }
   ],
   "source": [
    "tape.operations"
   ]
  },
  {
   "cell_type": "code",
   "execution_count": 4,
   "metadata": {},
   "outputs": [
    {
     "data": {
      "text/plain": [
       "[I(0), Z(1)]"
      ]
     },
     "execution_count": 4,
     "metadata": {},
     "output_type": "execute_result"
    }
   ],
   "source": [
    "tape.observables"
   ]
  },
  {
   "cell_type": "code",
   "execution_count": 5,
   "metadata": {},
   "outputs": [
    {
     "data": {
      "text/plain": [
       "[expval(I(0)), expval(Z(1))]"
      ]
     },
     "execution_count": 5,
     "metadata": {},
     "output_type": "execute_result"
    }
   ],
   "source": [
    "tape.measurements"
   ]
  },
  {
   "cell_type": "code",
   "execution_count": 6,
   "metadata": {},
   "outputs": [
    {
     "data": {
      "text/plain": [
       "<Wires = [0, 1, 2, 3, 4]>"
      ]
     },
     "execution_count": 6,
     "metadata": {},
     "output_type": "execute_result"
    }
   ],
   "source": [
    "tape.wires"
   ]
  },
  {
   "cell_type": "markdown",
   "metadata": {},
   "source": [
    "## Approach 2: choosing a circuit"
   ]
  },
  {
   "cell_type": "code",
   "execution_count": 7,
   "metadata": {},
   "outputs": [
    {
     "name": "stdout",
     "output_type": "stream",
     "text": [
      "Frisus log: supports_derivatives called with:\n",
      "execution_config=ExecutionConfig(grad_on_execution=None, use_device_gradient=None, use_device_jacobian_product=False, gradient_method='best', gradient_keyword_arguments={}, device_options={}, interface=None, derivative_order=1)\n",
      "circuit=None\n",
      "\n"
     ]
    }
   ],
   "source": [
    "from functools import partial\n",
    "import pennylane as qml\n",
    "import matplotlib.pyplot as plt\n",
    "from pennylane.tape import QuantumScript, QuantumTape\n",
    "\n",
    "dev = qml.device(\"lightning.qubit\", wires=4)\n",
    "\n",
    "\n",
    "@qml.qnode(dev)\n",
    "def circuit(angles):\n",
    "    qml.Hadamard(wires=1)\n",
    "    qml.Hadamard(wires=2)\n",
    "    qml.RX(angles[0], 0)\n",
    "    qml.CNOT(wires=[1, 0])\n",
    "    qml.CNOT(wires=[2, 1])\n",
    "    qml.RX(angles[2], wires=0)\n",
    "    qml.RZ(angles[1], wires=2)\n",
    "    qml.CNOT(wires=[2, 1])\n",
    "    qml.RZ(-angles[1], wires=2)\n",
    "    qml.CNOT(wires=[1, 0])\n",
    "    qml.Hadamard(wires=1)\n",
    "    qml.CY(wires=[1, 2])\n",
    "    qml.CNOT(wires=[1, 0])\n",
    "    return qml.expval(qml.PauliZ(wires=0))\n",
    "\n",
    "\n",
    "angles = [0.1, 0.3, 0.5]\n",
    "# qnode = qml.QNode(circuit, dev)\n",
    "# qml.draw_mpl(qnode, decimals=1, style=\"sketch\")(angles)\n",
    "# plt.show()"
   ]
  },
  {
   "cell_type": "code",
   "execution_count": 8,
   "metadata": {},
   "outputs": [
    {
     "name": "stdout",
     "output_type": "stream",
     "text": [
      "Frisus log: supports_derivatives called with:\n",
      "execution_config=ExecutionConfig(grad_on_execution=None, use_device_gradient=None, use_device_jacobian_product=False, gradient_method='best', gradient_keyword_arguments={}, device_options={}, interface=None, derivative_order=1)\n",
      "circuit=<QuantumScript: wires=[1, 2, 0], params=0>\n",
      "\n",
      "Frisus log: execute_and_compute_derivatives called with:\n",
      "execution_config=ExecutionConfig(grad_on_execution=True, use_device_gradient=True, use_device_jacobian_product=False, gradient_method='adjoint', gradient_keyword_arguments={}, device_options={'rng': Generator(PCG64) at 0x775C0940DAC0, 'c_dtype': <class 'numpy.complex128'>, 'batch_obs': False, 'mcmc': False, 'kernel_name': None, 'num_burnin': 0}, interface='autograd', derivative_order=1)\n",
      "circuits=(<QuantumScript: wires=[1, 2, 0], params=0>,)\n",
      "\n"
     ]
    },
    {
     "data": {
      "text/plain": [
       "0.8253356149096776"
      ]
     },
     "execution_count": 8,
     "metadata": {},
     "output_type": "execute_result"
    }
   ],
   "source": [
    "circuit(angles=angles)"
   ]
  },
  {
   "cell_type": "code",
   "execution_count": 9,
   "metadata": {},
   "outputs": [
    {
     "data": {
      "text/plain": [
       "(TransformProgram(validate_measurements, validate_observables, validate_device_wires, mid_circuit_measurements, decompose, broadcast_expand),\n",
       " ExecutionConfig(grad_on_execution=True, use_device_gradient=False, use_device_jacobian_product=None, gradient_method=None, gradient_keyword_arguments={}, device_options={'rng': Generator(PCG64) at 0x775C0940DAC0, 'c_dtype': <class 'numpy.complex128'>, 'batch_obs': False, 'mcmc': False, 'kernel_name': None, 'num_burnin': 0}, interface=None, derivative_order=1))"
      ]
     },
     "execution_count": 9,
     "metadata": {},
     "output_type": "execute_result"
    }
   ],
   "source": [
    "dev.preprocess()"
   ]
  },
  {
   "cell_type": "code",
   "execution_count": 10,
   "metadata": {},
   "outputs": [
    {
     "name": "stdout",
     "output_type": "stream",
     "text": [
      "Frisus log: execute called with:\n",
      "execution_config=ExecutionConfig(grad_on_execution=None, use_device_gradient=None, use_device_jacobian_product=None, gradient_method=None, gradient_keyword_arguments={}, device_options={}, interface=None, derivative_order=1)\n",
      "circuits=(<QuantumScript: wires=[0, 1, 2, 3, 4], params=4>,)\n",
      "\n"
     ]
    },
    {
     "data": {
      "text/plain": [
       "(1.0, 0.00994181505874192)"
      ]
     },
     "execution_count": 10,
     "metadata": {},
     "output_type": "execute_result"
    }
   ],
   "source": [
    "dev.execute(circuits=tape)"
   ]
  },
  {
   "cell_type": "code",
   "execution_count": null,
   "metadata": {},
   "outputs": [],
   "source": []
  },
  {
   "cell_type": "code",
   "execution_count": null,
   "metadata": {},
   "outputs": [],
   "source": []
  },
  {
   "cell_type": "markdown",
   "metadata": {},
   "source": [
    "## Learning from `LightningQubit` using Python API"
   ]
  },
  {
   "cell_type": "code",
   "execution_count": 11,
   "metadata": {},
   "outputs": [],
   "source": [
    "from pennylane_lightning.lightning_qubit import LightningQubit"
   ]
  },
  {
   "cell_type": "code",
   "execution_count": 12,
   "metadata": {},
   "outputs": [],
   "source": [
    "obj = LightningQubit(wires=tape.wires)"
   ]
  },
  {
   "cell_type": "code",
   "execution_count": 13,
   "metadata": {},
   "outputs": [
    {
     "data": {
      "text/plain": [
       "<pennylane.tracker.Tracker at 0x775c0940fee0>"
      ]
     },
     "execution_count": 13,
     "metadata": {},
     "output_type": "execute_result"
    }
   ],
   "source": [
    "obj.tracker"
   ]
  },
  {
   "cell_type": "code",
   "execution_count": 14,
   "metadata": {},
   "outputs": [
    {
     "name": "stdout",
     "output_type": "stream",
     "text": [
      "Frisus log: execute called with:\n",
      "execution_config=ExecutionConfig(grad_on_execution=None, use_device_gradient=None, use_device_jacobian_product=None, gradient_method=None, gradient_keyword_arguments={}, device_options={}, interface=None, derivative_order=1)\n",
      "circuits=(<QuantumScript: wires=[0, 1, 2, 3, 4], params=4>,)\n",
      "\n"
     ]
    },
    {
     "data": {
      "text/plain": [
       "(1.0, 0.00994181505874192)"
      ]
     },
     "execution_count": 14,
     "metadata": {},
     "output_type": "execute_result"
    }
   ],
   "source": [
    "obj.execute(tape)"
   ]
  },
  {
   "cell_type": "code",
   "execution_count": null,
   "metadata": {},
   "outputs": [],
   "source": []
  },
  {
   "cell_type": "code",
   "execution_count": null,
   "metadata": {},
   "outputs": [],
   "source": []
  },
  {
   "cell_type": "code",
   "execution_count": null,
   "metadata": {},
   "outputs": [],
   "source": []
  },
  {
   "cell_type": "markdown",
   "metadata": {},
   "source": [
    "## Testing `LightningTensor` "
   ]
  },
  {
   "cell_type": "code",
   "execution_count": 15,
   "metadata": {},
   "outputs": [],
   "source": [
    "wires = tape.wires\n",
    "backend = \"quimb\"\n",
    "method = \"mps\"\n",
    "c_dtype = np.complex128\n",
    "max_bond_dim = None\n",
    "cutoff = 0.0"
   ]
  },
  {
   "cell_type": "code",
   "execution_count": 16,
   "metadata": {},
   "outputs": [],
   "source": [
    "from pennylane_lightning.lightning_tensor import LightningTensor"
   ]
  },
  {
   "cell_type": "code",
   "execution_count": 17,
   "metadata": {},
   "outputs": [],
   "source": [
    "obj = LightningTensor(\n",
    "    wires=wires,\n",
    "    backend=backend,\n",
    "    method=method,\n",
    "    c_dtype=c_dtype,\n",
    "    max_bond_dim=max_bond_dim,\n",
    "    cutoff=cutoff,\n",
    ")"
   ]
  },
  {
   "cell_type": "code",
   "execution_count": 18,
   "metadata": {},
   "outputs": [
    {
     "data": {
      "text/html": [
       "<samp style='font-size: 12px;'><details><summary><b style=\"color: #d75692;\">MatrixProductState</b>(tensors=5, indices=9, L=5, max_bond=2)</summary><samp style='font-size: 12px;'><details><summary><b style=\"color: #e55471;\">Tensor</b>(shape=(<b style=\"color: #45ce3d;\">1</b>, <b style=\"color: #828fdd;\">2</b>), inds=[<b style=\"color: #b4e146;\">_a0909dAAAAA</b>, <b style=\"color: #b1dc61;\">k0</b>], tags={<b style=\"color: #74d649;\">0</b>, <b style=\"color: #45ce3d;\">1</b>, <b style=\"color: #828fdd;\">2</b>, <b style=\"color: #8a5bcf;\">3</b>, <b style=\"color: #80d749;\">4</b>, <b style=\"color: #d2b137;\">I0</b>, <b style=\"color: #d3b991;\">PSI0</b>}),</summary>backend=<b style=\"color: #7fdd73;\">numpy</b>, dtype=<b style=\"color: #443ce1;\">complex128</b>, data=array([[1.+0.j, 0.+0.j]])</details></samp><samp style='font-size: 12px;'><details><summary><b style=\"color: #e55471;\">Tensor</b>(shape=(<b style=\"color: #45ce3d;\">1</b>, <b style=\"color: #45ce3d;\">1</b>, <b style=\"color: #828fdd;\">2</b>), inds=[<b style=\"color: #b4e146;\">_a0909dAAAAA</b>, <b style=\"color: #cdb135;\">_a0909dAAAAB</b>, <b style=\"color: #8aa5db;\">k1</b>], tags={<b style=\"color: #74d649;\">0</b>, <b style=\"color: #45ce3d;\">1</b>, <b style=\"color: #828fdd;\">2</b>, <b style=\"color: #8a5bcf;\">3</b>, <b style=\"color: #80d749;\">4</b>, <b style=\"color: #d19b78;\">I1</b>, <b style=\"color: #d3b991;\">PSI0</b>}),</summary>backend=<b style=\"color: #7fdd73;\">numpy</b>, dtype=<b style=\"color: #443ce1;\">complex128</b>, data=array([[[1.+0.j, 0.+0.j]]])</details></samp><samp style='font-size: 12px;'><details><summary><b style=\"color: #e55471;\">Tensor</b>(shape=(<b style=\"color: #45ce3d;\">1</b>, <b style=\"color: #45ce3d;\">1</b>, <b style=\"color: #828fdd;\">2</b>), inds=[<b style=\"color: #cdb135;\">_a0909dAAAAB</b>, <b style=\"color: #8e7bdd;\">_a0909dAAAAC</b>, <b style=\"color: #df546d;\">k2</b>], tags={<b style=\"color: #74d649;\">0</b>, <b style=\"color: #45ce3d;\">1</b>, <b style=\"color: #828fdd;\">2</b>, <b style=\"color: #8a5bcf;\">3</b>, <b style=\"color: #80d749;\">4</b>, <b style=\"color: #dd5dd7;\">I2</b>, <b style=\"color: #d3b991;\">PSI0</b>}),</summary>backend=<b style=\"color: #7fdd73;\">numpy</b>, dtype=<b style=\"color: #443ce1;\">complex128</b>, data=array([[[1.+0.j, 0.+0.j]]])</details></samp><samp style='font-size: 12px;'><details><summary><b style=\"color: #e55471;\">Tensor</b>(shape=(<b style=\"color: #45ce3d;\">1</b>, <b style=\"color: #45ce3d;\">1</b>, <b style=\"color: #828fdd;\">2</b>), inds=[<b style=\"color: #8e7bdd;\">_a0909dAAAAC</b>, <b style=\"color: #b972d2;\">_a0909dAAAAD</b>, <b style=\"color: #4c7be1;\">k3</b>], tags={<b style=\"color: #74d649;\">0</b>, <b style=\"color: #45ce3d;\">1</b>, <b style=\"color: #828fdd;\">2</b>, <b style=\"color: #8a5bcf;\">3</b>, <b style=\"color: #80d749;\">4</b>, <b style=\"color: #dd65d9;\">I3</b>, <b style=\"color: #d3b991;\">PSI0</b>}),</summary>backend=<b style=\"color: #7fdd73;\">numpy</b>, dtype=<b style=\"color: #443ce1;\">complex128</b>, data=array([[[1.+0.j, 0.+0.j]]])</details></samp><samp style='font-size: 12px;'><details><summary><b style=\"color: #e55471;\">Tensor</b>(shape=(<b style=\"color: #45ce3d;\">1</b>, <b style=\"color: #828fdd;\">2</b>), inds=[<b style=\"color: #b972d2;\">_a0909dAAAAD</b>, <b style=\"color: #462edc;\">k4</b>], tags={<b style=\"color: #74d649;\">0</b>, <b style=\"color: #45ce3d;\">1</b>, <b style=\"color: #828fdd;\">2</b>, <b style=\"color: #8a5bcf;\">3</b>, <b style=\"color: #80d749;\">4</b>, <b style=\"color: #998ad1;\">I4</b>, <b style=\"color: #d3b991;\">PSI0</b>}),</summary>backend=<b style=\"color: #7fdd73;\">numpy</b>, dtype=<b style=\"color: #443ce1;\">complex128</b>, data=array([[1.+0.j, 0.+0.j]])</details></samp></details></samp>"
      ],
      "text/plain": [
       "MatrixProductState(tensors=5, indices=9, L=5, max_bond=2)"
      ]
     },
     "execution_count": 18,
     "metadata": {},
     "output_type": "execute_result"
    }
   ],
   "source": [
    "obj._interface.state"
   ]
  },
  {
   "cell_type": "code",
   "execution_count": 19,
   "metadata": {},
   "outputs": [
    {
     "data": {
      "text/html": [
       "<samp style='font-size: 12px;'><details><summary><b style=\"color: #d75692;\">MatrixProductState</b>(tensors=5, indices=9, L=5, max_bond=2)</summary><samp style='font-size: 12px;'><details><summary><b style=\"color: #e55471;\">Tensor</b>(shape=(<b style=\"color: #45ce3d;\">1</b>, <b style=\"color: #828fdd;\">2</b>), inds=[<b style=\"color: #b4e146;\">_a0909dAAAAA</b>, <b style=\"color: #b1dc61;\">k0</b>], tags={<b style=\"color: #74d649;\">0</b>, <b style=\"color: #45ce3d;\">1</b>, <b style=\"color: #828fdd;\">2</b>, <b style=\"color: #8a5bcf;\">3</b>, <b style=\"color: #80d749;\">4</b>, <b style=\"color: #d2b137;\">I0</b>, <b style=\"color: #d3b991;\">PSI0</b>}),</summary>backend=<b style=\"color: #7fdd73;\">numpy</b>, dtype=<b style=\"color: #443ce1;\">complex128</b>, data=array([[1.+0.j, 0.+0.j]])</details></samp><samp style='font-size: 12px;'><details><summary><b style=\"color: #e55471;\">Tensor</b>(shape=(<b style=\"color: #45ce3d;\">1</b>, <b style=\"color: #45ce3d;\">1</b>, <b style=\"color: #828fdd;\">2</b>), inds=[<b style=\"color: #b4e146;\">_a0909dAAAAA</b>, <b style=\"color: #cdb135;\">_a0909dAAAAB</b>, <b style=\"color: #8aa5db;\">k1</b>], tags={<b style=\"color: #74d649;\">0</b>, <b style=\"color: #45ce3d;\">1</b>, <b style=\"color: #828fdd;\">2</b>, <b style=\"color: #8a5bcf;\">3</b>, <b style=\"color: #80d749;\">4</b>, <b style=\"color: #d19b78;\">I1</b>, <b style=\"color: #d3b991;\">PSI0</b>}),</summary>backend=<b style=\"color: #7fdd73;\">numpy</b>, dtype=<b style=\"color: #443ce1;\">complex128</b>, data=array([[[1.+0.j, 0.+0.j]]])</details></samp><samp style='font-size: 12px;'><details><summary><b style=\"color: #e55471;\">Tensor</b>(shape=(<b style=\"color: #45ce3d;\">1</b>, <b style=\"color: #45ce3d;\">1</b>, <b style=\"color: #828fdd;\">2</b>), inds=[<b style=\"color: #cdb135;\">_a0909dAAAAB</b>, <b style=\"color: #8e7bdd;\">_a0909dAAAAC</b>, <b style=\"color: #df546d;\">k2</b>], tags={<b style=\"color: #74d649;\">0</b>, <b style=\"color: #45ce3d;\">1</b>, <b style=\"color: #828fdd;\">2</b>, <b style=\"color: #8a5bcf;\">3</b>, <b style=\"color: #80d749;\">4</b>, <b style=\"color: #dd5dd7;\">I2</b>, <b style=\"color: #d3b991;\">PSI0</b>}),</summary>backend=<b style=\"color: #7fdd73;\">numpy</b>, dtype=<b style=\"color: #443ce1;\">complex128</b>, data=array([[[1.+0.j, 0.+0.j]]])</details></samp><samp style='font-size: 12px;'><details><summary><b style=\"color: #e55471;\">Tensor</b>(shape=(<b style=\"color: #45ce3d;\">1</b>, <b style=\"color: #45ce3d;\">1</b>, <b style=\"color: #828fdd;\">2</b>), inds=[<b style=\"color: #8e7bdd;\">_a0909dAAAAC</b>, <b style=\"color: #b972d2;\">_a0909dAAAAD</b>, <b style=\"color: #4c7be1;\">k3</b>], tags={<b style=\"color: #74d649;\">0</b>, <b style=\"color: #45ce3d;\">1</b>, <b style=\"color: #828fdd;\">2</b>, <b style=\"color: #8a5bcf;\">3</b>, <b style=\"color: #80d749;\">4</b>, <b style=\"color: #dd65d9;\">I3</b>, <b style=\"color: #d3b991;\">PSI0</b>}),</summary>backend=<b style=\"color: #7fdd73;\">numpy</b>, dtype=<b style=\"color: #443ce1;\">complex128</b>, data=array([[[1.+0.j, 0.+0.j]]])</details></samp><samp style='font-size: 12px;'><details><summary><b style=\"color: #e55471;\">Tensor</b>(shape=(<b style=\"color: #45ce3d;\">1</b>, <b style=\"color: #828fdd;\">2</b>), inds=[<b style=\"color: #b972d2;\">_a0909dAAAAD</b>, <b style=\"color: #462edc;\">k4</b>], tags={<b style=\"color: #74d649;\">0</b>, <b style=\"color: #45ce3d;\">1</b>, <b style=\"color: #828fdd;\">2</b>, <b style=\"color: #8a5bcf;\">3</b>, <b style=\"color: #80d749;\">4</b>, <b style=\"color: #998ad1;\">I4</b>, <b style=\"color: #d3b991;\">PSI0</b>}),</summary>backend=<b style=\"color: #7fdd73;\">numpy</b>, dtype=<b style=\"color: #443ce1;\">complex128</b>, data=array([[1.+0.j, 0.+0.j]])</details></samp></details></samp>"
      ],
      "text/plain": [
       "MatrixProductState(tensors=5, indices=9, L=5, max_bond=2)"
      ]
     },
     "execution_count": 19,
     "metadata": {},
     "output_type": "execute_result"
    }
   ],
   "source": [
    "obj._interface._circuitMPS.get_psi_reverse_lightcone(3)"
   ]
  },
  {
   "cell_type": "code",
   "execution_count": 20,
   "metadata": {},
   "outputs": [],
   "source": [
    "program, config = obj.preprocess()"
   ]
  },
  {
   "cell_type": "code",
   "execution_count": 21,
   "metadata": {},
   "outputs": [
    {
     "data": {
      "text/plain": [
       "{'apply_reverse_lightcone': None,\n",
       " 'backend': 'quimb',\n",
       " 'c_dtype': numpy.complex128,\n",
       " 'cutoff': 0.0,\n",
       " 'method': 'mps',\n",
       " 'max_bond_dim': None,\n",
       " 'measure_algorithm': None,\n",
       " 'return_tn': False,\n",
       " 'rehearse': False}"
      ]
     },
     "execution_count": 21,
     "metadata": {},
     "output_type": "execute_result"
    }
   ],
   "source": [
    "config.device_options"
   ]
  },
  {
   "cell_type": "code",
   "execution_count": 22,
   "metadata": {},
   "outputs": [
    {
     "name": "stdout",
     "output_type": "stream",
     "text": [
      "LOG: execute called with:\n",
      "circuits=(<QuantumScript: wires=[0, 1, 2, 3, 4], params=4>,)\n",
      "\n",
      "LOG: resetting the MPS\n",
      "\n",
      "LOG: applying X(0) to the circuit...\n",
      "LOG: MPS after operation:\n",
      "MatrixProductState([\n",
      "    Tensor(shape=(1, 2), inds=('_a0909dAAAAE', 'k0'), tags=oset(['0', '1', '2', '3', '4', 'I0', 'PSI0', 'GATE_0'])),\n",
      "    Tensor(shape=(1, 1, 2), inds=('_a0909dAAAAE', '_a0909dAAAAF', 'k1'), tags=oset(['0', '1', '2', '3', '4', 'I1', 'PSI0'])),\n",
      "    Tensor(shape=(1, 1, 2), inds=('_a0909dAAAAF', '_a0909dAAAAG', 'k2'), tags=oset(['0', '1', '2', '3', '4', 'I2', 'PSI0'])),\n",
      "    Tensor(shape=(1, 1, 2), inds=('_a0909dAAAAG', '_a0909dAAAAH', 'k3'), tags=oset(['0', '1', '2', '3', '4', 'I3', 'PSI0'])),\n",
      "    Tensor(shape=(1, 2), inds=('_a0909dAAAAH', 'k4'), tags=oset(['0', '1', '2', '3', '4', 'I4', 'PSI0'])),\n",
      "], tensors=5, indices=9, L=5, max_bond=2)\n",
      "\n",
      "LOG: applying RX(0.1, wires=[0]) to the circuit...\n",
      "LOG: MPS after operation:\n",
      "MatrixProductState([\n",
      "    Tensor(shape=(1, 2), inds=('_a0909dAAAAE', 'k0'), tags=oset(['0', '1', '2', '3', '4', 'I0', 'PSI0', 'GATE_0', 'GATE_1'])),\n",
      "    Tensor(shape=(1, 1, 2), inds=('_a0909dAAAAE', '_a0909dAAAAF', 'k1'), tags=oset(['0', '1', '2', '3', '4', 'I1', 'PSI0'])),\n",
      "    Tensor(shape=(1, 1, 2), inds=('_a0909dAAAAF', '_a0909dAAAAG', 'k2'), tags=oset(['0', '1', '2', '3', '4', 'I2', 'PSI0'])),\n",
      "    Tensor(shape=(1, 1, 2), inds=('_a0909dAAAAG', '_a0909dAAAAH', 'k3'), tags=oset(['0', '1', '2', '3', '4', 'I3', 'PSI0'])),\n",
      "    Tensor(shape=(1, 2), inds=('_a0909dAAAAH', 'k4'), tags=oset(['0', '1', '2', '3', '4', 'I4', 'PSI0'])),\n",
      "], tensors=5, indices=9, L=5, max_bond=2)\n",
      "\n",
      "LOG: applying RX(0.2, wires=[1]) to the circuit...\n",
      "LOG: MPS after operation:\n",
      "MatrixProductState([\n",
      "    Tensor(shape=(1, 2), inds=('_a0909dAAAAE', 'k0'), tags=oset(['0', '1', '2', '3', '4', 'I0', 'PSI0', 'GATE_0', 'GATE_1'])),\n",
      "    Tensor(shape=(1, 1, 2), inds=('_a0909dAAAAE', '_a0909dAAAAF', 'k1'), tags=oset(['0', '1', '2', '3', '4', 'I1', 'PSI0', 'GATE_2'])),\n",
      "    Tensor(shape=(1, 1, 2), inds=('_a0909dAAAAF', '_a0909dAAAAG', 'k2'), tags=oset(['0', '1', '2', '3', '4', 'I2', 'PSI0'])),\n",
      "    Tensor(shape=(1, 1, 2), inds=('_a0909dAAAAG', '_a0909dAAAAH', 'k3'), tags=oset(['0', '1', '2', '3', '4', 'I3', 'PSI0'])),\n",
      "    Tensor(shape=(1, 2), inds=('_a0909dAAAAH', 'k4'), tags=oset(['0', '1', '2', '3', '4', 'I4', 'PSI0'])),\n",
      "], tensors=5, indices=9, L=5, max_bond=2)\n",
      "\n",
      "LOG: applying CNOT(wires=[0, 1]) to the circuit...\n",
      "LOG: MPS after operation:\n",
      "MatrixProductState([\n",
      "    Tensor(shape=(2, 2), inds=('_a0909dAAAAE', 'k0'), tags=oset(['0', '1', '2', '3', '4', 'I0', 'PSI0', 'GATE_0', 'GATE_1'])),\n",
      "    Tensor(shape=(2, 1, 2), inds=('_a0909dAAAAE', '_a0909dAAAAF', 'k1'), tags=oset(['0', '1', '2', '3', '4', 'I1', 'PSI0', 'GATE_2'])),\n",
      "    Tensor(shape=(1, 1, 2), inds=('_a0909dAAAAF', '_a0909dAAAAG', 'k2'), tags=oset(['0', '1', '2', '3', '4', 'I2', 'PSI0'])),\n",
      "    Tensor(shape=(1, 1, 2), inds=('_a0909dAAAAG', '_a0909dAAAAH', 'k3'), tags=oset(['0', '1', '2', '3', '4', 'I3', 'PSI0'])),\n",
      "    Tensor(shape=(1, 2), inds=('_a0909dAAAAH', 'k4'), tags=oset(['0', '1', '2', '3', '4', 'I4', 'PSI0'])),\n",
      "], tensors=5, indices=9, L=5, max_bond=2)\n",
      "\n",
      "LOG: applying DoubleExcitation(0.2, wires=[1, 2, 3, 4]) to the circuit...\n",
      "LOG: MPS after operation:\n",
      "MatrixProductState([\n",
      "    Tensor(shape=(2, 1, 2), inds=('_a0909dAAAAE', 'x{}_a0909dAAAAQ', 'k0'), tags=oset(['0', '1', '2', '3', '4', 'I0', 'PSI0', 'GATE_0', 'GATE_1'])),\n",
      "    Tensor(shape=(2, 1, 2), inds=('_a0909dAAAAE', '_a0909dAAAAF', 'k1'), tags=oset(['0', '1', '2', '3', '4', 'I1', 'PSI0', 'GATE_2'])),\n",
      "    Tensor(shape=(1, 1, 2), inds=('_a0909dAAAAF', '_a0909dAAAAG', 'k2'), tags=oset(['0', '1', '2', '3', '4', 'I2', 'PSI0'])),\n",
      "    Tensor(shape=(1, 1, 2), inds=('_a0909dAAAAG', '_a0909dAAAAH', 'k3'), tags=oset(['0', '1', '2', '3', '4', 'I3', 'PSI0'])),\n",
      "    Tensor(shape=(1, 1, 2), inds=('_a0909dAAAAH', 'x{}_a0909dAAAAQ', 'k4'), tags=oset(['0', '1', '2', '3', '4', 'I4', 'PSI0'])),\n",
      "], tensors=5, indices=10, L=5, max_bond=2)\n",
      "\n",
      "LOG: applying Hadamard(wires=[1]) to the circuit...\n",
      "LOG: MPS after operation:\n",
      "MatrixProductState([\n",
      "    Tensor(shape=(2, 1, 2), inds=('_a0909dAAAAE', 'x{}_a0909dAAAAQ', 'k0'), tags=oset(['0', '1', '2', '3', '4', 'I0', 'PSI0', 'GATE_0', 'GATE_1'])),\n",
      "    Tensor(shape=(2, 1, 2), inds=('_a0909dAAAAE', '_a0909dAAAAF', 'k1'), tags=oset(['0', '1', '2', '3', '4', 'I1', 'PSI0', 'GATE_2', 'GATE_5'])),\n",
      "    Tensor(shape=(1, 1, 2), inds=('_a0909dAAAAF', '_a0909dAAAAG', 'k2'), tags=oset(['0', '1', '2', '3', '4', 'I2', 'PSI0'])),\n",
      "    Tensor(shape=(1, 1, 2), inds=('_a0909dAAAAG', '_a0909dAAAAH', 'k3'), tags=oset(['0', '1', '2', '3', '4', 'I3', 'PSI0'])),\n",
      "    Tensor(shape=(1, 1, 2), inds=('_a0909dAAAAH', 'x{}_a0909dAAAAQ', 'k4'), tags=oset(['0', '1', '2', '3', '4', 'I4', 'PSI0'])),\n",
      "], tensors=5, indices=10, L=5, max_bond=2)\n",
      "\n",
      "LOG: applying CNOT(wires=[2, 4]) to the circuit...\n",
      "LOG: MPS after operation:\n",
      "MatrixProductState([\n",
      "    Tensor(shape=(2, 1, 2), inds=('_a0909dAAAAE', 'x{}_a0909dAAAAQ', 'k0'), tags=oset(['0', '1', '2', '3', '4', 'I0', 'PSI0', 'GATE_0', 'GATE_1'])),\n",
      "    Tensor(shape=(2, 1, 2), inds=('_a0909dAAAAE', '_a0909dAAAAF', 'k1'), tags=oset(['0', '1', '2', '3', '4', 'I1', 'PSI0', 'GATE_2', 'GATE_5'])),\n",
      "    Tensor(shape=(1, 2, 2), inds=('_a0909dAAAAF', '_a0909dAAAAG', 'k2'), tags=oset(['0', '1', '2', '3', '4', 'I2', 'PSI0'])),\n",
      "    Tensor(shape=(2, 2, 2), inds=('_a0909dAAAAG', '_a0909dAAAAH', 'k3'), tags=oset(['0', '1', '2', '3', '4', 'I3', 'PSI0'])),\n",
      "    Tensor(shape=(2, 1, 2), inds=('_a0909dAAAAH', 'x{}_a0909dAAAAQ', 'k4'), tags=oset(['0', '1', '2', '3', '4', 'I4', 'PSI0'])),\n",
      "], tensors=5, indices=10, L=5, max_bond=2)\n",
      "\n",
      "LOG: applying DoubleExcitation(0.2, wires=[0, 1, 3, 4]) to the circuit...\n",
      "LOG: MPS after operation:\n",
      "MatrixProductState([\n",
      "    Tensor(shape=(1, 2, 2), inds=('x{}_a0909dAAAAQ', '_a0909dAAAAE', 'k0'), tags=oset(['I0', '0', '1', '2', '3', '4', 'PSI0', 'GATE_0', 'GATE_1'])),\n",
      "    Tensor(shape=(2, 2, 2), inds=('_a0909dAAAAE', '_a0909dAAAAF', 'k1'), tags=oset(['I1', '0', '1', '2', '3', '4', 'PSI0', 'GATE_2', 'GATE_5'])),\n",
      "    Tensor(shape=(2, 2, 2), inds=('_a0909dAAAAF', '_a0909dAAAAG', 'k2'), tags=oset(['I2', '0', '1', '2', '3', '4', 'PSI0'])),\n",
      "    Tensor(shape=(2, 2, 2), inds=('_a0909dAAAAG', '_a0909dAAAAH', 'k3'), tags=oset(['I3', '0', '1', '2', '3', '4', 'PSI0'])),\n",
      "    Tensor(shape=(2, 1, 2), inds=('_a0909dAAAAH', 'x{}_a0909dAAAAQ', 'k4'), tags=oset(['I4', '0', '1', '2', '3', '4', 'PSI0'])),\n",
      "], tensors=5, indices=10, L=5, max_bond=2)\n",
      "\n",
      "LOG: measuring the expval of obs I(0)...\n",
      "\n",
      "LOG: measuring the expval of obs Z(1)...\n",
      "\n",
      "LOG: execute results=((0.9999999999999977, 0.009941815058741199),)\n",
      "\n",
      "LOG: MPS after execution:\n",
      "MatrixProductState([\n",
      "    Tensor(shape=(2, 2), inds=('_a0909dAAABC', 'k0'), tags=oset(['I0', '0', '1', '2', '3', '4', 'PSI0', 'GATE_0', 'GATE_1'])),\n",
      "    Tensor(shape=(2, 2, 2), inds=('_a0909dAAABC', '_a0909dAAABD', 'k1'), tags=oset(['I1', '0', '1', '2', '3', '4', 'PSI0', 'GATE_2', 'GATE_5'])),\n",
      "    Tensor(shape=(2, 2, 2), inds=('_a0909dAAABD', '_a0909dAAABE', 'k2'), tags=oset(['I2', '0', '1', '2', '3', '4', 'PSI0'])),\n",
      "    Tensor(shape=(2, 2, 2), inds=('_a0909dAAABE', '_a0909dAAABI', 'k3'), tags=oset(['I3', '0', '1', '2', '3', '4', 'PSI0'])),\n",
      "    Tensor(shape=(2,), inds=('_a0909dAAABI',), tags=oset(['I4', '0', '1', '2', '3', '4', 'PSI0'])),\n",
      "], tensors=5, indices=10, L=5, max_bond=2)\n"
     ]
    },
    {
     "data": {
      "text/plain": [
       "(0.9999999999999977, 0.009941815058741199)"
      ]
     },
     "execution_count": 22,
     "metadata": {},
     "output_type": "execute_result"
    }
   ],
   "source": [
    "obj._interface._verbosity = True\n",
    "\n",
    "obj.execute(circuits=tape)"
   ]
  },
  {
   "cell_type": "code",
   "execution_count": 23,
   "metadata": {},
   "outputs": [
    {
     "data": {
      "text/plain": [
       "[<Gate(label=RAW131237175826544, params=raw, qubits=(0,))>,\n",
       " <Gate(label=RAW131237175826736, params=raw, qubits=(0,))>,\n",
       " <Gate(label=RAW131237175826640, params=raw, qubits=(1,))>,\n",
       " <Gate(label=RAW131237175824432, params=raw, qubits=(0, 1))>,\n",
       " <Gate(label=RAW131237175472368, params=raw, qubits=((1, 2, 3, 4),))>,\n",
       " <Gate(label=RAW131237891472432, params=raw, qubits=(1,))>,\n",
       " <Gate(label=RAW131237175824432, params=raw, qubits=(2, 4))>,\n",
       " <Gate(label=RAW131237175500400, params=raw, qubits=((0, 1, 3, 4),))>]"
      ]
     },
     "execution_count": 23,
     "metadata": {},
     "output_type": "execute_result"
    }
   ],
   "source": [
    "obj._interface._circuitMPS.gates"
   ]
  },
  {
   "cell_type": "code",
   "execution_count": 24,
   "metadata": {},
   "outputs": [
    {
     "data": {
      "text/plain": [
       "oset(['0', '1', '2', '3', '4', 'PSI0', 'I0', 'GATE_0', 'GATE_1', 'I1', 'GATE_2', 'GATE_5', 'I2', 'I3', 'I4'])"
      ]
     },
     "execution_count": 24,
     "metadata": {},
     "output_type": "execute_result"
    }
   ],
   "source": [
    "obj._interface._circuitMPS.psi.tags"
   ]
  },
  {
   "cell_type": "code",
   "execution_count": 25,
   "metadata": {},
   "outputs": [
    {
     "data": {
      "text/plain": [
       "{'_psi': MatrixProductState(tensors=5, indices=10, L=5, max_bond=2),\n",
       " 'N': 5,\n",
       " 'gate_opts': {'contract': 'swap+split', 'propagate_tags': 'register'},\n",
       " 'gates': [<Gate(label=RAW131237175826544, params=raw, qubits=(0,))>,\n",
       "  <Gate(label=RAW131237175826736, params=raw, qubits=(0,))>,\n",
       "  <Gate(label=RAW131237175826640, params=raw, qubits=(1,))>,\n",
       "  <Gate(label=RAW131237175824432, params=raw, qubits=(0, 1))>,\n",
       "  <Gate(label=RAW131237175472368, params=raw, qubits=((1, 2, 3, 4),))>,\n",
       "  <Gate(label=RAW131237891472432, params=raw, qubits=(1,))>,\n",
       "  <Gate(label=RAW131237175824432, params=raw, qubits=(2, 4))>,\n",
       "  <Gate(label=RAW131237175500400, params=raw, qubits=((0, 1, 3, 4),))>],\n",
       " '_ket_site_ind_id': 'k{}',\n",
       " '_bra_site_ind_id': 'b{}',\n",
       " 'ket_site_ind': <function str.format>,\n",
       " 'bra_site_ind': <function str.format>,\n",
       " '_sample_n_gates': -1,\n",
       " '_storage': {('rdm_lightcone_simplified',\n",
       "   (0,),\n",
       "   'ADCRS',\n",
       "   0.0): TensorNetwork1D(tensors=1, indices=2, L=5, max_bond=2),\n",
       "  ('rdm_lightcone_simplified',\n",
       "   (1,),\n",
       "   'ADCRS',\n",
       "   0.0): TensorNetwork1D(tensors=1, indices=2, L=5, max_bond=2)},\n",
       " '_sampled_conditionals': {}}"
      ]
     },
     "execution_count": 25,
     "metadata": {},
     "output_type": "execute_result"
    }
   ],
   "source": [
    "obj._interface._circuitMPS.__dict__"
   ]
  },
  {
   "cell_type": "code",
   "execution_count": 26,
   "metadata": {},
   "outputs": [
    {
     "data": {
      "text/plain": [
       "<Circuit(n=5, num_gates=8, gate_opts={'contract': 'swap+split', 'propagate_tags': 'register'})>"
      ]
     },
     "execution_count": 26,
     "metadata": {},
     "output_type": "execute_result"
    }
   ],
   "source": [
    "obj._interface._circuitMPS"
   ]
  },
  {
   "cell_type": "code",
   "execution_count": 27,
   "metadata": {},
   "outputs": [
    {
     "data": {
      "text/plain": [
       "2"
      ]
     },
     "execution_count": 27,
     "metadata": {},
     "output_type": "execute_result"
    }
   ],
   "source": [
    "obj._interface._circuitMPS.psi.max_bond()"
   ]
  },
  {
   "cell_type": "code",
   "execution_count": 28,
   "metadata": {},
   "outputs": [],
   "source": [
    "# obj._interface._circuitMPS.psi.draw(color=[f\"I{q}\" for q in range(len(wires))], show_tags=False, show_inds=True)"
   ]
  },
  {
   "cell_type": "code",
   "execution_count": 29,
   "metadata": {},
   "outputs": [],
   "source": [
    "# obj.compute_derivatives(tape)"
   ]
  },
  {
   "cell_type": "code",
   "execution_count": 30,
   "metadata": {},
   "outputs": [],
   "source": [
    "# obj._interface.state_to_array()"
   ]
  },
  {
   "cell_type": "markdown",
   "metadata": {},
   "source": [
    "# Playing with `quimb`"
   ]
  },
  {
   "cell_type": "code",
   "execution_count": 31,
   "metadata": {},
   "outputs": [],
   "source": [
    "wires = Wires(range(7))\n",
    "\n",
    "init_state = qtn.MPS_computational_state(\n",
    "    \"0\" * len(wires), tags=[str(l) for l in wires.labels]\n",
    ")\n",
    "\n",
    "qc = qtn.CircuitMPS(psi0=init_state)\n",
    "\n",
    "op = qml.CNOT(wires=[0, 1])"
   ]
  },
  {
   "cell_type": "code",
   "execution_count": 32,
   "metadata": {},
   "outputs": [
    {
     "data": {
      "image/png": "[encoded data removed]",
      "text/plain": [
       "<Figure size 600x600 with 1 Axes>"
      ]
     },
     "metadata": {
      "needs_background": "light"
     },
     "output_type": "display_data"
    }
   ],
   "source": [
    "qc.psi.draw(color=[f\"I{q}\" for q in range(len(wires))], show_tags=False, show_inds=True)"
   ]
  },
  {
   "cell_type": "code",
   "execution_count": 33,
   "metadata": {},
   "outputs": [
    {
     "data": {
      "text/plain": [
       "0j"
      ]
     },
     "execution_count": 33,
     "metadata": {},
     "output_type": "execute_result"
    }
   ],
   "source": [
    "qc.amplitude('0111111')"
   ]
  },
  {
   "cell_type": "code",
   "execution_count": 34,
   "metadata": {},
   "outputs": [
    {
     "data": {
      "text/html": [
       "<samp style='font-size: 12px;'><details><summary><b style=\"color: #d75692;\">MatrixProductState</b>(tensors=7, indices=13, L=7, max_bond=2)</summary><samp style='font-size: 12px;'><details><summary><b style=\"color: #e55471;\">Tensor</b>(shape=(<b style=\"color: #45ce3d;\">1</b>, <b style=\"color: #828fdd;\">2</b>), inds=[<b style=\"color: #d65295;\">_a0909dAAABK</b>, <b style=\"color: #b1dc61;\">k0</b>], tags={<b style=\"color: #74d649;\">0</b>, <b style=\"color: #45ce3d;\">1</b>, <b style=\"color: #828fdd;\">2</b>, <b style=\"color: #8a5bcf;\">3</b>, <b style=\"color: #80d749;\">4</b>, <b style=\"color: #7355d7;\">5</b>, <b style=\"color: #a4de79;\">6</b>, <b style=\"color: #d2b137;\">I0</b>}),</summary>backend=<b style=\"color: #7fdd73;\">numpy</b>, dtype=<b style=\"color: #75d2c6;\">float64</b>, data=array([[1., 0.]])</details></samp><samp style='font-size: 12px;'><details><summary><b style=\"color: #e55471;\">Tensor</b>(shape=(<b style=\"color: #45ce3d;\">1</b>, <b style=\"color: #45ce3d;\">1</b>, <b style=\"color: #828fdd;\">2</b>), inds=[<b style=\"color: #d65295;\">_a0909dAAABK</b>, <b style=\"color: #b480e0;\">_a0909dAAABL</b>, <b style=\"color: #8aa5db;\">k1</b>], tags={<b style=\"color: #74d649;\">0</b>, <b style=\"color: #45ce3d;\">1</b>, <b style=\"color: #828fdd;\">2</b>, <b style=\"color: #8a5bcf;\">3</b>, <b style=\"color: #80d749;\">4</b>, <b style=\"color: #7355d7;\">5</b>, <b style=\"color: #a4de79;\">6</b>, <b style=\"color: #d19b78;\">I1</b>}),</summary>backend=<b style=\"color: #7fdd73;\">numpy</b>, dtype=<b style=\"color: #75d2c6;\">float64</b>, data=array([[[1., 0.]]])</details></samp><samp style='font-size: 12px;'><details><summary><b style=\"color: #e55471;\">Tensor</b>(shape=(<b style=\"color: #45ce3d;\">1</b>, <b style=\"color: #45ce3d;\">1</b>, <b style=\"color: #828fdd;\">2</b>), inds=[<b style=\"color: #b480e0;\">_a0909dAAABL</b>, <b style=\"color: #b68fd0;\">_a0909dAAABM</b>, <b style=\"color: #df546d;\">k2</b>], tags={<b style=\"color: #74d649;\">0</b>, <b style=\"color: #45ce3d;\">1</b>, <b style=\"color: #828fdd;\">2</b>, <b style=\"color: #8a5bcf;\">3</b>, <b style=\"color: #80d749;\">4</b>, <b style=\"color: #7355d7;\">5</b>, <b style=\"color: #a4de79;\">6</b>, <b style=\"color: #dd5dd7;\">I2</b>}),</summary>backend=<b style=\"color: #7fdd73;\">numpy</b>, dtype=<b style=\"color: #75d2c6;\">float64</b>, data=array([[[1., 0.]]])</details></samp><samp style='font-size: 12px;'><details><summary><b style=\"color: #e55471;\">Tensor</b>(shape=(<b style=\"color: #45ce3d;\">1</b>, <b style=\"color: #45ce3d;\">1</b>, <b style=\"color: #828fdd;\">2</b>), inds=[<b style=\"color: #b68fd0;\">_a0909dAAABM</b>, <b style=\"color: #95e07e;\">_a0909dAAABN</b>, <b style=\"color: #4c7be1;\">k3</b>], tags={<b style=\"color: #74d649;\">0</b>, <b style=\"color: #45ce3d;\">1</b>, <b style=\"color: #828fdd;\">2</b>, <b style=\"color: #8a5bcf;\">3</b>, <b style=\"color: #80d749;\">4</b>, <b style=\"color: #7355d7;\">5</b>, <b style=\"color: #a4de79;\">6</b>, <b style=\"color: #dd65d9;\">I3</b>}),</summary>backend=<b style=\"color: #7fdd73;\">numpy</b>, dtype=<b style=\"color: #75d2c6;\">float64</b>, data=array([[[1., 0.]]])</details></samp><samp style='font-size: 12px;'><details><summary><b style=\"color: #e55471;\">Tensor</b>(shape=(<b style=\"color: #45ce3d;\">1</b>, <b style=\"color: #45ce3d;\">1</b>, <b style=\"color: #828fdd;\">2</b>), inds=[<b style=\"color: #95e07e;\">_a0909dAAABN</b>, <b style=\"color: #d84270;\">_a0909dAAABO</b>, <b style=\"color: #462edc;\">k4</b>], tags={<b style=\"color: #74d649;\">0</b>, <b style=\"color: #45ce3d;\">1</b>, <b style=\"color: #828fdd;\">2</b>, <b style=\"color: #8a5bcf;\">3</b>, <b style=\"color: #80d749;\">4</b>, <b style=\"color: #7355d7;\">5</b>, <b style=\"color: #a4de79;\">6</b>, <b style=\"color: #998ad1;\">I4</b>}),</summary>backend=<b style=\"color: #7fdd73;\">numpy</b>, dtype=<b style=\"color: #75d2c6;\">float64</b>, data=array([[[1., 0.]]])</details></samp><samp style='font-size: 12px;'><details><summary><b style=\"color: #e55471;\">Tensor</b>(shape=(<b style=\"color: #45ce3d;\">1</b>, <b style=\"color: #45ce3d;\">1</b>, <b style=\"color: #828fdd;\">2</b>), inds=[<b style=\"color: #d84270;\">_a0909dAAABO</b>, <b style=\"color: #cd33ce;\">_a0909dAAABP</b>, <b style=\"color: #85dfdf;\">k5</b>], tags={<b style=\"color: #74d649;\">0</b>, <b style=\"color: #45ce3d;\">1</b>, <b style=\"color: #828fdd;\">2</b>, <b style=\"color: #8a5bcf;\">3</b>, <b style=\"color: #80d749;\">4</b>, <b style=\"color: #7355d7;\">5</b>, <b style=\"color: #a4de79;\">6</b>, <b style=\"color: #97dddc;\">I5</b>}),</summary>backend=<b style=\"color: #7fdd73;\">numpy</b>, dtype=<b style=\"color: #75d2c6;\">float64</b>, data=array([[[1., 0.]]])</details></samp><samp style='font-size: 12px;'><details><summary><b style=\"color: #e55471;\">Tensor</b>(shape=(<b style=\"color: #45ce3d;\">1</b>, <b style=\"color: #828fdd;\">2</b>), inds=[<b style=\"color: #cd33ce;\">_a0909dAAABP</b>, <b style=\"color: #2cb7d3;\">k6</b>], tags={<b style=\"color: #74d649;\">0</b>, <b style=\"color: #45ce3d;\">1</b>, <b style=\"color: #828fdd;\">2</b>, <b style=\"color: #8a5bcf;\">3</b>, <b style=\"color: #80d749;\">4</b>, <b style=\"color: #7355d7;\">5</b>, <b style=\"color: #a4de79;\">6</b>, <b style=\"color: #b2de5f;\">I6</b>}),</summary>backend=<b style=\"color: #7fdd73;\">numpy</b>, dtype=<b style=\"color: #75d2c6;\">float64</b>, data=array([[1., 0.]])</details></samp></details></samp>"
      ],
      "text/plain": [
       "MatrixProductState(tensors=7, indices=13, L=7, max_bond=2)"
      ]
     },
     "execution_count": 34,
     "metadata": {},
     "output_type": "execute_result"
    }
   ],
   "source": [
    "init_state"
   ]
  },
  {
   "cell_type": "code",
   "execution_count": 35,
   "metadata": {},
   "outputs": [
    {
     "data": {
      "text/plain": [
       "<function str.format>"
      ]
     },
     "execution_count": 35,
     "metadata": {},
     "output_type": "execute_result"
    }
   ],
   "source": [
    "qc.ket_site_ind"
   ]
  },
  {
   "cell_type": "code",
   "execution_count": 36,
   "metadata": {},
   "outputs": [
    {
     "data": {
      "text/plain": [
       "{'_psi': MatrixProductState(tensors=7, indices=7, L=7, max_bond=2),\n",
       " 'N': 7,\n",
       " 'gate_opts': {'contract': 'swap+split', 'propagate_tags': 'register'},\n",
       " 'gates': [],\n",
       " '_ket_site_ind_id': 'k{}',\n",
       " '_bra_site_ind_id': 'b{}',\n",
       " 'ket_site_ind': <function str.format>,\n",
       " 'bra_site_ind': <function str.format>,\n",
       " '_sample_n_gates': 0,\n",
       " '_storage': {('psi_simplified',\n",
       "   'ADCRS',\n",
       "   1e-12): MatrixProductState(tensors=7, indices=7, L=7, max_bond=2)},\n",
       " '_sampled_conditionals': {},\n",
       " '_marginal_storage_size': 0}"
      ]
     },
     "execution_count": 36,
     "metadata": {},
     "output_type": "execute_result"
    }
   ],
   "source": [
    "qc.__dict__"
   ]
  },
  {
   "cell_type": "code",
   "execution_count": 37,
   "metadata": {},
   "outputs": [
    {
     "data": {
      "text/plain": [
       "[]"
      ]
     },
     "execution_count": 37,
     "metadata": {},
     "output_type": "execute_result"
    }
   ],
   "source": [
    "qc.gates"
   ]
  },
  {
   "cell_type": "code",
   "execution_count": 38,
   "metadata": {},
   "outputs": [],
   "source": [
    "gate = qtn.circuit.parse_to_gate(op.matrix(), tuple(op.wires))"
   ]
  },
  {
   "cell_type": "code",
   "execution_count": 39,
   "metadata": {},
   "outputs": [
    {
     "data": {
      "text/plain": [
       "<Gate(label=RAW131237175824432, params=raw, qubits=((0, 1),))>"
      ]
     },
     "execution_count": 39,
     "metadata": {},
     "output_type": "execute_result"
    }
   ],
   "source": [
    "gate"
   ]
  },
  {
   "cell_type": "code",
   "execution_count": 40,
   "metadata": {},
   "outputs": [
    {
     "data": {
      "text/html": [
       "<samp style='font-size: 12px;'><details><summary><b style=\"color: #d75692;\">MatrixProductState</b>(tensors=7, indices=13, L=7, max_bond=2)</summary><samp style='font-size: 12px;'><details><summary><b style=\"color: #e55471;\">Tensor</b>(shape=(<b style=\"color: #45ce3d;\">1</b>, <b style=\"color: #828fdd;\">2</b>), inds=[<b style=\"color: #d78e40;\">_a0909dAAABQ</b>, <b style=\"color: #b1dc61;\">k0</b>], tags={<b style=\"color: #74d649;\">0</b>, <b style=\"color: #45ce3d;\">1</b>, <b style=\"color: #828fdd;\">2</b>, <b style=\"color: #8a5bcf;\">3</b>, <b style=\"color: #80d749;\">4</b>, <b style=\"color: #7355d7;\">5</b>, <b style=\"color: #a4de79;\">6</b>, <b style=\"color: #d2b137;\">I0</b>}),</summary>backend=<b style=\"color: #7fdd73;\">numpy</b>, dtype=<b style=\"color: #75d2c6;\">float64</b>, data=array([[1., 0.]])</details></samp><samp style='font-size: 12px;'><details><summary><b style=\"color: #e55471;\">Tensor</b>(shape=(<b style=\"color: #45ce3d;\">1</b>, <b style=\"color: #45ce3d;\">1</b>, <b style=\"color: #828fdd;\">2</b>), inds=[<b style=\"color: #d78e40;\">_a0909dAAABQ</b>, <b style=\"color: #d1e296;\">_a0909dAAABR</b>, <b style=\"color: #8aa5db;\">k1</b>], tags={<b style=\"color: #74d649;\">0</b>, <b style=\"color: #45ce3d;\">1</b>, <b style=\"color: #828fdd;\">2</b>, <b style=\"color: #8a5bcf;\">3</b>, <b style=\"color: #80d749;\">4</b>, <b style=\"color: #7355d7;\">5</b>, <b style=\"color: #a4de79;\">6</b>, <b style=\"color: #d19b78;\">I1</b>}),</summary>backend=<b style=\"color: #7fdd73;\">numpy</b>, dtype=<b style=\"color: #75d2c6;\">float64</b>, data=array([[[1., 0.]]])</details></samp><samp style='font-size: 12px;'><details><summary><b style=\"color: #e55471;\">Tensor</b>(shape=(<b style=\"color: #45ce3d;\">1</b>, <b style=\"color: #45ce3d;\">1</b>, <b style=\"color: #828fdd;\">2</b>), inds=[<b style=\"color: #d1e296;\">_a0909dAAABR</b>, <b style=\"color: #34e24b;\">_a0909dAAABS</b>, <b style=\"color: #df546d;\">k2</b>], tags={<b style=\"color: #74d649;\">0</b>, <b style=\"color: #45ce3d;\">1</b>, <b style=\"color: #828fdd;\">2</b>, <b style=\"color: #8a5bcf;\">3</b>, <b style=\"color: #80d749;\">4</b>, <b style=\"color: #7355d7;\">5</b>, <b style=\"color: #a4de79;\">6</b>, <b style=\"color: #dd5dd7;\">I2</b>}),</summary>backend=<b style=\"color: #7fdd73;\">numpy</b>, dtype=<b style=\"color: #75d2c6;\">float64</b>, data=array([[[1., 0.]]])</details></samp><samp style='font-size: 12px;'><details><summary><b style=\"color: #e55471;\">Tensor</b>(shape=(<b style=\"color: #45ce3d;\">1</b>, <b style=\"color: #45ce3d;\">1</b>, <b style=\"color: #828fdd;\">2</b>), inds=[<b style=\"color: #34e24b;\">_a0909dAAABS</b>, <b style=\"color: #dedd7e;\">_a0909dAAABT</b>, <b style=\"color: #4c7be1;\">k3</b>], tags={<b style=\"color: #74d649;\">0</b>, <b style=\"color: #45ce3d;\">1</b>, <b style=\"color: #828fdd;\">2</b>, <b style=\"color: #8a5bcf;\">3</b>, <b style=\"color: #80d749;\">4</b>, <b style=\"color: #7355d7;\">5</b>, <b style=\"color: #a4de79;\">6</b>, <b style=\"color: #dd65d9;\">I3</b>}),</summary>backend=<b style=\"color: #7fdd73;\">numpy</b>, dtype=<b style=\"color: #75d2c6;\">float64</b>, data=array([[[1., 0.]]])</details></samp><samp style='font-size: 12px;'><details><summary><b style=\"color: #e55471;\">Tensor</b>(shape=(<b style=\"color: #45ce3d;\">1</b>, <b style=\"color: #45ce3d;\">1</b>, <b style=\"color: #828fdd;\">2</b>), inds=[<b style=\"color: #dedd7e;\">_a0909dAAABT</b>, <b style=\"color: #4ed26c;\">_a0909dAAABU</b>, <b style=\"color: #462edc;\">k4</b>], tags={<b style=\"color: #74d649;\">0</b>, <b style=\"color: #45ce3d;\">1</b>, <b style=\"color: #828fdd;\">2</b>, <b style=\"color: #8a5bcf;\">3</b>, <b style=\"color: #80d749;\">4</b>, <b style=\"color: #7355d7;\">5</b>, <b style=\"color: #a4de79;\">6</b>, <b style=\"color: #998ad1;\">I4</b>}),</summary>backend=<b style=\"color: #7fdd73;\">numpy</b>, dtype=<b style=\"color: #75d2c6;\">float64</b>, data=array([[[1., 0.]]])</details></samp><samp style='font-size: 12px;'><details><summary><b style=\"color: #e55471;\">Tensor</b>(shape=(<b style=\"color: #45ce3d;\">1</b>, <b style=\"color: #45ce3d;\">1</b>, <b style=\"color: #828fdd;\">2</b>), inds=[<b style=\"color: #4ed26c;\">_a0909dAAABU</b>, <b style=\"color: #40acd8;\">_a0909dAAABV</b>, <b style=\"color: #85dfdf;\">k5</b>], tags={<b style=\"color: #74d649;\">0</b>, <b style=\"color: #45ce3d;\">1</b>, <b style=\"color: #828fdd;\">2</b>, <b style=\"color: #8a5bcf;\">3</b>, <b style=\"color: #80d749;\">4</b>, <b style=\"color: #7355d7;\">5</b>, <b style=\"color: #a4de79;\">6</b>, <b style=\"color: #97dddc;\">I5</b>}),</summary>backend=<b style=\"color: #7fdd73;\">numpy</b>, dtype=<b style=\"color: #75d2c6;\">float64</b>, data=array([[[1., 0.]]])</details></samp><samp style='font-size: 12px;'><details><summary><b style=\"color: #e55471;\">Tensor</b>(shape=(<b style=\"color: #45ce3d;\">1</b>, <b style=\"color: #828fdd;\">2</b>), inds=[<b style=\"color: #40acd8;\">_a0909dAAABV</b>, <b style=\"color: #2cb7d3;\">k6</b>], tags={<b style=\"color: #74d649;\">0</b>, <b style=\"color: #45ce3d;\">1</b>, <b style=\"color: #828fdd;\">2</b>, <b style=\"color: #8a5bcf;\">3</b>, <b style=\"color: #80d749;\">4</b>, <b style=\"color: #7355d7;\">5</b>, <b style=\"color: #a4de79;\">6</b>, <b style=\"color: #b2de5f;\">I6</b>}),</summary>backend=<b style=\"color: #7fdd73;\">numpy</b>, dtype=<b style=\"color: #75d2c6;\">float64</b>, data=array([[1., 0.]])</details></samp></details></samp>"
      ],
      "text/plain": [
       "MatrixProductState(tensors=7, indices=13, L=7, max_bond=2)"
      ]
     },
     "execution_count": 40,
     "metadata": {},
     "output_type": "execute_result"
    }
   ],
   "source": [
    "qtn.MPS_computational_state(\n",
    "    \"0\" * len(wires), tags=[str(l) for l in wires.labels]\n",
    ")"
   ]
  },
  {
   "cell_type": "code",
   "execution_count": 41,
   "metadata": {},
   "outputs": [
    {
     "data": {
      "text/html": [
       "<samp style='font-size: 12px;'><details><summary><b style=\"color: #d75692;\">MatrixProductState</b>(tensors=9, indices=17, L=9, max_bond=6)</summary><samp style='font-size: 12px;'><details><summary><b style=\"color: #e55471;\">Tensor</b>(shape=(<b style=\"color: #a4de79;\">6</b>, <b style=\"color: #828fdd;\">2</b>), inds=[<b style=\"color: #a9e092;\">_a0909dAAABW</b>, <b style=\"color: #b1dc61;\">k0</b>], tags={<b style=\"color: #d2b137;\">I0</b>}),</summary>backend=<b style=\"color: #7fdd73;\">numpy</b>, dtype=<b style=\"color: #75d2c6;\">float64</b>, data=array([[0., 0.],\n",
       "       [0., 0.],\n",
       "       [0., 0.],\n",
       "       [0., 0.],\n",
       "       [0., 0.],\n",
       "       [0., 0.]])</details></samp><samp style='font-size: 12px;'><details><summary><b style=\"color: #e55471;\">Tensor</b>(shape=(<b style=\"color: #a4de79;\">6</b>, <b style=\"color: #a4de79;\">6</b>, <b style=\"color: #828fdd;\">2</b>), inds=[<b style=\"color: #a9e092;\">_a0909dAAABW</b>, <b style=\"color: #4fde49;\">_a0909dAAABX</b>, <b style=\"color: #8aa5db;\">k1</b>], tags={<b style=\"color: #d19b78;\">I1</b>}),</summary>backend=<b style=\"color: #7fdd73;\">numpy</b>, dtype=<b style=\"color: #75d2c6;\">float64</b>, data=array([[[0., 0.],\n",
       "        [0., 0.],\n",
       "        [0., 0.],\n",
       "        [0., 0.],\n",
       "        [0., 0.],\n",
       "        [0., 0.]],\n",
       "\n",
       "       [[0., 0.],\n",
       "        [0., 0.],\n",
       "        [0., 0.],\n",
       "        [0., 0.],\n",
       "        [0., 0.],\n",
       "        [0., 0.]],\n",
       "\n",
       "       [[0., 0.],\n",
       "        [0., 0.],\n",
       "        [0., 0.],\n",
       "        [0., 0.],\n",
       "        [0., 0.],\n",
       "        [0., 0.]],\n",
       "\n",
       "       [[0., 0.],\n",
       "        [0., 0.],\n",
       "        [0., 0.],\n",
       "        [0., 0.],\n",
       "        [0., 0.],\n",
       "        [0., 0.]],\n",
       "\n",
       "       [[0., 0.],\n",
       "        [0., 0.],\n",
       "        [0., 0.],\n",
       "        [0., 0.],\n",
       "        [0., 0.],\n",
       "        [0., 0.]],\n",
       "\n",
       "       [[0., 0.],\n",
       "        [0., 0.],\n",
       "        [0., 0.],\n",
       "        [0., 0.],\n",
       "        [0., 0.],\n",
       "        [0., 0.]]])</details></samp><samp style='font-size: 12px;'><details><summary><b style=\"color: #e55471;\">Tensor</b>(shape=(<b style=\"color: #a4de79;\">6</b>, <b style=\"color: #a4de79;\">6</b>, <b style=\"color: #828fdd;\">2</b>), inds=[<b style=\"color: #4fde49;\">_a0909dAAABX</b>, <b style=\"color: #8376db;\">_a0909dAAABY</b>, <b style=\"color: #df546d;\">k2</b>], tags={<b style=\"color: #dd5dd7;\">I2</b>}),</summary>backend=<b style=\"color: #7fdd73;\">numpy</b>, dtype=<b style=\"color: #75d2c6;\">float64</b>, data=array([[[0., 0.],\n",
       "        [0., 0.],\n",
       "        [0., 0.],\n",
       "        [0., 0.],\n",
       "        [0., 0.],\n",
       "        [0., 0.]],\n",
       "\n",
       "       [[0., 0.],\n",
       "        [0., 0.],\n",
       "        [0., 0.],\n",
       "        [0., 0.],\n",
       "        [0., 0.],\n",
       "        [0., 0.]],\n",
       "\n",
       "       [[0., 0.],\n",
       "        [0., 0.],\n",
       "        [0., 0.],\n",
       "        [0., 0.],\n",
       "        [0., 0.],\n",
       "        [0., 0.]],\n",
       "\n",
       "       [[0., 0.],\n",
       "        [0., 0.],\n",
       "        [0., 0.],\n",
       "        [0., 0.],\n",
       "        [0., 0.],\n",
       "        [0., 0.]],\n",
       "\n",
       "       [[0., 0.],\n",
       "        [0., 0.],\n",
       "        [0., 0.],\n",
       "        [0., 0.],\n",
       "        [0., 0.],\n",
       "        [0., 0.]],\n",
       "\n",
       "       [[0., 0.],\n",
       "        [0., 0.],\n",
       "        [0., 0.],\n",
       "        [0., 0.],\n",
       "        [0., 0.],\n",
       "        [0., 0.]]])</details></samp><samp style='font-size: 12px;'><details><summary><b style=\"color: #e55471;\">Tensor</b>(shape=(<b style=\"color: #a4de79;\">6</b>, <b style=\"color: #a4de79;\">6</b>, <b style=\"color: #828fdd;\">2</b>), inds=[<b style=\"color: #8376db;\">_a0909dAAABY</b>, <b style=\"color: #45d23b;\">_a0909dAAABZ</b>, <b style=\"color: #4c7be1;\">k3</b>], tags={<b style=\"color: #dd65d9;\">I3</b>}),</summary>backend=<b style=\"color: #7fdd73;\">numpy</b>, dtype=<b style=\"color: #75d2c6;\">float64</b>, data=array([[[0., 0.],\n",
       "        [0., 0.],\n",
       "        [0., 0.],\n",
       "        [0., 0.],\n",
       "        [0., 0.],\n",
       "        [0., 0.]],\n",
       "\n",
       "       [[0., 0.],\n",
       "        [0., 0.],\n",
       "        [0., 0.],\n",
       "        [0., 0.],\n",
       "        [0., 0.],\n",
       "        [0., 0.]],\n",
       "\n",
       "       [[0., 0.],\n",
       "        [0., 0.],\n",
       "        [0., 0.],\n",
       "        [0., 0.],\n",
       "        [0., 0.],\n",
       "        [0., 0.]],\n",
       "\n",
       "       [[0., 0.],\n",
       "        [0., 0.],\n",
       "        [0., 0.],\n",
       "        [0., 0.],\n",
       "        [0., 0.],\n",
       "        [0., 0.]],\n",
       "\n",
       "       [[0., 0.],\n",
       "        [0., 0.],\n",
       "        [0., 0.],\n",
       "        [0., 0.],\n",
       "        [0., 0.],\n",
       "        [0., 0.]],\n",
       "\n",
       "       [[0., 0.],\n",
       "        [0., 0.],\n",
       "        [0., 0.],\n",
       "        [0., 0.],\n",
       "        [0., 0.],\n",
       "        [0., 0.]]])</details></samp><samp style='font-size: 12px;'><details><summary><b style=\"color: #e55471;\">Tensor</b>(shape=(<b style=\"color: #a4de79;\">6</b>, <b style=\"color: #a4de79;\">6</b>, <b style=\"color: #828fdd;\">2</b>), inds=[<b style=\"color: #45d23b;\">_a0909dAAABZ</b>, <b style=\"color: #78c9d4;\">_a0909dAAABa</b>, <b style=\"color: #462edc;\">k4</b>], tags={<b style=\"color: #998ad1;\">I4</b>}),</summary>backend=<b style=\"color: #7fdd73;\">numpy</b>, dtype=<b style=\"color: #75d2c6;\">float64</b>, data=array([[[0., 0.],\n",
       "        [0., 0.],\n",
       "        [0., 0.],\n",
       "        [0., 0.],\n",
       "        [0., 0.],\n",
       "        [0., 0.]],\n",
       "\n",
       "       [[0., 0.],\n",
       "        [0., 0.],\n",
       "        [0., 0.],\n",
       "        [0., 0.],\n",
       "        [0., 0.],\n",
       "        [0., 0.]],\n",
       "\n",
       "       [[0., 0.],\n",
       "        [0., 0.],\n",
       "        [0., 0.],\n",
       "        [0., 0.],\n",
       "        [0., 0.],\n",
       "        [0., 0.]],\n",
       "\n",
       "       [[0., 0.],\n",
       "        [0., 0.],\n",
       "        [0., 0.],\n",
       "        [0., 0.],\n",
       "        [0., 0.],\n",
       "        [0., 0.]],\n",
       "\n",
       "       [[0., 0.],\n",
       "        [0., 0.],\n",
       "        [0., 0.],\n",
       "        [0., 0.],\n",
       "        [0., 0.],\n",
       "        [0., 0.]],\n",
       "\n",
       "       [[0., 0.],\n",
       "        [0., 0.],\n",
       "        [0., 0.],\n",
       "        [0., 0.],\n",
       "        [0., 0.],\n",
       "        [0., 0.]]])</details></samp><samp style='font-size: 12px;'><details><summary><b style=\"color: #e55471;\">Tensor</b>(shape=(<b style=\"color: #a4de79;\">6</b>, <b style=\"color: #a4de79;\">6</b>, <b style=\"color: #828fdd;\">2</b>), inds=[<b style=\"color: #78c9d4;\">_a0909dAAABa</b>, <b style=\"color: #95ddaf;\">_a0909dAAABb</b>, <b style=\"color: #85dfdf;\">k5</b>], tags={<b style=\"color: #97dddc;\">I5</b>}),</summary>backend=<b style=\"color: #7fdd73;\">numpy</b>, dtype=<b style=\"color: #75d2c6;\">float64</b>, data=array([[[0., 0.],\n",
       "        [0., 0.],\n",
       "        [0., 0.],\n",
       "        [0., 0.],\n",
       "        [0., 0.],\n",
       "        [0., 0.]],\n",
       "\n",
       "       [[0., 0.],\n",
       "        [0., 0.],\n",
       "        [0., 0.],\n",
       "        [0., 0.],\n",
       "        [0., 0.],\n",
       "        [0., 0.]],\n",
       "\n",
       "       [[0., 0.],\n",
       "        [0., 0.],\n",
       "        [0., 0.],\n",
       "        [0., 0.],\n",
       "        [0., 0.],\n",
       "        [0., 0.]],\n",
       "\n",
       "       [[0., 0.],\n",
       "        [0., 0.],\n",
       "        [0., 0.],\n",
       "        [0., 0.],\n",
       "        [0., 0.],\n",
       "        [0., 0.]],\n",
       "\n",
       "       [[0., 0.],\n",
       "        [0., 0.],\n",
       "        [0., 0.],\n",
       "        [0., 0.],\n",
       "        [0., 0.],\n",
       "        [0., 0.]],\n",
       "\n",
       "       [[0., 0.],\n",
       "        [0., 0.],\n",
       "        [0., 0.],\n",
       "        [0., 0.],\n",
       "        [0., 0.],\n",
       "        [0., 0.]]])</details></samp><samp style='font-size: 12px;'><details><summary><b style=\"color: #e55471;\">Tensor</b>(shape=(<b style=\"color: #a4de79;\">6</b>, <b style=\"color: #a4de79;\">6</b>, <b style=\"color: #828fdd;\">2</b>), inds=[<b style=\"color: #95ddaf;\">_a0909dAAABb</b>, <b style=\"color: #a292d9;\">_a0909dAAABc</b>, <b style=\"color: #2cb7d3;\">k6</b>], tags={<b style=\"color: #b2de5f;\">I6</b>}),</summary>backend=<b style=\"color: #7fdd73;\">numpy</b>, dtype=<b style=\"color: #75d2c6;\">float64</b>, data=array([[[0., 0.],\n",
       "        [0., 0.],\n",
       "        [0., 0.],\n",
       "        [0., 0.],\n",
       "        [0., 0.],\n",
       "        [0., 0.]],\n",
       "\n",
       "       [[0., 0.],\n",
       "        [0., 0.],\n",
       "        [0., 0.],\n",
       "        [0., 0.],\n",
       "        [0., 0.],\n",
       "        [0., 0.]],\n",
       "\n",
       "       [[0., 0.],\n",
       "        [0., 0.],\n",
       "        [0., 0.],\n",
       "        [0., 0.],\n",
       "        [0., 0.],\n",
       "        [0., 0.]],\n",
       "\n",
       "       [[0., 0.],\n",
       "        [0., 0.],\n",
       "        [0., 0.],\n",
       "        [0., 0.],\n",
       "        [0., 0.],\n",
       "        [0., 0.]],\n",
       "\n",
       "       [[0., 0.],\n",
       "        [0., 0.],\n",
       "        [0., 0.],\n",
       "        [0., 0.],\n",
       "        [0., 0.],\n",
       "        [0., 0.]],\n",
       "\n",
       "       [[0., 0.],\n",
       "        [0., 0.],\n",
       "        [0., 0.],\n",
       "        [0., 0.],\n",
       "        [0., 0.],\n",
       "        [0., 0.]]])</details></samp><samp style='font-size: 12px;'><details><summary><b style=\"color: #e55471;\">Tensor</b>(shape=(<b style=\"color: #a4de79;\">6</b>, <b style=\"color: #a4de79;\">6</b>, <b style=\"color: #828fdd;\">2</b>), inds=[<b style=\"color: #a292d9;\">_a0909dAAABc</b>, <b style=\"color: #8b5eda;\">_a0909dAAABd</b>, <b style=\"color: #53e08f;\">k7</b>], tags={<b style=\"color: #5582d6;\">I7</b>}),</summary>backend=<b style=\"color: #7fdd73;\">numpy</b>, dtype=<b style=\"color: #75d2c6;\">float64</b>, data=array([[[0., 0.],\n",
       "        [0., 0.],\n",
       "        [0., 0.],\n",
       "        [0., 0.],\n",
       "        [0., 0.],\n",
       "        [0., 0.]],\n",
       "\n",
       "       [[0., 0.],\n",
       "        [0., 0.],\n",
       "        [0., 0.],\n",
       "        [0., 0.],\n",
       "        [0., 0.],\n",
       "        [0., 0.]],\n",
       "\n",
       "       [[0., 0.],\n",
       "        [0., 0.],\n",
       "        [0., 0.],\n",
       "        [0., 0.],\n",
       "        [0., 0.],\n",
       "        [0., 0.]],\n",
       "\n",
       "       [[0., 0.],\n",
       "        [0., 0.],\n",
       "        [0., 0.],\n",
       "        [0., 0.],\n",
       "        [0., 0.],\n",
       "        [0., 0.]],\n",
       "\n",
       "       [[0., 0.],\n",
       "        [0., 0.],\n",
       "        [0., 0.],\n",
       "        [0., 0.],\n",
       "        [0., 0.],\n",
       "        [0., 0.]],\n",
       "\n",
       "       [[0., 0.],\n",
       "        [0., 0.],\n",
       "        [0., 0.],\n",
       "        [0., 0.],\n",
       "        [0., 0.],\n",
       "        [0., 0.]]])</details></samp><samp style='font-size: 12px;'><details><summary><b style=\"color: #e55471;\">Tensor</b>(shape=(<b style=\"color: #a4de79;\">6</b>, <b style=\"color: #828fdd;\">2</b>), inds=[<b style=\"color: #8b5eda;\">_a0909dAAABd</b>, <b style=\"color: #7bcd9f;\">k8</b>], tags={<b style=\"color: #8a3dd8;\">I8</b>}),</summary>backend=<b style=\"color: #7fdd73;\">numpy</b>, dtype=<b style=\"color: #75d2c6;\">float64</b>, data=array([[0., 0.],\n",
       "       [0., 0.],\n",
       "       [0., 0.],\n",
       "       [0., 0.],\n",
       "       [0., 0.],\n",
       "       [0., 0.]])</details></samp></details></samp>"
      ],
      "text/plain": [
       "MatrixProductState(tensors=9, indices=17, L=9, max_bond=6)"
      ]
     },
     "execution_count": 41,
     "metadata": {},
     "output_type": "execute_result"
    }
   ],
   "source": [
    "qtn.MPS_zero_state(bond_dim=6, L=9)"
   ]
  },
  {
   "cell_type": "code",
   "execution_count": 42,
   "metadata": {},
   "outputs": [
    {
     "data": {
      "text/html": [
       "<samp style='font-size: 12px;'><details><summary><b style=\"color: #d75692;\">MatrixProductState</b>(tensors=9, indices=17, L=9, max_bond=6)</summary><samp style='font-size: 12px;'><details><summary><b style=\"color: #e55471;\">Tensor</b>(shape=(<b style=\"color: #a4de79;\">6</b>, <b style=\"color: #828fdd;\">2</b>), inds=[<b style=\"color: #dc6b38;\">_a0909dAAABe</b>, <b style=\"color: #b1dc61;\">k0</b>], tags={<b style=\"color: #d2b137;\">I0</b>}),</summary>backend=<b style=\"color: #7fdd73;\">numpy</b>, dtype=<b style=\"color: #75d2c6;\">float64</b>, data=array([[-0.00121878,  0.33062696],\n",
       "       [-0.25521688,  0.45673744],\n",
       "       [ 0.05309342,  0.23280609],\n",
       "       [ 0.01559295, -0.78061979],\n",
       "       [-0.12635629,  0.40441224],\n",
       "       [-0.4048643 , -0.49877137]])</details></samp><samp style='font-size: 12px;'><details><summary><b style=\"color: #e55471;\">Tensor</b>(shape=(<b style=\"color: #a4de79;\">6</b>, <b style=\"color: #a4de79;\">6</b>, <b style=\"color: #828fdd;\">2</b>), inds=[<b style=\"color: #dc6b38;\">_a0909dAAABe</b>, <b style=\"color: #5157ce;\">_a0909dAAABf</b>, <b style=\"color: #8aa5db;\">k1</b>], tags={<b style=\"color: #d19b78;\">I1</b>}),</summary>backend=<b style=\"color: #7fdd73;\">numpy</b>, dtype=<b style=\"color: #75d2c6;\">float64</b>, data=array([[[ 0.26181259,  0.17424202],\n",
       "        [ 0.03089566,  0.35347522],\n",
       "        [ 0.27693857, -0.38557017],\n",
       "        [-0.24380058,  0.18833528],\n",
       "        [ 0.04253245,  0.02060567],\n",
       "        [ 0.37053879,  0.52844556]],\n",
       "\n",
       "       [[ 0.43301418, -0.48615434],\n",
       "        [-0.7059448 ,  0.28556497],\n",
       "        [ 0.19070824, -0.20774437],\n",
       "        [-0.11658619,  0.35404903],\n",
       "        [-0.13581234, -0.40813014],\n",
       "        [-0.13382113, -0.03487447]],\n",
       "\n",
       "       [[ 0.24052428,  0.3107903 ],\n",
       "        [-0.30095602, -0.14247548],\n",
       "        [-0.11336374,  0.27258143],\n",
       "        [ 0.1023306 ,  0.20089241],\n",
       "        [ 0.23543877,  0.16246182],\n",
       "        [ 0.3809951 ,  0.22820018]],\n",
       "\n",
       "       [[ 0.09325714, -0.26282419],\n",
       "        [ 0.26238812, -0.54286947],\n",
       "        [ 0.40368715,  0.08169687],\n",
       "        [-0.11556612, -0.03333481],\n",
       "        [ 0.36094996,  0.2039779 ],\n",
       "        [-0.28808266, -0.37816894]],\n",
       "\n",
       "       [[ 0.01920671, -0.01198492],\n",
       "        [-0.15612953,  0.48448585],\n",
       "        [-0.8352749 , -0.20352425],\n",
       "        [ 0.62749796, -0.11908584],\n",
       "        [ 0.33886976,  0.39810445],\n",
       "        [ 0.01510143,  0.36841273]],\n",
       "\n",
       "       [[ 0.56053537, -0.12250229],\n",
       "        [-0.17535562, -0.74912236],\n",
       "        [ 0.23795964,  0.754597  ],\n",
       "        [ 0.47989953, -0.11467663],\n",
       "        [-0.37195164,  0.68829181],\n",
       "        [ 0.00366921,  0.15189931]]])</details></samp><samp style='font-size: 12px;'><details><summary><b style=\"color: #e55471;\">Tensor</b>(shape=(<b style=\"color: #a4de79;\">6</b>, <b style=\"color: #a4de79;\">6</b>, <b style=\"color: #828fdd;\">2</b>), inds=[<b style=\"color: #5157ce;\">_a0909dAAABf</b>, <b style=\"color: #8fb6d8;\">_a0909dAAABg</b>, <b style=\"color: #df546d;\">k2</b>], tags={<b style=\"color: #dd5dd7;\">I2</b>}),</summary>backend=<b style=\"color: #7fdd73;\">numpy</b>, dtype=<b style=\"color: #75d2c6;\">float64</b>, data=array([[[ 0.14410541, -0.0846361 ],\n",
       "        [-0.01040323,  0.06569097],\n",
       "        [-0.49180515,  0.21849193],\n",
       "        [-0.21951348, -0.07698901],\n",
       "        [-0.23160363, -0.12206134],\n",
       "        [ 0.53493405, -0.31194187]],\n",
       "\n",
       "       [[-0.79895083, -0.30855729],\n",
       "        [ 0.01843418, -0.77178343],\n",
       "        [-0.56451298,  0.14718619],\n",
       "        [ 0.20116616,  0.25062667],\n",
       "        [-0.27102263,  0.25576489],\n",
       "        [-0.13777954,  0.18167883]],\n",
       "\n",
       "       [[ 0.43767351,  0.38773353],\n",
       "        [ 0.07513512,  0.12190165],\n",
       "        [-0.47729639, -0.01103869],\n",
       "        [-0.00419525,  0.26360379],\n",
       "        [ 0.13506021, -0.32581889],\n",
       "        [ 0.10688076, -0.24311665]],\n",
       "\n",
       "       [[ 0.05130743, -0.15448235],\n",
       "        [-0.28947545, -0.53235652],\n",
       "        [ 0.51389477, -0.20420884],\n",
       "        [-0.80029008,  0.72234829],\n",
       "        [-0.68084627, -0.52986773],\n",
       "        [-0.12104684,  0.47562694]],\n",
       "\n",
       "       [[ 0.28573877, -0.04186151],\n",
       "        [-0.26198842,  0.11600384],\n",
       "        [ 0.22051464,  0.34503386],\n",
       "        [-0.22515565, -0.77178487],\n",
       "        [ 0.24396704, -0.01102957],\n",
       "        [-0.45058989, -0.33314714]],\n",
       "\n",
       "       [[-0.26127796, -0.22170739],\n",
       "        [-0.23978355,  0.02891866],\n",
       "        [ 0.14858198,  0.32690472],\n",
       "        [-0.62634795,  0.03559872],\n",
       "        [-0.05493579, -0.55690312],\n",
       "        [ 0.32051481, -0.15521827]]])</details></samp><samp style='font-size: 12px;'><details><summary><b style=\"color: #e55471;\">Tensor</b>(shape=(<b style=\"color: #a4de79;\">6</b>, <b style=\"color: #a4de79;\">6</b>, <b style=\"color: #828fdd;\">2</b>), inds=[<b style=\"color: #8fb6d8;\">_a0909dAAABg</b>, <b style=\"color: #3991cf;\">_a0909dAAABh</b>, <b style=\"color: #4c7be1;\">k3</b>], tags={<b style=\"color: #dd65d9;\">I3</b>}),</summary>backend=<b style=\"color: #7fdd73;\">numpy</b>, dtype=<b style=\"color: #75d2c6;\">float64</b>, data=array([[[ 0.63020728,  0.02379872],\n",
       "        [ 0.36126145,  0.58904306],\n",
       "        [ 0.46460615,  0.40144775],\n",
       "        [-0.31673592, -0.16652806],\n",
       "        [ 0.59541792, -0.18273157],\n",
       "        [ 0.12146907, -0.39745557]],\n",
       "\n",
       "       [[-0.06506158,  0.23001808],\n",
       "        [ 0.07588347, -0.70030181],\n",
       "        [ 0.47925003,  0.25294681],\n",
       "        [ 0.03812328, -0.02560651],\n",
       "        [ 0.31670013,  0.00795092],\n",
       "        [ 0.44654709, -0.46348689]],\n",
       "\n",
       "       [[ 0.63630805,  0.03953647],\n",
       "        [ 0.40578835,  0.13755767],\n",
       "        [ 0.35334435, -0.05268813],\n",
       "        [-0.1319884 ,  0.70551894],\n",
       "        [ 0.31754219,  0.31985594],\n",
       "        [-0.00172766,  0.2933531 ]],\n",
       "\n",
       "       [[-0.35129832, -0.3791018 ],\n",
       "        [-0.05443296,  0.37419997],\n",
       "        [ 0.38787093, -0.40343075],\n",
       "        [ 0.00846671, -0.15635209],\n",
       "        [ 0.33376672,  0.39513781],\n",
       "        [ 0.34658196,  0.12869179]],\n",
       "\n",
       "       [[ 0.63846592, -0.10709247],\n",
       "        [ 0.34827924,  0.08647515],\n",
       "        [ 0.06934565, -0.21062434],\n",
       "        [ 0.27786181, -0.239942  ],\n",
       "        [-0.2095391 ,  0.09258344],\n",
       "        [ 0.55944191,  0.26544423]],\n",
       "\n",
       "       [[ 0.13673922, -0.1087191 ],\n",
       "        [ 0.26948411, -0.43224939],\n",
       "        [ 0.14708685, -0.49624247],\n",
       "        [ 0.16827144,  0.01027999],\n",
       "        [ 0.78562445, -0.21268567],\n",
       "        [-0.3233806 ,  0.41051454]]])</details></samp><samp style='font-size: 12px;'><details><summary><b style=\"color: #e55471;\">Tensor</b>(shape=(<b style=\"color: #a4de79;\">6</b>, <b style=\"color: #a4de79;\">6</b>, <b style=\"color: #828fdd;\">2</b>), inds=[<b style=\"color: #3991cf;\">_a0909dAAABh</b>, <b style=\"color: #ce74cb;\">_a0909dAAABi</b>, <b style=\"color: #462edc;\">k4</b>], tags={<b style=\"color: #998ad1;\">I4</b>}),</summary>backend=<b style=\"color: #7fdd73;\">numpy</b>, dtype=<b style=\"color: #75d2c6;\">float64</b>, data=array([[[ 0.06427369,  0.58030878],\n",
       "        [-0.16155619,  0.36628541],\n",
       "        [-0.06970534,  0.06800782],\n",
       "        [ 0.30225064,  0.35490373],\n",
       "        [ 0.29476055,  0.0946573 ],\n",
       "        [ 0.25948763,  0.20339411]],\n",
       "\n",
       "       [[ 0.35156391,  0.09013826],\n",
       "        [ 0.13740288,  0.12767542],\n",
       "        [ 0.58432766, -0.22755113],\n",
       "        [ 0.07078306,  0.12272698],\n",
       "        [-0.0166231 ,  0.00202281],\n",
       "        [ 0.53286138, -0.23328795]],\n",
       "\n",
       "       [[-0.09488188,  0.17059638],\n",
       "        [ 0.31211778, -0.91206581],\n",
       "        [ 0.00878126,  0.08397081],\n",
       "        [-0.59467247,  0.09390102],\n",
       "        [-0.65878139, -0.33635931],\n",
       "        [ 0.40422547,  0.00432947]],\n",
       "\n",
       "       [[ 0.14910656,  0.12232665],\n",
       "        [ 0.1978968 , -0.11228114],\n",
       "        [ 0.25150568,  0.50129764],\n",
       "        [-0.14830051,  0.0182004 ],\n",
       "        [ 0.06384046,  0.31423008],\n",
       "        [ 0.26805174,  0.31628708]],\n",
       "\n",
       "       [[ 0.21742159,  0.34091752],\n",
       "        [ 0.13021915, -0.23397388],\n",
       "        [ 0.06128888,  0.29727904],\n",
       "        [ 0.05603511, -0.30341735],\n",
       "        [ 0.22882661, -0.40083586],\n",
       "        [-0.68510821, -0.66743104]],\n",
       "\n",
       "       [[-0.25573552,  0.37004258],\n",
       "        [-0.1030179 , -0.35391251],\n",
       "        [-0.36564025, -0.26470319],\n",
       "        [-0.38986143, -0.15348285],\n",
       "        [-0.02334571,  0.3971767 ],\n",
       "        [ 0.64208009, -0.03779628]]])</details></samp><samp style='font-size: 12px;'><details><summary><b style=\"color: #e55471;\">Tensor</b>(shape=(<b style=\"color: #a4de79;\">6</b>, <b style=\"color: #a4de79;\">6</b>, <b style=\"color: #828fdd;\">2</b>), inds=[<b style=\"color: #ce74cb;\">_a0909dAAABi</b>, <b style=\"color: #6177de;\">_a0909dAAABj</b>, <b style=\"color: #85dfdf;\">k5</b>], tags={<b style=\"color: #97dddc;\">I5</b>}),</summary>backend=<b style=\"color: #7fdd73;\">numpy</b>, dtype=<b style=\"color: #75d2c6;\">float64</b>, data=array([[[ 0.49422995, -0.59553376],\n",
       "        [-0.07784013,  0.18886881],\n",
       "        [-0.08444655,  0.04075918],\n",
       "        [ 0.59738142, -0.18528462],\n",
       "        [ 0.2233137 , -0.32517328],\n",
       "        [-0.23289802, -0.30752313]],\n",
       "\n",
       "       [[-0.3737012 ,  0.43516585],\n",
       "        [-0.07033135,  0.16498393],\n",
       "        [-0.71432699, -0.24682895],\n",
       "        [ 0.13173522, -0.44496695],\n",
       "        [-0.13820741,  0.70351497],\n",
       "        [-0.13255298, -0.44506188]],\n",
       "\n",
       "       [[-0.5757197 ,  0.03704359],\n",
       "        [ 0.47191362,  0.01278213],\n",
       "        [-0.09380179, -0.17280843],\n",
       "        [-0.69458511, -0.2220803 ],\n",
       "        [ 0.71281568, -0.16808319],\n",
       "        [ 0.05738309,  0.02527606]],\n",
       "\n",
       "       [[ 0.14345562, -0.50978921],\n",
       "        [ 0.11638298, -0.28496161],\n",
       "        [ 0.04064448,  0.56969382],\n",
       "        [ 0.224241  ,  0.06480925],\n",
       "        [-0.15046678,  0.08302028],\n",
       "        [-0.62479618, -0.21675495]],\n",
       "\n",
       "       [[ 0.16872749,  0.0989668 ],\n",
       "        [ 0.20234367,  0.35469048],\n",
       "        [-0.23708936, -0.33294658],\n",
       "        [-0.09544818, -0.31837306],\n",
       "        [ 0.26621137,  0.21242926],\n",
       "        [-0.75453314, -0.04730936]],\n",
       "\n",
       "       [[-0.44304935, -0.36846494],\n",
       "        [-0.19402231, -0.27505397],\n",
       "        [-0.35443708,  0.02233833],\n",
       "        [ 0.44966065,  0.54544706],\n",
       "        [-0.13668564, -0.05252705],\n",
       "        [-0.1068507 ,  0.0532495 ]]])</details></samp><samp style='font-size: 12px;'><details><summary><b style=\"color: #e55471;\">Tensor</b>(shape=(<b style=\"color: #a4de79;\">6</b>, <b style=\"color: #a4de79;\">6</b>, <b style=\"color: #828fdd;\">2</b>), inds=[<b style=\"color: #6177de;\">_a0909dAAABj</b>, <b style=\"color: #8c7bdd;\">_a0909dAAABk</b>, <b style=\"color: #2cb7d3;\">k6</b>], tags={<b style=\"color: #b2de5f;\">I6</b>}),</summary>backend=<b style=\"color: #7fdd73;\">numpy</b>, dtype=<b style=\"color: #75d2c6;\">float64</b>, data=array([[[-0.05794658,  0.61233533],\n",
       "        [-0.16748337,  0.70634077],\n",
       "        [-0.35035878,  0.01662704],\n",
       "        [-0.14866543, -0.75406643],\n",
       "        [-0.27312134,  0.10715343],\n",
       "        [-0.14001236, -0.69510186]],\n",
       "\n",
       "       [[-0.07775432,  0.37920049],\n",
       "        [-0.18229634,  0.2490187 ],\n",
       "        [ 0.28159708,  0.28795074],\n",
       "        [-0.51479497,  0.43538902],\n",
       "        [ 0.13235868,  0.55106899],\n",
       "        [ 0.26300611,  0.64888565]],\n",
       "\n",
       "       [[-0.43169796, -0.08116569],\n",
       "        [-0.29107284, -0.11958639],\n",
       "        [-0.26163067, -0.62932706],\n",
       "        [-0.53531212, -0.20235499],\n",
       "        [-0.40996925,  0.34057348],\n",
       "        [ 0.03310945, -0.52157817]],\n",
       "\n",
       "       [[-0.07710337,  0.07189245],\n",
       "        [-0.2648217 , -0.35213134],\n",
       "        [-0.28039909, -0.04977782],\n",
       "        [ 0.31148374, -0.31515202],\n",
       "        [-0.0468244 , -0.20969371],\n",
       "        [-0.48964764, -0.0646076 ]],\n",
       "\n",
       "       [[-0.11319724,  0.40085025],\n",
       "        [-0.60680557, -0.79941616],\n",
       "        [-0.10412152, -0.21210827],\n",
       "        [ 0.21534972, -0.20962603],\n",
       "        [ 0.45427444, -0.42367204],\n",
       "        [ 0.29325513, -0.36120952]],\n",
       "\n",
       "       [[ 0.07900608, -0.24820814],\n",
       "        [ 0.06199174,  0.58289857],\n",
       "        [ 0.43018295,  0.01008696],\n",
       "        [-0.00603384, -0.39973781],\n",
       "        [-0.00618433, -0.02135353],\n",
       "        [ 0.1975702 , -0.09271735]]])</details></samp><samp style='font-size: 12px;'><details><summary><b style=\"color: #e55471;\">Tensor</b>(shape=(<b style=\"color: #a4de79;\">6</b>, <b style=\"color: #a4de79;\">6</b>, <b style=\"color: #828fdd;\">2</b>), inds=[<b style=\"color: #8c7bdd;\">_a0909dAAABk</b>, <b style=\"color: #457fda;\">_a0909dAAABl</b>, <b style=\"color: #53e08f;\">k7</b>], tags={<b style=\"color: #5582d6;\">I7</b>}),</summary>backend=<b style=\"color: #7fdd73;\">numpy</b>, dtype=<b style=\"color: #75d2c6;\">float64</b>, data=array([[[-0.00174328,  0.10882379],\n",
       "        [-0.2470064 , -0.30099117],\n",
       "        [ 0.04942096, -0.13007472],\n",
       "        [ 0.29363913, -0.31387942],\n",
       "        [-0.39893114,  0.33086709],\n",
       "        [-0.44319605, -0.54768748]],\n",
       "\n",
       "       [[ 0.08939427, -0.045834  ],\n",
       "        [ 0.06590579, -0.50369877],\n",
       "        [ 0.07656709,  0.31992162],\n",
       "        [-0.361549  ,  0.36288169],\n",
       "        [ 0.37909784, -0.00912057],\n",
       "        [-0.1866532 ,  0.03271589]],\n",
       "\n",
       "       [[ 0.12670533, -0.02649844],\n",
       "        [-0.09088354,  0.26439475],\n",
       "        [ 0.28543402, -0.26767046],\n",
       "        [ 0.32288332,  0.81187041],\n",
       "        [-0.48010832,  0.2470933 ],\n",
       "        [ 0.28821347, -0.2597211 ]],\n",
       "\n",
       "       [[-0.01273645,  0.27218188],\n",
       "        [ 0.05865008,  0.05046563],\n",
       "        [ 0.33863647,  0.19666549],\n",
       "        [ 0.11559299, -0.23585392],\n",
       "        [-0.39017303,  0.27684959],\n",
       "        [ 0.35459168, -0.72954499]],\n",
       "\n",
       "       [[ 0.02659879, -0.76165472],\n",
       "        [-0.11345173,  0.69059324],\n",
       "        [-0.04261733, -0.10854486],\n",
       "        [-0.05067531,  0.24322838],\n",
       "        [-0.10101328, -0.48368005],\n",
       "        [ 0.51045937,  1.11809553]],\n",
       "\n",
       "       [[ 0.28627063,  0.16067227],\n",
       "        [ 0.2748573 , -0.18666976],\n",
       "        [ 0.74058347, -0.1044475 ],\n",
       "        [-0.37811914, -0.2540609 ],\n",
       "        [ 0.08452093,  0.61044022],\n",
       "        [-0.02910389, -0.23702342]]])</details></samp><samp style='font-size: 12px;'><details><summary><b style=\"color: #e55471;\">Tensor</b>(shape=(<b style=\"color: #a4de79;\">6</b>, <b style=\"color: #828fdd;\">2</b>), inds=[<b style=\"color: #457fda;\">_a0909dAAABl</b>, <b style=\"color: #7bcd9f;\">k8</b>], tags={<b style=\"color: #8a3dd8;\">I8</b>}),</summary>backend=<b style=\"color: #7fdd73;\">numpy</b>, dtype=<b style=\"color: #75d2c6;\">float64</b>, data=array([[ 0.46804874, -0.07237077],\n",
       "       [ 0.21603732, -0.32732455],\n",
       "       [-0.17465437,  0.07274177],\n",
       "       [-0.062077  , -0.16359679],\n",
       "       [-0.24575931, -0.20583094],\n",
       "       [ 0.01925785, -0.1413657 ]])</details></samp></details></samp>"
      ],
      "text/plain": [
       "MatrixProductState(tensors=9, indices=17, L=9, max_bond=6)"
      ]
     },
     "execution_count": 42,
     "metadata": {},
     "output_type": "execute_result"
    }
   ],
   "source": [
    "qtn.MPS_rand_state(L=9, bond_dim=6)"
   ]
  },
  {
   "cell_type": "code",
   "execution_count": null,
   "metadata": {},
   "outputs": [],
   "source": []
  }
 ],
 "metadata": {
  "kernelspec": {
   "display_name": "PennyLane",
   "language": "python",
   "name": "python3"
  },
  "language_info": {
   "codemirror_mode": {
    "name": "ipython",
    "version": 3
   },
   "file_extension": ".py",
   "mimetype": "text/x-python",
   "name": "python",
   "nbconvert_exporter": "python",
   "pygments_lexer": "ipython3",
   "version": "3.9.7"
  }
 },
 "nbformat": 4,
 "nbformat_minor": 2
}
