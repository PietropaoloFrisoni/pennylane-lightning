{
 "cells": [
  {
   "cell_type": "markdown",
   "metadata": {},
   "source": [
    "# Understanding the execution flow from `LightningQubit`"
   ]
  },
  {
   "cell_type": "code",
   "execution_count": 1,
   "metadata": {},
   "outputs": [
    {
     "name": "stderr",
     "output_type": "stream",
     "text": [
      "/home/pietropaolo.frisoni/anaconda3/envs/PennyLane/lib/python3.9/site-packages/cotengra/hyperoptimizers/hyper.py:34: UserWarning: Couldn't import `kahypar` - skipping from default hyper optimizer and using basic `labels` method instead.\n",
      "  warnings.warn(\n"
     ]
    }
   ],
   "source": [
    "from typing import Iterable, Union\n",
    "import quimb.tensor as qtn\n",
    "import pennylane as qml\n",
    "from pennylane.wires import Wires\n",
    "import numpy as np"
   ]
  },
  {
   "cell_type": "markdown",
   "metadata": {},
   "source": [
    "## Approach 1: choosing a tape"
   ]
  },
  {
   "cell_type": "code",
   "execution_count": 2,
   "metadata": {},
   "outputs": [],
   "source": [
    "theta = 0.1\n",
    "phi = 0.2\n",
    "\n",
    "O1 = qml.Identity(wires=[0])\n",
    "O2 = qml.PauliZ(wires=[1])\n",
    "\n",
    "ops = [\n",
    "    qml.PauliX(wires=[0]),\n",
    "    qml.RX(theta, wires=[0]),\n",
    "    qml.RX(phi, wires=[1]),\n",
    "    qml.CNOT(wires=[3, 4]),\n",
    "    qml.DoubleExcitation(phi, wires=[1, 2, 3, 4]),\n",
    "    qml.qml.CSWAP(wires=[0, 1, 2]),\n",
    "    qml.Hadamard(wires=[4]),\n",
    "    qml.qml.CSWAP(wires=[2, 3, 4]),\n",
    "    qml.CNOT(wires=[2, 4]),\n",
    "    qml.DoubleExcitation(phi, wires=[0, 1, 3, 4]),\n",
    "]\n",
    "\n",
    "meas = [\n",
    "    qml.expval(O2),\n",
    "    qml.expval(O2),\n",
    "    qml.var(qml.PauliY(wires=[2])),\n",
    "    qml.expval(O1),\n",
    "    qml.var(qml.PauliY(wires=[4])),\n",
    "]\n",
    "\n",
    "\n",
    "tape = qml.tape.QuantumScript(ops=ops, measurements=meas)"
   ]
  },
  {
   "cell_type": "code",
   "execution_count": 3,
   "metadata": {},
   "outputs": [],
   "source": [
    "op = qml.qml.CSWAP(wires=[0, 1, 2])"
   ]
  },
  {
   "cell_type": "code",
   "execution_count": 4,
   "metadata": {},
   "outputs": [
    {
     "data": {
      "text/plain": [
       "[X(0),\n",
       " RX(0.1, wires=[0]),\n",
       " RX(0.2, wires=[1]),\n",
       " CNOT(wires=[3, 4]),\n",
       " DoubleExcitation(0.2, wires=[1, 2, 3, 4]),\n",
       " CSWAP(wires=[0, 1, 2]),\n",
       " Hadamard(wires=[4]),\n",
       " CSWAP(wires=[2, 3, 4]),\n",
       " CNOT(wires=[2, 4]),\n",
       " DoubleExcitation(0.2, wires=[0, 1, 3, 4])]"
      ]
     },
     "execution_count": 4,
     "metadata": {},
     "output_type": "execute_result"
    }
   ],
   "source": [
    "tape.operations"
   ]
  },
  {
   "cell_type": "code",
   "execution_count": 5,
   "metadata": {},
   "outputs": [
    {
     "data": {
      "text/plain": [
       "[Z(1), Z(1), Y(2), I(0), Y(4)]"
      ]
     },
     "execution_count": 5,
     "metadata": {},
     "output_type": "execute_result"
    }
   ],
   "source": [
    "tape.observables"
   ]
  },
  {
   "cell_type": "code",
   "execution_count": 6,
   "metadata": {},
   "outputs": [
    {
     "data": {
      "text/plain": [
       "[expval(Z(1)), expval(Z(1)), var(Y(2)), expval(I(0)), var(Y(4))]"
      ]
     },
     "execution_count": 6,
     "metadata": {},
     "output_type": "execute_result"
    }
   ],
   "source": [
    "tape.measurements"
   ]
  },
  {
   "cell_type": "code",
   "execution_count": 7,
   "metadata": {},
   "outputs": [
    {
     "data": {
      "text/plain": [
       "<Wires = [0, 1, 3, 4, 2]>"
      ]
     },
     "execution_count": 7,
     "metadata": {},
     "output_type": "execute_result"
    }
   ],
   "source": [
    "tape.wires"
   ]
  },
  {
   "cell_type": "markdown",
   "metadata": {},
   "source": [
    "## Approach 2: choosing a circuit"
   ]
  },
  {
   "cell_type": "code",
   "execution_count": 8,
   "metadata": {},
   "outputs": [
    {
     "name": "stdout",
     "output_type": "stream",
     "text": [
      "Frisus log: supports_derivatives called with:\n",
      "execution_config=ExecutionConfig(grad_on_execution=None, use_device_gradient=None, use_device_jacobian_product=False, gradient_method='best', gradient_keyword_arguments={}, device_options={}, interface=None, derivative_order=1)\n",
      "circuit=None\n",
      "\n"
     ]
    }
   ],
   "source": [
    "from functools import partial\n",
    "import pennylane as qml\n",
    "import matplotlib.pyplot as plt\n",
    "from pennylane.tape import QuantumScript, QuantumTape\n",
    "\n",
    "dev = qml.device(\"lightning.qubit\", wires=4)\n",
    "\n",
    "\n",
    "@qml.qnode(dev)\n",
    "def circuit(angles):\n",
    "    qml.Hadamard(wires=1)\n",
    "    qml.Hadamard(wires=2)\n",
    "    qml.RX(angles[0], 0)\n",
    "    qml.CNOT(wires=[1, 0])\n",
    "    qml.CNOT(wires=[2, 1])\n",
    "    qml.RX(angles[2], wires=0)\n",
    "    qml.RZ(angles[1], wires=2)\n",
    "    qml.CNOT(wires=[2, 1])\n",
    "    qml.RZ(-angles[1], wires=2)\n",
    "    qml.CNOT(wires=[1, 0])\n",
    "    qml.Hadamard(wires=1)\n",
    "    qml.CY(wires=[1, 2])\n",
    "    qml.CNOT(wires=[1, 0])\n",
    "    return qml.expval(qml.PauliZ(wires=0))\n",
    "\n",
    "\n",
    "angles = [0.1, 0.3, 0.5]\n",
    "# qnode = qml.QNode(circuit, dev)\n",
    "# qml.draw_mpl(qnode, decimals=1, style=\"sketch\")(angles)\n",
    "# plt.show()"
   ]
  },
  {
   "cell_type": "code",
   "execution_count": 9,
   "metadata": {},
   "outputs": [
    {
     "name": "stdout",
     "output_type": "stream",
     "text": [
      "Frisus log: supports_derivatives called with:\n",
      "execution_config=ExecutionConfig(grad_on_execution=None, use_device_gradient=None, use_device_jacobian_product=False, gradient_method='best', gradient_keyword_arguments={}, device_options={}, interface=None, derivative_order=1)\n",
      "circuit=<QuantumScript: wires=[1, 2, 0], params=0>\n",
      "\n",
      "Frisus log: execute_and_compute_derivatives called with:\n",
      "execution_config=ExecutionConfig(grad_on_execution=True, use_device_gradient=True, use_device_jacobian_product=False, gradient_method='adjoint', gradient_keyword_arguments={}, device_options={'rng': Generator(PCG64) at 0x7F129B813AC0, 'c_dtype': <class 'numpy.complex128'>, 'batch_obs': False, 'mcmc': False, 'kernel_name': None, 'num_burnin': 0}, interface='autograd', derivative_order=1)\n",
      "circuits=(<QuantumScript: wires=[1, 2, 0], params=0>,)\n",
      "\n"
     ]
    },
    {
     "data": {
      "text/plain": [
       "0.8253356149096776"
      ]
     },
     "execution_count": 9,
     "metadata": {},
     "output_type": "execute_result"
    }
   ],
   "source": [
    "circuit(angles=angles)"
   ]
  },
  {
   "cell_type": "code",
   "execution_count": 10,
   "metadata": {},
   "outputs": [
    {
     "data": {
      "text/plain": [
       "(TransformProgram(validate_measurements, validate_observables, validate_device_wires, mid_circuit_measurements, decompose, broadcast_expand),\n",
       " ExecutionConfig(grad_on_execution=True, use_device_gradient=False, use_device_jacobian_product=None, gradient_method=None, gradient_keyword_arguments={}, device_options={'rng': Generator(PCG64) at 0x7F129B813AC0, 'c_dtype': <class 'numpy.complex128'>, 'batch_obs': False, 'mcmc': False, 'kernel_name': None, 'num_burnin': 0}, interface=None, derivative_order=1))"
      ]
     },
     "execution_count": 10,
     "metadata": {},
     "output_type": "execute_result"
    }
   ],
   "source": [
    "dev.preprocess()"
   ]
  },
  {
   "cell_type": "code",
   "execution_count": 11,
   "metadata": {},
   "outputs": [
    {
     "name": "stdout",
     "output_type": "stream",
     "text": [
      "Frisus log: execute called with:\n",
      "execution_config=ExecutionConfig(grad_on_execution=None, use_device_gradient=None, use_device_jacobian_product=None, gradient_method=None, gradient_keyword_arguments={}, device_options={}, interface=None, derivative_order=1)\n",
      "circuits=(<QuantumScript: wires=[0, 1, 3, 4, 2], params=4>,)\n",
      "\n"
     ]
    },
    {
     "data": {
      "text/plain": [
       "(0.9974771866183758,\n",
       " 0.9974771866183758,\n",
       " 0.9582544125010706,\n",
       " 0.9975269786596501,\n",
       " 0.0024669055058000877)"
      ]
     },
     "execution_count": 11,
     "metadata": {},
     "output_type": "execute_result"
    }
   ],
   "source": [
    "dev.execute(circuits=tape)"
   ]
  },
  {
   "cell_type": "code",
   "execution_count": null,
   "metadata": {},
   "outputs": [],
   "source": []
  },
  {
   "cell_type": "code",
   "execution_count": null,
   "metadata": {},
   "outputs": [],
   "source": []
  },
  {
   "cell_type": "markdown",
   "metadata": {},
   "source": [
    "## Learning from `LightningQubit` using Python API"
   ]
  },
  {
   "cell_type": "code",
   "execution_count": 12,
   "metadata": {},
   "outputs": [],
   "source": [
    "from pennylane_lightning.lightning_qubit import LightningQubit"
   ]
  },
  {
   "cell_type": "code",
   "execution_count": 13,
   "metadata": {},
   "outputs": [],
   "source": [
    "obj = LightningQubit(wires=tape.wires)"
   ]
  },
  {
   "cell_type": "code",
   "execution_count": 14,
   "metadata": {},
   "outputs": [
    {
     "data": {
      "text/plain": [
       "<pennylane.tracker.Tracker at 0x7f129b8b4e20>"
      ]
     },
     "execution_count": 14,
     "metadata": {},
     "output_type": "execute_result"
    }
   ],
   "source": [
    "obj.tracker"
   ]
  },
  {
   "cell_type": "code",
   "execution_count": 15,
   "metadata": {},
   "outputs": [
    {
     "name": "stdout",
     "output_type": "stream",
     "text": [
      "Frisus log: execute called with:\n",
      "execution_config=ExecutionConfig(grad_on_execution=None, use_device_gradient=None, use_device_jacobian_product=None, gradient_method=None, gradient_keyword_arguments={}, device_options={}, interface=None, derivative_order=1)\n",
      "circuits=(<QuantumScript: wires=[0, 1, 3, 4, 2], params=4>,)\n",
      "\n"
     ]
    },
    {
     "data": {
      "text/plain": [
       "(0.9999502079587257, 0.9999502079587257, 0.9901818584603551, 1.0, 1.0)"
      ]
     },
     "execution_count": 15,
     "metadata": {},
     "output_type": "execute_result"
    }
   ],
   "source": [
    "obj.execute(tape)"
   ]
  },
  {
   "cell_type": "code",
   "execution_count": null,
   "metadata": {},
   "outputs": [],
   "source": []
  },
  {
   "cell_type": "code",
   "execution_count": null,
   "metadata": {},
   "outputs": [],
   "source": []
  },
  {
   "cell_type": "markdown",
   "metadata": {},
   "source": [
    "## Testing `LightningTensor` "
   ]
  },
  {
   "cell_type": "code",
   "execution_count": 16,
   "metadata": {},
   "outputs": [],
   "source": [
    "wires = tape.wires\n",
    "backend = \"quimb\"\n",
    "method = \"mps\"\n",
    "c_dtype = np.complex128\n",
    "max_bond_dim = None\n",
    "cutoff = 0.0"
   ]
  },
  {
   "cell_type": "code",
   "execution_count": 17,
   "metadata": {},
   "outputs": [],
   "source": [
    "from pennylane_lightning.lightning_tensor import LightningTensor"
   ]
  },
  {
   "cell_type": "code",
   "execution_count": 18,
   "metadata": {},
   "outputs": [],
   "source": [
    "obj = LightningTensor(\n",
    "    wires=wires,\n",
    "    backend=backend,\n",
    "    method=method,\n",
    "    c_dtype=c_dtype,\n",
    "    max_bond_dim=max_bond_dim,\n",
    "    cutoff=cutoff,\n",
    ")"
   ]
  },
  {
   "cell_type": "code",
   "execution_count": 19,
   "metadata": {},
   "outputs": [
    {
     "data": {
      "text/html": [
       "<samp style='font-size: 12px;'><details><summary><b style=\"color: #d75692;\">MatrixProductState</b>(tensors=5, indices=9, L=5, max_bond=2)</summary><samp style='font-size: 12px;'><details><summary><b style=\"color: #e55471;\">Tensor</b>(shape=(<b style=\"color: #45ce3d;\">1</b>, <b style=\"color: #828fdd;\">2</b>), inds=[<b style=\"color: #d583d7;\">_7a5ad1AAAAA</b>, <b style=\"color: #b1dc61;\">k0</b>], tags={<b style=\"color: #74d649;\">0</b>, <b style=\"color: #45ce3d;\">1</b>, <b style=\"color: #828fdd;\">2</b>, <b style=\"color: #8a5bcf;\">3</b>, <b style=\"color: #80d749;\">4</b>, <b style=\"color: #d2b137;\">I0</b>, <b style=\"color: #d3b991;\">PSI0</b>}),</summary>backend=<b style=\"color: #7fdd73;\">numpy</b>, dtype=<b style=\"color: #443ce1;\">complex128</b>, data=array([[1.+0.j, 0.+0.j]])</details></samp><samp style='font-size: 12px;'><details><summary><b style=\"color: #e55471;\">Tensor</b>(shape=(<b style=\"color: #45ce3d;\">1</b>, <b style=\"color: #45ce3d;\">1</b>, <b style=\"color: #828fdd;\">2</b>), inds=[<b style=\"color: #d583d7;\">_7a5ad1AAAAA</b>, <b style=\"color: #49cbce;\">_7a5ad1AAAAB</b>, <b style=\"color: #8aa5db;\">k1</b>], tags={<b style=\"color: #74d649;\">0</b>, <b style=\"color: #45ce3d;\">1</b>, <b style=\"color: #828fdd;\">2</b>, <b style=\"color: #8a5bcf;\">3</b>, <b style=\"color: #80d749;\">4</b>, <b style=\"color: #d19b78;\">I1</b>, <b style=\"color: #d3b991;\">PSI0</b>}),</summary>backend=<b style=\"color: #7fdd73;\">numpy</b>, dtype=<b style=\"color: #443ce1;\">complex128</b>, data=array([[[1.+0.j, 0.+0.j]]])</details></samp><samp style='font-size: 12px;'><details><summary><b style=\"color: #e55471;\">Tensor</b>(shape=(<b style=\"color: #45ce3d;\">1</b>, <b style=\"color: #45ce3d;\">1</b>, <b style=\"color: #828fdd;\">2</b>), inds=[<b style=\"color: #49cbce;\">_7a5ad1AAAAB</b>, <b style=\"color: #92dfc2;\">_7a5ad1AAAAC</b>, <b style=\"color: #df546d;\">k2</b>], tags={<b style=\"color: #74d649;\">0</b>, <b style=\"color: #45ce3d;\">1</b>, <b style=\"color: #828fdd;\">2</b>, <b style=\"color: #8a5bcf;\">3</b>, <b style=\"color: #80d749;\">4</b>, <b style=\"color: #dd5dd7;\">I2</b>, <b style=\"color: #d3b991;\">PSI0</b>}),</summary>backend=<b style=\"color: #7fdd73;\">numpy</b>, dtype=<b style=\"color: #443ce1;\">complex128</b>, data=array([[[1.+0.j, 0.+0.j]]])</details></samp><samp style='font-size: 12px;'><details><summary><b style=\"color: #e55471;\">Tensor</b>(shape=(<b style=\"color: #45ce3d;\">1</b>, <b style=\"color: #45ce3d;\">1</b>, <b style=\"color: #828fdd;\">2</b>), inds=[<b style=\"color: #92dfc2;\">_7a5ad1AAAAC</b>, <b style=\"color: #75de8e;\">_7a5ad1AAAAD</b>, <b style=\"color: #4c7be1;\">k3</b>], tags={<b style=\"color: #74d649;\">0</b>, <b style=\"color: #45ce3d;\">1</b>, <b style=\"color: #828fdd;\">2</b>, <b style=\"color: #8a5bcf;\">3</b>, <b style=\"color: #80d749;\">4</b>, <b style=\"color: #dd65d9;\">I3</b>, <b style=\"color: #d3b991;\">PSI0</b>}),</summary>backend=<b style=\"color: #7fdd73;\">numpy</b>, dtype=<b style=\"color: #443ce1;\">complex128</b>, data=array([[[1.+0.j, 0.+0.j]]])</details></samp><samp style='font-size: 12px;'><details><summary><b style=\"color: #e55471;\">Tensor</b>(shape=(<b style=\"color: #45ce3d;\">1</b>, <b style=\"color: #828fdd;\">2</b>), inds=[<b style=\"color: #75de8e;\">_7a5ad1AAAAD</b>, <b style=\"color: #462edc;\">k4</b>], tags={<b style=\"color: #74d649;\">0</b>, <b style=\"color: #45ce3d;\">1</b>, <b style=\"color: #828fdd;\">2</b>, <b style=\"color: #8a5bcf;\">3</b>, <b style=\"color: #80d749;\">4</b>, <b style=\"color: #998ad1;\">I4</b>, <b style=\"color: #d3b991;\">PSI0</b>}),</summary>backend=<b style=\"color: #7fdd73;\">numpy</b>, dtype=<b style=\"color: #443ce1;\">complex128</b>, data=array([[1.+0.j, 0.+0.j]])</details></samp></details></samp>"
      ],
      "text/plain": [
       "MatrixProductState(tensors=5, indices=9, L=5, max_bond=2)"
      ]
     },
     "execution_count": 19,
     "metadata": {},
     "output_type": "execute_result"
    }
   ],
   "source": [
    "obj._interface.state"
   ]
  },
  {
   "cell_type": "code",
   "execution_count": 20,
   "metadata": {},
   "outputs": [
    {
     "data": {
      "text/html": [
       "<samp style='font-size: 12px;'><details><summary><b style=\"color: #d75692;\">MatrixProductState</b>(tensors=5, indices=9, L=5, max_bond=2)</summary><samp style='font-size: 12px;'><details><summary><b style=\"color: #e55471;\">Tensor</b>(shape=(<b style=\"color: #45ce3d;\">1</b>, <b style=\"color: #828fdd;\">2</b>), inds=[<b style=\"color: #d583d7;\">_7a5ad1AAAAA</b>, <b style=\"color: #b1dc61;\">k0</b>], tags={<b style=\"color: #74d649;\">0</b>, <b style=\"color: #45ce3d;\">1</b>, <b style=\"color: #828fdd;\">2</b>, <b style=\"color: #8a5bcf;\">3</b>, <b style=\"color: #80d749;\">4</b>, <b style=\"color: #d2b137;\">I0</b>, <b style=\"color: #d3b991;\">PSI0</b>}),</summary>backend=<b style=\"color: #7fdd73;\">numpy</b>, dtype=<b style=\"color: #443ce1;\">complex128</b>, data=array([[1.+0.j, 0.+0.j]])</details></samp><samp style='font-size: 12px;'><details><summary><b style=\"color: #e55471;\">Tensor</b>(shape=(<b style=\"color: #45ce3d;\">1</b>, <b style=\"color: #45ce3d;\">1</b>, <b style=\"color: #828fdd;\">2</b>), inds=[<b style=\"color: #d583d7;\">_7a5ad1AAAAA</b>, <b style=\"color: #49cbce;\">_7a5ad1AAAAB</b>, <b style=\"color: #8aa5db;\">k1</b>], tags={<b style=\"color: #74d649;\">0</b>, <b style=\"color: #45ce3d;\">1</b>, <b style=\"color: #828fdd;\">2</b>, <b style=\"color: #8a5bcf;\">3</b>, <b style=\"color: #80d749;\">4</b>, <b style=\"color: #d19b78;\">I1</b>, <b style=\"color: #d3b991;\">PSI0</b>}),</summary>backend=<b style=\"color: #7fdd73;\">numpy</b>, dtype=<b style=\"color: #443ce1;\">complex128</b>, data=array([[[1.+0.j, 0.+0.j]]])</details></samp><samp style='font-size: 12px;'><details><summary><b style=\"color: #e55471;\">Tensor</b>(shape=(<b style=\"color: #45ce3d;\">1</b>, <b style=\"color: #45ce3d;\">1</b>, <b style=\"color: #828fdd;\">2</b>), inds=[<b style=\"color: #49cbce;\">_7a5ad1AAAAB</b>, <b style=\"color: #92dfc2;\">_7a5ad1AAAAC</b>, <b style=\"color: #df546d;\">k2</b>], tags={<b style=\"color: #74d649;\">0</b>, <b style=\"color: #45ce3d;\">1</b>, <b style=\"color: #828fdd;\">2</b>, <b style=\"color: #8a5bcf;\">3</b>, <b style=\"color: #80d749;\">4</b>, <b style=\"color: #dd5dd7;\">I2</b>, <b style=\"color: #d3b991;\">PSI0</b>}),</summary>backend=<b style=\"color: #7fdd73;\">numpy</b>, dtype=<b style=\"color: #443ce1;\">complex128</b>, data=array([[[1.+0.j, 0.+0.j]]])</details></samp><samp style='font-size: 12px;'><details><summary><b style=\"color: #e55471;\">Tensor</b>(shape=(<b style=\"color: #45ce3d;\">1</b>, <b style=\"color: #45ce3d;\">1</b>, <b style=\"color: #828fdd;\">2</b>), inds=[<b style=\"color: #92dfc2;\">_7a5ad1AAAAC</b>, <b style=\"color: #75de8e;\">_7a5ad1AAAAD</b>, <b style=\"color: #4c7be1;\">k3</b>], tags={<b style=\"color: #74d649;\">0</b>, <b style=\"color: #45ce3d;\">1</b>, <b style=\"color: #828fdd;\">2</b>, <b style=\"color: #8a5bcf;\">3</b>, <b style=\"color: #80d749;\">4</b>, <b style=\"color: #dd65d9;\">I3</b>, <b style=\"color: #d3b991;\">PSI0</b>}),</summary>backend=<b style=\"color: #7fdd73;\">numpy</b>, dtype=<b style=\"color: #443ce1;\">complex128</b>, data=array([[[1.+0.j, 0.+0.j]]])</details></samp><samp style='font-size: 12px;'><details><summary><b style=\"color: #e55471;\">Tensor</b>(shape=(<b style=\"color: #45ce3d;\">1</b>, <b style=\"color: #828fdd;\">2</b>), inds=[<b style=\"color: #75de8e;\">_7a5ad1AAAAD</b>, <b style=\"color: #462edc;\">k4</b>], tags={<b style=\"color: #74d649;\">0</b>, <b style=\"color: #45ce3d;\">1</b>, <b style=\"color: #828fdd;\">2</b>, <b style=\"color: #8a5bcf;\">3</b>, <b style=\"color: #80d749;\">4</b>, <b style=\"color: #998ad1;\">I4</b>, <b style=\"color: #d3b991;\">PSI0</b>}),</summary>backend=<b style=\"color: #7fdd73;\">numpy</b>, dtype=<b style=\"color: #443ce1;\">complex128</b>, data=array([[1.+0.j, 0.+0.j]])</details></samp></details></samp>"
      ],
      "text/plain": [
       "MatrixProductState(tensors=5, indices=9, L=5, max_bond=2)"
      ]
     },
     "execution_count": 20,
     "metadata": {},
     "output_type": "execute_result"
    }
   ],
   "source": [
    "obj._interface._circuitMPS.get_psi_reverse_lightcone(3)"
   ]
  },
  {
   "cell_type": "code",
   "execution_count": 21,
   "metadata": {},
   "outputs": [
    {
     "data": {
      "text/plain": [
       "pennylane.devices.execution_config.ExecutionConfig"
      ]
     },
     "execution_count": 21,
     "metadata": {},
     "output_type": "execute_result"
    }
   ],
   "source": [
    "type(obj._setup_execution_config())"
   ]
  },
  {
   "cell_type": "code",
   "execution_count": 22,
   "metadata": {},
   "outputs": [],
   "source": [
    "program, config = obj.preprocess()"
   ]
  },
  {
   "cell_type": "code",
   "execution_count": 23,
   "metadata": {},
   "outputs": [
    {
     "data": {
      "text/plain": [
       "{'apply_reverse_lightcone': None,\n",
       " 'backend': 'quimb',\n",
       " 'c_dtype': numpy.complex128,\n",
       " 'cutoff': 0.0,\n",
       " 'method': 'mps',\n",
       " 'max_bond_dim': None,\n",
       " 'measure_algorithm': None,\n",
       " 'return_tn': False,\n",
       " 'rehearse': False}"
      ]
     },
     "execution_count": 23,
     "metadata": {},
     "output_type": "execute_result"
    }
   ],
   "source": [
    "config.device_options"
   ]
  },
  {
   "cell_type": "code",
   "execution_count": 24,
   "metadata": {},
   "outputs": [
    {
     "data": {
      "text/plain": [
       "(0.9999502079587276,\n",
       " 0.9999502079587276,\n",
       " 0.9901818584603567,\n",
       " 1.0000000000000018,\n",
       " 1.0000000000000016)"
      ]
     },
     "execution_count": 24,
     "metadata": {},
     "output_type": "execute_result"
    }
   ],
   "source": [
    "obj.execute(circuits=tape)"
   ]
  },
  {
   "cell_type": "code",
   "execution_count": 25,
   "metadata": {},
   "outputs": [
    {
     "data": {
      "text/plain": [
       "[<Gate(label=RAW139717894871056, params=raw, qubits=(0,))>,\n",
       " <Gate(label=RAW139717894870960, params=raw, qubits=(0,))>,\n",
       " <Gate(label=RAW139717894870288, params=raw, qubits=(1,))>,\n",
       " <Gate(label=RAW139717894870384, params=raw, qubits=(3, 4))>,\n",
       " <Gate(label=RAW139717894602800, params=raw, qubits=((1, 2, 3, 4),))>,\n",
       " <Gate(label=RAW139717894609392, params=raw, qubits=((0, 1, 2),))>,\n",
       " <Gate(label=RAW139718606408464, params=raw, qubits=(4,))>,\n",
       " <Gate(label=RAW139717894609392, params=raw, qubits=((2, 3, 4),))>,\n",
       " <Gate(label=RAW139717894870384, params=raw, qubits=(2, 4))>,\n",
       " <Gate(label=RAW139717894626256, params=raw, qubits=((0, 1, 3, 4),))>]"
      ]
     },
     "execution_count": 25,
     "metadata": {},
     "output_type": "execute_result"
    }
   ],
   "source": [
    "obj._interface._circuitMPS.gates"
   ]
  },
  {
   "cell_type": "code",
   "execution_count": 26,
   "metadata": {},
   "outputs": [
    {
     "data": {
      "text/plain": [
       "oset(['0', '1', '2', '3', '4', 'PSI0', 'I0', 'GATE_0', 'GATE_1', 'I1', 'GATE_2', 'I2', 'I3', 'I4', 'GATE_6'])"
      ]
     },
     "execution_count": 26,
     "metadata": {},
     "output_type": "execute_result"
    }
   ],
   "source": [
    "obj._interface._circuitMPS.psi.tags"
   ]
  },
  {
   "cell_type": "code",
   "execution_count": 27,
   "metadata": {},
   "outputs": [
    {
     "data": {
      "text/plain": [
       "{'_psi': MatrixProductState(tensors=5, indices=10, L=5, max_bond=4),\n",
       " 'N': 5,\n",
       " 'gate_opts': {'contract': 'swap+split', 'propagate_tags': 'register'},\n",
       " 'gates': [<Gate(label=RAW139717894871056, params=raw, qubits=(0,))>,\n",
       "  <Gate(label=RAW139717894870960, params=raw, qubits=(0,))>,\n",
       "  <Gate(label=RAW139717894870288, params=raw, qubits=(1,))>,\n",
       "  <Gate(label=RAW139717894870384, params=raw, qubits=(3, 4))>,\n",
       "  <Gate(label=RAW139717894602800, params=raw, qubits=((1, 2, 3, 4),))>,\n",
       "  <Gate(label=RAW139717894609392, params=raw, qubits=((0, 1, 2),))>,\n",
       "  <Gate(label=RAW139718606408464, params=raw, qubits=(4,))>,\n",
       "  <Gate(label=RAW139717894609392, params=raw, qubits=((2, 3, 4),))>,\n",
       "  <Gate(label=RAW139717894870384, params=raw, qubits=(2, 4))>,\n",
       "  <Gate(label=RAW139717894626256, params=raw, qubits=((0, 1, 3, 4),))>],\n",
       " '_ket_site_ind_id': 'k{}',\n",
       " '_bra_site_ind_id': 'b{}',\n",
       " 'ket_site_ind': <function str.format>,\n",
       " 'bra_site_ind': <function str.format>,\n",
       " '_sample_n_gates': -1,\n",
       " '_storage': {},\n",
       " '_sampled_conditionals': {}}"
      ]
     },
     "execution_count": 27,
     "metadata": {},
     "output_type": "execute_result"
    }
   ],
   "source": [
    "obj._interface._circuitMPS.__dict__"
   ]
  },
  {
   "cell_type": "code",
   "execution_count": 28,
   "metadata": {},
   "outputs": [
    {
     "data": {
      "text/plain": [
       "<Circuit(n=5, num_gates=10, gate_opts={'contract': 'swap+split', 'propagate_tags': 'register'})>"
      ]
     },
     "execution_count": 28,
     "metadata": {},
     "output_type": "execute_result"
    }
   ],
   "source": [
    "obj._interface._circuitMPS"
   ]
  },
  {
   "cell_type": "code",
   "execution_count": 29,
   "metadata": {},
   "outputs": [
    {
     "data": {
      "text/plain": [
       "4"
      ]
     },
     "execution_count": 29,
     "metadata": {},
     "output_type": "execute_result"
    }
   ],
   "source": [
    "obj._interface._circuitMPS.psi.max_bond()"
   ]
  },
  {
   "cell_type": "code",
   "execution_count": 30,
   "metadata": {},
   "outputs": [
    {
     "data": {
      "text/html": [
       "<samp style='font-size: 12px;'><details><summary><b style=\"color: #d75692;\">MatrixProductState</b>(tensors=5, indices=10, L=5, max_bond=4)</summary><samp style='font-size: 12px;'><details><summary><b style=\"color: #e55471;\">Tensor</b>(shape=(<b style=\"color: #45ce3d;\">1</b>, <b style=\"color: #828fdd;\">2</b>, <b style=\"color: #828fdd;\">2</b>), inds=[<b style=\"color: #85d9a0;\">_7a5ad1AAAAQ</b>, <b style=\"color: #52cf72;\">_7a5ad1AAAAE</b>, <b style=\"color: #b1dc61;\">k0</b>], tags={<b style=\"color: #d2b137;\">I0</b>, <b style=\"color: #74d649;\">0</b>, <b style=\"color: #45ce3d;\">1</b>, <b style=\"color: #828fdd;\">2</b>, <b style=\"color: #8a5bcf;\">3</b>, <b style=\"color: #80d749;\">4</b>, <b style=\"color: #d3b991;\">PSI0</b>, <b style=\"color: #d2b45d;\">GATE_0</b>, <b style=\"color: #40c3d8;\">GATE_1</b>}),</summary>backend=<b style=\"color: #7fdd73;\">numpy</b>, dtype=<b style=\"color: #443ce1;\">complex128</b>, data=array([[[-4.78016380e-19-4.94834901e-02j,\n",
       "          9.98750200e-01+6.96240595e-18j],\n",
       "        [ 3.56792318e-04+7.01243696e-03j,\n",
       "          3.47434078e-04-1.76774223e-05j]]])</details></samp><samp style='font-size: 12px;'><details><summary><b style=\"color: #e55471;\">Tensor</b>(shape=(<b style=\"color: #828fdd;\">2</b>, <b style=\"color: #80d749;\">4</b>, <b style=\"color: #828fdd;\">2</b>), inds=[<b style=\"color: #52cf72;\">_7a5ad1AAAAE</b>, <b style=\"color: #90e2a1;\">_7a5ad1AAAAF</b>, <b style=\"color: #8aa5db;\">k1</b>], tags={<b style=\"color: #d19b78;\">I1</b>, <b style=\"color: #74d649;\">0</b>, <b style=\"color: #45ce3d;\">1</b>, <b style=\"color: #828fdd;\">2</b>, <b style=\"color: #8a5bcf;\">3</b>, <b style=\"color: #80d749;\">4</b>, <b style=\"color: #d3b991;\">PSI0</b>, <b style=\"color: #64dc8a;\">GATE_2</b>}),</summary>backend=<b style=\"color: #7fdd73;\">numpy</b>, dtype=<b style=\"color: #443ce1;\">complex128</b>, data=array([[[-9.99999970e-01-4.06121570e-18j,\n",
       "         -1.80757551e-19+2.45687156e-04j],\n",
       "        [ 2.46106368e-06-1.96542970e-20j,\n",
       "         -1.09621478e-17+2.45893627e-05j],\n",
       "        [ 4.05864240e-20+1.45958841e-20j,\n",
       "         -1.75652876e-17+1.37076273e-18j],\n",
       "        [-4.92039976e-20+8.50115992e-21j,\n",
       "         -4.32790056e-18+2.23964906e-18j]],\n",
       "\n",
       "       [[-1.73071895e-04-8.80588631e-06j,\n",
       "          3.58418657e-02-7.04440122e-01j],\n",
       "        [ 7.04422670e-01+3.58409777e-02j,\n",
       "          3.58719865e-03-7.05032121e-02j],\n",
       "        [-1.14241063e-16-4.77705865e-17j,\n",
       "          3.53160327e-16-1.13803745e-15j],\n",
       "        [ 1.42319070e-16-1.71966460e-17j,\n",
       "          1.40550430e-16+1.43613898e-15j]]])</details></samp><samp style='font-size: 12px;'><details><summary><b style=\"color: #e55471;\">Tensor</b>(shape=(<b style=\"color: #80d749;\">4</b>, <b style=\"color: #80d749;\">4</b>, <b style=\"color: #828fdd;\">2</b>), inds=[<b style=\"color: #90e2a1;\">_7a5ad1AAAAF</b>, <b style=\"color: #84bad8;\">_7a5ad1AAAAG</b>, <b style=\"color: #df546d;\">k2</b>], tags={<b style=\"color: #dd5dd7;\">I2</b>, <b style=\"color: #74d649;\">0</b>, <b style=\"color: #45ce3d;\">1</b>, <b style=\"color: #828fdd;\">2</b>, <b style=\"color: #8a5bcf;\">3</b>, <b style=\"color: #80d749;\">4</b>, <b style=\"color: #d3b991;\">PSI0</b>}),</summary>backend=<b style=\"color: #7fdd73;\">numpy</b>, dtype=<b style=\"color: #443ce1;\">complex128</b>, data=array([[[-9.95019407e-01+4.60514112e-18j,\n",
       "          3.89210316e-18+5.01696664e-02j],\n",
       "        [ 4.34825358e-03-8.15919045e-18j,\n",
       "          1.67404855e-16+8.60260296e-02j],\n",
       "        [ 9.06589951e-21+1.85619329e-21j,\n",
       "         -2.53342261e-19-9.85820619e-19j],\n",
       "        [ 2.89182342e-21-4.73147310e-22j,\n",
       "          6.85037896e-20+1.72000628e-19j]],\n",
       "\n",
       "       [[-9.95855602e-02-9.23306570e-16j,\n",
       "          4.35762537e-15-5.01275401e-01j],\n",
       "        [ 4.35190777e-04-1.51267887e-15j,\n",
       "          6.36990460e-15-8.59537957e-01j],\n",
       "        [-3.71924713e-15-8.04911693e-16j,\n",
       "         -9.15933995e-16-3.92741395e-15j],\n",
       "        [-1.12410081e-15+1.94289029e-16j,\n",
       "          2.63677968e-16+7.21644966e-16j]],\n",
       "\n",
       "       [[ 1.39980872e-03+2.23266702e-03j,\n",
       "          2.85273318e-01+3.91763709e-01j],\n",
       "        [ 3.20320978e-01+5.10905579e-01j,\n",
       "         -1.66369031e-01-2.28473343e-01j],\n",
       "        [ 3.75705589e-01-4.27537833e-02j,\n",
       "         -3.36374656e-01+5.50668301e-02j],\n",
       "        [-1.92042519e-01+1.00497977e-01j,\n",
       "         -7.64492570e-02-9.81688440e-02j]],\n",
       "\n",
       "       [[-9.22169732e-05-3.41254816e-03j,\n",
       "          3.44765478e-02+3.87679323e-01j],\n",
       "        [-2.11021911e-02-7.80900098e-01j,\n",
       "         -2.01064365e-02-2.26091363e-01j],\n",
       "        [ 1.38938393e-01+5.69515386e-02j,\n",
       "         -2.64090208e-01-4.34911959e-02j],\n",
       "        [-2.69406138e-01-9.56292040e-02j,\n",
       "         -6.46143644e-03-1.03844978e-01j]]])</details></samp><samp style='font-size: 12px;'><details><summary><b style=\"color: #e55471;\">Tensor</b>(shape=(<b style=\"color: #80d749;\">4</b>, <b style=\"color: #828fdd;\">2</b>, <b style=\"color: #828fdd;\">2</b>), inds=[<b style=\"color: #84bad8;\">_7a5ad1AAAAG</b>, <b style=\"color: #d987b9;\">_7a5ad1AAAAH</b>, <b style=\"color: #4c7be1;\">k3</b>], tags={<b style=\"color: #dd65d9;\">I3</b>, <b style=\"color: #74d649;\">0</b>, <b style=\"color: #45ce3d;\">1</b>, <b style=\"color: #828fdd;\">2</b>, <b style=\"color: #8a5bcf;\">3</b>, <b style=\"color: #80d749;\">4</b>, <b style=\"color: #d3b991;\">PSI0</b>}),</summary>backend=<b style=\"color: #7fdd73;\">numpy</b>, dtype=<b style=\"color: #443ce1;\">complex128</b>, data=array([[[ 9.99990515e-01+0.00000000e+00j,\n",
       "          2.53564278e-03+8.25870496e-20j],\n",
       "        [-2.49761017e-03+1.23248504e-19j,\n",
       "          2.51030858e-03+4.27166438e-18j]],\n",
       "\n",
       "       [[-1.47128547e-03+0.00000000e+00j,\n",
       "          5.80236116e-01+1.04584849e-15j],\n",
       "        [ 5.77359420e-01+1.05444250e-15j,\n",
       "          5.74438843e-01+1.01763456e-15j]],\n",
       "\n",
       "       [[-4.08474544e-03+0.00000000e+00j,\n",
       "          4.25557174e-01+5.68874492e-02j],\n",
       "        [-8.13581339e-01+1.48492330e-15j,\n",
       "          3.87855384e-01-5.74615609e-02j]],\n",
       "\n",
       "       [[ 3.45490624e-04+0.00000000e+00j,\n",
       "          1.63150496e-01+6.72581925e-01j],\n",
       "        [ 6.88132782e-02+2.17326157e-14j,\n",
       "         -2.33959277e-01-6.79369664e-01j]]])</details></samp><samp style='font-size: 12px;'><details><summary><b style=\"color: #e55471;\">Tensor</b>(shape=(<b style=\"color: #828fdd;\">2</b>, <b style=\"color: #45ce3d;\">1</b>, <b style=\"color: #828fdd;\">2</b>), inds=[<b style=\"color: #d987b9;\">_7a5ad1AAAAH</b>, <b style=\"color: #85d9a0;\">_7a5ad1AAAAQ</b>, <b style=\"color: #462edc;\">k4</b>], tags={<b style=\"color: #998ad1;\">I4</b>, <b style=\"color: #74d649;\">0</b>, <b style=\"color: #45ce3d;\">1</b>, <b style=\"color: #828fdd;\">2</b>, <b style=\"color: #8a5bcf;\">3</b>, <b style=\"color: #80d749;\">4</b>, <b style=\"color: #d3b991;\">PSI0</b>, <b style=\"color: #bade88;\">GATE_6</b>}),</summary>backend=<b style=\"color: #7fdd73;\">numpy</b>, dtype=<b style=\"color: #443ce1;\">complex128</b>, data=array([[[ 0.70354774+0.00000000e+00j,  0.71064799+5.74506474e-19j]],\n",
       "\n",
       "       [[-0.71064799+0.00000000e+00j,  0.70354774+5.68766447e-19j]]])</details></samp></details></samp>"
      ],
      "text/plain": [
       "MatrixProductState(tensors=5, indices=10, L=5, max_bond=4)"
      ]
     },
     "execution_count": 30,
     "metadata": {},
     "output_type": "execute_result"
    }
   ],
   "source": [
    "obj._interface._circuitMPS.psi"
   ]
  },
  {
   "cell_type": "code",
   "execution_count": 31,
   "metadata": {},
   "outputs": [
    {
     "data": {
      "image/png": "[encoded data removed]",
      "text/plain": [
       "<Figure size 600x600 with 1 Axes>"
      ]
     },
     "metadata": {
      "needs_background": "light"
     },
     "output_type": "display_data"
    }
   ],
   "source": [
    "obj._interface._circuitMPS.psi.draw(\n",
    "    color=[f\"I{q}\" for q in range(len(wires))], show_tags=False, show_inds=True\n",
    ")"
   ]
  },
  {
   "cell_type": "code",
   "execution_count": 32,
   "metadata": {},
   "outputs": [],
   "source": [
    "# obj.compute_derivatives(tape)"
   ]
  },
  {
   "cell_type": "code",
   "execution_count": 33,
   "metadata": {},
   "outputs": [],
   "source": [
    "# obj._interface.state_to_array()"
   ]
  },
  {
   "cell_type": "code",
   "execution_count": 34,
   "metadata": {},
   "outputs": [
    {
     "data": {
      "text/html": [
       "<samp style='font-size: 12px;'><details><summary><b style=\"color: #d75692;\">MatrixProductState</b>(tensors=5, indices=10, L=5, max_bond=4)</summary><samp style='font-size: 12px;'><details><summary><b style=\"color: #e55471;\">Tensor</b>(shape=(<b style=\"color: #45ce3d;\">1</b>, <b style=\"color: #828fdd;\">2</b>, <b style=\"color: #828fdd;\">2</b>), inds=[<b style=\"color: #85d9a0;\">_7a5ad1AAAAQ</b>, <b style=\"color: #52cf72;\">_7a5ad1AAAAE</b>, <b style=\"color: #b1dc61;\">k0</b>], tags={<b style=\"color: #d2b137;\">I0</b>, <b style=\"color: #74d649;\">0</b>, <b style=\"color: #45ce3d;\">1</b>, <b style=\"color: #828fdd;\">2</b>, <b style=\"color: #8a5bcf;\">3</b>, <b style=\"color: #80d749;\">4</b>, <b style=\"color: #d3b991;\">PSI0</b>, <b style=\"color: #d2b45d;\">GATE_0</b>, <b style=\"color: #40c3d8;\">GATE_1</b>}),</summary>backend=<b style=\"color: #7fdd73;\">numpy</b>, dtype=<b style=\"color: #443ce1;\">complex128</b>, data=array([[[-4.78016380e-19-4.94834901e-02j,\n",
       "          9.98750200e-01+6.96240595e-18j],\n",
       "        [ 3.56792318e-04+7.01243696e-03j,\n",
       "          3.47434078e-04-1.76774223e-05j]]])</details></samp><samp style='font-size: 12px;'><details><summary><b style=\"color: #e55471;\">Tensor</b>(shape=(<b style=\"color: #828fdd;\">2</b>, <b style=\"color: #80d749;\">4</b>, <b style=\"color: #828fdd;\">2</b>), inds=[<b style=\"color: #52cf72;\">_7a5ad1AAAAE</b>, <b style=\"color: #90e2a1;\">_7a5ad1AAAAF</b>, <b style=\"color: #8aa5db;\">k1</b>], tags={<b style=\"color: #d19b78;\">I1</b>, <b style=\"color: #74d649;\">0</b>, <b style=\"color: #45ce3d;\">1</b>, <b style=\"color: #828fdd;\">2</b>, <b style=\"color: #8a5bcf;\">3</b>, <b style=\"color: #80d749;\">4</b>, <b style=\"color: #d3b991;\">PSI0</b>, <b style=\"color: #64dc8a;\">GATE_2</b>}),</summary>backend=<b style=\"color: #7fdd73;\">numpy</b>, dtype=<b style=\"color: #443ce1;\">complex128</b>, data=array([[[-9.99999970e-01-4.06121570e-18j,\n",
       "         -1.80757551e-19+2.45687156e-04j],\n",
       "        [ 2.46106368e-06-1.96542970e-20j,\n",
       "         -1.09621478e-17+2.45893627e-05j],\n",
       "        [ 4.05864240e-20+1.45958841e-20j,\n",
       "         -1.75652876e-17+1.37076273e-18j],\n",
       "        [-4.92039976e-20+8.50115992e-21j,\n",
       "         -4.32790056e-18+2.23964906e-18j]],\n",
       "\n",
       "       [[-1.73071895e-04-8.80588631e-06j,\n",
       "          3.58418657e-02-7.04440122e-01j],\n",
       "        [ 7.04422670e-01+3.58409777e-02j,\n",
       "          3.58719865e-03-7.05032121e-02j],\n",
       "        [-1.14241063e-16-4.77705865e-17j,\n",
       "          3.53160327e-16-1.13803745e-15j],\n",
       "        [ 1.42319070e-16-1.71966460e-17j,\n",
       "          1.40550430e-16+1.43613898e-15j]]])</details></samp><samp style='font-size: 12px;'><details><summary><b style=\"color: #e55471;\">Tensor</b>(shape=(<b style=\"color: #80d749;\">4</b>, <b style=\"color: #80d749;\">4</b>, <b style=\"color: #828fdd;\">2</b>), inds=[<b style=\"color: #90e2a1;\">_7a5ad1AAAAF</b>, <b style=\"color: #84bad8;\">_7a5ad1AAAAG</b>, <b style=\"color: #df546d;\">k2</b>], tags={<b style=\"color: #dd5dd7;\">I2</b>, <b style=\"color: #74d649;\">0</b>, <b style=\"color: #45ce3d;\">1</b>, <b style=\"color: #828fdd;\">2</b>, <b style=\"color: #8a5bcf;\">3</b>, <b style=\"color: #80d749;\">4</b>, <b style=\"color: #d3b991;\">PSI0</b>}),</summary>backend=<b style=\"color: #7fdd73;\">numpy</b>, dtype=<b style=\"color: #443ce1;\">complex128</b>, data=array([[[-9.95019407e-01+4.60514112e-18j,\n",
       "          3.89210316e-18+5.01696664e-02j],\n",
       "        [ 4.34825358e-03-8.15919045e-18j,\n",
       "          1.67404855e-16+8.60260296e-02j],\n",
       "        [ 9.06589951e-21+1.85619329e-21j,\n",
       "         -2.53342261e-19-9.85820619e-19j],\n",
       "        [ 2.89182342e-21-4.73147310e-22j,\n",
       "          6.85037896e-20+1.72000628e-19j]],\n",
       "\n",
       "       [[-9.95855602e-02-9.23306570e-16j,\n",
       "          4.35762537e-15-5.01275401e-01j],\n",
       "        [ 4.35190777e-04-1.51267887e-15j,\n",
       "          6.36990460e-15-8.59537957e-01j],\n",
       "        [-3.71924713e-15-8.04911693e-16j,\n",
       "         -9.15933995e-16-3.92741395e-15j],\n",
       "        [-1.12410081e-15+1.94289029e-16j,\n",
       "          2.63677968e-16+7.21644966e-16j]],\n",
       "\n",
       "       [[ 1.39980872e-03+2.23266702e-03j,\n",
       "          2.85273318e-01+3.91763709e-01j],\n",
       "        [ 3.20320978e-01+5.10905579e-01j,\n",
       "         -1.66369031e-01-2.28473343e-01j],\n",
       "        [ 3.75705589e-01-4.27537833e-02j,\n",
       "         -3.36374656e-01+5.50668301e-02j],\n",
       "        [-1.92042519e-01+1.00497977e-01j,\n",
       "         -7.64492570e-02-9.81688440e-02j]],\n",
       "\n",
       "       [[-9.22169732e-05-3.41254816e-03j,\n",
       "          3.44765478e-02+3.87679323e-01j],\n",
       "        [-2.11021911e-02-7.80900098e-01j,\n",
       "         -2.01064365e-02-2.26091363e-01j],\n",
       "        [ 1.38938393e-01+5.69515386e-02j,\n",
       "         -2.64090208e-01-4.34911959e-02j],\n",
       "        [-2.69406138e-01-9.56292040e-02j,\n",
       "         -6.46143644e-03-1.03844978e-01j]]])</details></samp><samp style='font-size: 12px;'><details><summary><b style=\"color: #e55471;\">Tensor</b>(shape=(<b style=\"color: #80d749;\">4</b>, <b style=\"color: #828fdd;\">2</b>, <b style=\"color: #828fdd;\">2</b>), inds=[<b style=\"color: #84bad8;\">_7a5ad1AAAAG</b>, <b style=\"color: #d987b9;\">_7a5ad1AAAAH</b>, <b style=\"color: #4c7be1;\">k3</b>], tags={<b style=\"color: #dd65d9;\">I3</b>, <b style=\"color: #74d649;\">0</b>, <b style=\"color: #45ce3d;\">1</b>, <b style=\"color: #828fdd;\">2</b>, <b style=\"color: #8a5bcf;\">3</b>, <b style=\"color: #80d749;\">4</b>, <b style=\"color: #d3b991;\">PSI0</b>}),</summary>backend=<b style=\"color: #7fdd73;\">numpy</b>, dtype=<b style=\"color: #443ce1;\">complex128</b>, data=array([[[ 9.99990515e-01+0.00000000e+00j,\n",
       "          2.53564278e-03+8.25870496e-20j],\n",
       "        [-2.49761017e-03+1.23248504e-19j,\n",
       "          2.51030858e-03+4.27166438e-18j]],\n",
       "\n",
       "       [[-1.47128547e-03+0.00000000e+00j,\n",
       "          5.80236116e-01+1.04584849e-15j],\n",
       "        [ 5.77359420e-01+1.05444250e-15j,\n",
       "          5.74438843e-01+1.01763456e-15j]],\n",
       "\n",
       "       [[-4.08474544e-03+0.00000000e+00j,\n",
       "          4.25557174e-01+5.68874492e-02j],\n",
       "        [-8.13581339e-01+1.48492330e-15j,\n",
       "          3.87855384e-01-5.74615609e-02j]],\n",
       "\n",
       "       [[ 3.45490624e-04+0.00000000e+00j,\n",
       "          1.63150496e-01+6.72581925e-01j],\n",
       "        [ 6.88132782e-02+2.17326157e-14j,\n",
       "         -2.33959277e-01-6.79369664e-01j]]])</details></samp><samp style='font-size: 12px;'><details><summary><b style=\"color: #e55471;\">Tensor</b>(shape=(<b style=\"color: #828fdd;\">2</b>, <b style=\"color: #45ce3d;\">1</b>, <b style=\"color: #828fdd;\">2</b>), inds=[<b style=\"color: #d987b9;\">_7a5ad1AAAAH</b>, <b style=\"color: #85d9a0;\">_7a5ad1AAAAQ</b>, <b style=\"color: #462edc;\">k4</b>], tags={<b style=\"color: #998ad1;\">I4</b>, <b style=\"color: #74d649;\">0</b>, <b style=\"color: #45ce3d;\">1</b>, <b style=\"color: #828fdd;\">2</b>, <b style=\"color: #8a5bcf;\">3</b>, <b style=\"color: #80d749;\">4</b>, <b style=\"color: #d3b991;\">PSI0</b>, <b style=\"color: #bade88;\">GATE_6</b>}),</summary>backend=<b style=\"color: #7fdd73;\">numpy</b>, dtype=<b style=\"color: #443ce1;\">complex128</b>, data=array([[[ 0.70354774+0.00000000e+00j,  0.71064799+5.74506474e-19j]],\n",
       "\n",
       "       [[-0.71064799+0.00000000e+00j,  0.70354774+5.68766447e-19j]]])</details></samp></details></samp>"
      ],
      "text/plain": [
       "MatrixProductState(tensors=5, indices=10, L=5, max_bond=4)"
      ]
     },
     "execution_count": 34,
     "metadata": {},
     "output_type": "execute_result"
    }
   ],
   "source": [
    "obj._interface._circuitMPS._psi"
   ]
  },
  {
   "cell_type": "markdown",
   "metadata": {},
   "source": [
    "# Playing with `quimb`"
   ]
  },
  {
   "cell_type": "code",
   "execution_count": 35,
   "metadata": {},
   "outputs": [],
   "source": [
    "wires = Wires(range(7))\n",
    "\n",
    "init_state = qtn.MPS_computational_state(\n",
    "    \"0\" * len(wires), tags=[str(l) for l in wires.labels]\n",
    ")\n",
    "\n",
    "qc = qtn.CircuitMPS(psi0=init_state)\n",
    "\n",
    "op = qml.CNOT(wires=[0, 1])"
   ]
  },
  {
   "cell_type": "code",
   "execution_count": 36,
   "metadata": {},
   "outputs": [
    {
     "data": {
      "image/png": "[encoded data removed]",
      "text/plain": [
       "<Figure size 600x600 with 1 Axes>"
      ]
     },
     "metadata": {
      "needs_background": "light"
     },
     "output_type": "display_data"
    }
   ],
   "source": [
    "qc.psi.draw(color=[f\"I{q}\" for q in range(len(wires))], show_tags=False, show_inds=True)"
   ]
  },
  {
   "cell_type": "code",
   "execution_count": 37,
   "metadata": {},
   "outputs": [
    {
     "data": {
      "text/plain": [
       "functools.partial(<bound method gate_TN_1D of MatrixProductState(tensors=7, indices=13, L=7, max_bond=2)>, inplace=True)"
      ]
     },
     "execution_count": 37,
     "metadata": {},
     "output_type": "execute_result"
    }
   ],
   "source": [
    "init_state.gate_"
   ]
  },
  {
   "cell_type": "code",
   "execution_count": 38,
   "metadata": {},
   "outputs": [
    {
     "data": {
      "text/plain": [
       "0j"
      ]
     },
     "execution_count": 38,
     "metadata": {},
     "output_type": "execute_result"
    }
   ],
   "source": [
    "qc.amplitude(\"0111111\")"
   ]
  },
  {
   "cell_type": "code",
   "execution_count": 39,
   "metadata": {},
   "outputs": [
    {
     "data": {
      "text/html": [
       "<samp style='font-size: 12px;'><details><summary><b style=\"color: #d75692;\">MatrixProductState</b>(tensors=7, indices=13, L=7, max_bond=2)</summary><samp style='font-size: 12px;'><details><summary><b style=\"color: #e55471;\">Tensor</b>(shape=(<b style=\"color: #45ce3d;\">1</b>, <b style=\"color: #828fdd;\">2</b>), inds=[<b style=\"color: #bf5bd9;\">_7a5ad1AAACW</b>, <b style=\"color: #b1dc61;\">k0</b>], tags={<b style=\"color: #74d649;\">0</b>, <b style=\"color: #45ce3d;\">1</b>, <b style=\"color: #828fdd;\">2</b>, <b style=\"color: #8a5bcf;\">3</b>, <b style=\"color: #80d749;\">4</b>, <b style=\"color: #7355d7;\">5</b>, <b style=\"color: #a4de79;\">6</b>, <b style=\"color: #d2b137;\">I0</b>}),</summary>backend=<b style=\"color: #7fdd73;\">numpy</b>, dtype=<b style=\"color: #75d2c6;\">float64</b>, data=array([[1., 0.]])</details></samp><samp style='font-size: 12px;'><details><summary><b style=\"color: #e55471;\">Tensor</b>(shape=(<b style=\"color: #45ce3d;\">1</b>, <b style=\"color: #45ce3d;\">1</b>, <b style=\"color: #828fdd;\">2</b>), inds=[<b style=\"color: #bf5bd9;\">_7a5ad1AAACW</b>, <b style=\"color: #5941db;\">_7a5ad1AAACX</b>, <b style=\"color: #8aa5db;\">k1</b>], tags={<b style=\"color: #74d649;\">0</b>, <b style=\"color: #45ce3d;\">1</b>, <b style=\"color: #828fdd;\">2</b>, <b style=\"color: #8a5bcf;\">3</b>, <b style=\"color: #80d749;\">4</b>, <b style=\"color: #7355d7;\">5</b>, <b style=\"color: #a4de79;\">6</b>, <b style=\"color: #d19b78;\">I1</b>}),</summary>backend=<b style=\"color: #7fdd73;\">numpy</b>, dtype=<b style=\"color: #75d2c6;\">float64</b>, data=array([[[1., 0.]]])</details></samp><samp style='font-size: 12px;'><details><summary><b style=\"color: #e55471;\">Tensor</b>(shape=(<b style=\"color: #45ce3d;\">1</b>, <b style=\"color: #45ce3d;\">1</b>, <b style=\"color: #828fdd;\">2</b>), inds=[<b style=\"color: #5941db;\">_7a5ad1AAACX</b>, <b style=\"color: #d473bd;\">_7a5ad1AAACY</b>, <b style=\"color: #df546d;\">k2</b>], tags={<b style=\"color: #74d649;\">0</b>, <b style=\"color: #45ce3d;\">1</b>, <b style=\"color: #828fdd;\">2</b>, <b style=\"color: #8a5bcf;\">3</b>, <b style=\"color: #80d749;\">4</b>, <b style=\"color: #7355d7;\">5</b>, <b style=\"color: #a4de79;\">6</b>, <b style=\"color: #dd5dd7;\">I2</b>}),</summary>backend=<b style=\"color: #7fdd73;\">numpy</b>, dtype=<b style=\"color: #75d2c6;\">float64</b>, data=array([[[1., 0.]]])</details></samp><samp style='font-size: 12px;'><details><summary><b style=\"color: #e55471;\">Tensor</b>(shape=(<b style=\"color: #45ce3d;\">1</b>, <b style=\"color: #45ce3d;\">1</b>, <b style=\"color: #828fdd;\">2</b>), inds=[<b style=\"color: #d473bd;\">_7a5ad1AAACY</b>, <b style=\"color: #d65cd1;\">_7a5ad1AAACZ</b>, <b style=\"color: #4c7be1;\">k3</b>], tags={<b style=\"color: #74d649;\">0</b>, <b style=\"color: #45ce3d;\">1</b>, <b style=\"color: #828fdd;\">2</b>, <b style=\"color: #8a5bcf;\">3</b>, <b style=\"color: #80d749;\">4</b>, <b style=\"color: #7355d7;\">5</b>, <b style=\"color: #a4de79;\">6</b>, <b style=\"color: #dd65d9;\">I3</b>}),</summary>backend=<b style=\"color: #7fdd73;\">numpy</b>, dtype=<b style=\"color: #75d2c6;\">float64</b>, data=array([[[1., 0.]]])</details></samp><samp style='font-size: 12px;'><details><summary><b style=\"color: #e55471;\">Tensor</b>(shape=(<b style=\"color: #45ce3d;\">1</b>, <b style=\"color: #45ce3d;\">1</b>, <b style=\"color: #828fdd;\">2</b>), inds=[<b style=\"color: #d65cd1;\">_7a5ad1AAACZ</b>, <b style=\"color: #cfb76b;\">_7a5ad1AAACa</b>, <b style=\"color: #462edc;\">k4</b>], tags={<b style=\"color: #74d649;\">0</b>, <b style=\"color: #45ce3d;\">1</b>, <b style=\"color: #828fdd;\">2</b>, <b style=\"color: #8a5bcf;\">3</b>, <b style=\"color: #80d749;\">4</b>, <b style=\"color: #7355d7;\">5</b>, <b style=\"color: #a4de79;\">6</b>, <b style=\"color: #998ad1;\">I4</b>}),</summary>backend=<b style=\"color: #7fdd73;\">numpy</b>, dtype=<b style=\"color: #75d2c6;\">float64</b>, data=array([[[1., 0.]]])</details></samp><samp style='font-size: 12px;'><details><summary><b style=\"color: #e55471;\">Tensor</b>(shape=(<b style=\"color: #45ce3d;\">1</b>, <b style=\"color: #45ce3d;\">1</b>, <b style=\"color: #828fdd;\">2</b>), inds=[<b style=\"color: #cfb76b;\">_7a5ad1AAACa</b>, <b style=\"color: #4fd62f;\">_7a5ad1AAACb</b>, <b style=\"color: #85dfdf;\">k5</b>], tags={<b style=\"color: #74d649;\">0</b>, <b style=\"color: #45ce3d;\">1</b>, <b style=\"color: #828fdd;\">2</b>, <b style=\"color: #8a5bcf;\">3</b>, <b style=\"color: #80d749;\">4</b>, <b style=\"color: #7355d7;\">5</b>, <b style=\"color: #a4de79;\">6</b>, <b style=\"color: #97dddc;\">I5</b>}),</summary>backend=<b style=\"color: #7fdd73;\">numpy</b>, dtype=<b style=\"color: #75d2c6;\">float64</b>, data=array([[[1., 0.]]])</details></samp><samp style='font-size: 12px;'><details><summary><b style=\"color: #e55471;\">Tensor</b>(shape=(<b style=\"color: #45ce3d;\">1</b>, <b style=\"color: #828fdd;\">2</b>), inds=[<b style=\"color: #4fd62f;\">_7a5ad1AAACb</b>, <b style=\"color: #2cb7d3;\">k6</b>], tags={<b style=\"color: #74d649;\">0</b>, <b style=\"color: #45ce3d;\">1</b>, <b style=\"color: #828fdd;\">2</b>, <b style=\"color: #8a5bcf;\">3</b>, <b style=\"color: #80d749;\">4</b>, <b style=\"color: #7355d7;\">5</b>, <b style=\"color: #a4de79;\">6</b>, <b style=\"color: #b2de5f;\">I6</b>}),</summary>backend=<b style=\"color: #7fdd73;\">numpy</b>, dtype=<b style=\"color: #75d2c6;\">float64</b>, data=array([[1., 0.]])</details></samp></details></samp>"
      ],
      "text/plain": [
       "MatrixProductState(tensors=7, indices=13, L=7, max_bond=2)"
      ]
     },
     "execution_count": 39,
     "metadata": {},
     "output_type": "execute_result"
    }
   ],
   "source": [
    "init_state"
   ]
  },
  {
   "cell_type": "code",
   "execution_count": 40,
   "metadata": {},
   "outputs": [
    {
     "data": {
      "text/plain": [
       "<function str.format>"
      ]
     },
     "execution_count": 40,
     "metadata": {},
     "output_type": "execute_result"
    }
   ],
   "source": [
    "qc.ket_site_ind"
   ]
  },
  {
   "cell_type": "code",
   "execution_count": 41,
   "metadata": {},
   "outputs": [
    {
     "data": {
      "text/plain": [
       "{'_psi': MatrixProductState(tensors=7, indices=7, L=7, max_bond=2),\n",
       " 'N': 7,\n",
       " 'gate_opts': {'contract': 'swap+split', 'propagate_tags': 'register'},\n",
       " 'gates': [],\n",
       " '_ket_site_ind_id': 'k{}',\n",
       " '_bra_site_ind_id': 'b{}',\n",
       " 'ket_site_ind': <function str.format>,\n",
       " 'bra_site_ind': <function str.format>,\n",
       " '_sample_n_gates': 0,\n",
       " '_storage': {('psi_simplified',\n",
       "   'ADCRS',\n",
       "   1e-12): MatrixProductState(tensors=7, indices=7, L=7, max_bond=2)},\n",
       " '_sampled_conditionals': {},\n",
       " '_marginal_storage_size': 0}"
      ]
     },
     "execution_count": 41,
     "metadata": {},
     "output_type": "execute_result"
    }
   ],
   "source": [
    "qc.__dict__"
   ]
  },
  {
   "cell_type": "code",
   "execution_count": 42,
   "metadata": {},
   "outputs": [
    {
     "data": {
      "text/plain": [
       "[]"
      ]
     },
     "execution_count": 42,
     "metadata": {},
     "output_type": "execute_result"
    }
   ],
   "source": [
    "qc.gates"
   ]
  },
  {
   "cell_type": "code",
   "execution_count": 43,
   "metadata": {},
   "outputs": [],
   "source": [
    "gate = qtn.circuit.parse_to_gate(op.matrix(), tuple(op.wires))"
   ]
  },
  {
   "cell_type": "code",
   "execution_count": 44,
   "metadata": {},
   "outputs": [
    {
     "data": {
      "text/plain": [
       "<Gate(label=RAW139717894870384, params=raw, qubits=((0, 1),))>"
      ]
     },
     "execution_count": 44,
     "metadata": {},
     "output_type": "execute_result"
    }
   ],
   "source": [
    "gate"
   ]
  },
  {
   "cell_type": "code",
   "execution_count": 45,
   "metadata": {},
   "outputs": [
    {
     "data": {
      "text/html": [
       "<samp style='font-size: 12px;'><details><summary><b style=\"color: #d75692;\">MatrixProductState</b>(tensors=7, indices=13, L=7, max_bond=2)</summary><samp style='font-size: 12px;'><details><summary><b style=\"color: #e55471;\">Tensor</b>(shape=(<b style=\"color: #45ce3d;\">1</b>, <b style=\"color: #828fdd;\">2</b>), inds=[<b style=\"color: #84a8da;\">_7a5ad1AAACc</b>, <b style=\"color: #b1dc61;\">k0</b>], tags={<b style=\"color: #74d649;\">0</b>, <b style=\"color: #45ce3d;\">1</b>, <b style=\"color: #828fdd;\">2</b>, <b style=\"color: #8a5bcf;\">3</b>, <b style=\"color: #80d749;\">4</b>, <b style=\"color: #7355d7;\">5</b>, <b style=\"color: #a4de79;\">6</b>, <b style=\"color: #d2b137;\">I0</b>}),</summary>backend=<b style=\"color: #7fdd73;\">numpy</b>, dtype=<b style=\"color: #75d2c6;\">float64</b>, data=array([[1., 0.]])</details></samp><samp style='font-size: 12px;'><details><summary><b style=\"color: #e55471;\">Tensor</b>(shape=(<b style=\"color: #45ce3d;\">1</b>, <b style=\"color: #45ce3d;\">1</b>, <b style=\"color: #828fdd;\">2</b>), inds=[<b style=\"color: #84a8da;\">_7a5ad1AAACc</b>, <b style=\"color: #dfb144;\">_7a5ad1AAACd</b>, <b style=\"color: #8aa5db;\">k1</b>], tags={<b style=\"color: #74d649;\">0</b>, <b style=\"color: #45ce3d;\">1</b>, <b style=\"color: #828fdd;\">2</b>, <b style=\"color: #8a5bcf;\">3</b>, <b style=\"color: #80d749;\">4</b>, <b style=\"color: #7355d7;\">5</b>, <b style=\"color: #a4de79;\">6</b>, <b style=\"color: #d19b78;\">I1</b>}),</summary>backend=<b style=\"color: #7fdd73;\">numpy</b>, dtype=<b style=\"color: #75d2c6;\">float64</b>, data=array([[[1., 0.]]])</details></samp><samp style='font-size: 12px;'><details><summary><b style=\"color: #e55471;\">Tensor</b>(shape=(<b style=\"color: #45ce3d;\">1</b>, <b style=\"color: #45ce3d;\">1</b>, <b style=\"color: #828fdd;\">2</b>), inds=[<b style=\"color: #dfb144;\">_7a5ad1AAACd</b>, <b style=\"color: #d19638;\">_7a5ad1AAACe</b>, <b style=\"color: #df546d;\">k2</b>], tags={<b style=\"color: #74d649;\">0</b>, <b style=\"color: #45ce3d;\">1</b>, <b style=\"color: #828fdd;\">2</b>, <b style=\"color: #8a5bcf;\">3</b>, <b style=\"color: #80d749;\">4</b>, <b style=\"color: #7355d7;\">5</b>, <b style=\"color: #a4de79;\">6</b>, <b style=\"color: #dd5dd7;\">I2</b>}),</summary>backend=<b style=\"color: #7fdd73;\">numpy</b>, dtype=<b style=\"color: #75d2c6;\">float64</b>, data=array([[[1., 0.]]])</details></samp><samp style='font-size: 12px;'><details><summary><b style=\"color: #e55471;\">Tensor</b>(shape=(<b style=\"color: #45ce3d;\">1</b>, <b style=\"color: #45ce3d;\">1</b>, <b style=\"color: #828fdd;\">2</b>), inds=[<b style=\"color: #d19638;\">_7a5ad1AAACe</b>, <b style=\"color: #6597dc;\">_7a5ad1AAACf</b>, <b style=\"color: #4c7be1;\">k3</b>], tags={<b style=\"color: #74d649;\">0</b>, <b style=\"color: #45ce3d;\">1</b>, <b style=\"color: #828fdd;\">2</b>, <b style=\"color: #8a5bcf;\">3</b>, <b style=\"color: #80d749;\">4</b>, <b style=\"color: #7355d7;\">5</b>, <b style=\"color: #a4de79;\">6</b>, <b style=\"color: #dd65d9;\">I3</b>}),</summary>backend=<b style=\"color: #7fdd73;\">numpy</b>, dtype=<b style=\"color: #75d2c6;\">float64</b>, data=array([[[1., 0.]]])</details></samp><samp style='font-size: 12px;'><details><summary><b style=\"color: #e55471;\">Tensor</b>(shape=(<b style=\"color: #45ce3d;\">1</b>, <b style=\"color: #45ce3d;\">1</b>, <b style=\"color: #828fdd;\">2</b>), inds=[<b style=\"color: #6597dc;\">_7a5ad1AAACf</b>, <b style=\"color: #78e583;\">_7a5ad1AAACg</b>, <b style=\"color: #462edc;\">k4</b>], tags={<b style=\"color: #74d649;\">0</b>, <b style=\"color: #45ce3d;\">1</b>, <b style=\"color: #828fdd;\">2</b>, <b style=\"color: #8a5bcf;\">3</b>, <b style=\"color: #80d749;\">4</b>, <b style=\"color: #7355d7;\">5</b>, <b style=\"color: #a4de79;\">6</b>, <b style=\"color: #998ad1;\">I4</b>}),</summary>backend=<b style=\"color: #7fdd73;\">numpy</b>, dtype=<b style=\"color: #75d2c6;\">float64</b>, data=array([[[1., 0.]]])</details></samp><samp style='font-size: 12px;'><details><summary><b style=\"color: #e55471;\">Tensor</b>(shape=(<b style=\"color: #45ce3d;\">1</b>, <b style=\"color: #45ce3d;\">1</b>, <b style=\"color: #828fdd;\">2</b>), inds=[<b style=\"color: #78e583;\">_7a5ad1AAACg</b>, <b style=\"color: #4dd4c4;\">_7a5ad1AAACh</b>, <b style=\"color: #85dfdf;\">k5</b>], tags={<b style=\"color: #74d649;\">0</b>, <b style=\"color: #45ce3d;\">1</b>, <b style=\"color: #828fdd;\">2</b>, <b style=\"color: #8a5bcf;\">3</b>, <b style=\"color: #80d749;\">4</b>, <b style=\"color: #7355d7;\">5</b>, <b style=\"color: #a4de79;\">6</b>, <b style=\"color: #97dddc;\">I5</b>}),</summary>backend=<b style=\"color: #7fdd73;\">numpy</b>, dtype=<b style=\"color: #75d2c6;\">float64</b>, data=array([[[1., 0.]]])</details></samp><samp style='font-size: 12px;'><details><summary><b style=\"color: #e55471;\">Tensor</b>(shape=(<b style=\"color: #45ce3d;\">1</b>, <b style=\"color: #828fdd;\">2</b>), inds=[<b style=\"color: #4dd4c4;\">_7a5ad1AAACh</b>, <b style=\"color: #2cb7d3;\">k6</b>], tags={<b style=\"color: #74d649;\">0</b>, <b style=\"color: #45ce3d;\">1</b>, <b style=\"color: #828fdd;\">2</b>, <b style=\"color: #8a5bcf;\">3</b>, <b style=\"color: #80d749;\">4</b>, <b style=\"color: #7355d7;\">5</b>, <b style=\"color: #a4de79;\">6</b>, <b style=\"color: #b2de5f;\">I6</b>}),</summary>backend=<b style=\"color: #7fdd73;\">numpy</b>, dtype=<b style=\"color: #75d2c6;\">float64</b>, data=array([[1., 0.]])</details></samp></details></samp>"
      ],
      "text/plain": [
       "MatrixProductState(tensors=7, indices=13, L=7, max_bond=2)"
      ]
     },
     "execution_count": 45,
     "metadata": {},
     "output_type": "execute_result"
    }
   ],
   "source": [
    "qtn.MPS_computational_state(\"0\" * len(wires), tags=[str(l) for l in wires.labels])"
   ]
  },
  {
   "cell_type": "code",
   "execution_count": 46,
   "metadata": {},
   "outputs": [
    {
     "data": {
      "text/html": [
       "<samp style='font-size: 12px;'><details><summary><b style=\"color: #d75692;\">MatrixProductState</b>(tensors=9, indices=17, L=9, max_bond=6)</summary><samp style='font-size: 12px;'><details><summary><b style=\"color: #e55471;\">Tensor</b>(shape=(<b style=\"color: #a4de79;\">6</b>, <b style=\"color: #828fdd;\">2</b>), inds=[<b style=\"color: #a4e49b;\">_7a5ad1AAACi</b>, <b style=\"color: #b1dc61;\">k0</b>], tags={<b style=\"color: #d2b137;\">I0</b>}),</summary>backend=<b style=\"color: #7fdd73;\">numpy</b>, dtype=<b style=\"color: #75d2c6;\">float64</b>, data=array([[0., 0.],\n",
       "       [0., 0.],\n",
       "       [0., 0.],\n",
       "       [0., 0.],\n",
       "       [0., 0.],\n",
       "       [0., 0.]])</details></samp><samp style='font-size: 12px;'><details><summary><b style=\"color: #e55471;\">Tensor</b>(shape=(<b style=\"color: #a4de79;\">6</b>, <b style=\"color: #a4de79;\">6</b>, <b style=\"color: #828fdd;\">2</b>), inds=[<b style=\"color: #a4e49b;\">_7a5ad1AAACi</b>, <b style=\"color: #b26ce4;\">_7a5ad1AAACj</b>, <b style=\"color: #8aa5db;\">k1</b>], tags={<b style=\"color: #d19b78;\">I1</b>}),</summary>backend=<b style=\"color: #7fdd73;\">numpy</b>, dtype=<b style=\"color: #75d2c6;\">float64</b>, data=array([[[0., 0.],\n",
       "        [0., 0.],\n",
       "        [0., 0.],\n",
       "        [0., 0.],\n",
       "        [0., 0.],\n",
       "        [0., 0.]],\n",
       "\n",
       "       [[0., 0.],\n",
       "        [0., 0.],\n",
       "        [0., 0.],\n",
       "        [0., 0.],\n",
       "        [0., 0.],\n",
       "        [0., 0.]],\n",
       "\n",
       "       [[0., 0.],\n",
       "        [0., 0.],\n",
       "        [0., 0.],\n",
       "        [0., 0.],\n",
       "        [0., 0.],\n",
       "        [0., 0.]],\n",
       "\n",
       "       [[0., 0.],\n",
       "        [0., 0.],\n",
       "        [0., 0.],\n",
       "        [0., 0.],\n",
       "        [0., 0.],\n",
       "        [0., 0.]],\n",
       "\n",
       "       [[0., 0.],\n",
       "        [0., 0.],\n",
       "        [0., 0.],\n",
       "        [0., 0.],\n",
       "        [0., 0.],\n",
       "        [0., 0.]],\n",
       "\n",
       "       [[0., 0.],\n",
       "        [0., 0.],\n",
       "        [0., 0.],\n",
       "        [0., 0.],\n",
       "        [0., 0.],\n",
       "        [0., 0.]]])</details></samp><samp style='font-size: 12px;'><details><summary><b style=\"color: #e55471;\">Tensor</b>(shape=(<b style=\"color: #a4de79;\">6</b>, <b style=\"color: #a4de79;\">6</b>, <b style=\"color: #828fdd;\">2</b>), inds=[<b style=\"color: #b26ce4;\">_7a5ad1AAACj</b>, <b style=\"color: #db2eca;\">_7a5ad1AAACk</b>, <b style=\"color: #df546d;\">k2</b>], tags={<b style=\"color: #dd5dd7;\">I2</b>}),</summary>backend=<b style=\"color: #7fdd73;\">numpy</b>, dtype=<b style=\"color: #75d2c6;\">float64</b>, data=array([[[0., 0.],\n",
       "        [0., 0.],\n",
       "        [0., 0.],\n",
       "        [0., 0.],\n",
       "        [0., 0.],\n",
       "        [0., 0.]],\n",
       "\n",
       "       [[0., 0.],\n",
       "        [0., 0.],\n",
       "        [0., 0.],\n",
       "        [0., 0.],\n",
       "        [0., 0.],\n",
       "        [0., 0.]],\n",
       "\n",
       "       [[0., 0.],\n",
       "        [0., 0.],\n",
       "        [0., 0.],\n",
       "        [0., 0.],\n",
       "        [0., 0.],\n",
       "        [0., 0.]],\n",
       "\n",
       "       [[0., 0.],\n",
       "        [0., 0.],\n",
       "        [0., 0.],\n",
       "        [0., 0.],\n",
       "        [0., 0.],\n",
       "        [0., 0.]],\n",
       "\n",
       "       [[0., 0.],\n",
       "        [0., 0.],\n",
       "        [0., 0.],\n",
       "        [0., 0.],\n",
       "        [0., 0.],\n",
       "        [0., 0.]],\n",
       "\n",
       "       [[0., 0.],\n",
       "        [0., 0.],\n",
       "        [0., 0.],\n",
       "        [0., 0.],\n",
       "        [0., 0.],\n",
       "        [0., 0.]]])</details></samp><samp style='font-size: 12px;'><details><summary><b style=\"color: #e55471;\">Tensor</b>(shape=(<b style=\"color: #a4de79;\">6</b>, <b style=\"color: #a4de79;\">6</b>, <b style=\"color: #828fdd;\">2</b>), inds=[<b style=\"color: #db2eca;\">_7a5ad1AAACk</b>, <b style=\"color: #e47063;\">_7a5ad1AAACl</b>, <b style=\"color: #4c7be1;\">k3</b>], tags={<b style=\"color: #dd65d9;\">I3</b>}),</summary>backend=<b style=\"color: #7fdd73;\">numpy</b>, dtype=<b style=\"color: #75d2c6;\">float64</b>, data=array([[[0., 0.],\n",
       "        [0., 0.],\n",
       "        [0., 0.],\n",
       "        [0., 0.],\n",
       "        [0., 0.],\n",
       "        [0., 0.]],\n",
       "\n",
       "       [[0., 0.],\n",
       "        [0., 0.],\n",
       "        [0., 0.],\n",
       "        [0., 0.],\n",
       "        [0., 0.],\n",
       "        [0., 0.]],\n",
       "\n",
       "       [[0., 0.],\n",
       "        [0., 0.],\n",
       "        [0., 0.],\n",
       "        [0., 0.],\n",
       "        [0., 0.],\n",
       "        [0., 0.]],\n",
       "\n",
       "       [[0., 0.],\n",
       "        [0., 0.],\n",
       "        [0., 0.],\n",
       "        [0., 0.],\n",
       "        [0., 0.],\n",
       "        [0., 0.]],\n",
       "\n",
       "       [[0., 0.],\n",
       "        [0., 0.],\n",
       "        [0., 0.],\n",
       "        [0., 0.],\n",
       "        [0., 0.],\n",
       "        [0., 0.]],\n",
       "\n",
       "       [[0., 0.],\n",
       "        [0., 0.],\n",
       "        [0., 0.],\n",
       "        [0., 0.],\n",
       "        [0., 0.],\n",
       "        [0., 0.]]])</details></samp><samp style='font-size: 12px;'><details><summary><b style=\"color: #e55471;\">Tensor</b>(shape=(<b style=\"color: #a4de79;\">6</b>, <b style=\"color: #a4de79;\">6</b>, <b style=\"color: #828fdd;\">2</b>), inds=[<b style=\"color: #e47063;\">_7a5ad1AAACl</b>, <b style=\"color: #98d12d;\">_7a5ad1AAACm</b>, <b style=\"color: #462edc;\">k4</b>], tags={<b style=\"color: #998ad1;\">I4</b>}),</summary>backend=<b style=\"color: #7fdd73;\">numpy</b>, dtype=<b style=\"color: #75d2c6;\">float64</b>, data=array([[[0., 0.],\n",
       "        [0., 0.],\n",
       "        [0., 0.],\n",
       "        [0., 0.],\n",
       "        [0., 0.],\n",
       "        [0., 0.]],\n",
       "\n",
       "       [[0., 0.],\n",
       "        [0., 0.],\n",
       "        [0., 0.],\n",
       "        [0., 0.],\n",
       "        [0., 0.],\n",
       "        [0., 0.]],\n",
       "\n",
       "       [[0., 0.],\n",
       "        [0., 0.],\n",
       "        [0., 0.],\n",
       "        [0., 0.],\n",
       "        [0., 0.],\n",
       "        [0., 0.]],\n",
       "\n",
       "       [[0., 0.],\n",
       "        [0., 0.],\n",
       "        [0., 0.],\n",
       "        [0., 0.],\n",
       "        [0., 0.],\n",
       "        [0., 0.]],\n",
       "\n",
       "       [[0., 0.],\n",
       "        [0., 0.],\n",
       "        [0., 0.],\n",
       "        [0., 0.],\n",
       "        [0., 0.],\n",
       "        [0., 0.]],\n",
       "\n",
       "       [[0., 0.],\n",
       "        [0., 0.],\n",
       "        [0., 0.],\n",
       "        [0., 0.],\n",
       "        [0., 0.],\n",
       "        [0., 0.]]])</details></samp><samp style='font-size: 12px;'><details><summary><b style=\"color: #e55471;\">Tensor</b>(shape=(<b style=\"color: #a4de79;\">6</b>, <b style=\"color: #a4de79;\">6</b>, <b style=\"color: #828fdd;\">2</b>), inds=[<b style=\"color: #98d12d;\">_7a5ad1AAACm</b>, <b style=\"color: #db4d93;\">_7a5ad1AAACn</b>, <b style=\"color: #85dfdf;\">k5</b>], tags={<b style=\"color: #97dddc;\">I5</b>}),</summary>backend=<b style=\"color: #7fdd73;\">numpy</b>, dtype=<b style=\"color: #75d2c6;\">float64</b>, data=array([[[0., 0.],\n",
       "        [0., 0.],\n",
       "        [0., 0.],\n",
       "        [0., 0.],\n",
       "        [0., 0.],\n",
       "        [0., 0.]],\n",
       "\n",
       "       [[0., 0.],\n",
       "        [0., 0.],\n",
       "        [0., 0.],\n",
       "        [0., 0.],\n",
       "        [0., 0.],\n",
       "        [0., 0.]],\n",
       "\n",
       "       [[0., 0.],\n",
       "        [0., 0.],\n",
       "        [0., 0.],\n",
       "        [0., 0.],\n",
       "        [0., 0.],\n",
       "        [0., 0.]],\n",
       "\n",
       "       [[0., 0.],\n",
       "        [0., 0.],\n",
       "        [0., 0.],\n",
       "        [0., 0.],\n",
       "        [0., 0.],\n",
       "        [0., 0.]],\n",
       "\n",
       "       [[0., 0.],\n",
       "        [0., 0.],\n",
       "        [0., 0.],\n",
       "        [0., 0.],\n",
       "        [0., 0.],\n",
       "        [0., 0.]],\n",
       "\n",
       "       [[0., 0.],\n",
       "        [0., 0.],\n",
       "        [0., 0.],\n",
       "        [0., 0.],\n",
       "        [0., 0.],\n",
       "        [0., 0.]]])</details></samp><samp style='font-size: 12px;'><details><summary><b style=\"color: #e55471;\">Tensor</b>(shape=(<b style=\"color: #a4de79;\">6</b>, <b style=\"color: #a4de79;\">6</b>, <b style=\"color: #828fdd;\">2</b>), inds=[<b style=\"color: #db4d93;\">_7a5ad1AAACn</b>, <b style=\"color: #a74fd2;\">_7a5ad1AAACo</b>, <b style=\"color: #2cb7d3;\">k6</b>], tags={<b style=\"color: #b2de5f;\">I6</b>}),</summary>backend=<b style=\"color: #7fdd73;\">numpy</b>, dtype=<b style=\"color: #75d2c6;\">float64</b>, data=array([[[0., 0.],\n",
       "        [0., 0.],\n",
       "        [0., 0.],\n",
       "        [0., 0.],\n",
       "        [0., 0.],\n",
       "        [0., 0.]],\n",
       "\n",
       "       [[0., 0.],\n",
       "        [0., 0.],\n",
       "        [0., 0.],\n",
       "        [0., 0.],\n",
       "        [0., 0.],\n",
       "        [0., 0.]],\n",
       "\n",
       "       [[0., 0.],\n",
       "        [0., 0.],\n",
       "        [0., 0.],\n",
       "        [0., 0.],\n",
       "        [0., 0.],\n",
       "        [0., 0.]],\n",
       "\n",
       "       [[0., 0.],\n",
       "        [0., 0.],\n",
       "        [0., 0.],\n",
       "        [0., 0.],\n",
       "        [0., 0.],\n",
       "        [0., 0.]],\n",
       "\n",
       "       [[0., 0.],\n",
       "        [0., 0.],\n",
       "        [0., 0.],\n",
       "        [0., 0.],\n",
       "        [0., 0.],\n",
       "        [0., 0.]],\n",
       "\n",
       "       [[0., 0.],\n",
       "        [0., 0.],\n",
       "        [0., 0.],\n",
       "        [0., 0.],\n",
       "        [0., 0.],\n",
       "        [0., 0.]]])</details></samp><samp style='font-size: 12px;'><details><summary><b style=\"color: #e55471;\">Tensor</b>(shape=(<b style=\"color: #a4de79;\">6</b>, <b style=\"color: #a4de79;\">6</b>, <b style=\"color: #828fdd;\">2</b>), inds=[<b style=\"color: #a74fd2;\">_7a5ad1AAACo</b>, <b style=\"color: #52d346;\">_7a5ad1AAACp</b>, <b style=\"color: #53e08f;\">k7</b>], tags={<b style=\"color: #5582d6;\">I7</b>}),</summary>backend=<b style=\"color: #7fdd73;\">numpy</b>, dtype=<b style=\"color: #75d2c6;\">float64</b>, data=array([[[0., 0.],\n",
       "        [0., 0.],\n",
       "        [0., 0.],\n",
       "        [0., 0.],\n",
       "        [0., 0.],\n",
       "        [0., 0.]],\n",
       "\n",
       "       [[0., 0.],\n",
       "        [0., 0.],\n",
       "        [0., 0.],\n",
       "        [0., 0.],\n",
       "        [0., 0.],\n",
       "        [0., 0.]],\n",
       "\n",
       "       [[0., 0.],\n",
       "        [0., 0.],\n",
       "        [0., 0.],\n",
       "        [0., 0.],\n",
       "        [0., 0.],\n",
       "        [0., 0.]],\n",
       "\n",
       "       [[0., 0.],\n",
       "        [0., 0.],\n",
       "        [0., 0.],\n",
       "        [0., 0.],\n",
       "        [0., 0.],\n",
       "        [0., 0.]],\n",
       "\n",
       "       [[0., 0.],\n",
       "        [0., 0.],\n",
       "        [0., 0.],\n",
       "        [0., 0.],\n",
       "        [0., 0.],\n",
       "        [0., 0.]],\n",
       "\n",
       "       [[0., 0.],\n",
       "        [0., 0.],\n",
       "        [0., 0.],\n",
       "        [0., 0.],\n",
       "        [0., 0.],\n",
       "        [0., 0.]]])</details></samp><samp style='font-size: 12px;'><details><summary><b style=\"color: #e55471;\">Tensor</b>(shape=(<b style=\"color: #a4de79;\">6</b>, <b style=\"color: #828fdd;\">2</b>), inds=[<b style=\"color: #52d346;\">_7a5ad1AAACp</b>, <b style=\"color: #7bcd9f;\">k8</b>], tags={<b style=\"color: #8a3dd8;\">I8</b>}),</summary>backend=<b style=\"color: #7fdd73;\">numpy</b>, dtype=<b style=\"color: #75d2c6;\">float64</b>, data=array([[0., 0.],\n",
       "       [0., 0.],\n",
       "       [0., 0.],\n",
       "       [0., 0.],\n",
       "       [0., 0.],\n",
       "       [0., 0.]])</details></samp></details></samp>"
      ],
      "text/plain": [
       "MatrixProductState(tensors=9, indices=17, L=9, max_bond=6)"
      ]
     },
     "execution_count": 46,
     "metadata": {},
     "output_type": "execute_result"
    }
   ],
   "source": [
    "qtn.MPS_zero_state(bond_dim=6, L=9)"
   ]
  },
  {
   "cell_type": "code",
   "execution_count": 47,
   "metadata": {},
   "outputs": [
    {
     "data": {
      "text/html": [
       "<samp style='font-size: 12px;'><details><summary><b style=\"color: #d75692;\">MatrixProductState</b>(tensors=9, indices=17, L=9, max_bond=6)</summary><samp style='font-size: 12px;'><details><summary><b style=\"color: #e55471;\">Tensor</b>(shape=(<b style=\"color: #a4de79;\">6</b>, <b style=\"color: #828fdd;\">2</b>), inds=[<b style=\"color: #37de8c;\">_7a5ad1AAACq</b>, <b style=\"color: #b1dc61;\">k0</b>], tags={<b style=\"color: #d2b137;\">I0</b>}),</summary>backend=<b style=\"color: #7fdd73;\">numpy</b>, dtype=<b style=\"color: #75d2c6;\">float64</b>, data=array([[-0.21152689, -0.317773  ],\n",
       "       [ 0.13166537,  0.28364581],\n",
       "       [-0.10128976,  0.04287711],\n",
       "       [ 0.93958749,  0.30912655],\n",
       "       [-0.62174866, -0.30713043],\n",
       "       [-0.35360793, -0.25454133]])</details></samp><samp style='font-size: 12px;'><details><summary><b style=\"color: #e55471;\">Tensor</b>(shape=(<b style=\"color: #a4de79;\">6</b>, <b style=\"color: #a4de79;\">6</b>, <b style=\"color: #828fdd;\">2</b>), inds=[<b style=\"color: #37de8c;\">_7a5ad1AAACq</b>, <b style=\"color: #cf43d9;\">_7a5ad1AAACr</b>, <b style=\"color: #8aa5db;\">k1</b>], tags={<b style=\"color: #d19b78;\">I1</b>}),</summary>backend=<b style=\"color: #7fdd73;\">numpy</b>, dtype=<b style=\"color: #75d2c6;\">float64</b>, data=array([[[ 0.21490114, -0.1748184 ],\n",
       "        [ 0.55879838, -0.17027545],\n",
       "        [ 0.05382564,  0.31123109],\n",
       "        [ 0.36076299,  0.18109651],\n",
       "        [-0.10816013,  0.07571871],\n",
       "        [ 0.31636803, -0.5783938 ]],\n",
       "\n",
       "       [[ 0.34169428,  0.02091467],\n",
       "        [ 0.15405038, -0.03997169],\n",
       "        [-0.20159195,  0.84415588],\n",
       "        [ 0.96476479, -0.01118506],\n",
       "        [-0.31816608,  0.44419659],\n",
       "        [ 0.31604409,  0.50883261]],\n",
       "\n",
       "       [[ 0.12363524,  0.17298785],\n",
       "        [-0.16272169,  0.36397387],\n",
       "        [ 0.09317411,  0.47661335],\n",
       "        [ 0.09482223, -0.09108813],\n",
       "        [-0.17162736,  0.31509769],\n",
       "        [ 0.48146682,  0.15321211]],\n",
       "\n",
       "       [[-0.29947537, -0.44659392],\n",
       "        [ 0.36203169,  0.76300054],\n",
       "        [ 0.17590171,  0.32028419],\n",
       "        [ 0.22027441,  0.28794245],\n",
       "        [-0.08131004,  0.23606676],\n",
       "        [-0.25005832, -0.28431207]],\n",
       "\n",
       "       [[-0.48474331,  0.07531736],\n",
       "        [ 0.13065637,  0.12571482],\n",
       "        [ 0.41677579, -0.3776958 ],\n",
       "        [-0.31091556, -0.01330718],\n",
       "        [ 0.23093763,  0.33049782],\n",
       "        [-0.02987129,  0.63613422]],\n",
       "\n",
       "       [[ 0.28083717, -0.14983259],\n",
       "        [-0.26576199,  0.14914788],\n",
       "        [-0.03688054, -0.09902602],\n",
       "        [ 0.24800334, -0.00649017],\n",
       "        [ 0.29236416,  0.58051599],\n",
       "        [-0.57402496, -0.17132936]]])</details></samp><samp style='font-size: 12px;'><details><summary><b style=\"color: #e55471;\">Tensor</b>(shape=(<b style=\"color: #a4de79;\">6</b>, <b style=\"color: #a4de79;\">6</b>, <b style=\"color: #828fdd;\">2</b>), inds=[<b style=\"color: #cf43d9;\">_7a5ad1AAACr</b>, <b style=\"color: #b8d338;\">_7a5ad1AAACs</b>, <b style=\"color: #df546d;\">k2</b>], tags={<b style=\"color: #dd5dd7;\">I2</b>}),</summary>backend=<b style=\"color: #7fdd73;\">numpy</b>, dtype=<b style=\"color: #75d2c6;\">float64</b>, data=array([[[-0.85266931, -0.72623149],\n",
       "        [-0.40745645,  0.43413909],\n",
       "        [-0.23431892, -0.40970407],\n",
       "        [-0.02648522,  0.11469156],\n",
       "        [ 0.52974471,  0.05027862],\n",
       "        [-0.36578629,  0.83671967]],\n",
       "\n",
       "       [[-0.37482857, -0.10699614],\n",
       "        [-0.50416535, -0.00594316],\n",
       "        [ 0.08853809,  0.16947512],\n",
       "        [-0.10001451,  0.00570637],\n",
       "        [-0.38872785, -0.19447082],\n",
       "        [ 0.43631321, -0.34858873]],\n",
       "\n",
       "       [[ 0.20245859,  0.20506689],\n",
       "        [ 0.13319298,  0.05297391],\n",
       "        [ 0.0388864 , -0.37602538],\n",
       "        [-0.00634465, -0.03434223],\n",
       "        [ 0.17920506, -0.6543745 ],\n",
       "        [-0.6820295 ,  0.067215  ]],\n",
       "\n",
       "       [[-0.59355976, -0.04123323],\n",
       "        [-0.2821257 , -0.13372858],\n",
       "        [-0.19566126,  0.04791385],\n",
       "        [-0.70679133, -0.13501636],\n",
       "        [ 0.33948309,  0.71399187],\n",
       "        [-0.23069467,  0.0588669 ]],\n",
       "\n",
       "       [[-0.34436801, -0.11145657],\n",
       "        [-0.01532426, -0.11892843],\n",
       "        [-0.46261317, -0.30113655],\n",
       "        [ 0.19580959, -0.22690779],\n",
       "        [-0.49811551, -0.25023916],\n",
       "        [-0.21623317, -0.21018341]],\n",
       "\n",
       "       [[ 0.17115783,  0.15656309],\n",
       "        [ 0.33662034,  0.29204891],\n",
       "        [ 0.30295227,  0.00387446],\n",
       "        [ 0.06332905,  0.47512726],\n",
       "        [ 0.28834736,  0.18336158],\n",
       "        [-0.05309553,  0.1815521 ]]])</details></samp><samp style='font-size: 12px;'><details><summary><b style=\"color: #e55471;\">Tensor</b>(shape=(<b style=\"color: #a4de79;\">6</b>, <b style=\"color: #a4de79;\">6</b>, <b style=\"color: #828fdd;\">2</b>), inds=[<b style=\"color: #b8d338;\">_7a5ad1AAACs</b>, <b style=\"color: #d8af61;\">_7a5ad1AAACt</b>, <b style=\"color: #4c7be1;\">k3</b>], tags={<b style=\"color: #dd65d9;\">I3</b>}),</summary>backend=<b style=\"color: #7fdd73;\">numpy</b>, dtype=<b style=\"color: #75d2c6;\">float64</b>, data=array([[[ 0.13783973, -0.04115082],\n",
       "        [ 0.12171592,  0.07498834],\n",
       "        [ 0.92530486,  0.31270736],\n",
       "        [ 0.52691406,  0.50190593],\n",
       "        [ 0.62095551,  0.23967436],\n",
       "        [ 0.24210889,  0.1775493 ]],\n",
       "\n",
       "       [[ 0.46155774, -0.07377394],\n",
       "        [-0.55994777,  0.25415132],\n",
       "        [ 0.39534916, -0.1931251 ],\n",
       "        [ 0.33834224,  0.51511193],\n",
       "        [-0.31006265, -0.52369137],\n",
       "        [ 0.38203564,  0.09162993]],\n",
       "\n",
       "       [[ 0.48174791,  0.00735079],\n",
       "        [-0.38743004,  0.30882648],\n",
       "        [ 0.01707803,  0.2060546 ],\n",
       "        [-0.17680389,  0.0909751 ],\n",
       "        [-0.26927519,  0.11537755],\n",
       "        [ 0.40499899,  0.29729064]],\n",
       "\n",
       "       [[-0.15471429, -0.34759183],\n",
       "        [-0.26651524, -0.56138765],\n",
       "        [ 0.54740163,  0.47869185],\n",
       "        [ 0.33544816,  0.14270741],\n",
       "        [ 0.28467372,  0.46863442],\n",
       "        [ 0.49415167,  0.05672244]],\n",
       "\n",
       "       [[ 0.18960022,  0.43002073],\n",
       "        [ 0.41801474, -0.32031833],\n",
       "        [-0.39504128,  0.18935676],\n",
       "        [ 0.15601069, -0.20191566],\n",
       "        [-0.00357604,  0.46682747],\n",
       "        [ 0.21625353,  0.05320295]],\n",
       "\n",
       "       [[ 0.05136197,  0.30987928],\n",
       "        [ 0.94037748,  0.092046  ],\n",
       "        [-0.1388006 ,  0.21479226],\n",
       "        [ 0.06915923,  0.47374866],\n",
       "        [-0.01910844, -0.24137145],\n",
       "        [-0.64550474, -0.15487807]]])</details></samp><samp style='font-size: 12px;'><details><summary><b style=\"color: #e55471;\">Tensor</b>(shape=(<b style=\"color: #a4de79;\">6</b>, <b style=\"color: #a4de79;\">6</b>, <b style=\"color: #828fdd;\">2</b>), inds=[<b style=\"color: #d8af61;\">_7a5ad1AAACt</b>, <b style=\"color: #5adf6f;\">_7a5ad1AAACu</b>, <b style=\"color: #462edc;\">k4</b>], tags={<b style=\"color: #998ad1;\">I4</b>}),</summary>backend=<b style=\"color: #7fdd73;\">numpy</b>, dtype=<b style=\"color: #75d2c6;\">float64</b>, data=array([[[-0.20946285,  0.581071  ],\n",
       "        [ 0.35006112, -0.09725925],\n",
       "        [ 0.03049098, -0.02499125],\n",
       "        [-0.30510891,  0.08620509],\n",
       "        [ 0.35871403, -0.42309696],\n",
       "        [ 0.53239214,  0.5125641 ]],\n",
       "\n",
       "       [[ 0.19325223,  0.10491749],\n",
       "        [-0.35913717, -0.18400077],\n",
       "        [ 0.64149875, -0.40647776],\n",
       "        [ 0.24204329,  0.04407916],\n",
       "        [ 0.13986065, -0.35886508],\n",
       "        [-0.22930502,  0.33552054]],\n",
       "\n",
       "       [[ 0.00959041,  0.04542897],\n",
       "        [-0.07740256,  0.61012001],\n",
       "        [ 0.18594581,  0.43635302],\n",
       "        [ 0.27186622, -0.07813061],\n",
       "        [ 0.36232527, -0.19277156],\n",
       "        [-0.27677009,  0.13786097]],\n",
       "\n",
       "       [[ 0.83712285, -0.20647934],\n",
       "        [-0.02481596,  0.57536713],\n",
       "        [ 0.03156382, -0.12880299],\n",
       "        [ 0.23339328,  0.25231091],\n",
       "        [ 0.42416065,  0.34200629],\n",
       "        [-0.52416797, -0.09877897]],\n",
       "\n",
       "       [[ 0.15378867,  0.67903079],\n",
       "        [ 0.39896982, -0.00950056],\n",
       "        [-0.17192339, -0.00928609],\n",
       "        [ 0.34543696, -0.19817673],\n",
       "        [-0.4274322 , -0.33426584],\n",
       "        [ 0.4376019 , -0.09214246]],\n",
       "\n",
       "       [[-0.17342764,  0.46406792],\n",
       "        [-0.22711254,  0.2771559 ],\n",
       "        [-0.05216338,  0.7961562 ],\n",
       "        [ 0.32803148, -0.08939238],\n",
       "        [-0.21192645,  0.8624082 ],\n",
       "        [-0.42119512,  0.27268845]]])</details></samp><samp style='font-size: 12px;'><details><summary><b style=\"color: #e55471;\">Tensor</b>(shape=(<b style=\"color: #a4de79;\">6</b>, <b style=\"color: #a4de79;\">6</b>, <b style=\"color: #828fdd;\">2</b>), inds=[<b style=\"color: #5adf6f;\">_7a5ad1AAACu</b>, <b style=\"color: #3c51d5;\">_7a5ad1AAACv</b>, <b style=\"color: #85dfdf;\">k5</b>], tags={<b style=\"color: #97dddc;\">I5</b>}),</summary>backend=<b style=\"color: #7fdd73;\">numpy</b>, dtype=<b style=\"color: #75d2c6;\">float64</b>, data=array([[[ 0.70716865, -0.38695176],\n",
       "        [-0.13473015,  0.17843334],\n",
       "        [-0.34958062,  0.36083636],\n",
       "        [ 0.1070181 ,  0.12674087],\n",
       "        [ 0.07183452, -0.29868559],\n",
       "        [ 0.14508756, -0.4930275 ]],\n",
       "\n",
       "       [[-0.55691342,  0.5157168 ],\n",
       "        [ 0.15887263,  0.19666354],\n",
       "        [-0.17602996,  0.25300033],\n",
       "        [-0.13576957,  0.3927009 ],\n",
       "        [-0.41503267,  0.04755449],\n",
       "        [ 0.13357963, -0.2390476 ]],\n",
       "\n",
       "       [[ 0.2780873 , -0.2823408 ],\n",
       "        [ 0.54692202, -0.12082151],\n",
       "        [-0.3219736 ,  0.08484997],\n",
       "        [ 0.06785311,  0.33176489],\n",
       "        [-0.39703653,  0.14177772],\n",
       "        [-0.30696009,  0.09721712]],\n",
       "\n",
       "       [[ 0.43172304, -0.18494995],\n",
       "        [ 0.13838233,  0.37717075],\n",
       "        [ 0.18017783, -0.29535786],\n",
       "        [-0.31142583, -0.10808102],\n",
       "        [ 0.46584351,  0.09194476],\n",
       "        [-0.31826142,  0.32548965]],\n",
       "\n",
       "       [[ 0.2946747 ,  0.05209855],\n",
       "        [-0.13629696,  0.36228265],\n",
       "        [ 0.06913375, -0.2468184 ],\n",
       "        [ 0.07788068,  0.08013211],\n",
       "        [-0.63008873, -0.22456883],\n",
       "        [-1.03097834, -0.4902349 ]],\n",
       "\n",
       "       [[ 0.15441492,  0.31575416],\n",
       "        [ 0.11065125,  0.31149824],\n",
       "        [ 0.10069443,  0.01698506],\n",
       "        [-0.22127912,  0.17321061],\n",
       "        [ 0.05053448,  0.8858363 ],\n",
       "        [-0.05188794,  0.401618  ]]])</details></samp><samp style='font-size: 12px;'><details><summary><b style=\"color: #e55471;\">Tensor</b>(shape=(<b style=\"color: #a4de79;\">6</b>, <b style=\"color: #a4de79;\">6</b>, <b style=\"color: #828fdd;\">2</b>), inds=[<b style=\"color: #3c51d5;\">_7a5ad1AAACv</b>, <b style=\"color: #d67132;\">_7a5ad1AAACw</b>, <b style=\"color: #2cb7d3;\">k6</b>], tags={<b style=\"color: #b2de5f;\">I6</b>}),</summary>backend=<b style=\"color: #7fdd73;\">numpy</b>, dtype=<b style=\"color: #75d2c6;\">float64</b>, data=array([[[ 0.01480793,  0.06926325],\n",
       "        [-0.00517202,  0.52253077],\n",
       "        [-0.22384918,  0.14406814],\n",
       "        [ 0.25535046, -0.48208501],\n",
       "        [-0.44423289, -0.07777748],\n",
       "        [-0.12042682,  0.25356953]],\n",
       "\n",
       "       [[-0.06818891,  0.30410625],\n",
       "        [-0.0286986 ,  0.46287928],\n",
       "        [ 0.31247795, -0.69043271],\n",
       "        [ 0.28106606,  0.33052783],\n",
       "        [ 0.51116482,  0.14870054],\n",
       "        [ 0.27898077,  0.4930848 ]],\n",
       "\n",
       "       [[-0.00570013,  0.40234747],\n",
       "        [-0.35693887, -0.11023037],\n",
       "        [-0.28703116,  0.00625678],\n",
       "        [-0.18065147,  0.35292094],\n",
       "        [ 0.59926427, -0.39771895],\n",
       "        [ 0.22871595, -0.39702143]],\n",
       "\n",
       "       [[-0.28864991, -0.38746737],\n",
       "        [ 0.1493565 , -0.31300249],\n",
       "        [-0.27743759, -0.70897978],\n",
       "        [-0.25813925, -0.1004273 ],\n",
       "        [ 0.75053348,  0.08998885],\n",
       "        [ 0.06673393, -0.23407684]],\n",
       "\n",
       "       [[ 0.37696092,  0.00523781],\n",
       "        [-0.12823614, -0.26656924],\n",
       "        [ 0.31486214,  0.42325956],\n",
       "        [ 0.14192029,  0.4277545 ],\n",
       "        [-0.33738581, -0.08893151],\n",
       "        [ 0.36098587, -0.1434313 ]],\n",
       "\n",
       "       [[-0.0337879 , -0.11452649],\n",
       "        [ 0.4312735 , -0.14197652],\n",
       "        [ 0.24105276,  0.37418462],\n",
       "        [ 0.14924649,  0.43569688],\n",
       "        [ 0.35987004,  0.39307211],\n",
       "        [ 0.02926484, -0.16508508]]])</details></samp><samp style='font-size: 12px;'><details><summary><b style=\"color: #e55471;\">Tensor</b>(shape=(<b style=\"color: #a4de79;\">6</b>, <b style=\"color: #a4de79;\">6</b>, <b style=\"color: #828fdd;\">2</b>), inds=[<b style=\"color: #d67132;\">_7a5ad1AAACw</b>, <b style=\"color: #6ca4df;\">_7a5ad1AAACx</b>, <b style=\"color: #53e08f;\">k7</b>], tags={<b style=\"color: #5582d6;\">I7</b>}),</summary>backend=<b style=\"color: #7fdd73;\">numpy</b>, dtype=<b style=\"color: #75d2c6;\">float64</b>, data=array([[[ 0.58777609,  0.07624181],\n",
       "        [-0.92456146, -0.28255163],\n",
       "        [-0.4122712 ,  0.0542431 ],\n",
       "        [ 0.03343199, -0.31296926],\n",
       "        [-0.19102288,  0.37269799],\n",
       "        [ 0.71979821,  0.30137539]],\n",
       "\n",
       "       [[-0.82565436,  0.11069538],\n",
       "        [ 0.09999286, -0.607345  ],\n",
       "        [-0.41259289, -0.14719552],\n",
       "        [-0.65586846,  0.1405824 ],\n",
       "        [ 0.35789214, -0.22351914],\n",
       "        [-0.22459977,  0.06415988]],\n",
       "\n",
       "       [[-0.12396678,  0.37255674],\n",
       "        [-0.1507491 ,  0.42159553],\n",
       "        [-0.32183501,  0.72634421],\n",
       "        [ 0.11187219,  0.34665033],\n",
       "        [-0.38913723,  0.30545183],\n",
       "        [ 0.20599622,  0.04698215]],\n",
       "\n",
       "       [[-0.19842967,  0.46369407],\n",
       "        [-0.29338742, -0.29800468],\n",
       "        [-0.02591036, -0.40838447],\n",
       "        [-0.43671213,  0.39630543],\n",
       "        [ 0.32218243, -0.09087691],\n",
       "        [-0.31342193,  0.28940643]],\n",
       "\n",
       "       [[ 0.10108509, -0.14637934],\n",
       "        [ 0.06884214, -0.00504776],\n",
       "        [-0.30329864, -0.10407485],\n",
       "        [ 0.23433872, -0.08651823],\n",
       "        [ 0.02077314, -0.21180206],\n",
       "        [ 0.33194337,  0.16286128]],\n",
       "\n",
       "       [[ 0.33366025, -0.19250643],\n",
       "        [-0.32171662,  0.39746449],\n",
       "        [ 0.53053066,  0.05950565],\n",
       "        [ 0.19683916, -0.0545146 ],\n",
       "        [ 0.16389934, -0.03356534],\n",
       "        [ 0.54870477, -0.32093442]]])</details></samp><samp style='font-size: 12px;'><details><summary><b style=\"color: #e55471;\">Tensor</b>(shape=(<b style=\"color: #a4de79;\">6</b>, <b style=\"color: #828fdd;\">2</b>), inds=[<b style=\"color: #6ca4df;\">_7a5ad1AAACx</b>, <b style=\"color: #7bcd9f;\">k8</b>], tags={<b style=\"color: #8a3dd8;\">I8</b>}),</summary>backend=<b style=\"color: #7fdd73;\">numpy</b>, dtype=<b style=\"color: #75d2c6;\">float64</b>, data=array([[-0.00185205,  0.18582551],\n",
       "       [ 0.68640574,  0.12775777],\n",
       "       [-0.3289142 , -0.07585912],\n",
       "       [-0.52629159,  0.09341044],\n",
       "       [-0.27599635, -0.09417239],\n",
       "       [ 0.56909153,  0.54612702]])</details></samp></details></samp>"
      ],
      "text/plain": [
       "MatrixProductState(tensors=9, indices=17, L=9, max_bond=6)"
      ]
     },
     "execution_count": 47,
     "metadata": {},
     "output_type": "execute_result"
    }
   ],
   "source": [
    "qtn.MPS_rand_state(L=9, bond_dim=6)"
   ]
  },
  {
   "cell_type": "code",
   "execution_count": 56,
   "metadata": {},
   "outputs": [],
   "source": [
    "ops = {\n",
    "    \"Identity\": qml.Identity(wires=[0]),\n",
    "    \"BlockEncode\": qml.BlockEncode([[0.1, 0.2], [0.3, 0.4]], wires=[0, 1]),\n",
    "    \"CNOT\": qml.CNOT(wires=[0, 1]),\n",
    "    \"CRX\": qml.CRX(0, wires=[0, 1]),\n",
    "    \"CRY\": qml.CRY(0, wires=[0, 1]),\n",
    "    \"CRZ\": qml.CRZ(0, wires=[0, 1]),\n",
    "    \"CRot\": qml.CRot(0, 0, 0, wires=[0, 1]),\n",
    "    \"CSWAP\": qml.CSWAP(wires=[0, 1, 2]),\n",
    "    \"CZ\": qml.CZ(wires=[0, 1]),\n",
    "    \"CCZ\": qml.CCZ(wires=[0, 1, 2]),\n",
    "    \"CY\": qml.CY(wires=[0, 1]),\n",
    "    \"CH\": qml.CH(wires=[0, 1]),\n",
    "    \"DiagonalQubitUnitary\": qml.DiagonalQubitUnitary(np.array([1, 1]), wires=[0]),\n",
    "    \"Hadamard\": qml.Hadamard(wires=[0]),\n",
    "    \"MultiRZ\": qml.MultiRZ(0, wires=[0]),\n",
    "    \"PauliX\": qml.X(0),\n",
    "    \"PauliY\": qml.Y(0),\n",
    "    \"PauliZ\": qml.Z(0),\n",
    "    \"X\": qml.X([0]),\n",
    "    \"Y\": qml.Y([0]),\n",
    "    \"Z\": qml.Z([0]),\n",
    "    \"PhaseShift\": qml.PhaseShift(0, wires=[0]),\n",
    "    \"PCPhase\": qml.PCPhase(0, 1, wires=[0, 1]),\n",
    "    \"ControlledPhaseShift\": qml.ControlledPhaseShift(0, wires=[0, 1]),\n",
    "    \"CPhaseShift00\": qml.CPhaseShift00(0, wires=[0, 1]),\n",
    "    \"CPhaseShift01\": qml.CPhaseShift01(0, wires=[0, 1]),\n",
    "    \"CPhaseShift10\": qml.CPhaseShift10(0, wires=[0, 1]),\n",
    "    \"QubitUnitary\": qml.QubitUnitary(np.eye(2), wires=[0]),\n",
    "    \"SpecialUnitary\": qml.SpecialUnitary(np.array([0.2, -0.1, 2.3]), wires=1),\n",
    "    \"ControlledQubitUnitary\": qml.ControlledQubitUnitary(\n",
    "        np.eye(2), control_wires=[1], wires=[0]\n",
    "    ),\n",
    "    \"MultiControlledX\": qml.MultiControlledX(wires=[1, 2, 0]),\n",
    "    \"IntegerComparator\": qml.IntegerComparator(1, geq=True, wires=[0, 1, 2]),\n",
    "    \"RX\": qml.RX(0, wires=[0]),\n",
    "    \"RY\": qml.RY(0, wires=[0]),\n",
    "    \"RZ\": qml.RZ(0, wires=[0]),\n",
    "    \"Rot\": qml.Rot(0, 0, 0, wires=[0]),\n",
    "    \"S\": qml.S(wires=[0]),\n",
    "    \"Adjoint(S)\": qml.adjoint(qml.S(wires=[0])),\n",
    "    \"SWAP\": qml.SWAP(wires=[0, 1]),\n",
    "    \"ISWAP\": qml.ISWAP(wires=[0, 1]),\n",
    "    \"PSWAP\": qml.PSWAP(0, wires=[0, 1]),\n",
    "    \"ECR\": qml.ECR(wires=[0, 1]),\n",
    "    \"Adjoint(ISWAP)\": qml.adjoint(qml.ISWAP(wires=[0, 1])),\n",
    "    \"T\": qml.T(wires=[0]),\n",
    "    \"Adjoint(T)\": qml.adjoint(qml.T(wires=[0])),\n",
    "    \"SX\": qml.SX(wires=[0]),\n",
    "    \"Adjoint(SX)\": qml.adjoint(qml.SX(wires=[0])),\n",
    "    \"Toffoli\": qml.Toffoli(wires=[0, 1, 2]),\n",
    "    \"QFT\": qml.templates.QFT(wires=[0, 1, 2]),\n",
    "    \"IsingXX\": qml.IsingXX(0, wires=[0, 1]),\n",
    "    \"IsingYY\": qml.IsingYY(0, wires=[0, 1]),\n",
    "    \"IsingZZ\": qml.IsingZZ(0, wires=[0, 1]),\n",
    "    \"IsingXY\": qml.IsingXY(0, wires=[0, 1]),\n",
    "    \"SingleExcitation\": qml.SingleExcitation(0, wires=[0, 1]),\n",
    "    \"SingleExcitationPlus\": qml.SingleExcitationPlus(0, wires=[0, 1]),\n",
    "    \"SingleExcitationMinus\": qml.SingleExcitationMinus(0, wires=[0, 1]),\n",
    "    \"DoubleExcitation\": qml.DoubleExcitation(0, wires=[0, 1, 2, 3]),\n",
    "    \"DoubleExcitationPlus\": qml.DoubleExcitationPlus(0, wires=[0, 1, 2, 3]),\n",
    "    \"DoubleExcitationMinus\": qml.DoubleExcitationMinus(0, wires=[0, 1, 2, 3]),\n",
    "    \"QubitCarry\": qml.QubitCarry(wires=[0, 1, 2, 3]),\n",
    "    \"QubitSum\": qml.QubitSum(wires=[0, 1, 2]),\n",
    "    \"PauliRot\": qml.PauliRot(0, \"XXYY\", wires=[0, 1, 2, 3]),\n",
    "    \"U1\": qml.U1(0, wires=0),\n",
    "    \"U2\": qml.U2(0, 0, wires=0),\n",
    "    \"U3\": qml.U3(0, 0, 0, wires=0),\n",
    "    \"SISWAP\": qml.SISWAP(wires=[0, 1]),\n",
    "    \"Adjoint(SISWAP)\": qml.adjoint(qml.SISWAP(wires=[0, 1])),\n",
    "    \"OrbitalRotation\": qml.OrbitalRotation(0, wires=[0, 1, 2, 3]),\n",
    "    \"FermionicSWAP\": qml.FermionicSWAP(0, wires=[0, 1]),\n",
    "    \"GlobalPhase\": qml.GlobalPhase(0.123, wires=[0, 1]),\n",
    "}\n",
    "\n",
    "all_ops = ops.keys()"
   ]
  },
  {
   "cell_type": "code",
   "execution_count": 62,
   "metadata": {},
   "outputs": [
    {
     "name": "stdout",
     "output_type": "stream",
     "text": [
      "[[1 0 0 0]\n",
      " [0 1 0 0]\n",
      " [0 0 0 1]\n",
      " [0 0 1 0]]\n",
      "CNOT\n",
      "[[1 0 0 0 0 0 0 0]\n",
      " [0 1 0 0 0 0 0 0]\n",
      " [0 0 1 0 0 0 0 0]\n",
      " [0 0 0 1 0 0 0 0]\n",
      " [0 0 0 0 1 0 0 0]\n",
      " [0 0 0 0 0 0 1 0]\n",
      " [0 0 0 0 0 1 0 0]\n",
      " [0 0 0 0 0 0 0 1]]\n",
      "CSWAP\n",
      "[[ 1  0  0  0]\n",
      " [ 0  1  0  0]\n",
      " [ 0  0  1  0]\n",
      " [ 0  0  0 -1]]\n",
      "CZ\n",
      "[[ 1  0  0  0  0  0  0  0]\n",
      " [ 0  1  0  0  0  0  0  0]\n",
      " [ 0  0  1  0  0  0  0  0]\n",
      " [ 0  0  0  1  0  0  0  0]\n",
      " [ 0  0  0  0  1  0  0  0]\n",
      " [ 0  0  0  0  0  1  0  0]\n",
      " [ 0  0  0  0  0  0  1  0]\n",
      " [ 0  0  0  0  0  0  0 -1]]\n",
      "CCZ\n",
      "[[1 0]\n",
      " [0 1]]\n",
      "DiagonalQubitUnitary\n",
      "[[0 1]\n",
      " [1 0]]\n",
      "PauliX\n",
      "[[ 1  0]\n",
      " [ 0 -1]]\n",
      "PauliZ\n",
      "[[0 1]\n",
      " [1 0]]\n",
      "PauliX\n",
      "[[ 1  0]\n",
      " [ 0 -1]]\n",
      "PauliZ\n",
      "[[1 0 0 0]\n",
      " [0 0 1 0]\n",
      " [0 1 0 0]\n",
      " [0 0 0 1]]\n",
      "SWAP\n",
      "[[1 0 0 0 0 0 0 0]\n",
      " [0 1 0 0 0 0 0 0]\n",
      " [0 0 1 0 0 0 0 0]\n",
      " [0 0 0 1 0 0 0 0]\n",
      " [0 0 0 0 1 0 0 0]\n",
      " [0 0 0 0 0 1 0 0]\n",
      " [0 0 0 0 0 0 0 1]\n",
      " [0 0 0 0 0 0 1 0]]\n",
      "Toffoli\n",
      "[[1 0 0 0 0 0 0 0 0 0 0 0 0 0 0 0]\n",
      " [0 1 0 0 0 0 0 0 0 0 0 0 0 0 0 0]\n",
      " [0 0 1 0 0 0 0 0 0 0 0 0 0 0 0 0]\n",
      " [0 0 0 1 0 0 0 0 0 0 0 0 0 0 0 0]\n",
      " [0 0 0 0 0 0 0 1 0 0 0 0 0 0 0 0]\n",
      " [0 0 0 0 0 0 1 0 0 0 0 0 0 0 0 0]\n",
      " [0 0 0 0 1 0 0 0 0 0 0 0 0 0 0 0]\n",
      " [0 0 0 0 0 1 0 0 0 0 0 0 0 0 0 0]\n",
      " [0 0 0 0 0 0 0 0 1 0 0 0 0 0 0 0]\n",
      " [0 0 0 0 0 0 0 0 0 1 0 0 0 0 0 0]\n",
      " [0 0 0 0 0 0 0 0 0 0 0 1 0 0 0 0]\n",
      " [0 0 0 0 0 0 0 0 0 0 1 0 0 0 0 0]\n",
      " [0 0 0 0 0 0 0 0 0 0 0 0 0 0 0 1]\n",
      " [0 0 0 0 0 0 0 0 0 0 0 0 0 0 1 0]\n",
      " [0 0 0 0 0 0 0 0 0 0 0 0 0 1 0 0]\n",
      " [0 0 0 0 0 0 0 0 0 0 0 0 1 0 0 0]]\n",
      "QubitCarry\n",
      "[[1 0 0 0 0 0 0 0]\n",
      " [0 1 0 0 0 0 0 0]\n",
      " [0 0 0 1 0 0 0 0]\n",
      " [0 0 1 0 0 0 0 0]\n",
      " [0 0 0 0 0 1 0 0]\n",
      " [0 0 0 0 1 0 0 0]\n",
      " [0 0 0 0 0 0 1 0]\n",
      " [0 0 0 0 0 0 0 1]]\n",
      "QubitSum\n"
     ]
    }
   ],
   "source": [
    "for op in all_ops:\n",
    "    if not ops[op].has_matrix:\n",
    "        print(ops[op])\n",
    "        assert False\n",
    "    mat = ops[op].matrix()   \n",
    "    name = ops[op].name \n",
    "    if mat.dtype == int:\n",
    "        print(mat)\n",
    "        print(name)"
   ]
  },
  {
   "cell_type": "code",
   "execution_count": null,
   "metadata": {},
   "outputs": [],
   "source": []
  }
 ],
 "metadata": {
  "kernelspec": {
   "display_name": "PennyLane",
   "language": "python",
   "name": "python3"
  },
  "language_info": {
   "codemirror_mode": {
    "name": "ipython",
    "version": 3
   },
   "file_extension": ".py",
   "mimetype": "text/x-python",
   "name": "python",
   "nbconvert_exporter": "python",
   "pygments_lexer": "ipython3",
   "version": "3.9.7"
  }
 },
 "nbformat": 4,
 "nbformat_minor": 2
}
