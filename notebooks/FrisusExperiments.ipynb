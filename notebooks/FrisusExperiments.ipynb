{
 "cells": [
  {
   "cell_type": "markdown",
   "metadata": {},
   "source": [
    "# Understanding the execution flow from `LightningQubit`"
   ]
  },
  {
   "cell_type": "code",
   "execution_count": 1,
   "metadata": {},
   "outputs": [
    {
     "name": "stderr",
     "output_type": "stream",
     "text": [
      "/home/pietropaolo.frisoni/anaconda3/envs/PennyLane/lib/python3.9/site-packages/cotengra/hyperoptimizers/hyper.py:34: UserWarning: Couldn't import `kahypar` - skipping from default hyper optimizer and using basic `labels` method instead.\n",
      "  warnings.warn(\n"
     ]
    }
   ],
   "source": [
    "from typing import Iterable, Union\n",
    "import quimb.tensor as qtn\n",
    "import pennylane as qml\n",
    "from pennylane.wires import Wires\n",
    "import numpy as np"
   ]
  },
  {
   "cell_type": "markdown",
   "metadata": {},
   "source": [
    "## Approach 1: choosing a tape"
   ]
  },
  {
   "cell_type": "code",
   "execution_count": 2,
   "metadata": {},
   "outputs": [],
   "source": [
    "theta = 0.1\n",
    "phi = 0.2\n",
    "\n",
    "O1 = qml.Identity(wires=[0])\n",
    "O2 = qml.PauliZ(wires=[1])\n",
    "\n",
    "ops = [\n",
    "    qml.PauliX(wires=[0]),\n",
    "    qml.RX(theta, wires=[0]),\n",
    "    qml.RX(phi, wires=[1]),\n",
    "    qml.CNOT(wires=[3, 4]),\n",
    "    qml.DoubleExcitation(phi, wires=[1, 2, 3, 4]),\n",
    "    qml.qml.CSWAP(wires=[0, 1, 2]),\n",
    "    qml.Hadamard(wires=[4]),\n",
    "    qml.qml.CSWAP(wires=[2, 3, 4]),\n",
    "    qml.CNOT(wires=[2, 4]),\n",
    "    qml.DoubleExcitation(phi, wires=[0, 1, 3, 4]),\n",
    "]\n",
    "\n",
    "meas = [qml.expval(O2), qml.expval(O2), qml.var(qml.PauliY(wires=[2])), qml.expval(O1), qml.var(qml.PauliY(wires=[4]))]\n",
    "\n",
    "\n",
    "tape = qml.tape.QuantumScript(ops=ops, measurements=meas)"
   ]
  },
  {
   "cell_type": "code",
   "execution_count": 3,
   "metadata": {},
   "outputs": [],
   "source": [
    "op = qml.qml.CSWAP(wires=[0, 1, 2])"
   ]
  },
  {
   "cell_type": "code",
   "execution_count": 4,
   "metadata": {},
   "outputs": [
    {
     "data": {
      "text/plain": [
       "[X(0),\n",
       " RX(0.1, wires=[0]),\n",
       " RX(0.2, wires=[1]),\n",
       " CNOT(wires=[3, 4]),\n",
       " DoubleExcitation(0.2, wires=[1, 2, 3, 4]),\n",
       " CSWAP(wires=[0, 1, 2]),\n",
       " Hadamard(wires=[4]),\n",
       " CSWAP(wires=[2, 3, 4]),\n",
       " CNOT(wires=[2, 4]),\n",
       " DoubleExcitation(0.2, wires=[0, 1, 3, 4])]"
      ]
     },
     "execution_count": 4,
     "metadata": {},
     "output_type": "execute_result"
    }
   ],
   "source": [
    "tape.operations"
   ]
  },
  {
   "cell_type": "code",
   "execution_count": 5,
   "metadata": {},
   "outputs": [
    {
     "data": {
      "text/plain": [
       "[Z(1), Z(1), Y(2), I(0), Y(4)]"
      ]
     },
     "execution_count": 5,
     "metadata": {},
     "output_type": "execute_result"
    }
   ],
   "source": [
    "tape.observables"
   ]
  },
  {
   "cell_type": "code",
   "execution_count": 6,
   "metadata": {},
   "outputs": [
    {
     "data": {
      "text/plain": [
       "[expval(Z(1)), expval(Z(1)), var(Y(2)), expval(I(0)), var(Y(4))]"
      ]
     },
     "execution_count": 6,
     "metadata": {},
     "output_type": "execute_result"
    }
   ],
   "source": [
    "tape.measurements"
   ]
  },
  {
   "cell_type": "code",
   "execution_count": 7,
   "metadata": {},
   "outputs": [
    {
     "data": {
      "text/plain": [
       "<Wires = [0, 1, 3, 4, 2]>"
      ]
     },
     "execution_count": 7,
     "metadata": {},
     "output_type": "execute_result"
    }
   ],
   "source": [
    "tape.wires"
   ]
  },
  {
   "cell_type": "markdown",
   "metadata": {},
   "source": [
    "## Approach 2: choosing a circuit"
   ]
  },
  {
   "cell_type": "code",
   "execution_count": 8,
   "metadata": {},
   "outputs": [
    {
     "name": "stdout",
     "output_type": "stream",
     "text": [
      "Frisus log: supports_derivatives called with:\n",
      "execution_config=ExecutionConfig(grad_on_execution=None, use_device_gradient=None, use_device_jacobian_product=False, gradient_method='best', gradient_keyword_arguments={}, device_options={}, interface=None, derivative_order=1)\n",
      "circuit=None\n",
      "\n"
     ]
    }
   ],
   "source": [
    "from functools import partial\n",
    "import pennylane as qml\n",
    "import matplotlib.pyplot as plt\n",
    "from pennylane.tape import QuantumScript, QuantumTape\n",
    "\n",
    "dev = qml.device(\"lightning.qubit\", wires=4)\n",
    "\n",
    "\n",
    "@qml.qnode(dev)\n",
    "def circuit(angles):\n",
    "    qml.Hadamard(wires=1)\n",
    "    qml.Hadamard(wires=2)\n",
    "    qml.RX(angles[0], 0)\n",
    "    qml.CNOT(wires=[1, 0])\n",
    "    qml.CNOT(wires=[2, 1])\n",
    "    qml.RX(angles[2], wires=0)\n",
    "    qml.RZ(angles[1], wires=2)\n",
    "    qml.CNOT(wires=[2, 1])\n",
    "    qml.RZ(-angles[1], wires=2)\n",
    "    qml.CNOT(wires=[1, 0])\n",
    "    qml.Hadamard(wires=1)\n",
    "    qml.CY(wires=[1, 2])\n",
    "    qml.CNOT(wires=[1, 0])\n",
    "    return qml.expval(qml.PauliZ(wires=0))\n",
    "\n",
    "\n",
    "angles = [0.1, 0.3, 0.5]\n",
    "# qnode = qml.QNode(circuit, dev)\n",
    "# qml.draw_mpl(qnode, decimals=1, style=\"sketch\")(angles)\n",
    "# plt.show()"
   ]
  },
  {
   "cell_type": "code",
   "execution_count": 9,
   "metadata": {},
   "outputs": [
    {
     "name": "stdout",
     "output_type": "stream",
     "text": [
      "Frisus log: supports_derivatives called with:\n",
      "execution_config=ExecutionConfig(grad_on_execution=None, use_device_gradient=None, use_device_jacobian_product=False, gradient_method='best', gradient_keyword_arguments={}, device_options={}, interface=None, derivative_order=1)\n",
      "circuit=<QuantumScript: wires=[1, 2, 0], params=0>\n",
      "\n",
      "Frisus log: execute_and_compute_derivatives called with:\n",
      "execution_config=ExecutionConfig(grad_on_execution=True, use_device_gradient=True, use_device_jacobian_product=False, gradient_method='adjoint', gradient_keyword_arguments={}, device_options={'rng': Generator(PCG64) at 0x71D20C8D39E0, 'c_dtype': <class 'numpy.complex128'>, 'batch_obs': False, 'mcmc': False, 'kernel_name': None, 'num_burnin': 0}, interface='autograd', derivative_order=1)\n",
      "circuits=(<QuantumScript: wires=[1, 2, 0], params=0>,)\n",
      "\n"
     ]
    },
    {
     "data": {
      "text/plain": [
       "0.8253356149096776"
      ]
     },
     "execution_count": 9,
     "metadata": {},
     "output_type": "execute_result"
    }
   ],
   "source": [
    "circuit(angles=angles)"
   ]
  },
  {
   "cell_type": "code",
   "execution_count": 10,
   "metadata": {},
   "outputs": [
    {
     "data": {
      "text/plain": [
       "(TransformProgram(validate_measurements, validate_observables, validate_device_wires, mid_circuit_measurements, decompose, broadcast_expand),\n",
       " ExecutionConfig(grad_on_execution=True, use_device_gradient=False, use_device_jacobian_product=None, gradient_method=None, gradient_keyword_arguments={}, device_options={'rng': Generator(PCG64) at 0x71D20C8D39E0, 'c_dtype': <class 'numpy.complex128'>, 'batch_obs': False, 'mcmc': False, 'kernel_name': None, 'num_burnin': 0}, interface=None, derivative_order=1))"
      ]
     },
     "execution_count": 10,
     "metadata": {},
     "output_type": "execute_result"
    }
   ],
   "source": [
    "dev.preprocess()"
   ]
  },
  {
   "cell_type": "code",
   "execution_count": 11,
   "metadata": {},
   "outputs": [
    {
     "name": "stdout",
     "output_type": "stream",
     "text": [
      "Frisus log: execute called with:\n",
      "execution_config=ExecutionConfig(grad_on_execution=None, use_device_gradient=None, use_device_jacobian_product=None, gradient_method=None, gradient_keyword_arguments={}, device_options={}, interface=None, derivative_order=1)\n",
      "circuits=(<QuantumScript: wires=[0, 1, 3, 4, 2], params=4>,)\n",
      "\n"
     ]
    },
    {
     "data": {
      "text/plain": [
       "(0.9974771866183758,\n",
       " 0.9974771866183758,\n",
       " 0.9582544125010706,\n",
       " 0.9975269786596501,\n",
       " 0.0024669055058000877)"
      ]
     },
     "execution_count": 11,
     "metadata": {},
     "output_type": "execute_result"
    }
   ],
   "source": [
    "dev.execute(circuits=tape)"
   ]
  },
  {
   "cell_type": "code",
   "execution_count": null,
   "metadata": {},
   "outputs": [],
   "source": []
  },
  {
   "cell_type": "code",
   "execution_count": null,
   "metadata": {},
   "outputs": [],
   "source": []
  },
  {
   "cell_type": "markdown",
   "metadata": {},
   "source": [
    "## Learning from `LightningQubit` using Python API"
   ]
  },
  {
   "cell_type": "code",
   "execution_count": 12,
   "metadata": {},
   "outputs": [],
   "source": [
    "from pennylane_lightning.lightning_qubit import LightningQubit"
   ]
  },
  {
   "cell_type": "code",
   "execution_count": 13,
   "metadata": {},
   "outputs": [],
   "source": [
    "obj = LightningQubit(wires=tape.wires)"
   ]
  },
  {
   "cell_type": "code",
   "execution_count": 14,
   "metadata": {},
   "outputs": [
    {
     "data": {
      "text/plain": [
       "<pennylane.tracker.Tracker at 0x71d20c97a430>"
      ]
     },
     "execution_count": 14,
     "metadata": {},
     "output_type": "execute_result"
    }
   ],
   "source": [
    "obj.tracker"
   ]
  },
  {
   "cell_type": "code",
   "execution_count": 15,
   "metadata": {},
   "outputs": [
    {
     "name": "stdout",
     "output_type": "stream",
     "text": [
      "Frisus log: execute called with:\n",
      "execution_config=ExecutionConfig(grad_on_execution=None, use_device_gradient=None, use_device_jacobian_product=None, gradient_method=None, gradient_keyword_arguments={}, device_options={}, interface=None, derivative_order=1)\n",
      "circuits=(<QuantumScript: wires=[0, 1, 3, 4, 2], params=4>,)\n",
      "\n"
     ]
    },
    {
     "data": {
      "text/plain": [
       "(0.9999502079587257, 0.9999502079587257, 0.9901818584603551, 1.0, 1.0)"
      ]
     },
     "execution_count": 15,
     "metadata": {},
     "output_type": "execute_result"
    }
   ],
   "source": [
    "obj.execute(tape)"
   ]
  },
  {
   "cell_type": "code",
   "execution_count": null,
   "metadata": {},
   "outputs": [],
   "source": []
  },
  {
   "cell_type": "code",
   "execution_count": null,
   "metadata": {},
   "outputs": [],
   "source": []
  },
  {
   "cell_type": "markdown",
   "metadata": {},
   "source": [
    "## Testing `LightningTensor` "
   ]
  },
  {
   "cell_type": "code",
   "execution_count": 16,
   "metadata": {},
   "outputs": [],
   "source": [
    "wires = tape.wires\n",
    "backend = \"quimb\"\n",
    "method = \"mps\"\n",
    "c_dtype = np.complex128\n",
    "max_bond_dim = None\n",
    "cutoff = 0.0"
   ]
  },
  {
   "cell_type": "code",
   "execution_count": 17,
   "metadata": {},
   "outputs": [],
   "source": [
    "from pennylane_lightning.lightning_tensor import LightningTensor"
   ]
  },
  {
   "cell_type": "code",
   "execution_count": 18,
   "metadata": {},
   "outputs": [],
   "source": [
    "obj = LightningTensor(\n",
    "    wires=wires,\n",
    "    backend=backend,\n",
    "    method=method,\n",
    "    c_dtype=c_dtype,\n",
    "    max_bond_dim=max_bond_dim,\n",
    "    cutoff=cutoff,\n",
    ")"
   ]
  },
  {
   "cell_type": "code",
   "execution_count": 19,
   "metadata": {},
   "outputs": [
    {
     "data": {
      "text/html": [
       "<samp style='font-size: 12px;'><details><summary><b style=\"color: #d75692;\">MatrixProductState</b>(tensors=5, indices=9, L=5, max_bond=2)</summary><samp style='font-size: 12px;'><details><summary><b style=\"color: #e55471;\">Tensor</b>(shape=(<b style=\"color: #45ce3d;\">1</b>, <b style=\"color: #828fdd;\">2</b>), inds=[<b style=\"color: #903ddf;\">_a83bbaAAAAA</b>, <b style=\"color: #b1dc61;\">k0</b>], tags={<b style=\"color: #74d649;\">0</b>, <b style=\"color: #45ce3d;\">1</b>, <b style=\"color: #828fdd;\">2</b>, <b style=\"color: #8a5bcf;\">3</b>, <b style=\"color: #80d749;\">4</b>, <b style=\"color: #d2b137;\">I0</b>, <b style=\"color: #d3b991;\">PSI0</b>}),</summary>backend=<b style=\"color: #7fdd73;\">numpy</b>, dtype=<b style=\"color: #443ce1;\">complex128</b>, data=array([[1.+0.j, 0.+0.j]])</details></samp><samp style='font-size: 12px;'><details><summary><b style=\"color: #e55471;\">Tensor</b>(shape=(<b style=\"color: #45ce3d;\">1</b>, <b style=\"color: #45ce3d;\">1</b>, <b style=\"color: #828fdd;\">2</b>), inds=[<b style=\"color: #903ddf;\">_a83bbaAAAAA</b>, <b style=\"color: #33dc7f;\">_a83bbaAAAAB</b>, <b style=\"color: #8aa5db;\">k1</b>], tags={<b style=\"color: #74d649;\">0</b>, <b style=\"color: #45ce3d;\">1</b>, <b style=\"color: #828fdd;\">2</b>, <b style=\"color: #8a5bcf;\">3</b>, <b style=\"color: #80d749;\">4</b>, <b style=\"color: #d19b78;\">I1</b>, <b style=\"color: #d3b991;\">PSI0</b>}),</summary>backend=<b style=\"color: #7fdd73;\">numpy</b>, dtype=<b style=\"color: #443ce1;\">complex128</b>, data=array([[[1.+0.j, 0.+0.j]]])</details></samp><samp style='font-size: 12px;'><details><summary><b style=\"color: #e55471;\">Tensor</b>(shape=(<b style=\"color: #45ce3d;\">1</b>, <b style=\"color: #45ce3d;\">1</b>, <b style=\"color: #828fdd;\">2</b>), inds=[<b style=\"color: #33dc7f;\">_a83bbaAAAAB</b>, <b style=\"color: #d44da1;\">_a83bbaAAAAC</b>, <b style=\"color: #df546d;\">k2</b>], tags={<b style=\"color: #74d649;\">0</b>, <b style=\"color: #45ce3d;\">1</b>, <b style=\"color: #828fdd;\">2</b>, <b style=\"color: #8a5bcf;\">3</b>, <b style=\"color: #80d749;\">4</b>, <b style=\"color: #dd5dd7;\">I2</b>, <b style=\"color: #d3b991;\">PSI0</b>}),</summary>backend=<b style=\"color: #7fdd73;\">numpy</b>, dtype=<b style=\"color: #443ce1;\">complex128</b>, data=array([[[1.+0.j, 0.+0.j]]])</details></samp><samp style='font-size: 12px;'><details><summary><b style=\"color: #e55471;\">Tensor</b>(shape=(<b style=\"color: #45ce3d;\">1</b>, <b style=\"color: #45ce3d;\">1</b>, <b style=\"color: #828fdd;\">2</b>), inds=[<b style=\"color: #d44da1;\">_a83bbaAAAAC</b>, <b style=\"color: #da7886;\">_a83bbaAAAAD</b>, <b style=\"color: #4c7be1;\">k3</b>], tags={<b style=\"color: #74d649;\">0</b>, <b style=\"color: #45ce3d;\">1</b>, <b style=\"color: #828fdd;\">2</b>, <b style=\"color: #8a5bcf;\">3</b>, <b style=\"color: #80d749;\">4</b>, <b style=\"color: #dd65d9;\">I3</b>, <b style=\"color: #d3b991;\">PSI0</b>}),</summary>backend=<b style=\"color: #7fdd73;\">numpy</b>, dtype=<b style=\"color: #443ce1;\">complex128</b>, data=array([[[1.+0.j, 0.+0.j]]])</details></samp><samp style='font-size: 12px;'><details><summary><b style=\"color: #e55471;\">Tensor</b>(shape=(<b style=\"color: #45ce3d;\">1</b>, <b style=\"color: #828fdd;\">2</b>), inds=[<b style=\"color: #da7886;\">_a83bbaAAAAD</b>, <b style=\"color: #462edc;\">k4</b>], tags={<b style=\"color: #74d649;\">0</b>, <b style=\"color: #45ce3d;\">1</b>, <b style=\"color: #828fdd;\">2</b>, <b style=\"color: #8a5bcf;\">3</b>, <b style=\"color: #80d749;\">4</b>, <b style=\"color: #998ad1;\">I4</b>, <b style=\"color: #d3b991;\">PSI0</b>}),</summary>backend=<b style=\"color: #7fdd73;\">numpy</b>, dtype=<b style=\"color: #443ce1;\">complex128</b>, data=array([[1.+0.j, 0.+0.j]])</details></samp></details></samp>"
      ],
      "text/plain": [
       "MatrixProductState(tensors=5, indices=9, L=5, max_bond=2)"
      ]
     },
     "execution_count": 19,
     "metadata": {},
     "output_type": "execute_result"
    }
   ],
   "source": [
    "obj._interface.state"
   ]
  },
  {
   "cell_type": "code",
   "execution_count": 20,
   "metadata": {},
   "outputs": [
    {
     "data": {
      "text/html": [
       "<samp style='font-size: 12px;'><details><summary><b style=\"color: #d75692;\">MatrixProductState</b>(tensors=5, indices=9, L=5, max_bond=2)</summary><samp style='font-size: 12px;'><details><summary><b style=\"color: #e55471;\">Tensor</b>(shape=(<b style=\"color: #45ce3d;\">1</b>, <b style=\"color: #828fdd;\">2</b>), inds=[<b style=\"color: #903ddf;\">_a83bbaAAAAA</b>, <b style=\"color: #b1dc61;\">k0</b>], tags={<b style=\"color: #74d649;\">0</b>, <b style=\"color: #45ce3d;\">1</b>, <b style=\"color: #828fdd;\">2</b>, <b style=\"color: #8a5bcf;\">3</b>, <b style=\"color: #80d749;\">4</b>, <b style=\"color: #d2b137;\">I0</b>, <b style=\"color: #d3b991;\">PSI0</b>}),</summary>backend=<b style=\"color: #7fdd73;\">numpy</b>, dtype=<b style=\"color: #443ce1;\">complex128</b>, data=array([[1.+0.j, 0.+0.j]])</details></samp><samp style='font-size: 12px;'><details><summary><b style=\"color: #e55471;\">Tensor</b>(shape=(<b style=\"color: #45ce3d;\">1</b>, <b style=\"color: #45ce3d;\">1</b>, <b style=\"color: #828fdd;\">2</b>), inds=[<b style=\"color: #903ddf;\">_a83bbaAAAAA</b>, <b style=\"color: #33dc7f;\">_a83bbaAAAAB</b>, <b style=\"color: #8aa5db;\">k1</b>], tags={<b style=\"color: #74d649;\">0</b>, <b style=\"color: #45ce3d;\">1</b>, <b style=\"color: #828fdd;\">2</b>, <b style=\"color: #8a5bcf;\">3</b>, <b style=\"color: #80d749;\">4</b>, <b style=\"color: #d19b78;\">I1</b>, <b style=\"color: #d3b991;\">PSI0</b>}),</summary>backend=<b style=\"color: #7fdd73;\">numpy</b>, dtype=<b style=\"color: #443ce1;\">complex128</b>, data=array([[[1.+0.j, 0.+0.j]]])</details></samp><samp style='font-size: 12px;'><details><summary><b style=\"color: #e55471;\">Tensor</b>(shape=(<b style=\"color: #45ce3d;\">1</b>, <b style=\"color: #45ce3d;\">1</b>, <b style=\"color: #828fdd;\">2</b>), inds=[<b style=\"color: #33dc7f;\">_a83bbaAAAAB</b>, <b style=\"color: #d44da1;\">_a83bbaAAAAC</b>, <b style=\"color: #df546d;\">k2</b>], tags={<b style=\"color: #74d649;\">0</b>, <b style=\"color: #45ce3d;\">1</b>, <b style=\"color: #828fdd;\">2</b>, <b style=\"color: #8a5bcf;\">3</b>, <b style=\"color: #80d749;\">4</b>, <b style=\"color: #dd5dd7;\">I2</b>, <b style=\"color: #d3b991;\">PSI0</b>}),</summary>backend=<b style=\"color: #7fdd73;\">numpy</b>, dtype=<b style=\"color: #443ce1;\">complex128</b>, data=array([[[1.+0.j, 0.+0.j]]])</details></samp><samp style='font-size: 12px;'><details><summary><b style=\"color: #e55471;\">Tensor</b>(shape=(<b style=\"color: #45ce3d;\">1</b>, <b style=\"color: #45ce3d;\">1</b>, <b style=\"color: #828fdd;\">2</b>), inds=[<b style=\"color: #d44da1;\">_a83bbaAAAAC</b>, <b style=\"color: #da7886;\">_a83bbaAAAAD</b>, <b style=\"color: #4c7be1;\">k3</b>], tags={<b style=\"color: #74d649;\">0</b>, <b style=\"color: #45ce3d;\">1</b>, <b style=\"color: #828fdd;\">2</b>, <b style=\"color: #8a5bcf;\">3</b>, <b style=\"color: #80d749;\">4</b>, <b style=\"color: #dd65d9;\">I3</b>, <b style=\"color: #d3b991;\">PSI0</b>}),</summary>backend=<b style=\"color: #7fdd73;\">numpy</b>, dtype=<b style=\"color: #443ce1;\">complex128</b>, data=array([[[1.+0.j, 0.+0.j]]])</details></samp><samp style='font-size: 12px;'><details><summary><b style=\"color: #e55471;\">Tensor</b>(shape=(<b style=\"color: #45ce3d;\">1</b>, <b style=\"color: #828fdd;\">2</b>), inds=[<b style=\"color: #da7886;\">_a83bbaAAAAD</b>, <b style=\"color: #462edc;\">k4</b>], tags={<b style=\"color: #74d649;\">0</b>, <b style=\"color: #45ce3d;\">1</b>, <b style=\"color: #828fdd;\">2</b>, <b style=\"color: #8a5bcf;\">3</b>, <b style=\"color: #80d749;\">4</b>, <b style=\"color: #998ad1;\">I4</b>, <b style=\"color: #d3b991;\">PSI0</b>}),</summary>backend=<b style=\"color: #7fdd73;\">numpy</b>, dtype=<b style=\"color: #443ce1;\">complex128</b>, data=array([[1.+0.j, 0.+0.j]])</details></samp></details></samp>"
      ],
      "text/plain": [
       "MatrixProductState(tensors=5, indices=9, L=5, max_bond=2)"
      ]
     },
     "execution_count": 20,
     "metadata": {},
     "output_type": "execute_result"
    }
   ],
   "source": [
    "obj._interface._circuitMPS.get_psi_reverse_lightcone(3)"
   ]
  },
  {
   "cell_type": "code",
   "execution_count": 21,
   "metadata": {},
   "outputs": [
    {
     "data": {
      "text/plain": [
       "pennylane.devices.execution_config.ExecutionConfig"
      ]
     },
     "execution_count": 21,
     "metadata": {},
     "output_type": "execute_result"
    }
   ],
   "source": [
    "type(obj._setup_execution_config())"
   ]
  },
  {
   "cell_type": "code",
   "execution_count": 22,
   "metadata": {},
   "outputs": [],
   "source": [
    "program, config = obj.preprocess()"
   ]
  },
  {
   "cell_type": "code",
   "execution_count": 23,
   "metadata": {},
   "outputs": [
    {
     "data": {
      "text/plain": [
       "{'apply_reverse_lightcone': None,\n",
       " 'backend': 'quimb',\n",
       " 'c_dtype': numpy.complex128,\n",
       " 'cutoff': 0.0,\n",
       " 'method': 'mps',\n",
       " 'max_bond_dim': None,\n",
       " 'measure_algorithm': None,\n",
       " 'return_tn': False,\n",
       " 'rehearse': False}"
      ]
     },
     "execution_count": 23,
     "metadata": {},
     "output_type": "execute_result"
    }
   ],
   "source": [
    "config.device_options"
   ]
  },
  {
   "cell_type": "code",
   "execution_count": 24,
   "metadata": {},
   "outputs": [
    {
     "data": {
      "text/plain": [
       "(0.9999502079587276,\n",
       " 0.9999502079587276,\n",
       " 0.9901818584603567,\n",
       " 1.0000000000000018,\n",
       " 1.0000000000000016)"
      ]
     },
     "execution_count": 24,
     "metadata": {},
     "output_type": "execute_result"
    }
   ],
   "source": [
    "obj.execute(circuits=tape)"
   ]
  },
  {
   "cell_type": "code",
   "execution_count": 25,
   "metadata": {},
   "outputs": [
    {
     "data": {
      "text/plain": [
       "[<Gate(label=RAW125146967462896, params=raw, qubits=(0,))>,\n",
       " <Gate(label=RAW125146967462704, params=raw, qubits=(0,))>,\n",
       " <Gate(label=RAW125146967463568, params=raw, qubits=(1,))>,\n",
       " <Gate(label=RAW125146967375664, params=raw, qubits=(3, 4))>,\n",
       " <Gate(label=RAW125146964432144, params=raw, qubits=((1, 2, 3, 4),))>,\n",
       " <Gate(label=RAW125146964539408, params=raw, qubits=((0, 1, 2),))>,\n",
       " <Gate(label=RAW125147678177968, params=raw, qubits=(4,))>,\n",
       " <Gate(label=RAW125146964539408, params=raw, qubits=((2, 3, 4),))>,\n",
       " <Gate(label=RAW125146967375664, params=raw, qubits=(2, 4))>,\n",
       " <Gate(label=RAW125146964557424, params=raw, qubits=((0, 1, 3, 4),))>]"
      ]
     },
     "execution_count": 25,
     "metadata": {},
     "output_type": "execute_result"
    }
   ],
   "source": [
    "obj._interface._circuitMPS.gates"
   ]
  },
  {
   "cell_type": "code",
   "execution_count": 26,
   "metadata": {},
   "outputs": [
    {
     "data": {
      "text/plain": [
       "oset(['0', '1', '2', '3', '4', 'PSI0', 'I0', 'GATE_0', 'GATE_1', 'I1', 'GATE_2', 'I2', 'I3', 'I4', 'GATE_6'])"
      ]
     },
     "execution_count": 26,
     "metadata": {},
     "output_type": "execute_result"
    }
   ],
   "source": [
    "obj._interface._circuitMPS.psi.tags"
   ]
  },
  {
   "cell_type": "code",
   "execution_count": 27,
   "metadata": {},
   "outputs": [
    {
     "data": {
      "text/plain": [
       "{'_psi': MatrixProductState(tensors=5, indices=10, L=5, max_bond=4),\n",
       " 'N': 5,\n",
       " 'gate_opts': {'contract': 'swap+split', 'propagate_tags': 'register'},\n",
       " 'gates': [<Gate(label=RAW125146967462896, params=raw, qubits=(0,))>,\n",
       "  <Gate(label=RAW125146967462704, params=raw, qubits=(0,))>,\n",
       "  <Gate(label=RAW125146967463568, params=raw, qubits=(1,))>,\n",
       "  <Gate(label=RAW125146967375664, params=raw, qubits=(3, 4))>,\n",
       "  <Gate(label=RAW125146964432144, params=raw, qubits=((1, 2, 3, 4),))>,\n",
       "  <Gate(label=RAW125146964539408, params=raw, qubits=((0, 1, 2),))>,\n",
       "  <Gate(label=RAW125147678177968, params=raw, qubits=(4,))>,\n",
       "  <Gate(label=RAW125146964539408, params=raw, qubits=((2, 3, 4),))>,\n",
       "  <Gate(label=RAW125146967375664, params=raw, qubits=(2, 4))>,\n",
       "  <Gate(label=RAW125146964557424, params=raw, qubits=((0, 1, 3, 4),))>],\n",
       " '_ket_site_ind_id': 'k{}',\n",
       " '_bra_site_ind_id': 'b{}',\n",
       " 'ket_site_ind': <function str.format>,\n",
       " 'bra_site_ind': <function str.format>,\n",
       " '_sample_n_gates': -1,\n",
       " '_storage': {},\n",
       " '_sampled_conditionals': {}}"
      ]
     },
     "execution_count": 27,
     "metadata": {},
     "output_type": "execute_result"
    }
   ],
   "source": [
    "obj._interface._circuitMPS.__dict__"
   ]
  },
  {
   "cell_type": "code",
   "execution_count": 28,
   "metadata": {},
   "outputs": [
    {
     "data": {
      "text/plain": [
       "<Circuit(n=5, num_gates=10, gate_opts={'contract': 'swap+split', 'propagate_tags': 'register'})>"
      ]
     },
     "execution_count": 28,
     "metadata": {},
     "output_type": "execute_result"
    }
   ],
   "source": [
    "obj._interface._circuitMPS"
   ]
  },
  {
   "cell_type": "code",
   "execution_count": 29,
   "metadata": {},
   "outputs": [
    {
     "data": {
      "text/plain": [
       "4"
      ]
     },
     "execution_count": 29,
     "metadata": {},
     "output_type": "execute_result"
    }
   ],
   "source": [
    "obj._interface._circuitMPS.psi.max_bond()"
   ]
  },
  {
   "cell_type": "code",
   "execution_count": 30,
   "metadata": {},
   "outputs": [
    {
     "data": {
      "text/html": [
       "<samp style='font-size: 12px;'><details><summary><b style=\"color: #d75692;\">MatrixProductState</b>(tensors=5, indices=10, L=5, max_bond=4)</summary><samp style='font-size: 12px;'><details><summary><b style=\"color: #e55471;\">Tensor</b>(shape=(<b style=\"color: #45ce3d;\">1</b>, <b style=\"color: #828fdd;\">2</b>, <b style=\"color: #828fdd;\">2</b>), inds=[<b style=\"color: #42d9cd;\">_a83bbaAAAAQ</b>, <b style=\"color: #2dd36c;\">_a83bbaAAAAE</b>, <b style=\"color: #b1dc61;\">k0</b>], tags={<b style=\"color: #d2b137;\">I0</b>, <b style=\"color: #74d649;\">0</b>, <b style=\"color: #45ce3d;\">1</b>, <b style=\"color: #828fdd;\">2</b>, <b style=\"color: #8a5bcf;\">3</b>, <b style=\"color: #80d749;\">4</b>, <b style=\"color: #d3b991;\">PSI0</b>, <b style=\"color: #d2b45d;\">GATE_0</b>, <b style=\"color: #40c3d8;\">GATE_1</b>}),</summary>backend=<b style=\"color: #7fdd73;\">numpy</b>, dtype=<b style=\"color: #443ce1;\">complex128</b>, data=array([[[-4.78016380e-19-4.94834901e-02j,\n",
       "          9.98750200e-01+6.96240595e-18j],\n",
       "        [ 3.56792318e-04+7.01243696e-03j,\n",
       "          3.47434078e-04-1.76774223e-05j]]])</details></samp><samp style='font-size: 12px;'><details><summary><b style=\"color: #e55471;\">Tensor</b>(shape=(<b style=\"color: #828fdd;\">2</b>, <b style=\"color: #80d749;\">4</b>, <b style=\"color: #828fdd;\">2</b>), inds=[<b style=\"color: #2dd36c;\">_a83bbaAAAAE</b>, <b style=\"color: #743ad1;\">_a83bbaAAAAF</b>, <b style=\"color: #8aa5db;\">k1</b>], tags={<b style=\"color: #d19b78;\">I1</b>, <b style=\"color: #74d649;\">0</b>, <b style=\"color: #45ce3d;\">1</b>, <b style=\"color: #828fdd;\">2</b>, <b style=\"color: #8a5bcf;\">3</b>, <b style=\"color: #80d749;\">4</b>, <b style=\"color: #d3b991;\">PSI0</b>, <b style=\"color: #64dc8a;\">GATE_2</b>}),</summary>backend=<b style=\"color: #7fdd73;\">numpy</b>, dtype=<b style=\"color: #443ce1;\">complex128</b>, data=array([[[-9.99999970e-01-4.06121570e-18j,\n",
       "         -1.80757551e-19+2.45687156e-04j],\n",
       "        [ 2.46106368e-06-1.96542970e-20j,\n",
       "         -1.09621478e-17+2.45893627e-05j],\n",
       "        [ 4.05864240e-20+1.45958841e-20j,\n",
       "         -1.75652876e-17+1.37076273e-18j],\n",
       "        [-4.92039976e-20+8.50115992e-21j,\n",
       "         -4.32790056e-18+2.23964906e-18j]],\n",
       "\n",
       "       [[-1.73071895e-04-8.80588631e-06j,\n",
       "          3.58418657e-02-7.04440122e-01j],\n",
       "        [ 7.04422670e-01+3.58409777e-02j,\n",
       "          3.58719865e-03-7.05032121e-02j],\n",
       "        [-1.14241063e-16-4.77705865e-17j,\n",
       "          3.53160327e-16-1.13803745e-15j],\n",
       "        [ 1.42319070e-16-1.71966460e-17j,\n",
       "          1.40550430e-16+1.43613898e-15j]]])</details></samp><samp style='font-size: 12px;'><details><summary><b style=\"color: #e55471;\">Tensor</b>(shape=(<b style=\"color: #80d749;\">4</b>, <b style=\"color: #80d749;\">4</b>, <b style=\"color: #828fdd;\">2</b>), inds=[<b style=\"color: #743ad1;\">_a83bbaAAAAF</b>, <b style=\"color: #3dacdb;\">_a83bbaAAAAG</b>, <b style=\"color: #df546d;\">k2</b>], tags={<b style=\"color: #dd5dd7;\">I2</b>, <b style=\"color: #74d649;\">0</b>, <b style=\"color: #45ce3d;\">1</b>, <b style=\"color: #828fdd;\">2</b>, <b style=\"color: #8a5bcf;\">3</b>, <b style=\"color: #80d749;\">4</b>, <b style=\"color: #d3b991;\">PSI0</b>}),</summary>backend=<b style=\"color: #7fdd73;\">numpy</b>, dtype=<b style=\"color: #443ce1;\">complex128</b>, data=array([[[-9.95019407e-01+4.60514112e-18j,\n",
       "          3.89210316e-18+5.01696664e-02j],\n",
       "        [ 4.34825358e-03-8.15919045e-18j,\n",
       "          1.67404855e-16+8.60260296e-02j],\n",
       "        [ 9.06589951e-21+1.85619329e-21j,\n",
       "         -2.53342261e-19-9.85820619e-19j],\n",
       "        [ 2.89182342e-21-4.73147310e-22j,\n",
       "          6.85037896e-20+1.72000628e-19j]],\n",
       "\n",
       "       [[-9.95855602e-02-9.23306570e-16j,\n",
       "          4.35762537e-15-5.01275401e-01j],\n",
       "        [ 4.35190777e-04-1.51267887e-15j,\n",
       "          6.36990460e-15-8.59537957e-01j],\n",
       "        [-3.71924713e-15-8.04911693e-16j,\n",
       "         -9.15933995e-16-3.92741395e-15j],\n",
       "        [-1.12410081e-15+1.94289029e-16j,\n",
       "          2.63677968e-16+7.21644966e-16j]],\n",
       "\n",
       "       [[ 1.39980872e-03+2.23266702e-03j,\n",
       "          2.85273318e-01+3.91763709e-01j],\n",
       "        [ 3.20320978e-01+5.10905579e-01j,\n",
       "         -1.66369031e-01-2.28473343e-01j],\n",
       "        [ 3.75705589e-01-4.27537833e-02j,\n",
       "         -3.36374656e-01+5.50668301e-02j],\n",
       "        [-1.92042519e-01+1.00497977e-01j,\n",
       "         -7.64492570e-02-9.81688440e-02j]],\n",
       "\n",
       "       [[-9.22169732e-05-3.41254816e-03j,\n",
       "          3.44765478e-02+3.87679323e-01j],\n",
       "        [-2.11021911e-02-7.80900098e-01j,\n",
       "         -2.01064365e-02-2.26091363e-01j],\n",
       "        [ 1.38938393e-01+5.69515386e-02j,\n",
       "         -2.64090208e-01-4.34911959e-02j],\n",
       "        [-2.69406138e-01-9.56292040e-02j,\n",
       "         -6.46143644e-03-1.03844978e-01j]]])</details></samp><samp style='font-size: 12px;'><details><summary><b style=\"color: #e55471;\">Tensor</b>(shape=(<b style=\"color: #80d749;\">4</b>, <b style=\"color: #828fdd;\">2</b>, <b style=\"color: #828fdd;\">2</b>), inds=[<b style=\"color: #3dacdb;\">_a83bbaAAAAG</b>, <b style=\"color: #db9c49;\">_a83bbaAAAAH</b>, <b style=\"color: #4c7be1;\">k3</b>], tags={<b style=\"color: #dd65d9;\">I3</b>, <b style=\"color: #74d649;\">0</b>, <b style=\"color: #45ce3d;\">1</b>, <b style=\"color: #828fdd;\">2</b>, <b style=\"color: #8a5bcf;\">3</b>, <b style=\"color: #80d749;\">4</b>, <b style=\"color: #d3b991;\">PSI0</b>}),</summary>backend=<b style=\"color: #7fdd73;\">numpy</b>, dtype=<b style=\"color: #443ce1;\">complex128</b>, data=array([[[ 9.99990515e-01+0.00000000e+00j,\n",
       "          2.53564278e-03+8.25870496e-20j],\n",
       "        [-2.49761017e-03+1.23248504e-19j,\n",
       "          2.51030858e-03+4.27166438e-18j]],\n",
       "\n",
       "       [[-1.47128547e-03+0.00000000e+00j,\n",
       "          5.80236116e-01+1.04584849e-15j],\n",
       "        [ 5.77359420e-01+1.05444250e-15j,\n",
       "          5.74438843e-01+1.01763456e-15j]],\n",
       "\n",
       "       [[-4.08474544e-03+0.00000000e+00j,\n",
       "          4.25557174e-01+5.68874492e-02j],\n",
       "        [-8.13581339e-01+1.48492330e-15j,\n",
       "          3.87855384e-01-5.74615609e-02j]],\n",
       "\n",
       "       [[ 3.45490624e-04+0.00000000e+00j,\n",
       "          1.63150496e-01+6.72581925e-01j],\n",
       "        [ 6.88132782e-02+2.17326157e-14j,\n",
       "         -2.33959277e-01-6.79369664e-01j]]])</details></samp><samp style='font-size: 12px;'><details><summary><b style=\"color: #e55471;\">Tensor</b>(shape=(<b style=\"color: #828fdd;\">2</b>, <b style=\"color: #45ce3d;\">1</b>, <b style=\"color: #828fdd;\">2</b>), inds=[<b style=\"color: #db9c49;\">_a83bbaAAAAH</b>, <b style=\"color: #42d9cd;\">_a83bbaAAAAQ</b>, <b style=\"color: #462edc;\">k4</b>], tags={<b style=\"color: #998ad1;\">I4</b>, <b style=\"color: #74d649;\">0</b>, <b style=\"color: #45ce3d;\">1</b>, <b style=\"color: #828fdd;\">2</b>, <b style=\"color: #8a5bcf;\">3</b>, <b style=\"color: #80d749;\">4</b>, <b style=\"color: #d3b991;\">PSI0</b>, <b style=\"color: #bade88;\">GATE_6</b>}),</summary>backend=<b style=\"color: #7fdd73;\">numpy</b>, dtype=<b style=\"color: #443ce1;\">complex128</b>, data=array([[[ 0.70354774+0.00000000e+00j,  0.71064799+5.74506474e-19j]],\n",
       "\n",
       "       [[-0.71064799+0.00000000e+00j,  0.70354774+5.68766447e-19j]]])</details></samp></details></samp>"
      ],
      "text/plain": [
       "MatrixProductState(tensors=5, indices=10, L=5, max_bond=4)"
      ]
     },
     "execution_count": 30,
     "metadata": {},
     "output_type": "execute_result"
    }
   ],
   "source": [
    "obj._interface._circuitMPS.psi"
   ]
  },
  {
   "cell_type": "code",
   "execution_count": 31,
   "metadata": {},
   "outputs": [
    {
     "data": {
      "image/png": "[encoded data removed]",
      "text/plain": [
       "<Figure size 600x600 with 1 Axes>"
      ]
     },
     "metadata": {
      "needs_background": "light"
     },
     "output_type": "display_data"
    }
   ],
   "source": [
    "obj._interface._circuitMPS.psi.draw(color=[f\"I{q}\" for q in range(len(wires))], show_tags=False, show_inds=True)"
   ]
  },
  {
   "cell_type": "code",
   "execution_count": 32,
   "metadata": {},
   "outputs": [],
   "source": [
    "# obj.compute_derivatives(tape)"
   ]
  },
  {
   "cell_type": "code",
   "execution_count": 33,
   "metadata": {},
   "outputs": [],
   "source": [
    "# obj._interface.state_to_array()"
   ]
  },
  {
   "cell_type": "code",
   "execution_count": 34,
   "metadata": {},
   "outputs": [
    {
     "data": {
      "text/html": [
       "<samp style='font-size: 12px;'><details><summary><b style=\"color: #d75692;\">MatrixProductState</b>(tensors=5, indices=10, L=5, max_bond=4)</summary><samp style='font-size: 12px;'><details><summary><b style=\"color: #e55471;\">Tensor</b>(shape=(<b style=\"color: #45ce3d;\">1</b>, <b style=\"color: #828fdd;\">2</b>, <b style=\"color: #828fdd;\">2</b>), inds=[<b style=\"color: #42d9cd;\">_a83bbaAAAAQ</b>, <b style=\"color: #2dd36c;\">_a83bbaAAAAE</b>, <b style=\"color: #b1dc61;\">k0</b>], tags={<b style=\"color: #d2b137;\">I0</b>, <b style=\"color: #74d649;\">0</b>, <b style=\"color: #45ce3d;\">1</b>, <b style=\"color: #828fdd;\">2</b>, <b style=\"color: #8a5bcf;\">3</b>, <b style=\"color: #80d749;\">4</b>, <b style=\"color: #d3b991;\">PSI0</b>, <b style=\"color: #d2b45d;\">GATE_0</b>, <b style=\"color: #40c3d8;\">GATE_1</b>}),</summary>backend=<b style=\"color: #7fdd73;\">numpy</b>, dtype=<b style=\"color: #443ce1;\">complex128</b>, data=array([[[-4.78016380e-19-4.94834901e-02j,\n",
       "          9.98750200e-01+6.96240595e-18j],\n",
       "        [ 3.56792318e-04+7.01243696e-03j,\n",
       "          3.47434078e-04-1.76774223e-05j]]])</details></samp><samp style='font-size: 12px;'><details><summary><b style=\"color: #e55471;\">Tensor</b>(shape=(<b style=\"color: #828fdd;\">2</b>, <b style=\"color: #80d749;\">4</b>, <b style=\"color: #828fdd;\">2</b>), inds=[<b style=\"color: #2dd36c;\">_a83bbaAAAAE</b>, <b style=\"color: #743ad1;\">_a83bbaAAAAF</b>, <b style=\"color: #8aa5db;\">k1</b>], tags={<b style=\"color: #d19b78;\">I1</b>, <b style=\"color: #74d649;\">0</b>, <b style=\"color: #45ce3d;\">1</b>, <b style=\"color: #828fdd;\">2</b>, <b style=\"color: #8a5bcf;\">3</b>, <b style=\"color: #80d749;\">4</b>, <b style=\"color: #d3b991;\">PSI0</b>, <b style=\"color: #64dc8a;\">GATE_2</b>}),</summary>backend=<b style=\"color: #7fdd73;\">numpy</b>, dtype=<b style=\"color: #443ce1;\">complex128</b>, data=array([[[-9.99999970e-01-4.06121570e-18j,\n",
       "         -1.80757551e-19+2.45687156e-04j],\n",
       "        [ 2.46106368e-06-1.96542970e-20j,\n",
       "         -1.09621478e-17+2.45893627e-05j],\n",
       "        [ 4.05864240e-20+1.45958841e-20j,\n",
       "         -1.75652876e-17+1.37076273e-18j],\n",
       "        [-4.92039976e-20+8.50115992e-21j,\n",
       "         -4.32790056e-18+2.23964906e-18j]],\n",
       "\n",
       "       [[-1.73071895e-04-8.80588631e-06j,\n",
       "          3.58418657e-02-7.04440122e-01j],\n",
       "        [ 7.04422670e-01+3.58409777e-02j,\n",
       "          3.58719865e-03-7.05032121e-02j],\n",
       "        [-1.14241063e-16-4.77705865e-17j,\n",
       "          3.53160327e-16-1.13803745e-15j],\n",
       "        [ 1.42319070e-16-1.71966460e-17j,\n",
       "          1.40550430e-16+1.43613898e-15j]]])</details></samp><samp style='font-size: 12px;'><details><summary><b style=\"color: #e55471;\">Tensor</b>(shape=(<b style=\"color: #80d749;\">4</b>, <b style=\"color: #80d749;\">4</b>, <b style=\"color: #828fdd;\">2</b>), inds=[<b style=\"color: #743ad1;\">_a83bbaAAAAF</b>, <b style=\"color: #3dacdb;\">_a83bbaAAAAG</b>, <b style=\"color: #df546d;\">k2</b>], tags={<b style=\"color: #dd5dd7;\">I2</b>, <b style=\"color: #74d649;\">0</b>, <b style=\"color: #45ce3d;\">1</b>, <b style=\"color: #828fdd;\">2</b>, <b style=\"color: #8a5bcf;\">3</b>, <b style=\"color: #80d749;\">4</b>, <b style=\"color: #d3b991;\">PSI0</b>}),</summary>backend=<b style=\"color: #7fdd73;\">numpy</b>, dtype=<b style=\"color: #443ce1;\">complex128</b>, data=array([[[-9.95019407e-01+4.60514112e-18j,\n",
       "          3.89210316e-18+5.01696664e-02j],\n",
       "        [ 4.34825358e-03-8.15919045e-18j,\n",
       "          1.67404855e-16+8.60260296e-02j],\n",
       "        [ 9.06589951e-21+1.85619329e-21j,\n",
       "         -2.53342261e-19-9.85820619e-19j],\n",
       "        [ 2.89182342e-21-4.73147310e-22j,\n",
       "          6.85037896e-20+1.72000628e-19j]],\n",
       "\n",
       "       [[-9.95855602e-02-9.23306570e-16j,\n",
       "          4.35762537e-15-5.01275401e-01j],\n",
       "        [ 4.35190777e-04-1.51267887e-15j,\n",
       "          6.36990460e-15-8.59537957e-01j],\n",
       "        [-3.71924713e-15-8.04911693e-16j,\n",
       "         -9.15933995e-16-3.92741395e-15j],\n",
       "        [-1.12410081e-15+1.94289029e-16j,\n",
       "          2.63677968e-16+7.21644966e-16j]],\n",
       "\n",
       "       [[ 1.39980872e-03+2.23266702e-03j,\n",
       "          2.85273318e-01+3.91763709e-01j],\n",
       "        [ 3.20320978e-01+5.10905579e-01j,\n",
       "         -1.66369031e-01-2.28473343e-01j],\n",
       "        [ 3.75705589e-01-4.27537833e-02j,\n",
       "         -3.36374656e-01+5.50668301e-02j],\n",
       "        [-1.92042519e-01+1.00497977e-01j,\n",
       "         -7.64492570e-02-9.81688440e-02j]],\n",
       "\n",
       "       [[-9.22169732e-05-3.41254816e-03j,\n",
       "          3.44765478e-02+3.87679323e-01j],\n",
       "        [-2.11021911e-02-7.80900098e-01j,\n",
       "         -2.01064365e-02-2.26091363e-01j],\n",
       "        [ 1.38938393e-01+5.69515386e-02j,\n",
       "         -2.64090208e-01-4.34911959e-02j],\n",
       "        [-2.69406138e-01-9.56292040e-02j,\n",
       "         -6.46143644e-03-1.03844978e-01j]]])</details></samp><samp style='font-size: 12px;'><details><summary><b style=\"color: #e55471;\">Tensor</b>(shape=(<b style=\"color: #80d749;\">4</b>, <b style=\"color: #828fdd;\">2</b>, <b style=\"color: #828fdd;\">2</b>), inds=[<b style=\"color: #3dacdb;\">_a83bbaAAAAG</b>, <b style=\"color: #db9c49;\">_a83bbaAAAAH</b>, <b style=\"color: #4c7be1;\">k3</b>], tags={<b style=\"color: #dd65d9;\">I3</b>, <b style=\"color: #74d649;\">0</b>, <b style=\"color: #45ce3d;\">1</b>, <b style=\"color: #828fdd;\">2</b>, <b style=\"color: #8a5bcf;\">3</b>, <b style=\"color: #80d749;\">4</b>, <b style=\"color: #d3b991;\">PSI0</b>}),</summary>backend=<b style=\"color: #7fdd73;\">numpy</b>, dtype=<b style=\"color: #443ce1;\">complex128</b>, data=array([[[ 9.99990515e-01+0.00000000e+00j,\n",
       "          2.53564278e-03+8.25870496e-20j],\n",
       "        [-2.49761017e-03+1.23248504e-19j,\n",
       "          2.51030858e-03+4.27166438e-18j]],\n",
       "\n",
       "       [[-1.47128547e-03+0.00000000e+00j,\n",
       "          5.80236116e-01+1.04584849e-15j],\n",
       "        [ 5.77359420e-01+1.05444250e-15j,\n",
       "          5.74438843e-01+1.01763456e-15j]],\n",
       "\n",
       "       [[-4.08474544e-03+0.00000000e+00j,\n",
       "          4.25557174e-01+5.68874492e-02j],\n",
       "        [-8.13581339e-01+1.48492330e-15j,\n",
       "          3.87855384e-01-5.74615609e-02j]],\n",
       "\n",
       "       [[ 3.45490624e-04+0.00000000e+00j,\n",
       "          1.63150496e-01+6.72581925e-01j],\n",
       "        [ 6.88132782e-02+2.17326157e-14j,\n",
       "         -2.33959277e-01-6.79369664e-01j]]])</details></samp><samp style='font-size: 12px;'><details><summary><b style=\"color: #e55471;\">Tensor</b>(shape=(<b style=\"color: #828fdd;\">2</b>, <b style=\"color: #45ce3d;\">1</b>, <b style=\"color: #828fdd;\">2</b>), inds=[<b style=\"color: #db9c49;\">_a83bbaAAAAH</b>, <b style=\"color: #42d9cd;\">_a83bbaAAAAQ</b>, <b style=\"color: #462edc;\">k4</b>], tags={<b style=\"color: #998ad1;\">I4</b>, <b style=\"color: #74d649;\">0</b>, <b style=\"color: #45ce3d;\">1</b>, <b style=\"color: #828fdd;\">2</b>, <b style=\"color: #8a5bcf;\">3</b>, <b style=\"color: #80d749;\">4</b>, <b style=\"color: #d3b991;\">PSI0</b>, <b style=\"color: #bade88;\">GATE_6</b>}),</summary>backend=<b style=\"color: #7fdd73;\">numpy</b>, dtype=<b style=\"color: #443ce1;\">complex128</b>, data=array([[[ 0.70354774+0.00000000e+00j,  0.71064799+5.74506474e-19j]],\n",
       "\n",
       "       [[-0.71064799+0.00000000e+00j,  0.70354774+5.68766447e-19j]]])</details></samp></details></samp>"
      ],
      "text/plain": [
       "MatrixProductState(tensors=5, indices=10, L=5, max_bond=4)"
      ]
     },
     "execution_count": 34,
     "metadata": {},
     "output_type": "execute_result"
    }
   ],
   "source": [
    "obj._interface._circuitMPS._psi"
   ]
  },
  {
   "cell_type": "markdown",
   "metadata": {},
   "source": [
    "# Playing with `quimb`"
   ]
  },
  {
   "cell_type": "code",
   "execution_count": 35,
   "metadata": {},
   "outputs": [],
   "source": [
    "wires = Wires(range(7))\n",
    "\n",
    "init_state = qtn.MPS_computational_state(\n",
    "    \"0\" * len(wires), tags=[str(l) for l in wires.labels]\n",
    ")\n",
    "\n",
    "qc = qtn.CircuitMPS(psi0=init_state)\n",
    "\n",
    "op = qml.CNOT(wires=[0, 1])"
   ]
  },
  {
   "cell_type": "code",
   "execution_count": 36,
   "metadata": {},
   "outputs": [
    {
     "data": {
      "image/png": "[encoded data removed]",
      "text/plain": [
       "<Figure size 600x600 with 1 Axes>"
      ]
     },
     "metadata": {
      "needs_background": "light"
     },
     "output_type": "display_data"
    }
   ],
   "source": [
    "qc.psi.draw(color=[f\"I{q}\" for q in range(len(wires))], show_tags=False, show_inds=True)"
   ]
  },
  {
   "cell_type": "code",
   "execution_count": 37,
   "metadata": {},
   "outputs": [
    {
     "data": {
      "text/plain": [
       "functools.partial(<bound method gate_TN_1D of MatrixProductState(tensors=7, indices=13, L=7, max_bond=2)>, inplace=True)"
      ]
     },
     "execution_count": 37,
     "metadata": {},
     "output_type": "execute_result"
    }
   ],
   "source": [
    "init_state.gate_"
   ]
  },
  {
   "cell_type": "code",
   "execution_count": 38,
   "metadata": {},
   "outputs": [
    {
     "data": {
      "text/plain": [
       "0j"
      ]
     },
     "execution_count": 38,
     "metadata": {},
     "output_type": "execute_result"
    }
   ],
   "source": [
    "qc.amplitude(\"0111111\")"
   ]
  },
  {
   "cell_type": "code",
   "execution_count": 39,
   "metadata": {},
   "outputs": [
    {
     "data": {
      "text/html": [
       "<samp style='font-size: 12px;'><details><summary><b style=\"color: #d75692;\">MatrixProductState</b>(tensors=7, indices=13, L=7, max_bond=2)</summary><samp style='font-size: 12px;'><details><summary><b style=\"color: #e55471;\">Tensor</b>(shape=(<b style=\"color: #45ce3d;\">1</b>, <b style=\"color: #828fdd;\">2</b>), inds=[<b style=\"color: #49e5c6;\">_a83bbaAAACW</b>, <b style=\"color: #b1dc61;\">k0</b>], tags={<b style=\"color: #74d649;\">0</b>, <b style=\"color: #45ce3d;\">1</b>, <b style=\"color: #828fdd;\">2</b>, <b style=\"color: #8a5bcf;\">3</b>, <b style=\"color: #80d749;\">4</b>, <b style=\"color: #7355d7;\">5</b>, <b style=\"color: #a4de79;\">6</b>, <b style=\"color: #d2b137;\">I0</b>}),</summary>backend=<b style=\"color: #7fdd73;\">numpy</b>, dtype=<b style=\"color: #75d2c6;\">float64</b>, data=array([[1., 0.]])</details></samp><samp style='font-size: 12px;'><details><summary><b style=\"color: #e55471;\">Tensor</b>(shape=(<b style=\"color: #45ce3d;\">1</b>, <b style=\"color: #45ce3d;\">1</b>, <b style=\"color: #828fdd;\">2</b>), inds=[<b style=\"color: #49e5c6;\">_a83bbaAAACW</b>, <b style=\"color: #56dfc2;\">_a83bbaAAACX</b>, <b style=\"color: #8aa5db;\">k1</b>], tags={<b style=\"color: #74d649;\">0</b>, <b style=\"color: #45ce3d;\">1</b>, <b style=\"color: #828fdd;\">2</b>, <b style=\"color: #8a5bcf;\">3</b>, <b style=\"color: #80d749;\">4</b>, <b style=\"color: #7355d7;\">5</b>, <b style=\"color: #a4de79;\">6</b>, <b style=\"color: #d19b78;\">I1</b>}),</summary>backend=<b style=\"color: #7fdd73;\">numpy</b>, dtype=<b style=\"color: #75d2c6;\">float64</b>, data=array([[[1., 0.]]])</details></samp><samp style='font-size: 12px;'><details><summary><b style=\"color: #e55471;\">Tensor</b>(shape=(<b style=\"color: #45ce3d;\">1</b>, <b style=\"color: #45ce3d;\">1</b>, <b style=\"color: #828fdd;\">2</b>), inds=[<b style=\"color: #56dfc2;\">_a83bbaAAACX</b>, <b style=\"color: #c8db46;\">_a83bbaAAACY</b>, <b style=\"color: #df546d;\">k2</b>], tags={<b style=\"color: #74d649;\">0</b>, <b style=\"color: #45ce3d;\">1</b>, <b style=\"color: #828fdd;\">2</b>, <b style=\"color: #8a5bcf;\">3</b>, <b style=\"color: #80d749;\">4</b>, <b style=\"color: #7355d7;\">5</b>, <b style=\"color: #a4de79;\">6</b>, <b style=\"color: #dd5dd7;\">I2</b>}),</summary>backend=<b style=\"color: #7fdd73;\">numpy</b>, dtype=<b style=\"color: #75d2c6;\">float64</b>, data=array([[[1., 0.]]])</details></samp><samp style='font-size: 12px;'><details><summary><b style=\"color: #e55471;\">Tensor</b>(shape=(<b style=\"color: #45ce3d;\">1</b>, <b style=\"color: #45ce3d;\">1</b>, <b style=\"color: #828fdd;\">2</b>), inds=[<b style=\"color: #c8db46;\">_a83bbaAAACY</b>, <b style=\"color: #75d785;\">_a83bbaAAACZ</b>, <b style=\"color: #4c7be1;\">k3</b>], tags={<b style=\"color: #74d649;\">0</b>, <b style=\"color: #45ce3d;\">1</b>, <b style=\"color: #828fdd;\">2</b>, <b style=\"color: #8a5bcf;\">3</b>, <b style=\"color: #80d749;\">4</b>, <b style=\"color: #7355d7;\">5</b>, <b style=\"color: #a4de79;\">6</b>, <b style=\"color: #dd65d9;\">I3</b>}),</summary>backend=<b style=\"color: #7fdd73;\">numpy</b>, dtype=<b style=\"color: #75d2c6;\">float64</b>, data=array([[[1., 0.]]])</details></samp><samp style='font-size: 12px;'><details><summary><b style=\"color: #e55471;\">Tensor</b>(shape=(<b style=\"color: #45ce3d;\">1</b>, <b style=\"color: #45ce3d;\">1</b>, <b style=\"color: #828fdd;\">2</b>), inds=[<b style=\"color: #75d785;\">_a83bbaAAACZ</b>, <b style=\"color: #bdd72d;\">_a83bbaAAACa</b>, <b style=\"color: #462edc;\">k4</b>], tags={<b style=\"color: #74d649;\">0</b>, <b style=\"color: #45ce3d;\">1</b>, <b style=\"color: #828fdd;\">2</b>, <b style=\"color: #8a5bcf;\">3</b>, <b style=\"color: #80d749;\">4</b>, <b style=\"color: #7355d7;\">5</b>, <b style=\"color: #a4de79;\">6</b>, <b style=\"color: #998ad1;\">I4</b>}),</summary>backend=<b style=\"color: #7fdd73;\">numpy</b>, dtype=<b style=\"color: #75d2c6;\">float64</b>, data=array([[[1., 0.]]])</details></samp><samp style='font-size: 12px;'><details><summary><b style=\"color: #e55471;\">Tensor</b>(shape=(<b style=\"color: #45ce3d;\">1</b>, <b style=\"color: #45ce3d;\">1</b>, <b style=\"color: #828fdd;\">2</b>), inds=[<b style=\"color: #bdd72d;\">_a83bbaAAACa</b>, <b style=\"color: #ceac5f;\">_a83bbaAAACb</b>, <b style=\"color: #85dfdf;\">k5</b>], tags={<b style=\"color: #74d649;\">0</b>, <b style=\"color: #45ce3d;\">1</b>, <b style=\"color: #828fdd;\">2</b>, <b style=\"color: #8a5bcf;\">3</b>, <b style=\"color: #80d749;\">4</b>, <b style=\"color: #7355d7;\">5</b>, <b style=\"color: #a4de79;\">6</b>, <b style=\"color: #97dddc;\">I5</b>}),</summary>backend=<b style=\"color: #7fdd73;\">numpy</b>, dtype=<b style=\"color: #75d2c6;\">float64</b>, data=array([[[1., 0.]]])</details></samp><samp style='font-size: 12px;'><details><summary><b style=\"color: #e55471;\">Tensor</b>(shape=(<b style=\"color: #45ce3d;\">1</b>, <b style=\"color: #828fdd;\">2</b>), inds=[<b style=\"color: #ceac5f;\">_a83bbaAAACb</b>, <b style=\"color: #2cb7d3;\">k6</b>], tags={<b style=\"color: #74d649;\">0</b>, <b style=\"color: #45ce3d;\">1</b>, <b style=\"color: #828fdd;\">2</b>, <b style=\"color: #8a5bcf;\">3</b>, <b style=\"color: #80d749;\">4</b>, <b style=\"color: #7355d7;\">5</b>, <b style=\"color: #a4de79;\">6</b>, <b style=\"color: #b2de5f;\">I6</b>}),</summary>backend=<b style=\"color: #7fdd73;\">numpy</b>, dtype=<b style=\"color: #75d2c6;\">float64</b>, data=array([[1., 0.]])</details></samp></details></samp>"
      ],
      "text/plain": [
       "MatrixProductState(tensors=7, indices=13, L=7, max_bond=2)"
      ]
     },
     "execution_count": 39,
     "metadata": {},
     "output_type": "execute_result"
    }
   ],
   "source": [
    "init_state"
   ]
  },
  {
   "cell_type": "code",
   "execution_count": 40,
   "metadata": {},
   "outputs": [
    {
     "data": {
      "text/plain": [
       "<function str.format>"
      ]
     },
     "execution_count": 40,
     "metadata": {},
     "output_type": "execute_result"
    }
   ],
   "source": [
    "qc.ket_site_ind"
   ]
  },
  {
   "cell_type": "code",
   "execution_count": 41,
   "metadata": {},
   "outputs": [
    {
     "data": {
      "text/plain": [
       "{'_psi': MatrixProductState(tensors=7, indices=7, L=7, max_bond=2),\n",
       " 'N': 7,\n",
       " 'gate_opts': {'contract': 'swap+split', 'propagate_tags': 'register'},\n",
       " 'gates': [],\n",
       " '_ket_site_ind_id': 'k{}',\n",
       " '_bra_site_ind_id': 'b{}',\n",
       " 'ket_site_ind': <function str.format>,\n",
       " 'bra_site_ind': <function str.format>,\n",
       " '_sample_n_gates': 0,\n",
       " '_storage': {('psi_simplified',\n",
       "   'ADCRS',\n",
       "   1e-12): MatrixProductState(tensors=7, indices=7, L=7, max_bond=2)},\n",
       " '_sampled_conditionals': {},\n",
       " '_marginal_storage_size': 0}"
      ]
     },
     "execution_count": 41,
     "metadata": {},
     "output_type": "execute_result"
    }
   ],
   "source": [
    "qc.__dict__"
   ]
  },
  {
   "cell_type": "code",
   "execution_count": 42,
   "metadata": {},
   "outputs": [
    {
     "data": {
      "text/plain": [
       "[]"
      ]
     },
     "execution_count": 42,
     "metadata": {},
     "output_type": "execute_result"
    }
   ],
   "source": [
    "qc.gates"
   ]
  },
  {
   "cell_type": "code",
   "execution_count": 43,
   "metadata": {},
   "outputs": [],
   "source": [
    "gate = qtn.circuit.parse_to_gate(op.matrix(), tuple(op.wires))"
   ]
  },
  {
   "cell_type": "code",
   "execution_count": 44,
   "metadata": {},
   "outputs": [
    {
     "data": {
      "text/plain": [
       "<Gate(label=RAW125146967375664, params=raw, qubits=((0, 1),))>"
      ]
     },
     "execution_count": 44,
     "metadata": {},
     "output_type": "execute_result"
    }
   ],
   "source": [
    "gate"
   ]
  },
  {
   "cell_type": "code",
   "execution_count": 45,
   "metadata": {},
   "outputs": [
    {
     "data": {
      "text/html": [
       "<samp style='font-size: 12px;'><details><summary><b style=\"color: #d75692;\">MatrixProductState</b>(tensors=7, indices=13, L=7, max_bond=2)</summary><samp style='font-size: 12px;'><details><summary><b style=\"color: #e55471;\">Tensor</b>(shape=(<b style=\"color: #45ce3d;\">1</b>, <b style=\"color: #828fdd;\">2</b>), inds=[<b style=\"color: #5e6bd1;\">_a83bbaAAACc</b>, <b style=\"color: #b1dc61;\">k0</b>], tags={<b style=\"color: #74d649;\">0</b>, <b style=\"color: #45ce3d;\">1</b>, <b style=\"color: #828fdd;\">2</b>, <b style=\"color: #8a5bcf;\">3</b>, <b style=\"color: #80d749;\">4</b>, <b style=\"color: #7355d7;\">5</b>, <b style=\"color: #a4de79;\">6</b>, <b style=\"color: #d2b137;\">I0</b>}),</summary>backend=<b style=\"color: #7fdd73;\">numpy</b>, dtype=<b style=\"color: #75d2c6;\">float64</b>, data=array([[1., 0.]])</details></samp><samp style='font-size: 12px;'><details><summary><b style=\"color: #e55471;\">Tensor</b>(shape=(<b style=\"color: #45ce3d;\">1</b>, <b style=\"color: #45ce3d;\">1</b>, <b style=\"color: #828fdd;\">2</b>), inds=[<b style=\"color: #5e6bd1;\">_a83bbaAAACc</b>, <b style=\"color: #d182b2;\">_a83bbaAAACd</b>, <b style=\"color: #8aa5db;\">k1</b>], tags={<b style=\"color: #74d649;\">0</b>, <b style=\"color: #45ce3d;\">1</b>, <b style=\"color: #828fdd;\">2</b>, <b style=\"color: #8a5bcf;\">3</b>, <b style=\"color: #80d749;\">4</b>, <b style=\"color: #7355d7;\">5</b>, <b style=\"color: #a4de79;\">6</b>, <b style=\"color: #d19b78;\">I1</b>}),</summary>backend=<b style=\"color: #7fdd73;\">numpy</b>, dtype=<b style=\"color: #75d2c6;\">float64</b>, data=array([[[1., 0.]]])</details></samp><samp style='font-size: 12px;'><details><summary><b style=\"color: #e55471;\">Tensor</b>(shape=(<b style=\"color: #45ce3d;\">1</b>, <b style=\"color: #45ce3d;\">1</b>, <b style=\"color: #828fdd;\">2</b>), inds=[<b style=\"color: #d182b2;\">_a83bbaAAACd</b>, <b style=\"color: #e5979d;\">_a83bbaAAACe</b>, <b style=\"color: #df546d;\">k2</b>], tags={<b style=\"color: #74d649;\">0</b>, <b style=\"color: #45ce3d;\">1</b>, <b style=\"color: #828fdd;\">2</b>, <b style=\"color: #8a5bcf;\">3</b>, <b style=\"color: #80d749;\">4</b>, <b style=\"color: #7355d7;\">5</b>, <b style=\"color: #a4de79;\">6</b>, <b style=\"color: #dd5dd7;\">I2</b>}),</summary>backend=<b style=\"color: #7fdd73;\">numpy</b>, dtype=<b style=\"color: #75d2c6;\">float64</b>, data=array([[[1., 0.]]])</details></samp><samp style='font-size: 12px;'><details><summary><b style=\"color: #e55471;\">Tensor</b>(shape=(<b style=\"color: #45ce3d;\">1</b>, <b style=\"color: #45ce3d;\">1</b>, <b style=\"color: #828fdd;\">2</b>), inds=[<b style=\"color: #e5979d;\">_a83bbaAAACe</b>, <b style=\"color: #afd373;\">_a83bbaAAACf</b>, <b style=\"color: #4c7be1;\">k3</b>], tags={<b style=\"color: #74d649;\">0</b>, <b style=\"color: #45ce3d;\">1</b>, <b style=\"color: #828fdd;\">2</b>, <b style=\"color: #8a5bcf;\">3</b>, <b style=\"color: #80d749;\">4</b>, <b style=\"color: #7355d7;\">5</b>, <b style=\"color: #a4de79;\">6</b>, <b style=\"color: #dd65d9;\">I3</b>}),</summary>backend=<b style=\"color: #7fdd73;\">numpy</b>, dtype=<b style=\"color: #75d2c6;\">float64</b>, data=array([[[1., 0.]]])</details></samp><samp style='font-size: 12px;'><details><summary><b style=\"color: #e55471;\">Tensor</b>(shape=(<b style=\"color: #45ce3d;\">1</b>, <b style=\"color: #45ce3d;\">1</b>, <b style=\"color: #828fdd;\">2</b>), inds=[<b style=\"color: #afd373;\">_a83bbaAAACf</b>, <b style=\"color: #c5cc76;\">_a83bbaAAACg</b>, <b style=\"color: #462edc;\">k4</b>], tags={<b style=\"color: #74d649;\">0</b>, <b style=\"color: #45ce3d;\">1</b>, <b style=\"color: #828fdd;\">2</b>, <b style=\"color: #8a5bcf;\">3</b>, <b style=\"color: #80d749;\">4</b>, <b style=\"color: #7355d7;\">5</b>, <b style=\"color: #a4de79;\">6</b>, <b style=\"color: #998ad1;\">I4</b>}),</summary>backend=<b style=\"color: #7fdd73;\">numpy</b>, dtype=<b style=\"color: #75d2c6;\">float64</b>, data=array([[[1., 0.]]])</details></samp><samp style='font-size: 12px;'><details><summary><b style=\"color: #e55471;\">Tensor</b>(shape=(<b style=\"color: #45ce3d;\">1</b>, <b style=\"color: #45ce3d;\">1</b>, <b style=\"color: #828fdd;\">2</b>), inds=[<b style=\"color: #c5cc76;\">_a83bbaAAACg</b>, <b style=\"color: #90d868;\">_a83bbaAAACh</b>, <b style=\"color: #85dfdf;\">k5</b>], tags={<b style=\"color: #74d649;\">0</b>, <b style=\"color: #45ce3d;\">1</b>, <b style=\"color: #828fdd;\">2</b>, <b style=\"color: #8a5bcf;\">3</b>, <b style=\"color: #80d749;\">4</b>, <b style=\"color: #7355d7;\">5</b>, <b style=\"color: #a4de79;\">6</b>, <b style=\"color: #97dddc;\">I5</b>}),</summary>backend=<b style=\"color: #7fdd73;\">numpy</b>, dtype=<b style=\"color: #75d2c6;\">float64</b>, data=array([[[1., 0.]]])</details></samp><samp style='font-size: 12px;'><details><summary><b style=\"color: #e55471;\">Tensor</b>(shape=(<b style=\"color: #45ce3d;\">1</b>, <b style=\"color: #828fdd;\">2</b>), inds=[<b style=\"color: #90d868;\">_a83bbaAAACh</b>, <b style=\"color: #2cb7d3;\">k6</b>], tags={<b style=\"color: #74d649;\">0</b>, <b style=\"color: #45ce3d;\">1</b>, <b style=\"color: #828fdd;\">2</b>, <b style=\"color: #8a5bcf;\">3</b>, <b style=\"color: #80d749;\">4</b>, <b style=\"color: #7355d7;\">5</b>, <b style=\"color: #a4de79;\">6</b>, <b style=\"color: #b2de5f;\">I6</b>}),</summary>backend=<b style=\"color: #7fdd73;\">numpy</b>, dtype=<b style=\"color: #75d2c6;\">float64</b>, data=array([[1., 0.]])</details></samp></details></samp>"
      ],
      "text/plain": [
       "MatrixProductState(tensors=7, indices=13, L=7, max_bond=2)"
      ]
     },
     "execution_count": 45,
     "metadata": {},
     "output_type": "execute_result"
    }
   ],
   "source": [
    "qtn.MPS_computational_state(\"0\" * len(wires), tags=[str(l) for l in wires.labels])"
   ]
  },
  {
   "cell_type": "code",
   "execution_count": 46,
   "metadata": {},
   "outputs": [
    {
     "data": {
      "text/html": [
       "<samp style='font-size: 12px;'><details><summary><b style=\"color: #d75692;\">MatrixProductState</b>(tensors=9, indices=17, L=9, max_bond=6)</summary><samp style='font-size: 12px;'><details><summary><b style=\"color: #e55471;\">Tensor</b>(shape=(<b style=\"color: #a4de79;\">6</b>, <b style=\"color: #828fdd;\">2</b>), inds=[<b style=\"color: #2ace4c;\">_a83bbaAAACi</b>, <b style=\"color: #b1dc61;\">k0</b>], tags={<b style=\"color: #d2b137;\">I0</b>}),</summary>backend=<b style=\"color: #7fdd73;\">numpy</b>, dtype=<b style=\"color: #75d2c6;\">float64</b>, data=array([[0., 0.],\n",
       "       [0., 0.],\n",
       "       [0., 0.],\n",
       "       [0., 0.],\n",
       "       [0., 0.],\n",
       "       [0., 0.]])</details></samp><samp style='font-size: 12px;'><details><summary><b style=\"color: #e55471;\">Tensor</b>(shape=(<b style=\"color: #a4de79;\">6</b>, <b style=\"color: #a4de79;\">6</b>, <b style=\"color: #828fdd;\">2</b>), inds=[<b style=\"color: #2ace4c;\">_a83bbaAAACi</b>, <b style=\"color: #dde19c;\">_a83bbaAAACj</b>, <b style=\"color: #8aa5db;\">k1</b>], tags={<b style=\"color: #d19b78;\">I1</b>}),</summary>backend=<b style=\"color: #7fdd73;\">numpy</b>, dtype=<b style=\"color: #75d2c6;\">float64</b>, data=array([[[0., 0.],\n",
       "        [0., 0.],\n",
       "        [0., 0.],\n",
       "        [0., 0.],\n",
       "        [0., 0.],\n",
       "        [0., 0.]],\n",
       "\n",
       "       [[0., 0.],\n",
       "        [0., 0.],\n",
       "        [0., 0.],\n",
       "        [0., 0.],\n",
       "        [0., 0.],\n",
       "        [0., 0.]],\n",
       "\n",
       "       [[0., 0.],\n",
       "        [0., 0.],\n",
       "        [0., 0.],\n",
       "        [0., 0.],\n",
       "        [0., 0.],\n",
       "        [0., 0.]],\n",
       "\n",
       "       [[0., 0.],\n",
       "        [0., 0.],\n",
       "        [0., 0.],\n",
       "        [0., 0.],\n",
       "        [0., 0.],\n",
       "        [0., 0.]],\n",
       "\n",
       "       [[0., 0.],\n",
       "        [0., 0.],\n",
       "        [0., 0.],\n",
       "        [0., 0.],\n",
       "        [0., 0.],\n",
       "        [0., 0.]],\n",
       "\n",
       "       [[0., 0.],\n",
       "        [0., 0.],\n",
       "        [0., 0.],\n",
       "        [0., 0.],\n",
       "        [0., 0.],\n",
       "        [0., 0.]]])</details></samp><samp style='font-size: 12px;'><details><summary><b style=\"color: #e55471;\">Tensor</b>(shape=(<b style=\"color: #a4de79;\">6</b>, <b style=\"color: #a4de79;\">6</b>, <b style=\"color: #828fdd;\">2</b>), inds=[<b style=\"color: #dde19c;\">_a83bbaAAACj</b>, <b style=\"color: #5ec3d9;\">_a83bbaAAACk</b>, <b style=\"color: #df546d;\">k2</b>], tags={<b style=\"color: #dd5dd7;\">I2</b>}),</summary>backend=<b style=\"color: #7fdd73;\">numpy</b>, dtype=<b style=\"color: #75d2c6;\">float64</b>, data=array([[[0., 0.],\n",
       "        [0., 0.],\n",
       "        [0., 0.],\n",
       "        [0., 0.],\n",
       "        [0., 0.],\n",
       "        [0., 0.]],\n",
       "\n",
       "       [[0., 0.],\n",
       "        [0., 0.],\n",
       "        [0., 0.],\n",
       "        [0., 0.],\n",
       "        [0., 0.],\n",
       "        [0., 0.]],\n",
       "\n",
       "       [[0., 0.],\n",
       "        [0., 0.],\n",
       "        [0., 0.],\n",
       "        [0., 0.],\n",
       "        [0., 0.],\n",
       "        [0., 0.]],\n",
       "\n",
       "       [[0., 0.],\n",
       "        [0., 0.],\n",
       "        [0., 0.],\n",
       "        [0., 0.],\n",
       "        [0., 0.],\n",
       "        [0., 0.]],\n",
       "\n",
       "       [[0., 0.],\n",
       "        [0., 0.],\n",
       "        [0., 0.],\n",
       "        [0., 0.],\n",
       "        [0., 0.],\n",
       "        [0., 0.]],\n",
       "\n",
       "       [[0., 0.],\n",
       "        [0., 0.],\n",
       "        [0., 0.],\n",
       "        [0., 0.],\n",
       "        [0., 0.],\n",
       "        [0., 0.]]])</details></samp><samp style='font-size: 12px;'><details><summary><b style=\"color: #e55471;\">Tensor</b>(shape=(<b style=\"color: #a4de79;\">6</b>, <b style=\"color: #a4de79;\">6</b>, <b style=\"color: #828fdd;\">2</b>), inds=[<b style=\"color: #5ec3d9;\">_a83bbaAAACk</b>, <b style=\"color: #539dcc;\">_a83bbaAAACl</b>, <b style=\"color: #4c7be1;\">k3</b>], tags={<b style=\"color: #dd65d9;\">I3</b>}),</summary>backend=<b style=\"color: #7fdd73;\">numpy</b>, dtype=<b style=\"color: #75d2c6;\">float64</b>, data=array([[[0., 0.],\n",
       "        [0., 0.],\n",
       "        [0., 0.],\n",
       "        [0., 0.],\n",
       "        [0., 0.],\n",
       "        [0., 0.]],\n",
       "\n",
       "       [[0., 0.],\n",
       "        [0., 0.],\n",
       "        [0., 0.],\n",
       "        [0., 0.],\n",
       "        [0., 0.],\n",
       "        [0., 0.]],\n",
       "\n",
       "       [[0., 0.],\n",
       "        [0., 0.],\n",
       "        [0., 0.],\n",
       "        [0., 0.],\n",
       "        [0., 0.],\n",
       "        [0., 0.]],\n",
       "\n",
       "       [[0., 0.],\n",
       "        [0., 0.],\n",
       "        [0., 0.],\n",
       "        [0., 0.],\n",
       "        [0., 0.],\n",
       "        [0., 0.]],\n",
       "\n",
       "       [[0., 0.],\n",
       "        [0., 0.],\n",
       "        [0., 0.],\n",
       "        [0., 0.],\n",
       "        [0., 0.],\n",
       "        [0., 0.]],\n",
       "\n",
       "       [[0., 0.],\n",
       "        [0., 0.],\n",
       "        [0., 0.],\n",
       "        [0., 0.],\n",
       "        [0., 0.],\n",
       "        [0., 0.]]])</details></samp><samp style='font-size: 12px;'><details><summary><b style=\"color: #e55471;\">Tensor</b>(shape=(<b style=\"color: #a4de79;\">6</b>, <b style=\"color: #a4de79;\">6</b>, <b style=\"color: #828fdd;\">2</b>), inds=[<b style=\"color: #539dcc;\">_a83bbaAAACl</b>, <b style=\"color: #87da40;\">_a83bbaAAACm</b>, <b style=\"color: #462edc;\">k4</b>], tags={<b style=\"color: #998ad1;\">I4</b>}),</summary>backend=<b style=\"color: #7fdd73;\">numpy</b>, dtype=<b style=\"color: #75d2c6;\">float64</b>, data=array([[[0., 0.],\n",
       "        [0., 0.],\n",
       "        [0., 0.],\n",
       "        [0., 0.],\n",
       "        [0., 0.],\n",
       "        [0., 0.]],\n",
       "\n",
       "       [[0., 0.],\n",
       "        [0., 0.],\n",
       "        [0., 0.],\n",
       "        [0., 0.],\n",
       "        [0., 0.],\n",
       "        [0., 0.]],\n",
       "\n",
       "       [[0., 0.],\n",
       "        [0., 0.],\n",
       "        [0., 0.],\n",
       "        [0., 0.],\n",
       "        [0., 0.],\n",
       "        [0., 0.]],\n",
       "\n",
       "       [[0., 0.],\n",
       "        [0., 0.],\n",
       "        [0., 0.],\n",
       "        [0., 0.],\n",
       "        [0., 0.],\n",
       "        [0., 0.]],\n",
       "\n",
       "       [[0., 0.],\n",
       "        [0., 0.],\n",
       "        [0., 0.],\n",
       "        [0., 0.],\n",
       "        [0., 0.],\n",
       "        [0., 0.]],\n",
       "\n",
       "       [[0., 0.],\n",
       "        [0., 0.],\n",
       "        [0., 0.],\n",
       "        [0., 0.],\n",
       "        [0., 0.],\n",
       "        [0., 0.]]])</details></samp><samp style='font-size: 12px;'><details><summary><b style=\"color: #e55471;\">Tensor</b>(shape=(<b style=\"color: #a4de79;\">6</b>, <b style=\"color: #a4de79;\">6</b>, <b style=\"color: #828fdd;\">2</b>), inds=[<b style=\"color: #87da40;\">_a83bbaAAACm</b>, <b style=\"color: #89e5e5;\">_a83bbaAAACn</b>, <b style=\"color: #85dfdf;\">k5</b>], tags={<b style=\"color: #97dddc;\">I5</b>}),</summary>backend=<b style=\"color: #7fdd73;\">numpy</b>, dtype=<b style=\"color: #75d2c6;\">float64</b>, data=array([[[0., 0.],\n",
       "        [0., 0.],\n",
       "        [0., 0.],\n",
       "        [0., 0.],\n",
       "        [0., 0.],\n",
       "        [0., 0.]],\n",
       "\n",
       "       [[0., 0.],\n",
       "        [0., 0.],\n",
       "        [0., 0.],\n",
       "        [0., 0.],\n",
       "        [0., 0.],\n",
       "        [0., 0.]],\n",
       "\n",
       "       [[0., 0.],\n",
       "        [0., 0.],\n",
       "        [0., 0.],\n",
       "        [0., 0.],\n",
       "        [0., 0.],\n",
       "        [0., 0.]],\n",
       "\n",
       "       [[0., 0.],\n",
       "        [0., 0.],\n",
       "        [0., 0.],\n",
       "        [0., 0.],\n",
       "        [0., 0.],\n",
       "        [0., 0.]],\n",
       "\n",
       "       [[0., 0.],\n",
       "        [0., 0.],\n",
       "        [0., 0.],\n",
       "        [0., 0.],\n",
       "        [0., 0.],\n",
       "        [0., 0.]],\n",
       "\n",
       "       [[0., 0.],\n",
       "        [0., 0.],\n",
       "        [0., 0.],\n",
       "        [0., 0.],\n",
       "        [0., 0.],\n",
       "        [0., 0.]]])</details></samp><samp style='font-size: 12px;'><details><summary><b style=\"color: #e55471;\">Tensor</b>(shape=(<b style=\"color: #a4de79;\">6</b>, <b style=\"color: #a4de79;\">6</b>, <b style=\"color: #828fdd;\">2</b>), inds=[<b style=\"color: #89e5e5;\">_a83bbaAAACn</b>, <b style=\"color: #d0a05f;\">_a83bbaAAACo</b>, <b style=\"color: #2cb7d3;\">k6</b>], tags={<b style=\"color: #b2de5f;\">I6</b>}),</summary>backend=<b style=\"color: #7fdd73;\">numpy</b>, dtype=<b style=\"color: #75d2c6;\">float64</b>, data=array([[[0., 0.],\n",
       "        [0., 0.],\n",
       "        [0., 0.],\n",
       "        [0., 0.],\n",
       "        [0., 0.],\n",
       "        [0., 0.]],\n",
       "\n",
       "       [[0., 0.],\n",
       "        [0., 0.],\n",
       "        [0., 0.],\n",
       "        [0., 0.],\n",
       "        [0., 0.],\n",
       "        [0., 0.]],\n",
       "\n",
       "       [[0., 0.],\n",
       "        [0., 0.],\n",
       "        [0., 0.],\n",
       "        [0., 0.],\n",
       "        [0., 0.],\n",
       "        [0., 0.]],\n",
       "\n",
       "       [[0., 0.],\n",
       "        [0., 0.],\n",
       "        [0., 0.],\n",
       "        [0., 0.],\n",
       "        [0., 0.],\n",
       "        [0., 0.]],\n",
       "\n",
       "       [[0., 0.],\n",
       "        [0., 0.],\n",
       "        [0., 0.],\n",
       "        [0., 0.],\n",
       "        [0., 0.],\n",
       "        [0., 0.]],\n",
       "\n",
       "       [[0., 0.],\n",
       "        [0., 0.],\n",
       "        [0., 0.],\n",
       "        [0., 0.],\n",
       "        [0., 0.],\n",
       "        [0., 0.]]])</details></samp><samp style='font-size: 12px;'><details><summary><b style=\"color: #e55471;\">Tensor</b>(shape=(<b style=\"color: #a4de79;\">6</b>, <b style=\"color: #a4de79;\">6</b>, <b style=\"color: #828fdd;\">2</b>), inds=[<b style=\"color: #d0a05f;\">_a83bbaAAACo</b>, <b style=\"color: #9475e0;\">_a83bbaAAACp</b>, <b style=\"color: #53e08f;\">k7</b>], tags={<b style=\"color: #5582d6;\">I7</b>}),</summary>backend=<b style=\"color: #7fdd73;\">numpy</b>, dtype=<b style=\"color: #75d2c6;\">float64</b>, data=array([[[0., 0.],\n",
       "        [0., 0.],\n",
       "        [0., 0.],\n",
       "        [0., 0.],\n",
       "        [0., 0.],\n",
       "        [0., 0.]],\n",
       "\n",
       "       [[0., 0.],\n",
       "        [0., 0.],\n",
       "        [0., 0.],\n",
       "        [0., 0.],\n",
       "        [0., 0.],\n",
       "        [0., 0.]],\n",
       "\n",
       "       [[0., 0.],\n",
       "        [0., 0.],\n",
       "        [0., 0.],\n",
       "        [0., 0.],\n",
       "        [0., 0.],\n",
       "        [0., 0.]],\n",
       "\n",
       "       [[0., 0.],\n",
       "        [0., 0.],\n",
       "        [0., 0.],\n",
       "        [0., 0.],\n",
       "        [0., 0.],\n",
       "        [0., 0.]],\n",
       "\n",
       "       [[0., 0.],\n",
       "        [0., 0.],\n",
       "        [0., 0.],\n",
       "        [0., 0.],\n",
       "        [0., 0.],\n",
       "        [0., 0.]],\n",
       "\n",
       "       [[0., 0.],\n",
       "        [0., 0.],\n",
       "        [0., 0.],\n",
       "        [0., 0.],\n",
       "        [0., 0.],\n",
       "        [0., 0.]]])</details></samp><samp style='font-size: 12px;'><details><summary><b style=\"color: #e55471;\">Tensor</b>(shape=(<b style=\"color: #a4de79;\">6</b>, <b style=\"color: #828fdd;\">2</b>), inds=[<b style=\"color: #9475e0;\">_a83bbaAAACp</b>, <b style=\"color: #7bcd9f;\">k8</b>], tags={<b style=\"color: #8a3dd8;\">I8</b>}),</summary>backend=<b style=\"color: #7fdd73;\">numpy</b>, dtype=<b style=\"color: #75d2c6;\">float64</b>, data=array([[0., 0.],\n",
       "       [0., 0.],\n",
       "       [0., 0.],\n",
       "       [0., 0.],\n",
       "       [0., 0.],\n",
       "       [0., 0.]])</details></samp></details></samp>"
      ],
      "text/plain": [
       "MatrixProductState(tensors=9, indices=17, L=9, max_bond=6)"
      ]
     },
     "execution_count": 46,
     "metadata": {},
     "output_type": "execute_result"
    }
   ],
   "source": [
    "qtn.MPS_zero_state(bond_dim=6, L=9)"
   ]
  },
  {
   "cell_type": "code",
   "execution_count": 47,
   "metadata": {},
   "outputs": [
    {
     "data": {
      "text/html": [
       "<samp style='font-size: 12px;'><details><summary><b style=\"color: #d75692;\">MatrixProductState</b>(tensors=9, indices=17, L=9, max_bond=6)</summary><samp style='font-size: 12px;'><details><summary><b style=\"color: #e55471;\">Tensor</b>(shape=(<b style=\"color: #a4de79;\">6</b>, <b style=\"color: #828fdd;\">2</b>), inds=[<b style=\"color: #c1e05f;\">_a83bbaAAACq</b>, <b style=\"color: #b1dc61;\">k0</b>], tags={<b style=\"color: #d2b137;\">I0</b>}),</summary>backend=<b style=\"color: #7fdd73;\">numpy</b>, dtype=<b style=\"color: #75d2c6;\">float64</b>, data=array([[ 0.72305484, -0.19271797],\n",
       "       [ 0.24953681, -0.28222251],\n",
       "       [ 0.10784018,  0.31734547],\n",
       "       [ 0.79103289,  0.19977851],\n",
       "       [ 0.12404787, -0.37518999],\n",
       "       [-0.2256696 , -0.05630538]])</details></samp><samp style='font-size: 12px;'><details><summary><b style=\"color: #e55471;\">Tensor</b>(shape=(<b style=\"color: #a4de79;\">6</b>, <b style=\"color: #a4de79;\">6</b>, <b style=\"color: #828fdd;\">2</b>), inds=[<b style=\"color: #c1e05f;\">_a83bbaAAACq</b>, <b style=\"color: #b9da3a;\">_a83bbaAAACr</b>, <b style=\"color: #8aa5db;\">k1</b>], tags={<b style=\"color: #d19b78;\">I1</b>}),</summary>backend=<b style=\"color: #7fdd73;\">numpy</b>, dtype=<b style=\"color: #75d2c6;\">float64</b>, data=array([[[-0.41844891, -0.10934303],\n",
       "        [ 0.24664428, -0.00713497],\n",
       "        [-0.11490684,  0.16984125],\n",
       "        [ 0.50687274, -0.1065876 ],\n",
       "        [-0.15594915,  0.06285265],\n",
       "        [ 0.11312537, -0.61412048]],\n",
       "\n",
       "       [[ 0.78066569,  0.27266239],\n",
       "        [ 0.31512181,  0.78947104],\n",
       "        [ 0.04076068, -0.28801237],\n",
       "        [ 0.20084921,  0.23380497],\n",
       "        [ 0.0812046 , -0.45880172],\n",
       "        [ 0.46297418, -0.40673609]],\n",
       "\n",
       "       [[ 0.23359876, -0.12431955],\n",
       "        [ 0.63296885, -0.3928977 ],\n",
       "        [ 0.01412009,  0.1893828 ],\n",
       "        [ 0.37574963,  0.11446255],\n",
       "        [-0.27386657,  0.25401168],\n",
       "        [-0.10873753, -0.26345269]],\n",
       "\n",
       "       [[ 0.34535341, -0.24897806],\n",
       "        [ 0.2623849 ,  0.32381511],\n",
       "        [-0.05998996, -0.3107309 ],\n",
       "        [ 0.19269785,  0.45597068],\n",
       "        [ 0.12383492, -0.19688848],\n",
       "        [ 0.19649974,  0.04544949]],\n",
       "\n",
       "       [[-0.39624151, -0.38962294],\n",
       "        [-0.19226921, -0.06512534],\n",
       "        [ 0.14964368, -0.08350955],\n",
       "        [ 0.42286978, -0.46272346],\n",
       "        [ 0.22691274,  0.0507758 ],\n",
       "        [-0.08633864,  0.2375227 ]],\n",
       "\n",
       "       [[-0.11625334, -0.28710816],\n",
       "        [-0.29643494,  0.11302026],\n",
       "        [-0.08659734, -0.38378816],\n",
       "        [-0.35795721, -0.06934785],\n",
       "        [-0.09100953, -0.34106002],\n",
       "        [ 0.24515279, -0.47143899]]])</details></samp><samp style='font-size: 12px;'><details><summary><b style=\"color: #e55471;\">Tensor</b>(shape=(<b style=\"color: #a4de79;\">6</b>, <b style=\"color: #a4de79;\">6</b>, <b style=\"color: #828fdd;\">2</b>), inds=[<b style=\"color: #b9da3a;\">_a83bbaAAACr</b>, <b style=\"color: #4aaece;\">_a83bbaAAACs</b>, <b style=\"color: #df546d;\">k2</b>], tags={<b style=\"color: #dd5dd7;\">I2</b>}),</summary>backend=<b style=\"color: #7fdd73;\">numpy</b>, dtype=<b style=\"color: #75d2c6;\">float64</b>, data=array([[[-0.11398619,  0.40714739],\n",
       "        [-0.26215401, -0.07743202],\n",
       "        [ 0.36511078, -0.36932696],\n",
       "        [ 0.26025514, -0.47249476],\n",
       "        [ 0.32702099,  0.13360725],\n",
       "        [ 0.12934302, -0.12027685]],\n",
       "\n",
       "       [[-0.02897209,  0.37983672],\n",
       "        [ 0.18222801,  0.7365724 ],\n",
       "        [-0.20215566, -0.15661326],\n",
       "        [-0.16278398,  0.00509255],\n",
       "        [-0.67606492,  0.71907691],\n",
       "        [-0.3303978 , -0.02921938]],\n",
       "\n",
       "       [[-0.31317157, -0.13776165],\n",
       "        [-0.41357429, -0.76969337],\n",
       "        [-0.1637051 , -0.14921468],\n",
       "        [ 0.55435098, -0.30689927],\n",
       "        [ 0.2645088 ,  0.27790139],\n",
       "        [-0.49871295,  0.29987574]],\n",
       "\n",
       "       [[-0.25205336, -0.01331541],\n",
       "        [-0.34681085,  0.24630945],\n",
       "        [-0.0530788 , -0.36794996],\n",
       "        [ 0.18855748,  0.11960701],\n",
       "        [-0.29103278, -0.10055461],\n",
       "        [ 0.25748776,  0.32620346]],\n",
       "\n",
       "       [[-0.3023393 ,  0.30614028],\n",
       "        [ 0.17961202,  0.06563064],\n",
       "        [ 0.53843177,  0.61126629],\n",
       "        [ 0.15985643, -0.57629397],\n",
       "        [ 0.28481063, -0.04550191],\n",
       "        [-0.0071895 ,  0.00355027]],\n",
       "\n",
       "       [[ 0.25433095,  0.03751224],\n",
       "        [ 0.15211037,  0.01289198],\n",
       "        [ 0.58719394, -0.20988216],\n",
       "        [-0.81674475,  0.2509678 ],\n",
       "        [ 0.36769654, -0.22509344],\n",
       "        [ 0.58772658,  0.54379851]]])</details></samp><samp style='font-size: 12px;'><details><summary><b style=\"color: #e55471;\">Tensor</b>(shape=(<b style=\"color: #a4de79;\">6</b>, <b style=\"color: #a4de79;\">6</b>, <b style=\"color: #828fdd;\">2</b>), inds=[<b style=\"color: #4aaece;\">_a83bbaAAACs</b>, <b style=\"color: #45df8a;\">_a83bbaAAACt</b>, <b style=\"color: #4c7be1;\">k3</b>], tags={<b style=\"color: #dd65d9;\">I3</b>}),</summary>backend=<b style=\"color: #7fdd73;\">numpy</b>, dtype=<b style=\"color: #75d2c6;\">float64</b>, data=array([[[-0.23344763, -0.59441487],\n",
       "        [ 0.28084322, -0.08257563],\n",
       "        [ 0.35469033, -0.16078694],\n",
       "        [ 0.2181991 , -0.1822003 ],\n",
       "        [ 0.30200491,  0.02511056],\n",
       "        [-0.2337479 , -0.05616507]],\n",
       "\n",
       "       [[ 0.04423494, -0.19185402],\n",
       "        [-0.16434557, -0.07101403],\n",
       "        [ 0.67977396, -0.13708097],\n",
       "        [-0.6740305 , -0.31774692],\n",
       "        [ 0.3348066 , -0.02714133],\n",
       "        [-0.09185173, -0.27913193]],\n",
       "\n",
       "       [[-0.12683651, -0.40152601],\n",
       "        [ 0.11368572, -0.04601855],\n",
       "        [-0.80200666, -0.04657872],\n",
       "        [ 0.14938285, -0.54033977],\n",
       "        [ 0.49151566,  0.23999746],\n",
       "        [-0.0430292 , -0.10962812]],\n",
       "\n",
       "       [[ 0.06403752, -0.08458723],\n",
       "        [-0.2161689 ,  0.23856104],\n",
       "        [-0.68635247, -0.35913425],\n",
       "        [-0.57336671, -0.0271976 ],\n",
       "        [ 0.24703233, -0.10283031],\n",
       "        [ 0.01817139,  0.54583424]],\n",
       "\n",
       "       [[-0.23144367, -0.02245972],\n",
       "        [ 0.39110276,  0.05179485],\n",
       "        [ 0.15042031, -0.02459934],\n",
       "        [-0.6021692 , -0.36450342],\n",
       "        [-0.37360976, -0.02151431],\n",
       "        [ 0.38592252, -0.17306057]],\n",
       "\n",
       "       [[ 0.38715936,  0.4554027 ],\n",
       "        [ 0.03365454,  0.09864468],\n",
       "        [-0.76540432,  0.12664331],\n",
       "        [ 0.19621632, -0.01654871],\n",
       "        [ 0.34243963,  0.65081921],\n",
       "        [ 0.48737455,  0.21208037]]])</details></samp><samp style='font-size: 12px;'><details><summary><b style=\"color: #e55471;\">Tensor</b>(shape=(<b style=\"color: #a4de79;\">6</b>, <b style=\"color: #a4de79;\">6</b>, <b style=\"color: #828fdd;\">2</b>), inds=[<b style=\"color: #45df8a;\">_a83bbaAAACt</b>, <b style=\"color: #da4f84;\">_a83bbaAAACu</b>, <b style=\"color: #462edc;\">k4</b>], tags={<b style=\"color: #998ad1;\">I4</b>}),</summary>backend=<b style=\"color: #7fdd73;\">numpy</b>, dtype=<b style=\"color: #75d2c6;\">float64</b>, data=array([[[ 0.07186108,  0.33453613],\n",
       "        [ 0.10402818,  0.1887165 ],\n",
       "        [-0.55793648, -0.02178658],\n",
       "        [-0.14040848, -0.74332899],\n",
       "        [-0.18100752, -0.4883051 ],\n",
       "        [ 0.47029815,  0.07171594]],\n",
       "\n",
       "       [[-0.25458254, -0.68887464],\n",
       "        [ 0.07952225, -0.4634101 ],\n",
       "        [-0.27442665, -0.43806337],\n",
       "        [-0.17815   , -0.01687412],\n",
       "        [ 0.05351434,  0.51150518],\n",
       "        [-0.52883374,  0.31385678]],\n",
       "\n",
       "       [[ 0.62967767,  0.09271234],\n",
       "        [ 0.03004032, -0.04158582],\n",
       "        [-0.01445628, -0.07628034],\n",
       "        [ 0.44894585,  0.20039692],\n",
       "        [ 0.00452997, -0.0723311 ],\n",
       "        [-0.34550867,  0.01399877]],\n",
       "\n",
       "       [[ 0.54224853,  0.36333856],\n",
       "        [ 0.52715331, -0.23765016],\n",
       "        [-0.35755292, -0.25399286],\n",
       "        [ 0.55441178, -0.4736339 ],\n",
       "        [ 0.16641998,  0.1922674 ],\n",
       "        [-0.17605607,  0.25660627]],\n",
       "\n",
       "       [[-0.23908897,  0.62428451],\n",
       "        [ 0.05030504, -0.13209291],\n",
       "        [ 0.14199785,  0.36125564],\n",
       "        [-0.17127203, -0.11568187],\n",
       "        [-0.13816209, -0.27505883],\n",
       "        [ 0.41810212,  0.28822186]],\n",
       "\n",
       "       [[ 0.02707269, -0.53529818],\n",
       "        [-0.33518652,  0.16647481],\n",
       "        [-0.38609792, -0.05629172],\n",
       "        [-0.05869168, -0.51725021],\n",
       "        [ 0.4048493 , -0.2704785 ],\n",
       "        [ 0.2935572 , -0.05936706]]])</details></samp><samp style='font-size: 12px;'><details><summary><b style=\"color: #e55471;\">Tensor</b>(shape=(<b style=\"color: #a4de79;\">6</b>, <b style=\"color: #a4de79;\">6</b>, <b style=\"color: #828fdd;\">2</b>), inds=[<b style=\"color: #da4f84;\">_a83bbaAAACu</b>, <b style=\"color: #4cd44d;\">_a83bbaAAACv</b>, <b style=\"color: #85dfdf;\">k5</b>], tags={<b style=\"color: #97dddc;\">I5</b>}),</summary>backend=<b style=\"color: #7fdd73;\">numpy</b>, dtype=<b style=\"color: #75d2c6;\">float64</b>, data=array([[[ 0.300594  ,  0.27865854],\n",
       "        [-0.36215816, -0.57002054],\n",
       "        [-0.36552586,  0.35734906],\n",
       "        [ 0.20893786, -0.19055406],\n",
       "        [ 0.10922706,  0.06184147],\n",
       "        [-0.83148793,  0.51912488]],\n",
       "\n",
       "       [[-0.08054014, -0.25225235],\n",
       "        [ 0.0079595 , -0.1367135 ],\n",
       "        [ 0.40254092, -0.08834313],\n",
       "        [-0.5349541 , -0.04186629],\n",
       "        [-0.0446849 , -0.33245239],\n",
       "        [ 0.60620564, -0.45990856]],\n",
       "\n",
       "       [[ 0.20131816, -0.13069153],\n",
       "        [ 0.14422115,  0.51339257],\n",
       "        [-0.40170826,  0.08293913],\n",
       "        [ 0.08387969,  0.49556271],\n",
       "        [-0.47800984,  0.46986868],\n",
       "        [-0.27941794, -0.17799241]],\n",
       "\n",
       "       [[ 0.48771377, -0.09199547],\n",
       "        [-0.83804328,  0.14137677],\n",
       "        [-0.69580855, -0.4833576 ],\n",
       "        [-0.50432824, -0.21926804],\n",
       "        [ 0.03905125,  0.1036552 ],\n",
       "        [-0.0731883 ,  0.16505613]],\n",
       "\n",
       "       [[-0.03268981, -0.59355529],\n",
       "        [ 0.1111351 , -0.08620229],\n",
       "        [-0.03182179,  0.51608585],\n",
       "        [ 0.11747993, -0.15921837],\n",
       "        [ 0.02031671, -0.21056151],\n",
       "        [ 0.15184456, -0.10693759]],\n",
       "\n",
       "       [[ 0.26941115,  0.08180687],\n",
       "        [-0.13522948,  0.45029777],\n",
       "        [-0.49898141,  0.77787807],\n",
       "        [ 0.20063164, -0.05917169],\n",
       "        [-0.21195002, -0.32275816],\n",
       "        [-0.08326462,  0.43713587]]])</details></samp><samp style='font-size: 12px;'><details><summary><b style=\"color: #e55471;\">Tensor</b>(shape=(<b style=\"color: #a4de79;\">6</b>, <b style=\"color: #a4de79;\">6</b>, <b style=\"color: #828fdd;\">2</b>), inds=[<b style=\"color: #4cd44d;\">_a83bbaAAACv</b>, <b style=\"color: #56e497;\">_a83bbaAAACw</b>, <b style=\"color: #2cb7d3;\">k6</b>], tags={<b style=\"color: #b2de5f;\">I6</b>}),</summary>backend=<b style=\"color: #7fdd73;\">numpy</b>, dtype=<b style=\"color: #75d2c6;\">float64</b>, data=array([[[-0.20340711, -0.28572775],\n",
       "        [ 0.121898  , -0.06659431],\n",
       "        [ 0.51808972,  0.04894999],\n",
       "        [-0.71988647,  0.39360524],\n",
       "        [-0.20748311, -0.26643319],\n",
       "        [-0.26893501,  0.28427567]],\n",
       "\n",
       "       [[-0.41427235, -0.15062198],\n",
       "        [-0.23492675,  0.13092231],\n",
       "        [ 0.01373134,  0.27044263],\n",
       "        [ 0.5184776 ,  0.0648833 ],\n",
       "        [-0.04260328,  0.1552616 ],\n",
       "        [-0.1482293 , -0.25402477]],\n",
       "\n",
       "       [[ 0.38852413,  0.37837983],\n",
       "        [-0.47259675,  1.03194775],\n",
       "        [-0.20208546,  0.5329242 ],\n",
       "        [-0.14734337,  0.21878099],\n",
       "        [-0.03517778, -0.08088581],\n",
       "        [ 0.00792557,  0.57221519]],\n",
       "\n",
       "       [[ 0.04296985,  0.0287474 ],\n",
       "        [ 0.26558097,  0.19525619],\n",
       "        [ 0.17640078,  0.30847648],\n",
       "        [ 0.38082561,  0.08251512],\n",
       "        [-0.43273217,  0.10562011],\n",
       "        [-0.1148912 ,  0.5665575 ]],\n",
       "\n",
       "       [[ 1.00916365,  0.03147787],\n",
       "        [ 0.15230989, -0.1536225 ],\n",
       "        [ 0.8571041 ,  0.65388937],\n",
       "        [-0.338653  , -0.33004912],\n",
       "        [ 0.18238163, -0.61123018],\n",
       "        [ 0.05633133,  0.48852343]],\n",
       "\n",
       "       [[ 0.02627067, -0.01740853],\n",
       "        [-0.26185538, -0.51569021],\n",
       "        [ 0.37510823,  0.71072692],\n",
       "        [ 0.31084631,  0.59626722],\n",
       "        [ 0.29426269, -0.11680503],\n",
       "        [ 0.38374717,  0.06616731]]])</details></samp><samp style='font-size: 12px;'><details><summary><b style=\"color: #e55471;\">Tensor</b>(shape=(<b style=\"color: #a4de79;\">6</b>, <b style=\"color: #a4de79;\">6</b>, <b style=\"color: #828fdd;\">2</b>), inds=[<b style=\"color: #56e497;\">_a83bbaAAACw</b>, <b style=\"color: #7bdfa5;\">_a83bbaAAACx</b>, <b style=\"color: #53e08f;\">k7</b>], tags={<b style=\"color: #5582d6;\">I7</b>}),</summary>backend=<b style=\"color: #7fdd73;\">numpy</b>, dtype=<b style=\"color: #75d2c6;\">float64</b>, data=array([[[ 0.5764411 ,  0.23133289],\n",
       "        [-0.16395815,  0.36542268],\n",
       "        [-0.14937051,  0.60333028],\n",
       "        [ 0.48629377, -0.03344644],\n",
       "        [-0.02758984, -0.099274  ],\n",
       "        [ 0.47085007, -0.26321232]],\n",
       "\n",
       "       [[-0.13817387,  0.44998521],\n",
       "        [ 0.03877597,  0.13109695],\n",
       "        [-0.24170173,  0.1320241 ],\n",
       "        [-0.34881862, -0.49291287],\n",
       "        [ 0.12306274,  0.50198338],\n",
       "        [ 0.00246851,  0.31529063]],\n",
       "\n",
       "       [[ 0.69840097, -0.15581591],\n",
       "        [ 0.06549743,  0.76897824],\n",
       "        [ 0.7256149 , -0.5484803 ],\n",
       "        [-0.7899879 ,  0.29161046],\n",
       "        [-0.21891529,  0.40011932],\n",
       "        [ 0.16460544, -0.41406809]],\n",
       "\n",
       "       [[ 0.04483194, -0.06717422],\n",
       "        [-0.32463488,  0.82850587],\n",
       "        [-0.08428425, -0.04113421],\n",
       "        [-0.59608533,  0.23497154],\n",
       "        [ 0.1972939 ,  0.18660841],\n",
       "        [ 0.51867875, -0.08324005]],\n",
       "\n",
       "       [[-0.44195586,  0.27270012],\n",
       "        [ 0.12420479,  0.34475416],\n",
       "        [ 0.23630397, -0.13770569],\n",
       "        [-0.24996903,  0.11726273],\n",
       "        [-0.56198493, -0.19313255],\n",
       "        [-0.47750503, -0.1468416 ]],\n",
       "\n",
       "       [[ 0.01758231,  0.14322712],\n",
       "        [-0.06298335, -0.23562171],\n",
       "        [-0.21155123, -0.45948832],\n",
       "        [ 0.26473853, -0.4545643 ],\n",
       "        [ 0.26976478,  0.10265828],\n",
       "        [-0.15639627, -0.5519494 ]]])</details></samp><samp style='font-size: 12px;'><details><summary><b style=\"color: #e55471;\">Tensor</b>(shape=(<b style=\"color: #a4de79;\">6</b>, <b style=\"color: #828fdd;\">2</b>), inds=[<b style=\"color: #7bdfa5;\">_a83bbaAAACx</b>, <b style=\"color: #7bcd9f;\">k8</b>], tags={<b style=\"color: #8a3dd8;\">I8</b>}),</summary>backend=<b style=\"color: #7fdd73;\">numpy</b>, dtype=<b style=\"color: #75d2c6;\">float64</b>, data=array([[ 0.12890758,  0.12638385],\n",
       "       [ 0.06010864, -0.19563075],\n",
       "       [ 0.05449797, -0.08903733],\n",
       "       [ 0.17570036, -0.04865889],\n",
       "       [ 0.04010581, -0.08078642],\n",
       "       [ 0.04435175,  0.34671947]])</details></samp></details></samp>"
      ],
      "text/plain": [
       "MatrixProductState(tensors=9, indices=17, L=9, max_bond=6)"
      ]
     },
     "execution_count": 47,
     "metadata": {},
     "output_type": "execute_result"
    }
   ],
   "source": [
    "qtn.MPS_rand_state(L=9, bond_dim=6)"
   ]
  }
 ],
 "metadata": {
  "kernelspec": {
   "display_name": "PennyLane",
   "language": "python",
   "name": "python3"
  },
  "language_info": {
   "codemirror_mode": {
    "name": "ipython",
    "version": 3
   },
   "file_extension": ".py",
   "mimetype": "text/x-python",
   "name": "python",
   "nbconvert_exporter": "python",
   "pygments_lexer": "ipython3",
   "version": "3.9.7"
  }
 },
 "nbformat": 4,
 "nbformat_minor": 2
}
